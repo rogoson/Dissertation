{
 "cells": [
  {
   "cell_type": "markdown",
   "metadata": {},
   "source": [
    "## 1. Collect Basic Data"
   ]
  },
  {
   "cell_type": "markdown",
   "metadata": {},
   "source": [
    "### Retrieve CryptoCurrency Market Data ###"
   ]
  },
  {
   "cell_type": "code",
   "execution_count": 1,
   "metadata": {},
   "outputs": [],
   "source": [
    "import pandas as pd\n",
    "import yfinance as yf\n",
    "from functools import reduce\n",
    "import requests\n",
    "import time\n",
    "import numpy as np\n",
    "from datetime import datetime, timedelta\n",
    "import matplotlib.pyplot as plt\n",
    "\n",
    "\n",
    "CRYPTO = False\n",
    "\n",
    "# Crypto Details\n",
    "cryptoProducts = [\"ETH-USD\", \"USDT-USD\", \"BTC-USD\"]\n",
    "availableGranularities = dict(zip([\"1M\", \"5M\", \"15M\", \"1H\", \"6H\", \"1D\"], [60, 300, 900, 3600, 21600, 86400]))\n",
    "\n",
    "# Stock Details\n",
    "dowTickers = [\"AAPL\", \"MSFT\", \"GOOGL\", \"TSLA\", \"AMZN\", \"NVDA\"]  \n",
    "sse50Tickers = [\"600519.SS\", \"601318.SS\", \"601857.SS\", \"600036.SS\", \"600016.SS\", \"600000.SS\"]  \n",
    "sensexTickers = [\"RELIANCE.BO\", \"TCS.BO\", \"INFY.BO\", \"ICICIBANK.BO\", \"SBIN.BO\", \"HINDUNILVR.BO\"] \n",
    "ftse100Tickers = [\"HSBA.L\", \"BP.L\", \"GSK.L\", \"SHEL.L\", \"BATS.L\", \"ULVR.L\"]  \n",
    "period = \"1D\"\n",
    "indexProducts = dowTickers + sse50Tickers + sensexTickers + ftse100Tickers\n",
    "productIds = indexProducts\n",
    "\n",
    "if CRYPTO:\n",
    "    productIds = cryptoProducts\n",
    "    period = \"6H\"\n",
    "    granularity = availableGranularities[period]\n",
    "    API_THRESHOLD = 300 #Can only get 300 periods at a time from API\n",
    "    PERIODS_WANTED = 2500\n",
    "\n",
    "# not a chance\n",
    "def retrieveCryptoData(productID, granularity, daysBack, endTime):\n",
    "    API_URL = f\"https://api.exchange.coinbase.com/products/{productID}/candles\"\n",
    "    daysBackDaysAgo = timedelta(days=daysBack)\n",
    "    startTime = datetime.fromisoformat(endTime) - (granularity/86400) * daysBackDaysAgo\n",
    "\n",
    "    # Convert to isoformat\n",
    "    startTime = startTime.isoformat()\n",
    "\n",
    "    # Set Request Parameters\n",
    "    parameters = {\n",
    "        \"start\" : startTime,\n",
    "        \"end\" : endTime,\n",
    "        \"granularity\" : str(granularity)\n",
    "    }\n",
    "\n",
    "    # Actually get data\n",
    "    data = requests.get(API_URL, params = parameters, headers = {\"content-type\":\"application/json\"})\n",
    "    df = pd.DataFrame(data.json(), columns=[\"time\", \"low\", \"high\", \"open\", \"close\", \"volume\"])\n",
    "    return df\n",
    "\n",
    "\n",
    "def retrieveIndexData(ticker):\n",
    "    # Define date range\n",
    "    startDate = \"2009-01-01\"\n",
    "    endDate = \"2020-08-05\"\n",
    "\n",
    "    ohlcData = {}\n",
    "    try:\n",
    "        stockData = yf.download(ticker, start=startDate, end=endDate)\n",
    "        ohlcData[ticker] = stockData[[\"Low\", \"High\", \"Open\", \"Close\", \"Volume\"]]\n",
    "    except Exception as e:\n",
    "        print(f\"Error fetching data for {ticker}: {e}\")\n",
    "\n",
    "    dfOhlc = pd.concat(ohlcData, axis=1)\n",
    "    return dfOhlc\n",
    "\n",
    "\n",
    "dataframes = dict()\n",
    "RETRIEVE_DATA = False\n",
    "\n",
    "if RETRIEVE_DATA:\n",
    "    for productId in productIds:\n",
    "        if CRYPTO:\n",
    "            # Fetch PERIODS_WANTED periods of data\n",
    "            end = (datetime.now()).isoformat()\n",
    "            for batch in range(PERIODS_WANTED // API_THRESHOLD  + 1):\n",
    "                amountToFetch = PERIODS_WANTED % API_THRESHOLD if batch == PERIODS_WANTED // API_THRESHOLD else API_THRESHOLD\n",
    "                tempDF = retrieveCryptoData(productId, granularity, amountToFetch, end)\n",
    "                timeInSeconds = (tempDF['time'].values)[-1]\n",
    "                dt = datetime.fromtimestamp(timeInSeconds - granularity)\n",
    "                end = dt.isoformat() + 'Z'\n",
    "                value = dataframes.get(productId)\n",
    "                if productId not in dataframes:\n",
    "                    dataframes[productId] = tempDF[::-1]\n",
    "                else:\n",
    "                    dataframes[productId] = pd.concat([tempDF[::-1], dataframes[productId]])\n",
    "        else:\n",
    "            dataframe = retrieveIndexData(ticker=productId)\n",
    "            columnNames = [value[1].lower() for value in list(dataframe.columns.values)]\n",
    "            dataframe.columns = columnNames\n",
    "            dataframes[productId] = dataframe\n",
    "   \n",
    "# Required for index data that pull stock data from different exchanges\n",
    "def commonaliseData(data):\n",
    "    commonDates = reduce(lambda x, y: x.intersection(y), [df.index for df in data.values()])\n",
    "    for ticker, df in data.items():\n",
    "        data[ticker] = df.reindex(commonDates)\n",
    "        data[ticker][\"Times\"] = commonDates\n",
    "    data = {ticker: df.dropna() for ticker, df in data.items()}\n",
    "    PERIODS_WANTED = data.get(indexProducts[0]).shape[0]\n",
    "    return data\n",
    "\n",
    "if not CRYPTO and RETRIEVE_DATA:\n",
    "    dataframes = commonaliseData(dataframes)"
   ]
  },
  {
   "cell_type": "code",
   "execution_count": 2,
   "metadata": {},
   "outputs": [],
   "source": [
    "TEST_CORRECT_ORDER = False\n",
    "\n",
    "if TEST_CORRECT_ORDER:\n",
    "    testTime = dataframes[productIds[0]]['time'].values\n",
    "    testTime -= testTime[0]\n",
    "    plt.figure(figsize=(10, 6))\n",
    "    plt.plot(testTime, color=\"blue\")\n",
    "    plt.title(f\"Test Correct Order\")\n",
    "    plt.xlabel(\"Time\")\n",
    "    plt.ylabel(\"Price\")\n",
    "    plt.show()"
   ]
  },
  {
   "cell_type": "markdown",
   "metadata": {},
   "source": [
    "## 2. Augment State Space (add indicators)"
   ]
  },
  {
   "cell_type": "markdown",
   "metadata": {},
   "source": [
    "### Indicator 1: Exponential Moving Average ###"
   ]
  },
  {
   "cell_type": "code",
   "execution_count": 3,
   "metadata": {},
   "outputs": [],
   "source": [
    "import matplotlib.pyplot as plt\n",
    "\n",
    "def EMA(array, N):\n",
    "    \"\"\"\n",
    "    EMA_t = (Price_t * α) + (EMA_(t-1) * (1 - α))\n",
    "    where:\n",
    "    EMA_t = Exponential Moving Average at time t\n",
    "    Price_t = Price at time t\n",
    "    α (alpha) = Smoothing factor, calculated as 2 / (N + 1)\n",
    "    N = Number of periods\n",
    "    \"\"\"\n",
    "    smoothingParameter = 2/(N + 1)\n",
    "    finalArray = [array[0]]\n",
    "    for i in range(1, len(array)):\n",
    "        finalArray.append(array[i] * smoothingParameter + finalArray[i-1] * (1 - smoothingParameter))\n",
    "    return np.array(finalArray)\n",
    "\n",
    "# expMA = EMA(closingPrices, t)\n",
    "# plt.figure(figsize=(10, 6))\n",
    "# plt.plot(expMA, label=f\"Exponential Moving Average: T={t}\", color=\"red\")\n",
    "# plt.plot(closingPrices, label=\"Actual Closing Prices\", color=\"blue\")\n",
    "# plt.title(f\"Price Data\")\n",
    "# plt.xlabel(\"Time\")\n",
    "# plt.ylabel(\"Price\")\n",
    "# plt.legend()\n",
    "# plt.show()"
   ]
  },
  {
   "cell_type": "markdown",
   "metadata": {},
   "source": [
    "### Indicator 2: Momemtum"
   ]
  },
  {
   "cell_type": "code",
   "execution_count": 4,
   "metadata": {},
   "outputs": [],
   "source": [
    "def Momentum(array):\n",
    "    # Percentage Change in Price/Time\n",
    "    momentumArray = [(array[i] - array[i-1]) /array[i-1] for i in range(1, len(array))]\n",
    "    momentumArray.insert(0, np.nan)\n",
    "    return np.array(momentumArray)\n",
    "\n",
    "# momentum = Momentum(closingPrices)\n",
    "# plt.figure(figsize=(10, 6))\n",
    "# plt.plot(momentum*100, color=\"green\")\n",
    "# plt.title(f\"Momentum Data (as %)\")\n",
    "# plt.xlabel(\"Time\")\n",
    "# plt.ylabel(\"Momentum\")\n",
    "# plt.legend()\n",
    "# plt.show()"
   ]
  },
  {
   "cell_type": "markdown",
   "metadata": {},
   "source": [
    "### Indicator 3: Average True Range"
   ]
  },
  {
   "cell_type": "code",
   "execution_count": 5,
   "metadata": {},
   "outputs": [],
   "source": [
    "\n",
    "def trueRange(high, low, close):\n",
    "    # TR = Max[(H - L), |H - C|, |L - C|\n",
    "    closing = np.insert(close, 0, np.nan, axis=0)[:len(close)]\n",
    "    return np.maximum(high - low, np.abs(high - closing), np.abs(low - closing))\n",
    "\n",
    "def averageTrueRange(high, low, close, n=14):\n",
    "    trueRanges = trueRange(high, low, close)\n",
    "    atr = np.empty_like(trueRanges)\n",
    "    atr[:n] = np.nan  # First n values are NaN\n",
    "    atr[n-1] = np.mean(trueRanges[:n])  # Initial ATR value (simple average of the first n TRs)\n",
    "    for i in range(n+1, len(trueRanges)):\n",
    "        atr[i] = (atr[i-1] * (n - 1) + trueRanges[i]) / n\n",
    "    return atr\n",
    "\n",
    "# aTRIndicator = averageTrueRange(highs, lows, closingPrices)\n",
    "# plt.figure(figsize=(10, 6))\n",
    "# plt.plot(aTRIndicator, color=\"Brown\")\n",
    "# plt.title(f\"Average True Range over Time\")\n",
    "# plt.xlabel(\"Time\")\n",
    "# plt.ylabel(\"Average True Range\")\n",
    "# plt.legend()\n",
    "# plt.show()"
   ]
  },
  {
   "cell_type": "markdown",
   "metadata": {},
   "source": [
    "### Indicator 4: Commodity Channel Index"
   ]
  },
  {
   "cell_type": "code",
   "execution_count": 6,
   "metadata": {},
   "outputs": [],
   "source": [
    "def commodityChannelIndex(high, low, close, n=20):\n",
    "    # (Typical Price - 20_Day Moving Average) / .015 x Mean Deviation\n",
    "    typicalPrices = (high + low + close) / 3\n",
    "    \n",
    "    movingAverage = np.full_like(high, np.nan)\n",
    "    meanDeviation = np.full_like(high, np.nan)\n",
    "    \n",
    "    for i in range(n, len(typicalPrices)):\n",
    "        movingAverage[i] = np.mean(typicalPrices[i-n:i])\n",
    "        meanDeviation[i] = np.mean(np.abs(typicalPrices[i-n:i] - movingAverage[i]))\n",
    "    \n",
    "    cci = np.full_like(high, np.nan, dtype=np.float64)\n",
    "\n",
    "    numerator = typicalPrices[n:] - movingAverage[n:]\n",
    "    denominator = 0.015 * meanDeviation[n:]\n",
    "    result = np.empty_like(numerator)\n",
    "\n",
    "    np.divide(numerator, denominator, out=result, where=(denominator != 0))\n",
    "    # a little hacky...\n",
    "    result[denominator == 0] = 0\n",
    "\n",
    "    cci[n:] = result\n",
    "    return cci\n",
    "\n",
    "# # CCI = commodityChannelIndex(highs, lows, closingPrices)\n",
    "# # plt.figure(figsize=(10, 6))\n",
    "# # plt.plot(CCI, color=\"black\")\n",
    "# # plt.title(f\"Commodity Channel Index over Time\")\n",
    "# # plt.xlabel(\"Time\")\n",
    "# # plt.ylabel(\"Commodity Channel Index\")\n",
    "# # plt.legend()\n",
    "# # plt.show()"
   ]
  },
  {
   "cell_type": "markdown",
   "metadata": {},
   "source": [
    "### Indicator 5: MACD"
   ]
  },
  {
   "cell_type": "code",
   "execution_count": 7,
   "metadata": {},
   "outputs": [],
   "source": [
    "\"\"\"\n",
    "MACD = 12-day EMA - 26-day EMA\n",
    "Signal Line = 9-day EMA of MACD\n",
    "MACD Histogram = MACD - Signal Line\n",
    "where EMA stands for Exponential Moving Average\n",
    "\"\"\"\n",
    "\n",
    "def MACD(array):\n",
    "    return EMA(array, 12) - EMA(array, 26)\n",
    "\n",
    "def MACDSignal(array):\n",
    "    return EMA(MACD(array), 9)\n",
    "\n",
    "MACDHistogram = lambda x : MACD(x) - MACDSignal(x)\n",
    "\n",
    "# mACD = MACD(closingPrices)\n",
    "# signalLine = MACDSignal(closingPrices)\n",
    "# macdHistogram = MACDHistogram(mACD, signalLine)\n",
    "\n",
    "# plt.figure(figsize=(10, 6))\n",
    "# plt.plot(mACD, color=\"blue\", label = \"MACD Line\")\n",
    "# plt.plot(signalLine, color = \"red\", label = \"Signal Line\")\n",
    "# plt.plot(macdHistogram, color = \"black\", label = \"Histogram\")\n",
    "# plt.title(f\"Moving Average Convergence-Divergence\")\n",
    "# plt.xlabel(\"Time\")\n",
    "# plt.ylabel(\"MACD\")\n",
    "# plt.legend()\n",
    "# plt.show()"
   ]
  },
  {
   "cell_type": "markdown",
   "metadata": {},
   "source": [
    "## 3. Collate All Features Into DataFrame"
   ]
  },
  {
   "cell_type": "code",
   "execution_count": 8,
   "metadata": {},
   "outputs": [],
   "source": [
    "import os\n",
    "\n",
    "CCI_T, ATR_T = 20, 14\n",
    "if RETRIEVE_DATA:\n",
    "    for product in productIds:\n",
    "        df = dataframes[product]\n",
    "        close = df[\"close\"].values\n",
    "        highs = df[\"high\"].values\n",
    "        lows = df[\"low\"].values\n",
    "        df['E_M_A'] = EMA(close, N=30)\n",
    "        df['Momentum'] = Momentum(close)\n",
    "        df['Av_True_Range'] = averageTrueRange(highs, lows, close, 14)\n",
    "        df['CCI'] = commodityChannelIndex(highs, lows, close, 20)\n",
    "        df['MACDHist'] = MACDHistogram(close)\n",
    "        df[\"Return\"] = df[\"close\"].pct_change().fillna(0)\n",
    "        # Reset Indexes\n",
    "        df = df.drop(columns=['open', 'high', 'volume', 'low'])\n",
    "        df = df.iloc[max(ATR_T, CCI_T):]\n",
    "        df = df.reset_index(drop=True)\n",
    "        dataframes[product] = df\n",
    "        if not os.path.exists(\"CSVs/\"):\n",
    "            os.makedirs(\"CSVs/\")\n",
    "        df.to_csv(f\"CSVs/{product}_{period}_periods.csv\", sep='\\t')\n",
    "else:\n",
    "    for productId in productIds:\n",
    "        df = pd.read_csv(f\"CSVs/{productId}_{period}_periods.csv\", sep='\\t')\n",
    "        dataframes[productId] = df.iloc[:, 1:]  # Drops the first column\n",
    "\n",
    "times = None\n",
    "if not CRYPTO:\n",
    "    for product in productIds:\n",
    "        df = dataframes[product]\n",
    "        times = df['Times']\n",
    "        dataframes[product] = df.drop('Times', axis=1)"
   ]
  },
  {
   "cell_type": "markdown",
   "metadata": {},
   "source": [
    "## 4. Environment and Training Process"
   ]
  },
  {
   "cell_type": "markdown",
   "metadata": {},
   "source": [
    "### Comparison Strategies"
   ]
  },
  {
   "cell_type": "code",
   "execution_count": 9,
   "metadata": {},
   "outputs": [],
   "source": [
    "sse50BuyAndHold =  np.array([0] + [1/len(sse50Tickers) if i in sse50Tickers else 0 for i in productIds])\n",
    "sensexBuyAndHold = np.array([0] + [1/len(sensexTickers) if i in sensexTickers else 0 for i in productIds])\n",
    "ftse100BuyAndHold = np.array([0] + [1/len(ftse100Tickers) if i in ftse100Tickers else 0 for i in productIds])\n",
    "dowBuyAndHold = np.array([0] + [1/len(dowTickers) if i in dowTickers else 0 for i in productIds])\n",
    "buyAndHoldAll = np.array([0] + [1/(len(productIds)) for i in productIds])\n",
    "\n",
    "#Non\n",
    "NON_RL_COMPARISON_STRATEGIES = {\n",
    "    \"SSEBuyAndHold\" : sse50BuyAndHold,\n",
    "    \"SENSEXBuyAndHold\" : sensexBuyAndHold,\n",
    "    \"FTSEBuyAndHold\" : ftse100BuyAndHold,\n",
    "    \"DOWBuyAndHold\" : dowBuyAndHold,\n",
    "    \"BuyAndHoldAll\" : buyAndHoldAll\n",
    "}"
   ]
  },
  {
   "cell_type": "markdown",
   "metadata": {},
   "source": [
    "### Hyperparameters (most of them)"
   ]
  },
  {
   "cell_type": "code",
   "execution_count": null,
   "metadata": {},
   "outputs": [],
   "source": [
    "from collections import defaultdict\n",
    "\n",
    "\n",
    "NUMBER_OF_ASSETS = len(productIds)\n",
    "NUMBER_OF_FEATURES = 1 + (len((list(dataframes.values())[0]).columns)) * len(productIds)\n",
    "if not CRYPTO:\n",
    "    PERIODS_WANTED = list(dataframes.values())[0].shape[0]\n",
    "EXPERIMENTS = 2\n",
    "TRAINING_PERIODS = int(PERIODS_WANTED / EXPERIMENTS) # will probably have to change this to times\n",
    "TIME_WINDOW = 30\n",
    "LEARNING_FREQUENCIES = (TRAINING_PERIODS / np.array([10, 20, 30, 40, 50])).astype(int)\n",
    "START_CASH = 1000000\n",
    "LSTMHIDDENSIZE = 128\n",
    "AGENT_RISK_AVERSIONS = np.array([0.25, 0.5, 1, 1.5, 2]) #i know, this probably shouldn't go here\n",
    "STRATEGIES = [\"PPOLSTM\"]#]#, \"TD3\"] #td3 requires debugging - dont run\n",
    "BASELINES = [\"RANDOM\"]\n",
    "FINAL_STRATEGIES = STRATEGIES + [\"SSEBuyAndHold\", \"SENSEXBuyAndHold\", \"FTSEBuyAndHold\", \"DOWBuyAndHold\", \"BuyAndHoldAll\"]\n",
    "REPEATS = 10 # Computational Limitations\n",
    "LSTMOUTPUTSIZES = [64, 128, 256, 512, 1024]\n",
    "STARTS = [0] + [i *  TRAINING_PERIODS + -TIME_WINDOW for i in range(1, EXPERIMENTS)]\n",
    "PORTFOLIO_TRAJECTORIES = []\n",
    "REWARD_FUNCTIONS = [\"Standard Logarithmic Returns\" ,\"Differential Sharpe Ratio_0.01\", \"Differential Sharpe Ratio_0.05\", \"Differential Sharpe Ratio_0.1\", \"CVaR\"]\n",
    "# NUMBER_OF_PARALLEL_ENVIRONMENTS = [0, 1, 2, 3, 4]\n",
    "LEARNING_RATES = [1e-4, 3e-4, 5e-4, 7e-4]\n",
    "RL_STRATS = [\"PPOLSTM\"]#, \"TD3\"]\n",
    "averagePerformance = defaultdict(list)\n",
    "allResults = defaultdict(list)"
   ]
  },
  {
   "cell_type": "code",
   "execution_count": 11,
   "metadata": {},
   "outputs": [],
   "source": [
    "# Thing being tested\n",
    "TESTING = {\n",
    "    \"RISK AVERSION\" : False,\n",
    "    \"LSTM OUTPUT SIZE\" : False,\n",
    "    \"REWARD FUNCTION\" : False,\n",
    "    \"LEARNING FREQUENCY\": False, \n",
    "    # \"PARALLEL ENVIRONMENTS\" : False, \n",
    "    \"LEARNING RATE\": False,\n",
    "}"
   ]
  },
  {
   "cell_type": "markdown",
   "metadata": {},
   "source": [
    "#### Some helper functions for metrics"
   ]
  },
  {
   "cell_type": "code",
   "execution_count": 12,
   "metadata": {},
   "outputs": [],
   "source": [
    "from utils import tabulate_neatly\n",
    "\n",
    "def printConfiguration(agent=None, freq=None):\n",
    "    table = [[\"LSTM Hidden Size\", \"LSTM Output Size\", \"Learning Frequency\", \"Agent Risk Aversion\"]]\n",
    "    table.append([LSTMHIDDENSIZE, agent.state_n, freq, agent.riskAversion])\n",
    "    tabulate_neatly(table, headers=\"firstrow\", title=f\"Configuration:\")\n",
    "\n",
    "def plotAllocations(allocations, title=None):\n",
    "    categories = ['Cash'] + productIds\n",
    "    plt.figure(figsize=(20,5))\n",
    "    plt.bar(categories, allocations)\n",
    "    plt.xlabel('Allocations')\n",
    "    plt.tick_params(axis='x', labelsize=6)\n",
    "    plt.ylabel('Proportion Allocated')\n",
    "    plt.title('Allocations' if title == None else title)\n",
    "    plt.show()\n",
    "\n",
    "def generateConfigLabel(strategy, agent, episode, rewardFunction, freq, parr, lr):\n",
    "    firstTag = f\"Strategy-{strategy}\" \n",
    "    lastTag = f\"Experiment {episode + 1}\"\n",
    "    innerTag = None\n",
    "    boole = (strategy not in NON_RL_COMPARISON_STRATEGIES.keys() and strategy != \"RANDOM\")\n",
    "    if TESTING[\"RISK AVERSION\"]:\n",
    "        innerTag = (f\"Risk Aversion-{agent.riskAversion}\" if boole else \"\")\n",
    "    elif TESTING[\"LSTM OUTPUT SIZE\"]:\n",
    "        innerTag = (f\"LSTM Output Size-{agent.state_n}\" if boole else \"\")\n",
    "    elif TESTING[\"REWARD FUNCTION\"]:  \n",
    "        innerTag = (f\"Reward Function-{rewardFunction}\" if boole else \"\")\n",
    "    elif TESTING[\"LEARNING FREQUENCY\"]:  \n",
    "        innerTag = (f\"Learning Frequency-{freq}\" if boole else \"\")\n",
    "    # elif TESTING[\"PARALLEL ENVIRONMENTS\"]:  \n",
    "    #     innerTag = (f\"Parallel Environments-{parr}\" if boole else \"\")\n",
    "    elif TESTING[\"LEARNING RATE\"]:  \n",
    "        innerTag = (f\"Learning Rate-{lr}\" if boole else \"\")\n",
    "    \n",
    "    if any(TESTING.values()) and boole:\n",
    "        firstTag, innerTag = innerTag, firstTag\n",
    "    return firstTag + \" | \" +  innerTag + \" | \" + lastTag\n"
   ]
  },
  {
   "cell_type": "markdown",
   "metadata": {},
   "source": [
    "### Actual Training"
   ]
  },
  {
   "cell_type": "code",
   "execution_count": 13,
   "metadata": {},
   "outputs": [],
   "source": [
    "from PPO import PPOAgent\n",
    "from TD3 import TD3Agent\n",
    "\n",
    "def generateAgent(strat, lstmOutputSize, riskAversion, lr):\n",
    "    if strat == \"TD3\":\n",
    "        return TD3Agent(\n",
    "                state_n=lstmOutputSize,\n",
    "                actions_n=len(productIds) + 1,\n",
    "                alpha=lr,\n",
    "                beta=0.001,\n",
    "                gamma=0.99,\n",
    "                tau=0.005,\n",
    "                lstmHiddenSize = LSTMHIDDENSIZE,\n",
    "                actor_noise=0.01,\n",
    "                target_noise=0.01,\n",
    "                env=None,\n",
    "                batch_size=128,\n",
    "                fc1_n=512,\n",
    "                fc2_n=384,\n",
    "                riskAversion=riskAversion,\n",
    "            )\n",
    "    elif strat == \"PPOLSTM\":\n",
    "        return PPOAgent( \n",
    "                        state_n=lstmOutputSize, \n",
    "                        actions_n=len(productIds) + 1,\n",
    "                        alpha=lr,\n",
    "                        policyClip = 0.2,\n",
    "                        gamma=0.99,\n",
    "                        lstmHiddenSize=LSTMHIDDENSIZE,\n",
    "                        actor_noise=0,\n",
    "                        batch_size=512,\n",
    "                        fc1_n=128,\n",
    "                        fc2_n=128,\n",
    "                        gaeLambda=0.98,\n",
    "                        epochs=10,\n",
    "                        riskAversion=riskAversion,\n",
    "                    )"
   ]
  },
  {
   "cell_type": "code",
   "execution_count": 14,
   "metadata": {},
   "outputs": [],
   "source": [
    "import torch\n",
    "from PPO import PPOAgent\n",
    "from TD3 import TD3Agent\n",
    "from LstmFeatureExtractor import LstmFeatureExtractor\n",
    "from TimeSeriesEnvironment import TimeSeriesEnvironment\n",
    "from scipy.special import softmax\n",
    "import numpy as np\n",
    "\n",
    "#Please ignore everything with respect to parallel environments - I coded that wrong.\n",
    "\n",
    "def initializeEnvironments(start, parr, rewardFunction, riskAversion, strategy):\n",
    "    primaryEnvironment = TimeSeriesEnvironment(dataframes, start, TIME_WINDOW, TRAINING_PERIODS, START_CASH, riskAversion, 2.5e-4)\n",
    "    # parallelEnvironments = [\n",
    "    #     TimeSeriesEnvironment(dataframes, start, TIME_WINDOW, TRAINING_PERIODS, START_CASH, riskAversion, 2.5e-4)\n",
    "    #     for _ in range(parr)\n",
    "    # ]\n",
    "    primaryEnvironment.TD3 = strategy == \"TD3\"\n",
    "    # for parallel in parallelEnvironments:\n",
    "    #     parallel.TD3 = strategy == \"TD3\"\n",
    "    if \"Differential\" in rewardFunction:\n",
    "        decay = float(rewardFunction.split(\"_\")[1])\n",
    "        primaryEnvironment.decayRate = decay\n",
    "        # for env in parallelEnvironments:\n",
    "        #     env.decayRate = decay\n",
    "    return primaryEnvironment#, parallelEnvironments\n",
    "\n",
    "def storeExperiences(agent, data, outputs, reward, done, strategy, parr, action, prob, val, next):\n",
    "        if strategy == \"PPOLSTM\":\n",
    "            agent.store(data, action, prob.squeeze(), val.squeeze(), reward, done)\n",
    "            # for i in range(parr):\n",
    "            #     agent.store(\n",
    "            #         data,\n",
    "            #         outputs[\"actions\"][i],\n",
    "            #         outputs[\"probabilities\"][i].squeeze(),\n",
    "            #         outputs[\"valuations\"][i].squeeze(),\n",
    "            #         float(outputs[\"rewards\"][i]),\n",
    "            #         bool(outputs[\"dones\"][i])\n",
    "            #     )\n",
    "        elif strategy == \"TD3\":\n",
    "            agent.store(\n",
    "                data,\n",
    "                action,\n",
    "                reward,\n",
    "                next, \n",
    "                done,\n",
    "            )\n",
    "            # for i in range(parr):\n",
    "            #     agent.store(\n",
    "            #         data,\n",
    "            #         outputs[\"actions\"][i],\n",
    "            #         float(outputs[\"rewards\"][i]),\n",
    "            #         next,\n",
    "            #         bool(outputs[\"dones\"][i])\n",
    "            #     )\n",
    "\n",
    "\n",
    "def warmUpEnvironment(environment, strategy, parallelEnvironments, rewardFunction):\n",
    "    \"\"\"\n",
    "    'warm up' primaryEnvironmentironment until there's enough data to calculate CVaR\n",
    "    \"\"\"\n",
    "    for _ in range(TIME_WINDOW):\n",
    "        allocations = np.random.normal(scale=1, size=len(productIds))\n",
    "        allocations = np.insert(allocations, 0, 1)\n",
    "        environment.step(softmax(allocations), False, rewardMethod=rewardFunction)\n",
    "        # if strategy in RL_STRATS:\n",
    "        #     for parallel in parallelEnvironments:\n",
    "        #         parallel.step(softmax(allocations), False, rewardMethod=rewardFunction)\n",
    "    environment.setIsReady(True)\n",
    "    # if strategy in RL_STRATS:\n",
    "    #     for parallel in parallelEnvironments:\n",
    "    #         parallel.setIsReady(True)\n",
    "    #         parallel.TD3 = strategy == \"TD3\"\n",
    "\n",
    "def trainingLoop(riskAversion=0, lstmOutputSize=512, rewardFunction=\"CVaR\", freq=int(TRAINING_PERIODS / 25), parr=0, lr=3e-4, expers = None, conf = None):\n",
    "    for repeat in range(REPEATS):\n",
    "        torch.manual_seed(repeat)\n",
    "        np.random.seed(repeat)\n",
    "        for strategy in STRATEGIES:\n",
    "            if repeat > 0 and strategy not in (RL_STRATS + [\"RANDOM\"]):\n",
    "                continue\n",
    "            \n",
    "            LB, UB = 0, EXPERIMENTS\n",
    "            if expers != None:\n",
    "                LB, UB = expers[0], expers[1]\n",
    "            for episode in range(LB, UB, 1):\n",
    "                start = episode * TRAINING_PERIODS + (0 if episode == 0 else -TIME_WINDOW)\n",
    "                featureExtractor = LstmFeatureExtractor(TIME_WINDOW, NUMBER_OF_FEATURES, 128, lstmOutputSize)\n",
    "                agent = generateAgent(strategy, lstmOutputSize, riskAversion, lr)\n",
    "                primaryEnvironment = initializeEnvironments(start, parr, rewardFunction, riskAversion, strategy)\n",
    "                primaryEnvironment.reset()\n",
    "                done, doNothing = False, False\n",
    "\n",
    "                while not done:\n",
    "                    if not primaryEnvironment.getIsReady():\n",
    "                        warmUpEnvironment(primaryEnvironment, strategy, None, rewardFunction)\n",
    "                        continue\n",
    "\n",
    "                    readyToStartTrading = (primaryEnvironment.timeStep) / TRAINING_PERIODS >= 2 / 3\n",
    "                    observation, outputs = None, None\n",
    "\n",
    "                    if strategy in RL_STRATS:\n",
    "                        data = primaryEnvironment.getData()\n",
    "                        observation = featureExtractor.forward(torch.tensor(data, dtype=torch.float32).unsqueeze(0))\n",
    "                        if strategy == \"PPOLSTM\":\n",
    "                            outputs = {\n",
    "                                \"actions\": torch.zeros(parr, agent.actions_n),\n",
    "                                \"probabilities\": torch.zeros(parr, agent.actions_n),\n",
    "                                \"valuations\": torch.zeros(parr, 1),\n",
    "                                \"rewards\": torch.zeros(parr, 1),\n",
    "                                \"dones\": torch.zeros(parr, 1)\n",
    "                            }\n",
    "                            # for i in range(parr):\n",
    "                            #     act, prob, val = agent.select_action(observation)\n",
    "                            #     outputs[\"actions\"][i] = act\n",
    "                            #     outputs[\"probabilities\"][i] = prob\n",
    "                            #     outputs[\"valuations\"][i] = val\n",
    "                        else:\n",
    "                            outputs = {\n",
    "                                \"nextstates\" : torch.zeros(parr, agent.state_n),\n",
    "                                \"actions\" : torch.zeros(parr, agent.actions_n),\n",
    "                                \"rewards\" : torch.zeros(parr, 1),\n",
    "                                \"dones\" : torch.zeros(parr, 1)\n",
    "                            }\n",
    "                            # for i in range(parr):\n",
    "                            #     act = agent.select_action(observation)\n",
    "                            #     outputs[\"actions\"][i] = act # noise added to action so its fine\n",
    "                        allCashAction = np.array([1] + [0 for _ in productIds]) if doNothing else None\n",
    "\n",
    "                    probabilities, valuation = None, None\n",
    "                    if strategy == \"RANDOM\":\n",
    "                        action = np.random.normal(0, 1, len(productIds) + 1)\n",
    "\n",
    "                    elif strategy in NON_RL_COMPARISON_STRATEGIES:\n",
    "                        action = NON_RL_COMPARISON_STRATEGIES.get(strategy)\n",
    "                    else: \n",
    "                        if strategy == \"PPOLSTM\":\n",
    "                            action, probabilities, valuation = agent.select_action(observation)\n",
    "                        elif strategy == \"TD3\":\n",
    "                            action = agent.select_action(observation) \n",
    "                            \n",
    "                    if not doNothing:\n",
    "                        primaryEnvironment.traded += 1\n",
    "\n",
    "                    finalAction = (\n",
    "                        allCashAction if doNothing else ([0] + action if strategy in NON_RL_COMPARISON_STRATEGIES else softmax(action))\n",
    "                    )\n",
    "                    next, reward, done, _, info = primaryEnvironment.step(finalAction, readyToStartTrading, rewardFunction)\n",
    "                    \n",
    "                    if strategy in RL_STRATS:\n",
    "                        # for i in range(parr):\n",
    "                        #     nexts, rew, do, _, _ = parallelEnvironments[i].step(finalAction, readyToStartTrading, rewardFunction)\n",
    "                        #     if strategy == \"TD3\":\n",
    "                        #         outputs[\"nextstates\"][i] = nexts\n",
    "                        #     outputs[\"rewards\"][i] = rew\n",
    "                        #     outputs[\"dones\"][i] = int(do)\n",
    "                        if not doNothing:\n",
    "                            storeExperiences(agent, data, outputs, reward, done, strategy, parr, action, probabilities, valuation, next)\n",
    "                            doNothing = info[\"turbulence_breached\"]\n",
    "                        if (primaryEnvironment.timeStep % freq) == 0:\n",
    "                            agent.train(featureExtractor)\n",
    "\n",
    "                    if done:\n",
    "                        dataString = None\n",
    "                        if conf == None or strategy == \"RANDOM\":\n",
    "                            dataString = generateConfigLabel(strategy, agent, episode, rewardFunction, freq, parr, lr)\n",
    "                        else:\n",
    "                            dataString = conf\n",
    "                        averagePerformance[dataString].append(primaryEnvironment.PORTFOLIO_VALUES)\n",
    "                        metrics = primaryEnvironment.getMetrics()\n",
    "                        allResults[dataString].append(metrics)\n",
    "                        # table = [metrics.keys()]\n",
    "                        # table.append(metrics.values())\n",
    "                        # tabulate_neatly(table, headers=\"firstrow\", title=f\"{dataString}\")\n",
    "                        # if strategy not in NON_RL_COMPARISON_STRATEGIES.keys() and strategy != \"RANDOM\":\n",
    "                            #nice but take up way too much space...\n",
    "                            # printConfiguration(agent, freq)\n",
    "                            # plotAllocations([0] + action if strategy in NON_RL_COMPARISON_STRATEGIES.keys() else softmax(action), \"Final Allocations\")\n",
    "                        "
   ]
  },
  {
   "cell_type": "markdown",
   "metadata": {},
   "source": [
    "### Visualise Performance ###"
   ]
  },
  {
   "cell_type": "code",
   "execution_count": 15,
   "metadata": {},
   "outputs": [
    {
     "name": "stderr",
     "output_type": "stream",
     "text": [
      "C:\\Users\\bluem\\AppData\\Local\\Packages\\PythonSoftwareFoundation.Python.3.12_qbz5n2kfra8p0\\LocalCache\\local-packages\\Python312\\site-packages\\numpy\\_core\\fromnumeric.py:57: FutureWarning: 'Series.swapaxes' is deprecated and will be removed in a future version. Please use 'Series.transpose' instead.\n",
      "  return bound(*args, **kwds)\n"
     ]
    }
   ],
   "source": [
    "if not CRYPTO:\n",
    "    result = np.array_split(times, STARTS, axis=0)[1:]\n",
    "    timeScale = [dates for dates in result]\n",
    "\n",
    "def plotPerformance(test, final=\"\"):\n",
    "    for experiment in range(EXPERIMENTS):\n",
    "        plt.figure(figsize=(12,6))\n",
    "        relevantPeriods = int(2/3 * TRAINING_PERIODS) + 2\n",
    "        name = f\"Experiment_{experiment + 1}_\" \n",
    "        portfolioFolder = f\"portfolios/Test-{test+final}/\"+ datetime.now().strftime(\"%Y-%m-%d\") + \"/\"\n",
    "        plotsFolder = f\"plots/Test-{test+final}/\"+ datetime.now().strftime(\"%Y-%m-%d\") + \"/\"\n",
    "        if not os.path.exists(portfolioFolder):\n",
    "            os.makedirs(portfolioFolder)\n",
    "        if not os.path.exists(plotsFolder):\n",
    "            os.makedirs(plotsFolder)\n",
    "        for k, v in averagePerformance.items():\n",
    "            if final == \"\":\n",
    "                if test.lower() in k.lower() or \"RANDOM\" in k: # i wrote this at 12am forgive me\n",
    "                    shouldBeSkipped = False\n",
    "                    for value in list(NON_RL_COMPARISON_STRATEGIES.keys())[:-1]:\n",
    "                        if value in k:\n",
    "                            shouldBeSkipped = True # only need to compare with buy and hold for now\n",
    "                    if shouldBeSkipped:\n",
    "                        continue\n",
    "            else:\n",
    "                try:\n",
    "                    x = np.array(v)\n",
    "                    x = np.mean(v, axis=0)\n",
    "                    v = x\n",
    "                except ValueError:\n",
    "                    maxLength = max(len(arr) for arr in v)\n",
    "                    result = []\n",
    "                    for i in range(maxLength):\n",
    "                        values = [arr[i] for arr in v if i < len(arr)]\n",
    "                        mean_value = np.mean(values)\n",
    "                        result.append(mean_value)\n",
    "                    v = result\n",
    "                v= v[relevantPeriods:]\n",
    "                if f\"Experiment {experiment + 1}\" in k:\n",
    "                    l = k.split(\"|\")[0]\n",
    "                    array = np.insert(v, 0, START_CASH)\n",
    "                    # labels = timeScale[experiment][-15:]           \n",
    "                    # labelIndices = range(0, len(labels), 1)  \n",
    "                    # plt.xticks(labelIndices, rotation=45)\n",
    "                    plt.plot(array, label=l) ## too tired\n",
    "                    np.savetxt(f\"{portfolioFolder}{name}{l}.txt\", array, fmt='%f')\n",
    "        plt.title(f\"Returns over Time - Experiment {experiment + 1}. Testing: {test}\")\n",
    "        plt.xlabel(\"Time\")\n",
    "        plt.ylabel(\"Mean Returns\")\n",
    "        plt.legend()\n",
    "        plt.savefig(f\"{plotsFolder}{name}\")\n",
    "        plt.show()\n",
    "\n"
   ]
  },
  {
   "cell_type": "markdown",
   "metadata": {},
   "source": [
    "### Tabulate Results"
   ]
  },
  {
   "cell_type": "code",
   "execution_count": 16,
   "metadata": {},
   "outputs": [],
   "source": [
    "def tabulateResults():\n",
    "    for k, v in allResults.items():\n",
    "        table = [list(v[0].keys()) + [\"Standard Deviation\"]] \n",
    "        meanReturns, meanMER, meanPB, meanAPPT, meanSR, timeSteps = 0, 0, 0, 0, 0, 0\n",
    "        deviations = []\n",
    "        for resultSet in v:\n",
    "            meanReturns += resultSet[\"Cumulative \\nReturn (%)\"]\n",
    "            deviations.append(resultSet[\"Cumulative \\nReturn (%)\"])\n",
    "            meanMER += resultSet[\"Maximum Earning \\nRate (%)\"]\n",
    "            meanPB += resultSet[\"Maximum \\nPullback (%)\"]\n",
    "            meanAPPT += (resultSet[\"Average Profitability \\nper Trade\"] if type(resultSet[\"Average Profitability \\nper Trade\"]) == float else 0)\n",
    "            meanSR += resultSet[\"Sharpe Ratio\"]\n",
    "            timeSteps += resultSet[\"Total Timesteps\"]\n",
    "        array = [meanReturns, meanMER, meanPB, meanAPPT, meanSR, timeSteps, np.std(deviations)]\n",
    "        array = [i/len(v) for i in array]\n",
    "        table.append(array)\n",
    "        tabulate_neatly(table, headers=\"firstrow\", title=f\"MEAN RESULTS FOR: \" + k)"
   ]
  },
  {
   "cell_type": "code",
   "execution_count": 17,
   "metadata": {},
   "outputs": [
    {
     "name": "stdout",
     "output_type": "stream",
     "text": [
      "==================================================\n",
      "TESTING RISK AVERSION\n"
     ]
    },
    {
     "ename": "KeyboardInterrupt",
     "evalue": "",
     "output_type": "error",
     "traceback": [
      "\u001b[1;31m---------------------------------------------------------------------------\u001b[0m",
      "\u001b[1;31mKeyboardInterrupt\u001b[0m                         Traceback (most recent call last)",
      "Cell \u001b[1;32mIn[17], line 46\u001b[0m\n\u001b[0;32m     44\u001b[0m \u001b[38;5;66;03m# Run the tests\u001b[39;00m\n\u001b[0;32m     45\u001b[0m \u001b[38;5;28;01mif\u001b[39;00m TEST:\n\u001b[1;32m---> 46\u001b[0m     \u001b[43mrunTests\u001b[49m\u001b[43m(\u001b[49m\u001b[43m)\u001b[49m\n",
      "Cell \u001b[1;32mIn[17], line 37\u001b[0m, in \u001b[0;36mrunTests\u001b[1;34m()\u001b[0m\n\u001b[0;32m     35\u001b[0m \u001b[38;5;28mprint\u001b[39m(\u001b[38;5;124m\"\u001b[39m\u001b[38;5;124m=\u001b[39m\u001b[38;5;124m\"\u001b[39m \u001b[38;5;241m*\u001b[39m \u001b[38;5;241m50\u001b[39m)\n\u001b[0;32m     36\u001b[0m TESTING[key] \u001b[38;5;241m=\u001b[39m \u001b[38;5;28;01mTrue\u001b[39;00m\n\u001b[1;32m---> 37\u001b[0m \u001b[43mtest\u001b[49m\u001b[43m(\u001b[49m\u001b[43m)\u001b[49m\n\u001b[0;32m     38\u001b[0m plotPerformance(key)\n\u001b[0;32m     39\u001b[0m TESTING[key] \u001b[38;5;241m=\u001b[39m \u001b[38;5;28;01mFalse\u001b[39;00m\n",
      "Cell \u001b[1;32mIn[17], line 29\u001b[0m, in \u001b[0;36mtest\u001b[1;34m()\u001b[0m\n\u001b[0;32m      4\u001b[0m \u001b[38;5;28mprint\u001b[39m(\u001b[38;5;124mf\u001b[39m\u001b[38;5;124m\"\u001b[39m\u001b[38;5;124mTESTING \u001b[39m\u001b[38;5;132;01m{\u001b[39;00mtestType\u001b[38;5;241m.\u001b[39mreplace(\u001b[38;5;124m'\u001b[39m\u001b[38;5;124m_\u001b[39m\u001b[38;5;124m'\u001b[39m,\u001b[38;5;250m \u001b[39m\u001b[38;5;124m'\u001b[39m\u001b[38;5;124m \u001b[39m\u001b[38;5;124m'\u001b[39m)\u001b[38;5;241m.\u001b[39mupper()\u001b[38;5;132;01m}\u001b[39;00m\u001b[38;5;124m\"\u001b[39m)\n\u001b[0;32m      5\u001b[0m testLoops \u001b[38;5;241m=\u001b[39m {\n\u001b[0;32m      6\u001b[0m     \u001b[38;5;124m\"\u001b[39m\u001b[38;5;124mRISK AVERSION\u001b[39m\u001b[38;5;124m\"\u001b[39m: \u001b[38;5;28;01mlambda\u001b[39;00m: [\n\u001b[0;32m      7\u001b[0m         trainingLoop(riskAversion\u001b[38;5;241m=\u001b[39mrisk) \u001b[38;5;28;01mfor\u001b[39;00m risk \u001b[38;5;129;01min\u001b[39;00m AGENT_RISK_AVERSIONS\n\u001b[1;32m   (...)\u001b[0m\n\u001b[0;32m     26\u001b[0m     ],\n\u001b[0;32m     27\u001b[0m }\n\u001b[1;32m---> 29\u001b[0m \u001b[43mtestLoops\u001b[49m\u001b[43m[\u001b[49m\u001b[43mtestType\u001b[49m\u001b[43m]\u001b[49m\u001b[43m(\u001b[49m\u001b[43m)\u001b[49m\n\u001b[0;32m     30\u001b[0m \u001b[38;5;28;01mbreak\u001b[39;00m\n",
      "Cell \u001b[1;32mIn[17], line 7\u001b[0m, in \u001b[0;36mtest.<locals>.<lambda>\u001b[1;34m()\u001b[0m\n\u001b[0;32m      3\u001b[0m \u001b[38;5;28;01mif\u001b[39;00m active:\n\u001b[0;32m      4\u001b[0m     \u001b[38;5;28mprint\u001b[39m(\u001b[38;5;124mf\u001b[39m\u001b[38;5;124m\"\u001b[39m\u001b[38;5;124mTESTING \u001b[39m\u001b[38;5;132;01m{\u001b[39;00mtestType\u001b[38;5;241m.\u001b[39mreplace(\u001b[38;5;124m'\u001b[39m\u001b[38;5;124m_\u001b[39m\u001b[38;5;124m'\u001b[39m,\u001b[38;5;250m \u001b[39m\u001b[38;5;124m'\u001b[39m\u001b[38;5;124m \u001b[39m\u001b[38;5;124m'\u001b[39m)\u001b[38;5;241m.\u001b[39mupper()\u001b[38;5;132;01m}\u001b[39;00m\u001b[38;5;124m\"\u001b[39m)\n\u001b[0;32m      5\u001b[0m     testLoops \u001b[38;5;241m=\u001b[39m {\n\u001b[0;32m      6\u001b[0m         \u001b[38;5;124m\"\u001b[39m\u001b[38;5;124mRISK AVERSION\u001b[39m\u001b[38;5;124m\"\u001b[39m: \u001b[38;5;28;01mlambda\u001b[39;00m: [\n\u001b[1;32m----> 7\u001b[0m             \u001b[43mtrainingLoop\u001b[49m\u001b[43m(\u001b[49m\u001b[43mriskAversion\u001b[49m\u001b[38;5;241;43m=\u001b[39;49m\u001b[43mrisk\u001b[49m\u001b[43m)\u001b[49m \u001b[38;5;28;01mfor\u001b[39;00m risk \u001b[38;5;129;01min\u001b[39;00m AGENT_RISK_AVERSIONS\n\u001b[0;32m      8\u001b[0m         ],\n\u001b[0;32m      9\u001b[0m         \u001b[38;5;124m\"\u001b[39m\u001b[38;5;124mLSTM OUTPUT SIZE\u001b[39m\u001b[38;5;124m\"\u001b[39m: \u001b[38;5;28;01mlambda\u001b[39;00m: [\n\u001b[0;32m     10\u001b[0m             trainingLoop(lstmOutputSize\u001b[38;5;241m=\u001b[39msize) \u001b[38;5;28;01mfor\u001b[39;00m size \u001b[38;5;129;01min\u001b[39;00m LSTMOUTPUTSIZES\n\u001b[0;32m     11\u001b[0m         ],\n\u001b[0;32m     12\u001b[0m         \u001b[38;5;124m\"\u001b[39m\u001b[38;5;124mREWARD FUNCTION\u001b[39m\u001b[38;5;124m\"\u001b[39m: \u001b[38;5;28;01mlambda\u001b[39;00m: [\n\u001b[0;32m     13\u001b[0m             trainingLoop(\n\u001b[0;32m     14\u001b[0m                 riskAversion\u001b[38;5;241m=\u001b[39m(\u001b[38;5;241m0.25\u001b[39m \u001b[38;5;28;01mif\u001b[39;00m r \u001b[38;5;241m==\u001b[39m \u001b[38;5;124m\"\u001b[39m\u001b[38;5;124mCVaR\u001b[39m\u001b[38;5;124m\"\u001b[39m \u001b[38;5;28;01melse\u001b[39;00m \u001b[38;5;241m0\u001b[39m), rewardFunction\u001b[38;5;241m=\u001b[39mr\n\u001b[0;32m     15\u001b[0m             )\n\u001b[0;32m     16\u001b[0m             \u001b[38;5;28;01mfor\u001b[39;00m r \u001b[38;5;129;01min\u001b[39;00m REWARD_FUNCTIONS\n\u001b[0;32m     17\u001b[0m         ],\n\u001b[0;32m     18\u001b[0m         \u001b[38;5;124m\"\u001b[39m\u001b[38;5;124mLEARNING FREQUENCY\u001b[39m\u001b[38;5;124m\"\u001b[39m: \u001b[38;5;28;01mlambda\u001b[39;00m: [\n\u001b[0;32m     19\u001b[0m             trainingLoop(freq\u001b[38;5;241m=\u001b[39mfr) \u001b[38;5;28;01mfor\u001b[39;00m fr \u001b[38;5;129;01min\u001b[39;00m LEARNING_FREQUENCIES\n\u001b[0;32m     20\u001b[0m         ],\n\u001b[0;32m     21\u001b[0m         \u001b[38;5;66;03m# \"PARALLEL ENVIRONMENTS\": lambda: [\u001b[39;00m\n\u001b[0;32m     22\u001b[0m         \u001b[38;5;66;03m#     trainingLoop(parr=par) for par in NUMBER_OF_PARALLEL_ENVIRONMENTS\u001b[39;00m\n\u001b[0;32m     23\u001b[0m         \u001b[38;5;66;03m# ],\u001b[39;00m\n\u001b[0;32m     24\u001b[0m         \u001b[38;5;124m\"\u001b[39m\u001b[38;5;124mLEARNING RATE\u001b[39m\u001b[38;5;124m\"\u001b[39m: \u001b[38;5;28;01mlambda\u001b[39;00m: [\n\u001b[0;32m     25\u001b[0m             trainingLoop(lr\u001b[38;5;241m=\u001b[39mlearn) \u001b[38;5;28;01mfor\u001b[39;00m learn \u001b[38;5;129;01min\u001b[39;00m LEARNING_RATES\n\u001b[0;32m     26\u001b[0m         ],\n\u001b[0;32m     27\u001b[0m     }\n\u001b[0;32m     29\u001b[0m     testLoops[testType]()\n\u001b[0;32m     30\u001b[0m     \u001b[38;5;28;01mbreak\u001b[39;00m\n",
      "Cell \u001b[1;32mIn[14], line 103\u001b[0m, in \u001b[0;36mtrainingLoop\u001b[1;34m(riskAversion, lstmOutputSize, rewardFunction, freq, parr, lr, expers, conf)\u001b[0m\n\u001b[0;32m    101\u001b[0m \u001b[38;5;28;01mif\u001b[39;00m strategy \u001b[38;5;129;01min\u001b[39;00m RL_STRATS:\n\u001b[0;32m    102\u001b[0m     data \u001b[38;5;241m=\u001b[39m primaryEnvironment\u001b[38;5;241m.\u001b[39mgetData()\n\u001b[1;32m--> 103\u001b[0m     observation \u001b[38;5;241m=\u001b[39m featureExtractor\u001b[38;5;241m.\u001b[39mforward(\u001b[43mtorch\u001b[49m\u001b[38;5;241;43m.\u001b[39;49m\u001b[43mtensor\u001b[49m\u001b[43m(\u001b[49m\u001b[43mdata\u001b[49m\u001b[43m,\u001b[49m\u001b[43m \u001b[49m\u001b[43mdtype\u001b[49m\u001b[38;5;241;43m=\u001b[39;49m\u001b[43mtorch\u001b[49m\u001b[38;5;241;43m.\u001b[39;49m\u001b[43mfloat32\u001b[49m\u001b[43m)\u001b[49m\u001b[38;5;241m.\u001b[39munsqueeze(\u001b[38;5;241m0\u001b[39m))\n\u001b[0;32m    104\u001b[0m     \u001b[38;5;28;01mif\u001b[39;00m strategy \u001b[38;5;241m==\u001b[39m \u001b[38;5;124m\"\u001b[39m\u001b[38;5;124mPPOLSTM\u001b[39m\u001b[38;5;124m\"\u001b[39m:\n\u001b[0;32m    105\u001b[0m         outputs \u001b[38;5;241m=\u001b[39m {\n\u001b[0;32m    106\u001b[0m             \u001b[38;5;124m\"\u001b[39m\u001b[38;5;124mactions\u001b[39m\u001b[38;5;124m\"\u001b[39m: torch\u001b[38;5;241m.\u001b[39mzeros(parr, agent\u001b[38;5;241m.\u001b[39mactions_n),\n\u001b[0;32m    107\u001b[0m             \u001b[38;5;124m\"\u001b[39m\u001b[38;5;124mprobabilities\u001b[39m\u001b[38;5;124m\"\u001b[39m: torch\u001b[38;5;241m.\u001b[39mzeros(parr, agent\u001b[38;5;241m.\u001b[39mactions_n),\n\u001b[1;32m   (...)\u001b[0m\n\u001b[0;32m    110\u001b[0m             \u001b[38;5;124m\"\u001b[39m\u001b[38;5;124mdones\u001b[39m\u001b[38;5;124m\"\u001b[39m: torch\u001b[38;5;241m.\u001b[39mzeros(parr, \u001b[38;5;241m1\u001b[39m)\n\u001b[0;32m    111\u001b[0m         }\n",
      "\u001b[1;31mKeyboardInterrupt\u001b[0m: "
     ]
    }
   ],
   "source": [
    "def test():\n",
    "    for testType, active in TESTING.items():\n",
    "        if active:\n",
    "            print(f\"TESTING {testType.replace('_', ' ').upper()}\")\n",
    "            testLoops = {\n",
    "                \"RISK AVERSION\": lambda: [\n",
    "                    trainingLoop(riskAversion=risk) for risk in AGENT_RISK_AVERSIONS\n",
    "                ],\n",
    "                \"LSTM OUTPUT SIZE\": lambda: [\n",
    "                    trainingLoop(lstmOutputSize=size) for size in LSTMOUTPUTSIZES\n",
    "                ],\n",
    "                \"REWARD FUNCTION\": lambda: [\n",
    "                    trainingLoop(\n",
    "                        riskAversion=(0.25 if r == \"CVaR\" else 0), rewardFunction=r\n",
    "                    )\n",
    "                    for r in REWARD_FUNCTIONS\n",
    "                ],\n",
    "                \"LEARNING FREQUENCY\": lambda: [\n",
    "                    trainingLoop(freq=fr) for fr in LEARNING_FREQUENCIES\n",
    "                ],\n",
    "                # \"PARALLEL ENVIRONMENTS\": lambda: [\n",
    "                #     trainingLoop(parr=par) for par in NUMBER_OF_PARALLEL_ENVIRONMENTS\n",
    "                # ],\n",
    "                \"LEARNING RATE\": lambda: [\n",
    "                    trainingLoop(lr=learn) for learn in LEARNING_RATES\n",
    "                ],\n",
    "            }\n",
    "            \n",
    "            testLoops[testType]()\n",
    "            break \n",
    "\n",
    "\n",
    "def runTests():\n",
    "    for key in TESTING.keys():\n",
    "        print(\"=\" * 50)\n",
    "        TESTING[key] = True\n",
    "        test()\n",
    "        plotPerformance(key)\n",
    "        TESTING[key] = False\n",
    "        print(\"=\" * 50)\n",
    "    tabulateResults()\n",
    "\n",
    "TEST = True\n",
    "# Run the tests\n",
    "if TEST:\n",
    "    runTests()"
   ]
  },
  {
   "cell_type": "markdown",
   "metadata": {},
   "source": [
    "## 5. Testing Process"
   ]
  },
  {
   "cell_type": "markdown",
   "metadata": {},
   "source": [
    "### Best Models (if any) Evaluated "
   ]
  },
  {
   "cell_type": "code",
   "execution_count": null,
   "metadata": {},
   "outputs": [
    {
     "name": "stdout",
     "output_type": "stream",
     "text": [
      "==================================================\n"
     ]
    },
    {
     "data": {
      "text/html": [
       "<h3>Reward Function-Standard Logarithmic Returns | Strategy-PPOLSTM | Experiment 1</h3>\n"
      ]
     },
     "metadata": {},
     "output_type": "display_data"
    },
    {
     "data": {
      "text/html": [
       "<table>\n",
       "<thead>\n",
       "<tr><th style=\"text-align: right;\">      Cumulative \n",
       "Return (%)</th><th style=\"text-align: right;\">      Maximum Earning \n",
       "Rate (%)</th><th style=\"text-align: right;\">        Maximum \n",
       "Pullback (%)</th><th style=\"text-align: right;\">        Average Profitability \n",
       "per Trade</th><th style=\"text-align: right;\">  Sharpe Ratio</th><th style=\"text-align: right;\">  Total Timesteps</th></tr>\n",
       "</thead>\n",
       "<tbody>\n",
       "<tr><td style=\"text-align: right;\">47.36</td><td style=\"text-align: right;\">56.15</td><td style=\"text-align: right;\">21.1471</td><td style=\"text-align: right;\">1293.94</td><td style=\"text-align: right;\">        0.0873</td><td style=\"text-align: right;\">             1101</td></tr>\n",
       "</tbody>\n",
       "</table>"
      ]
     },
     "metadata": {},
     "output_type": "display_data"
    },
    {
     "data": {
      "text/html": [
       "<h3>Strategy-RANDOM |  | Experiment 1</h3>\n"
      ]
     },
     "metadata": {},
     "output_type": "display_data"
    },
    {
     "data": {
      "text/html": [
       "<table>\n",
       "<thead>\n",
       "<tr><th style=\"text-align: right;\">      Cumulative \n",
       "Return (%)</th><th style=\"text-align: right;\">      Maximum Earning \n",
       "Rate (%)</th><th style=\"text-align: right;\">        Maximum \n",
       "Pullback (%)</th><th style=\"text-align: right;\">        Average Profitability \n",
       "per Trade</th><th style=\"text-align: right;\">  Sharpe Ratio</th><th style=\"text-align: right;\">  Total Timesteps</th></tr>\n",
       "</thead>\n",
       "<tbody>\n",
       "<tr><td style=\"text-align: right;\">24.61</td><td style=\"text-align: right;\">30.75</td><td style=\"text-align: right;\">17.6224</td><td style=\"text-align: right;\">672.489</td><td style=\"text-align: right;\">        0.0685</td><td style=\"text-align: right;\">             1101</td></tr>\n",
       "</tbody>\n",
       "</table>"
      ]
     },
     "metadata": {},
     "output_type": "display_data"
    },
    {
     "data": {
      "text/html": [
       "<h3>Reward Function-Standard Logarithmic Returns | Strategy-PPOLSTM | Experiment 1</h3>\n"
      ]
     },
     "metadata": {},
     "output_type": "display_data"
    },
    {
     "data": {
      "text/html": [
       "<table>\n",
       "<thead>\n",
       "<tr><th style=\"text-align: right;\">      Cumulative \n",
       "Return (%)</th><th style=\"text-align: right;\">      Maximum Earning \n",
       "Rate (%)</th><th style=\"text-align: right;\">        Maximum \n",
       "Pullback (%)</th><th style=\"text-align: right;\">        Average Profitability \n",
       "per Trade</th><th style=\"text-align: right;\">  Sharpe Ratio</th><th style=\"text-align: right;\">  Total Timesteps</th></tr>\n",
       "</thead>\n",
       "<tbody>\n",
       "<tr><td style=\"text-align: right;\">20.99</td><td style=\"text-align: right;\">24.99</td><td style=\"text-align: right;\">43.1477</td><td style=\"text-align: right;\">573.518</td><td style=\"text-align: right;\">        0.0593</td><td style=\"text-align: right;\">             1101</td></tr>\n",
       "</tbody>\n",
       "</table>"
      ]
     },
     "metadata": {},
     "output_type": "display_data"
    },
    {
     "data": {
      "text/html": [
       "<h3>Strategy-RANDOM |  | Experiment 1</h3>\n"
      ]
     },
     "metadata": {},
     "output_type": "display_data"
    },
    {
     "data": {
      "text/html": [
       "<table>\n",
       "<thead>\n",
       "<tr><th style=\"text-align: right;\">     Cumulative \n",
       "Return (%)</th><th style=\"text-align: right;\">      Maximum Earning \n",
       "Rate (%)</th><th style=\"text-align: right;\">        Maximum \n",
       "Pullback (%)</th><th style=\"text-align: right;\">        Average Profitability \n",
       "per Trade</th><th style=\"text-align: right;\">  Sharpe Ratio</th><th style=\"text-align: right;\">  Total Timesteps</th></tr>\n",
       "</thead>\n",
       "<tbody>\n",
       "<tr><td style=\"text-align: right;\">23.8</td><td style=\"text-align: right;\">26.71</td><td style=\"text-align: right;\">37.2552</td><td style=\"text-align: right;\">650.239</td><td style=\"text-align: right;\">        0.0734</td><td style=\"text-align: right;\">             1101</td></tr>\n",
       "</tbody>\n",
       "</table>"
      ]
     },
     "metadata": {},
     "output_type": "display_data"
    },
    {
     "data": {
      "text/html": [
       "<h3>Reward Function-Standard Logarithmic Returns | Strategy-PPOLSTM | Experiment 1</h3>\n"
      ]
     },
     "metadata": {},
     "output_type": "display_data"
    },
    {
     "data": {
      "text/html": [
       "<table>\n",
       "<thead>\n",
       "<tr><th style=\"text-align: right;\">      Cumulative \n",
       "Return (%)</th><th style=\"text-align: right;\">      Maximum Earning \n",
       "Rate (%)</th><th style=\"text-align: right;\">        Maximum \n",
       "Pullback (%)</th><th style=\"text-align: right;\">        Average Profitability \n",
       "per Trade</th><th style=\"text-align: right;\">  Sharpe Ratio</th><th style=\"text-align: right;\">  Total Timesteps</th></tr>\n",
       "</thead>\n",
       "<tbody>\n",
       "<tr><td style=\"text-align: right;\">45.87</td><td style=\"text-align: right;\">49.62</td><td style=\"text-align: right;\">39.5055</td><td style=\"text-align: right;\">1253.35</td><td style=\"text-align: right;\">        0.1118</td><td style=\"text-align: right;\">             1101</td></tr>\n",
       "</tbody>\n",
       "</table>"
      ]
     },
     "metadata": {},
     "output_type": "display_data"
    },
    {
     "data": {
      "text/html": [
       "<h3>Strategy-RANDOM |  | Experiment 1</h3>\n"
      ]
     },
     "metadata": {},
     "output_type": "display_data"
    },
    {
     "data": {
      "text/html": [
       "<table>\n",
       "<thead>\n",
       "<tr><th style=\"text-align: right;\">      Cumulative \n",
       "Return (%)</th><th style=\"text-align: right;\">      Maximum Earning \n",
       "Rate (%)</th><th style=\"text-align: right;\">        Maximum \n",
       "Pullback (%)</th><th style=\"text-align: right;\">        Average Profitability \n",
       "per Trade</th><th style=\"text-align: right;\">  Sharpe Ratio</th><th style=\"text-align: right;\">  Total Timesteps</th></tr>\n",
       "</thead>\n",
       "<tbody>\n",
       "<tr><td style=\"text-align: right;\">26.31</td><td style=\"text-align: right;\">27.38</td><td style=\"text-align: right;\">46.1077</td><td style=\"text-align: right;\">718.776</td><td style=\"text-align: right;\">        0.0743</td><td style=\"text-align: right;\">             1101</td></tr>\n",
       "</tbody>\n",
       "</table>"
      ]
     },
     "metadata": {},
     "output_type": "display_data"
    },
    {
     "data": {
      "text/html": [
       "<h3>Reward Function-Standard Logarithmic Returns | Strategy-PPOLSTM | Experiment 1</h3>\n"
      ]
     },
     "metadata": {},
     "output_type": "display_data"
    },
    {
     "data": {
      "text/html": [
       "<table>\n",
       "<thead>\n",
       "<tr><th style=\"text-align: right;\">     Cumulative \n",
       "Return (%)</th><th style=\"text-align: right;\">      Maximum Earning \n",
       "Rate (%)</th><th style=\"text-align: right;\">        Maximum \n",
       "Pullback (%)</th><th style=\"text-align: right;\">        Average Profitability \n",
       "per Trade</th><th style=\"text-align: right;\">  Sharpe Ratio</th><th style=\"text-align: right;\">  Total Timesteps</th></tr>\n",
       "</thead>\n",
       "<tbody>\n",
       "<tr><td style=\"text-align: right;\">7.83</td><td style=\"text-align: right;\">16.06</td><td style=\"text-align: right;\">45.8526</td><td style=\"text-align: right;\">213.926</td><td style=\"text-align: right;\">        0.0229</td><td style=\"text-align: right;\">             1101</td></tr>\n",
       "</tbody>\n",
       "</table>"
      ]
     },
     "metadata": {},
     "output_type": "display_data"
    },
    {
     "data": {
      "text/html": [
       "<h3>Strategy-RANDOM |  | Experiment 1</h3>\n"
      ]
     },
     "metadata": {},
     "output_type": "display_data"
    },
    {
     "data": {
      "text/html": [
       "<table>\n",
       "<thead>\n",
       "<tr><th style=\"text-align: right;\">      Cumulative \n",
       "Return (%)</th><th style=\"text-align: right;\">      Maximum Earning \n",
       "Rate (%)</th><th style=\"text-align: right;\">        Maximum \n",
       "Pullback (%)</th><th style=\"text-align: right;\">        Average Profitability \n",
       "per Trade</th><th style=\"text-align: right;\">  Sharpe Ratio</th><th style=\"text-align: right;\">  Total Timesteps</th></tr>\n",
       "</thead>\n",
       "<tbody>\n",
       "<tr><td style=\"text-align: right;\">35.64</td><td style=\"text-align: right;\">40.99</td><td style=\"text-align: right;\">37.9216</td><td style=\"text-align: right;\">973.782</td><td style=\"text-align: right;\">        0.0959</td><td style=\"text-align: right;\">             1101</td></tr>\n",
       "</tbody>\n",
       "</table>"
      ]
     },
     "metadata": {},
     "output_type": "display_data"
    },
    {
     "data": {
      "text/html": [
       "<h3>Reward Function-Standard Logarithmic Returns | Strategy-PPOLSTM | Experiment 1</h3>\n"
      ]
     },
     "metadata": {},
     "output_type": "display_data"
    },
    {
     "data": {
      "text/html": [
       "<table>\n",
       "<thead>\n",
       "<tr><th style=\"text-align: right;\">      Cumulative \n",
       "Return (%)</th><th style=\"text-align: right;\">      Maximum Earning \n",
       "Rate (%)</th><th style=\"text-align: right;\">        Maximum \n",
       "Pullback (%)</th><th style=\"text-align: right;\">       Average Profitability \n",
       "per Trade</th><th style=\"text-align: right;\">  Sharpe Ratio</th><th style=\"text-align: right;\">  Total Timesteps</th></tr>\n",
       "</thead>\n",
       "<tbody>\n",
       "<tr><td style=\"text-align: right;\">19.98</td><td style=\"text-align: right;\">24.24</td><td style=\"text-align: right;\">39.5822</td><td style=\"text-align: right;\">545.88</td><td style=\"text-align: right;\">        0.0525</td><td style=\"text-align: right;\">             1101</td></tr>\n",
       "</tbody>\n",
       "</table>"
      ]
     },
     "metadata": {},
     "output_type": "display_data"
    },
    {
     "data": {
      "text/html": [
       "<h3>Strategy-RANDOM |  | Experiment 1</h3>\n"
      ]
     },
     "metadata": {},
     "output_type": "display_data"
    },
    {
     "data": {
      "text/html": [
       "<table>\n",
       "<thead>\n",
       "<tr><th style=\"text-align: right;\">      Cumulative \n",
       "Return (%)</th><th style=\"text-align: right;\">      Maximum Earning \n",
       "Rate (%)</th><th style=\"text-align: right;\">        Maximum \n",
       "Pullback (%)</th><th style=\"text-align: right;\">        Average Profitability \n",
       "per Trade</th><th style=\"text-align: right;\">  Sharpe Ratio</th><th style=\"text-align: right;\">  Total Timesteps</th></tr>\n",
       "</thead>\n",
       "<tbody>\n",
       "<tr><td style=\"text-align: right;\">33.55</td><td style=\"text-align: right;\">43.09</td><td style=\"text-align: right;\">38.3937</td><td style=\"text-align: right;\">916.541</td><td style=\"text-align: right;\">        0.0874</td><td style=\"text-align: right;\">             1101</td></tr>\n",
       "</tbody>\n",
       "</table>"
      ]
     },
     "metadata": {},
     "output_type": "display_data"
    },
    {
     "data": {
      "text/html": [
       "<h3>Reward Function-Standard Logarithmic Returns | Strategy-PPOLSTM | Experiment 1</h3>\n"
      ]
     },
     "metadata": {},
     "output_type": "display_data"
    },
    {
     "data": {
      "text/html": [
       "<table>\n",
       "<thead>\n",
       "<tr><th style=\"text-align: right;\">      Cumulative \n",
       "Return (%)</th><th style=\"text-align: right;\">     Maximum Earning \n",
       "Rate (%)</th><th style=\"text-align: right;\">        Maximum \n",
       "Pullback (%)</th><th style=\"text-align: right;\">        Average Profitability \n",
       "per Trade</th><th style=\"text-align: right;\">  Sharpe Ratio</th><th style=\"text-align: right;\">  Total Timesteps</th></tr>\n",
       "</thead>\n",
       "<tbody>\n",
       "<tr><td style=\"text-align: right;\">33.24</td><td style=\"text-align: right;\">38.5</td><td style=\"text-align: right;\">27.5961</td><td style=\"text-align: right;\">908.293</td><td style=\"text-align: right;\">        0.0821</td><td style=\"text-align: right;\">             1101</td></tr>\n",
       "</tbody>\n",
       "</table>"
      ]
     },
     "metadata": {},
     "output_type": "display_data"
    },
    {
     "data": {
      "text/html": [
       "<h3>Strategy-RANDOM |  | Experiment 1</h3>\n"
      ]
     },
     "metadata": {},
     "output_type": "display_data"
    },
    {
     "data": {
      "text/html": [
       "<table>\n",
       "<thead>\n",
       "<tr><th style=\"text-align: right;\">      Cumulative \n",
       "Return (%)</th><th style=\"text-align: right;\">      Maximum Earning \n",
       "Rate (%)</th><th style=\"text-align: right;\">        Maximum \n",
       "Pullback (%)</th><th style=\"text-align: right;\">        Average Profitability \n",
       "per Trade</th><th style=\"text-align: right;\">  Sharpe Ratio</th><th style=\"text-align: right;\">  Total Timesteps</th></tr>\n",
       "</thead>\n",
       "<tbody>\n",
       "<tr><td style=\"text-align: right;\">33.83</td><td style=\"text-align: right;\">35.38</td><td style=\"text-align: right;\">21.8856</td><td style=\"text-align: right;\">924.217</td><td style=\"text-align: right;\">         0.094</td><td style=\"text-align: right;\">             1101</td></tr>\n",
       "</tbody>\n",
       "</table>"
      ]
     },
     "metadata": {},
     "output_type": "display_data"
    },
    {
     "data": {
      "text/html": [
       "<h3>Reward Function-Standard Logarithmic Returns | Strategy-PPOLSTM | Experiment 1</h3>\n"
      ]
     },
     "metadata": {},
     "output_type": "display_data"
    },
    {
     "data": {
      "text/html": [
       "<table>\n",
       "<thead>\n",
       "<tr><th style=\"text-align: right;\">     Cumulative \n",
       "Return (%)</th><th style=\"text-align: right;\">      Maximum Earning \n",
       "Rate (%)</th><th style=\"text-align: right;\">        Maximum \n",
       "Pullback (%)</th><th style=\"text-align: right;\">        Average Profitability \n",
       "per Trade</th><th style=\"text-align: right;\">  Sharpe Ratio</th><th style=\"text-align: right;\">  Total Timesteps</th></tr>\n",
       "</thead>\n",
       "<tbody>\n",
       "<tr><td style=\"text-align: right;\">9.99</td><td style=\"text-align: right;\">18.42</td><td style=\"text-align: right;\">38.9245</td><td style=\"text-align: right;\">272.937</td><td style=\"text-align: right;\">        0.0307</td><td style=\"text-align: right;\">             1101</td></tr>\n",
       "</tbody>\n",
       "</table>"
      ]
     },
     "metadata": {},
     "output_type": "display_data"
    },
    {
     "data": {
      "text/html": [
       "<h3>Strategy-RANDOM |  | Experiment 1</h3>\n"
      ]
     },
     "metadata": {},
     "output_type": "display_data"
    },
    {
     "data": {
      "text/html": [
       "<table>\n",
       "<thead>\n",
       "<tr><th style=\"text-align: right;\">      Cumulative \n",
       "Return (%)</th><th style=\"text-align: right;\">      Maximum Earning \n",
       "Rate (%)</th><th style=\"text-align: right;\">        Maximum \n",
       "Pullback (%)</th><th style=\"text-align: right;\">        Average Profitability \n",
       "per Trade</th><th style=\"text-align: right;\">  Sharpe Ratio</th><th style=\"text-align: right;\">  Total Timesteps</th></tr>\n",
       "</thead>\n",
       "<tbody>\n",
       "<tr><td style=\"text-align: right;\">17.04</td><td style=\"text-align: right;\">25.62</td><td style=\"text-align: right;\">29.1131</td><td style=\"text-align: right;\">465.623</td><td style=\"text-align: right;\">        0.0493</td><td style=\"text-align: right;\">             1101</td></tr>\n",
       "</tbody>\n",
       "</table>"
      ]
     },
     "metadata": {},
     "output_type": "display_data"
    },
    {
     "data": {
      "text/html": [
       "<h3>Reward Function-Standard Logarithmic Returns | Strategy-PPOLSTM | Experiment 1</h3>\n"
      ]
     },
     "metadata": {},
     "output_type": "display_data"
    },
    {
     "data": {
      "text/html": [
       "<table>\n",
       "<thead>\n",
       "<tr><th style=\"text-align: right;\">      Cumulative \n",
       "Return (%)</th><th style=\"text-align: right;\">      Maximum Earning \n",
       "Rate (%)</th><th style=\"text-align: right;\">        Maximum \n",
       "Pullback (%)</th><th style=\"text-align: right;\">        Average Profitability \n",
       "per Trade</th><th style=\"text-align: right;\">  Sharpe Ratio</th><th style=\"text-align: right;\">  Total Timesteps</th></tr>\n",
       "</thead>\n",
       "<tbody>\n",
       "<tr><td style=\"text-align: right;\">23.44</td><td style=\"text-align: right;\">28.12</td><td style=\"text-align: right;\">37.7279</td><td style=\"text-align: right;\">640.318</td><td style=\"text-align: right;\">        0.0619</td><td style=\"text-align: right;\">             1101</td></tr>\n",
       "</tbody>\n",
       "</table>"
      ]
     },
     "metadata": {},
     "output_type": "display_data"
    },
    {
     "data": {
      "text/html": [
       "<h3>Strategy-RANDOM |  | Experiment 1</h3>\n"
      ]
     },
     "metadata": {},
     "output_type": "display_data"
    },
    {
     "data": {
      "text/html": [
       "<table>\n",
       "<thead>\n",
       "<tr><th style=\"text-align: right;\">      Cumulative \n",
       "Return (%)</th><th style=\"text-align: right;\">      Maximum Earning \n",
       "Rate (%)</th><th style=\"text-align: right;\">        Maximum \n",
       "Pullback (%)</th><th style=\"text-align: right;\">        Average Profitability \n",
       "per Trade</th><th style=\"text-align: right;\">  Sharpe Ratio</th><th style=\"text-align: right;\">  Total Timesteps</th></tr>\n",
       "</thead>\n",
       "<tbody>\n",
       "<tr><td style=\"text-align: right;\">27.25</td><td style=\"text-align: right;\">29.73</td><td style=\"text-align: right;\">28.8743</td><td style=\"text-align: right;\">744.647</td><td style=\"text-align: right;\">        0.0801</td><td style=\"text-align: right;\">             1101</td></tr>\n",
       "</tbody>\n",
       "</table>"
      ]
     },
     "metadata": {},
     "output_type": "display_data"
    },
    {
     "data": {
      "text/html": [
       "<h3>Reward Function-Standard Logarithmic Returns | Strategy-PPOLSTM | Experiment 1</h3>\n"
      ]
     },
     "metadata": {},
     "output_type": "display_data"
    },
    {
     "data": {
      "text/html": [
       "<table>\n",
       "<thead>\n",
       "<tr><th style=\"text-align: right;\">      Cumulative \n",
       "Return (%)</th><th style=\"text-align: right;\">      Maximum Earning \n",
       "Rate (%)</th><th style=\"text-align: right;\">        Maximum \n",
       "Pullback (%)</th><th style=\"text-align: right;\">        Average Profitability \n",
       "per Trade</th><th style=\"text-align: right;\">  Sharpe Ratio</th><th style=\"text-align: right;\">  Total Timesteps</th></tr>\n",
       "</thead>\n",
       "<tbody>\n",
       "<tr><td style=\"text-align: right;\">27.19</td><td style=\"text-align: right;\">31.73</td><td style=\"text-align: right;\">41.9955</td><td style=\"text-align: right;\">742.814</td><td style=\"text-align: right;\">        0.0782</td><td style=\"text-align: right;\">             1101</td></tr>\n",
       "</tbody>\n",
       "</table>"
      ]
     },
     "metadata": {},
     "output_type": "display_data"
    },
    {
     "data": {
      "text/html": [
       "<h3>Strategy-RANDOM |  | Experiment 1</h3>\n"
      ]
     },
     "metadata": {},
     "output_type": "display_data"
    },
    {
     "data": {
      "text/html": [
       "<table>\n",
       "<thead>\n",
       "<tr><th style=\"text-align: right;\">      Cumulative \n",
       "Return (%)</th><th style=\"text-align: right;\">      Maximum Earning \n",
       "Rate (%)</th><th style=\"text-align: right;\">        Maximum \n",
       "Pullback (%)</th><th style=\"text-align: right;\">        Average Profitability \n",
       "per Trade</th><th style=\"text-align: right;\">  Sharpe Ratio</th><th style=\"text-align: right;\">  Total Timesteps</th></tr>\n",
       "</thead>\n",
       "<tbody>\n",
       "<tr><td style=\"text-align: right;\">30.05</td><td style=\"text-align: right;\">37.21</td><td style=\"text-align: right;\">29.0439</td><td style=\"text-align: right;\">820.949</td><td style=\"text-align: right;\">        0.0826</td><td style=\"text-align: right;\">             1101</td></tr>\n",
       "</tbody>\n",
       "</table>"
      ]
     },
     "metadata": {},
     "output_type": "display_data"
    },
    {
     "data": {
      "text/html": [
       "<h3>Reward Function-Standard Logarithmic Returns | Strategy-PPOLSTM | Experiment 1</h3>\n"
      ]
     },
     "metadata": {},
     "output_type": "display_data"
    },
    {
     "data": {
      "text/html": [
       "<table>\n",
       "<thead>\n",
       "<tr><th style=\"text-align: right;\">      Cumulative \n",
       "Return (%)</th><th style=\"text-align: right;\">     Maximum Earning \n",
       "Rate (%)</th><th style=\"text-align: right;\">        Maximum \n",
       "Pullback (%)</th><th style=\"text-align: right;\">         Average Profitability \n",
       "per Trade</th><th style=\"text-align: right;\">  Sharpe Ratio</th><th style=\"text-align: right;\">  Total Timesteps</th></tr>\n",
       "</thead>\n",
       "<tbody>\n",
       "<tr><td style=\"text-align: right;\">-0.85</td><td style=\"text-align: right;\">16.1</td><td style=\"text-align: right;\">44.1504</td><td style=\"text-align: right;\">-23.2038</td><td style=\"text-align: right;\">       -0.0023</td><td style=\"text-align: right;\">             1101</td></tr>\n",
       "</tbody>\n",
       "</table>"
      ]
     },
     "metadata": {},
     "output_type": "display_data"
    },
    {
     "data": {
      "text/html": [
       "<h3>Strategy-RANDOM |  | Experiment 1</h3>\n"
      ]
     },
     "metadata": {},
     "output_type": "display_data"
    },
    {
     "data": {
      "text/html": [
       "<table>\n",
       "<thead>\n",
       "<tr><th style=\"text-align: right;\">      Cumulative \n",
       "Return (%)</th><th style=\"text-align: right;\">      Maximum Earning \n",
       "Rate (%)</th><th style=\"text-align: right;\">        Maximum \n",
       "Pullback (%)</th><th style=\"text-align: right;\">       Average Profitability \n",
       "per Trade</th><th style=\"text-align: right;\">  Sharpe Ratio</th><th style=\"text-align: right;\">  Total Timesteps</th></tr>\n",
       "</thead>\n",
       "<tbody>\n",
       "<tr><td style=\"text-align: right;\">35.26</td><td style=\"text-align: right;\">41.31</td><td style=\"text-align: right;\">38.2217</td><td style=\"text-align: right;\">963.49</td><td style=\"text-align: right;\">        0.0994</td><td style=\"text-align: right;\">             1101</td></tr>\n",
       "</tbody>\n",
       "</table>"
      ]
     },
     "metadata": {},
     "output_type": "display_data"
    },
    {
     "data": {
      "text/html": [
       "<h3>Reward Function-Standard Logarithmic Returns | Strategy-PPOLSTM | Experiment 1</h3>\n"
      ]
     },
     "metadata": {},
     "output_type": "display_data"
    },
    {
     "data": {
      "text/html": [
       "<table>\n",
       "<thead>\n",
       "<tr><th style=\"text-align: right;\">      Cumulative \n",
       "Return (%)</th><th style=\"text-align: right;\">      Maximum Earning \n",
       "Rate (%)</th><th style=\"text-align: right;\">        Maximum \n",
       "Pullback (%)</th><th style=\"text-align: right;\">        Average Profitability \n",
       "per Trade</th><th style=\"text-align: right;\">  Sharpe Ratio</th><th style=\"text-align: right;\">  Total Timesteps</th></tr>\n",
       "</thead>\n",
       "<tbody>\n",
       "<tr><td style=\"text-align: right;\">20.03</td><td style=\"text-align: right;\">26.09</td><td style=\"text-align: right;\">29.8727</td><td style=\"text-align: right;\">547.204</td><td style=\"text-align: right;\">        0.0575</td><td style=\"text-align: right;\">             1101</td></tr>\n",
       "</tbody>\n",
       "</table>"
      ]
     },
     "metadata": {},
     "output_type": "display_data"
    },
    {
     "data": {
      "text/html": [
       "<h3>Strategy-RANDOM |  | Experiment 1</h3>\n"
      ]
     },
     "metadata": {},
     "output_type": "display_data"
    },
    {
     "data": {
      "text/html": [
       "<table>\n",
       "<thead>\n",
       "<tr><th style=\"text-align: right;\">      Cumulative \n",
       "Return (%)</th><th style=\"text-align: right;\">      Maximum Earning \n",
       "Rate (%)</th><th style=\"text-align: right;\">        Maximum \n",
       "Pullback (%)</th><th style=\"text-align: right;\">        Average Profitability \n",
       "per Trade</th><th style=\"text-align: right;\">  Sharpe Ratio</th><th style=\"text-align: right;\">  Total Timesteps</th></tr>\n",
       "</thead>\n",
       "<tbody>\n",
       "<tr><td style=\"text-align: right;\">19.53</td><td style=\"text-align: right;\">27.25</td><td style=\"text-align: right;\">35.5009</td><td style=\"text-align: right;\">533.597</td><td style=\"text-align: right;\">         0.058</td><td style=\"text-align: right;\">             1101</td></tr>\n",
       "</tbody>\n",
       "</table>"
      ]
     },
     "metadata": {},
     "output_type": "display_data"
    },
    {
     "data": {
      "text/html": [
       "<h3>Reward Function-Standard Logarithmic Returns | Strategy-PPOLSTM | Experiment 1</h3>\n"
      ]
     },
     "metadata": {},
     "output_type": "display_data"
    },
    {
     "data": {
      "text/html": [
       "<table>\n",
       "<thead>\n",
       "<tr><th style=\"text-align: right;\">      Cumulative \n",
       "Return (%)</th><th style=\"text-align: right;\">      Maximum Earning \n",
       "Rate (%)</th><th style=\"text-align: right;\">        Maximum \n",
       "Pullback (%)</th><th style=\"text-align: right;\">         Average Profitability \n",
       "per Trade</th><th style=\"text-align: right;\">  Sharpe Ratio</th><th style=\"text-align: right;\">  Total Timesteps</th></tr>\n",
       "</thead>\n",
       "<tbody>\n",
       "<tr><td style=\"text-align: right;\">-8.78</td><td style=\"text-align: right;\">10.63</td><td style=\"text-align: right;\">43.8729</td><td style=\"text-align: right;\">-239.904</td><td style=\"text-align: right;\">       -0.0237</td><td style=\"text-align: right;\">             1101</td></tr>\n",
       "</tbody>\n",
       "</table>"
      ]
     },
     "metadata": {},
     "output_type": "display_data"
    },
    {
     "data": {
      "text/html": [
       "<h3>Strategy-RANDOM |  | Experiment 1</h3>\n"
      ]
     },
     "metadata": {},
     "output_type": "display_data"
    },
    {
     "data": {
      "text/html": [
       "<table>\n",
       "<thead>\n",
       "<tr><th style=\"text-align: right;\">      Cumulative \n",
       "Return (%)</th><th style=\"text-align: right;\">      Maximum Earning \n",
       "Rate (%)</th><th style=\"text-align: right;\">       Maximum \n",
       "Pullback (%)</th><th style=\"text-align: right;\">        Average Profitability \n",
       "per Trade</th><th style=\"text-align: right;\">  Sharpe Ratio</th><th style=\"text-align: right;\">  Total Timesteps</th></tr>\n",
       "</thead>\n",
       "<tbody>\n",
       "<tr><td style=\"text-align: right;\">17.97</td><td style=\"text-align: right;\">25.51</td><td style=\"text-align: right;\">23.749</td><td style=\"text-align: right;\">490.946</td><td style=\"text-align: right;\">        0.0532</td><td style=\"text-align: right;\">             1101</td></tr>\n",
       "</tbody>\n",
       "</table>"
      ]
     },
     "metadata": {},
     "output_type": "display_data"
    },
    {
     "data": {
      "text/html": [
       "<h3>Reward Function-Standard Logarithmic Returns | Strategy-PPOLSTM | Experiment 1</h3>\n"
      ]
     },
     "metadata": {},
     "output_type": "display_data"
    },
    {
     "data": {
      "text/html": [
       "<table>\n",
       "<thead>\n",
       "<tr><th style=\"text-align: right;\">      Cumulative \n",
       "Return (%)</th><th style=\"text-align: right;\">     Maximum Earning \n",
       "Rate (%)</th><th style=\"text-align: right;\">        Maximum \n",
       "Pullback (%)</th><th style=\"text-align: right;\">        Average Profitability \n",
       "per Trade</th><th style=\"text-align: right;\">  Sharpe Ratio</th><th style=\"text-align: right;\">  Total Timesteps</th></tr>\n",
       "</thead>\n",
       "<tbody>\n",
       "<tr><td style=\"text-align: right;\">21.34</td><td style=\"text-align: right;\">26.2</td><td style=\"text-align: right;\">46.7265</td><td style=\"text-align: right;\">583.118</td><td style=\"text-align: right;\">        0.0588</td><td style=\"text-align: right;\">             1101</td></tr>\n",
       "</tbody>\n",
       "</table>"
      ]
     },
     "metadata": {},
     "output_type": "display_data"
    },
    {
     "data": {
      "text/html": [
       "<h3>Strategy-RANDOM |  | Experiment 1</h3>\n"
      ]
     },
     "metadata": {},
     "output_type": "display_data"
    },
    {
     "data": {
      "text/html": [
       "<table>\n",
       "<thead>\n",
       "<tr><th style=\"text-align: right;\">      Cumulative \n",
       "Return (%)</th><th style=\"text-align: right;\">      Maximum Earning \n",
       "Rate (%)</th><th style=\"text-align: right;\">        Maximum \n",
       "Pullback (%)</th><th style=\"text-align: right;\">        Average Profitability \n",
       "per Trade</th><th style=\"text-align: right;\">  Sharpe Ratio</th><th style=\"text-align: right;\">  Total Timesteps</th></tr>\n",
       "</thead>\n",
       "<tbody>\n",
       "<tr><td style=\"text-align: right;\">27.61</td><td style=\"text-align: right;\">31.08</td><td style=\"text-align: right;\">35.6921</td><td style=\"text-align: right;\">754.241</td><td style=\"text-align: right;\">        0.0808</td><td style=\"text-align: right;\">             1101</td></tr>\n",
       "</tbody>\n",
       "</table>"
      ]
     },
     "metadata": {},
     "output_type": "display_data"
    },
    {
     "data": {
      "text/html": [
       "<h3>Reward Function-Standard Logarithmic Returns | Strategy-PPOLSTM | Experiment 1</h3>\n"
      ]
     },
     "metadata": {},
     "output_type": "display_data"
    },
    {
     "data": {
      "text/html": [
       "<table>\n",
       "<thead>\n",
       "<tr><th style=\"text-align: right;\">     Cumulative \n",
       "Return (%)</th><th style=\"text-align: right;\">      Maximum Earning \n",
       "Rate (%)</th><th style=\"text-align: right;\">        Maximum \n",
       "Pullback (%)</th><th style=\"text-align: right;\">        Average Profitability \n",
       "per Trade</th><th style=\"text-align: right;\">  Sharpe Ratio</th><th style=\"text-align: right;\">  Total Timesteps</th></tr>\n",
       "</thead>\n",
       "<tbody>\n",
       "<tr><td style=\"text-align: right;\">6.33</td><td style=\"text-align: right;\">14.03</td><td style=\"text-align: right;\">37.3328</td><td style=\"text-align: right;\">173.017</td><td style=\"text-align: right;\">        0.0169</td><td style=\"text-align: right;\">             1101</td></tr>\n",
       "</tbody>\n",
       "</table>"
      ]
     },
     "metadata": {},
     "output_type": "display_data"
    },
    {
     "data": {
      "text/html": [
       "<h3>Strategy-RANDOM |  | Experiment 1</h3>\n"
      ]
     },
     "metadata": {},
     "output_type": "display_data"
    },
    {
     "data": {
      "text/html": [
       "<table>\n",
       "<thead>\n",
       "<tr><th style=\"text-align: right;\">      Cumulative \n",
       "Return (%)</th><th style=\"text-align: right;\">      Maximum Earning \n",
       "Rate (%)</th><th style=\"text-align: right;\">        Maximum \n",
       "Pullback (%)</th><th style=\"text-align: right;\">      Average Profitability \n",
       "per Trade</th><th style=\"text-align: right;\">  Sharpe Ratio</th><th style=\"text-align: right;\">  Total Timesteps</th></tr>\n",
       "</thead>\n",
       "<tbody>\n",
       "<tr><td style=\"text-align: right;\">16.39</td><td style=\"text-align: right;\">23.66</td><td style=\"text-align: right;\">35.1361</td><td style=\"text-align: right;\">447.7</td><td style=\"text-align: right;\">        0.0474</td><td style=\"text-align: right;\">             1101</td></tr>\n",
       "</tbody>\n",
       "</table>"
      ]
     },
     "metadata": {},
     "output_type": "display_data"
    },
    {
     "data": {
      "text/html": [
       "<h3>Reward Function-Standard Logarithmic Returns | Strategy-PPOLSTM | Experiment 1</h3>\n"
      ]
     },
     "metadata": {},
     "output_type": "display_data"
    },
    {
     "data": {
      "text/html": [
       "<table>\n",
       "<thead>\n",
       "<tr><th style=\"text-align: right;\">      Cumulative \n",
       "Return (%)</th><th style=\"text-align: right;\">      Maximum Earning \n",
       "Rate (%)</th><th style=\"text-align: right;\">        Maximum \n",
       "Pullback (%)</th><th style=\"text-align: right;\">        Average Profitability \n",
       "per Trade</th><th style=\"text-align: right;\">  Sharpe Ratio</th><th style=\"text-align: right;\">  Total Timesteps</th></tr>\n",
       "</thead>\n",
       "<tbody>\n",
       "<tr><td style=\"text-align: right;\">37.81</td><td style=\"text-align: right;\">40.61</td><td style=\"text-align: right;\">35.7678</td><td style=\"text-align: right;\">1032.99</td><td style=\"text-align: right;\">        0.1014</td><td style=\"text-align: right;\">             1101</td></tr>\n",
       "</tbody>\n",
       "</table>"
      ]
     },
     "metadata": {},
     "output_type": "display_data"
    },
    {
     "data": {
      "text/html": [
       "<h3>Strategy-RANDOM |  | Experiment 1</h3>\n"
      ]
     },
     "metadata": {},
     "output_type": "display_data"
    },
    {
     "data": {
      "text/html": [
       "<table>\n",
       "<thead>\n",
       "<tr><th style=\"text-align: right;\">      Cumulative \n",
       "Return (%)</th><th style=\"text-align: right;\">      Maximum Earning \n",
       "Rate (%)</th><th style=\"text-align: right;\">        Maximum \n",
       "Pullback (%)</th><th style=\"text-align: right;\">        Average Profitability \n",
       "per Trade</th><th style=\"text-align: right;\">  Sharpe Ratio</th><th style=\"text-align: right;\">  Total Timesteps</th></tr>\n",
       "</thead>\n",
       "<tbody>\n",
       "<tr><td style=\"text-align: right;\">27.69</td><td style=\"text-align: right;\">40.27</td><td style=\"text-align: right;\">36.9989</td><td style=\"text-align: right;\">756.538</td><td style=\"text-align: right;\">        0.0769</td><td style=\"text-align: right;\">             1101</td></tr>\n",
       "</tbody>\n",
       "</table>"
      ]
     },
     "metadata": {},
     "output_type": "display_data"
    },
    {
     "data": {
      "text/html": [
       "<h3>Reward Function-Standard Logarithmic Returns | Strategy-PPOLSTM | Experiment 1</h3>\n"
      ]
     },
     "metadata": {},
     "output_type": "display_data"
    },
    {
     "data": {
      "text/html": [
       "<table>\n",
       "<thead>\n",
       "<tr><th style=\"text-align: right;\">      Cumulative \n",
       "Return (%)</th><th style=\"text-align: right;\">      Maximum Earning \n",
       "Rate (%)</th><th style=\"text-align: right;\">       Maximum \n",
       "Pullback (%)</th><th style=\"text-align: right;\">        Average Profitability \n",
       "per Trade</th><th style=\"text-align: right;\">  Sharpe Ratio</th><th style=\"text-align: right;\">  Total Timesteps</th></tr>\n",
       "</thead>\n",
       "<tbody>\n",
       "<tr><td style=\"text-align: right;\">44.65</td><td style=\"text-align: right;\">49.15</td><td style=\"text-align: right;\">38.678</td><td style=\"text-align: right;\">1219.83</td><td style=\"text-align: right;\">        0.1016</td><td style=\"text-align: right;\">             1101</td></tr>\n",
       "</tbody>\n",
       "</table>"
      ]
     },
     "metadata": {},
     "output_type": "display_data"
    },
    {
     "data": {
      "text/html": [
       "<h3>Strategy-RANDOM |  | Experiment 1</h3>\n"
      ]
     },
     "metadata": {},
     "output_type": "display_data"
    },
    {
     "data": {
      "text/html": [
       "<table>\n",
       "<thead>\n",
       "<tr><th style=\"text-align: right;\">      Cumulative \n",
       "Return (%)</th><th style=\"text-align: right;\">      Maximum Earning \n",
       "Rate (%)</th><th style=\"text-align: right;\">        Maximum \n",
       "Pullback (%)</th><th style=\"text-align: right;\">        Average Profitability \n",
       "per Trade</th><th style=\"text-align: right;\">  Sharpe Ratio</th><th style=\"text-align: right;\">  Total Timesteps</th></tr>\n",
       "</thead>\n",
       "<tbody>\n",
       "<tr><td style=\"text-align: right;\">34.89</td><td style=\"text-align: right;\">44.82</td><td style=\"text-align: right;\">38.9877</td><td style=\"text-align: right;\">953.188</td><td style=\"text-align: right;\">          0.09</td><td style=\"text-align: right;\">             1101</td></tr>\n",
       "</tbody>\n",
       "</table>"
      ]
     },
     "metadata": {},
     "output_type": "display_data"
    },
    {
     "data": {
      "text/html": [
       "<h3>Reward Function-Standard Logarithmic Returns | Strategy-PPOLSTM | Experiment 1</h3>\n"
      ]
     },
     "metadata": {},
     "output_type": "display_data"
    },
    {
     "data": {
      "text/html": [
       "<table>\n",
       "<thead>\n",
       "<tr><th style=\"text-align: right;\">      Cumulative \n",
       "Return (%)</th><th style=\"text-align: right;\">      Maximum Earning \n",
       "Rate (%)</th><th style=\"text-align: right;\">        Maximum \n",
       "Pullback (%)</th><th style=\"text-align: right;\">        Average Profitability \n",
       "per Trade</th><th style=\"text-align: right;\">  Sharpe Ratio</th><th style=\"text-align: right;\">  Total Timesteps</th></tr>\n",
       "</thead>\n",
       "<tbody>\n",
       "<tr><td style=\"text-align: right;\">14.46</td><td style=\"text-align: right;\">22.77</td><td style=\"text-align: right;\">33.3825</td><td style=\"text-align: right;\">395.008</td><td style=\"text-align: right;\">        0.0387</td><td style=\"text-align: right;\">             1101</td></tr>\n",
       "</tbody>\n",
       "</table>"
      ]
     },
     "metadata": {},
     "output_type": "display_data"
    },
    {
     "data": {
      "text/html": [
       "<h3>Strategy-RANDOM |  | Experiment 1</h3>\n"
      ]
     },
     "metadata": {},
     "output_type": "display_data"
    },
    {
     "data": {
      "text/html": [
       "<table>\n",
       "<thead>\n",
       "<tr><th style=\"text-align: right;\">      Cumulative \n",
       "Return (%)</th><th style=\"text-align: right;\">      Maximum Earning \n",
       "Rate (%)</th><th style=\"text-align: right;\">        Maximum \n",
       "Pullback (%)</th><th style=\"text-align: right;\">        Average Profitability \n",
       "per Trade</th><th style=\"text-align: right;\">  Sharpe Ratio</th><th style=\"text-align: right;\">  Total Timesteps</th></tr>\n",
       "</thead>\n",
       "<tbody>\n",
       "<tr><td style=\"text-align: right;\">26.41</td><td style=\"text-align: right;\">31.94</td><td style=\"text-align: right;\">43.5932</td><td style=\"text-align: right;\">721.491</td><td style=\"text-align: right;\">        0.0681</td><td style=\"text-align: right;\">             1101</td></tr>\n",
       "</tbody>\n",
       "</table>"
      ]
     },
     "metadata": {},
     "output_type": "display_data"
    },
    {
     "data": {
      "text/html": [
       "<h3>Reward Function-Standard Logarithmic Returns | Strategy-PPOLSTM | Experiment 1</h3>\n"
      ]
     },
     "metadata": {},
     "output_type": "display_data"
    },
    {
     "data": {
      "text/html": [
       "<table>\n",
       "<thead>\n",
       "<tr><th style=\"text-align: right;\">      Cumulative \n",
       "Return (%)</th><th style=\"text-align: right;\">      Maximum Earning \n",
       "Rate (%)</th><th style=\"text-align: right;\">        Maximum \n",
       "Pullback (%)</th><th style=\"text-align: right;\">       Average Profitability \n",
       "per Trade</th><th style=\"text-align: right;\">  Sharpe Ratio</th><th style=\"text-align: right;\">  Total Timesteps</th></tr>\n",
       "</thead>\n",
       "<tbody>\n",
       "<tr><td style=\"text-align: right;\">32.42</td><td style=\"text-align: right;\">32.42</td><td style=\"text-align: right;\">24.7124</td><td style=\"text-align: right;\">885.71</td><td style=\"text-align: right;\">         0.087</td><td style=\"text-align: right;\">             1101</td></tr>\n",
       "</tbody>\n",
       "</table>"
      ]
     },
     "metadata": {},
     "output_type": "display_data"
    },
    {
     "data": {
      "text/html": [
       "<h3>Strategy-RANDOM |  | Experiment 1</h3>\n"
      ]
     },
     "metadata": {},
     "output_type": "display_data"
    },
    {
     "data": {
      "text/html": [
       "<table>\n",
       "<thead>\n",
       "<tr><th style=\"text-align: right;\">      Cumulative \n",
       "Return (%)</th><th style=\"text-align: right;\">      Maximum Earning \n",
       "Rate (%)</th><th style=\"text-align: right;\">        Maximum \n",
       "Pullback (%)</th><th style=\"text-align: right;\">        Average Profitability \n",
       "per Trade</th><th style=\"text-align: right;\">  Sharpe Ratio</th><th style=\"text-align: right;\">  Total Timesteps</th></tr>\n",
       "</thead>\n",
       "<tbody>\n",
       "<tr><td style=\"text-align: right;\">20.73</td><td style=\"text-align: right;\">28.28</td><td style=\"text-align: right;\">36.8762</td><td style=\"text-align: right;\">566.261</td><td style=\"text-align: right;\">          0.06</td><td style=\"text-align: right;\">             1101</td></tr>\n",
       "</tbody>\n",
       "</table>"
      ]
     },
     "metadata": {},
     "output_type": "display_data"
    },
    {
     "data": {
      "text/html": [
       "<h3>Reward Function-Standard Logarithmic Returns | Strategy-PPOLSTM | Experiment 1</h3>\n"
      ]
     },
     "metadata": {},
     "output_type": "display_data"
    },
    {
     "data": {
      "text/html": [
       "<table>\n",
       "<thead>\n",
       "<tr><th style=\"text-align: right;\">      Cumulative \n",
       "Return (%)</th><th style=\"text-align: right;\">      Maximum Earning \n",
       "Rate (%)</th><th style=\"text-align: right;\">        Maximum \n",
       "Pullback (%)</th><th style=\"text-align: right;\">        Average Profitability \n",
       "per Trade</th><th style=\"text-align: right;\">  Sharpe Ratio</th><th style=\"text-align: right;\">  Total Timesteps</th></tr>\n",
       "</thead>\n",
       "<tbody>\n",
       "<tr><td style=\"text-align: right;\">35.77</td><td style=\"text-align: right;\">40.65</td><td style=\"text-align: right;\">41.9462</td><td style=\"text-align: right;\">977.318</td><td style=\"text-align: right;\">        0.0891</td><td style=\"text-align: right;\">             1101</td></tr>\n",
       "</tbody>\n",
       "</table>"
      ]
     },
     "metadata": {},
     "output_type": "display_data"
    },
    {
     "data": {
      "text/html": [
       "<h3>Strategy-RANDOM |  | Experiment 1</h3>\n"
      ]
     },
     "metadata": {},
     "output_type": "display_data"
    },
    {
     "data": {
      "text/html": [
       "<table>\n",
       "<thead>\n",
       "<tr><th style=\"text-align: right;\">      Cumulative \n",
       "Return (%)</th><th style=\"text-align: right;\">      Maximum Earning \n",
       "Rate (%)</th><th style=\"text-align: right;\">        Maximum \n",
       "Pullback (%)</th><th style=\"text-align: right;\">        Average Profitability \n",
       "per Trade</th><th style=\"text-align: right;\">  Sharpe Ratio</th><th style=\"text-align: right;\">  Total Timesteps</th></tr>\n",
       "</thead>\n",
       "<tbody>\n",
       "<tr><td style=\"text-align: right;\">27.83</td><td style=\"text-align: right;\">31.86</td><td style=\"text-align: right;\">26.7951</td><td style=\"text-align: right;\">760.404</td><td style=\"text-align: right;\">        0.0838</td><td style=\"text-align: right;\">             1101</td></tr>\n",
       "</tbody>\n",
       "</table>"
      ]
     },
     "metadata": {},
     "output_type": "display_data"
    },
    {
     "data": {
      "text/html": [
       "<h3>Reward Function-Standard Logarithmic Returns | Strategy-PPOLSTM | Experiment 1</h3>\n"
      ]
     },
     "metadata": {},
     "output_type": "display_data"
    },
    {
     "data": {
      "text/html": [
       "<table>\n",
       "<thead>\n",
       "<tr><th style=\"text-align: right;\">     Cumulative \n",
       "Return (%)</th><th style=\"text-align: right;\">     Maximum Earning \n",
       "Rate (%)</th><th style=\"text-align: right;\">        Maximum \n",
       "Pullback (%)</th><th style=\"text-align: right;\">        Average Profitability \n",
       "per Trade</th><th style=\"text-align: right;\">  Sharpe Ratio</th><th style=\"text-align: right;\">  Total Timesteps</th></tr>\n",
       "</thead>\n",
       "<tbody>\n",
       "<tr><td style=\"text-align: right;\">0.32</td><td style=\"text-align: right;\">2.96</td><td style=\"text-align: right;\">38.2481</td><td style=\"text-align: right;\">8.61428</td><td style=\"text-align: right;\">         0.001</td><td style=\"text-align: right;\">             1101</td></tr>\n",
       "</tbody>\n",
       "</table>"
      ]
     },
     "metadata": {},
     "output_type": "display_data"
    },
    {
     "data": {
      "text/html": [
       "<h3>Strategy-RANDOM |  | Experiment 1</h3>\n"
      ]
     },
     "metadata": {},
     "output_type": "display_data"
    },
    {
     "data": {
      "text/html": [
       "<table>\n",
       "<thead>\n",
       "<tr><th style=\"text-align: right;\">     Cumulative \n",
       "Return (%)</th><th style=\"text-align: right;\">      Maximum Earning \n",
       "Rate (%)</th><th style=\"text-align: right;\">        Maximum \n",
       "Pullback (%)</th><th style=\"text-align: right;\">        Average Profitability \n",
       "per Trade</th><th style=\"text-align: right;\">  Sharpe Ratio</th><th style=\"text-align: right;\">  Total Timesteps</th></tr>\n",
       "</thead>\n",
       "<tbody>\n",
       "<tr><td style=\"text-align: right;\">8.08</td><td style=\"text-align: right;\">20.42</td><td style=\"text-align: right;\">25.8463</td><td style=\"text-align: right;\">220.825</td><td style=\"text-align: right;\">        0.0245</td><td style=\"text-align: right;\">             1101</td></tr>\n",
       "</tbody>\n",
       "</table>"
      ]
     },
     "metadata": {},
     "output_type": "display_data"
    },
    {
     "data": {
      "text/html": [
       "<h3>Reward Function-Differential Sharpe Ratio_0.1 | Strategy-PPOLSTM | Experiment 1</h3>\n"
      ]
     },
     "metadata": {},
     "output_type": "display_data"
    },
    {
     "data": {
      "text/html": [
       "<table>\n",
       "<thead>\n",
       "<tr><th style=\"text-align: right;\">      Cumulative \n",
       "Return (%)</th><th style=\"text-align: right;\">      Maximum Earning \n",
       "Rate (%)</th><th style=\"text-align: right;\">        Maximum \n",
       "Pullback (%)</th><th style=\"text-align: right;\">        Average Profitability \n",
       "per Trade</th><th style=\"text-align: right;\">  Sharpe Ratio</th><th style=\"text-align: right;\">  Total Timesteps</th></tr>\n",
       "</thead>\n",
       "<tbody>\n",
       "<tr><td style=\"text-align: right;\">47.06</td><td style=\"text-align: right;\">51.87</td><td style=\"text-align: right;\">32.4766</td><td style=\"text-align: right;\">1285.81</td><td style=\"text-align: right;\">        0.1171</td><td style=\"text-align: right;\">             1101</td></tr>\n",
       "</tbody>\n",
       "</table>"
      ]
     },
     "metadata": {},
     "output_type": "display_data"
    },
    {
     "data": {
      "text/html": [
       "<h3>Strategy-RANDOM |  | Experiment 1</h3>\n"
      ]
     },
     "metadata": {},
     "output_type": "display_data"
    },
    {
     "data": {
      "text/html": [
       "<table>\n",
       "<thead>\n",
       "<tr><th style=\"text-align: right;\">      Cumulative \n",
       "Return (%)</th><th style=\"text-align: right;\">     Maximum Earning \n",
       "Rate (%)</th><th style=\"text-align: right;\">       Maximum \n",
       "Pullback (%)</th><th style=\"text-align: right;\">        Average Profitability \n",
       "per Trade</th><th style=\"text-align: right;\">  Sharpe Ratio</th><th style=\"text-align: right;\">  Total Timesteps</th></tr>\n",
       "</thead>\n",
       "<tbody>\n",
       "<tr><td style=\"text-align: right;\">39.77</td><td style=\"text-align: right;\">44.7</td><td style=\"text-align: right;\">22.636</td><td style=\"text-align: right;\">1086.52</td><td style=\"text-align: right;\">         0.109</td><td style=\"text-align: right;\">             1101</td></tr>\n",
       "</tbody>\n",
       "</table>"
      ]
     },
     "metadata": {},
     "output_type": "display_data"
    },
    {
     "data": {
      "text/html": [
       "<h3>Reward Function-Differential Sharpe Ratio_0.1 | Strategy-PPOLSTM | Experiment 1</h3>\n"
      ]
     },
     "metadata": {},
     "output_type": "display_data"
    },
    {
     "data": {
      "text/html": [
       "<table>\n",
       "<thead>\n",
       "<tr><th style=\"text-align: right;\">      Cumulative \n",
       "Return (%)</th><th style=\"text-align: right;\">      Maximum Earning \n",
       "Rate (%)</th><th style=\"text-align: right;\">        Maximum \n",
       "Pullback (%)</th><th style=\"text-align: right;\">        Average Profitability \n",
       "per Trade</th><th style=\"text-align: right;\">  Sharpe Ratio</th><th style=\"text-align: right;\">  Total Timesteps</th></tr>\n",
       "</thead>\n",
       "<tbody>\n",
       "<tr><td style=\"text-align: right;\">34.59</td><td style=\"text-align: right;\">43.47</td><td style=\"text-align: right;\">31.2448</td><td style=\"text-align: right;\">945.011</td><td style=\"text-align: right;\">        0.0823</td><td style=\"text-align: right;\">             1101</td></tr>\n",
       "</tbody>\n",
       "</table>"
      ]
     },
     "metadata": {},
     "output_type": "display_data"
    },
    {
     "data": {
      "text/html": [
       "<h3>Strategy-RANDOM |  | Experiment 1</h3>\n"
      ]
     },
     "metadata": {},
     "output_type": "display_data"
    },
    {
     "data": {
      "text/html": [
       "<table>\n",
       "<thead>\n",
       "<tr><th style=\"text-align: right;\">      Cumulative \n",
       "Return (%)</th><th style=\"text-align: right;\">      Maximum Earning \n",
       "Rate (%)</th><th style=\"text-align: right;\">       Maximum \n",
       "Pullback (%)</th><th style=\"text-align: right;\">        Average Profitability \n",
       "per Trade</th><th style=\"text-align: right;\">  Sharpe Ratio</th><th style=\"text-align: right;\">  Total Timesteps</th></tr>\n",
       "</thead>\n",
       "<tbody>\n",
       "<tr><td style=\"text-align: right;\">22.07</td><td style=\"text-align: right;\">28.48</td><td style=\"text-align: right;\">32.495</td><td style=\"text-align: right;\">603.092</td><td style=\"text-align: right;\">        0.0595</td><td style=\"text-align: right;\">             1101</td></tr>\n",
       "</tbody>\n",
       "</table>"
      ]
     },
     "metadata": {},
     "output_type": "display_data"
    },
    {
     "data": {
      "text/html": [
       "<h3>Reward Function-Differential Sharpe Ratio_0.1 | Strategy-PPOLSTM | Experiment 1</h3>\n"
      ]
     },
     "metadata": {},
     "output_type": "display_data"
    },
    {
     "data": {
      "text/html": [
       "<table>\n",
       "<thead>\n",
       "<tr><th style=\"text-align: right;\">      Cumulative \n",
       "Return (%)</th><th style=\"text-align: right;\">      Maximum Earning \n",
       "Rate (%)</th><th style=\"text-align: right;\">        Maximum \n",
       "Pullback (%)</th><th style=\"text-align: right;\">        Average Profitability \n",
       "per Trade</th><th style=\"text-align: right;\">  Sharpe Ratio</th><th style=\"text-align: right;\">  Total Timesteps</th></tr>\n",
       "</thead>\n",
       "<tbody>\n",
       "<tr><td style=\"text-align: right;\">23.71</td><td style=\"text-align: right;\">26.84</td><td style=\"text-align: right;\">27.2222</td><td style=\"text-align: right;\">647.744</td><td style=\"text-align: right;\">        0.0692</td><td style=\"text-align: right;\">             1101</td></tr>\n",
       "</tbody>\n",
       "</table>"
      ]
     },
     "metadata": {},
     "output_type": "display_data"
    },
    {
     "data": {
      "text/html": [
       "<h3>Strategy-RANDOM |  | Experiment 1</h3>\n"
      ]
     },
     "metadata": {},
     "output_type": "display_data"
    },
    {
     "data": {
      "text/html": [
       "<table>\n",
       "<thead>\n",
       "<tr><th style=\"text-align: right;\">      Cumulative \n",
       "Return (%)</th><th style=\"text-align: right;\">      Maximum Earning \n",
       "Rate (%)</th><th style=\"text-align: right;\">       Maximum \n",
       "Pullback (%)</th><th style=\"text-align: right;\">        Average Profitability \n",
       "per Trade</th><th style=\"text-align: right;\">  Sharpe Ratio</th><th style=\"text-align: right;\">  Total Timesteps</th></tr>\n",
       "</thead>\n",
       "<tbody>\n",
       "<tr><td style=\"text-align: right;\">13.03</td><td style=\"text-align: right;\">22.43</td><td style=\"text-align: right;\">41.694</td><td style=\"text-align: right;\">355.917</td><td style=\"text-align: right;\">        0.0405</td><td style=\"text-align: right;\">             1101</td></tr>\n",
       "</tbody>\n",
       "</table>"
      ]
     },
     "metadata": {},
     "output_type": "display_data"
    },
    {
     "data": {
      "text/html": [
       "<h3>Reward Function-Differential Sharpe Ratio_0.1 | Strategy-PPOLSTM | Experiment 1</h3>\n"
      ]
     },
     "metadata": {},
     "output_type": "display_data"
    },
    {
     "data": {
      "text/html": [
       "<table>\n",
       "<thead>\n",
       "<tr><th style=\"text-align: right;\">      Cumulative \n",
       "Return (%)</th><th style=\"text-align: right;\">      Maximum Earning \n",
       "Rate (%)</th><th style=\"text-align: right;\">        Maximum \n",
       "Pullback (%)</th><th style=\"text-align: right;\">        Average Profitability \n",
       "per Trade</th><th style=\"text-align: right;\">  Sharpe Ratio</th><th style=\"text-align: right;\">  Total Timesteps</th></tr>\n",
       "</thead>\n",
       "<tbody>\n",
       "<tr><td style=\"text-align: right;\">24.18</td><td style=\"text-align: right;\">27.64</td><td style=\"text-align: right;\">27.5757</td><td style=\"text-align: right;\">660.527</td><td style=\"text-align: right;\">        0.0677</td><td style=\"text-align: right;\">             1101</td></tr>\n",
       "</tbody>\n",
       "</table>"
      ]
     },
     "metadata": {},
     "output_type": "display_data"
    },
    {
     "data": {
      "text/html": [
       "<h3>Strategy-RANDOM |  | Experiment 1</h3>\n"
      ]
     },
     "metadata": {},
     "output_type": "display_data"
    },
    {
     "data": {
      "text/html": [
       "<table>\n",
       "<thead>\n",
       "<tr><th style=\"text-align: right;\">      Cumulative \n",
       "Return (%)</th><th style=\"text-align: right;\">      Maximum Earning \n",
       "Rate (%)</th><th style=\"text-align: right;\">        Maximum \n",
       "Pullback (%)</th><th style=\"text-align: right;\">        Average Profitability \n",
       "per Trade</th><th style=\"text-align: right;\">  Sharpe Ratio</th><th style=\"text-align: right;\">  Total Timesteps</th></tr>\n",
       "</thead>\n",
       "<tbody>\n",
       "<tr><td style=\"text-align: right;\">22.32</td><td style=\"text-align: right;\">32.27</td><td style=\"text-align: right;\">28.8312</td><td style=\"text-align: right;\">609.754</td><td style=\"text-align: right;\">        0.0643</td><td style=\"text-align: right;\">             1101</td></tr>\n",
       "</tbody>\n",
       "</table>"
      ]
     },
     "metadata": {},
     "output_type": "display_data"
    },
    {
     "data": {
      "text/html": [
       "<h3>Reward Function-Differential Sharpe Ratio_0.1 | Strategy-PPOLSTM | Experiment 1</h3>\n"
      ]
     },
     "metadata": {},
     "output_type": "display_data"
    },
    {
     "data": {
      "text/html": [
       "<table>\n",
       "<thead>\n",
       "<tr><th style=\"text-align: right;\">      Cumulative \n",
       "Return (%)</th><th style=\"text-align: right;\">      Maximum Earning \n",
       "Rate (%)</th><th style=\"text-align: right;\">        Maximum \n",
       "Pullback (%)</th><th style=\"text-align: right;\">        Average Profitability \n",
       "per Trade</th><th style=\"text-align: right;\">  Sharpe Ratio</th><th style=\"text-align: right;\">  Total Timesteps</th></tr>\n",
       "</thead>\n",
       "<tbody>\n",
       "<tr><td style=\"text-align: right;\">24.97</td><td style=\"text-align: right;\">33.13</td><td style=\"text-align: right;\">34.5937</td><td style=\"text-align: right;\">682.285</td><td style=\"text-align: right;\">        0.0701</td><td style=\"text-align: right;\">             1101</td></tr>\n",
       "</tbody>\n",
       "</table>"
      ]
     },
     "metadata": {},
     "output_type": "display_data"
    },
    {
     "data": {
      "text/html": [
       "<h3>Strategy-RANDOM |  | Experiment 1</h3>\n"
      ]
     },
     "metadata": {},
     "output_type": "display_data"
    },
    {
     "data": {
      "text/html": [
       "<table>\n",
       "<thead>\n",
       "<tr><th style=\"text-align: right;\">      Cumulative \n",
       "Return (%)</th><th style=\"text-align: right;\">      Maximum Earning \n",
       "Rate (%)</th><th style=\"text-align: right;\">        Maximum \n",
       "Pullback (%)</th><th style=\"text-align: right;\">        Average Profitability \n",
       "per Trade</th><th style=\"text-align: right;\">  Sharpe Ratio</th><th style=\"text-align: right;\">  Total Timesteps</th></tr>\n",
       "</thead>\n",
       "<tbody>\n",
       "<tr><td style=\"text-align: right;\">28.99</td><td style=\"text-align: right;\">29.73</td><td style=\"text-align: right;\">30.6382</td><td style=\"text-align: right;\">791.981</td><td style=\"text-align: right;\">        0.0815</td><td style=\"text-align: right;\">             1101</td></tr>\n",
       "</tbody>\n",
       "</table>"
      ]
     },
     "metadata": {},
     "output_type": "display_data"
    },
    {
     "data": {
      "text/html": [
       "<h3>Reward Function-Differential Sharpe Ratio_0.1 | Strategy-PPOLSTM | Experiment 1</h3>\n"
      ]
     },
     "metadata": {},
     "output_type": "display_data"
    },
    {
     "data": {
      "text/html": [
       "<table>\n",
       "<thead>\n",
       "<tr><th style=\"text-align: right;\">      Cumulative \n",
       "Return (%)</th><th style=\"text-align: right;\">      Maximum Earning \n",
       "Rate (%)</th><th style=\"text-align: right;\">       Maximum \n",
       "Pullback (%)</th><th style=\"text-align: right;\">        Average Profitability \n",
       "per Trade</th><th style=\"text-align: right;\">  Sharpe Ratio</th><th style=\"text-align: right;\">  Total Timesteps</th></tr>\n",
       "</thead>\n",
       "<tbody>\n",
       "<tr><td style=\"text-align: right;\">28.94</td><td style=\"text-align: right;\">33.19</td><td style=\"text-align: right;\">40.002</td><td style=\"text-align: right;\">790.822</td><td style=\"text-align: right;\">        0.0687</td><td style=\"text-align: right;\">             1101</td></tr>\n",
       "</tbody>\n",
       "</table>"
      ]
     },
     "metadata": {},
     "output_type": "display_data"
    },
    {
     "data": {
      "text/html": [
       "<h3>Strategy-RANDOM |  | Experiment 1</h3>\n"
      ]
     },
     "metadata": {},
     "output_type": "display_data"
    },
    {
     "data": {
      "text/html": [
       "<table>\n",
       "<thead>\n",
       "<tr><th style=\"text-align: right;\">      Cumulative \n",
       "Return (%)</th><th style=\"text-align: right;\">      Maximum Earning \n",
       "Rate (%)</th><th style=\"text-align: right;\">        Maximum \n",
       "Pullback (%)</th><th style=\"text-align: right;\">        Average Profitability \n",
       "per Trade</th><th style=\"text-align: right;\">  Sharpe Ratio</th><th style=\"text-align: right;\">  Total Timesteps</th></tr>\n",
       "</thead>\n",
       "<tbody>\n",
       "<tr><td style=\"text-align: right;\">22.79</td><td style=\"text-align: right;\">30.91</td><td style=\"text-align: right;\">41.6039</td><td style=\"text-align: right;\">622.802</td><td style=\"text-align: right;\">        0.0639</td><td style=\"text-align: right;\">             1101</td></tr>\n",
       "</tbody>\n",
       "</table>"
      ]
     },
     "metadata": {},
     "output_type": "display_data"
    },
    {
     "data": {
      "text/html": [
       "<h3>Reward Function-Differential Sharpe Ratio_0.1 | Strategy-PPOLSTM | Experiment 1</h3>\n"
      ]
     },
     "metadata": {},
     "output_type": "display_data"
    },
    {
     "data": {
      "text/html": [
       "<table>\n",
       "<thead>\n",
       "<tr><th style=\"text-align: right;\">     Cumulative \n",
       "Return (%)</th><th style=\"text-align: right;\">      Maximum Earning \n",
       "Rate (%)</th><th style=\"text-align: right;\">        Maximum \n",
       "Pullback (%)</th><th style=\"text-align: right;\">        Average Profitability \n",
       "per Trade</th><th style=\"text-align: right;\">  Sharpe Ratio</th><th style=\"text-align: right;\">  Total Timesteps</th></tr>\n",
       "</thead>\n",
       "<tbody>\n",
       "<tr><td style=\"text-align: right;\">27.5</td><td style=\"text-align: right;\">35.25</td><td style=\"text-align: right;\">44.8358</td><td style=\"text-align: right;\">751.277</td><td style=\"text-align: right;\">        0.0788</td><td style=\"text-align: right;\">             1101</td></tr>\n",
       "</tbody>\n",
       "</table>"
      ]
     },
     "metadata": {},
     "output_type": "display_data"
    },
    {
     "data": {
      "text/html": [
       "<h3>Strategy-RANDOM |  | Experiment 1</h3>\n"
      ]
     },
     "metadata": {},
     "output_type": "display_data"
    },
    {
     "data": {
      "text/html": [
       "<table>\n",
       "<thead>\n",
       "<tr><th style=\"text-align: right;\">      Cumulative \n",
       "Return (%)</th><th style=\"text-align: right;\">     Maximum Earning \n",
       "Rate (%)</th><th style=\"text-align: right;\">        Maximum \n",
       "Pullback (%)</th><th style=\"text-align: right;\">       Average Profitability \n",
       "per Trade</th><th style=\"text-align: right;\">  Sharpe Ratio</th><th style=\"text-align: right;\">  Total Timesteps</th></tr>\n",
       "</thead>\n",
       "<tbody>\n",
       "<tr><td style=\"text-align: right;\">31.56</td><td style=\"text-align: right;\">37.9</td><td style=\"text-align: right;\">45.2037</td><td style=\"text-align: right;\">862.23</td><td style=\"text-align: right;\">        0.0848</td><td style=\"text-align: right;\">             1101</td></tr>\n",
       "</tbody>\n",
       "</table>"
      ]
     },
     "metadata": {},
     "output_type": "display_data"
    },
    {
     "data": {
      "text/html": [
       "<h3>Reward Function-Differential Sharpe Ratio_0.1 | Strategy-PPOLSTM | Experiment 1</h3>\n"
      ]
     },
     "metadata": {},
     "output_type": "display_data"
    },
    {
     "data": {
      "text/html": [
       "<table>\n",
       "<thead>\n",
       "<tr><th style=\"text-align: right;\">      Cumulative \n",
       "Return (%)</th><th style=\"text-align: right;\">      Maximum Earning \n",
       "Rate (%)</th><th style=\"text-align: right;\">        Maximum \n",
       "Pullback (%)</th><th style=\"text-align: right;\">        Average Profitability \n",
       "per Trade</th><th style=\"text-align: right;\">  Sharpe Ratio</th><th style=\"text-align: right;\">  Total Timesteps</th></tr>\n",
       "</thead>\n",
       "<tbody>\n",
       "<tr><td style=\"text-align: right;\">23.49</td><td style=\"text-align: right;\">31.59</td><td style=\"text-align: right;\">36.8221</td><td style=\"text-align: right;\">641.897</td><td style=\"text-align: right;\">        0.0665</td><td style=\"text-align: right;\">             1101</td></tr>\n",
       "</tbody>\n",
       "</table>"
      ]
     },
     "metadata": {},
     "output_type": "display_data"
    },
    {
     "data": {
      "text/html": [
       "<h3>Strategy-RANDOM |  | Experiment 1</h3>\n"
      ]
     },
     "metadata": {},
     "output_type": "display_data"
    },
    {
     "data": {
      "text/html": [
       "<table>\n",
       "<thead>\n",
       "<tr><th style=\"text-align: right;\">      Cumulative \n",
       "Return (%)</th><th style=\"text-align: right;\">      Maximum Earning \n",
       "Rate (%)</th><th style=\"text-align: right;\">       Maximum \n",
       "Pullback (%)</th><th style=\"text-align: right;\">        Average Profitability \n",
       "per Trade</th><th style=\"text-align: right;\">  Sharpe Ratio</th><th style=\"text-align: right;\">  Total Timesteps</th></tr>\n",
       "</thead>\n",
       "<tbody>\n",
       "<tr><td style=\"text-align: right;\">13.44</td><td style=\"text-align: right;\">22.77</td><td style=\"text-align: right;\">30.895</td><td style=\"text-align: right;\">367.307</td><td style=\"text-align: right;\">        0.0414</td><td style=\"text-align: right;\">             1101</td></tr>\n",
       "</tbody>\n",
       "</table>"
      ]
     },
     "metadata": {},
     "output_type": "display_data"
    },
    {
     "data": {
      "text/html": [
       "<h3>Reward Function-Differential Sharpe Ratio_0.1 | Strategy-PPOLSTM | Experiment 1</h3>\n"
      ]
     },
     "metadata": {},
     "output_type": "display_data"
    },
    {
     "data": {
      "text/html": [
       "<table>\n",
       "<thead>\n",
       "<tr><th style=\"text-align: right;\">      Cumulative \n",
       "Return (%)</th><th style=\"text-align: right;\">      Maximum Earning \n",
       "Rate (%)</th><th style=\"text-align: right;\">        Maximum \n",
       "Pullback (%)</th><th style=\"text-align: right;\">        Average Profitability \n",
       "per Trade</th><th style=\"text-align: right;\">  Sharpe Ratio</th><th style=\"text-align: right;\">  Total Timesteps</th></tr>\n",
       "</thead>\n",
       "<tbody>\n",
       "<tr><td style=\"text-align: right;\">42.66</td><td style=\"text-align: right;\">44.28</td><td style=\"text-align: right;\">39.1254</td><td style=\"text-align: right;\">1165.46</td><td style=\"text-align: right;\">        0.1125</td><td style=\"text-align: right;\">             1101</td></tr>\n",
       "</tbody>\n",
       "</table>"
      ]
     },
     "metadata": {},
     "output_type": "display_data"
    },
    {
     "data": {
      "text/html": [
       "<h3>Strategy-RANDOM |  | Experiment 1</h3>\n"
      ]
     },
     "metadata": {},
     "output_type": "display_data"
    },
    {
     "data": {
      "text/html": [
       "<table>\n",
       "<thead>\n",
       "<tr><th style=\"text-align: right;\">     Cumulative \n",
       "Return (%)</th><th style=\"text-align: right;\">      Maximum Earning \n",
       "Rate (%)</th><th style=\"text-align: right;\">        Maximum \n",
       "Pullback (%)</th><th style=\"text-align: right;\">        Average Profitability \n",
       "per Trade</th><th style=\"text-align: right;\">  Sharpe Ratio</th><th style=\"text-align: right;\">  Total Timesteps</th></tr>\n",
       "</thead>\n",
       "<tbody>\n",
       "<tr><td style=\"text-align: right;\">26.9</td><td style=\"text-align: right;\">36.29</td><td style=\"text-align: right;\">37.4259</td><td style=\"text-align: right;\">735.017</td><td style=\"text-align: right;\">        0.0787</td><td style=\"text-align: right;\">             1101</td></tr>\n",
       "</tbody>\n",
       "</table>"
      ]
     },
     "metadata": {},
     "output_type": "display_data"
    },
    {
     "data": {
      "text/html": [
       "<h3>Reward Function-Differential Sharpe Ratio_0.1 | Strategy-PPOLSTM | Experiment 1</h3>\n"
      ]
     },
     "metadata": {},
     "output_type": "display_data"
    },
    {
     "data": {
      "text/html": [
       "<table>\n",
       "<thead>\n",
       "<tr><th style=\"text-align: right;\">      Cumulative \n",
       "Return (%)</th><th style=\"text-align: right;\">      Maximum Earning \n",
       "Rate (%)</th><th style=\"text-align: right;\">        Maximum \n",
       "Pullback (%)</th><th style=\"text-align: right;\">         Average Profitability \n",
       "per Trade</th><th style=\"text-align: right;\">  Sharpe Ratio</th><th style=\"text-align: right;\">  Total Timesteps</th></tr>\n",
       "</thead>\n",
       "<tbody>\n",
       "<tr><td style=\"text-align: right;\">-2.63</td><td style=\"text-align: right;\">13.27</td><td style=\"text-align: right;\">39.9269</td><td style=\"text-align: right;\">-71.7607</td><td style=\"text-align: right;\">       -0.0079</td><td style=\"text-align: right;\">             1101</td></tr>\n",
       "</tbody>\n",
       "</table>"
      ]
     },
     "metadata": {},
     "output_type": "display_data"
    },
    {
     "data": {
      "text/html": [
       "<h3>Strategy-RANDOM |  | Experiment 1</h3>\n"
      ]
     },
     "metadata": {},
     "output_type": "display_data"
    },
    {
     "data": {
      "text/html": [
       "<table>\n",
       "<thead>\n",
       "<tr><th style=\"text-align: right;\">      Cumulative \n",
       "Return (%)</th><th style=\"text-align: right;\">      Maximum Earning \n",
       "Rate (%)</th><th style=\"text-align: right;\">        Maximum \n",
       "Pullback (%)</th><th style=\"text-align: right;\">        Average Profitability \n",
       "per Trade</th><th style=\"text-align: right;\">  Sharpe Ratio</th><th style=\"text-align: right;\">  Total Timesteps</th></tr>\n",
       "</thead>\n",
       "<tbody>\n",
       "<tr><td style=\"text-align: right;\">23.62</td><td style=\"text-align: right;\">30.49</td><td style=\"text-align: right;\">35.4542</td><td style=\"text-align: right;\">645.325</td><td style=\"text-align: right;\">        0.0692</td><td style=\"text-align: right;\">             1101</td></tr>\n",
       "</tbody>\n",
       "</table>"
      ]
     },
     "metadata": {},
     "output_type": "display_data"
    },
    {
     "data": {
      "text/html": [
       "<h3>Reward Function-Differential Sharpe Ratio_0.1 | Strategy-PPOLSTM | Experiment 1</h3>\n"
      ]
     },
     "metadata": {},
     "output_type": "display_data"
    },
    {
     "data": {
      "text/html": [
       "<table>\n",
       "<thead>\n",
       "<tr><th style=\"text-align: right;\">      Cumulative \n",
       "Return (%)</th><th style=\"text-align: right;\">      Maximum Earning \n",
       "Rate (%)</th><th style=\"text-align: right;\">        Maximum \n",
       "Pullback (%)</th><th style=\"text-align: right;\">        Average Profitability \n",
       "per Trade</th><th style=\"text-align: right;\">  Sharpe Ratio</th><th style=\"text-align: right;\">  Total Timesteps</th></tr>\n",
       "</thead>\n",
       "<tbody>\n",
       "<tr><td style=\"text-align: right;\">31.43</td><td style=\"text-align: right;\">35.29</td><td style=\"text-align: right;\">26.2646</td><td style=\"text-align: right;\">858.774</td><td style=\"text-align: right;\">        0.0805</td><td style=\"text-align: right;\">             1101</td></tr>\n",
       "</tbody>\n",
       "</table>"
      ]
     },
     "metadata": {},
     "output_type": "display_data"
    },
    {
     "data": {
      "text/html": [
       "<h3>Strategy-RANDOM |  | Experiment 1</h3>\n"
      ]
     },
     "metadata": {},
     "output_type": "display_data"
    },
    {
     "data": {
      "text/html": [
       "<table>\n",
       "<thead>\n",
       "<tr><th style=\"text-align: right;\">      Cumulative \n",
       "Return (%)</th><th style=\"text-align: right;\">     Maximum Earning \n",
       "Rate (%)</th><th style=\"text-align: right;\">        Maximum \n",
       "Pullback (%)</th><th style=\"text-align: right;\">        Average Profitability \n",
       "per Trade</th><th style=\"text-align: right;\">  Sharpe Ratio</th><th style=\"text-align: right;\">  Total Timesteps</th></tr>\n",
       "</thead>\n",
       "<tbody>\n",
       "<tr><td style=\"text-align: right;\">36.55</td><td style=\"text-align: right;\">42.5</td><td style=\"text-align: right;\">38.3897</td><td style=\"text-align: right;\">998.755</td><td style=\"text-align: right;\">        0.1012</td><td style=\"text-align: right;\">             1101</td></tr>\n",
       "</tbody>\n",
       "</table>"
      ]
     },
     "metadata": {},
     "output_type": "display_data"
    },
    {
     "data": {
      "text/html": [
       "<h3>Reward Function-Differential Sharpe Ratio_0.1 | Strategy-PPOLSTM | Experiment 1</h3>\n"
      ]
     },
     "metadata": {},
     "output_type": "display_data"
    },
    {
     "data": {
      "text/html": [
       "<table>\n",
       "<thead>\n",
       "<tr><th style=\"text-align: right;\">      Cumulative \n",
       "Return (%)</th><th style=\"text-align: right;\">      Maximum Earning \n",
       "Rate (%)</th><th style=\"text-align: right;\">        Maximum \n",
       "Pullback (%)</th><th style=\"text-align: right;\">        Average Profitability \n",
       "per Trade</th><th style=\"text-align: right;\">  Sharpe Ratio</th><th style=\"text-align: right;\">  Total Timesteps</th></tr>\n",
       "</thead>\n",
       "<tbody>\n",
       "<tr><td style=\"text-align: right;\">36.97</td><td style=\"text-align: right;\">38.06</td><td style=\"text-align: right;\">29.5121</td><td style=\"text-align: right;\">1010.15</td><td style=\"text-align: right;\">        0.0916</td><td style=\"text-align: right;\">             1101</td></tr>\n",
       "</tbody>\n",
       "</table>"
      ]
     },
     "metadata": {},
     "output_type": "display_data"
    },
    {
     "data": {
      "text/html": [
       "<h3>Strategy-RANDOM |  | Experiment 1</h3>\n"
      ]
     },
     "metadata": {},
     "output_type": "display_data"
    },
    {
     "data": {
      "text/html": [
       "<table>\n",
       "<thead>\n",
       "<tr><th style=\"text-align: right;\">      Cumulative \n",
       "Return (%)</th><th style=\"text-align: right;\">      Maximum Earning \n",
       "Rate (%)</th><th style=\"text-align: right;\">        Maximum \n",
       "Pullback (%)</th><th style=\"text-align: right;\">        Average Profitability \n",
       "per Trade</th><th style=\"text-align: right;\">  Sharpe Ratio</th><th style=\"text-align: right;\">  Total Timesteps</th></tr>\n",
       "</thead>\n",
       "<tbody>\n",
       "<tr><td style=\"text-align: right;\">39.22</td><td style=\"text-align: right;\">43.61</td><td style=\"text-align: right;\">28.1215</td><td style=\"text-align: right;\">1071.67</td><td style=\"text-align: right;\">         0.103</td><td style=\"text-align: right;\">             1101</td></tr>\n",
       "</tbody>\n",
       "</table>"
      ]
     },
     "metadata": {},
     "output_type": "display_data"
    },
    {
     "data": {
      "text/html": [
       "<h3>Reward Function-Differential Sharpe Ratio_0.1 | Strategy-PPOLSTM | Experiment 1</h3>\n"
      ]
     },
     "metadata": {},
     "output_type": "display_data"
    },
    {
     "data": {
      "text/html": [
       "<table>\n",
       "<thead>\n",
       "<tr><th style=\"text-align: right;\">      Cumulative \n",
       "Return (%)</th><th style=\"text-align: right;\">      Maximum Earning \n",
       "Rate (%)</th><th style=\"text-align: right;\">        Maximum \n",
       "Pullback (%)</th><th style=\"text-align: right;\">       Average Profitability \n",
       "per Trade</th><th style=\"text-align: right;\">  Sharpe Ratio</th><th style=\"text-align: right;\">  Total Timesteps</th></tr>\n",
       "</thead>\n",
       "<tbody>\n",
       "<tr><td style=\"text-align: right;\">30.85</td><td style=\"text-align: right;\">35.26</td><td style=\"text-align: right;\">52.7683</td><td style=\"text-align: right;\">842.85</td><td style=\"text-align: right;\">        0.0751</td><td style=\"text-align: right;\">             1101</td></tr>\n",
       "</tbody>\n",
       "</table>"
      ]
     },
     "metadata": {},
     "output_type": "display_data"
    },
    {
     "data": {
      "text/html": [
       "<h3>Strategy-RANDOM |  | Experiment 1</h3>\n"
      ]
     },
     "metadata": {},
     "output_type": "display_data"
    },
    {
     "data": {
      "text/html": [
       "<table>\n",
       "<thead>\n",
       "<tr><th style=\"text-align: right;\">      Cumulative \n",
       "Return (%)</th><th style=\"text-align: right;\">      Maximum Earning \n",
       "Rate (%)</th><th style=\"text-align: right;\">        Maximum \n",
       "Pullback (%)</th><th style=\"text-align: right;\">        Average Profitability \n",
       "per Trade</th><th style=\"text-align: right;\">  Sharpe Ratio</th><th style=\"text-align: right;\">  Total Timesteps</th></tr>\n",
       "</thead>\n",
       "<tbody>\n",
       "<tr><td style=\"text-align: right;\">26.15</td><td style=\"text-align: right;\">32.25</td><td style=\"text-align: right;\">29.8918</td><td style=\"text-align: right;\">714.475</td><td style=\"text-align: right;\">        0.0704</td><td style=\"text-align: right;\">             1101</td></tr>\n",
       "</tbody>\n",
       "</table>"
      ]
     },
     "metadata": {},
     "output_type": "display_data"
    },
    {
     "data": {
      "text/html": [
       "<h3>Reward Function-Differential Sharpe Ratio_0.1 | Strategy-PPOLSTM | Experiment 1</h3>\n"
      ]
     },
     "metadata": {},
     "output_type": "display_data"
    },
    {
     "data": {
      "text/html": [
       "<table>\n",
       "<thead>\n",
       "<tr><th style=\"text-align: right;\">      Cumulative \n",
       "Return (%)</th><th style=\"text-align: right;\">      Maximum Earning \n",
       "Rate (%)</th><th style=\"text-align: right;\">        Maximum \n",
       "Pullback (%)</th><th style=\"text-align: right;\">        Average Profitability \n",
       "per Trade</th><th style=\"text-align: right;\">  Sharpe Ratio</th><th style=\"text-align: right;\">  Total Timesteps</th></tr>\n",
       "</thead>\n",
       "<tbody>\n",
       "<tr><td style=\"text-align: right;\">22.73</td><td style=\"text-align: right;\">35.67</td><td style=\"text-align: right;\">27.3061</td><td style=\"text-align: right;\">621.045</td><td style=\"text-align: right;\">        0.0601</td><td style=\"text-align: right;\">             1101</td></tr>\n",
       "</tbody>\n",
       "</table>"
      ]
     },
     "metadata": {},
     "output_type": "display_data"
    },
    {
     "data": {
      "text/html": [
       "<h3>Strategy-RANDOM |  | Experiment 1</h3>\n"
      ]
     },
     "metadata": {},
     "output_type": "display_data"
    },
    {
     "data": {
      "text/html": [
       "<table>\n",
       "<thead>\n",
       "<tr><th style=\"text-align: right;\">      Cumulative \n",
       "Return (%)</th><th style=\"text-align: right;\">      Maximum Earning \n",
       "Rate (%)</th><th style=\"text-align: right;\">        Maximum \n",
       "Pullback (%)</th><th style=\"text-align: right;\">        Average Profitability \n",
       "per Trade</th><th style=\"text-align: right;\">  Sharpe Ratio</th><th style=\"text-align: right;\">  Total Timesteps</th></tr>\n",
       "</thead>\n",
       "<tbody>\n",
       "<tr><td style=\"text-align: right;\">33.13</td><td style=\"text-align: right;\">33.63</td><td style=\"text-align: right;\">28.8985</td><td style=\"text-align: right;\">905.133</td><td style=\"text-align: right;\">        0.0932</td><td style=\"text-align: right;\">             1101</td></tr>\n",
       "</tbody>\n",
       "</table>"
      ]
     },
     "metadata": {},
     "output_type": "display_data"
    },
    {
     "data": {
      "text/html": [
       "<h3>Reward Function-Differential Sharpe Ratio_0.1 | Strategy-PPOLSTM | Experiment 1</h3>\n"
      ]
     },
     "metadata": {},
     "output_type": "display_data"
    },
    {
     "data": {
      "text/html": [
       "<table>\n",
       "<thead>\n",
       "<tr><th style=\"text-align: right;\">     Cumulative \n",
       "Return (%)</th><th style=\"text-align: right;\">      Maximum Earning \n",
       "Rate (%)</th><th style=\"text-align: right;\">        Maximum \n",
       "Pullback (%)</th><th style=\"text-align: right;\">        Average Profitability \n",
       "per Trade</th><th style=\"text-align: right;\">  Sharpe Ratio</th><th style=\"text-align: right;\">  Total Timesteps</th></tr>\n",
       "</thead>\n",
       "<tbody>\n",
       "<tr><td style=\"text-align: right;\">11.9</td><td style=\"text-align: right;\">21.85</td><td style=\"text-align: right;\">28.3496</td><td style=\"text-align: right;\">325.163</td><td style=\"text-align: right;\">        0.0341</td><td style=\"text-align: right;\">             1101</td></tr>\n",
       "</tbody>\n",
       "</table>"
      ]
     },
     "metadata": {},
     "output_type": "display_data"
    },
    {
     "data": {
      "text/html": [
       "<h3>Strategy-RANDOM |  | Experiment 1</h3>\n"
      ]
     },
     "metadata": {},
     "output_type": "display_data"
    },
    {
     "data": {
      "text/html": [
       "<table>\n",
       "<thead>\n",
       "<tr><th style=\"text-align: right;\">      Cumulative \n",
       "Return (%)</th><th style=\"text-align: right;\">      Maximum Earning \n",
       "Rate (%)</th><th style=\"text-align: right;\">        Maximum \n",
       "Pullback (%)</th><th style=\"text-align: right;\">        Average Profitability \n",
       "per Trade</th><th style=\"text-align: right;\">  Sharpe Ratio</th><th style=\"text-align: right;\">  Total Timesteps</th></tr>\n",
       "</thead>\n",
       "<tbody>\n",
       "<tr><td style=\"text-align: right;\">37.61</td><td style=\"text-align: right;\">45.77</td><td style=\"text-align: right;\">40.9265</td><td style=\"text-align: right;\">1027.51</td><td style=\"text-align: right;\">        0.0941</td><td style=\"text-align: right;\">             1101</td></tr>\n",
       "</tbody>\n",
       "</table>"
      ]
     },
     "metadata": {},
     "output_type": "display_data"
    },
    {
     "data": {
      "text/html": [
       "<h3>Reward Function-Differential Sharpe Ratio_0.1 | Strategy-PPOLSTM | Experiment 1</h3>\n"
      ]
     },
     "metadata": {},
     "output_type": "display_data"
    },
    {
     "data": {
      "text/html": [
       "<table>\n",
       "<thead>\n",
       "<tr><th style=\"text-align: right;\">      Cumulative \n",
       "Return (%)</th><th style=\"text-align: right;\">      Maximum Earning \n",
       "Rate (%)</th><th style=\"text-align: right;\">        Maximum \n",
       "Pullback (%)</th><th style=\"text-align: right;\">        Average Profitability \n",
       "per Trade</th><th style=\"text-align: right;\">  Sharpe Ratio</th><th style=\"text-align: right;\">  Total Timesteps</th></tr>\n",
       "</thead>\n",
       "<tbody>\n",
       "<tr><td style=\"text-align: right;\">16.08</td><td style=\"text-align: right;\">23.07</td><td style=\"text-align: right;\">41.5293</td><td style=\"text-align: right;\">439.464</td><td style=\"text-align: right;\">        0.0498</td><td style=\"text-align: right;\">             1101</td></tr>\n",
       "</tbody>\n",
       "</table>"
      ]
     },
     "metadata": {},
     "output_type": "display_data"
    },
    {
     "data": {
      "text/html": [
       "<h3>Strategy-RANDOM |  | Experiment 1</h3>\n"
      ]
     },
     "metadata": {},
     "output_type": "display_data"
    },
    {
     "data": {
      "text/html": [
       "<table>\n",
       "<thead>\n",
       "<tr><th style=\"text-align: right;\">      Cumulative \n",
       "Return (%)</th><th style=\"text-align: right;\">      Maximum Earning \n",
       "Rate (%)</th><th style=\"text-align: right;\">        Maximum \n",
       "Pullback (%)</th><th style=\"text-align: right;\">        Average Profitability \n",
       "per Trade</th><th style=\"text-align: right;\">  Sharpe Ratio</th><th style=\"text-align: right;\">  Total Timesteps</th></tr>\n",
       "</thead>\n",
       "<tbody>\n",
       "<tr><td style=\"text-align: right;\">32.71</td><td style=\"text-align: right;\">35.29</td><td style=\"text-align: right;\">36.6237</td><td style=\"text-align: right;\">893.815</td><td style=\"text-align: right;\">        0.0899</td><td style=\"text-align: right;\">             1101</td></tr>\n",
       "</tbody>\n",
       "</table>"
      ]
     },
     "metadata": {},
     "output_type": "display_data"
    },
    {
     "data": {
      "text/html": [
       "<h3>Reward Function-Differential Sharpe Ratio_0.1 | Strategy-PPOLSTM | Experiment 1</h3>\n"
      ]
     },
     "metadata": {},
     "output_type": "display_data"
    },
    {
     "data": {
      "text/html": [
       "<table>\n",
       "<thead>\n",
       "<tr><th style=\"text-align: right;\">      Cumulative \n",
       "Return (%)</th><th style=\"text-align: right;\">      Maximum Earning \n",
       "Rate (%)</th><th style=\"text-align: right;\">        Maximum \n",
       "Pullback (%)</th><th style=\"text-align: right;\">        Average Profitability \n",
       "per Trade</th><th style=\"text-align: right;\">  Sharpe Ratio</th><th style=\"text-align: right;\">  Total Timesteps</th></tr>\n",
       "</thead>\n",
       "<tbody>\n",
       "<tr><td style=\"text-align: right;\">40.03</td><td style=\"text-align: right;\">49.29</td><td style=\"text-align: right;\">22.4695</td><td style=\"text-align: right;\">1093.73</td><td style=\"text-align: right;\">        0.1085</td><td style=\"text-align: right;\">             1101</td></tr>\n",
       "</tbody>\n",
       "</table>"
      ]
     },
     "metadata": {},
     "output_type": "display_data"
    },
    {
     "data": {
      "text/html": [
       "<h3>Strategy-RANDOM |  | Experiment 1</h3>\n"
      ]
     },
     "metadata": {},
     "output_type": "display_data"
    },
    {
     "data": {
      "text/html": [
       "<table>\n",
       "<thead>\n",
       "<tr><th style=\"text-align: right;\">      Cumulative \n",
       "Return (%)</th><th style=\"text-align: right;\">     Maximum Earning \n",
       "Rate (%)</th><th style=\"text-align: right;\">        Maximum \n",
       "Pullback (%)</th><th style=\"text-align: right;\">        Average Profitability \n",
       "per Trade</th><th style=\"text-align: right;\">  Sharpe Ratio</th><th style=\"text-align: right;\">  Total Timesteps</th></tr>\n",
       "</thead>\n",
       "<tbody>\n",
       "<tr><td style=\"text-align: right;\">14.19</td><td style=\"text-align: right;\">20.1</td><td style=\"text-align: right;\">31.7167</td><td style=\"text-align: right;\">387.775</td><td style=\"text-align: right;\">        0.0423</td><td style=\"text-align: right;\">             1101</td></tr>\n",
       "</tbody>\n",
       "</table>"
      ]
     },
     "metadata": {},
     "output_type": "display_data"
    },
    {
     "data": {
      "text/html": [
       "<h3>Reward Function-Differential Sharpe Ratio_0.1 | Strategy-PPOLSTM | Experiment 1</h3>\n"
      ]
     },
     "metadata": {},
     "output_type": "display_data"
    },
    {
     "data": {
      "text/html": [
       "<table>\n",
       "<thead>\n",
       "<tr><th style=\"text-align: right;\">      Cumulative \n",
       "Return (%)</th><th style=\"text-align: right;\">      Maximum Earning \n",
       "Rate (%)</th><th style=\"text-align: right;\">        Maximum \n",
       "Pullback (%)</th><th style=\"text-align: right;\">        Average Profitability \n",
       "per Trade</th><th style=\"text-align: right;\">  Sharpe Ratio</th><th style=\"text-align: right;\">  Total Timesteps</th></tr>\n",
       "</thead>\n",
       "<tbody>\n",
       "<tr><td style=\"text-align: right;\">41.75</td><td style=\"text-align: right;\">48.41</td><td style=\"text-align: right;\">45.3051</td><td style=\"text-align: right;\">1140.75</td><td style=\"text-align: right;\">         0.109</td><td style=\"text-align: right;\">             1101</td></tr>\n",
       "</tbody>\n",
       "</table>"
      ]
     },
     "metadata": {},
     "output_type": "display_data"
    },
    {
     "data": {
      "text/html": [
       "<h3>Strategy-RANDOM |  | Experiment 1</h3>\n"
      ]
     },
     "metadata": {},
     "output_type": "display_data"
    },
    {
     "data": {
      "text/html": [
       "<table>\n",
       "<thead>\n",
       "<tr><th style=\"text-align: right;\">      Cumulative \n",
       "Return (%)</th><th style=\"text-align: right;\">      Maximum Earning \n",
       "Rate (%)</th><th style=\"text-align: right;\">        Maximum \n",
       "Pullback (%)</th><th style=\"text-align: right;\">        Average Profitability \n",
       "per Trade</th><th style=\"text-align: right;\">  Sharpe Ratio</th><th style=\"text-align: right;\">  Total Timesteps</th></tr>\n",
       "</thead>\n",
       "<tbody>\n",
       "<tr><td style=\"text-align: right;\">27.21</td><td style=\"text-align: right;\">32.91</td><td style=\"text-align: right;\">22.8075</td><td style=\"text-align: right;\">743.383</td><td style=\"text-align: right;\">        0.0814</td><td style=\"text-align: right;\">             1101</td></tr>\n",
       "</tbody>\n",
       "</table>"
      ]
     },
     "metadata": {},
     "output_type": "display_data"
    },
    {
     "data": {
      "text/html": [
       "<h3>Reward Function-Differential Sharpe Ratio_0.1 | Strategy-PPOLSTM | Experiment 1</h3>\n"
      ]
     },
     "metadata": {},
     "output_type": "display_data"
    },
    {
     "data": {
      "text/html": [
       "<table>\n",
       "<thead>\n",
       "<tr><th style=\"text-align: right;\">      Cumulative \n",
       "Return (%)</th><th style=\"text-align: right;\">     Maximum Earning \n",
       "Rate (%)</th><th style=\"text-align: right;\">        Maximum \n",
       "Pullback (%)</th><th style=\"text-align: right;\">     Average Profitability \n",
       "per Trade</th><th style=\"text-align: right;\">  Sharpe Ratio</th><th style=\"text-align: right;\">  Total Timesteps</th></tr>\n",
       "</thead>\n",
       "<tbody>\n",
       "<tr><td style=\"text-align: right;\">39.31</td><td style=\"text-align: right;\">42.2</td><td style=\"text-align: right;\">37.3699</td><td style=\"text-align: right;\">1074</td><td style=\"text-align: right;\">        0.1079</td><td style=\"text-align: right;\">             1101</td></tr>\n",
       "</tbody>\n",
       "</table>"
      ]
     },
     "metadata": {},
     "output_type": "display_data"
    },
    {
     "data": {
      "text/html": [
       "<h3>Strategy-RANDOM |  | Experiment 1</h3>\n"
      ]
     },
     "metadata": {},
     "output_type": "display_data"
    },
    {
     "data": {
      "text/html": [
       "<table>\n",
       "<thead>\n",
       "<tr><th style=\"text-align: right;\">      Cumulative \n",
       "Return (%)</th><th style=\"text-align: right;\">      Maximum Earning \n",
       "Rate (%)</th><th style=\"text-align: right;\">        Maximum \n",
       "Pullback (%)</th><th style=\"text-align: right;\">        Average Profitability \n",
       "per Trade</th><th style=\"text-align: right;\">  Sharpe Ratio</th><th style=\"text-align: right;\">  Total Timesteps</th></tr>\n",
       "</thead>\n",
       "<tbody>\n",
       "<tr><td style=\"text-align: right;\">26.03</td><td style=\"text-align: right;\">30.24</td><td style=\"text-align: right;\">28.3166</td><td style=\"text-align: right;\">711.222</td><td style=\"text-align: right;\">        0.0756</td><td style=\"text-align: right;\">             1101</td></tr>\n",
       "</tbody>\n",
       "</table>"
      ]
     },
     "metadata": {},
     "output_type": "display_data"
    },
    {
     "data": {
      "text/html": [
       "<h3>Reward Function-Differential Sharpe Ratio_0.1 | Strategy-PPOLSTM | Experiment 1</h3>\n"
      ]
     },
     "metadata": {},
     "output_type": "display_data"
    },
    {
     "data": {
      "text/html": [
       "<table>\n",
       "<thead>\n",
       "<tr><th style=\"text-align: right;\">      Cumulative \n",
       "Return (%)</th><th style=\"text-align: right;\">      Maximum Earning \n",
       "Rate (%)</th><th style=\"text-align: right;\">        Maximum \n",
       "Pullback (%)</th><th style=\"text-align: right;\">        Average Profitability \n",
       "per Trade</th><th style=\"text-align: right;\">  Sharpe Ratio</th><th style=\"text-align: right;\">  Total Timesteps</th></tr>\n",
       "</thead>\n",
       "<tbody>\n",
       "<tr><td style=\"text-align: right;\">50.51</td><td style=\"text-align: right;\">50.51</td><td style=\"text-align: right;\">29.9122</td><td style=\"text-align: right;\">1379.96</td><td style=\"text-align: right;\">        0.1282</td><td style=\"text-align: right;\">             1101</td></tr>\n",
       "</tbody>\n",
       "</table>"
      ]
     },
     "metadata": {},
     "output_type": "display_data"
    },
    {
     "data": {
      "text/html": [
       "<h3>Strategy-RANDOM |  | Experiment 1</h3>\n"
      ]
     },
     "metadata": {},
     "output_type": "display_data"
    },
    {
     "data": {
      "text/html": [
       "<table>\n",
       "<thead>\n",
       "<tr><th style=\"text-align: right;\">      Cumulative \n",
       "Return (%)</th><th style=\"text-align: right;\">      Maximum Earning \n",
       "Rate (%)</th><th style=\"text-align: right;\">        Maximum \n",
       "Pullback (%)</th><th style=\"text-align: right;\">        Average Profitability \n",
       "per Trade</th><th style=\"text-align: right;\">  Sharpe Ratio</th><th style=\"text-align: right;\">  Total Timesteps</th></tr>\n",
       "</thead>\n",
       "<tbody>\n",
       "<tr><td style=\"text-align: right;\">29.18</td><td style=\"text-align: right;\">31.32</td><td style=\"text-align: right;\">32.7261</td><td style=\"text-align: right;\">797.163</td><td style=\"text-align: right;\">        0.0808</td><td style=\"text-align: right;\">             1101</td></tr>\n",
       "</tbody>\n",
       "</table>"
      ]
     },
     "metadata": {},
     "output_type": "display_data"
    },
    {
     "data": {
      "text/html": [
       "<h3>Reward Function-CVaR | Strategy-PPOLSTM | Experiment 1</h3>\n"
      ]
     },
     "metadata": {},
     "output_type": "display_data"
    },
    {
     "data": {
      "text/html": [
       "<table>\n",
       "<thead>\n",
       "<tr><th style=\"text-align: right;\">      Cumulative \n",
       "Return (%)</th><th style=\"text-align: right;\">      Maximum Earning \n",
       "Rate (%)</th><th style=\"text-align: right;\">       Maximum \n",
       "Pullback (%)</th><th style=\"text-align: right;\">        Average Profitability \n",
       "per Trade</th><th style=\"text-align: right;\">  Sharpe Ratio</th><th style=\"text-align: right;\">  Total Timesteps</th></tr>\n",
       "</thead>\n",
       "<tbody>\n",
       "<tr><td style=\"text-align: right;\">21.97</td><td style=\"text-align: right;\">24.18</td><td style=\"text-align: right;\">26.112</td><td style=\"text-align: right;\">600.407</td><td style=\"text-align: right;\">        0.0711</td><td style=\"text-align: right;\">             1101</td></tr>\n",
       "</tbody>\n",
       "</table>"
      ]
     },
     "metadata": {},
     "output_type": "display_data"
    },
    {
     "data": {
      "text/html": [
       "<h3>Strategy-RANDOM |  | Experiment 1</h3>\n"
      ]
     },
     "metadata": {},
     "output_type": "display_data"
    },
    {
     "data": {
      "text/html": [
       "<table>\n",
       "<thead>\n",
       "<tr><th style=\"text-align: right;\">      Cumulative \n",
       "Return (%)</th><th style=\"text-align: right;\">      Maximum Earning \n",
       "Rate (%)</th><th style=\"text-align: right;\">        Maximum \n",
       "Pullback (%)</th><th style=\"text-align: right;\">       Average Profitability \n",
       "per Trade</th><th style=\"text-align: right;\">  Sharpe Ratio</th><th style=\"text-align: right;\">  Total Timesteps</th></tr>\n",
       "</thead>\n",
       "<tbody>\n",
       "<tr><td style=\"text-align: right;\">19.91</td><td style=\"text-align: right;\">25.43</td><td style=\"text-align: right;\">32.6031</td><td style=\"text-align: right;\">544.02</td><td style=\"text-align: right;\">        0.0565</td><td style=\"text-align: right;\">             1101</td></tr>\n",
       "</tbody>\n",
       "</table>"
      ]
     },
     "metadata": {},
     "output_type": "display_data"
    },
    {
     "data": {
      "text/html": [
       "<h3>Reward Function-CVaR | Strategy-PPOLSTM | Experiment 1</h3>\n"
      ]
     },
     "metadata": {},
     "output_type": "display_data"
    },
    {
     "data": {
      "text/html": [
       "<table>\n",
       "<thead>\n",
       "<tr><th style=\"text-align: right;\">      Cumulative \n",
       "Return (%)</th><th style=\"text-align: right;\">      Maximum Earning \n",
       "Rate (%)</th><th style=\"text-align: right;\">        Maximum \n",
       "Pullback (%)</th><th style=\"text-align: right;\">        Average Profitability \n",
       "per Trade</th><th style=\"text-align: right;\">  Sharpe Ratio</th><th style=\"text-align: right;\">  Total Timesteps</th></tr>\n",
       "</thead>\n",
       "<tbody>\n",
       "<tr><td style=\"text-align: right;\">34.09</td><td style=\"text-align: right;\">44.99</td><td style=\"text-align: right;\">26.4371</td><td style=\"text-align: right;\">931.303</td><td style=\"text-align: right;\">        0.0711</td><td style=\"text-align: right;\">             1101</td></tr>\n",
       "</tbody>\n",
       "</table>"
      ]
     },
     "metadata": {},
     "output_type": "display_data"
    },
    {
     "data": {
      "text/html": [
       "<h3>Strategy-RANDOM |  | Experiment 1</h3>\n"
      ]
     },
     "metadata": {},
     "output_type": "display_data"
    },
    {
     "data": {
      "text/html": [
       "<table>\n",
       "<thead>\n",
       "<tr><th style=\"text-align: right;\">     Cumulative \n",
       "Return (%)</th><th style=\"text-align: right;\">      Maximum Earning \n",
       "Rate (%)</th><th style=\"text-align: right;\">        Maximum \n",
       "Pullback (%)</th><th style=\"text-align: right;\">        Average Profitability \n",
       "per Trade</th><th style=\"text-align: right;\">  Sharpe Ratio</th><th style=\"text-align: right;\">  Total Timesteps</th></tr>\n",
       "</thead>\n",
       "<tbody>\n",
       "<tr><td style=\"text-align: right;\">23.1</td><td style=\"text-align: right;\">33.48</td><td style=\"text-align: right;\">27.1835</td><td style=\"text-align: right;\">631.117</td><td style=\"text-align: right;\">        0.0667</td><td style=\"text-align: right;\">             1101</td></tr>\n",
       "</tbody>\n",
       "</table>"
      ]
     },
     "metadata": {},
     "output_type": "display_data"
    },
    {
     "data": {
      "text/html": [
       "<h3>Reward Function-CVaR | Strategy-PPOLSTM | Experiment 1</h3>\n"
      ]
     },
     "metadata": {},
     "output_type": "display_data"
    },
    {
     "data": {
      "text/html": [
       "<table>\n",
       "<thead>\n",
       "<tr><th style=\"text-align: right;\">      Cumulative \n",
       "Return (%)</th><th style=\"text-align: right;\">      Maximum Earning \n",
       "Rate (%)</th><th style=\"text-align: right;\">        Maximum \n",
       "Pullback (%)</th><th style=\"text-align: right;\">        Average Profitability \n",
       "per Trade</th><th style=\"text-align: right;\">  Sharpe Ratio</th><th style=\"text-align: right;\">  Total Timesteps</th></tr>\n",
       "</thead>\n",
       "<tbody>\n",
       "<tr><td style=\"text-align: right;\">26.75</td><td style=\"text-align: right;\">27.16</td><td style=\"text-align: right;\">26.8914</td><td style=\"text-align: right;\">730.905</td><td style=\"text-align: right;\">        0.0799</td><td style=\"text-align: right;\">             1101</td></tr>\n",
       "</tbody>\n",
       "</table>"
      ]
     },
     "metadata": {},
     "output_type": "display_data"
    },
    {
     "data": {
      "text/html": [
       "<h3>Strategy-RANDOM |  | Experiment 1</h3>\n"
      ]
     },
     "metadata": {},
     "output_type": "display_data"
    },
    {
     "data": {
      "text/html": [
       "<table>\n",
       "<thead>\n",
       "<tr><th style=\"text-align: right;\">      Cumulative \n",
       "Return (%)</th><th style=\"text-align: right;\">     Maximum Earning \n",
       "Rate (%)</th><th style=\"text-align: right;\">        Maximum \n",
       "Pullback (%)</th><th style=\"text-align: right;\">        Average Profitability \n",
       "per Trade</th><th style=\"text-align: right;\">  Sharpe Ratio</th><th style=\"text-align: right;\">  Total Timesteps</th></tr>\n",
       "</thead>\n",
       "<tbody>\n",
       "<tr><td style=\"text-align: right;\">35.44</td><td style=\"text-align: right;\">42.5</td><td style=\"text-align: right;\">25.6416</td><td style=\"text-align: right;\">968.297</td><td style=\"text-align: right;\">        0.0995</td><td style=\"text-align: right;\">             1101</td></tr>\n",
       "</tbody>\n",
       "</table>"
      ]
     },
     "metadata": {},
     "output_type": "display_data"
    },
    {
     "data": {
      "text/html": [
       "<h3>Reward Function-CVaR | Strategy-PPOLSTM | Experiment 1</h3>\n"
      ]
     },
     "metadata": {},
     "output_type": "display_data"
    },
    {
     "data": {
      "text/html": [
       "<table>\n",
       "<thead>\n",
       "<tr><th style=\"text-align: right;\">      Cumulative \n",
       "Return (%)</th><th style=\"text-align: right;\">      Maximum Earning \n",
       "Rate (%)</th><th style=\"text-align: right;\">        Maximum \n",
       "Pullback (%)</th><th style=\"text-align: right;\">        Average Profitability \n",
       "per Trade</th><th style=\"text-align: right;\">  Sharpe Ratio</th><th style=\"text-align: right;\">  Total Timesteps</th></tr>\n",
       "</thead>\n",
       "<tbody>\n",
       "<tr><td style=\"text-align: right;\">44.45</td><td style=\"text-align: right;\">56.43</td><td style=\"text-align: right;\">24.6975</td><td style=\"text-align: right;\">1214.57</td><td style=\"text-align: right;\">        0.0923</td><td style=\"text-align: right;\">             1101</td></tr>\n",
       "</tbody>\n",
       "</table>"
      ]
     },
     "metadata": {},
     "output_type": "display_data"
    },
    {
     "data": {
      "text/html": [
       "<h3>Strategy-RANDOM |  | Experiment 1</h3>\n"
      ]
     },
     "metadata": {},
     "output_type": "display_data"
    },
    {
     "data": {
      "text/html": [
       "<table>\n",
       "<thead>\n",
       "<tr><th style=\"text-align: right;\">      Cumulative \n",
       "Return (%)</th><th style=\"text-align: right;\">      Maximum Earning \n",
       "Rate (%)</th><th style=\"text-align: right;\">        Maximum \n",
       "Pullback (%)</th><th style=\"text-align: right;\">        Average Profitability \n",
       "per Trade</th><th style=\"text-align: right;\">  Sharpe Ratio</th><th style=\"text-align: right;\">  Total Timesteps</th></tr>\n",
       "</thead>\n",
       "<tbody>\n",
       "<tr><td style=\"text-align: right;\">25.28</td><td style=\"text-align: right;\">39.68</td><td style=\"text-align: right;\">39.9958</td><td style=\"text-align: right;\">690.637</td><td style=\"text-align: right;\">        0.0684</td><td style=\"text-align: right;\">             1101</td></tr>\n",
       "</tbody>\n",
       "</table>"
      ]
     },
     "metadata": {},
     "output_type": "display_data"
    },
    {
     "data": {
      "text/html": [
       "<h3>Reward Function-CVaR | Strategy-PPOLSTM | Experiment 1</h3>\n"
      ]
     },
     "metadata": {},
     "output_type": "display_data"
    },
    {
     "data": {
      "text/html": [
       "<table>\n",
       "<thead>\n",
       "<tr><th style=\"text-align: right;\">      Cumulative \n",
       "Return (%)</th><th style=\"text-align: right;\">   Maximum Earning \n",
       "Rate (%)</th><th style=\"text-align: right;\">        Maximum \n",
       "Pullback (%)</th><th style=\"text-align: right;\">        Average Profitability \n",
       "per Trade</th><th style=\"text-align: right;\">  Sharpe Ratio</th><th style=\"text-align: right;\">  Total Timesteps</th></tr>\n",
       "</thead>\n",
       "<tbody>\n",
       "<tr><td style=\"text-align: right;\">51.56</td><td style=\"text-align: right;\">57</td><td style=\"text-align: right;\">19.8861</td><td style=\"text-align: right;\">1408.61</td><td style=\"text-align: right;\">        0.1145</td><td style=\"text-align: right;\">             1101</td></tr>\n",
       "</tbody>\n",
       "</table>"
      ]
     },
     "metadata": {},
     "output_type": "display_data"
    },
    {
     "data": {
      "text/html": [
       "<h3>Strategy-RANDOM |  | Experiment 1</h3>\n"
      ]
     },
     "metadata": {},
     "output_type": "display_data"
    },
    {
     "data": {
      "text/html": [
       "<table>\n",
       "<thead>\n",
       "<tr><th style=\"text-align: right;\">      Cumulative \n",
       "Return (%)</th><th style=\"text-align: right;\">      Maximum Earning \n",
       "Rate (%)</th><th style=\"text-align: right;\">        Maximum \n",
       "Pullback (%)</th><th style=\"text-align: right;\">        Average Profitability \n",
       "per Trade</th><th style=\"text-align: right;\">  Sharpe Ratio</th><th style=\"text-align: right;\">  Total Timesteps</th></tr>\n",
       "</thead>\n",
       "<tbody>\n",
       "<tr><td style=\"text-align: right;\">35.53</td><td style=\"text-align: right;\">40.76</td><td style=\"text-align: right;\">35.9837</td><td style=\"text-align: right;\">970.686</td><td style=\"text-align: right;\">        0.1016</td><td style=\"text-align: right;\">             1101</td></tr>\n",
       "</tbody>\n",
       "</table>"
      ]
     },
     "metadata": {},
     "output_type": "display_data"
    },
    {
     "data": {
      "text/html": [
       "<h3>Reward Function-CVaR | Strategy-PPOLSTM | Experiment 1</h3>\n"
      ]
     },
     "metadata": {},
     "output_type": "display_data"
    },
    {
     "data": {
      "text/html": [
       "<table>\n",
       "<thead>\n",
       "<tr><th style=\"text-align: right;\">      Cumulative \n",
       "Return (%)</th><th style=\"text-align: right;\">     Maximum Earning \n",
       "Rate (%)</th><th style=\"text-align: right;\">        Maximum \n",
       "Pullback (%)</th><th style=\"text-align: right;\">        Average Profitability \n",
       "per Trade</th><th style=\"text-align: right;\">  Sharpe Ratio</th><th style=\"text-align: right;\">  Total Timesteps</th></tr>\n",
       "</thead>\n",
       "<tbody>\n",
       "<tr><td style=\"text-align: right;\">34.04</td><td style=\"text-align: right;\">43.5</td><td style=\"text-align: right;\">36.9832</td><td style=\"text-align: right;\">930.114</td><td style=\"text-align: right;\">        0.0776</td><td style=\"text-align: right;\">             1101</td></tr>\n",
       "</tbody>\n",
       "</table>"
      ]
     },
     "metadata": {},
     "output_type": "display_data"
    },
    {
     "data": {
      "text/html": [
       "<h3>Strategy-RANDOM |  | Experiment 1</h3>\n"
      ]
     },
     "metadata": {},
     "output_type": "display_data"
    },
    {
     "data": {
      "text/html": [
       "<table>\n",
       "<thead>\n",
       "<tr><th style=\"text-align: right;\">      Cumulative \n",
       "Return (%)</th><th style=\"text-align: right;\">      Maximum Earning \n",
       "Rate (%)</th><th style=\"text-align: right;\">        Maximum \n",
       "Pullback (%)</th><th style=\"text-align: right;\">       Average Profitability \n",
       "per Trade</th><th style=\"text-align: right;\">  Sharpe Ratio</th><th style=\"text-align: right;\">  Total Timesteps</th></tr>\n",
       "</thead>\n",
       "<tbody>\n",
       "<tr><td style=\"text-align: right;\">58.04</td><td style=\"text-align: right;\">61.49</td><td style=\"text-align: right;\">34.6342</td><td style=\"text-align: right;\">1585.8</td><td style=\"text-align: right;\">        0.1313</td><td style=\"text-align: right;\">             1101</td></tr>\n",
       "</tbody>\n",
       "</table>"
      ]
     },
     "metadata": {},
     "output_type": "display_data"
    },
    {
     "data": {
      "text/html": [
       "<h3>Reward Function-CVaR | Strategy-PPOLSTM | Experiment 1</h3>\n"
      ]
     },
     "metadata": {},
     "output_type": "display_data"
    },
    {
     "data": {
      "text/html": [
       "<table>\n",
       "<thead>\n",
       "<tr><th style=\"text-align: right;\">      Cumulative \n",
       "Return (%)</th><th style=\"text-align: right;\">      Maximum Earning \n",
       "Rate (%)</th><th style=\"text-align: right;\">        Maximum \n",
       "Pullback (%)</th><th style=\"text-align: right;\">        Average Profitability \n",
       "per Trade</th><th style=\"text-align: right;\">  Sharpe Ratio</th><th style=\"text-align: right;\">  Total Timesteps</th></tr>\n",
       "</thead>\n",
       "<tbody>\n",
       "<tr><td style=\"text-align: right;\">59.82</td><td style=\"text-align: right;\">63.04</td><td style=\"text-align: right;\">24.7426</td><td style=\"text-align: right;\">1634.48</td><td style=\"text-align: right;\">        0.1372</td><td style=\"text-align: right;\">             1101</td></tr>\n",
       "</tbody>\n",
       "</table>"
      ]
     },
     "metadata": {},
     "output_type": "display_data"
    },
    {
     "data": {
      "text/html": [
       "<h3>Strategy-RANDOM |  | Experiment 1</h3>\n"
      ]
     },
     "metadata": {},
     "output_type": "display_data"
    },
    {
     "data": {
      "text/html": [
       "<table>\n",
       "<thead>\n",
       "<tr><th style=\"text-align: right;\">     Cumulative \n",
       "Return (%)</th><th style=\"text-align: right;\">      Maximum Earning \n",
       "Rate (%)</th><th style=\"text-align: right;\">        Maximum \n",
       "Pullback (%)</th><th style=\"text-align: right;\">        Average Profitability \n",
       "per Trade</th><th style=\"text-align: right;\">  Sharpe Ratio</th><th style=\"text-align: right;\">  Total Timesteps</th></tr>\n",
       "</thead>\n",
       "<tbody>\n",
       "<tr><td style=\"text-align: right;\">24.9</td><td style=\"text-align: right;\">26.58</td><td style=\"text-align: right;\">32.9662</td><td style=\"text-align: right;\">680.313</td><td style=\"text-align: right;\">        0.0745</td><td style=\"text-align: right;\">             1101</td></tr>\n",
       "</tbody>\n",
       "</table>"
      ]
     },
     "metadata": {},
     "output_type": "display_data"
    },
    {
     "data": {
      "text/html": [
       "<h3>Reward Function-CVaR | Strategy-PPOLSTM | Experiment 1</h3>\n"
      ]
     },
     "metadata": {},
     "output_type": "display_data"
    },
    {
     "data": {
      "text/html": [
       "<table>\n",
       "<thead>\n",
       "<tr><th style=\"text-align: right;\">      Cumulative \n",
       "Return (%)</th><th style=\"text-align: right;\">     Maximum Earning \n",
       "Rate (%)</th><th style=\"text-align: right;\">        Maximum \n",
       "Pullback (%)</th><th style=\"text-align: right;\">         Average Profitability \n",
       "per Trade</th><th style=\"text-align: right;\">  Sharpe Ratio</th><th style=\"text-align: right;\">  Total Timesteps</th></tr>\n",
       "</thead>\n",
       "<tbody>\n",
       "<tr><td style=\"text-align: right;\">-2.86</td><td style=\"text-align: right;\">16.5</td><td style=\"text-align: right;\">39.4915</td><td style=\"text-align: right;\">-78.2638</td><td style=\"text-align: right;\">       -0.0081</td><td style=\"text-align: right;\">             1101</td></tr>\n",
       "</tbody>\n",
       "</table>"
      ]
     },
     "metadata": {},
     "output_type": "display_data"
    },
    {
     "data": {
      "text/html": [
       "<h3>Strategy-RANDOM |  | Experiment 1</h3>\n"
      ]
     },
     "metadata": {},
     "output_type": "display_data"
    },
    {
     "data": {
      "text/html": [
       "<table>\n",
       "<thead>\n",
       "<tr><th style=\"text-align: right;\">      Cumulative \n",
       "Return (%)</th><th style=\"text-align: right;\">      Maximum Earning \n",
       "Rate (%)</th><th style=\"text-align: right;\">       Maximum \n",
       "Pullback (%)</th><th style=\"text-align: right;\">        Average Profitability \n",
       "per Trade</th><th style=\"text-align: right;\">  Sharpe Ratio</th><th style=\"text-align: right;\">  Total Timesteps</th></tr>\n",
       "</thead>\n",
       "<tbody>\n",
       "<tr><td style=\"text-align: right;\">30.89</td><td style=\"text-align: right;\">31.94</td><td style=\"text-align: right;\">26.365</td><td style=\"text-align: right;\">843.974</td><td style=\"text-align: right;\">         0.091</td><td style=\"text-align: right;\">             1101</td></tr>\n",
       "</tbody>\n",
       "</table>"
      ]
     },
     "metadata": {},
     "output_type": "display_data"
    },
    {
     "data": {
      "text/html": [
       "<h3>Reward Function-CVaR | Strategy-PPOLSTM | Experiment 1</h3>\n"
      ]
     },
     "metadata": {},
     "output_type": "display_data"
    },
    {
     "data": {
      "text/html": [
       "<table>\n",
       "<thead>\n",
       "<tr><th style=\"text-align: right;\">      Cumulative \n",
       "Return (%)</th><th style=\"text-align: right;\">      Maximum Earning \n",
       "Rate (%)</th><th style=\"text-align: right;\">        Maximum \n",
       "Pullback (%)</th><th style=\"text-align: right;\">        Average Profitability \n",
       "per Trade</th><th style=\"text-align: right;\">  Sharpe Ratio</th><th style=\"text-align: right;\">  Total Timesteps</th></tr>\n",
       "</thead>\n",
       "<tbody>\n",
       "<tr><td style=\"text-align: right;\">16.04</td><td style=\"text-align: right;\">19.59</td><td style=\"text-align: right;\">22.7395</td><td style=\"text-align: right;\">438.179</td><td style=\"text-align: right;\">        0.0487</td><td style=\"text-align: right;\">             1101</td></tr>\n",
       "</tbody>\n",
       "</table>"
      ]
     },
     "metadata": {},
     "output_type": "display_data"
    },
    {
     "data": {
      "text/html": [
       "<h3>Strategy-RANDOM |  | Experiment 1</h3>\n"
      ]
     },
     "metadata": {},
     "output_type": "display_data"
    },
    {
     "data": {
      "text/html": [
       "<table>\n",
       "<thead>\n",
       "<tr><th style=\"text-align: right;\">      Cumulative \n",
       "Return (%)</th><th style=\"text-align: right;\">      Maximum Earning \n",
       "Rate (%)</th><th style=\"text-align: right;\">        Maximum \n",
       "Pullback (%)</th><th style=\"text-align: right;\">        Average Profitability \n",
       "per Trade</th><th style=\"text-align: right;\">  Sharpe Ratio</th><th style=\"text-align: right;\">  Total Timesteps</th></tr>\n",
       "</thead>\n",
       "<tbody>\n",
       "<tr><td style=\"text-align: right;\">29.18</td><td style=\"text-align: right;\">36.01</td><td style=\"text-align: right;\">28.3049</td><td style=\"text-align: right;\">797.294</td><td style=\"text-align: right;\">        0.0851</td><td style=\"text-align: right;\">             1101</td></tr>\n",
       "</tbody>\n",
       "</table>"
      ]
     },
     "metadata": {},
     "output_type": "display_data"
    },
    {
     "data": {
      "text/html": [
       "<h3>Reward Function-CVaR | Strategy-PPOLSTM | Experiment 1</h3>\n"
      ]
     },
     "metadata": {},
     "output_type": "display_data"
    },
    {
     "data": {
      "text/html": [
       "<table>\n",
       "<thead>\n",
       "<tr><th style=\"text-align: right;\">      Cumulative \n",
       "Return (%)</th><th style=\"text-align: right;\">      Maximum Earning \n",
       "Rate (%)</th><th style=\"text-align: right;\">        Maximum \n",
       "Pullback (%)</th><th style=\"text-align: right;\">       Average Profitability \n",
       "per Trade</th><th style=\"text-align: right;\">  Sharpe Ratio</th><th style=\"text-align: right;\">  Total Timesteps</th></tr>\n",
       "</thead>\n",
       "<tbody>\n",
       "<tr><td style=\"text-align: right;\">41.56</td><td style=\"text-align: right;\">51.55</td><td style=\"text-align: right;\">43.8642</td><td style=\"text-align: right;\">1135.5</td><td style=\"text-align: right;\">        0.1031</td><td style=\"text-align: right;\">             1101</td></tr>\n",
       "</tbody>\n",
       "</table>"
      ]
     },
     "metadata": {},
     "output_type": "display_data"
    },
    {
     "data": {
      "text/html": [
       "<h3>Strategy-RANDOM |  | Experiment 1</h3>\n"
      ]
     },
     "metadata": {},
     "output_type": "display_data"
    },
    {
     "data": {
      "text/html": [
       "<table>\n",
       "<thead>\n",
       "<tr><th style=\"text-align: right;\">      Cumulative \n",
       "Return (%)</th><th style=\"text-align: right;\">      Maximum Earning \n",
       "Rate (%)</th><th style=\"text-align: right;\">        Maximum \n",
       "Pullback (%)</th><th style=\"text-align: right;\">        Average Profitability \n",
       "per Trade</th><th style=\"text-align: right;\">  Sharpe Ratio</th><th style=\"text-align: right;\">  Total Timesteps</th></tr>\n",
       "</thead>\n",
       "<tbody>\n",
       "<tr><td style=\"text-align: right;\">23.05</td><td style=\"text-align: right;\">27.17</td><td style=\"text-align: right;\">36.1268</td><td style=\"text-align: right;\">629.762</td><td style=\"text-align: right;\">        0.0662</td><td style=\"text-align: right;\">             1101</td></tr>\n",
       "</tbody>\n",
       "</table>"
      ]
     },
     "metadata": {},
     "output_type": "display_data"
    },
    {
     "data": {
      "text/html": [
       "<h3>Reward Function-CVaR | Strategy-PPOLSTM | Experiment 1</h3>\n"
      ]
     },
     "metadata": {},
     "output_type": "display_data"
    },
    {
     "data": {
      "text/html": [
       "<table>\n",
       "<thead>\n",
       "<tr><th style=\"text-align: right;\">      Cumulative \n",
       "Return (%)</th><th style=\"text-align: right;\">      Maximum Earning \n",
       "Rate (%)</th><th style=\"text-align: right;\">        Maximum \n",
       "Pullback (%)</th><th style=\"text-align: right;\">        Average Profitability \n",
       "per Trade</th><th style=\"text-align: right;\">  Sharpe Ratio</th><th style=\"text-align: right;\">  Total Timesteps</th></tr>\n",
       "</thead>\n",
       "<tbody>\n",
       "<tr><td style=\"text-align: right;\">17.92</td><td style=\"text-align: right;\">21.87</td><td style=\"text-align: right;\">23.5811</td><td style=\"text-align: right;\">489.527</td><td style=\"text-align: right;\">         0.048</td><td style=\"text-align: right;\">             1101</td></tr>\n",
       "</tbody>\n",
       "</table>"
      ]
     },
     "metadata": {},
     "output_type": "display_data"
    },
    {
     "data": {
      "text/html": [
       "<h3>Strategy-RANDOM |  | Experiment 1</h3>\n"
      ]
     },
     "metadata": {},
     "output_type": "display_data"
    },
    {
     "data": {
      "text/html": [
       "<table>\n",
       "<thead>\n",
       "<tr><th style=\"text-align: right;\">      Cumulative \n",
       "Return (%)</th><th style=\"text-align: right;\">      Maximum Earning \n",
       "Rate (%)</th><th style=\"text-align: right;\">        Maximum \n",
       "Pullback (%)</th><th style=\"text-align: right;\">       Average Profitability \n",
       "per Trade</th><th style=\"text-align: right;\">  Sharpe Ratio</th><th style=\"text-align: right;\">  Total Timesteps</th></tr>\n",
       "</thead>\n",
       "<tbody>\n",
       "<tr><td style=\"text-align: right;\">36.81</td><td style=\"text-align: right;\">48.01</td><td style=\"text-align: right;\">29.3637</td><td style=\"text-align: right;\">1005.7</td><td style=\"text-align: right;\">         0.095</td><td style=\"text-align: right;\">             1101</td></tr>\n",
       "</tbody>\n",
       "</table>"
      ]
     },
     "metadata": {},
     "output_type": "display_data"
    },
    {
     "data": {
      "text/html": [
       "<h3>Reward Function-CVaR | Strategy-PPOLSTM | Experiment 1</h3>\n"
      ]
     },
     "metadata": {},
     "output_type": "display_data"
    },
    {
     "data": {
      "text/html": [
       "<table>\n",
       "<thead>\n",
       "<tr><th style=\"text-align: right;\">      Cumulative \n",
       "Return (%)</th><th style=\"text-align: right;\">     Maximum Earning \n",
       "Rate (%)</th><th style=\"text-align: right;\">        Maximum \n",
       "Pullback (%)</th><th style=\"text-align: right;\">        Average Profitability \n",
       "per Trade</th><th style=\"text-align: right;\">  Sharpe Ratio</th><th style=\"text-align: right;\">  Total Timesteps</th></tr>\n",
       "</thead>\n",
       "<tbody>\n",
       "<tr><td style=\"text-align: right;\">11.35</td><td style=\"text-align: right;\">22.4</td><td style=\"text-align: right;\">34.2594</td><td style=\"text-align: right;\">310.024</td><td style=\"text-align: right;\">        0.0329</td><td style=\"text-align: right;\">             1101</td></tr>\n",
       "</tbody>\n",
       "</table>"
      ]
     },
     "metadata": {},
     "output_type": "display_data"
    },
    {
     "data": {
      "text/html": [
       "<h3>Strategy-RANDOM |  | Experiment 1</h3>\n"
      ]
     },
     "metadata": {},
     "output_type": "display_data"
    },
    {
     "data": {
      "text/html": [
       "<table>\n",
       "<thead>\n",
       "<tr><th style=\"text-align: right;\">      Cumulative \n",
       "Return (%)</th><th style=\"text-align: right;\">      Maximum Earning \n",
       "Rate (%)</th><th style=\"text-align: right;\">        Maximum \n",
       "Pullback (%)</th><th style=\"text-align: right;\">        Average Profitability \n",
       "per Trade</th><th style=\"text-align: right;\">  Sharpe Ratio</th><th style=\"text-align: right;\">  Total Timesteps</th></tr>\n",
       "</thead>\n",
       "<tbody>\n",
       "<tr><td style=\"text-align: right;\">30.49</td><td style=\"text-align: right;\">33.44</td><td style=\"text-align: right;\">31.4328</td><td style=\"text-align: right;\">833.153</td><td style=\"text-align: right;\">        0.0876</td><td style=\"text-align: right;\">             1101</td></tr>\n",
       "</tbody>\n",
       "</table>"
      ]
     },
     "metadata": {},
     "output_type": "display_data"
    },
    {
     "data": {
      "text/html": [
       "<h3>Reward Function-CVaR | Strategy-PPOLSTM | Experiment 1</h3>\n"
      ]
     },
     "metadata": {},
     "output_type": "display_data"
    },
    {
     "data": {
      "text/html": [
       "<table>\n",
       "<thead>\n",
       "<tr><th style=\"text-align: right;\">      Cumulative \n",
       "Return (%)</th><th style=\"text-align: right;\">      Maximum Earning \n",
       "Rate (%)</th><th style=\"text-align: right;\">        Maximum \n",
       "Pullback (%)</th><th style=\"text-align: right;\">        Average Profitability \n",
       "per Trade</th><th style=\"text-align: right;\">  Sharpe Ratio</th><th style=\"text-align: right;\">  Total Timesteps</th></tr>\n",
       "</thead>\n",
       "<tbody>\n",
       "<tr><td style=\"text-align: right;\">19.71</td><td style=\"text-align: right;\">23.37</td><td style=\"text-align: right;\">43.5816</td><td style=\"text-align: right;\">538.513</td><td style=\"text-align: right;\">        0.0646</td><td style=\"text-align: right;\">             1101</td></tr>\n",
       "</tbody>\n",
       "</table>"
      ]
     },
     "metadata": {},
     "output_type": "display_data"
    },
    {
     "data": {
      "text/html": [
       "<h3>Strategy-RANDOM |  | Experiment 1</h3>\n"
      ]
     },
     "metadata": {},
     "output_type": "display_data"
    },
    {
     "data": {
      "text/html": [
       "<table>\n",
       "<thead>\n",
       "<tr><th style=\"text-align: right;\">      Cumulative \n",
       "Return (%)</th><th style=\"text-align: right;\">      Maximum Earning \n",
       "Rate (%)</th><th style=\"text-align: right;\">        Maximum \n",
       "Pullback (%)</th><th style=\"text-align: right;\">        Average Profitability \n",
       "per Trade</th><th style=\"text-align: right;\">  Sharpe Ratio</th><th style=\"text-align: right;\">  Total Timesteps</th></tr>\n",
       "</thead>\n",
       "<tbody>\n",
       "<tr><td style=\"text-align: right;\">14.28</td><td style=\"text-align: right;\">19.58</td><td style=\"text-align: right;\">27.1888</td><td style=\"text-align: right;\">390.035</td><td style=\"text-align: right;\">        0.0437</td><td style=\"text-align: right;\">             1101</td></tr>\n",
       "</tbody>\n",
       "</table>"
      ]
     },
     "metadata": {},
     "output_type": "display_data"
    },
    {
     "data": {
      "text/html": [
       "<h3>Reward Function-CVaR | Strategy-PPOLSTM | Experiment 1</h3>\n"
      ]
     },
     "metadata": {},
     "output_type": "display_data"
    },
    {
     "data": {
      "text/html": [
       "<table>\n",
       "<thead>\n",
       "<tr><th style=\"text-align: right;\">      Cumulative \n",
       "Return (%)</th><th style=\"text-align: right;\">      Maximum Earning \n",
       "Rate (%)</th><th style=\"text-align: right;\">        Maximum \n",
       "Pullback (%)</th><th style=\"text-align: right;\">        Average Profitability \n",
       "per Trade</th><th style=\"text-align: right;\">  Sharpe Ratio</th><th style=\"text-align: right;\">  Total Timesteps</th></tr>\n",
       "</thead>\n",
       "<tbody>\n",
       "<tr><td style=\"text-align: right;\">26.13</td><td style=\"text-align: right;\">40.91</td><td style=\"text-align: right;\">47.0398</td><td style=\"text-align: right;\">713.959</td><td style=\"text-align: right;\">        0.0637</td><td style=\"text-align: right;\">             1101</td></tr>\n",
       "</tbody>\n",
       "</table>"
      ]
     },
     "metadata": {},
     "output_type": "display_data"
    },
    {
     "data": {
      "text/html": [
       "<h3>Strategy-RANDOM |  | Experiment 1</h3>\n"
      ]
     },
     "metadata": {},
     "output_type": "display_data"
    },
    {
     "data": {
      "text/html": [
       "<table>\n",
       "<thead>\n",
       "<tr><th style=\"text-align: right;\">      Cumulative \n",
       "Return (%)</th><th style=\"text-align: right;\">      Maximum Earning \n",
       "Rate (%)</th><th style=\"text-align: right;\">        Maximum \n",
       "Pullback (%)</th><th style=\"text-align: right;\">        Average Profitability \n",
       "per Trade</th><th style=\"text-align: right;\">  Sharpe Ratio</th><th style=\"text-align: right;\">  Total Timesteps</th></tr>\n",
       "</thead>\n",
       "<tbody>\n",
       "<tr><td style=\"text-align: right;\">33.01</td><td style=\"text-align: right;\">36.64</td><td style=\"text-align: right;\">29.6218</td><td style=\"text-align: right;\">901.807</td><td style=\"text-align: right;\">        0.0924</td><td style=\"text-align: right;\">             1101</td></tr>\n",
       "</tbody>\n",
       "</table>"
      ]
     },
     "metadata": {},
     "output_type": "display_data"
    },
    {
     "data": {
      "text/html": [
       "<h3>Reward Function-CVaR | Strategy-PPOLSTM | Experiment 1</h3>\n"
      ]
     },
     "metadata": {},
     "output_type": "display_data"
    },
    {
     "data": {
      "text/html": [
       "<table>\n",
       "<thead>\n",
       "<tr><th style=\"text-align: right;\">      Cumulative \n",
       "Return (%)</th><th style=\"text-align: right;\">     Maximum Earning \n",
       "Rate (%)</th><th style=\"text-align: right;\">        Maximum \n",
       "Pullback (%)</th><th style=\"text-align: right;\">        Average Profitability \n",
       "per Trade</th><th style=\"text-align: right;\">  Sharpe Ratio</th><th style=\"text-align: right;\">  Total Timesteps</th></tr>\n",
       "</thead>\n",
       "<tbody>\n",
       "<tr><td style=\"text-align: right;\">33.48</td><td style=\"text-align: right;\">39.1</td><td style=\"text-align: right;\">31.4707</td><td style=\"text-align: right;\">914.738</td><td style=\"text-align: right;\">        0.0873</td><td style=\"text-align: right;\">             1101</td></tr>\n",
       "</tbody>\n",
       "</table>"
      ]
     },
     "metadata": {},
     "output_type": "display_data"
    },
    {
     "data": {
      "text/html": [
       "<h3>Strategy-RANDOM |  | Experiment 1</h3>\n"
      ]
     },
     "metadata": {},
     "output_type": "display_data"
    },
    {
     "data": {
      "text/html": [
       "<table>\n",
       "<thead>\n",
       "<tr><th style=\"text-align: right;\">      Cumulative \n",
       "Return (%)</th><th style=\"text-align: right;\">      Maximum Earning \n",
       "Rate (%)</th><th style=\"text-align: right;\">        Maximum \n",
       "Pullback (%)</th><th style=\"text-align: right;\">        Average Profitability \n",
       "per Trade</th><th style=\"text-align: right;\">  Sharpe Ratio</th><th style=\"text-align: right;\">  Total Timesteps</th></tr>\n",
       "</thead>\n",
       "<tbody>\n",
       "<tr><td style=\"text-align: right;\">36.76</td><td style=\"text-align: right;\">40.38</td><td style=\"text-align: right;\">33.6847</td><td style=\"text-align: right;\">1004.26</td><td style=\"text-align: right;\">        0.1012</td><td style=\"text-align: right;\">             1101</td></tr>\n",
       "</tbody>\n",
       "</table>"
      ]
     },
     "metadata": {},
     "output_type": "display_data"
    },
    {
     "data": {
      "text/html": [
       "<h3>Reward Function-CVaR | Strategy-PPOLSTM | Experiment 1</h3>\n"
      ]
     },
     "metadata": {},
     "output_type": "display_data"
    },
    {
     "data": {
      "text/html": [
       "<table>\n",
       "<thead>\n",
       "<tr><th style=\"text-align: right;\">      Cumulative \n",
       "Return (%)</th><th style=\"text-align: right;\">      Maximum Earning \n",
       "Rate (%)</th><th style=\"text-align: right;\">        Maximum \n",
       "Pullback (%)</th><th style=\"text-align: right;\">        Average Profitability \n",
       "per Trade</th><th style=\"text-align: right;\">  Sharpe Ratio</th><th style=\"text-align: right;\">  Total Timesteps</th></tr>\n",
       "</thead>\n",
       "<tbody>\n",
       "<tr><td style=\"text-align: right;\">36.07</td><td style=\"text-align: right;\">39.72</td><td style=\"text-align: right;\">34.0104</td><td style=\"text-align: right;\">985.586</td><td style=\"text-align: right;\">        0.1021</td><td style=\"text-align: right;\">             1101</td></tr>\n",
       "</tbody>\n",
       "</table>"
      ]
     },
     "metadata": {},
     "output_type": "display_data"
    },
    {
     "data": {
      "text/html": [
       "<h3>Strategy-RANDOM |  | Experiment 1</h3>\n"
      ]
     },
     "metadata": {},
     "output_type": "display_data"
    },
    {
     "data": {
      "text/html": [
       "<table>\n",
       "<thead>\n",
       "<tr><th style=\"text-align: right;\">      Cumulative \n",
       "Return (%)</th><th style=\"text-align: right;\">      Maximum Earning \n",
       "Rate (%)</th><th style=\"text-align: right;\">        Maximum \n",
       "Pullback (%)</th><th style=\"text-align: right;\">        Average Profitability \n",
       "per Trade</th><th style=\"text-align: right;\">  Sharpe Ratio</th><th style=\"text-align: right;\">  Total Timesteps</th></tr>\n",
       "</thead>\n",
       "<tbody>\n",
       "<tr><td style=\"text-align: right;\">40.93</td><td style=\"text-align: right;\">43.32</td><td style=\"text-align: right;\">24.1168</td><td style=\"text-align: right;\">1118.39</td><td style=\"text-align: right;\">         0.115</td><td style=\"text-align: right;\">             1101</td></tr>\n",
       "</tbody>\n",
       "</table>"
      ]
     },
     "metadata": {},
     "output_type": "display_data"
    },
    {
     "data": {
      "text/html": [
       "<h3>Reward Function-CVaR | Strategy-PPOLSTM | Experiment 1</h3>\n"
      ]
     },
     "metadata": {},
     "output_type": "display_data"
    },
    {
     "data": {
      "text/html": [
       "<table>\n",
       "<thead>\n",
       "<tr><th style=\"text-align: right;\">     Cumulative \n",
       "Return (%)</th><th style=\"text-align: right;\">      Maximum Earning \n",
       "Rate (%)</th><th style=\"text-align: right;\">        Maximum \n",
       "Pullback (%)</th><th style=\"text-align: right;\">        Average Profitability \n",
       "per Trade</th><th style=\"text-align: right;\">  Sharpe Ratio</th><th style=\"text-align: right;\">  Total Timesteps</th></tr>\n",
       "</thead>\n",
       "<tbody>\n",
       "<tr><td style=\"text-align: right;\">50.7</td><td style=\"text-align: right;\">52.68</td><td style=\"text-align: right;\">18.0241</td><td style=\"text-align: right;\">1385.28</td><td style=\"text-align: right;\">        0.1229</td><td style=\"text-align: right;\">             1101</td></tr>\n",
       "</tbody>\n",
       "</table>"
      ]
     },
     "metadata": {},
     "output_type": "display_data"
    },
    {
     "data": {
      "text/html": [
       "<h3>Strategy-RANDOM |  | Experiment 1</h3>\n"
      ]
     },
     "metadata": {},
     "output_type": "display_data"
    },
    {
     "data": {
      "text/html": [
       "<table>\n",
       "<thead>\n",
       "<tr><th style=\"text-align: right;\">      Cumulative \n",
       "Return (%)</th><th style=\"text-align: right;\">      Maximum Earning \n",
       "Rate (%)</th><th style=\"text-align: right;\">        Maximum \n",
       "Pullback (%)</th><th style=\"text-align: right;\">        Average Profitability \n",
       "per Trade</th><th style=\"text-align: right;\">  Sharpe Ratio</th><th style=\"text-align: right;\">  Total Timesteps</th></tr>\n",
       "</thead>\n",
       "<tbody>\n",
       "<tr><td style=\"text-align: right;\">15.95</td><td style=\"text-align: right;\">23.16</td><td style=\"text-align: right;\">39.0162</td><td style=\"text-align: right;\">435.711</td><td style=\"text-align: right;\">        0.0497</td><td style=\"text-align: right;\">             1101</td></tr>\n",
       "</tbody>\n",
       "</table>"
      ]
     },
     "metadata": {},
     "output_type": "display_data"
    },
    {
     "data": {
      "text/html": [
       "<h3>Reward Function-CVaR | Strategy-PPOLSTM | Experiment 1</h3>\n"
      ]
     },
     "metadata": {},
     "output_type": "display_data"
    },
    {
     "data": {
      "text/html": [
       "<table>\n",
       "<thead>\n",
       "<tr><th style=\"text-align: right;\">      Cumulative \n",
       "Return (%)</th><th style=\"text-align: right;\">      Maximum Earning \n",
       "Rate (%)</th><th style=\"text-align: right;\">        Maximum \n",
       "Pullback (%)</th><th style=\"text-align: right;\">        Average Profitability \n",
       "per Trade</th><th style=\"text-align: right;\">  Sharpe Ratio</th><th style=\"text-align: right;\">  Total Timesteps</th></tr>\n",
       "</thead>\n",
       "<tbody>\n",
       "<tr><td style=\"text-align: right;\">17.25</td><td style=\"text-align: right;\">20.21</td><td style=\"text-align: right;\">23.4821</td><td style=\"text-align: right;\">471.316</td><td style=\"text-align: right;\">        0.0468</td><td style=\"text-align: right;\">             1101</td></tr>\n",
       "</tbody>\n",
       "</table>"
      ]
     },
     "metadata": {},
     "output_type": "display_data"
    },
    {
     "data": {
      "text/html": [
       "<h3>Strategy-RANDOM |  | Experiment 1</h3>\n"
      ]
     },
     "metadata": {},
     "output_type": "display_data"
    },
    {
     "data": {
      "text/html": [
       "<table>\n",
       "<thead>\n",
       "<tr><th style=\"text-align: right;\">      Cumulative \n",
       "Return (%)</th><th style=\"text-align: right;\">      Maximum Earning \n",
       "Rate (%)</th><th style=\"text-align: right;\">        Maximum \n",
       "Pullback (%)</th><th style=\"text-align: right;\">       Average Profitability \n",
       "per Trade</th><th style=\"text-align: right;\">  Sharpe Ratio</th><th style=\"text-align: right;\">  Total Timesteps</th></tr>\n",
       "</thead>\n",
       "<tbody>\n",
       "<tr><td style=\"text-align: right;\">27.46</td><td style=\"text-align: right;\">31.98</td><td style=\"text-align: right;\">24.1086</td><td style=\"text-align: right;\">750.18</td><td style=\"text-align: right;\">        0.0832</td><td style=\"text-align: right;\">             1101</td></tr>\n",
       "</tbody>\n",
       "</table>"
      ]
     },
     "metadata": {},
     "output_type": "display_data"
    },
    {
     "data": {
      "text/html": [
       "<h3>Reward Function-CVaR | Strategy-PPOLSTM | Experiment 1</h3>\n"
      ]
     },
     "metadata": {},
     "output_type": "display_data"
    },
    {
     "data": {
      "text/html": [
       "<table>\n",
       "<thead>\n",
       "<tr><th style=\"text-align: right;\">      Cumulative \n",
       "Return (%)</th><th style=\"text-align: right;\">      Maximum Earning \n",
       "Rate (%)</th><th style=\"text-align: right;\">        Maximum \n",
       "Pullback (%)</th><th style=\"text-align: right;\">       Average Profitability \n",
       "per Trade</th><th style=\"text-align: right;\">  Sharpe Ratio</th><th style=\"text-align: right;\">  Total Timesteps</th></tr>\n",
       "</thead>\n",
       "<tbody>\n",
       "<tr><td style=\"text-align: right;\">55.41</td><td style=\"text-align: right;\">67.32</td><td style=\"text-align: right;\">25.6074</td><td style=\"text-align: right;\">1513.8</td><td style=\"text-align: right;\">        0.0975</td><td style=\"text-align: right;\">             1101</td></tr>\n",
       "</tbody>\n",
       "</table>"
      ]
     },
     "metadata": {},
     "output_type": "display_data"
    },
    {
     "data": {
      "text/html": [
       "<h3>Strategy-RANDOM |  | Experiment 1</h3>\n"
      ]
     },
     "metadata": {},
     "output_type": "display_data"
    },
    {
     "data": {
      "text/html": [
       "<table>\n",
       "<thead>\n",
       "<tr><th style=\"text-align: right;\">      Cumulative \n",
       "Return (%)</th><th style=\"text-align: right;\">      Maximum Earning \n",
       "Rate (%)</th><th style=\"text-align: right;\">        Maximum \n",
       "Pullback (%)</th><th style=\"text-align: right;\">        Average Profitability \n",
       "per Trade</th><th style=\"text-align: right;\">  Sharpe Ratio</th><th style=\"text-align: right;\">  Total Timesteps</th></tr>\n",
       "</thead>\n",
       "<tbody>\n",
       "<tr><td style=\"text-align: right;\">34.85</td><td style=\"text-align: right;\">40.39</td><td style=\"text-align: right;\">38.5789</td><td style=\"text-align: right;\">952.201</td><td style=\"text-align: right;\">        0.0896</td><td style=\"text-align: right;\">             1101</td></tr>\n",
       "</tbody>\n",
       "</table>"
      ]
     },
     "metadata": {},
     "output_type": "display_data"
    },
    {
     "data": {
      "text/html": [
       "<h3>Reward Function-CVaR | Strategy-PPOLSTM | Experiment 1</h3>\n"
      ]
     },
     "metadata": {},
     "output_type": "display_data"
    },
    {
     "data": {
      "text/html": [
       "<table>\n",
       "<thead>\n",
       "<tr><th style=\"text-align: right;\">      Cumulative \n",
       "Return (%)</th><th style=\"text-align: right;\">      Maximum Earning \n",
       "Rate (%)</th><th style=\"text-align: right;\">        Maximum \n",
       "Pullback (%)</th><th style=\"text-align: right;\">        Average Profitability \n",
       "per Trade</th><th style=\"text-align: right;\">  Sharpe Ratio</th><th style=\"text-align: right;\">  Total Timesteps</th></tr>\n",
       "</thead>\n",
       "<tbody>\n",
       "<tr><td style=\"text-align: right;\">29.72</td><td style=\"text-align: right;\">36.32</td><td style=\"text-align: right;\">39.1987</td><td style=\"text-align: right;\">812.137</td><td style=\"text-align: right;\">        0.0883</td><td style=\"text-align: right;\">             1101</td></tr>\n",
       "</tbody>\n",
       "</table>"
      ]
     },
     "metadata": {},
     "output_type": "display_data"
    },
    {
     "data": {
      "text/html": [
       "<h3>Strategy-RANDOM |  | Experiment 1</h3>\n"
      ]
     },
     "metadata": {},
     "output_type": "display_data"
    },
    {
     "data": {
      "text/html": [
       "<table>\n",
       "<thead>\n",
       "<tr><th style=\"text-align: right;\">      Cumulative \n",
       "Return (%)</th><th style=\"text-align: right;\">      Maximum Earning \n",
       "Rate (%)</th><th style=\"text-align: right;\">        Maximum \n",
       "Pullback (%)</th><th style=\"text-align: right;\">        Average Profitability \n",
       "per Trade</th><th style=\"text-align: right;\">  Sharpe Ratio</th><th style=\"text-align: right;\">  Total Timesteps</th></tr>\n",
       "</thead>\n",
       "<tbody>\n",
       "<tr><td style=\"text-align: right;\">14.26</td><td style=\"text-align: right;\">18.76</td><td style=\"text-align: right;\">34.6242</td><td style=\"text-align: right;\">389.706</td><td style=\"text-align: right;\">        0.0439</td><td style=\"text-align: right;\">             1101</td></tr>\n",
       "</tbody>\n",
       "</table>"
      ]
     },
     "metadata": {},
     "output_type": "display_data"
    },
    {
     "data": {
      "image/png": "[encoded data removed]",
      "text/plain": [
       "<Figure size 1200x600 with 1 Axes>"
      ]
     },
     "metadata": {},
     "output_type": "display_data"
    },
    {
     "name": "stderr",
     "output_type": "stream",
     "text": [
      "C:\\Users\\bluem\\AppData\\Local\\Temp\\ipykernel_113224\\2909671760.py:48: UserWarning: No artists with labels found to put in legend.  Note that artists whose label start with an underscore are ignored when legend() is called with no argument.\n",
      "  plt.legend()\n"
     ]
    },
    {
     "data": {
      "image/png": "[encoded data removed]",
      "text/plain": [
       "<Figure size 1200x600 with 1 Axes>"
      ]
     },
     "metadata": {},
     "output_type": "display_data"
    },
    {
     "name": "stdout",
     "output_type": "stream",
     "text": [
      "==================================================\n",
      "==================================================\n"
     ]
    },
    {
     "data": {
      "text/html": [
       "<h3>Reward Function-Standard Logarithmic Returns | Strategy-PPOLSTM | Experiment 2</h3>\n"
      ]
     },
     "metadata": {},
     "output_type": "display_data"
    },
    {
     "data": {
      "text/html": [
       "<table>\n",
       "<thead>\n",
       "<tr><th style=\"text-align: right;\">     Cumulative \n",
       "Return (%)</th><th style=\"text-align: right;\">      Maximum Earning \n",
       "Rate (%)</th><th style=\"text-align: right;\">        Maximum \n",
       "Pullback (%)</th><th style=\"text-align: right;\">        Average Profitability \n",
       "per Trade</th><th style=\"text-align: right;\">  Sharpe Ratio</th><th style=\"text-align: right;\">  Total Timesteps</th></tr>\n",
       "</thead>\n",
       "<tbody>\n",
       "<tr><td style=\"text-align: right;\">23.6</td><td style=\"text-align: right;\">25.73</td><td style=\"text-align: right;\">43.7172</td><td style=\"text-align: right;\">644.837</td><td style=\"text-align: right;\">        0.0454</td><td style=\"text-align: right;\">             1101</td></tr>\n",
       "</tbody>\n",
       "</table>"
      ]
     },
     "metadata": {},
     "output_type": "display_data"
    },
    {
     "data": {
      "text/html": [
       "<h3>Strategy-RANDOM |  | Experiment 2</h3>\n"
      ]
     },
     "metadata": {},
     "output_type": "display_data"
    },
    {
     "data": {
      "text/html": [
       "<table>\n",
       "<thead>\n",
       "<tr><th style=\"text-align: right;\">      Cumulative \n",
       "Return (%)</th><th style=\"text-align: right;\">      Maximum Earning \n",
       "Rate (%)</th><th style=\"text-align: right;\">        Maximum \n",
       "Pullback (%)</th><th style=\"text-align: right;\">        Average Profitability \n",
       "per Trade</th><th style=\"text-align: right;\">  Sharpe Ratio</th><th style=\"text-align: right;\">  Total Timesteps</th></tr>\n",
       "</thead>\n",
       "<tbody>\n",
       "<tr><td style=\"text-align: right;\">11.84</td><td style=\"text-align: right;\">21.01</td><td style=\"text-align: right;\">50.3233</td><td style=\"text-align: right;\">323.525</td><td style=\"text-align: right;\">        0.0242</td><td style=\"text-align: right;\">             1101</td></tr>\n",
       "</tbody>\n",
       "</table>"
      ]
     },
     "metadata": {},
     "output_type": "display_data"
    },
    {
     "data": {
      "text/html": [
       "<h3>Reward Function-Standard Logarithmic Returns | Strategy-PPOLSTM | Experiment 2</h3>\n"
      ]
     },
     "metadata": {},
     "output_type": "display_data"
    },
    {
     "data": {
      "text/html": [
       "<table>\n",
       "<thead>\n",
       "<tr><th style=\"text-align: right;\">      Cumulative \n",
       "Return (%)</th><th style=\"text-align: right;\">      Maximum Earning \n",
       "Rate (%)</th><th style=\"text-align: right;\">        Maximum \n",
       "Pullback (%)</th><th style=\"text-align: right;\">        Average Profitability \n",
       "per Trade</th><th style=\"text-align: right;\">  Sharpe Ratio</th><th style=\"text-align: right;\">  Total Timesteps</th></tr>\n",
       "</thead>\n",
       "<tbody>\n",
       "<tr><td style=\"text-align: right;\">14.11</td><td style=\"text-align: right;\">24.44</td><td style=\"text-align: right;\">35.9726</td><td style=\"text-align: right;\">385.416</td><td style=\"text-align: right;\">        0.0281</td><td style=\"text-align: right;\">             1101</td></tr>\n",
       "</tbody>\n",
       "</table>"
      ]
     },
     "metadata": {},
     "output_type": "display_data"
    },
    {
     "data": {
      "text/html": [
       "<h3>Strategy-RANDOM |  | Experiment 2</h3>\n"
      ]
     },
     "metadata": {},
     "output_type": "display_data"
    },
    {
     "data": {
      "text/html": [
       "<table>\n",
       "<thead>\n",
       "<tr><th style=\"text-align: right;\">     Cumulative \n",
       "Return (%)</th><th style=\"text-align: right;\">      Maximum Earning \n",
       "Rate (%)</th><th style=\"text-align: right;\">       Maximum \n",
       "Pullback (%)</th><th style=\"text-align: right;\">        Average Profitability \n",
       "per Trade</th><th style=\"text-align: right;\">  Sharpe Ratio</th><th style=\"text-align: right;\">  Total Timesteps</th></tr>\n",
       "</thead>\n",
       "<tbody>\n",
       "<tr><td style=\"text-align: right;\">16.2</td><td style=\"text-align: right;\">22.17</td><td style=\"text-align: right;\">41.071</td><td style=\"text-align: right;\">442.551</td><td style=\"text-align: right;\">        0.0317</td><td style=\"text-align: right;\">             1101</td></tr>\n",
       "</tbody>\n",
       "</table>"
      ]
     },
     "metadata": {},
     "output_type": "display_data"
    },
    {
     "data": {
      "text/html": [
       "<h3>Reward Function-Standard Logarithmic Returns | Strategy-PPOLSTM | Experiment 2</h3>\n"
      ]
     },
     "metadata": {},
     "output_type": "display_data"
    },
    {
     "data": {
      "text/html": [
       "<table>\n",
       "<thead>\n",
       "<tr><th style=\"text-align: right;\">      Cumulative \n",
       "Return (%)</th><th style=\"text-align: right;\">     Maximum Earning \n",
       "Rate (%)</th><th style=\"text-align: right;\">        Maximum \n",
       "Pullback (%)</th><th style=\"text-align: right;\">        Average Profitability \n",
       "per Trade</th><th style=\"text-align: right;\">  Sharpe Ratio</th><th style=\"text-align: right;\">  Total Timesteps</th></tr>\n",
       "</thead>\n",
       "<tbody>\n",
       "<tr><td style=\"text-align: right;\">21.47</td><td style=\"text-align: right;\">28.1</td><td style=\"text-align: right;\">40.6328</td><td style=\"text-align: right;\">586.735</td><td style=\"text-align: right;\">        0.0371</td><td style=\"text-align: right;\">             1101</td></tr>\n",
       "</tbody>\n",
       "</table>"
      ]
     },
     "metadata": {},
     "output_type": "display_data"
    },
    {
     "data": {
      "text/html": [
       "<h3>Strategy-RANDOM |  | Experiment 2</h3>\n"
      ]
     },
     "metadata": {},
     "output_type": "display_data"
    },
    {
     "data": {
      "text/html": [
       "<table>\n",
       "<thead>\n",
       "<tr><th style=\"text-align: right;\">      Cumulative \n",
       "Return (%)</th><th style=\"text-align: right;\">      Maximum Earning \n",
       "Rate (%)</th><th style=\"text-align: right;\">        Maximum \n",
       "Pullback (%)</th><th style=\"text-align: right;\">        Average Profitability \n",
       "per Trade</th><th style=\"text-align: right;\">  Sharpe Ratio</th><th style=\"text-align: right;\">  Total Timesteps</th></tr>\n",
       "</thead>\n",
       "<tbody>\n",
       "<tr><td style=\"text-align: right;\">12.81</td><td style=\"text-align: right;\">27.29</td><td style=\"text-align: right;\">29.0633</td><td style=\"text-align: right;\">350.111</td><td style=\"text-align: right;\">        0.0249</td><td style=\"text-align: right;\">             1101</td></tr>\n",
       "</tbody>\n",
       "</table>"
      ]
     },
     "metadata": {},
     "output_type": "display_data"
    },
    {
     "data": {
      "text/html": [
       "<h3>Reward Function-Standard Logarithmic Returns | Strategy-PPOLSTM | Experiment 2</h3>\n"
      ]
     },
     "metadata": {},
     "output_type": "display_data"
    },
    {
     "data": {
      "text/html": [
       "<table>\n",
       "<thead>\n",
       "<tr><th style=\"text-align: right;\">      Cumulative \n",
       "Return (%)</th><th style=\"text-align: right;\">     Maximum Earning \n",
       "Rate (%)</th><th style=\"text-align: right;\">       Maximum \n",
       "Pullback (%)</th><th style=\"text-align: right;\">         Average Profitability \n",
       "per Trade</th><th style=\"text-align: right;\">  Sharpe Ratio</th><th style=\"text-align: right;\">  Total Timesteps</th></tr>\n",
       "</thead>\n",
       "<tbody>\n",
       "<tr><td style=\"text-align: right;\">-30.1</td><td style=\"text-align: right;\">6.24</td><td style=\"text-align: right;\">51.141</td><td style=\"text-align: right;\">-964.815</td><td style=\"text-align: right;\">       -0.0881</td><td style=\"text-align: right;\">             1047</td></tr>\n",
       "</tbody>\n",
       "</table>"
      ]
     },
     "metadata": {},
     "output_type": "display_data"
    },
    {
     "data": {
      "text/html": [
       "<h3>Strategy-RANDOM |  | Experiment 2</h3>\n"
      ]
     },
     "metadata": {},
     "output_type": "display_data"
    },
    {
     "data": {
      "text/html": [
       "<table>\n",
       "<thead>\n",
       "<tr><th style=\"text-align: right;\">      Cumulative \n",
       "Return (%)</th><th style=\"text-align: right;\">      Maximum Earning \n",
       "Rate (%)</th><th style=\"text-align: right;\">        Maximum \n",
       "Pullback (%)</th><th style=\"text-align: right;\">        Average Profitability \n",
       "per Trade</th><th style=\"text-align: right;\">  Sharpe Ratio</th><th style=\"text-align: right;\">  Total Timesteps</th></tr>\n",
       "</thead>\n",
       "<tbody>\n",
       "<tr><td style=\"text-align: right;\">10.02</td><td style=\"text-align: right;\">12.41</td><td style=\"text-align: right;\">53.4234</td><td style=\"text-align: right;\">273.885</td><td style=\"text-align: right;\">         0.023</td><td style=\"text-align: right;\">             1101</td></tr>\n",
       "</tbody>\n",
       "</table>"
      ]
     },
     "metadata": {},
     "output_type": "display_data"
    },
    {
     "data": {
      "text/html": [
       "<h3>Reward Function-Standard Logarithmic Returns | Strategy-PPOLSTM | Experiment 2</h3>\n"
      ]
     },
     "metadata": {},
     "output_type": "display_data"
    },
    {
     "data": {
      "text/html": [
       "<table>\n",
       "<thead>\n",
       "<tr><th style=\"text-align: right;\">      Cumulative \n",
       "Return (%)</th><th style=\"text-align: right;\">     Maximum Earning \n",
       "Rate (%)</th><th style=\"text-align: right;\">        Maximum \n",
       "Pullback (%)</th><th style=\"text-align: right;\">        Average Profitability \n",
       "per Trade</th><th style=\"text-align: right;\">  Sharpe Ratio</th><th style=\"text-align: right;\">  Total Timesteps</th></tr>\n",
       "</thead>\n",
       "<tbody>\n",
       "<tr><td style=\"text-align: right;\">27.95</td><td style=\"text-align: right;\">29.9</td><td style=\"text-align: right;\">51.5895</td><td style=\"text-align: right;\">763.728</td><td style=\"text-align: right;\">        0.0507</td><td style=\"text-align: right;\">             1101</td></tr>\n",
       "</tbody>\n",
       "</table>"
      ]
     },
     "metadata": {},
     "output_type": "display_data"
    },
    {
     "data": {
      "text/html": [
       "<h3>Strategy-RANDOM |  | Experiment 2</h3>\n"
      ]
     },
     "metadata": {},
     "output_type": "display_data"
    },
    {
     "data": {
      "text/html": [
       "<table>\n",
       "<thead>\n",
       "<tr><th style=\"text-align: right;\">      Cumulative \n",
       "Return (%)</th><th style=\"text-align: right;\">      Maximum Earning \n",
       "Rate (%)</th><th style=\"text-align: right;\">        Maximum \n",
       "Pullback (%)</th><th style=\"text-align: right;\">        Average Profitability \n",
       "per Trade</th><th style=\"text-align: right;\">  Sharpe Ratio</th><th style=\"text-align: right;\">  Total Timesteps</th></tr>\n",
       "</thead>\n",
       "<tbody>\n",
       "<tr><td style=\"text-align: right;\">20.39</td><td style=\"text-align: right;\">26.77</td><td style=\"text-align: right;\">38.0473</td><td style=\"text-align: right;\">557.176</td><td style=\"text-align: right;\">         0.038</td><td style=\"text-align: right;\">             1101</td></tr>\n",
       "</tbody>\n",
       "</table>"
      ]
     },
     "metadata": {},
     "output_type": "display_data"
    },
    {
     "data": {
      "text/html": [
       "<h3>Reward Function-Standard Logarithmic Returns | Strategy-PPOLSTM | Experiment 2</h3>\n"
      ]
     },
     "metadata": {},
     "output_type": "display_data"
    },
    {
     "data": {
      "text/html": [
       "<table>\n",
       "<thead>\n",
       "<tr><th style=\"text-align: right;\">     Cumulative \n",
       "Return (%)</th><th style=\"text-align: right;\">     Maximum Earning \n",
       "Rate (%)</th><th style=\"text-align: right;\">       Maximum \n",
       "Pullback (%)</th><th style=\"text-align: right;\">        Average Profitability \n",
       "per Trade</th><th style=\"text-align: right;\">  Sharpe Ratio</th><th style=\"text-align: right;\">  Total Timesteps</th></tr>\n",
       "</thead>\n",
       "<tbody>\n",
       "<tr><td style=\"text-align: right;\">2.39</td><td style=\"text-align: right;\">6.95</td><td style=\"text-align: right;\">46.486</td><td style=\"text-align: right;\">65.2105</td><td style=\"text-align: right;\">        0.0055</td><td style=\"text-align: right;\">             1101</td></tr>\n",
       "</tbody>\n",
       "</table>"
      ]
     },
     "metadata": {},
     "output_type": "display_data"
    },
    {
     "data": {
      "text/html": [
       "<h3>Strategy-RANDOM |  | Experiment 2</h3>\n"
      ]
     },
     "metadata": {},
     "output_type": "display_data"
    },
    {
     "data": {
      "text/html": [
       "<table>\n",
       "<thead>\n",
       "<tr><th style=\"text-align: right;\">      Cumulative \n",
       "Return (%)</th><th style=\"text-align: right;\">      Maximum Earning \n",
       "Rate (%)</th><th style=\"text-align: right;\">        Maximum \n",
       "Pullback (%)</th><th style=\"text-align: right;\">        Average Profitability \n",
       "per Trade</th><th style=\"text-align: right;\">  Sharpe Ratio</th><th style=\"text-align: right;\">  Total Timesteps</th></tr>\n",
       "</thead>\n",
       "<tbody>\n",
       "<tr><td style=\"text-align: right;\">16.03</td><td style=\"text-align: right;\">17.66</td><td style=\"text-align: right;\">48.6881</td><td style=\"text-align: right;\">438.102</td><td style=\"text-align: right;\">        0.0331</td><td style=\"text-align: right;\">             1101</td></tr>\n",
       "</tbody>\n",
       "</table>"
      ]
     },
     "metadata": {},
     "output_type": "display_data"
    },
    {
     "data": {
      "text/html": [
       "<h3>Reward Function-Standard Logarithmic Returns | Strategy-PPOLSTM | Experiment 2</h3>\n"
      ]
     },
     "metadata": {},
     "output_type": "display_data"
    },
    {
     "data": {
      "text/html": [
       "<table>\n",
       "<thead>\n",
       "<tr><th style=\"text-align: right;\">   Cumulative \n",
       "Return (%)</th><th style=\"text-align: right;\">    Maximum Earning \n",
       "Rate (%)</th><th style=\"text-align: right;\">        Maximum \n",
       "Pullback (%)</th><th style=\"text-align: right;\">       Average Profitability \n",
       "per Trade</th><th style=\"text-align: right;\">  Sharpe Ratio</th><th style=\"text-align: right;\">  Total Timesteps</th></tr>\n",
       "</thead>\n",
       "<tbody>\n",
       "<tr><td style=\"text-align: right;\">-5</td><td style=\"text-align: right;\">6.1</td><td style=\"text-align: right;\">43.2445</td><td style=\"text-align: right;\">-136.6</td><td style=\"text-align: right;\">       -0.0116</td><td style=\"text-align: right;\">             1101</td></tr>\n",
       "</tbody>\n",
       "</table>"
      ]
     },
     "metadata": {},
     "output_type": "display_data"
    },
    {
     "data": {
      "text/html": [
       "<h3>Strategy-RANDOM |  | Experiment 2</h3>\n"
      ]
     },
     "metadata": {},
     "output_type": "display_data"
    },
    {
     "data": {
      "text/html": [
       "<table>\n",
       "<thead>\n",
       "<tr><th style=\"text-align: right;\">      Cumulative \n",
       "Return (%)</th><th style=\"text-align: right;\">      Maximum Earning \n",
       "Rate (%)</th><th style=\"text-align: right;\">        Maximum \n",
       "Pullback (%)</th><th style=\"text-align: right;\">        Average Profitability \n",
       "per Trade</th><th style=\"text-align: right;\">  Sharpe Ratio</th><th style=\"text-align: right;\">  Total Timesteps</th></tr>\n",
       "</thead>\n",
       "<tbody>\n",
       "<tr><td style=\"text-align: right;\">33.23</td><td style=\"text-align: right;\">34.12</td><td style=\"text-align: right;\">33.8832</td><td style=\"text-align: right;\">907.891</td><td style=\"text-align: right;\">        0.0681</td><td style=\"text-align: right;\">             1101</td></tr>\n",
       "</tbody>\n",
       "</table>"
      ]
     },
     "metadata": {},
     "output_type": "display_data"
    },
    {
     "data": {
      "text/html": [
       "<h3>Reward Function-Standard Logarithmic Returns | Strategy-PPOLSTM | Experiment 2</h3>\n"
      ]
     },
     "metadata": {},
     "output_type": "display_data"
    },
    {
     "data": {
      "text/html": [
       "<table>\n",
       "<thead>\n",
       "<tr><th style=\"text-align: right;\">      Cumulative \n",
       "Return (%)</th><th style=\"text-align: right;\">      Maximum Earning \n",
       "Rate (%)</th><th style=\"text-align: right;\">       Maximum \n",
       "Pullback (%)</th><th style=\"text-align: right;\">        Average Profitability \n",
       "per Trade</th><th style=\"text-align: right;\">  Sharpe Ratio</th><th style=\"text-align: right;\">  Total Timesteps</th></tr>\n",
       "</thead>\n",
       "<tbody>\n",
       "<tr><td style=\"text-align: right;\">18.56</td><td style=\"text-align: right;\">30.14</td><td style=\"text-align: right;\">30.628</td><td style=\"text-align: right;\">507.107</td><td style=\"text-align: right;\">        0.0348</td><td style=\"text-align: right;\">             1101</td></tr>\n",
       "</tbody>\n",
       "</table>"
      ]
     },
     "metadata": {},
     "output_type": "display_data"
    },
    {
     "data": {
      "text/html": [
       "<h3>Strategy-RANDOM |  | Experiment 2</h3>\n"
      ]
     },
     "metadata": {},
     "output_type": "display_data"
    },
    {
     "data": {
      "text/html": [
       "<table>\n",
       "<thead>\n",
       "<tr><th style=\"text-align: right;\">   Cumulative \n",
       "Return (%)</th><th style=\"text-align: right;\">      Maximum Earning \n",
       "Rate (%)</th><th style=\"text-align: right;\">        Maximum \n",
       "Pullback (%)</th><th style=\"text-align: right;\">        Average Profitability \n",
       "per Trade</th><th style=\"text-align: right;\">  Sharpe Ratio</th><th style=\"text-align: right;\">  Total Timesteps</th></tr>\n",
       "</thead>\n",
       "<tbody>\n",
       "<tr><td style=\"text-align: right;\">31</td><td style=\"text-align: right;\">31.15</td><td style=\"text-align: right;\">34.9172</td><td style=\"text-align: right;\">846.969</td><td style=\"text-align: right;\">        0.0561</td><td style=\"text-align: right;\">             1101</td></tr>\n",
       "</tbody>\n",
       "</table>"
      ]
     },
     "metadata": {},
     "output_type": "display_data"
    },
    {
     "data": {
      "text/html": [
       "<h3>Reward Function-Standard Logarithmic Returns | Strategy-PPOLSTM | Experiment 2</h3>\n"
      ]
     },
     "metadata": {},
     "output_type": "display_data"
    },
    {
     "data": {
      "text/html": [
       "<table>\n",
       "<thead>\n",
       "<tr><th style=\"text-align: right;\">    Cumulative \n",
       "Return (%)</th><th style=\"text-align: right;\">     Maximum Earning \n",
       "Rate (%)</th><th style=\"text-align: right;\">        Maximum \n",
       "Pullback (%)</th><th style=\"text-align: right;\">       Average Profitability \n",
       "per Trade</th><th style=\"text-align: right;\">  Sharpe Ratio</th><th style=\"text-align: right;\">  Total Timesteps</th></tr>\n",
       "</thead>\n",
       "<tbody>\n",
       "<tr><td style=\"text-align: right;\">6.7</td><td style=\"text-align: right;\">8.89</td><td style=\"text-align: right;\">52.0914</td><td style=\"text-align: right;\">183.01</td><td style=\"text-align: right;\">        0.0149</td><td style=\"text-align: right;\">             1101</td></tr>\n",
       "</tbody>\n",
       "</table>"
      ]
     },
     "metadata": {},
     "output_type": "display_data"
    },
    {
     "data": {
      "text/html": [
       "<h3>Strategy-RANDOM |  | Experiment 2</h3>\n"
      ]
     },
     "metadata": {},
     "output_type": "display_data"
    },
    {
     "data": {
      "text/html": [
       "<table>\n",
       "<thead>\n",
       "<tr><th style=\"text-align: right;\">      Cumulative \n",
       "Return (%)</th><th style=\"text-align: right;\">      Maximum Earning \n",
       "Rate (%)</th><th style=\"text-align: right;\">        Maximum \n",
       "Pullback (%)</th><th style=\"text-align: right;\">         Average Profitability \n",
       "per Trade</th><th style=\"text-align: right;\">  Sharpe Ratio</th><th style=\"text-align: right;\">  Total Timesteps</th></tr>\n",
       "</thead>\n",
       "<tbody>\n",
       "<tr><td style=\"text-align: right;\">-6.52</td><td style=\"text-align: right;\">12.89</td><td style=\"text-align: right;\">58.6895</td><td style=\"text-align: right;\">-178.011</td><td style=\"text-align: right;\">       -0.0142</td><td style=\"text-align: right;\">             1101</td></tr>\n",
       "</tbody>\n",
       "</table>"
      ]
     },
     "metadata": {},
     "output_type": "display_data"
    },
    {
     "data": {
      "text/html": [
       "<h3>Reward Function-Standard Logarithmic Returns | Strategy-PPOLSTM | Experiment 2</h3>\n"
      ]
     },
     "metadata": {},
     "output_type": "display_data"
    },
    {
     "data": {
      "text/html": [
       "<table>\n",
       "<thead>\n",
       "<tr><th style=\"text-align: right;\">      Cumulative \n",
       "Return (%)</th><th style=\"text-align: right;\">      Maximum Earning \n",
       "Rate (%)</th><th style=\"text-align: right;\">        Maximum \n",
       "Pullback (%)</th><th style=\"text-align: right;\">        Average Profitability \n",
       "per Trade</th><th style=\"text-align: right;\">  Sharpe Ratio</th><th style=\"text-align: right;\">  Total Timesteps</th></tr>\n",
       "</thead>\n",
       "<tbody>\n",
       "<tr><td style=\"text-align: right;\">32.77</td><td style=\"text-align: right;\">34.25</td><td style=\"text-align: right;\">54.0416</td><td style=\"text-align: right;\">895.407</td><td style=\"text-align: right;\">        0.0593</td><td style=\"text-align: right;\">             1101</td></tr>\n",
       "</tbody>\n",
       "</table>"
      ]
     },
     "metadata": {},
     "output_type": "display_data"
    },
    {
     "data": {
      "text/html": [
       "<h3>Strategy-RANDOM |  | Experiment 2</h3>\n"
      ]
     },
     "metadata": {},
     "output_type": "display_data"
    },
    {
     "data": {
      "text/html": [
       "<table>\n",
       "<thead>\n",
       "<tr><th style=\"text-align: right;\">     Cumulative \n",
       "Return (%)</th><th style=\"text-align: right;\">      Maximum Earning \n",
       "Rate (%)</th><th style=\"text-align: right;\">        Maximum \n",
       "Pullback (%)</th><th style=\"text-align: right;\">        Average Profitability \n",
       "per Trade</th><th style=\"text-align: right;\">  Sharpe Ratio</th><th style=\"text-align: right;\">  Total Timesteps</th></tr>\n",
       "</thead>\n",
       "<tbody>\n",
       "<tr><td style=\"text-align: right;\">9.41</td><td style=\"text-align: right;\">24.68</td><td style=\"text-align: right;\">28.5421</td><td style=\"text-align: right;\">256.981</td><td style=\"text-align: right;\">         0.019</td><td style=\"text-align: right;\">             1101</td></tr>\n",
       "</tbody>\n",
       "</table>"
      ]
     },
     "metadata": {},
     "output_type": "display_data"
    },
    {
     "data": {
      "text/html": [
       "<h3>Reward Function-Standard Logarithmic Returns | Strategy-PPOLSTM | Experiment 2</h3>\n"
      ]
     },
     "metadata": {},
     "output_type": "display_data"
    },
    {
     "data": {
      "text/html": [
       "<table>\n",
       "<thead>\n",
       "<tr><th style=\"text-align: right;\">     Cumulative \n",
       "Return (%)</th><th style=\"text-align: right;\">      Maximum Earning \n",
       "Rate (%)</th><th style=\"text-align: right;\">        Maximum \n",
       "Pullback (%)</th><th style=\"text-align: right;\">        Average Profitability \n",
       "per Trade</th><th style=\"text-align: right;\">  Sharpe Ratio</th><th style=\"text-align: right;\">  Total Timesteps</th></tr>\n",
       "</thead>\n",
       "<tbody>\n",
       "<tr><td style=\"text-align: right;\">2.95</td><td style=\"text-align: right;\">12.88</td><td style=\"text-align: right;\">50.9167</td><td style=\"text-align: right;\">80.6886</td><td style=\"text-align: right;\">        0.0069</td><td style=\"text-align: right;\">             1101</td></tr>\n",
       "</tbody>\n",
       "</table>"
      ]
     },
     "metadata": {},
     "output_type": "display_data"
    },
    {
     "data": {
      "text/html": [
       "<h3>Strategy-RANDOM |  | Experiment 2</h3>\n"
      ]
     },
     "metadata": {},
     "output_type": "display_data"
    },
    {
     "data": {
      "text/html": [
       "<table>\n",
       "<thead>\n",
       "<tr><th style=\"text-align: right;\">     Cumulative \n",
       "Return (%)</th><th style=\"text-align: right;\">      Maximum Earning \n",
       "Rate (%)</th><th style=\"text-align: right;\">        Maximum \n",
       "Pullback (%)</th><th style=\"text-align: right;\">       Average Profitability \n",
       "per Trade</th><th style=\"text-align: right;\">  Sharpe Ratio</th><th style=\"text-align: right;\">  Total Timesteps</th></tr>\n",
       "</thead>\n",
       "<tbody>\n",
       "<tr><td style=\"text-align: right;\">6.55</td><td style=\"text-align: right;\">21.26</td><td style=\"text-align: right;\">37.1647</td><td style=\"text-align: right;\">179.04</td><td style=\"text-align: right;\">        0.0126</td><td style=\"text-align: right;\">             1101</td></tr>\n",
       "</tbody>\n",
       "</table>"
      ]
     },
     "metadata": {},
     "output_type": "display_data"
    },
    {
     "data": {
      "text/html": [
       "<h3>Reward Function-Standard Logarithmic Returns | Strategy-PPOLSTM | Experiment 2</h3>\n"
      ]
     },
     "metadata": {},
     "output_type": "display_data"
    },
    {
     "data": {
      "text/html": [
       "<table>\n",
       "<thead>\n",
       "<tr><th style=\"text-align: right;\">      Cumulative \n",
       "Return (%)</th><th style=\"text-align: right;\">      Maximum Earning \n",
       "Rate (%)</th><th style=\"text-align: right;\">        Maximum \n",
       "Pullback (%)</th><th style=\"text-align: right;\">        Average Profitability \n",
       "per Trade</th><th style=\"text-align: right;\">  Sharpe Ratio</th><th style=\"text-align: right;\">  Total Timesteps</th></tr>\n",
       "</thead>\n",
       "<tbody>\n",
       "<tr><td style=\"text-align: right;\">13.68</td><td style=\"text-align: right;\">15.78</td><td style=\"text-align: right;\">49.1131</td><td style=\"text-align: right;\">373.888</td><td style=\"text-align: right;\">        0.0291</td><td style=\"text-align: right;\">             1101</td></tr>\n",
       "</tbody>\n",
       "</table>"
      ]
     },
     "metadata": {},
     "output_type": "display_data"
    },
    {
     "data": {
      "text/html": [
       "<h3>Strategy-RANDOM |  | Experiment 2</h3>\n"
      ]
     },
     "metadata": {},
     "output_type": "display_data"
    },
    {
     "data": {
      "text/html": [
       "<table>\n",
       "<thead>\n",
       "<tr><th style=\"text-align: right;\">     Cumulative \n",
       "Return (%)</th><th style=\"text-align: right;\">      Maximum Earning \n",
       "Rate (%)</th><th style=\"text-align: right;\">        Maximum \n",
       "Pullback (%)</th><th style=\"text-align: right;\">        Average Profitability \n",
       "per Trade</th><th style=\"text-align: right;\">  Sharpe Ratio</th><th style=\"text-align: right;\">  Total Timesteps</th></tr>\n",
       "</thead>\n",
       "<tbody>\n",
       "<tr><td style=\"text-align: right;\">3.16</td><td style=\"text-align: right;\">15.66</td><td style=\"text-align: right;\">44.2617</td><td style=\"text-align: right;\">86.3985</td><td style=\"text-align: right;\">        0.0067</td><td style=\"text-align: right;\">             1101</td></tr>\n",
       "</tbody>\n",
       "</table>"
      ]
     },
     "metadata": {},
     "output_type": "display_data"
    },
    {
     "data": {
      "text/html": [
       "<h3>Reward Function-Standard Logarithmic Returns | Strategy-PPOLSTM | Experiment 2</h3>\n"
      ]
     },
     "metadata": {},
     "output_type": "display_data"
    },
    {
     "data": {
      "text/html": [
       "<table>\n",
       "<thead>\n",
       "<tr><th style=\"text-align: right;\">     Cumulative \n",
       "Return (%)</th><th style=\"text-align: right;\">      Maximum Earning \n",
       "Rate (%)</th><th style=\"text-align: right;\">        Maximum \n",
       "Pullback (%)</th><th style=\"text-align: right;\">        Average Profitability \n",
       "per Trade</th><th style=\"text-align: right;\">  Sharpe Ratio</th><th style=\"text-align: right;\">  Total Timesteps</th></tr>\n",
       "</thead>\n",
       "<tbody>\n",
       "<tr><td style=\"text-align: right;\">9.01</td><td style=\"text-align: right;\">11.45</td><td style=\"text-align: right;\">49.9513</td><td style=\"text-align: right;\">246.282</td><td style=\"text-align: right;\">        0.0177</td><td style=\"text-align: right;\">             1101</td></tr>\n",
       "</tbody>\n",
       "</table>"
      ]
     },
     "metadata": {},
     "output_type": "display_data"
    },
    {
     "data": {
      "text/html": [
       "<h3>Strategy-RANDOM |  | Experiment 2</h3>\n"
      ]
     },
     "metadata": {},
     "output_type": "display_data"
    },
    {
     "data": {
      "text/html": [
       "<table>\n",
       "<thead>\n",
       "<tr><th style=\"text-align: right;\">      Cumulative \n",
       "Return (%)</th><th style=\"text-align: right;\">      Maximum Earning \n",
       "Rate (%)</th><th style=\"text-align: right;\">        Maximum \n",
       "Pullback (%)</th><th style=\"text-align: right;\">        Average Profitability \n",
       "per Trade</th><th style=\"text-align: right;\">  Sharpe Ratio</th><th style=\"text-align: right;\">  Total Timesteps</th></tr>\n",
       "</thead>\n",
       "<tbody>\n",
       "<tr><td style=\"text-align: right;\">22.48</td><td style=\"text-align: right;\">25.35</td><td style=\"text-align: right;\">45.5728</td><td style=\"text-align: right;\">614.256</td><td style=\"text-align: right;\">        0.0439</td><td style=\"text-align: right;\">             1101</td></tr>\n",
       "</tbody>\n",
       "</table>"
      ]
     },
     "metadata": {},
     "output_type": "display_data"
    },
    {
     "data": {
      "text/html": [
       "<h3>Reward Function-Standard Logarithmic Returns | Strategy-PPOLSTM | Experiment 2</h3>\n"
      ]
     },
     "metadata": {},
     "output_type": "display_data"
    },
    {
     "data": {
      "text/html": [
       "<table>\n",
       "<thead>\n",
       "<tr><th style=\"text-align: right;\">      Cumulative \n",
       "Return (%)</th><th style=\"text-align: right;\">      Maximum Earning \n",
       "Rate (%)</th><th style=\"text-align: right;\">        Maximum \n",
       "Pullback (%)</th><th style=\"text-align: right;\">        Average Profitability \n",
       "per Trade</th><th style=\"text-align: right;\">  Sharpe Ratio</th><th style=\"text-align: right;\">  Total Timesteps</th></tr>\n",
       "</thead>\n",
       "<tbody>\n",
       "<tr><td style=\"text-align: right;\">42.81</td><td style=\"text-align: right;\">46.19</td><td style=\"text-align: right;\">47.9979</td><td style=\"text-align: right;\">1169.66</td><td style=\"text-align: right;\">          0.07</td><td style=\"text-align: right;\">             1101</td></tr>\n",
       "</tbody>\n",
       "</table>"
      ]
     },
     "metadata": {},
     "output_type": "display_data"
    },
    {
     "data": {
      "text/html": [
       "<h3>Strategy-RANDOM |  | Experiment 2</h3>\n"
      ]
     },
     "metadata": {},
     "output_type": "display_data"
    },
    {
     "data": {
      "text/html": [
       "<table>\n",
       "<thead>\n",
       "<tr><th style=\"text-align: right;\">    Cumulative \n",
       "Return (%)</th><th style=\"text-align: right;\">     Maximum Earning \n",
       "Rate (%)</th><th style=\"text-align: right;\">        Maximum \n",
       "Pullback (%)</th><th style=\"text-align: right;\">        Average Profitability \n",
       "per Trade</th><th style=\"text-align: right;\">  Sharpe Ratio</th><th style=\"text-align: right;\">  Total Timesteps</th></tr>\n",
       "</thead>\n",
       "<tbody>\n",
       "<tr><td style=\"text-align: right;\">4.1</td><td style=\"text-align: right;\">15.4</td><td style=\"text-align: right;\">44.1034</td><td style=\"text-align: right;\">112.021</td><td style=\"text-align: right;\">        0.0088</td><td style=\"text-align: right;\">             1101</td></tr>\n",
       "</tbody>\n",
       "</table>"
      ]
     },
     "metadata": {},
     "output_type": "display_data"
    },
    {
     "data": {
      "text/html": [
       "<h3>Reward Function-Standard Logarithmic Returns | Strategy-PPOLSTM | Experiment 2</h3>\n"
      ]
     },
     "metadata": {},
     "output_type": "display_data"
    },
    {
     "data": {
      "text/html": [
       "<table>\n",
       "<thead>\n",
       "<tr><th style=\"text-align: right;\">     Cumulative \n",
       "Return (%)</th><th style=\"text-align: right;\">      Maximum Earning \n",
       "Rate (%)</th><th style=\"text-align: right;\">        Maximum \n",
       "Pullback (%)</th><th style=\"text-align: right;\">       Average Profitability \n",
       "per Trade</th><th style=\"text-align: right;\">  Sharpe Ratio</th><th style=\"text-align: right;\">  Total Timesteps</th></tr>\n",
       "</thead>\n",
       "<tbody>\n",
       "<tr><td style=\"text-align: right;\">9.66</td><td style=\"text-align: right;\">12.18</td><td style=\"text-align: right;\">43.6873</td><td style=\"text-align: right;\">264.07</td><td style=\"text-align: right;\">        0.0188</td><td style=\"text-align: right;\">             1101</td></tr>\n",
       "</tbody>\n",
       "</table>"
      ]
     },
     "metadata": {},
     "output_type": "display_data"
    },
    {
     "data": {
      "text/html": [
       "<h3>Strategy-RANDOM |  | Experiment 2</h3>\n"
      ]
     },
     "metadata": {},
     "output_type": "display_data"
    },
    {
     "data": {
      "text/html": [
       "<table>\n",
       "<thead>\n",
       "<tr><th style=\"text-align: right;\">      Cumulative \n",
       "Return (%)</th><th style=\"text-align: right;\">      Maximum Earning \n",
       "Rate (%)</th><th style=\"text-align: right;\">        Maximum \n",
       "Pullback (%)</th><th style=\"text-align: right;\">       Average Profitability \n",
       "per Trade</th><th style=\"text-align: right;\">  Sharpe Ratio</th><th style=\"text-align: right;\">  Total Timesteps</th></tr>\n",
       "</thead>\n",
       "<tbody>\n",
       "<tr><td style=\"text-align: right;\">26.32</td><td style=\"text-align: right;\">35.69</td><td style=\"text-align: right;\">40.4857</td><td style=\"text-align: right;\">719.26</td><td style=\"text-align: right;\">        0.0493</td><td style=\"text-align: right;\">             1101</td></tr>\n",
       "</tbody>\n",
       "</table>"
      ]
     },
     "metadata": {},
     "output_type": "display_data"
    },
    {
     "data": {
      "text/html": [
       "<h3>Reward Function-Standard Logarithmic Returns | Strategy-PPOLSTM | Experiment 2</h3>\n"
      ]
     },
     "metadata": {},
     "output_type": "display_data"
    },
    {
     "data": {
      "text/html": [
       "<table>\n",
       "<thead>\n",
       "<tr><th style=\"text-align: right;\">     Cumulative \n",
       "Return (%)</th><th style=\"text-align: right;\">      Maximum Earning \n",
       "Rate (%)</th><th style=\"text-align: right;\">        Maximum \n",
       "Pullback (%)</th><th style=\"text-align: right;\">        Average Profitability \n",
       "per Trade</th><th style=\"text-align: right;\">  Sharpe Ratio</th><th style=\"text-align: right;\">  Total Timesteps</th></tr>\n",
       "</thead>\n",
       "<tbody>\n",
       "<tr><td style=\"text-align: right;\">6.85</td><td style=\"text-align: right;\">25.04</td><td style=\"text-align: right;\">53.3663</td><td style=\"text-align: right;\">187.188</td><td style=\"text-align: right;\">        0.0122</td><td style=\"text-align: right;\">             1101</td></tr>\n",
       "</tbody>\n",
       "</table>"
      ]
     },
     "metadata": {},
     "output_type": "display_data"
    },
    {
     "data": {
      "text/html": [
       "<h3>Strategy-RANDOM |  | Experiment 2</h3>\n"
      ]
     },
     "metadata": {},
     "output_type": "display_data"
    },
    {
     "data": {
      "text/html": [
       "<table>\n",
       "<thead>\n",
       "<tr><th style=\"text-align: right;\">     Cumulative \n",
       "Return (%)</th><th style=\"text-align: right;\">      Maximum Earning \n",
       "Rate (%)</th><th style=\"text-align: right;\">        Maximum \n",
       "Pullback (%)</th><th style=\"text-align: right;\">        Average Profitability \n",
       "per Trade</th><th style=\"text-align: right;\">  Sharpe Ratio</th><th style=\"text-align: right;\">  Total Timesteps</th></tr>\n",
       "</thead>\n",
       "<tbody>\n",
       "<tr><td style=\"text-align: right;\">19.7</td><td style=\"text-align: right;\">25.15</td><td style=\"text-align: right;\">41.8011</td><td style=\"text-align: right;\">538.324</td><td style=\"text-align: right;\">        0.0404</td><td style=\"text-align: right;\">             1101</td></tr>\n",
       "</tbody>\n",
       "</table>"
      ]
     },
     "metadata": {},
     "output_type": "display_data"
    },
    {
     "data": {
      "text/html": [
       "<h3>Reward Function-Standard Logarithmic Returns | Strategy-PPOLSTM | Experiment 2</h3>\n"
      ]
     },
     "metadata": {},
     "output_type": "display_data"
    },
    {
     "data": {
      "text/html": [
       "<table>\n",
       "<thead>\n",
       "<tr><th style=\"text-align: right;\">      Cumulative \n",
       "Return (%)</th><th style=\"text-align: right;\">      Maximum Earning \n",
       "Rate (%)</th><th style=\"text-align: right;\">        Maximum \n",
       "Pullback (%)</th><th style=\"text-align: right;\">         Average Profitability \n",
       "per Trade</th><th style=\"text-align: right;\">  Sharpe Ratio</th><th style=\"text-align: right;\">  Total Timesteps</th></tr>\n",
       "</thead>\n",
       "<tbody>\n",
       "<tr><td style=\"text-align: right;\">-4.27</td><td style=\"text-align: right;\">10.29</td><td style=\"text-align: right;\">49.3006</td><td style=\"text-align: right;\">-116.682</td><td style=\"text-align: right;\">       -0.0107</td><td style=\"text-align: right;\">             1101</td></tr>\n",
       "</tbody>\n",
       "</table>"
      ]
     },
     "metadata": {},
     "output_type": "display_data"
    },
    {
     "data": {
      "text/html": [
       "<h3>Strategy-RANDOM |  | Experiment 2</h3>\n"
      ]
     },
     "metadata": {},
     "output_type": "display_data"
    },
    {
     "data": {
      "text/html": [
       "<table>\n",
       "<thead>\n",
       "<tr><th style=\"text-align: right;\">      Cumulative \n",
       "Return (%)</th><th style=\"text-align: right;\">     Maximum Earning \n",
       "Rate (%)</th><th style=\"text-align: right;\">        Maximum \n",
       "Pullback (%)</th><th style=\"text-align: right;\">         Average Profitability \n",
       "per Trade</th><th style=\"text-align: right;\">  Sharpe Ratio</th><th style=\"text-align: right;\">  Total Timesteps</th></tr>\n",
       "</thead>\n",
       "<tbody>\n",
       "<tr><td style=\"text-align: right;\">-2.56</td><td style=\"text-align: right;\">6.81</td><td style=\"text-align: right;\">45.5062</td><td style=\"text-align: right;\">-69.8927</td><td style=\"text-align: right;\">       -0.0062</td><td style=\"text-align: right;\">             1101</td></tr>\n",
       "</tbody>\n",
       "</table>"
      ]
     },
     "metadata": {},
     "output_type": "display_data"
    },
    {
     "data": {
      "text/html": [
       "<h3>Reward Function-Standard Logarithmic Returns | Strategy-PPOLSTM | Experiment 2</h3>\n"
      ]
     },
     "metadata": {},
     "output_type": "display_data"
    },
    {
     "data": {
      "text/html": [
       "<table>\n",
       "<thead>\n",
       "<tr><th style=\"text-align: right;\">     Cumulative \n",
       "Return (%)</th><th style=\"text-align: right;\">   Maximum Earning \n",
       "Rate (%)</th><th style=\"text-align: right;\">        Maximum \n",
       "Pullback (%)</th><th style=\"text-align: right;\">        Average Profitability \n",
       "per Trade</th><th style=\"text-align: right;\">  Sharpe Ratio</th><th style=\"text-align: right;\">  Total Timesteps</th></tr>\n",
       "</thead>\n",
       "<tbody>\n",
       "<tr><td style=\"text-align: right;\">9.01</td><td style=\"text-align: right;\">19</td><td style=\"text-align: right;\">41.3124</td><td style=\"text-align: right;\">246.248</td><td style=\"text-align: right;\">        0.0191</td><td style=\"text-align: right;\">             1101</td></tr>\n",
       "</tbody>\n",
       "</table>"
      ]
     },
     "metadata": {},
     "output_type": "display_data"
    },
    {
     "data": {
      "text/html": [
       "<h3>Strategy-RANDOM |  | Experiment 2</h3>\n"
      ]
     },
     "metadata": {},
     "output_type": "display_data"
    },
    {
     "data": {
      "text/html": [
       "<table>\n",
       "<thead>\n",
       "<tr><th style=\"text-align: right;\">     Cumulative \n",
       "Return (%)</th><th style=\"text-align: right;\">     Maximum Earning \n",
       "Rate (%)</th><th style=\"text-align: right;\">        Maximum \n",
       "Pullback (%)</th><th style=\"text-align: right;\">       Average Profitability \n",
       "per Trade</th><th style=\"text-align: right;\">  Sharpe Ratio</th><th style=\"text-align: right;\">  Total Timesteps</th></tr>\n",
       "</thead>\n",
       "<tbody>\n",
       "<tr><td style=\"text-align: right;\">2.82</td><td style=\"text-align: right;\">8.82</td><td style=\"text-align: right;\">57.5705</td><td style=\"text-align: right;\">77.127</td><td style=\"text-align: right;\">        0.0062</td><td style=\"text-align: right;\">             1101</td></tr>\n",
       "</tbody>\n",
       "</table>"
      ]
     },
     "metadata": {},
     "output_type": "display_data"
    },
    {
     "data": {
      "text/html": [
       "<h3>Reward Function-Standard Logarithmic Returns | Strategy-PPOLSTM | Experiment 2</h3>\n"
      ]
     },
     "metadata": {},
     "output_type": "display_data"
    },
    {
     "data": {
      "text/html": [
       "<table>\n",
       "<thead>\n",
       "<tr><th style=\"text-align: right;\">     Cumulative \n",
       "Return (%)</th><th style=\"text-align: right;\">      Maximum Earning \n",
       "Rate (%)</th><th style=\"text-align: right;\">        Maximum \n",
       "Pullback (%)</th><th style=\"text-align: right;\">        Average Profitability \n",
       "per Trade</th><th style=\"text-align: right;\">  Sharpe Ratio</th><th style=\"text-align: right;\">  Total Timesteps</th></tr>\n",
       "</thead>\n",
       "<tbody>\n",
       "<tr><td style=\"text-align: right;\">2.92</td><td style=\"text-align: right;\">17.95</td><td style=\"text-align: right;\">49.2961</td><td style=\"text-align: right;\">79.8247</td><td style=\"text-align: right;\">        0.0069</td><td style=\"text-align: right;\">             1101</td></tr>\n",
       "</tbody>\n",
       "</table>"
      ]
     },
     "metadata": {},
     "output_type": "display_data"
    },
    {
     "data": {
      "text/html": [
       "<h3>Strategy-RANDOM |  | Experiment 2</h3>\n"
      ]
     },
     "metadata": {},
     "output_type": "display_data"
    },
    {
     "data": {
      "text/html": [
       "<table>\n",
       "<thead>\n",
       "<tr><th style=\"text-align: right;\">      Cumulative \n",
       "Return (%)</th><th style=\"text-align: right;\">     Maximum Earning \n",
       "Rate (%)</th><th style=\"text-align: right;\">        Maximum \n",
       "Pullback (%)</th><th style=\"text-align: right;\">         Average Profitability \n",
       "per Trade</th><th style=\"text-align: right;\">  Sharpe Ratio</th><th style=\"text-align: right;\">  Total Timesteps</th></tr>\n",
       "</thead>\n",
       "<tbody>\n",
       "<tr><td style=\"text-align: right;\">-3.65</td><td style=\"text-align: right;\">11.3</td><td style=\"text-align: right;\">54.1064</td><td style=\"text-align: right;\">-99.6644</td><td style=\"text-align: right;\">       -0.0083</td><td style=\"text-align: right;\">             1101</td></tr>\n",
       "</tbody>\n",
       "</table>"
      ]
     },
     "metadata": {},
     "output_type": "display_data"
    },
    {
     "data": {
      "text/html": [
       "<h3>Reward Function-Standard Logarithmic Returns | Strategy-PPOLSTM | Experiment 2</h3>\n"
      ]
     },
     "metadata": {},
     "output_type": "display_data"
    },
    {
     "data": {
      "text/html": [
       "<table>\n",
       "<thead>\n",
       "<tr><th style=\"text-align: right;\">      Cumulative \n",
       "Return (%)</th><th style=\"text-align: right;\">      Maximum Earning \n",
       "Rate (%)</th><th style=\"text-align: right;\">        Maximum \n",
       "Pullback (%)</th><th style=\"text-align: right;\">         Average Profitability \n",
       "per Trade</th><th style=\"text-align: right;\">  Sharpe Ratio</th><th style=\"text-align: right;\">  Total Timesteps</th></tr>\n",
       "</thead>\n",
       "<tbody>\n",
       "<tr><td style=\"text-align: right;\">-7.13</td><td style=\"text-align: right;\">11.16</td><td style=\"text-align: right;\">43.2552</td><td style=\"text-align: right;\">-194.753</td><td style=\"text-align: right;\">       -0.0158</td><td style=\"text-align: right;\">             1101</td></tr>\n",
       "</tbody>\n",
       "</table>"
      ]
     },
     "metadata": {},
     "output_type": "display_data"
    },
    {
     "data": {
      "text/html": [
       "<h3>Strategy-RANDOM |  | Experiment 2</h3>\n"
      ]
     },
     "metadata": {},
     "output_type": "display_data"
    },
    {
     "data": {
      "text/html": [
       "<table>\n",
       "<thead>\n",
       "<tr><th style=\"text-align: right;\">      Cumulative \n",
       "Return (%)</th><th style=\"text-align: right;\">      Maximum Earning \n",
       "Rate (%)</th><th style=\"text-align: right;\">        Maximum \n",
       "Pullback (%)</th><th style=\"text-align: right;\">        Average Profitability \n",
       "per Trade</th><th style=\"text-align: right;\">  Sharpe Ratio</th><th style=\"text-align: right;\">  Total Timesteps</th></tr>\n",
       "</thead>\n",
       "<tbody>\n",
       "<tr><td style=\"text-align: right;\">17.22</td><td style=\"text-align: right;\">39.32</td><td style=\"text-align: right;\">39.7696</td><td style=\"text-align: right;\">470.393</td><td style=\"text-align: right;\">        0.0303</td><td style=\"text-align: right;\">             1101</td></tr>\n",
       "</tbody>\n",
       "</table>"
      ]
     },
     "metadata": {},
     "output_type": "display_data"
    },
    {
     "data": {
      "text/html": [
       "<h3>Reward Function-CVaR_0.5 | Strategy-PPOLSTM | Experiment 2</h3>\n"
      ]
     },
     "metadata": {},
     "output_type": "display_data"
    },
    {
     "data": {
      "text/html": [
       "<table>\n",
       "<thead>\n",
       "<tr><th style=\"text-align: right;\">      Cumulative \n",
       "Return (%)</th><th style=\"text-align: right;\">      Maximum Earning \n",
       "Rate (%)</th><th style=\"text-align: right;\">        Maximum \n",
       "Pullback (%)</th><th style=\"text-align: right;\">        Average Profitability \n",
       "per Trade</th><th style=\"text-align: right;\">  Sharpe Ratio</th><th style=\"text-align: right;\">  Total Timesteps</th></tr>\n",
       "</thead>\n",
       "<tbody>\n",
       "<tr><td style=\"text-align: right;\">12.92</td><td style=\"text-align: right;\">25.58</td><td style=\"text-align: right;\">49.1333</td><td style=\"text-align: right;\">353.134</td><td style=\"text-align: right;\">        0.0235</td><td style=\"text-align: right;\">             1101</td></tr>\n",
       "</tbody>\n",
       "</table>"
      ]
     },
     "metadata": {},
     "output_type": "display_data"
    },
    {
     "data": {
      "text/html": [
       "<h3>Strategy-RANDOM |  | Experiment 2</h3>\n"
      ]
     },
     "metadata": {},
     "output_type": "display_data"
    },
    {
     "data": {
      "text/html": [
       "<table>\n",
       "<thead>\n",
       "<tr><th style=\"text-align: right;\">     Cumulative \n",
       "Return (%)</th><th style=\"text-align: right;\">      Maximum Earning \n",
       "Rate (%)</th><th style=\"text-align: right;\">        Maximum \n",
       "Pullback (%)</th><th style=\"text-align: right;\">        Average Profitability \n",
       "per Trade</th><th style=\"text-align: right;\">  Sharpe Ratio</th><th style=\"text-align: right;\">  Total Timesteps</th></tr>\n",
       "</thead>\n",
       "<tbody>\n",
       "<tr><td style=\"text-align: right;\">6.59</td><td style=\"text-align: right;\">14.57</td><td style=\"text-align: right;\">51.8819</td><td style=\"text-align: right;\">180.068</td><td style=\"text-align: right;\">        0.0132</td><td style=\"text-align: right;\">             1101</td></tr>\n",
       "</tbody>\n",
       "</table>"
      ]
     },
     "metadata": {},
     "output_type": "display_data"
    },
    {
     "data": {
      "text/html": [
       "<h3>Reward Function-CVaR_0.5 | Strategy-PPOLSTM | Experiment 2</h3>\n"
      ]
     },
     "metadata": {},
     "output_type": "display_data"
    },
    {
     "data": {
      "text/html": [
       "<table>\n",
       "<thead>\n",
       "<tr><th style=\"text-align: right;\">     Cumulative \n",
       "Return (%)</th><th style=\"text-align: right;\">     Maximum Earning \n",
       "Rate (%)</th><th style=\"text-align: right;\">        Maximum \n",
       "Pullback (%)</th><th style=\"text-align: right;\">        Average Profitability \n",
       "per Trade</th><th style=\"text-align: right;\">  Sharpe Ratio</th><th style=\"text-align: right;\">  Total Timesteps</th></tr>\n",
       "</thead>\n",
       "<tbody>\n",
       "<tr><td style=\"text-align: right;\">8.59</td><td style=\"text-align: right;\">20.7</td><td style=\"text-align: right;\">50.2831</td><td style=\"text-align: right;\">234.817</td><td style=\"text-align: right;\">        0.0167</td><td style=\"text-align: right;\">             1101</td></tr>\n",
       "</tbody>\n",
       "</table>"
      ]
     },
     "metadata": {},
     "output_type": "display_data"
    },
    {
     "data": {
      "text/html": [
       "<h3>Strategy-RANDOM |  | Experiment 2</h3>\n"
      ]
     },
     "metadata": {},
     "output_type": "display_data"
    },
    {
     "data": {
      "text/html": [
       "<table>\n",
       "<thead>\n",
       "<tr><th style=\"text-align: right;\">      Cumulative \n",
       "Return (%)</th><th style=\"text-align: right;\">      Maximum Earning \n",
       "Rate (%)</th><th style=\"text-align: right;\">        Maximum \n",
       "Pullback (%)</th><th style=\"text-align: right;\">        Average Profitability \n",
       "per Trade</th><th style=\"text-align: right;\">  Sharpe Ratio</th><th style=\"text-align: right;\">  Total Timesteps</th></tr>\n",
       "</thead>\n",
       "<tbody>\n",
       "<tr><td style=\"text-align: right;\">19.78</td><td style=\"text-align: right;\">22.19</td><td style=\"text-align: right;\">39.4409</td><td style=\"text-align: right;\">540.456</td><td style=\"text-align: right;\">        0.0385</td><td style=\"text-align: right;\">             1101</td></tr>\n",
       "</tbody>\n",
       "</table>"
      ]
     },
     "metadata": {},
     "output_type": "display_data"
    },
    {
     "data": {
      "text/html": [
       "<h3>Reward Function-CVaR_0.5 | Strategy-PPOLSTM | Experiment 2</h3>\n"
      ]
     },
     "metadata": {},
     "output_type": "display_data"
    },
    {
     "data": {
      "text/html": [
       "<table>\n",
       "<thead>\n",
       "<tr><th style=\"text-align: right;\">      Cumulative \n",
       "Return (%)</th><th style=\"text-align: right;\">     Maximum Earning \n",
       "Rate (%)</th><th style=\"text-align: right;\">        Maximum \n",
       "Pullback (%)</th><th style=\"text-align: right;\">        Average Profitability \n",
       "per Trade</th><th style=\"text-align: right;\">  Sharpe Ratio</th><th style=\"text-align: right;\">  Total Timesteps</th></tr>\n",
       "</thead>\n",
       "<tbody>\n",
       "<tr><td style=\"text-align: right;\">10.96</td><td style=\"text-align: right;\">23.3</td><td style=\"text-align: right;\">48.7652</td><td style=\"text-align: right;\">299.407</td><td style=\"text-align: right;\">        0.0185</td><td style=\"text-align: right;\">             1101</td></tr>\n",
       "</tbody>\n",
       "</table>"
      ]
     },
     "metadata": {},
     "output_type": "display_data"
    },
    {
     "data": {
      "text/html": [
       "<h3>Strategy-RANDOM |  | Experiment 2</h3>\n"
      ]
     },
     "metadata": {},
     "output_type": "display_data"
    },
    {
     "data": {
      "text/html": [
       "<table>\n",
       "<thead>\n",
       "<tr><th style=\"text-align: right;\">      Cumulative \n",
       "Return (%)</th><th style=\"text-align: right;\">      Maximum Earning \n",
       "Rate (%)</th><th style=\"text-align: right;\">        Maximum \n",
       "Pullback (%)</th><th style=\"text-align: right;\">       Average Profitability \n",
       "per Trade</th><th style=\"text-align: right;\">  Sharpe Ratio</th><th style=\"text-align: right;\">  Total Timesteps</th></tr>\n",
       "</thead>\n",
       "<tbody>\n",
       "<tr><td style=\"text-align: right;\">26.35</td><td style=\"text-align: right;\">29.36</td><td style=\"text-align: right;\">43.8757</td><td style=\"text-align: right;\">719.87</td><td style=\"text-align: right;\">        0.0502</td><td style=\"text-align: right;\">             1101</td></tr>\n",
       "</tbody>\n",
       "</table>"
      ]
     },
     "metadata": {},
     "output_type": "display_data"
    },
    {
     "data": {
      "text/html": [
       "<h3>Reward Function-CVaR_0.5 | Strategy-PPOLSTM | Experiment 2</h3>\n"
      ]
     },
     "metadata": {},
     "output_type": "display_data"
    },
    {
     "data": {
      "text/html": [
       "<table>\n",
       "<thead>\n",
       "<tr><th style=\"text-align: right;\">      Cumulative \n",
       "Return (%)</th><th style=\"text-align: right;\">     Maximum Earning \n",
       "Rate (%)</th><th style=\"text-align: right;\">        Maximum \n",
       "Pullback (%)</th><th style=\"text-align: right;\">         Average Profitability \n",
       "per Trade</th><th style=\"text-align: right;\">  Sharpe Ratio</th><th style=\"text-align: right;\">  Total Timesteps</th></tr>\n",
       "</thead>\n",
       "<tbody>\n",
       "<tr><td style=\"text-align: right;\">-1.01</td><td style=\"text-align: right;\">8.38</td><td style=\"text-align: right;\">54.3085</td><td style=\"text-align: right;\">-27.5088</td><td style=\"text-align: right;\">       -0.0023</td><td style=\"text-align: right;\">             1101</td></tr>\n",
       "</tbody>\n",
       "</table>"
      ]
     },
     "metadata": {},
     "output_type": "display_data"
    },
    {
     "data": {
      "text/html": [
       "<h3>Strategy-RANDOM |  | Experiment 2</h3>\n"
      ]
     },
     "metadata": {},
     "output_type": "display_data"
    },
    {
     "data": {
      "text/html": [
       "<table>\n",
       "<thead>\n",
       "<tr><th style=\"text-align: right;\">      Cumulative \n",
       "Return (%)</th><th style=\"text-align: right;\">   Maximum Earning \n",
       "Rate (%)</th><th style=\"text-align: right;\">        Maximum \n",
       "Pullback (%)</th><th style=\"text-align: right;\">        Average Profitability \n",
       "per Trade</th><th style=\"text-align: right;\">  Sharpe Ratio</th><th style=\"text-align: right;\">  Total Timesteps</th></tr>\n",
       "</thead>\n",
       "<tbody>\n",
       "<tr><td style=\"text-align: right;\">16.36</td><td style=\"text-align: right;\">29</td><td style=\"text-align: right;\">47.2981</td><td style=\"text-align: right;\">447.008</td><td style=\"text-align: right;\">        0.0319</td><td style=\"text-align: right;\">             1101</td></tr>\n",
       "</tbody>\n",
       "</table>"
      ]
     },
     "metadata": {},
     "output_type": "display_data"
    },
    {
     "data": {
      "text/html": [
       "<h3>Reward Function-CVaR_0.5 | Strategy-PPOLSTM | Experiment 2</h3>\n"
      ]
     },
     "metadata": {},
     "output_type": "display_data"
    },
    {
     "data": {
      "text/html": [
       "<table>\n",
       "<thead>\n",
       "<tr><th style=\"text-align: right;\">     Cumulative \n",
       "Return (%)</th><th style=\"text-align: right;\">    Maximum Earning \n",
       "Rate (%)</th><th style=\"text-align: right;\">        Maximum \n",
       "Pullback (%)</th><th style=\"text-align: right;\">        Average Profitability \n",
       "per Trade</th><th style=\"text-align: right;\">  Sharpe Ratio</th><th style=\"text-align: right;\">  Total Timesteps</th></tr>\n",
       "</thead>\n",
       "<tbody>\n",
       "<tr><td style=\"text-align: right;\">0.05</td><td style=\"text-align: right;\">3.7</td><td style=\"text-align: right;\">50.6383</td><td style=\"text-align: right;\">1.29326</td><td style=\"text-align: right;\">        0.0001</td><td style=\"text-align: right;\">             1101</td></tr>\n",
       "</tbody>\n",
       "</table>"
      ]
     },
     "metadata": {},
     "output_type": "display_data"
    },
    {
     "data": {
      "text/html": [
       "<h3>Strategy-RANDOM |  | Experiment 2</h3>\n"
      ]
     },
     "metadata": {},
     "output_type": "display_data"
    },
    {
     "data": {
      "text/html": [
       "<table>\n",
       "<thead>\n",
       "<tr><th style=\"text-align: right;\">      Cumulative \n",
       "Return (%)</th><th style=\"text-align: right;\">     Maximum Earning \n",
       "Rate (%)</th><th style=\"text-align: right;\">        Maximum \n",
       "Pullback (%)</th><th style=\"text-align: right;\">        Average Profitability \n",
       "per Trade</th><th style=\"text-align: right;\">  Sharpe Ratio</th><th style=\"text-align: right;\">  Total Timesteps</th></tr>\n",
       "</thead>\n",
       "<tbody>\n",
       "<tr><td style=\"text-align: right;\">21.79</td><td style=\"text-align: right;\">27.9</td><td style=\"text-align: right;\">41.9791</td><td style=\"text-align: right;\">595.321</td><td style=\"text-align: right;\">        0.0416</td><td style=\"text-align: right;\">             1101</td></tr>\n",
       "</tbody>\n",
       "</table>"
      ]
     },
     "metadata": {},
     "output_type": "display_data"
    },
    {
     "data": {
      "text/html": [
       "<h3>Reward Function-CVaR_0.5 | Strategy-PPOLSTM | Experiment 2</h3>\n"
      ]
     },
     "metadata": {},
     "output_type": "display_data"
    },
    {
     "data": {
      "text/html": [
       "<table>\n",
       "<thead>\n",
       "<tr><th style=\"text-align: right;\">      Cumulative \n",
       "Return (%)</th><th style=\"text-align: right;\">     Maximum Earning \n",
       "Rate (%)</th><th style=\"text-align: right;\">        Maximum \n",
       "Pullback (%)</th><th style=\"text-align: right;\">        Average Profitability \n",
       "per Trade</th><th style=\"text-align: right;\">  Sharpe Ratio</th><th style=\"text-align: right;\">  Total Timesteps</th></tr>\n",
       "</thead>\n",
       "<tbody>\n",
       "<tr><td style=\"text-align: right;\">13.15</td><td style=\"text-align: right;\">22.1</td><td style=\"text-align: right;\">60.8149</td><td style=\"text-align: right;\">359.226</td><td style=\"text-align: right;\">        0.0264</td><td style=\"text-align: right;\">             1101</td></tr>\n",
       "</tbody>\n",
       "</table>"
      ]
     },
     "metadata": {},
     "output_type": "display_data"
    },
    {
     "data": {
      "text/html": [
       "<h3>Strategy-RANDOM |  | Experiment 2</h3>\n"
      ]
     },
     "metadata": {},
     "output_type": "display_data"
    },
    {
     "data": {
      "text/html": [
       "<table>\n",
       "<thead>\n",
       "<tr><th style=\"text-align: right;\">     Cumulative \n",
       "Return (%)</th><th style=\"text-align: right;\">     Maximum Earning \n",
       "Rate (%)</th><th style=\"text-align: right;\">        Maximum \n",
       "Pullback (%)</th><th style=\"text-align: right;\">        Average Profitability \n",
       "per Trade</th><th style=\"text-align: right;\">  Sharpe Ratio</th><th style=\"text-align: right;\">  Total Timesteps</th></tr>\n",
       "</thead>\n",
       "<tbody>\n",
       "<tr><td style=\"text-align: right;\">3.31</td><td style=\"text-align: right;\">9.74</td><td style=\"text-align: right;\">54.3873</td><td style=\"text-align: right;\">90.3923</td><td style=\"text-align: right;\">        0.0068</td><td style=\"text-align: right;\">             1101</td></tr>\n",
       "</tbody>\n",
       "</table>"
      ]
     },
     "metadata": {},
     "output_type": "display_data"
    },
    {
     "data": {
      "text/html": [
       "<h3>Reward Function-CVaR_0.5 | Strategy-PPOLSTM | Experiment 2</h3>\n"
      ]
     },
     "metadata": {},
     "output_type": "display_data"
    },
    {
     "data": {
      "text/html": [
       "<table>\n",
       "<thead>\n",
       "<tr><th style=\"text-align: right;\">      Cumulative \n",
       "Return (%)</th><th style=\"text-align: right;\">      Maximum Earning \n",
       "Rate (%)</th><th style=\"text-align: right;\">        Maximum \n",
       "Pullback (%)</th><th style=\"text-align: right;\">        Average Profitability \n",
       "per Trade</th><th style=\"text-align: right;\">  Sharpe Ratio</th><th style=\"text-align: right;\">  Total Timesteps</th></tr>\n",
       "</thead>\n",
       "<tbody>\n",
       "<tr><td style=\"text-align: right;\">52.27</td><td style=\"text-align: right;\">52.32</td><td style=\"text-align: right;\">38.5961</td><td style=\"text-align: right;\">1428.03</td><td style=\"text-align: right;\">        0.0809</td><td style=\"text-align: right;\">             1101</td></tr>\n",
       "</tbody>\n",
       "</table>"
      ]
     },
     "metadata": {},
     "output_type": "display_data"
    },
    {
     "data": {
      "text/html": [
       "<h3>Strategy-RANDOM |  | Experiment 2</h3>\n"
      ]
     },
     "metadata": {},
     "output_type": "display_data"
    },
    {
     "data": {
      "text/html": [
       "<table>\n",
       "<thead>\n",
       "<tr><th style=\"text-align: right;\">       Cumulative \n",
       "Return (%)</th><th style=\"text-align: right;\">     Maximum Earning \n",
       "Rate (%)</th><th style=\"text-align: right;\">        Maximum \n",
       "Pullback (%)</th><th style=\"text-align: right;\">         Average Profitability \n",
       "per Trade</th><th style=\"text-align: right;\">  Sharpe Ratio</th><th style=\"text-align: right;\">  Total Timesteps</th></tr>\n",
       "</thead>\n",
       "<tbody>\n",
       "<tr><td style=\"text-align: right;\">-10.21</td><td style=\"text-align: right;\">5.65</td><td style=\"text-align: right;\">48.1694</td><td style=\"text-align: right;\">-278.887</td><td style=\"text-align: right;\">       -0.0235</td><td style=\"text-align: right;\">             1101</td></tr>\n",
       "</tbody>\n",
       "</table>"
      ]
     },
     "metadata": {},
     "output_type": "display_data"
    },
    {
     "data": {
      "text/html": [
       "<h3>Reward Function-CVaR_0.5 | Strategy-PPOLSTM | Experiment 2</h3>\n"
      ]
     },
     "metadata": {},
     "output_type": "display_data"
    },
    {
     "data": {
      "text/html": [
       "<table>\n",
       "<thead>\n",
       "<tr><th style=\"text-align: right;\">      Cumulative \n",
       "Return (%)</th><th style=\"text-align: right;\">      Maximum Earning \n",
       "Rate (%)</th><th style=\"text-align: right;\">        Maximum \n",
       "Pullback (%)</th><th style=\"text-align: right;\">        Average Profitability \n",
       "per Trade</th><th style=\"text-align: right;\">  Sharpe Ratio</th><th style=\"text-align: right;\">  Total Timesteps</th></tr>\n",
       "</thead>\n",
       "<tbody>\n",
       "<tr><td style=\"text-align: right;\">13.43</td><td style=\"text-align: right;\">19.17</td><td style=\"text-align: right;\">37.8097</td><td style=\"text-align: right;\">366.875</td><td style=\"text-align: right;\">        0.0269</td><td style=\"text-align: right;\">             1101</td></tr>\n",
       "</tbody>\n",
       "</table>"
      ]
     },
     "metadata": {},
     "output_type": "display_data"
    },
    {
     "data": {
      "text/html": [
       "<h3>Strategy-RANDOM |  | Experiment 2</h3>\n"
      ]
     },
     "metadata": {},
     "output_type": "display_data"
    },
    {
     "data": {
      "text/html": [
       "<table>\n",
       "<thead>\n",
       "<tr><th style=\"text-align: right;\">      Cumulative \n",
       "Return (%)</th><th style=\"text-align: right;\">      Maximum Earning \n",
       "Rate (%)</th><th style=\"text-align: right;\">        Maximum \n",
       "Pullback (%)</th><th style=\"text-align: right;\">         Average Profitability \n",
       "per Trade</th><th style=\"text-align: right;\">  Sharpe Ratio</th><th style=\"text-align: right;\">  Total Timesteps</th></tr>\n",
       "</thead>\n",
       "<tbody>\n",
       "<tr><td style=\"text-align: right;\">-2.71</td><td style=\"text-align: right;\">10.88</td><td style=\"text-align: right;\">51.6054</td><td style=\"text-align: right;\">-74.1167</td><td style=\"text-align: right;\">        -0.006</td><td style=\"text-align: right;\">             1101</td></tr>\n",
       "</tbody>\n",
       "</table>"
      ]
     },
     "metadata": {},
     "output_type": "display_data"
    },
    {
     "data": {
      "text/html": [
       "<h3>Reward Function-CVaR_0.5 | Strategy-PPOLSTM | Experiment 2</h3>\n"
      ]
     },
     "metadata": {},
     "output_type": "display_data"
    },
    {
     "data": {
      "text/html": [
       "<table>\n",
       "<thead>\n",
       "<tr><th style=\"text-align: right;\">     Cumulative \n",
       "Return (%)</th><th style=\"text-align: right;\">      Maximum Earning \n",
       "Rate (%)</th><th style=\"text-align: right;\">        Maximum \n",
       "Pullback (%)</th><th style=\"text-align: right;\">        Average Profitability \n",
       "per Trade</th><th style=\"text-align: right;\">  Sharpe Ratio</th><th style=\"text-align: right;\">  Total Timesteps</th></tr>\n",
       "</thead>\n",
       "<tbody>\n",
       "<tr><td style=\"text-align: right;\">7.78</td><td style=\"text-align: right;\">24.67</td><td style=\"text-align: right;\">47.7287</td><td style=\"text-align: right;\">212.661</td><td style=\"text-align: right;\">        0.0134</td><td style=\"text-align: right;\">             1101</td></tr>\n",
       "</tbody>\n",
       "</table>"
      ]
     },
     "metadata": {},
     "output_type": "display_data"
    },
    {
     "data": {
      "text/html": [
       "<h3>Strategy-RANDOM |  | Experiment 2</h3>\n"
      ]
     },
     "metadata": {},
     "output_type": "display_data"
    },
    {
     "data": {
      "text/html": [
       "<table>\n",
       "<thead>\n",
       "<tr><th style=\"text-align: right;\">      Cumulative \n",
       "Return (%)</th><th style=\"text-align: right;\">     Maximum Earning \n",
       "Rate (%)</th><th style=\"text-align: right;\">        Maximum \n",
       "Pullback (%)</th><th style=\"text-align: right;\">         Average Profitability \n",
       "per Trade</th><th style=\"text-align: right;\">  Sharpe Ratio</th><th style=\"text-align: right;\">  Total Timesteps</th></tr>\n",
       "</thead>\n",
       "<tbody>\n",
       "<tr><td style=\"text-align: right;\">-7.22</td><td style=\"text-align: right;\">8.17</td><td style=\"text-align: right;\">48.7809</td><td style=\"text-align: right;\">-197.276</td><td style=\"text-align: right;\">       -0.0163</td><td style=\"text-align: right;\">             1101</td></tr>\n",
       "</tbody>\n",
       "</table>"
      ]
     },
     "metadata": {},
     "output_type": "display_data"
    },
    {
     "data": {
      "text/html": [
       "<h3>Reward Function-CVaR_0.5 | Strategy-PPOLSTM | Experiment 2</h3>\n"
      ]
     },
     "metadata": {},
     "output_type": "display_data"
    },
    {
     "data": {
      "text/html": [
       "<table>\n",
       "<thead>\n",
       "<tr><th style=\"text-align: right;\">      Cumulative \n",
       "Return (%)</th><th style=\"text-align: right;\">     Maximum Earning \n",
       "Rate (%)</th><th style=\"text-align: right;\">        Maximum \n",
       "Pullback (%)</th><th style=\"text-align: right;\">         Average Profitability \n",
       "per Trade</th><th style=\"text-align: right;\">  Sharpe Ratio</th><th style=\"text-align: right;\">  Total Timesteps</th></tr>\n",
       "</thead>\n",
       "<tbody>\n",
       "<tr><td style=\"text-align: right;\">-1.23</td><td style=\"text-align: right;\">9.19</td><td style=\"text-align: right;\">51.4475</td><td style=\"text-align: right;\">-33.6134</td><td style=\"text-align: right;\">       -0.0025</td><td style=\"text-align: right;\">             1101</td></tr>\n",
       "</tbody>\n",
       "</table>"
      ]
     },
     "metadata": {},
     "output_type": "display_data"
    },
    {
     "data": {
      "text/html": [
       "<h3>Strategy-RANDOM |  | Experiment 2</h3>\n"
      ]
     },
     "metadata": {},
     "output_type": "display_data"
    },
    {
     "data": {
      "text/html": [
       "<table>\n",
       "<thead>\n",
       "<tr><th style=\"text-align: right;\">     Cumulative \n",
       "Return (%)</th><th style=\"text-align: right;\">      Maximum Earning \n",
       "Rate (%)</th><th style=\"text-align: right;\">        Maximum \n",
       "Pullback (%)</th><th style=\"text-align: right;\">        Average Profitability \n",
       "per Trade</th><th style=\"text-align: right;\">  Sharpe Ratio</th><th style=\"text-align: right;\">  Total Timesteps</th></tr>\n",
       "</thead>\n",
       "<tbody>\n",
       "<tr><td style=\"text-align: right;\">5.63</td><td style=\"text-align: right;\">11.96</td><td style=\"text-align: right;\">52.5781</td><td style=\"text-align: right;\">153.901</td><td style=\"text-align: right;\">        0.0133</td><td style=\"text-align: right;\">             1101</td></tr>\n",
       "</tbody>\n",
       "</table>"
      ]
     },
     "metadata": {},
     "output_type": "display_data"
    },
    {
     "data": {
      "text/html": [
       "<h3>Reward Function-CVaR_0.5 | Strategy-PPOLSTM | Experiment 2</h3>\n"
      ]
     },
     "metadata": {},
     "output_type": "display_data"
    },
    {
     "data": {
      "text/html": [
       "<table>\n",
       "<thead>\n",
       "<tr><th style=\"text-align: right;\">      Cumulative \n",
       "Return (%)</th><th style=\"text-align: right;\">      Maximum Earning \n",
       "Rate (%)</th><th style=\"text-align: right;\">        Maximum \n",
       "Pullback (%)</th><th style=\"text-align: right;\">        Average Profitability \n",
       "per Trade</th><th style=\"text-align: right;\">  Sharpe Ratio</th><th style=\"text-align: right;\">  Total Timesteps</th></tr>\n",
       "</thead>\n",
       "<tbody>\n",
       "<tr><td style=\"text-align: right;\">16.56</td><td style=\"text-align: right;\">26.43</td><td style=\"text-align: right;\">30.5424</td><td style=\"text-align: right;\">452.576</td><td style=\"text-align: right;\">        0.0315</td><td style=\"text-align: right;\">             1101</td></tr>\n",
       "</tbody>\n",
       "</table>"
      ]
     },
     "metadata": {},
     "output_type": "display_data"
    },
    {
     "data": {
      "text/html": [
       "<h3>Strategy-RANDOM |  | Experiment 2</h3>\n"
      ]
     },
     "metadata": {},
     "output_type": "display_data"
    },
    {
     "data": {
      "text/html": [
       "<table>\n",
       "<thead>\n",
       "<tr><th style=\"text-align: right;\">     Cumulative \n",
       "Return (%)</th><th style=\"text-align: right;\">      Maximum Earning \n",
       "Rate (%)</th><th style=\"text-align: right;\">        Maximum \n",
       "Pullback (%)</th><th style=\"text-align: right;\">        Average Profitability \n",
       "per Trade</th><th style=\"text-align: right;\">  Sharpe Ratio</th><th style=\"text-align: right;\">  Total Timesteps</th></tr>\n",
       "</thead>\n",
       "<tbody>\n",
       "<tr><td style=\"text-align: right;\">5.49</td><td style=\"text-align: right;\">10.07</td><td style=\"text-align: right;\">53.3629</td><td style=\"text-align: right;\">149.937</td><td style=\"text-align: right;\">        0.0113</td><td style=\"text-align: right;\">             1101</td></tr>\n",
       "</tbody>\n",
       "</table>"
      ]
     },
     "metadata": {},
     "output_type": "display_data"
    },
    {
     "data": {
      "text/html": [
       "<h3>Reward Function-CVaR_0.5 | Strategy-PPOLSTM | Experiment 2</h3>\n"
      ]
     },
     "metadata": {},
     "output_type": "display_data"
    },
    {
     "data": {
      "text/html": [
       "<table>\n",
       "<thead>\n",
       "<tr><th style=\"text-align: right;\">      Cumulative \n",
       "Return (%)</th><th style=\"text-align: right;\">      Maximum Earning \n",
       "Rate (%)</th><th style=\"text-align: right;\">        Maximum \n",
       "Pullback (%)</th><th style=\"text-align: right;\">        Average Profitability \n",
       "per Trade</th><th style=\"text-align: right;\">  Sharpe Ratio</th><th style=\"text-align: right;\">  Total Timesteps</th></tr>\n",
       "</thead>\n",
       "<tbody>\n",
       "<tr><td style=\"text-align: right;\">36.96</td><td style=\"text-align: right;\">41.09</td><td style=\"text-align: right;\">45.3971</td><td style=\"text-align: right;\">1009.96</td><td style=\"text-align: right;\">        0.0636</td><td style=\"text-align: right;\">             1101</td></tr>\n",
       "</tbody>\n",
       "</table>"
      ]
     },
     "metadata": {},
     "output_type": "display_data"
    },
    {
     "data": {
      "text/html": [
       "<h3>Strategy-RANDOM |  | Experiment 2</h3>\n"
      ]
     },
     "metadata": {},
     "output_type": "display_data"
    },
    {
     "data": {
      "text/html": [
       "<table>\n",
       "<thead>\n",
       "<tr><th style=\"text-align: right;\">      Cumulative \n",
       "Return (%)</th><th style=\"text-align: right;\">      Maximum Earning \n",
       "Rate (%)</th><th style=\"text-align: right;\">        Maximum \n",
       "Pullback (%)</th><th style=\"text-align: right;\">        Average Profitability \n",
       "per Trade</th><th style=\"text-align: right;\">  Sharpe Ratio</th><th style=\"text-align: right;\">  Total Timesteps</th></tr>\n",
       "</thead>\n",
       "<tbody>\n",
       "<tr><td style=\"text-align: right;\">25.96</td><td style=\"text-align: right;\">26.46</td><td style=\"text-align: right;\">38.8356</td><td style=\"text-align: right;\">709.243</td><td style=\"text-align: right;\">        0.0517</td><td style=\"text-align: right;\">             1101</td></tr>\n",
       "</tbody>\n",
       "</table>"
      ]
     },
     "metadata": {},
     "output_type": "display_data"
    },
    {
     "data": {
      "text/html": [
       "<h3>Reward Function-CVaR_0.5 | Strategy-PPOLSTM | Experiment 2</h3>\n"
      ]
     },
     "metadata": {},
     "output_type": "display_data"
    },
    {
     "data": {
      "text/html": [
       "<table>\n",
       "<thead>\n",
       "<tr><th style=\"text-align: right;\">     Cumulative \n",
       "Return (%)</th><th style=\"text-align: right;\">     Maximum Earning \n",
       "Rate (%)</th><th style=\"text-align: right;\">        Maximum \n",
       "Pullback (%)</th><th style=\"text-align: right;\">        Average Profitability \n",
       "per Trade</th><th style=\"text-align: right;\">  Sharpe Ratio</th><th style=\"text-align: right;\">  Total Timesteps</th></tr>\n",
       "</thead>\n",
       "<tbody>\n",
       "<tr><td style=\"text-align: right;\">2.63</td><td style=\"text-align: right;\">6.22</td><td style=\"text-align: right;\">38.9033</td><td style=\"text-align: right;\">71.9635</td><td style=\"text-align: right;\">        0.0058</td><td style=\"text-align: right;\">             1101</td></tr>\n",
       "</tbody>\n",
       "</table>"
      ]
     },
     "metadata": {},
     "output_type": "display_data"
    },
    {
     "data": {
      "text/html": [
       "<h3>Strategy-RANDOM |  | Experiment 2</h3>\n"
      ]
     },
     "metadata": {},
     "output_type": "display_data"
    },
    {
     "data": {
      "text/html": [
       "<table>\n",
       "<thead>\n",
       "<tr><th style=\"text-align: right;\">     Cumulative \n",
       "Return (%)</th><th style=\"text-align: right;\">      Maximum Earning \n",
       "Rate (%)</th><th style=\"text-align: right;\">        Maximum \n",
       "Pullback (%)</th><th style=\"text-align: right;\">        Average Profitability \n",
       "per Trade</th><th style=\"text-align: right;\">  Sharpe Ratio</th><th style=\"text-align: right;\">  Total Timesteps</th></tr>\n",
       "</thead>\n",
       "<tbody>\n",
       "<tr><td style=\"text-align: right;\">2.44</td><td style=\"text-align: right;\">14.23</td><td style=\"text-align: right;\">46.1956</td><td style=\"text-align: right;\">66.7473</td><td style=\"text-align: right;\">        0.0053</td><td style=\"text-align: right;\">             1101</td></tr>\n",
       "</tbody>\n",
       "</table>"
      ]
     },
     "metadata": {},
     "output_type": "display_data"
    },
    {
     "data": {
      "text/html": [
       "<h3>Reward Function-CVaR_0.5 | Strategy-PPOLSTM | Experiment 2</h3>\n"
      ]
     },
     "metadata": {},
     "output_type": "display_data"
    },
    {
     "data": {
      "text/html": [
       "<table>\n",
       "<thead>\n",
       "<tr><th style=\"text-align: right;\">      Cumulative \n",
       "Return (%)</th><th style=\"text-align: right;\">      Maximum Earning \n",
       "Rate (%)</th><th style=\"text-align: right;\">        Maximum \n",
       "Pullback (%)</th><th style=\"text-align: right;\">        Average Profitability \n",
       "per Trade</th><th style=\"text-align: right;\">  Sharpe Ratio</th><th style=\"text-align: right;\">  Total Timesteps</th></tr>\n",
       "</thead>\n",
       "<tbody>\n",
       "<tr><td style=\"text-align: right;\">13.86</td><td style=\"text-align: right;\">32.63</td><td style=\"text-align: right;\">45.2711</td><td style=\"text-align: right;\">378.669</td><td style=\"text-align: right;\">        0.0281</td><td style=\"text-align: right;\">             1101</td></tr>\n",
       "</tbody>\n",
       "</table>"
      ]
     },
     "metadata": {},
     "output_type": "display_data"
    },
    {
     "data": {
      "text/html": [
       "<h3>Strategy-RANDOM |  | Experiment 2</h3>\n"
      ]
     },
     "metadata": {},
     "output_type": "display_data"
    },
    {
     "data": {
      "text/html": [
       "<table>\n",
       "<thead>\n",
       "<tr><th style=\"text-align: right;\">      Cumulative \n",
       "Return (%)</th><th style=\"text-align: right;\">      Maximum Earning \n",
       "Rate (%)</th><th style=\"text-align: right;\">        Maximum \n",
       "Pullback (%)</th><th style=\"text-align: right;\">        Average Profitability \n",
       "per Trade</th><th style=\"text-align: right;\">  Sharpe Ratio</th><th style=\"text-align: right;\">  Total Timesteps</th></tr>\n",
       "</thead>\n",
       "<tbody>\n",
       "<tr><td style=\"text-align: right;\">24.86</td><td style=\"text-align: right;\">27.64</td><td style=\"text-align: right;\">43.2425</td><td style=\"text-align: right;\">679.224</td><td style=\"text-align: right;\">         0.049</td><td style=\"text-align: right;\">             1101</td></tr>\n",
       "</tbody>\n",
       "</table>"
      ]
     },
     "metadata": {},
     "output_type": "display_data"
    },
    {
     "data": {
      "text/html": [
       "<h3>Reward Function-CVaR_0.5 | Strategy-PPOLSTM | Experiment 2</h3>\n"
      ]
     },
     "metadata": {},
     "output_type": "display_data"
    },
    {
     "data": {
      "text/html": [
       "<table>\n",
       "<thead>\n",
       "<tr><th style=\"text-align: right;\">      Cumulative \n",
       "Return (%)</th><th style=\"text-align: right;\">      Maximum Earning \n",
       "Rate (%)</th><th style=\"text-align: right;\">        Maximum \n",
       "Pullback (%)</th><th style=\"text-align: right;\">        Average Profitability \n",
       "per Trade</th><th style=\"text-align: right;\">  Sharpe Ratio</th><th style=\"text-align: right;\">  Total Timesteps</th></tr>\n",
       "</thead>\n",
       "<tbody>\n",
       "<tr><td style=\"text-align: right;\">14.13</td><td style=\"text-align: right;\">27.26</td><td style=\"text-align: right;\">33.9966</td><td style=\"text-align: right;\">386.106</td><td style=\"text-align: right;\">        0.0269</td><td style=\"text-align: right;\">             1101</td></tr>\n",
       "</tbody>\n",
       "</table>"
      ]
     },
     "metadata": {},
     "output_type": "display_data"
    },
    {
     "data": {
      "text/html": [
       "<h3>Strategy-RANDOM |  | Experiment 2</h3>\n"
      ]
     },
     "metadata": {},
     "output_type": "display_data"
    },
    {
     "data": {
      "text/html": [
       "<table>\n",
       "<thead>\n",
       "<tr><th style=\"text-align: right;\">     Cumulative \n",
       "Return (%)</th><th style=\"text-align: right;\">      Maximum Earning \n",
       "Rate (%)</th><th style=\"text-align: right;\">        Maximum \n",
       "Pullback (%)</th><th style=\"text-align: right;\">        Average Profitability \n",
       "per Trade</th><th style=\"text-align: right;\">  Sharpe Ratio</th><th style=\"text-align: right;\">  Total Timesteps</th></tr>\n",
       "</thead>\n",
       "<tbody>\n",
       "<tr><td style=\"text-align: right;\">10.7</td><td style=\"text-align: right;\">19.09</td><td style=\"text-align: right;\">48.4428</td><td style=\"text-align: right;\">292.419</td><td style=\"text-align: right;\">        0.0219</td><td style=\"text-align: right;\">             1101</td></tr>\n",
       "</tbody>\n",
       "</table>"
      ]
     },
     "metadata": {},
     "output_type": "display_data"
    },
    {
     "data": {
      "text/html": [
       "<h3>Reward Function-CVaR_0.5 | Strategy-PPOLSTM | Experiment 2</h3>\n"
      ]
     },
     "metadata": {},
     "output_type": "display_data"
    },
    {
     "data": {
      "text/html": [
       "<table>\n",
       "<thead>\n",
       "<tr><th style=\"text-align: right;\">      Cumulative \n",
       "Return (%)</th><th style=\"text-align: right;\">      Maximum Earning \n",
       "Rate (%)</th><th style=\"text-align: right;\">        Maximum \n",
       "Pullback (%)</th><th style=\"text-align: right;\">        Average Profitability \n",
       "per Trade</th><th style=\"text-align: right;\">  Sharpe Ratio</th><th style=\"text-align: right;\">  Total Timesteps</th></tr>\n",
       "</thead>\n",
       "<tbody>\n",
       "<tr><td style=\"text-align: right;\">28.07</td><td style=\"text-align: right;\">34.53</td><td style=\"text-align: right;\">48.6511</td><td style=\"text-align: right;\">766.807</td><td style=\"text-align: right;\">        0.0432</td><td style=\"text-align: right;\">             1101</td></tr>\n",
       "</tbody>\n",
       "</table>"
      ]
     },
     "metadata": {},
     "output_type": "display_data"
    },
    {
     "data": {
      "text/html": [
       "<h3>Strategy-RANDOM |  | Experiment 2</h3>\n"
      ]
     },
     "metadata": {},
     "output_type": "display_data"
    },
    {
     "data": {
      "text/html": [
       "<table>\n",
       "<thead>\n",
       "<tr><th style=\"text-align: right;\">       Cumulative \n",
       "Return (%)</th><th style=\"text-align: right;\">     Maximum Earning \n",
       "Rate (%)</th><th style=\"text-align: right;\">        Maximum \n",
       "Pullback (%)</th><th style=\"text-align: right;\">         Average Profitability \n",
       "per Trade</th><th style=\"text-align: right;\">  Sharpe Ratio</th><th style=\"text-align: right;\">  Total Timesteps</th></tr>\n",
       "</thead>\n",
       "<tbody>\n",
       "<tr><td style=\"text-align: right;\">-11.08</td><td style=\"text-align: right;\">4.94</td><td style=\"text-align: right;\">48.0327</td><td style=\"text-align: right;\">-302.763</td><td style=\"text-align: right;\">       -0.0248</td><td style=\"text-align: right;\">             1101</td></tr>\n",
       "</tbody>\n",
       "</table>"
      ]
     },
     "metadata": {},
     "output_type": "display_data"
    },
    {
     "data": {
      "text/html": [
       "<h3>Reward Function-CVaR_0.5 | Strategy-PPOLSTM | Experiment 2</h3>\n"
      ]
     },
     "metadata": {},
     "output_type": "display_data"
    },
    {
     "data": {
      "text/html": [
       "<table>\n",
       "<thead>\n",
       "<tr><th style=\"text-align: right;\">       Cumulative \n",
       "Return (%)</th><th style=\"text-align: right;\">     Maximum Earning \n",
       "Rate (%)</th><th style=\"text-align: right;\">        Maximum \n",
       "Pullback (%)</th><th style=\"text-align: right;\">         Average Profitability \n",
       "per Trade</th><th style=\"text-align: right;\">  Sharpe Ratio</th><th style=\"text-align: right;\">  Total Timesteps</th></tr>\n",
       "</thead>\n",
       "<tbody>\n",
       "<tr><td style=\"text-align: right;\">-14.72</td><td style=\"text-align: right;\">0.76</td><td style=\"text-align: right;\">54.4791</td><td style=\"text-align: right;\">-402.287</td><td style=\"text-align: right;\">       -0.0352</td><td style=\"text-align: right;\">             1101</td></tr>\n",
       "</tbody>\n",
       "</table>"
      ]
     },
     "metadata": {},
     "output_type": "display_data"
    },
    {
     "data": {
      "text/html": [
       "<h3>Strategy-RANDOM |  | Experiment 2</h3>\n"
      ]
     },
     "metadata": {},
     "output_type": "display_data"
    },
    {
     "data": {
      "text/html": [
       "<table>\n",
       "<thead>\n",
       "<tr><th style=\"text-align: right;\">     Cumulative \n",
       "Return (%)</th><th style=\"text-align: right;\">      Maximum Earning \n",
       "Rate (%)</th><th style=\"text-align: right;\">        Maximum \n",
       "Pullback (%)</th><th style=\"text-align: right;\">        Average Profitability \n",
       "per Trade</th><th style=\"text-align: right;\">  Sharpe Ratio</th><th style=\"text-align: right;\">  Total Timesteps</th></tr>\n",
       "</thead>\n",
       "<tbody>\n",
       "<tr><td style=\"text-align: right;\">2.68</td><td style=\"text-align: right;\">14.13</td><td style=\"text-align: right;\">49.7266</td><td style=\"text-align: right;\">73.3566</td><td style=\"text-align: right;\">        0.0061</td><td style=\"text-align: right;\">             1101</td></tr>\n",
       "</tbody>\n",
       "</table>"
      ]
     },
     "metadata": {},
     "output_type": "display_data"
    },
    {
     "data": {
      "text/html": [
       "<h3>Reward Function-CVaR_0.5 | Strategy-PPOLSTM | Experiment 2</h3>\n"
      ]
     },
     "metadata": {},
     "output_type": "display_data"
    },
    {
     "data": {
      "text/html": [
       "<table>\n",
       "<thead>\n",
       "<tr><th style=\"text-align: right;\">      Cumulative \n",
       "Return (%)</th><th style=\"text-align: right;\">      Maximum Earning \n",
       "Rate (%)</th><th style=\"text-align: right;\">        Maximum \n",
       "Pullback (%)</th><th style=\"text-align: right;\">       Average Profitability \n",
       "per Trade</th><th style=\"text-align: right;\">  Sharpe Ratio</th><th style=\"text-align: right;\">  Total Timesteps</th></tr>\n",
       "</thead>\n",
       "<tbody>\n",
       "<tr><td style=\"text-align: right;\">15.81</td><td style=\"text-align: right;\">19.03</td><td style=\"text-align: right;\">34.7258</td><td style=\"text-align: right;\">432.09</td><td style=\"text-align: right;\">        0.0331</td><td style=\"text-align: right;\">             1101</td></tr>\n",
       "</tbody>\n",
       "</table>"
      ]
     },
     "metadata": {},
     "output_type": "display_data"
    },
    {
     "data": {
      "text/html": [
       "<h3>Strategy-RANDOM |  | Experiment 2</h3>\n"
      ]
     },
     "metadata": {},
     "output_type": "display_data"
    },
    {
     "data": {
      "text/html": [
       "<table>\n",
       "<thead>\n",
       "<tr><th style=\"text-align: right;\">      Cumulative \n",
       "Return (%)</th><th style=\"text-align: right;\">      Maximum Earning \n",
       "Rate (%)</th><th style=\"text-align: right;\">        Maximum \n",
       "Pullback (%)</th><th style=\"text-align: right;\">        Average Profitability \n",
       "per Trade</th><th style=\"text-align: right;\">  Sharpe Ratio</th><th style=\"text-align: right;\">  Total Timesteps</th></tr>\n",
       "</thead>\n",
       "<tbody>\n",
       "<tr><td style=\"text-align: right;\">20.42</td><td style=\"text-align: right;\">21.02</td><td style=\"text-align: right;\">48.2077</td><td style=\"text-align: right;\">557.936</td><td style=\"text-align: right;\">        0.0412</td><td style=\"text-align: right;\">             1101</td></tr>\n",
       "</tbody>\n",
       "</table>"
      ]
     },
     "metadata": {},
     "output_type": "display_data"
    },
    {
     "data": {
      "text/html": [
       "<h3>Reward Function-CVaR_0.5 | Strategy-PPOLSTM | Experiment 2</h3>\n"
      ]
     },
     "metadata": {},
     "output_type": "display_data"
    },
    {
     "data": {
      "text/html": [
       "<table>\n",
       "<thead>\n",
       "<tr><th style=\"text-align: right;\">      Cumulative \n",
       "Return (%)</th><th style=\"text-align: right;\">      Maximum Earning \n",
       "Rate (%)</th><th style=\"text-align: right;\">        Maximum \n",
       "Pullback (%)</th><th style=\"text-align: right;\">        Average Profitability \n",
       "per Trade</th><th style=\"text-align: right;\">  Sharpe Ratio</th><th style=\"text-align: right;\">  Total Timesteps</th></tr>\n",
       "</thead>\n",
       "<tbody>\n",
       "<tr><td style=\"text-align: right;\">13.29</td><td style=\"text-align: right;\">29.37</td><td style=\"text-align: right;\">53.4072</td><td style=\"text-align: right;\">363.222</td><td style=\"text-align: right;\">        0.0258</td><td style=\"text-align: right;\">             1101</td></tr>\n",
       "</tbody>\n",
       "</table>"
      ]
     },
     "metadata": {},
     "output_type": "display_data"
    },
    {
     "data": {
      "text/html": [
       "<h3>Strategy-RANDOM |  | Experiment 2</h3>\n"
      ]
     },
     "metadata": {},
     "output_type": "display_data"
    },
    {
     "data": {
      "text/html": [
       "<table>\n",
       "<thead>\n",
       "<tr><th style=\"text-align: right;\">      Cumulative \n",
       "Return (%)</th><th style=\"text-align: right;\">     Maximum Earning \n",
       "Rate (%)</th><th style=\"text-align: right;\">        Maximum \n",
       "Pullback (%)</th><th style=\"text-align: right;\">        Average Profitability \n",
       "per Trade</th><th style=\"text-align: right;\">  Sharpe Ratio</th><th style=\"text-align: right;\">  Total Timesteps</th></tr>\n",
       "</thead>\n",
       "<tbody>\n",
       "<tr><td style=\"text-align: right;\">15.58</td><td style=\"text-align: right;\">18.3</td><td style=\"text-align: right;\">41.3333</td><td style=\"text-align: right;\">425.674</td><td style=\"text-align: right;\">        0.0324</td><td style=\"text-align: right;\">             1101</td></tr>\n",
       "</tbody>\n",
       "</table>"
      ]
     },
     "metadata": {},
     "output_type": "display_data"
    },
    {
     "data": {
      "text/html": [
       "<h3>Reward Function-CVaR_0.5 | Strategy-PPOLSTM | Experiment 2</h3>\n"
      ]
     },
     "metadata": {},
     "output_type": "display_data"
    },
    {
     "data": {
      "text/html": [
       "<table>\n",
       "<thead>\n",
       "<tr><th style=\"text-align: right;\">      Cumulative \n",
       "Return (%)</th><th style=\"text-align: right;\">      Maximum Earning \n",
       "Rate (%)</th><th style=\"text-align: right;\">        Maximum \n",
       "Pullback (%)</th><th style=\"text-align: right;\">        Average Profitability \n",
       "per Trade</th><th style=\"text-align: right;\">  Sharpe Ratio</th><th style=\"text-align: right;\">  Total Timesteps</th></tr>\n",
       "</thead>\n",
       "<tbody>\n",
       "<tr><td style=\"text-align: right;\">12.83</td><td style=\"text-align: right;\">20.34</td><td style=\"text-align: right;\">41.3836</td><td style=\"text-align: right;\">350.629</td><td style=\"text-align: right;\">         0.028</td><td style=\"text-align: right;\">             1101</td></tr>\n",
       "</tbody>\n",
       "</table>"
      ]
     },
     "metadata": {},
     "output_type": "display_data"
    },
    {
     "data": {
      "text/html": [
       "<h3>Strategy-RANDOM |  | Experiment 2</h3>\n"
      ]
     },
     "metadata": {},
     "output_type": "display_data"
    },
    {
     "data": {
      "text/html": [
       "<table>\n",
       "<thead>\n",
       "<tr><th style=\"text-align: right;\">      Cumulative \n",
       "Return (%)</th><th style=\"text-align: right;\">      Maximum Earning \n",
       "Rate (%)</th><th style=\"text-align: right;\">        Maximum \n",
       "Pullback (%)</th><th style=\"text-align: right;\">        Average Profitability \n",
       "per Trade</th><th style=\"text-align: right;\">  Sharpe Ratio</th><th style=\"text-align: right;\">  Total Timesteps</th></tr>\n",
       "</thead>\n",
       "<tbody>\n",
       "<tr><td style=\"text-align: right;\">16.35</td><td style=\"text-align: right;\">23.75</td><td style=\"text-align: right;\">46.8565</td><td style=\"text-align: right;\">446.776</td><td style=\"text-align: right;\">        0.0324</td><td style=\"text-align: right;\">             1101</td></tr>\n",
       "</tbody>\n",
       "</table>"
      ]
     },
     "metadata": {},
     "output_type": "display_data"
    },
    {
     "data": {
      "text/html": [
       "<h3>Reward Function-CVaR_1.5 | Strategy-PPOLSTM | Experiment 2</h3>\n"
      ]
     },
     "metadata": {},
     "output_type": "display_data"
    },
    {
     "data": {
      "text/html": [
       "<table>\n",
       "<thead>\n",
       "<tr><th style=\"text-align: right;\">     Cumulative \n",
       "Return (%)</th><th style=\"text-align: right;\">      Maximum Earning \n",
       "Rate (%)</th><th style=\"text-align: right;\">        Maximum \n",
       "Pullback (%)</th><th style=\"text-align: right;\">        Average Profitability \n",
       "per Trade</th><th style=\"text-align: right;\">  Sharpe Ratio</th><th style=\"text-align: right;\">  Total Timesteps</th></tr>\n",
       "</thead>\n",
       "<tbody>\n",
       "<tr><td style=\"text-align: right;\">8.18</td><td style=\"text-align: right;\">23.25</td><td style=\"text-align: right;\">40.8512</td><td style=\"text-align: right;\">223.589</td><td style=\"text-align: right;\">        0.0163</td><td style=\"text-align: right;\">             1101</td></tr>\n",
       "</tbody>\n",
       "</table>"
      ]
     },
     "metadata": {},
     "output_type": "display_data"
    },
    {
     "data": {
      "text/html": [
       "<h3>Strategy-RANDOM |  | Experiment 2</h3>\n"
      ]
     },
     "metadata": {},
     "output_type": "display_data"
    },
    {
     "data": {
      "text/html": [
       "<table>\n",
       "<thead>\n",
       "<tr><th style=\"text-align: right;\">      Cumulative \n",
       "Return (%)</th><th style=\"text-align: right;\">      Maximum Earning \n",
       "Rate (%)</th><th style=\"text-align: right;\">        Maximum \n",
       "Pullback (%)</th><th style=\"text-align: right;\">        Average Profitability \n",
       "per Trade</th><th style=\"text-align: right;\">  Sharpe Ratio</th><th style=\"text-align: right;\">  Total Timesteps</th></tr>\n",
       "</thead>\n",
       "<tbody>\n",
       "<tr><td style=\"text-align: right;\">25.82</td><td style=\"text-align: right;\">28.26</td><td style=\"text-align: right;\">47.6465</td><td style=\"text-align: right;\">705.355</td><td style=\"text-align: right;\">        0.0517</td><td style=\"text-align: right;\">             1101</td></tr>\n",
       "</tbody>\n",
       "</table>"
      ]
     },
     "metadata": {},
     "output_type": "display_data"
    },
    {
     "data": {
      "text/html": [
       "<h3>Reward Function-CVaR_1.5 | Strategy-PPOLSTM | Experiment 2</h3>\n"
      ]
     },
     "metadata": {},
     "output_type": "display_data"
    },
    {
     "data": {
      "text/html": [
       "<table>\n",
       "<thead>\n",
       "<tr><th style=\"text-align: right;\">     Cumulative \n",
       "Return (%)</th><th style=\"text-align: right;\">      Maximum Earning \n",
       "Rate (%)</th><th style=\"text-align: right;\">        Maximum \n",
       "Pullback (%)</th><th style=\"text-align: right;\">        Average Profitability \n",
       "per Trade</th><th style=\"text-align: right;\">  Sharpe Ratio</th><th style=\"text-align: right;\">  Total Timesteps</th></tr>\n",
       "</thead>\n",
       "<tbody>\n",
       "<tr><td style=\"text-align: right;\">9.15</td><td style=\"text-align: right;\">21.33</td><td style=\"text-align: right;\">45.1898</td><td style=\"text-align: right;\">249.899</td><td style=\"text-align: right;\">        0.0183</td><td style=\"text-align: right;\">             1101</td></tr>\n",
       "</tbody>\n",
       "</table>"
      ]
     },
     "metadata": {},
     "output_type": "display_data"
    },
    {
     "data": {
      "text/html": [
       "<h3>Strategy-RANDOM |  | Experiment 2</h3>\n"
      ]
     },
     "metadata": {},
     "output_type": "display_data"
    },
    {
     "data": {
      "text/html": [
       "<table>\n",
       "<thead>\n",
       "<tr><th style=\"text-align: right;\">      Cumulative \n",
       "Return (%)</th><th style=\"text-align: right;\">     Maximum Earning \n",
       "Rate (%)</th><th style=\"text-align: right;\">        Maximum \n",
       "Pullback (%)</th><th style=\"text-align: right;\">         Average Profitability \n",
       "per Trade</th><th style=\"text-align: right;\">  Sharpe Ratio</th><th style=\"text-align: right;\">  Total Timesteps</th></tr>\n",
       "</thead>\n",
       "<tbody>\n",
       "<tr><td style=\"text-align: right;\">-4.48</td><td style=\"text-align: right;\">5.46</td><td style=\"text-align: right;\">43.6361</td><td style=\"text-align: right;\">-122.468</td><td style=\"text-align: right;\">       -0.0102</td><td style=\"text-align: right;\">             1101</td></tr>\n",
       "</tbody>\n",
       "</table>"
      ]
     },
     "metadata": {},
     "output_type": "display_data"
    },
    {
     "data": {
      "text/html": [
       "<h3>Reward Function-CVaR_1.5 | Strategy-PPOLSTM | Experiment 2</h3>\n"
      ]
     },
     "metadata": {},
     "output_type": "display_data"
    },
    {
     "data": {
      "text/html": [
       "<table>\n",
       "<thead>\n",
       "<tr><th style=\"text-align: right;\">      Cumulative \n",
       "Return (%)</th><th style=\"text-align: right;\">      Maximum Earning \n",
       "Rate (%)</th><th style=\"text-align: right;\">        Maximum \n",
       "Pullback (%)</th><th style=\"text-align: right;\">        Average Profitability \n",
       "per Trade</th><th style=\"text-align: right;\">  Sharpe Ratio</th><th style=\"text-align: right;\">  Total Timesteps</th></tr>\n",
       "</thead>\n",
       "<tbody>\n",
       "<tr><td style=\"text-align: right;\">10.44</td><td style=\"text-align: right;\">34.86</td><td style=\"text-align: right;\">37.4529</td><td style=\"text-align: right;\">285.157</td><td style=\"text-align: right;\">        0.0169</td><td style=\"text-align: right;\">             1101</td></tr>\n",
       "</tbody>\n",
       "</table>"
      ]
     },
     "metadata": {},
     "output_type": "display_data"
    },
    {
     "data": {
      "text/html": [
       "<h3>Strategy-RANDOM |  | Experiment 2</h3>\n"
      ]
     },
     "metadata": {},
     "output_type": "display_data"
    },
    {
     "data": {
      "text/html": [
       "<table>\n",
       "<thead>\n",
       "<tr><th style=\"text-align: right;\">      Cumulative \n",
       "Return (%)</th><th style=\"text-align: right;\">      Maximum Earning \n",
       "Rate (%)</th><th style=\"text-align: right;\">        Maximum \n",
       "Pullback (%)</th><th style=\"text-align: right;\">        Average Profitability \n",
       "per Trade</th><th style=\"text-align: right;\">  Sharpe Ratio</th><th style=\"text-align: right;\">  Total Timesteps</th></tr>\n",
       "</thead>\n",
       "<tbody>\n",
       "<tr><td style=\"text-align: right;\">24.52</td><td style=\"text-align: right;\">27.51</td><td style=\"text-align: right;\">44.3385</td><td style=\"text-align: right;\">670.023</td><td style=\"text-align: right;\">        0.0471</td><td style=\"text-align: right;\">             1101</td></tr>\n",
       "</tbody>\n",
       "</table>"
      ]
     },
     "metadata": {},
     "output_type": "display_data"
    },
    {
     "data": {
      "text/html": [
       "<h3>Reward Function-CVaR_1.5 | Strategy-PPOLSTM | Experiment 2</h3>\n"
      ]
     },
     "metadata": {},
     "output_type": "display_data"
    },
    {
     "data": {
      "text/html": [
       "<table>\n",
       "<thead>\n",
       "<tr><th style=\"text-align: right;\">       Cumulative \n",
       "Return (%)</th><th style=\"text-align: right;\">     Maximum Earning \n",
       "Rate (%)</th><th style=\"text-align: right;\">        Maximum \n",
       "Pullback (%)</th><th style=\"text-align: right;\">         Average Profitability \n",
       "per Trade</th><th style=\"text-align: right;\">  Sharpe Ratio</th><th style=\"text-align: right;\">  Total Timesteps</th></tr>\n",
       "</thead>\n",
       "<tbody>\n",
       "<tr><td style=\"text-align: right;\">-11.54</td><td style=\"text-align: right;\">14.6</td><td style=\"text-align: right;\">53.8443</td><td style=\"text-align: right;\">-315.398</td><td style=\"text-align: right;\">       -0.0246</td><td style=\"text-align: right;\">             1101</td></tr>\n",
       "</tbody>\n",
       "</table>"
      ]
     },
     "metadata": {},
     "output_type": "display_data"
    },
    {
     "data": {
      "text/html": [
       "<h3>Strategy-RANDOM |  | Experiment 2</h3>\n"
      ]
     },
     "metadata": {},
     "output_type": "display_data"
    },
    {
     "data": {
      "text/html": [
       "<table>\n",
       "<thead>\n",
       "<tr><th style=\"text-align: right;\">     Cumulative \n",
       "Return (%)</th><th style=\"text-align: right;\">      Maximum Earning \n",
       "Rate (%)</th><th style=\"text-align: right;\">        Maximum \n",
       "Pullback (%)</th><th style=\"text-align: right;\">       Average Profitability \n",
       "per Trade</th><th style=\"text-align: right;\">  Sharpe Ratio</th><th style=\"text-align: right;\">  Total Timesteps</th></tr>\n",
       "</thead>\n",
       "<tbody>\n",
       "<tr><td style=\"text-align: right;\">6.71</td><td style=\"text-align: right;\">16.12</td><td style=\"text-align: right;\">44.9492</td><td style=\"text-align: right;\">183.38</td><td style=\"text-align: right;\">        0.0141</td><td style=\"text-align: right;\">             1101</td></tr>\n",
       "</tbody>\n",
       "</table>"
      ]
     },
     "metadata": {},
     "output_type": "display_data"
    },
    {
     "data": {
      "text/html": [
       "<h3>Reward Function-CVaR_1.5 | Strategy-PPOLSTM | Experiment 2</h3>\n"
      ]
     },
     "metadata": {},
     "output_type": "display_data"
    },
    {
     "data": {
      "text/html": [
       "<table>\n",
       "<thead>\n",
       "<tr><th style=\"text-align: right;\">     Cumulative \n",
       "Return (%)</th><th style=\"text-align: right;\">      Maximum Earning \n",
       "Rate (%)</th><th style=\"text-align: right;\">        Maximum \n",
       "Pullback (%)</th><th style=\"text-align: right;\">        Average Profitability \n",
       "per Trade</th><th style=\"text-align: right;\">  Sharpe Ratio</th><th style=\"text-align: right;\">  Total Timesteps</th></tr>\n",
       "</thead>\n",
       "<tbody>\n",
       "<tr><td style=\"text-align: right;\">22.2</td><td style=\"text-align: right;\">30.82</td><td style=\"text-align: right;\">40.0536</td><td style=\"text-align: right;\">606.445</td><td style=\"text-align: right;\">         0.041</td><td style=\"text-align: right;\">             1101</td></tr>\n",
       "</tbody>\n",
       "</table>"
      ]
     },
     "metadata": {},
     "output_type": "display_data"
    },
    {
     "data": {
      "text/html": [
       "<h3>Strategy-RANDOM |  | Experiment 2</h3>\n"
      ]
     },
     "metadata": {},
     "output_type": "display_data"
    },
    {
     "data": {
      "text/html": [
       "<table>\n",
       "<thead>\n",
       "<tr><th style=\"text-align: right;\">     Cumulative \n",
       "Return (%)</th><th style=\"text-align: right;\">     Maximum Earning \n",
       "Rate (%)</th><th style=\"text-align: right;\">        Maximum \n",
       "Pullback (%)</th><th style=\"text-align: right;\">        Average Profitability \n",
       "per Trade</th><th style=\"text-align: right;\">  Sharpe Ratio</th><th style=\"text-align: right;\">  Total Timesteps</th></tr>\n",
       "</thead>\n",
       "<tbody>\n",
       "<tr><td style=\"text-align: right;\">2.38</td><td style=\"text-align: right;\">13.5</td><td style=\"text-align: right;\">53.0569</td><td style=\"text-align: right;\">65.1007</td><td style=\"text-align: right;\">        0.0051</td><td style=\"text-align: right;\">             1101</td></tr>\n",
       "</tbody>\n",
       "</table>"
      ]
     },
     "metadata": {},
     "output_type": "display_data"
    },
    {
     "data": {
      "text/html": [
       "<h3>Reward Function-CVaR_1.5 | Strategy-PPOLSTM | Experiment 2</h3>\n"
      ]
     },
     "metadata": {},
     "output_type": "display_data"
    },
    {
     "data": {
      "text/html": [
       "<table>\n",
       "<thead>\n",
       "<tr><th style=\"text-align: right;\">      Cumulative \n",
       "Return (%)</th><th style=\"text-align: right;\">      Maximum Earning \n",
       "Rate (%)</th><th style=\"text-align: right;\">        Maximum \n",
       "Pullback (%)</th><th style=\"text-align: right;\">        Average Profitability \n",
       "per Trade</th><th style=\"text-align: right;\">  Sharpe Ratio</th><th style=\"text-align: right;\">  Total Timesteps</th></tr>\n",
       "</thead>\n",
       "<tbody>\n",
       "<tr><td style=\"text-align: right;\">41.99</td><td style=\"text-align: right;\">46.19</td><td style=\"text-align: right;\">38.0771</td><td style=\"text-align: right;\">1147.28</td><td style=\"text-align: right;\">        0.0728</td><td style=\"text-align: right;\">             1101</td></tr>\n",
       "</tbody>\n",
       "</table>"
      ]
     },
     "metadata": {},
     "output_type": "display_data"
    },
    {
     "data": {
      "text/html": [
       "<h3>Strategy-RANDOM |  | Experiment 2</h3>\n"
      ]
     },
     "metadata": {},
     "output_type": "display_data"
    },
    {
     "data": {
      "text/html": [
       "<table>\n",
       "<thead>\n",
       "<tr><th style=\"text-align: right;\">     Cumulative \n",
       "Return (%)</th><th style=\"text-align: right;\">      Maximum Earning \n",
       "Rate (%)</th><th style=\"text-align: right;\">        Maximum \n",
       "Pullback (%)</th><th style=\"text-align: right;\">        Average Profitability \n",
       "per Trade</th><th style=\"text-align: right;\">  Sharpe Ratio</th><th style=\"text-align: right;\">  Total Timesteps</th></tr>\n",
       "</thead>\n",
       "<tbody>\n",
       "<tr><td style=\"text-align: right;\">9.81</td><td style=\"text-align: right;\">23.27</td><td style=\"text-align: right;\">36.9952</td><td style=\"text-align: right;\">268.137</td><td style=\"text-align: right;\">          0.02</td><td style=\"text-align: right;\">             1101</td></tr>\n",
       "</tbody>\n",
       "</table>"
      ]
     },
     "metadata": {},
     "output_type": "display_data"
    },
    {
     "data": {
      "text/html": [
       "<h3>Reward Function-CVaR_1.5 | Strategy-PPOLSTM | Experiment 2</h3>\n"
      ]
     },
     "metadata": {},
     "output_type": "display_data"
    },
    {
     "data": {
      "text/html": [
       "<table>\n",
       "<thead>\n",
       "<tr><th style=\"text-align: right;\">      Cumulative \n",
       "Return (%)</th><th style=\"text-align: right;\">      Maximum Earning \n",
       "Rate (%)</th><th style=\"text-align: right;\">        Maximum \n",
       "Pullback (%)</th><th style=\"text-align: right;\">        Average Profitability \n",
       "per Trade</th><th style=\"text-align: right;\">  Sharpe Ratio</th><th style=\"text-align: right;\">  Total Timesteps</th></tr>\n",
       "</thead>\n",
       "<tbody>\n",
       "<tr><td style=\"text-align: right;\">12.46</td><td style=\"text-align: right;\">15.75</td><td style=\"text-align: right;\">42.3839</td><td style=\"text-align: right;\">340.445</td><td style=\"text-align: right;\">         0.025</td><td style=\"text-align: right;\">             1101</td></tr>\n",
       "</tbody>\n",
       "</table>"
      ]
     },
     "metadata": {},
     "output_type": "display_data"
    },
    {
     "data": {
      "text/html": [
       "<h3>Strategy-RANDOM |  | Experiment 2</h3>\n"
      ]
     },
     "metadata": {},
     "output_type": "display_data"
    },
    {
     "data": {
      "text/html": [
       "<table>\n",
       "<thead>\n",
       "<tr><th style=\"text-align: right;\">     Cumulative \n",
       "Return (%)</th><th style=\"text-align: right;\">      Maximum Earning \n",
       "Rate (%)</th><th style=\"text-align: right;\">        Maximum \n",
       "Pullback (%)</th><th style=\"text-align: right;\">       Average Profitability \n",
       "per Trade</th><th style=\"text-align: right;\">  Sharpe Ratio</th><th style=\"text-align: right;\">  Total Timesteps</th></tr>\n",
       "</thead>\n",
       "<tbody>\n",
       "<tr><td style=\"text-align: right;\">22.2</td><td style=\"text-align: right;\">27.01</td><td style=\"text-align: right;\">43.3763</td><td style=\"text-align: right;\">606.43</td><td style=\"text-align: right;\">        0.0431</td><td style=\"text-align: right;\">             1101</td></tr>\n",
       "</tbody>\n",
       "</table>"
      ]
     },
     "metadata": {},
     "output_type": "display_data"
    },
    {
     "data": {
      "text/html": [
       "<h3>Reward Function-CVaR_1.5 | Strategy-PPOLSTM | Experiment 2</h3>\n"
      ]
     },
     "metadata": {},
     "output_type": "display_data"
    },
    {
     "data": {
      "text/html": [
       "<table>\n",
       "<thead>\n",
       "<tr><th style=\"text-align: right;\">      Cumulative \n",
       "Return (%)</th><th style=\"text-align: right;\">      Maximum Earning \n",
       "Rate (%)</th><th style=\"text-align: right;\">       Maximum \n",
       "Pullback (%)</th><th style=\"text-align: right;\">        Average Profitability \n",
       "per Trade</th><th style=\"text-align: right;\">  Sharpe Ratio</th><th style=\"text-align: right;\">  Total Timesteps</th></tr>\n",
       "</thead>\n",
       "<tbody>\n",
       "<tr><td style=\"text-align: right;\">22.01</td><td style=\"text-align: right;\">27.26</td><td style=\"text-align: right;\">45.437</td><td style=\"text-align: right;\">601.269</td><td style=\"text-align: right;\">        0.0387</td><td style=\"text-align: right;\">             1101</td></tr>\n",
       "</tbody>\n",
       "</table>"
      ]
     },
     "metadata": {},
     "output_type": "display_data"
    },
    {
     "data": {
      "text/html": [
       "<h3>Strategy-RANDOM |  | Experiment 2</h3>\n"
      ]
     },
     "metadata": {},
     "output_type": "display_data"
    },
    {
     "data": {
      "text/html": [
       "<table>\n",
       "<thead>\n",
       "<tr><th style=\"text-align: right;\">      Cumulative \n",
       "Return (%)</th><th style=\"text-align: right;\">      Maximum Earning \n",
       "Rate (%)</th><th style=\"text-align: right;\">        Maximum \n",
       "Pullback (%)</th><th style=\"text-align: right;\">         Average Profitability \n",
       "per Trade</th><th style=\"text-align: right;\">  Sharpe Ratio</th><th style=\"text-align: right;\">  Total Timesteps</th></tr>\n",
       "</thead>\n",
       "<tbody>\n",
       "<tr><td style=\"text-align: right;\">-0.67</td><td style=\"text-align: right;\">12.49</td><td style=\"text-align: right;\">41.2226</td><td style=\"text-align: right;\">-18.3289</td><td style=\"text-align: right;\">       -0.0015</td><td style=\"text-align: right;\">             1101</td></tr>\n",
       "</tbody>\n",
       "</table>"
      ]
     },
     "metadata": {},
     "output_type": "display_data"
    },
    {
     "data": {
      "text/html": [
       "<h3>Reward Function-CVaR_1.5 | Strategy-PPOLSTM | Experiment 2</h3>\n"
      ]
     },
     "metadata": {},
     "output_type": "display_data"
    },
    {
     "data": {
      "text/html": [
       "<table>\n",
       "<thead>\n",
       "<tr><th style=\"text-align: right;\">    Cumulative \n",
       "Return (%)</th><th style=\"text-align: right;\">      Maximum Earning \n",
       "Rate (%)</th><th style=\"text-align: right;\">        Maximum \n",
       "Pullback (%)</th><th style=\"text-align: right;\">        Average Profitability \n",
       "per Trade</th><th style=\"text-align: right;\">  Sharpe Ratio</th><th style=\"text-align: right;\">  Total Timesteps</th></tr>\n",
       "</thead>\n",
       "<tbody>\n",
       "<tr><td style=\"text-align: right;\">7.9</td><td style=\"text-align: right;\">14.77</td><td style=\"text-align: right;\">52.5712</td><td style=\"text-align: right;\">215.885</td><td style=\"text-align: right;\">        0.0162</td><td style=\"text-align: right;\">             1101</td></tr>\n",
       "</tbody>\n",
       "</table>"
      ]
     },
     "metadata": {},
     "output_type": "display_data"
    },
    {
     "data": {
      "text/html": [
       "<h3>Strategy-RANDOM |  | Experiment 2</h3>\n"
      ]
     },
     "metadata": {},
     "output_type": "display_data"
    },
    {
     "data": {
      "text/html": [
       "<table>\n",
       "<thead>\n",
       "<tr><th style=\"text-align: right;\">      Cumulative \n",
       "Return (%)</th><th style=\"text-align: right;\">      Maximum Earning \n",
       "Rate (%)</th><th style=\"text-align: right;\">        Maximum \n",
       "Pullback (%)</th><th style=\"text-align: right;\">        Average Profitability \n",
       "per Trade</th><th style=\"text-align: right;\">  Sharpe Ratio</th><th style=\"text-align: right;\">  Total Timesteps</th></tr>\n",
       "</thead>\n",
       "<tbody>\n",
       "<tr><td style=\"text-align: right;\">28.56</td><td style=\"text-align: right;\">29.73</td><td style=\"text-align: right;\">45.4584</td><td style=\"text-align: right;\">780.291</td><td style=\"text-align: right;\">        0.0568</td><td style=\"text-align: right;\">             1101</td></tr>\n",
       "</tbody>\n",
       "</table>"
      ]
     },
     "metadata": {},
     "output_type": "display_data"
    },
    {
     "data": {
      "text/html": [
       "<h3>Reward Function-CVaR_1.5 | Strategy-PPOLSTM | Experiment 2</h3>\n"
      ]
     },
     "metadata": {},
     "output_type": "display_data"
    },
    {
     "data": {
      "text/html": [
       "<table>\n",
       "<thead>\n",
       "<tr><th style=\"text-align: right;\">       Cumulative \n",
       "Return (%)</th><th style=\"text-align: right;\">      Maximum Earning \n",
       "Rate (%)</th><th style=\"text-align: right;\">        Maximum \n",
       "Pullback (%)</th><th style=\"text-align: right;\">         Average Profitability \n",
       "per Trade</th><th style=\"text-align: right;\">  Sharpe Ratio</th><th style=\"text-align: right;\">  Total Timesteps</th></tr>\n",
       "</thead>\n",
       "<tbody>\n",
       "<tr><td style=\"text-align: right;\">-11.78</td><td style=\"text-align: right;\">-0.09</td><td style=\"text-align: right;\">48.6797</td><td style=\"text-align: right;\">-321.799</td><td style=\"text-align: right;\">       -0.0257</td><td style=\"text-align: right;\">             1101</td></tr>\n",
       "</tbody>\n",
       "</table>"
      ]
     },
     "metadata": {},
     "output_type": "display_data"
    },
    {
     "data": {
      "text/html": [
       "<h3>Strategy-RANDOM |  | Experiment 2</h3>\n"
      ]
     },
     "metadata": {},
     "output_type": "display_data"
    },
    {
     "data": {
      "text/html": [
       "<table>\n",
       "<thead>\n",
       "<tr><th style=\"text-align: right;\">      Cumulative \n",
       "Return (%)</th><th style=\"text-align: right;\">     Maximum Earning \n",
       "Rate (%)</th><th style=\"text-align: right;\">        Maximum \n",
       "Pullback (%)</th><th style=\"text-align: right;\">         Average Profitability \n",
       "per Trade</th><th style=\"text-align: right;\">  Sharpe Ratio</th><th style=\"text-align: right;\">  Total Timesteps</th></tr>\n",
       "</thead>\n",
       "<tbody>\n",
       "<tr><td style=\"text-align: right;\">-2.25</td><td style=\"text-align: right;\">9.81</td><td style=\"text-align: right;\">41.1477</td><td style=\"text-align: right;\">-61.5282</td><td style=\"text-align: right;\">       -0.0051</td><td style=\"text-align: right;\">             1101</td></tr>\n",
       "</tbody>\n",
       "</table>"
      ]
     },
     "metadata": {},
     "output_type": "display_data"
    },
    {
     "data": {
      "text/html": [
       "<h3>Reward Function-CVaR_1.5 | Strategy-PPOLSTM | Experiment 2</h3>\n"
      ]
     },
     "metadata": {},
     "output_type": "display_data"
    },
    {
     "data": {
      "text/html": [
       "<table>\n",
       "<thead>\n",
       "<tr><th style=\"text-align: right;\">     Cumulative \n",
       "Return (%)</th><th style=\"text-align: right;\">      Maximum Earning \n",
       "Rate (%)</th><th style=\"text-align: right;\">        Maximum \n",
       "Pullback (%)</th><th style=\"text-align: right;\">        Average Profitability \n",
       "per Trade</th><th style=\"text-align: right;\">  Sharpe Ratio</th><th style=\"text-align: right;\">  Total Timesteps</th></tr>\n",
       "</thead>\n",
       "<tbody>\n",
       "<tr><td style=\"text-align: right;\">16.6</td><td style=\"text-align: right;\">19.13</td><td style=\"text-align: right;\">40.0967</td><td style=\"text-align: right;\">453.435</td><td style=\"text-align: right;\">        0.0327</td><td style=\"text-align: right;\">             1101</td></tr>\n",
       "</tbody>\n",
       "</table>"
      ]
     },
     "metadata": {},
     "output_type": "display_data"
    },
    {
     "data": {
      "text/html": [
       "<h3>Strategy-RANDOM |  | Experiment 2</h3>\n"
      ]
     },
     "metadata": {},
     "output_type": "display_data"
    },
    {
     "data": {
      "text/html": [
       "<table>\n",
       "<thead>\n",
       "<tr><th style=\"text-align: right;\">      Cumulative \n",
       "Return (%)</th><th style=\"text-align: right;\">      Maximum Earning \n",
       "Rate (%)</th><th style=\"text-align: right;\">        Maximum \n",
       "Pullback (%)</th><th style=\"text-align: right;\">        Average Profitability \n",
       "per Trade</th><th style=\"text-align: right;\">  Sharpe Ratio</th><th style=\"text-align: right;\">  Total Timesteps</th></tr>\n",
       "</thead>\n",
       "<tbody>\n",
       "<tr><td style=\"text-align: right;\">20.62</td><td style=\"text-align: right;\">23.57</td><td style=\"text-align: right;\">50.0041</td><td style=\"text-align: right;\">563.324</td><td style=\"text-align: right;\">        0.0394</td><td style=\"text-align: right;\">             1101</td></tr>\n",
       "</tbody>\n",
       "</table>"
      ]
     },
     "metadata": {},
     "output_type": "display_data"
    },
    {
     "data": {
      "text/html": [
       "<h3>Reward Function-CVaR_1.5 | Strategy-PPOLSTM | Experiment 2</h3>\n"
      ]
     },
     "metadata": {},
     "output_type": "display_data"
    },
    {
     "data": {
      "text/html": [
       "<table>\n",
       "<thead>\n",
       "<tr><th style=\"text-align: right;\">      Cumulative \n",
       "Return (%)</th><th style=\"text-align: right;\">     Maximum Earning \n",
       "Rate (%)</th><th style=\"text-align: right;\">        Maximum \n",
       "Pullback (%)</th><th style=\"text-align: right;\">        Average Profitability \n",
       "per Trade</th><th style=\"text-align: right;\">  Sharpe Ratio</th><th style=\"text-align: right;\">  Total Timesteps</th></tr>\n",
       "</thead>\n",
       "<tbody>\n",
       "<tr><td style=\"text-align: right;\">17.88</td><td style=\"text-align: right;\">21.2</td><td style=\"text-align: right;\">40.5595</td><td style=\"text-align: right;\">488.399</td><td style=\"text-align: right;\">        0.0328</td><td style=\"text-align: right;\">             1101</td></tr>\n",
       "</tbody>\n",
       "</table>"
      ]
     },
     "metadata": {},
     "output_type": "display_data"
    },
    {
     "data": {
      "text/html": [
       "<h3>Strategy-RANDOM |  | Experiment 2</h3>\n"
      ]
     },
     "metadata": {},
     "output_type": "display_data"
    },
    {
     "data": {
      "text/html": [
       "<table>\n",
       "<thead>\n",
       "<tr><th style=\"text-align: right;\">      Cumulative \n",
       "Return (%)</th><th style=\"text-align: right;\">      Maximum Earning \n",
       "Rate (%)</th><th style=\"text-align: right;\">        Maximum \n",
       "Pullback (%)</th><th style=\"text-align: right;\">        Average Profitability \n",
       "per Trade</th><th style=\"text-align: right;\">  Sharpe Ratio</th><th style=\"text-align: right;\">  Total Timesteps</th></tr>\n",
       "</thead>\n",
       "<tbody>\n",
       "<tr><td style=\"text-align: right;\">17.01</td><td style=\"text-align: right;\">28.07</td><td style=\"text-align: right;\">39.3683</td><td style=\"text-align: right;\">464.832</td><td style=\"text-align: right;\">        0.0337</td><td style=\"text-align: right;\">             1101</td></tr>\n",
       "</tbody>\n",
       "</table>"
      ]
     },
     "metadata": {},
     "output_type": "display_data"
    },
    {
     "data": {
      "text/html": [
       "<h3>Reward Function-CVaR_1.5 | Strategy-PPOLSTM | Experiment 2</h3>\n"
      ]
     },
     "metadata": {},
     "output_type": "display_data"
    },
    {
     "data": {
      "text/html": [
       "<table>\n",
       "<thead>\n",
       "<tr><th style=\"text-align: right;\">    Cumulative \n",
       "Return (%)</th><th style=\"text-align: right;\">     Maximum Earning \n",
       "Rate (%)</th><th style=\"text-align: right;\">        Maximum \n",
       "Pullback (%)</th><th style=\"text-align: right;\">         Average Profitability \n",
       "per Trade</th><th style=\"text-align: right;\">  Sharpe Ratio</th><th style=\"text-align: right;\">  Total Timesteps</th></tr>\n",
       "</thead>\n",
       "<tbody>\n",
       "<tr><td style=\"text-align: right;\">-16</td><td style=\"text-align: right;\">7.21</td><td style=\"text-align: right;\">42.9963</td><td style=\"text-align: right;\">-437.199</td><td style=\"text-align: right;\">       -0.0368</td><td style=\"text-align: right;\">             1101</td></tr>\n",
       "</tbody>\n",
       "</table>"
      ]
     },
     "metadata": {},
     "output_type": "display_data"
    },
    {
     "data": {
      "text/html": [
       "<h3>Strategy-RANDOM |  | Experiment 2</h3>\n"
      ]
     },
     "metadata": {},
     "output_type": "display_data"
    },
    {
     "data": {
      "text/html": [
       "<table>\n",
       "<thead>\n",
       "<tr><th style=\"text-align: right;\">      Cumulative \n",
       "Return (%)</th><th style=\"text-align: right;\">     Maximum Earning \n",
       "Rate (%)</th><th style=\"text-align: right;\">        Maximum \n",
       "Pullback (%)</th><th style=\"text-align: right;\">        Average Profitability \n",
       "per Trade</th><th style=\"text-align: right;\">  Sharpe Ratio</th><th style=\"text-align: right;\">  Total Timesteps</th></tr>\n",
       "</thead>\n",
       "<tbody>\n",
       "<tr><td style=\"text-align: right;\">19.74</td><td style=\"text-align: right;\">20.6</td><td style=\"text-align: right;\">45.2743</td><td style=\"text-align: right;\">539.464</td><td style=\"text-align: right;\">        0.0396</td><td style=\"text-align: right;\">             1101</td></tr>\n",
       "</tbody>\n",
       "</table>"
      ]
     },
     "metadata": {},
     "output_type": "display_data"
    },
    {
     "data": {
      "text/html": [
       "<h3>Reward Function-CVaR_1.5 | Strategy-PPOLSTM | Experiment 2</h3>\n"
      ]
     },
     "metadata": {},
     "output_type": "display_data"
    },
    {
     "data": {
      "text/html": [
       "<table>\n",
       "<thead>\n",
       "<tr><th style=\"text-align: right;\">     Cumulative \n",
       "Return (%)</th><th style=\"text-align: right;\">      Maximum Earning \n",
       "Rate (%)</th><th style=\"text-align: right;\">        Maximum \n",
       "Pullback (%)</th><th style=\"text-align: right;\">        Average Profitability \n",
       "per Trade</th><th style=\"text-align: right;\">  Sharpe Ratio</th><th style=\"text-align: right;\">  Total Timesteps</th></tr>\n",
       "</thead>\n",
       "<tbody>\n",
       "<tr><td style=\"text-align: right;\">6.53</td><td style=\"text-align: right;\">19.36</td><td style=\"text-align: right;\">32.4108</td><td style=\"text-align: right;\">178.325</td><td style=\"text-align: right;\">        0.0132</td><td style=\"text-align: right;\">             1101</td></tr>\n",
       "</tbody>\n",
       "</table>"
      ]
     },
     "metadata": {},
     "output_type": "display_data"
    },
    {
     "data": {
      "text/html": [
       "<h3>Strategy-RANDOM |  | Experiment 2</h3>\n"
      ]
     },
     "metadata": {},
     "output_type": "display_data"
    },
    {
     "data": {
      "text/html": [
       "<table>\n",
       "<thead>\n",
       "<tr><th style=\"text-align: right;\">      Cumulative \n",
       "Return (%)</th><th style=\"text-align: right;\">      Maximum Earning \n",
       "Rate (%)</th><th style=\"text-align: right;\">        Maximum \n",
       "Pullback (%)</th><th style=\"text-align: right;\">        Average Profitability \n",
       "per Trade</th><th style=\"text-align: right;\">  Sharpe Ratio</th><th style=\"text-align: right;\">  Total Timesteps</th></tr>\n",
       "</thead>\n",
       "<tbody>\n",
       "<tr><td style=\"text-align: right;\">13.27</td><td style=\"text-align: right;\">25.44</td><td style=\"text-align: right;\">34.5737</td><td style=\"text-align: right;\">362.556</td><td style=\"text-align: right;\">        0.0274</td><td style=\"text-align: right;\">             1101</td></tr>\n",
       "</tbody>\n",
       "</table>"
      ]
     },
     "metadata": {},
     "output_type": "display_data"
    },
    {
     "data": {
      "text/html": [
       "<h3>Reward Function-CVaR_1.5 | Strategy-PPOLSTM | Experiment 2</h3>\n"
      ]
     },
     "metadata": {},
     "output_type": "display_data"
    },
    {
     "data": {
      "text/html": [
       "<table>\n",
       "<thead>\n",
       "<tr><th style=\"text-align: right;\">      Cumulative \n",
       "Return (%)</th><th style=\"text-align: right;\">   Maximum Earning \n",
       "Rate (%)</th><th style=\"text-align: right;\">        Maximum \n",
       "Pullback (%)</th><th style=\"text-align: right;\">       Average Profitability \n",
       "per Trade</th><th style=\"text-align: right;\">  Sharpe Ratio</th><th style=\"text-align: right;\">  Total Timesteps</th></tr>\n",
       "</thead>\n",
       "<tbody>\n",
       "<tr><td style=\"text-align: right;\">13.75</td><td style=\"text-align: right;\">17</td><td style=\"text-align: right;\">51.0803</td><td style=\"text-align: right;\">375.78</td><td style=\"text-align: right;\">        0.0286</td><td style=\"text-align: right;\">             1101</td></tr>\n",
       "</tbody>\n",
       "</table>"
      ]
     },
     "metadata": {},
     "output_type": "display_data"
    },
    {
     "data": {
      "text/html": [
       "<h3>Strategy-RANDOM |  | Experiment 2</h3>\n"
      ]
     },
     "metadata": {},
     "output_type": "display_data"
    },
    {
     "data": {
      "text/html": [
       "<table>\n",
       "<thead>\n",
       "<tr><th style=\"text-align: right;\">      Cumulative \n",
       "Return (%)</th><th style=\"text-align: right;\">      Maximum Earning \n",
       "Rate (%)</th><th style=\"text-align: right;\">        Maximum \n",
       "Pullback (%)</th><th style=\"text-align: right;\">        Average Profitability \n",
       "per Trade</th><th style=\"text-align: right;\">  Sharpe Ratio</th><th style=\"text-align: right;\">  Total Timesteps</th></tr>\n",
       "</thead>\n",
       "<tbody>\n",
       "<tr><td style=\"text-align: right;\">19.67</td><td style=\"text-align: right;\">21.72</td><td style=\"text-align: right;\">49.5317</td><td style=\"text-align: right;\">537.372</td><td style=\"text-align: right;\">        0.0403</td><td style=\"text-align: right;\">             1101</td></tr>\n",
       "</tbody>\n",
       "</table>"
      ]
     },
     "metadata": {},
     "output_type": "display_data"
    },
    {
     "data": {
      "text/html": [
       "<h3>Reward Function-CVaR_1.5 | Strategy-PPOLSTM | Experiment 2</h3>\n"
      ]
     },
     "metadata": {},
     "output_type": "display_data"
    },
    {
     "data": {
      "text/html": [
       "<table>\n",
       "<thead>\n",
       "<tr><th style=\"text-align: right;\">     Cumulative \n",
       "Return (%)</th><th style=\"text-align: right;\">     Maximum Earning \n",
       "Rate (%)</th><th style=\"text-align: right;\">        Maximum \n",
       "Pullback (%)</th><th style=\"text-align: right;\">         Average Profitability \n",
       "per Trade</th><th style=\"text-align: right;\">  Sharpe Ratio</th><th style=\"text-align: right;\">  Total Timesteps</th></tr>\n",
       "</thead>\n",
       "<tbody>\n",
       "<tr><td style=\"text-align: right;\">0.01</td><td style=\"text-align: right;\">2.63</td><td style=\"text-align: right;\">44.7205</td><td style=\"text-align: right;\">0.221686</td><td style=\"text-align: right;\">             0</td><td style=\"text-align: right;\">             1101</td></tr>\n",
       "</tbody>\n",
       "</table>"
      ]
     },
     "metadata": {},
     "output_type": "display_data"
    },
    {
     "data": {
      "text/html": [
       "<h3>Strategy-RANDOM |  | Experiment 2</h3>\n"
      ]
     },
     "metadata": {},
     "output_type": "display_data"
    },
    {
     "data": {
      "text/html": [
       "<table>\n",
       "<thead>\n",
       "<tr><th style=\"text-align: right;\">     Cumulative \n",
       "Return (%)</th><th style=\"text-align: right;\">      Maximum Earning \n",
       "Rate (%)</th><th style=\"text-align: right;\">        Maximum \n",
       "Pullback (%)</th><th style=\"text-align: right;\">        Average Profitability \n",
       "per Trade</th><th style=\"text-align: right;\">  Sharpe Ratio</th><th style=\"text-align: right;\">  Total Timesteps</th></tr>\n",
       "</thead>\n",
       "<tbody>\n",
       "<tr><td style=\"text-align: right;\">2.99</td><td style=\"text-align: right;\">21.91</td><td style=\"text-align: right;\">46.7556</td><td style=\"text-align: right;\">81.8118</td><td style=\"text-align: right;\">        0.0063</td><td style=\"text-align: right;\">             1101</td></tr>\n",
       "</tbody>\n",
       "</table>"
      ]
     },
     "metadata": {},
     "output_type": "display_data"
    },
    {
     "data": {
      "text/html": [
       "<h3>Reward Function-CVaR_1.5 | Strategy-PPOLSTM | Experiment 2</h3>\n"
      ]
     },
     "metadata": {},
     "output_type": "display_data"
    },
    {
     "data": {
      "text/html": [
       "<table>\n",
       "<thead>\n",
       "<tr><th style=\"text-align: right;\">     Cumulative \n",
       "Return (%)</th><th style=\"text-align: right;\">      Maximum Earning \n",
       "Rate (%)</th><th style=\"text-align: right;\">        Maximum \n",
       "Pullback (%)</th><th style=\"text-align: right;\">        Average Profitability \n",
       "per Trade</th><th style=\"text-align: right;\">  Sharpe Ratio</th><th style=\"text-align: right;\">  Total Timesteps</th></tr>\n",
       "</thead>\n",
       "<tbody>\n",
       "<tr><td style=\"text-align: right;\">7.77</td><td style=\"text-align: right;\">19.27</td><td style=\"text-align: right;\">50.7098</td><td style=\"text-align: right;\">212.189</td><td style=\"text-align: right;\">        0.0138</td><td style=\"text-align: right;\">             1101</td></tr>\n",
       "</tbody>\n",
       "</table>"
      ]
     },
     "metadata": {},
     "output_type": "display_data"
    },
    {
     "data": {
      "text/html": [
       "<h3>Strategy-RANDOM |  | Experiment 2</h3>\n"
      ]
     },
     "metadata": {},
     "output_type": "display_data"
    },
    {
     "data": {
      "text/html": [
       "<table>\n",
       "<thead>\n",
       "<tr><th style=\"text-align: right;\">    Cumulative \n",
       "Return (%)</th><th style=\"text-align: right;\">      Maximum Earning \n",
       "Rate (%)</th><th style=\"text-align: right;\">        Maximum \n",
       "Pullback (%)</th><th style=\"text-align: right;\">        Average Profitability \n",
       "per Trade</th><th style=\"text-align: right;\">  Sharpe Ratio</th><th style=\"text-align: right;\">  Total Timesteps</th></tr>\n",
       "</thead>\n",
       "<tbody>\n",
       "<tr><td style=\"text-align: right;\">8.9</td><td style=\"text-align: right;\">14.02</td><td style=\"text-align: right;\">43.5743</td><td style=\"text-align: right;\">243.223</td><td style=\"text-align: right;\">        0.0196</td><td style=\"text-align: right;\">             1101</td></tr>\n",
       "</tbody>\n",
       "</table>"
      ]
     },
     "metadata": {},
     "output_type": "display_data"
    },
    {
     "data": {
      "text/html": [
       "<h3>Reward Function-CVaR_1.5 | Strategy-PPOLSTM | Experiment 2</h3>\n"
      ]
     },
     "metadata": {},
     "output_type": "display_data"
    },
    {
     "data": {
      "text/html": [
       "<table>\n",
       "<thead>\n",
       "<tr><th style=\"text-align: right;\">     Cumulative \n",
       "Return (%)</th><th style=\"text-align: right;\">      Maximum Earning \n",
       "Rate (%)</th><th style=\"text-align: right;\">        Maximum \n",
       "Pullback (%)</th><th style=\"text-align: right;\">        Average Profitability \n",
       "per Trade</th><th style=\"text-align: right;\">  Sharpe Ratio</th><th style=\"text-align: right;\">  Total Timesteps</th></tr>\n",
       "</thead>\n",
       "<tbody>\n",
       "<tr><td style=\"text-align: right;\">2.52</td><td style=\"text-align: right;\">13.03</td><td style=\"text-align: right;\">49.3422</td><td style=\"text-align: right;\">68.9357</td><td style=\"text-align: right;\">         0.005</td><td style=\"text-align: right;\">             1101</td></tr>\n",
       "</tbody>\n",
       "</table>"
      ]
     },
     "metadata": {},
     "output_type": "display_data"
    },
    {
     "data": {
      "text/html": [
       "<h3>Strategy-RANDOM |  | Experiment 2</h3>\n"
      ]
     },
     "metadata": {},
     "output_type": "display_data"
    },
    {
     "data": {
      "text/html": [
       "<table>\n",
       "<thead>\n",
       "<tr><th style=\"text-align: right;\">      Cumulative \n",
       "Return (%)</th><th style=\"text-align: right;\">      Maximum Earning \n",
       "Rate (%)</th><th style=\"text-align: right;\">        Maximum \n",
       "Pullback (%)</th><th style=\"text-align: right;\">        Average Profitability \n",
       "per Trade</th><th style=\"text-align: right;\">  Sharpe Ratio</th><th style=\"text-align: right;\">  Total Timesteps</th></tr>\n",
       "</thead>\n",
       "<tbody>\n",
       "<tr><td style=\"text-align: right;\">24.07</td><td style=\"text-align: right;\">43.29</td><td style=\"text-align: right;\">41.6553</td><td style=\"text-align: right;\">657.658</td><td style=\"text-align: right;\">          0.04</td><td style=\"text-align: right;\">             1101</td></tr>\n",
       "</tbody>\n",
       "</table>"
      ]
     },
     "metadata": {},
     "output_type": "display_data"
    },
    {
     "data": {
      "text/html": [
       "<h3>Reward Function-CVaR_1.5 | Strategy-PPOLSTM | Experiment 2</h3>\n"
      ]
     },
     "metadata": {},
     "output_type": "display_data"
    },
    {
     "data": {
      "text/html": [
       "<table>\n",
       "<thead>\n",
       "<tr><th style=\"text-align: right;\">      Cumulative \n",
       "Return (%)</th><th style=\"text-align: right;\">     Maximum Earning \n",
       "Rate (%)</th><th style=\"text-align: right;\">        Maximum \n",
       "Pullback (%)</th><th style=\"text-align: right;\">         Average Profitability \n",
       "per Trade</th><th style=\"text-align: right;\">  Sharpe Ratio</th><th style=\"text-align: right;\">  Total Timesteps</th></tr>\n",
       "</thead>\n",
       "<tbody>\n",
       "<tr><td style=\"text-align: right;\">-8.92</td><td style=\"text-align: right;\">2.89</td><td style=\"text-align: right;\">58.1826</td><td style=\"text-align: right;\">-243.723</td><td style=\"text-align: right;\">       -0.0179</td><td style=\"text-align: right;\">             1101</td></tr>\n",
       "</tbody>\n",
       "</table>"
      ]
     },
     "metadata": {},
     "output_type": "display_data"
    },
    {
     "data": {
      "text/html": [
       "<h3>Strategy-RANDOM |  | Experiment 2</h3>\n"
      ]
     },
     "metadata": {},
     "output_type": "display_data"
    },
    {
     "data": {
      "text/html": [
       "<table>\n",
       "<thead>\n",
       "<tr><th style=\"text-align: right;\">     Cumulative \n",
       "Return (%)</th><th style=\"text-align: right;\">      Maximum Earning \n",
       "Rate (%)</th><th style=\"text-align: right;\">        Maximum \n",
       "Pullback (%)</th><th style=\"text-align: right;\">        Average Profitability \n",
       "per Trade</th><th style=\"text-align: right;\">  Sharpe Ratio</th><th style=\"text-align: right;\">  Total Timesteps</th></tr>\n",
       "</thead>\n",
       "<tbody>\n",
       "<tr><td style=\"text-align: right;\">7.35</td><td style=\"text-align: right;\">25.13</td><td style=\"text-align: right;\">39.0566</td><td style=\"text-align: right;\">200.773</td><td style=\"text-align: right;\">        0.0147</td><td style=\"text-align: right;\">             1101</td></tr>\n",
       "</tbody>\n",
       "</table>"
      ]
     },
     "metadata": {},
     "output_type": "display_data"
    },
    {
     "data": {
      "text/html": [
       "<h3>Reward Function-CVaR_1.5 | Strategy-PPOLSTM | Experiment 2</h3>\n"
      ]
     },
     "metadata": {},
     "output_type": "display_data"
    },
    {
     "data": {
      "text/html": [
       "<table>\n",
       "<thead>\n",
       "<tr><th style=\"text-align: right;\">    Cumulative \n",
       "Return (%)</th><th style=\"text-align: right;\">      Maximum Earning \n",
       "Rate (%)</th><th style=\"text-align: right;\">        Maximum \n",
       "Pullback (%)</th><th style=\"text-align: right;\">        Average Profitability \n",
       "per Trade</th><th style=\"text-align: right;\">  Sharpe Ratio</th><th style=\"text-align: right;\">  Total Timesteps</th></tr>\n",
       "</thead>\n",
       "<tbody>\n",
       "<tr><td style=\"text-align: right;\">3.9</td><td style=\"text-align: right;\">11.49</td><td style=\"text-align: right;\">51.3862</td><td style=\"text-align: right;\">106.677</td><td style=\"text-align: right;\">         0.009</td><td style=\"text-align: right;\">             1101</td></tr>\n",
       "</tbody>\n",
       "</table>"
      ]
     },
     "metadata": {},
     "output_type": "display_data"
    },
    {
     "data": {
      "text/html": [
       "<h3>Strategy-RANDOM |  | Experiment 2</h3>\n"
      ]
     },
     "metadata": {},
     "output_type": "display_data"
    },
    {
     "data": {
      "text/html": [
       "<table>\n",
       "<thead>\n",
       "<tr><th style=\"text-align: right;\">      Cumulative \n",
       "Return (%)</th><th style=\"text-align: right;\">      Maximum Earning \n",
       "Rate (%)</th><th style=\"text-align: right;\">        Maximum \n",
       "Pullback (%)</th><th style=\"text-align: right;\">        Average Profitability \n",
       "per Trade</th><th style=\"text-align: right;\">  Sharpe Ratio</th><th style=\"text-align: right;\">  Total Timesteps</th></tr>\n",
       "</thead>\n",
       "<tbody>\n",
       "<tr><td style=\"text-align: right;\">26.63</td><td style=\"text-align: right;\">29.59</td><td style=\"text-align: right;\">44.5319</td><td style=\"text-align: right;\">727.515</td><td style=\"text-align: right;\">        0.0544</td><td style=\"text-align: right;\">             1101</td></tr>\n",
       "</tbody>\n",
       "</table>"
      ]
     },
     "metadata": {},
     "output_type": "display_data"
    },
    {
     "data": {
      "image/png": "[encoded data removed]",
      "text/plain": [
       "<Figure size 1200x600 with 1 Axes>"
      ]
     },
     "metadata": {},
     "output_type": "display_data"
    },
    {
     "data": {
      "image/png": "[encoded data removed]",
      "text/plain": [
       "<Figure size 1200x600 with 1 Axes>"
      ]
     },
     "metadata": {},
     "output_type": "display_data"
    },
    {
     "name": "stdout",
     "output_type": "stream",
     "text": [
      "==================================================\n"
     ]
    },
    {
     "data": {
      "text/html": [
       "<h3>MEAN RESULTS FOR: Reward Function-Standard Logarithmic Returns | Strategy-PPOLSTM | Experiment 2</h3>\n"
      ]
     },
     "metadata": {},
     "output_type": "display_data"
    },
    {
     "data": {
      "text/html": [
       "<table>\n",
       "<thead>\n",
       "<tr><th style=\"text-align: right;\">      Cumulative \n",
       "Return (%)</th><th style=\"text-align: right;\">       Maximum Earning \n",
       "Rate (%)</th><th style=\"text-align: right;\">        Maximum \n",
       "Pullback (%)</th><th style=\"text-align: right;\">  Average Profitability \n",
       "per Trade</th><th style=\"text-align: right;\">  Sharpe Ratio</th><th style=\"text-align: right;\">  Total Timesteps</th><th style=\"text-align: right;\">  Standard Deviation</th></tr>\n",
       "</thead>\n",
       "<tbody>\n",
       "<tr><td style=\"text-align: right;\">9.897</td><td style=\"text-align: right;\">19.133</td><td style=\"text-align: right;\">46.3871</td><td style=\"text-align: right;\">0</td><td style=\"text-align: right;\">      0.016515</td><td style=\"text-align: right;\">           1098.3</td><td style=\"text-align: right;\">            0.778452</td></tr>\n",
       "</tbody>\n",
       "</table>"
      ]
     },
     "metadata": {},
     "output_type": "display_data"
    },
    {
     "data": {
      "text/html": [
       "<h3>MEAN RESULTS FOR: Strategy-RANDOM |  | Experiment 2</h3>\n"
      ]
     },
     "metadata": {},
     "output_type": "display_data"
    },
    {
     "data": {
      "text/html": [
       "<table>\n",
       "<thead>\n",
       "<tr><th style=\"text-align: right;\">        Cumulative \n",
       "Return (%)</th><th style=\"text-align: right;\">        Maximum Earning \n",
       "Rate (%)</th><th style=\"text-align: right;\">        Maximum \n",
       "Pullback (%)</th><th style=\"text-align: right;\">  Average Profitability \n",
       "per Trade</th><th style=\"text-align: right;\">  Sharpe Ratio</th><th style=\"text-align: right;\">  Total Timesteps</th><th style=\"text-align: right;\">  Standard Deviation</th></tr>\n",
       "</thead>\n",
       "<tbody>\n",
       "<tr><td style=\"text-align: right;\">11.9412</td><td style=\"text-align: right;\">20.5077</td><td style=\"text-align: right;\">44.7896</td><td style=\"text-align: right;\">0</td><td style=\"text-align: right;\">     0.0233383</td><td style=\"text-align: right;\">             1101</td><td style=\"text-align: right;\">            0.184905</td></tr>\n",
       "</tbody>\n",
       "</table>"
      ]
     },
     "metadata": {},
     "output_type": "display_data"
    },
    {
     "data": {
      "text/html": [
       "<h3>MEAN RESULTS FOR: Reward Function-CVaR_0.5 | Strategy-PPOLSTM | Experiment 2</h3>\n"
      ]
     },
     "metadata": {},
     "output_type": "display_data"
    },
    {
     "data": {
      "text/html": [
       "<table>\n",
       "<thead>\n",
       "<tr><th style=\"text-align: right;\">        Cumulative \n",
       "Return (%)</th><th style=\"text-align: right;\">        Maximum Earning \n",
       "Rate (%)</th><th style=\"text-align: right;\">        Maximum \n",
       "Pullback (%)</th><th style=\"text-align: right;\">  Average Profitability \n",
       "per Trade</th><th style=\"text-align: right;\">  Sharpe Ratio</th><th style=\"text-align: right;\">  Total Timesteps</th><th style=\"text-align: right;\">  Standard Deviation</th></tr>\n",
       "</thead>\n",
       "<tbody>\n",
       "<tr><td style=\"text-align: right;\">12.8165</td><td style=\"text-align: right;\">22.3385</td><td style=\"text-align: right;\">45.8141</td><td style=\"text-align: right;\">0</td><td style=\"text-align: right;\">       0.02262</td><td style=\"text-align: right;\">             1101</td><td style=\"text-align: right;\">            0.694517</td></tr>\n",
       "</tbody>\n",
       "</table>"
      ]
     },
     "metadata": {},
     "output_type": "display_data"
    },
    {
     "data": {
      "text/html": [
       "<h3>MEAN RESULTS FOR: Reward Function-CVaR_1.5 | Strategy-PPOLSTM | Experiment 2</h3>\n"
      ]
     },
     "metadata": {},
     "output_type": "display_data"
    },
    {
     "data": {
      "text/html": [
       "<table>\n",
       "<thead>\n",
       "<tr><th style=\"text-align: right;\">       Cumulative \n",
       "Return (%)</th><th style=\"text-align: right;\">        Maximum Earning \n",
       "Rate (%)</th><th style=\"text-align: right;\">        Maximum \n",
       "Pullback (%)</th><th style=\"text-align: right;\">  Average Profitability \n",
       "per Trade</th><th style=\"text-align: right;\">  Sharpe Ratio</th><th style=\"text-align: right;\">  Total Timesteps</th><th style=\"text-align: right;\">  Standard Deviation</th></tr>\n",
       "</thead>\n",
       "<tbody>\n",
       "<tr><td style=\"text-align: right;\">7.7525</td><td style=\"text-align: right;\">18.0975</td><td style=\"text-align: right;\">45.3013</td><td style=\"text-align: right;\">0</td><td style=\"text-align: right;\">      0.013765</td><td style=\"text-align: right;\">             1101</td><td style=\"text-align: right;\">            0.664464</td></tr>\n",
       "</tbody>\n",
       "</table>"
      ]
     },
     "metadata": {},
     "output_type": "display_data"
    }
   ],
   "source": [
    "# To test:\n",
    "# Exp 1:\n",
    "# RF: RiskAversion = 0.25, DSR = 0.1. LogRet\n",
    "# Output Size = 256\n",
    "# Frequency = 36\n",
    "# Envs = 0\n",
    "# LR = 5e-4\n",
    "\n",
    "# Exp 2:\n",
    "# RF: RiskAversion = 0.5, 1.5, CVaR, LogRet\n",
    "# Output Size = 1024\n",
    "# Frequency = 36\n",
    "# Envs = 0\n",
    "# LR = 3e-4\n",
    "\n",
    "REPEATS = 20\n",
    "\n",
    "# Experiment 1\n",
    "EXP_1_CONFIG = {\"Reward\" : [\"Standard Logarithmic Returns\", \"Differential Sharpe Ratio_0.1\", \"CVaR\"],\n",
    "                \"LSTM Output Size\" : 256, \n",
    "                \"Frequency\" : 36,\n",
    "                \"Environments\" : 0,\n",
    "                \"Learning Rate\" : 5e-4,\n",
    "                }\n",
    "EXP_2_CONFIG = {\"Reward\" : [\"Standard Logarithmic Returns\", \"CVaR_0.5\", \"CVaR_1.5\"],\n",
    "                \"LSTM Output Size\" : 1024, \n",
    "                \"Frequency\" : 36,\n",
    "                \"Environments\" : 0,\n",
    "                \"Learning Rate\" : 3e-4,\n",
    "                }\n",
    "\n",
    "def runFinal():\n",
    "    #terrible code forgive me\n",
    "    global allResults \n",
    "    allResults = defaultdict(list)\n",
    "    # Configuration 1\n",
    "    print(\"=\" * 50)\n",
    "    TESTING[\"REWARD FUNCTION\"] = True\n",
    "    for r in EXP_1_CONFIG[\"Reward\"]:\n",
    "        trainingLoop(\n",
    "        riskAversion=(0.25 if r == \"CVaR\" else 0),\n",
    "        rewardFunction=r,\n",
    "        freq=EXP_1_CONFIG[\"Frequency\"],\n",
    "        parr=EXP_1_CONFIG[\"Environments\"],\n",
    "        lstmOutputSize=EXP_1_CONFIG[\"LSTM Output Size\"],\n",
    "        lr=EXP_1_CONFIG[\"Learning Rate\"],\n",
    "        expers=(0, 1),\n",
    "        conf = \"Reward Function-\" + r + \" | \" + \"Strategy-PPOLSTM\" + \" | \" + \"Experiment 1\",\n",
    "    )\n",
    "    plotPerformance(\"REWARD FUNCTION\", \"SecondLast\")\n",
    "    TESTING[\"REWARD FUNCTION\"] = False\n",
    "    print(\"=\" * 50)\n",
    "\n",
    "    allResults = defaultdict(list)\n",
    "    # Configuration 2\n",
    "    print(\"=\" * 50)\n",
    "    TESTING[\"REWARD FUNCTION\"] = True\n",
    "    for r in EXP_2_CONFIG[\"Reward\"]:\n",
    "        trainingLoop(\n",
    "        riskAversion=(float(r.split(\"_\")[1]) if r.split(\"_\")[0] == \"CVaR\" else 0),\n",
    "        rewardFunction=r.split(\"_\")[0],\n",
    "        freq=EXP_2_CONFIG[\"Frequency\"],\n",
    "        parr=EXP_2_CONFIG[\"Environments\"],\n",
    "        lstmOutputSize=EXP_2_CONFIG[\"LSTM Output Size\"],\n",
    "        lr=EXP_2_CONFIG[\"Learning Rate\"],\n",
    "        expers=(1, 2),\n",
    "        conf = \"Reward Function-\" + r + \" | \" + \"Strategy-PPOLSTM\" + \" | \" + \"Experiment 2\",\n",
    "    )\n",
    "    plotPerformance(\"REWARD FUNCTION\", \"ThirdLast\")\n",
    "    TESTING[\"REWARD FUNCTION\"] = False\n",
    "    print(\"=\" * 50)\n",
    "    \n",
    "    tabulateResults()\n",
    "\n",
    "RUN_FINAL = True\n",
    "if RUN_FINAL:\n",
    "    runFinal()\n"
   ]
  }
 ],
 "metadata": {
  "kernelspec": {
   "display_name": "Python 3",
   "language": "python",
   "name": "python3"
  },
  "language_info": {
   "codemirror_mode": {
    "name": "ipython",
    "version": 3
   },
   "file_extension": ".py",
   "mimetype": "text/x-python",
   "name": "python",
   "nbconvert_exporter": "python",
   "pygments_lexer": "ipython3",
   "version": "3.12.10"
  }
 },
 "nbformat": 4,
 "nbformat_minor": 2
}
