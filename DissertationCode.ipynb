{
 "cells": [
  {
   "cell_type": "markdown",
   "metadata": {},
   "source": [
    "## 1. Collect Basic Data"
   ]
  },
  {
   "cell_type": "markdown",
   "metadata": {},
   "source": [
    "### Retrieve CryptoCurrency Market Data ###"
   ]
  },
  {
   "cell_type": "code",
   "execution_count": 23,
   "metadata": {},
   "outputs": [],
   "source": [
    "import pandas as pd\n",
    "import yfinance as yf\n",
    "from functools import reduce\n",
    "import requests\n",
    "import time\n",
    "import numpy as np\n",
    "from datetime import datetime, timedelta\n",
    "import matplotlib.pyplot as plt\n",
    "\n",
    "\n",
    "CRYPTO = False\n",
    "\n",
    "# Crypto Details\n",
    "cryptoProducts = [\"ETH-USD\", \"USDT-USD\", \"BTC-USD\"]\n",
    "availableGranularities = dict(zip([\"1M\", \"5M\", \"15M\", \"1H\", \"6H\", \"1D\"], [60, 300, 900, 3600, 21600, 86400]))\n",
    "\n",
    "# Stock Details\n",
    "dowTickers = [\"AAPL\", \"MSFT\", \"GOOGL\", \"TSLA\", \"AMZN\", \"NVDA\"]  \n",
    "sse50Tickers = [\"600519.SS\", \"601318.SS\", \"601857.SS\", \"600036.SS\", \"600016.SS\", \"600000.SS\"]  \n",
    "sensexTickers = [\"RELIANCE.BO\", \"TCS.BO\", \"INFY.BO\", \"ICICIBANK.BO\", \"SBIN.BO\", \"HINDUNILVR.BO\"] \n",
    "ftse100Tickers = [\"HSBA.L\", \"BP.L\", \"GSK.L\", \"SHEL.L\", \"BATS.L\", \"ULVR.L\"]  \n",
    "period = \"1D\"\n",
    "indexProducts = dowTickers + sse50Tickers + sensexTickers + ftse100Tickers\n",
    "productIds = indexProducts\n",
    "\n",
    "if CRYPTO:\n",
    "    productIds = cryptoProducts\n",
    "    period = \"6H\"\n",
    "    granularity = availableGranularities[period]\n",
    "    API_THRESHOLD = 300 #Can only get 300 periods at a time from API\n",
    "    PERIODS_WANTED = 2500\n",
    "\n",
    "# not a chance\n",
    "def retrieveCryptoData(productID, granularity, daysBack, endTime):\n",
    "    API_URL = f\"https://api.exchange.coinbase.com/products/{productID}/candles\"\n",
    "    daysBackDaysAgo = timedelta(days=daysBack)\n",
    "    startTime = datetime.fromisoformat(endTime) - (granularity/86400) * daysBackDaysAgo\n",
    "\n",
    "    # Convert to isoformat\n",
    "    startTime = startTime.isoformat()\n",
    "\n",
    "    # Set Request Parameters\n",
    "    parameters = {\n",
    "        \"start\" : startTime,\n",
    "        \"end\" : endTime,\n",
    "        \"granularity\" : str(granularity)\n",
    "    }\n",
    "\n",
    "    # Actually get data\n",
    "    data = requests.get(API_URL, params = parameters, headers = {\"content-type\":\"application/json\"})\n",
    "    df = pd.DataFrame(data.json(), columns=[\"time\", \"low\", \"high\", \"open\", \"close\", \"volume\"])\n",
    "    return df\n",
    "\n",
    "\n",
    "def retrieveIndexData(ticker):\n",
    "    # Define date range\n",
    "    startDate = \"2009-01-01\"\n",
    "    endDate = \"2020-08-05\"\n",
    "\n",
    "    ohlcData = {}\n",
    "    try:\n",
    "        stockData = yf.download(ticker, start=startDate, end=endDate)\n",
    "        ohlcData[ticker] = stockData[[\"Low\", \"High\", \"Open\", \"Close\", \"Volume\"]]\n",
    "    except Exception as e:\n",
    "        print(f\"Error fetching data for {ticker}: {e}\")\n",
    "\n",
    "    dfOhlc = pd.concat(ohlcData, axis=1)\n",
    "    return dfOhlc\n",
    "\n",
    "\n",
    "dataframes = dict()\n",
    "RETRIEVE_DATA = False\n",
    "\n",
    "if RETRIEVE_DATA:\n",
    "    for productId in productIds:\n",
    "        if CRYPTO:\n",
    "            # Fetch PERIODS_WANTED periods of data\n",
    "            end = (datetime.now()).isoformat()\n",
    "            for batch in range(PERIODS_WANTED // API_THRESHOLD  + 1):\n",
    "                amountToFetch = PERIODS_WANTED % API_THRESHOLD if batch == PERIODS_WANTED // API_THRESHOLD else API_THRESHOLD\n",
    "                tempDF = retrieveCryptoData(productId, granularity, amountToFetch, end)\n",
    "                timeInSeconds = (tempDF['time'].values)[-1]\n",
    "                dt = datetime.fromtimestamp(timeInSeconds - granularity)\n",
    "                end = dt.isoformat() + 'Z'\n",
    "                value = dataframes.get(productId)\n",
    "                if productId not in dataframes:\n",
    "                    dataframes[productId] = tempDF[::-1]\n",
    "                else:\n",
    "                    dataframes[productId] = pd.concat([tempDF[::-1], dataframes[productId]])\n",
    "        else:\n",
    "            dataframe = retrieveIndexData(ticker=productId)\n",
    "            columnNames = [value[1].lower() for value in list(dataframe.columns.values)]\n",
    "            dataframe.columns = columnNames\n",
    "            dataframes[productId] = dataframe\n",
    "   \n",
    "# Required for index data that pull stock data from different exchanges\n",
    "def commonaliseData(data):\n",
    "    commonDates = reduce(lambda x, y: x.intersection(y), [df.index for df in data.values()])\n",
    "    for ticker, df in data.items():\n",
    "        data[ticker] = df.reindex(commonDates)\n",
    "        data[ticker][\"Times\"] = commonDates\n",
    "    data = {ticker: df.dropna() for ticker, df in data.items()}\n",
    "    PERIODS_WANTED = data.get(indexProducts[0]).shape[0]\n",
    "    return data\n",
    "\n",
    "if not CRYPTO and RETRIEVE_DATA:\n",
    "    dataframes = commonaliseData(dataframes)"
   ]
  },
  {
   "cell_type": "code",
   "execution_count": 24,
   "metadata": {},
   "outputs": [],
   "source": [
    "TEST_CORRECT_ORDER = False\n",
    "\n",
    "if TEST_CORRECT_ORDER:\n",
    "    testTime = dataframes[productIds[0]]['time'].values\n",
    "    testTime -= testTime[0]\n",
    "    plt.figure(figsize=(10, 6))\n",
    "    plt.plot(testTime, color=\"blue\")\n",
    "    plt.title(f\"Test Correct Order\")\n",
    "    plt.xlabel(\"Time\")\n",
    "    plt.ylabel(\"Price\")\n",
    "    plt.show()"
   ]
  },
  {
   "cell_type": "markdown",
   "metadata": {},
   "source": [
    "## 2. Augment State Space (add indicators)"
   ]
  },
  {
   "cell_type": "markdown",
   "metadata": {},
   "source": [
    "### Indicator 1: Exponential Moving Average ###"
   ]
  },
  {
   "cell_type": "code",
   "execution_count": 25,
   "metadata": {},
   "outputs": [],
   "source": [
    "import matplotlib.pyplot as plt\n",
    "\n",
    "def EMA(array, N):\n",
    "    \"\"\"\n",
    "    EMA_t = (Price_t * α) + (EMA_(t-1) * (1 - α))\n",
    "    where:\n",
    "    EMA_t = Exponential Moving Average at time t\n",
    "    Price_t = Price at time t\n",
    "    α (alpha) = Smoothing factor, calculated as 2 / (N + 1)\n",
    "    N = Number of periods\n",
    "    \"\"\"\n",
    "    smoothingParameter = 2/(N + 1)\n",
    "    finalArray = [array[0]]\n",
    "    for i in range(1, len(array)):\n",
    "        finalArray.append(array[i] * smoothingParameter + finalArray[i-1] * (1 - smoothingParameter))\n",
    "    return np.array(finalArray)\n",
    "\n",
    "# expMA = EMA(closingPrices, t)\n",
    "# plt.figure(figsize=(10, 6))\n",
    "# plt.plot(expMA, label=f\"Exponential Moving Average: T={t}\", color=\"red\")\n",
    "# plt.plot(closingPrices, label=\"Actual Closing Prices\", color=\"blue\")\n",
    "# plt.title(f\"Price Data\")\n",
    "# plt.xlabel(\"Time\")\n",
    "# plt.ylabel(\"Price\")\n",
    "# plt.legend()\n",
    "# plt.show()"
   ]
  },
  {
   "cell_type": "markdown",
   "metadata": {},
   "source": [
    "### Indicator 2: Momemtum"
   ]
  },
  {
   "cell_type": "code",
   "execution_count": 26,
   "metadata": {},
   "outputs": [],
   "source": [
    "def Momentum(array):\n",
    "    # Percentage Change in Price/Time\n",
    "    momentumArray = [(array[i] - array[i-1]) /array[i-1] for i in range(1, len(array))]\n",
    "    momentumArray.insert(0, np.nan)\n",
    "    return np.array(momentumArray)\n",
    "\n",
    "# momentum = Momentum(closingPrices)\n",
    "# plt.figure(figsize=(10, 6))\n",
    "# plt.plot(momentum*100, color=\"green\")\n",
    "# plt.title(f\"Momentum Data (as %)\")\n",
    "# plt.xlabel(\"Time\")\n",
    "# plt.ylabel(\"Momentum\")\n",
    "# plt.legend()\n",
    "# plt.show()"
   ]
  },
  {
   "cell_type": "markdown",
   "metadata": {},
   "source": [
    "### Indicator 3: Average True Range"
   ]
  },
  {
   "cell_type": "code",
   "execution_count": 27,
   "metadata": {},
   "outputs": [],
   "source": [
    "\n",
    "def trueRange(high, low, close):\n",
    "    # TR = Max[(H - L), |H - C|, |L - C|\n",
    "    closing = np.insert(close, 0, np.nan, axis=0)[:len(close)]\n",
    "    return np.maximum(high - low, np.abs(high - closing), np.abs(low - closing))\n",
    "\n",
    "def averageTrueRange(high, low, close, n=14):\n",
    "    trueRanges = trueRange(high, low, close)\n",
    "    atr = np.empty_like(trueRanges)\n",
    "    atr[:n] = np.nan  # First n values are NaN\n",
    "    atr[n-1] = np.mean(trueRanges[:n])  # Initial ATR value (simple average of the first n TRs)\n",
    "    for i in range(n+1, len(trueRanges)):\n",
    "        atr[i] = (atr[i-1] * (n - 1) + trueRanges[i]) / n\n",
    "    return atr\n",
    "\n",
    "# aTRIndicator = averageTrueRange(highs, lows, closingPrices)\n",
    "# plt.figure(figsize=(10, 6))\n",
    "# plt.plot(aTRIndicator, color=\"Brown\")\n",
    "# plt.title(f\"Average True Range over Time\")\n",
    "# plt.xlabel(\"Time\")\n",
    "# plt.ylabel(\"Average True Range\")\n",
    "# plt.legend()\n",
    "# plt.show()"
   ]
  },
  {
   "cell_type": "markdown",
   "metadata": {},
   "source": [
    "### Indicator 4: Commodity Channel Index"
   ]
  },
  {
   "cell_type": "code",
   "execution_count": 28,
   "metadata": {},
   "outputs": [],
   "source": [
    "def commodityChannelIndex(high, low, close, n=20):\n",
    "    # (Typical Price - 20_Day Moving Average) / .015 x Mean Deviation\n",
    "    typicalPrices = (high + low + close) / 3\n",
    "    \n",
    "    movingAverage = np.full_like(high, np.nan)\n",
    "    meanDeviation = np.full_like(high, np.nan)\n",
    "    \n",
    "    for i in range(n, len(typicalPrices)):\n",
    "        movingAverage[i] = np.mean(typicalPrices[i-n:i])\n",
    "        meanDeviation[i] = np.mean(np.abs(typicalPrices[i-n:i] - movingAverage[i]))\n",
    "    \n",
    "    cci = np.full_like(high, np.nan, dtype=np.float64)\n",
    "\n",
    "    numerator = typicalPrices[n:] - movingAverage[n:]\n",
    "    denominator = 0.015 * meanDeviation[n:]\n",
    "    result = np.empty_like(numerator)\n",
    "\n",
    "    np.divide(numerator, denominator, out=result, where=(denominator != 0))\n",
    "    # a little hacky...\n",
    "    result[denominator == 0] = 0\n",
    "\n",
    "    cci[n:] = result\n",
    "    return cci\n",
    "\n",
    "# # CCI = commodityChannelIndex(highs, lows, closingPrices)\n",
    "# # plt.figure(figsize=(10, 6))\n",
    "# # plt.plot(CCI, color=\"black\")\n",
    "# # plt.title(f\"Commodity Channel Index over Time\")\n",
    "# # plt.xlabel(\"Time\")\n",
    "# # plt.ylabel(\"Commodity Channel Index\")\n",
    "# # plt.legend()\n",
    "# # plt.show()"
   ]
  },
  {
   "cell_type": "markdown",
   "metadata": {},
   "source": [
    "### Indicator 5: MACD"
   ]
  },
  {
   "cell_type": "code",
   "execution_count": 29,
   "metadata": {},
   "outputs": [],
   "source": [
    "\"\"\"\n",
    "MACD = 12-day EMA - 26-day EMA\n",
    "Signal Line = 9-day EMA of MACD\n",
    "MACD Histogram = MACD - Signal Line\n",
    "where EMA stands for Exponential Moving Average\n",
    "\"\"\"\n",
    "\n",
    "def MACD(array):\n",
    "    return EMA(array, 12) - EMA(array, 26)\n",
    "\n",
    "def MACDSignal(array):\n",
    "    return EMA(MACD(array), 9)\n",
    "\n",
    "MACDHistogram = lambda x : MACD(x) - MACDSignal(x)\n",
    "\n",
    "# mACD = MACD(closingPrices)\n",
    "# signalLine = MACDSignal(closingPrices)\n",
    "# macdHistogram = MACDHistogram(mACD, signalLine)\n",
    "\n",
    "# plt.figure(figsize=(10, 6))\n",
    "# plt.plot(mACD, color=\"blue\", label = \"MACD Line\")\n",
    "# plt.plot(signalLine, color = \"red\", label = \"Signal Line\")\n",
    "# plt.plot(macdHistogram, color = \"black\", label = \"Histogram\")\n",
    "# plt.title(f\"Moving Average Convergence-Divergence\")\n",
    "# plt.xlabel(\"Time\")\n",
    "# plt.ylabel(\"MACD\")\n",
    "# plt.legend()\n",
    "# plt.show()"
   ]
  },
  {
   "cell_type": "markdown",
   "metadata": {},
   "source": [
    "## 3. Collate All Features Into DataFrame"
   ]
  },
  {
   "cell_type": "code",
   "execution_count": 30,
   "metadata": {},
   "outputs": [],
   "source": [
    "import os\n",
    "\n",
    "CCI_T, ATR_T = 20, 14\n",
    "if RETRIEVE_DATA:\n",
    "    for product in productIds:\n",
    "        df = dataframes[product]\n",
    "        close = df[\"close\"].values\n",
    "        highs = df[\"high\"].values\n",
    "        lows = df[\"low\"].values\n",
    "        df['E_M_A'] = EMA(close, N=30)\n",
    "        df['Momentum'] = Momentum(close)\n",
    "        df['Av_True_Range'] = averageTrueRange(highs, lows, close, 14)\n",
    "        df['CCI'] = commodityChannelIndex(highs, lows, close, 20)\n",
    "        df['MACDHist'] = MACDHistogram(close)\n",
    "        df[\"Return\"] = df[\"close\"].pct_change().fillna(0)\n",
    "        # Reset Indexes\n",
    "        df = df.drop(columns=['open', 'high', 'volume', 'low'])\n",
    "        df = df.iloc[max(ATR_T, CCI_T):]\n",
    "        df = df.reset_index(drop=True)\n",
    "        dataframes[product] = df\n",
    "        if not os.path.exists(\"CSVs/\"):\n",
    "            os.makedirs(\"CSVs/\")\n",
    "        df.to_csv(f\"CSVs/{product}_{period}_periods.csv\", sep='\\t')\n",
    "else:\n",
    "    for productId in productIds:\n",
    "        df = pd.read_csv(f\"CSVs/{productId}_{period}_periods.csv\", sep='\\t')\n",
    "        dataframes[productId] = df.iloc[:, 1:]  # Drops the first column\n",
    "\n",
    "times = None\n",
    "if not CRYPTO:\n",
    "    for product in productIds:\n",
    "        df = dataframes[product]\n",
    "        times = df['Times']\n",
    "        dataframes[product] = df.drop('Times', axis=1)"
   ]
  },
  {
   "cell_type": "markdown",
   "metadata": {},
   "source": [
    "## 4. Environment and Training Process"
   ]
  },
  {
   "cell_type": "markdown",
   "metadata": {},
   "source": [
    "### Comparison Strategies"
   ]
  },
  {
   "cell_type": "code",
   "execution_count": 31,
   "metadata": {},
   "outputs": [],
   "source": [
    "sse50BuyAndHold =  np.array([0] + [1/len(sse50Tickers) if i in sse50Tickers else 0 for i in productIds])\n",
    "sensexBuyAndHold = np.array([0] + [1/len(sensexTickers) if i in sensexTickers else 0 for i in productIds])\n",
    "ftse100BuyAndHold = np.array([0] + [1/len(ftse100Tickers) if i in ftse100Tickers else 0 for i in productIds])\n",
    "dowBuyAndHold = np.array([0] + [1/len(dowTickers) if i in dowTickers else 0 for i in productIds])\n",
    "buyAndHoldAll = np.array([0] + [1/(len(productIds)) for i in productIds])\n",
    "\n",
    "#Non\n",
    "NON_RL_COMPARISON_STRATEGIES = {\n",
    "    \"SSEBuyAndHold\" : sse50BuyAndHold,\n",
    "    \"SENSEXBuyAndHold\" : sensexBuyAndHold,\n",
    "    \"FTSEBuyAndHold\" : ftse100BuyAndHold,\n",
    "    \"DOWBuyAndHold\" : dowBuyAndHold,\n",
    "    \"BuyAndHoldAll\" : buyAndHoldAll\n",
    "}"
   ]
  },
  {
   "cell_type": "markdown",
   "metadata": {},
   "source": [
    "### Hyperparameters (most of them)"
   ]
  },
  {
   "cell_type": "code",
   "execution_count": 32,
   "metadata": {},
   "outputs": [],
   "source": [
    "from collections import defaultdict\n",
    "\n",
    "\n",
    "NUMBER_OF_ASSETS = len(productIds)\n",
    "NUMBER_OF_FEATURES = 1 + (len((list(dataframes.values())[0]).columns)) * len(productIds) + 1\n",
    "if not CRYPTO:\n",
    "    PERIODS_WANTED = list(dataframes.values())[0].shape[0]\n",
    "TRAINING_PERIODS = round(PERIODS_WANTED * 2 / 3)\n",
    "VALIDATION_PERIODS = (PERIODS_WANTED - TRAINING_PERIODS) // 2\n",
    "TESTING_PERIODS = VALIDATION_PERIODS\n",
    "\n",
    "\n",
    "EPISODE_LENGTH = PERIODS_WANTED // 3 \n",
    "TIMESTEP_SHIFT = EPISODE_LENGTH // 10\n",
    "TRAINING_WINDOWS = ((TRAINING_PERIODS - EPISODE_LENGTH) // TIMESTEP_SHIFT) + 1\n",
    "\n",
    "EPOCHS = 5\n",
    "TIME_WINDOW = 30\n",
    "\n",
    "START_CASH = 1000000\n",
    "LSTMHIDDENSIZE = 128\n",
    "\n",
    "BASELINE = [\"RANDOM\"]\n",
    "RL_STRATS = [\"PPOLSTM\"]\n",
    "FINAL_STRATEGIES = BASELINE + [\"SSEBuyAndHold\", \"SENSEXBuyAndHold\", \"FTSEBuyAndHold\", \"DOWBuyAndHold\", \"BuyAndHoldAll\"]\n",
    "\n",
    "AGENT_RISK_AVERSIONS = np.array([0.25, 0.5, 1, 1.5, 2]) #i know, this probably shouldn't go here\n",
    "LSTMOUTPUTSIZES = [64, 128, 256, 512, 1024]\n",
    "REWARD_FUNCTIONS = [\"Differential Sharpe Ratio_0.01\", \"Differential Sharpe Ratio_0.05\", \"Differential Sharpe Ratio_0.1\"]\n",
    "LEARNING_RATES = [1e-4, 3e-4, 5e-4, 7e-4]\n",
    "LEARNING_FREQUENCIES = (TRAINING_PERIODS / np.array([10, 20, 30, 40, 50])).astype(int)\n",
    "\n",
    "RANDOM_REPEATS = 200\n",
    "\n",
    "\n",
    "averagePerformance = defaultdict(list)\n",
    "allResults = defaultdict(list)\n",
    "performances = defaultdict(list) # one of these is probably obsolete"
   ]
  },
  {
   "cell_type": "code",
   "execution_count": null,
   "metadata": {},
   "outputs": [],
   "source": [
    "#this code is an eyesore but i was on a time crunch\n",
    "PRICE_TRAINING_DATA = {}\n",
    "AGENT_TRAINING_DATA = {}\n",
    "\n",
    "PRICE_VALIDATION_DATA = {}\n",
    "AGENT_VALIDATION_DATA = {}\n",
    "\n",
    "PRICE_TESTING_DATA = {}\n",
    "AGENT_TESTING_DATA = {}\n",
    "\n",
    "for key, df in dataframes.items():\n",
    "    trainSlice = df.iloc[:TRAINING_PERIODS].copy()\n",
    "    validationSlice = df.iloc[TRAINING_PERIODS:TRAINING_PERIODS+VALIDATION_PERIODS].copy()\n",
    "    testSlice = df.iloc[TRAINING_PERIODS+VALIDATION_PERIODS:].copy()\n",
    "\n",
    "    PRICE_TRAINING_DATA[key] = trainSlice[\"Return\"].values\n",
    "    PRICE_VALIDATION_DATA[key] = validationSlice[\"Return\"].values\n",
    "    PRICE_TESTING_DATA[key]  = testSlice[\"Return\"].values\n",
    "\n",
    "    AGENT_TRAINING_DATA[key] = (trainSlice - trainSlice.mean()) / trainSlice.std()\n",
    "    AGENT_VALIDATION_DATA[key] = (validationSlice - validationSlice.mean()) / validationSlice.std()\n",
    "    AGENT_TESTING_DATA[key]  = (testSlice - testSlice.mean()) / testSlice.std()\n",
    "\n",
    "PRICE_TRAINING_DATA = pd.DataFrame(PRICE_TRAINING_DATA)\n",
    "PRICE_VALIDATION_DATA = pd.DataFrame(PRICE_VALIDATION_DATA)\n",
    "PRICE_TESTING_DATA = pd.DataFrame(PRICE_TESTING_DATA)"
   ]
  },
  {
   "cell_type": "code",
   "execution_count": 34,
   "metadata": {},
   "outputs": [],
   "source": [
    "# Thing being tested\n",
    "TESTING = {\n",
    "    \"RISK AVERSION\" : False,\n",
    "    \"LSTM OUTPUT SIZE\" : False,\n",
    "    \"REWARD FUNCTION\" : False,\n",
    "    \"LEARNING FREQUENCY\": False, \n",
    "    \"LEARNING RATE\": False,\n",
    "}"
   ]
  },
  {
   "cell_type": "markdown",
   "metadata": {},
   "source": [
    "#### Some helper functions for metrics"
   ]
  },
  {
   "cell_type": "code",
   "execution_count": 35,
   "metadata": {},
   "outputs": [],
   "source": [
    "from utils import tabulate_neatly\n",
    "\n",
    "def printConfiguration(agent=None, freq=None):\n",
    "    table = [[\"LSTM Hidden Size\", \"LSTM Output Size\", \"Learning Frequency\", \"Agent Risk Aversion\"]]\n",
    "    table.append([LSTMHIDDENSIZE, agent.state_n, freq, agent.riskAversion])\n",
    "    tabulate_neatly(table, headers=\"firstrow\", title=f\"Configuration:\")\n",
    "\n",
    "def plotAllocations(allocations, title=None):\n",
    "    categories = ['Cash'] + productIds\n",
    "    plt.figure(figsize=(20,5))\n",
    "    plt.bar(categories, allocations)\n",
    "    plt.xlabel('Allocations')\n",
    "    plt.tick_params(axis='x', labelsize=6)\n",
    "    plt.ylabel('Proportion Allocated')\n",
    "    plt.title('Allocations' if title == None else title)\n",
    "    plt.show()\n",
    "\n",
    "def generateConfigLabel(strategy, agent, rewardFunction, freq, lr):\n",
    "    firstTag = f\"Strategy-{strategy}\" \n",
    "    innerTag = None\n",
    "    boole = (strategy not in NON_RL_COMPARISON_STRATEGIES.keys() and strategy != \"RANDOM\")\n",
    "    if TESTING[\"RISK AVERSION\"]:\n",
    "        innerTag = (f\"Risk Aversion-{agent.riskAversion}\" if boole else \"\")\n",
    "    elif TESTING[\"LSTM OUTPUT SIZE\"]:\n",
    "        innerTag = (f\"LSTM Output Size-{agent.state_n}\" if boole else \"\")\n",
    "    elif TESTING[\"REWARD FUNCTION\"]:  \n",
    "        innerTag = (f\"Reward Function-{rewardFunction}\" if boole else \"\")\n",
    "    elif TESTING[\"LEARNING FREQUENCY\"]:  \n",
    "        innerTag = (f\"Learning Frequency-{freq}\" if boole else \"\")\n",
    "    elif TESTING[\"LEARNING RATE\"]:  \n",
    "        innerTag = (f\"Learning Rate-{lr}\" if boole else \"\")\n",
    "    \n",
    "    if any(TESTING.values()) and boole:\n",
    "        firstTag, innerTag = innerTag, firstTag\n",
    "    return firstTag + \" | \" +  innerTag + \" | \"\n"
   ]
  },
  {
   "cell_type": "markdown",
   "metadata": {},
   "source": [
    "### Actual Training"
   ]
  },
  {
   "cell_type": "code",
   "execution_count": 36,
   "metadata": {},
   "outputs": [],
   "source": [
    "from PPO import PPOAgent\n",
    "\n",
    "def generateAgent(lstmOutputSize, riskAversion, lr, featureExtractor):\n",
    "        return PPOAgent( \n",
    "                        state_n=lstmOutputSize, \n",
    "                        actions_n=len(productIds) + 1,\n",
    "                        alpha=lr,\n",
    "                        policyClip = 0.2,\n",
    "                        gamma=0.99,\n",
    "                        lstmHiddenSize=LSTMHIDDENSIZE,\n",
    "                        actor_noise=0,\n",
    "                        batch_size=512,\n",
    "                        fc1_n=128,\n",
    "                        fc2_n=128,\n",
    "                        gaeLambda=0.98,\n",
    "                        epochs=10,\n",
    "                        riskAversion=riskAversion,\n",
    "                        featureExtractor = featureExtractor\n",
    "                    )"
   ]
  },
  {
   "cell_type": "code",
   "execution_count": 43,
   "metadata": {},
   "outputs": [],
   "source": [
    "from TimeSeriesEnvironment import TimeSeriesEnvironment\n",
    "from scipy.special import softmax\n",
    "import torch\n",
    "\n",
    "def storeExperiences(agent, data, reward, done, strategy, action, prob, val):\n",
    "    if strategy == \"PPOLSTM\":\n",
    "        agent.store(data, action, prob.squeeze(), val.squeeze(), reward, done)\n",
    "\n",
    "\n",
    "def warmUpEnvironment(environment, rewardFunction):\n",
    "    \"\"\"\n",
    "    'warm up' environment until there's enough data to estimate CVaR\n",
    "    \"\"\"\n",
    "    for _ in range(TIME_WINDOW):\n",
    "        action = np.random.dirichlet(np.ones(len(productIds) + 1))\n",
    "        environment.step(softmax(action), rewardMethod=rewardFunction)\n",
    "    environment.setIsReady(True)\n",
    "\n",
    "\n",
    "def evaluateAgent(riskAversion, rewardFunction, agent, freq, lr, num, conf=None, save=True, dataType = \"validation\"):\n",
    "    VAL_AND_TEST = {\n",
    "        \"validation\": [PRICE_VALIDATION_DATA, AGENT_VALIDATION_DATA, VALIDATION_PERIODS],\n",
    "        \"testing\": [PRICE_TESTING_DATA, AGENT_TESTING_DATA, TESTING_PERIODS]\n",
    "    }\n",
    "    torch.manual_seed(num)\n",
    "    np.random.seed(num)\n",
    "    for strategy in BASELINE + RL_STRATS:\n",
    "        env = TimeSeriesEnvironment(VAL_AND_TEST[dataType][0], VAL_AND_TEST[dataType][1], TIME_WINDOW, VAL_AND_TEST[dataType][2], START_CASH, riskAversion, 2.5e-4)\n",
    "        env.reset()\n",
    "        done = False\n",
    "        while not done:\n",
    "            if not env.getIsReady():\n",
    "                warmUpEnvironment(env, rewardFunction)\n",
    "            observation = None\n",
    "            if strategy in RL_STRATS:\n",
    "                data = env.getData()\n",
    "                observation = agent.featureExtractor.forward(torch.tensor(data, dtype=torch.float32).unsqueeze(0))\n",
    "            if strategy == \"RANDOM\":\n",
    "                action = np.random.dirichlet(np.ones(len(productIds) + 1))\n",
    "            elif strategy in NON_RL_COMPARISON_STRATEGIES:\n",
    "                action = NON_RL_COMPARISON_STRATEGIES.get(strategy)\n",
    "            else: \n",
    "                if strategy == \"PPOLSTM\":\n",
    "                    action, _, __ = agent.select_action(observation, sampling= False)\n",
    "\n",
    "            finalAction = (\n",
    "                softmax([0] + action) if strategy in NON_RL_COMPARISON_STRATEGIES else action\n",
    "            )\n",
    "            next, reward, done, _, info = env.step(finalAction, rewardFunction)                    \n",
    "        dataString = None\n",
    "        if conf == None or strategy == \"RANDOM\":\n",
    "            dataString = generateConfigLabel(strategy, agent, rewardFunction, freq, lr)\n",
    "        else:\n",
    "            dataString = conf\n",
    "        averagePerformance[dataString].append(env.PORTFOLIO_VALUES)\n",
    "        metrics = env.getMetrics()\n",
    "        allResults[dataString].append(metrics)\n",
    "        table = [metrics.keys()]\n",
    "        table.append(metrics.values())\n",
    "        tabulate_neatly(table, headers=\"firstrow\", title=f\"Evaluation: {num} | {dataString}\")\n",
    "        # if strategy not in NON_RL_COMPARISON_STRATEGIES.keys() and strategy != \"RANDOM\":\n",
    "        #nice but take up way too much space...\n",
    "        # printConfiguration(agent, freq)\n",
    "        # plotAllocations([0] + action if strategy in NON_RL_COMPARISON_STRATEGIES.keys() else softmax(action), \"Final Allocations\")\n",
    "        portFolder = f\"portfolios/{dataType}/{num}/\"\n",
    "        if not os.path.exists(portFolder):\n",
    "            os.makedirs(portFolder)\n",
    "        np.savetxt(f\"{portFolder}{(dataString.split(\"|\")[0]).strip()}.txt\", env.PORTFOLIO_VALUES, fmt='%f')\n",
    "        if (strategy in RL_STRATS) and save:\n",
    "            # if model.perform() #some \"scoreperformance stuff\"\n",
    "            saveFolder = f\"save/{num}/{(dataString.split(\"|\")[0]).strip()}/\"\n",
    "            # Ensure the child save directory exists\n",
    "            if not os.path.exists(saveFolder):\n",
    "                os.makedirs(saveFolder)\n",
    "            agent.save(saveFolder)  \n",
    "            "
   ]
  },
  {
   "cell_type": "code",
   "execution_count": 38,
   "metadata": {},
   "outputs": [],
   "source": [
    "from PPO import PPOAgent\n",
    "from LstmFeatureExtractor import LstmFeatureExtractor\n",
    "from scipy.special import softmax\n",
    "import numpy as np\n",
    "\n",
    "def initialiseTrainingEnvironment(episode, rewardFunction, riskAversion):\n",
    "    start = TIMESTEP_SHIFT * episode\n",
    "    normalisedData = dict()\n",
    "    for key in PRICE_TRAINING_DATA.keys():\n",
    "        end = min(start+EPISODE_LENGTH, len(PRICE_TRAINING_DATA[key]))\n",
    "        normalisedData[key] = AGENT_TRAINING_DATA[key].iloc[start:end]\n",
    "        normalisedData[key].reset_index(drop=True, inplace=True)\n",
    "    env = TimeSeriesEnvironment(PRICE_TRAINING_DATA.iloc[start:end], normalisedData, TIME_WINDOW, EPISODE_LENGTH, START_CASH, riskAversion, 2.5e-4)\n",
    "    if \"Differential\" in rewardFunction:\n",
    "        decay = float(rewardFunction.split(\"_\")[1])\n",
    "        env.decayRate = decay\n",
    "    return env\n",
    "\n",
    "def trainingLoop(riskAversion=0, lstmOutputSize=512, rewardFunction=\"CVaR\", freq=int(EPISODE_LENGTH / 25), lr=3e-4, conf = None):\n",
    "    featureExtractor = LstmFeatureExtractor(TIME_WINDOW, NUMBER_OF_FEATURES, 128, lstmOutputSize)\n",
    "    agent = generateAgent(lstmOutputSize, riskAversion, lr, featureExtractor)\n",
    "    numberRun=0\n",
    "    startTime = time.time()\n",
    "    for epoch in range(EPOCHS):\n",
    "        if epoch > 0:\n",
    "            print(f\"{epoch} Epochs takes: {(time.time() - startTime):.2f} seconds\")\n",
    "        torch.manual_seed(epoch)\n",
    "        np.random.seed(epoch)\n",
    "        for strategy in RL_STRATS:\n",
    "            for episode in range(TRAINING_WINDOWS):\n",
    "                env = initialiseTrainingEnvironment(episode, rewardFunction, riskAversion)\n",
    "                env.reset()\n",
    "                done = False\n",
    "                while not done:\n",
    "                    if not env.getIsReady():\n",
    "                        warmUpEnvironment(env, rewardFunction)\n",
    "                        continue\n",
    "                    observation = None\n",
    "                    data = env.getData()\n",
    "                    observation = featureExtractor.forward(torch.tensor(data, dtype=torch.float32).unsqueeze(0))\n",
    "                    probabilities, valuation = None, None\n",
    "                    if strategy == \"PPOLSTM\":\n",
    "                        action, probabilities, valuation = agent.select_action(observation)\n",
    "                    next, reward, done, _, info = env.step(action, rewardFunction)                    \n",
    "                    if strategy in RL_STRATS:\n",
    "                        storeExperiences(agent, data, reward, done, strategy, action, probabilities, valuation)\n",
    "                        if (env.timeStep % freq) == 0:\n",
    "                            agent.train()\n",
    "                    if done:\n",
    "                        numberRun += 1\n",
    "                        if numberRun % TRAINING_WINDOWS == 0:\n",
    "                            evaluateAgent(riskAversion, rewardFunction, agent, freq, lr, numberRun, conf)\n",
    "                        "
   ]
  },
  {
   "cell_type": "markdown",
   "metadata": {},
   "source": [
    "### Visualise Performance ###"
   ]
  },
  {
   "cell_type": "code",
   "execution_count": 39,
   "metadata": {},
   "outputs": [],
   "source": [
    "def plotPerformance(test, final=\"\"):\n",
    "    plt.figure(figsize=(12,6))\n",
    "    name = f\"Returns_\" \n",
    "    portfolioFolder = f\"portfolios/Test-{test+final}/\"+ datetime.now().strftime(\"%Y-%m-%d\") + \"/\"\n",
    "    plotsFolder = f\"plots/Test-{test+final}/\"+ datetime.now().strftime(\"%Y-%m-%d\") + \"/\"\n",
    "    if not os.path.exists(portfolioFolder):\n",
    "        os.makedirs(portfolioFolder)\n",
    "    if not os.path.exists(plotsFolder):\n",
    "        os.makedirs(plotsFolder)\n",
    "    for k, v in averagePerformance.items():\n",
    "        if final == \"\":\n",
    "            if test.lower() in k.lower() or \"RANDOM\" in k: # i wrote this at 12am forgive me\n",
    "                shouldBeSkipped = False\n",
    "            else:\n",
    "                shouldBeSkipped = True\n",
    "            for value in list(NON_RL_COMPARISON_STRATEGIES.keys())[:-1]:\n",
    "                if value in k:\n",
    "                    shouldBeSkipped = True # only need to compare with buy and hold for now\n",
    "            if shouldBeSkipped:\n",
    "                continue \n",
    "        try:\n",
    "            x = np.array(v)\n",
    "            x = np.mean(v, axis=0)\n",
    "            v = x\n",
    "        except ValueError:\n",
    "            maxLength = max(len(arr) for arr in v)\n",
    "            result = []\n",
    "            for i in range(maxLength):\n",
    "                values = [arr[i] for arr in v if i < len(arr)]\n",
    "                mean_value = np.mean(values)\n",
    "                result.append(mean_value)\n",
    "            v = result\n",
    "        l = k.split(\"|\")[0]\n",
    "        array = np.insert(v, 0, START_CASH)\n",
    "        plt.plot(array, label=l)\n",
    "        np.savetxt(f\"{portfolioFolder}{name}{l}.txt\", array, fmt='%f')\n",
    "        plt.title(f\"Returns over Time. Testing: {test}\")\n",
    "        plt.xlabel(\"Time\")\n",
    "        plt.ylabel(\"Mean Returns\")\n",
    "        plt.legend()\n",
    "        # plt.savefig(f\"{plotsFolder}{name}\")\n",
    "        plt.show()\n",
    "\n"
   ]
  },
  {
   "cell_type": "markdown",
   "metadata": {},
   "source": [
    "### Tabulate Results"
   ]
  },
  {
   "cell_type": "code",
   "execution_count": 40,
   "metadata": {},
   "outputs": [],
   "source": [
    "def tabulateResults():\n",
    "    for k, v in allResults.items():\n",
    "        table = [list(v[0].keys()) + [\"Standard Deviation\"]] \n",
    "        meanReturns, meanPB, meanSR, timeSteps = 0, 0, 0, 0\n",
    "        deviations = []\n",
    "        for resultSet in v:\n",
    "            meanReturns += resultSet[\"Cumulative \\nReturn (%)\"]\n",
    "            deviations.append(resultSet[\"Cumulative \\nReturn (%)\"])\n",
    "            meanPB += resultSet[\"Maximum \\nPullback (%)\"]\n",
    "            meanSR += resultSet[\"Sharpe Ratio\"]\n",
    "            timeSteps += resultSet[\"Total Timesteps\"]\n",
    "        array = [meanReturns, meanPB, meanSR, timeSteps, np.std(deviations)]\n",
    "        array = [i/len(v) for i in array]\n",
    "        table.append(array)\n",
    "        tabulate_neatly(table, headers=\"firstrow\", title=f\"MEAN RESULTS FOR: \" + k)"
   ]
  },
  {
   "cell_type": "markdown",
   "metadata": {},
   "source": [
    "#### Training"
   ]
  },
  {
   "cell_type": "code",
   "execution_count": 41,
   "metadata": {},
   "outputs": [],
   "source": [
    "def sweep():\n",
    "    for testType, active in TESTING.items():\n",
    "        if active:\n",
    "            print(f\"TESTING {testType.replace('_', ' ').upper()}\")\n",
    "            testLoops = {\n",
    "                \"RISK AVERSION\": lambda: [\n",
    "                    trainingLoop(riskAversion=risk) for risk in AGENT_RISK_AVERSIONS\n",
    "                ],\n",
    "                \"LSTM OUTPUT SIZE\": lambda: [\n",
    "                    trainingLoop(lstmOutputSize=size) for size in LSTMOUTPUTSIZES\n",
    "                ],\n",
    "                \"REWARD FUNCTION\": lambda: [\n",
    "                    trainingLoop(\n",
    "                        riskAversion=0, rewardFunction=r\n",
    "                    )\n",
    "                    for r in REWARD_FUNCTIONS\n",
    "                ],\n",
    "                \"LEARNING FREQUENCY\": lambda: [\n",
    "                    trainingLoop(freq=fr) for fr in LEARNING_FREQUENCIES\n",
    "                ],\n",
    "                \"LEARNING RATE\": lambda: [\n",
    "                    trainingLoop(lr=learn) for learn in LEARNING_RATES\n",
    "                ],\n",
    "            }\n",
    "            \n",
    "            testLoops[testType]()\n",
    "            break \n",
    "\n",
    "\n",
    "def hyperSweep():\n",
    "    for key in TESTING.keys():\n",
    "        print(\"=\" * 50)\n",
    "        TESTING[key] = True\n",
    "        sweep()\n",
    "        TESTING[key] = False\n",
    "        print(\"=\" * 50)\n",
    "    tabulateResults()\n",
    "\n",
    "TRAIN = False\n",
    "# Run the sweep\n",
    "if TRAIN:\n",
    "    hyperSweep()"
   ]
  },
  {
   "cell_type": "markdown",
   "metadata": {},
   "source": [
    "#### Evaluation"
   ]
  },
  {
   "cell_type": "code",
   "execution_count": 45,
   "metadata": {},
   "outputs": [],
   "source": [
    "HYPERS = {\n",
    "    \"Risk Aversion\" : AGENT_RISK_AVERSIONS,\n",
    "    \"LSTM Output Size\" : LSTMOUTPUTSIZES,\n",
    "    \"Reward Function\" : REWARD_FUNCTIONS,\n",
    "    \"Learning Frequency\": LEARNING_FREQUENCIES, \n",
    "    \"Learning Rate\": LEARNING_RATES,\n",
    "    }\n",
    "\n",
    "def initAgent(lstmOutputSize, lr, riskAversion):\n",
    "    agent = PPOAgent( \n",
    "            state_n=lstmOutputSize, \n",
    "            actions_n=len(productIds) + 1,\n",
    "            alpha=lr,\n",
    "            policyClip = 0.2,\n",
    "            gamma=0.99,\n",
    "            lstmHiddenSize=LSTMHIDDENSIZE,\n",
    "            actor_noise=0,\n",
    "            batch_size=512,\n",
    "            fc1_n=128,\n",
    "            fc2_n=128,\n",
    "            gaeLambda=0.98,\n",
    "            epochs=10,\n",
    "            riskAversion=riskAversion,\n",
    "            featureExtractor = LstmFeatureExtractor(TIME_WINDOW, NUMBER_OF_FEATURES, 128, lstmOutputSize)\n",
    "                )\n",
    "    return agent\n",
    "\n",
    "def setParameters(parameter, hyper, riskAversion, lstmOutputSize):\n",
    "    agent = None\n",
    "    rf = \"Standard Logarithmic Returns\"\n",
    "    freq = int(EPISODE_LENGTH / 25)\n",
    "    risk = parameter if hyper == \"Risk Aversion\" else riskAversion\n",
    "    if hyper == \"Risk Aversion\" or hyper == \"Learning Frequency\" or hyper == \"Reward Function\":\n",
    "        agent = initAgent(lstmOutputSize, lr, risk)\n",
    "    elif hyper == \"LSTM Output Size\":\n",
    "        agent = initAgent(parameter, lr, risk)\n",
    "    else:\n",
    "        agent = initAgent(lstmOutputSize, parameter, risk)\n",
    "    if hyper == \"Reward Function\":\n",
    "        rf = parameter\n",
    "    if hyper == \"Learning Rate\":\n",
    "        lr = parameter\n",
    "    if hyper == \"Learning Frequency\":\n",
    "        freq = parameter\n",
    "    return rf, freq, risk, agent\n",
    "\n",
    "def runSavedAgents(lstmOutputSize = 512, riskAversion=0, lr=3e-4):\n",
    "    for hyper, param in HYPERS.items():\n",
    "        TESTING[hyper.upper()] = True\n",
    "        for epoch in range(1, EPOCHS + 1):\n",
    "            for parameter in param:\n",
    "                saveFolder = f\"save/{epoch * TRAINING_WINDOWS}/{hyper}-{parameter}/\"\n",
    "                setParameters(hyper, parameter, riskAversion, lstmOutputSize)\n",
    "                rf, freq, risk, agent = setParameters(hyper, parameter, riskAversion, lstmOutputSize)\n",
    "                agent.load(saveFolder)\n",
    "                evaluateAgent(risk, rf, agent, freq, lr=lr, num=epoch * TRAINING_WINDOWS, conf=None, save=False) # ignore standard log - agent is not learning here\n",
    "        TESTING[hyper.upper()] = False\n",
    "                \n",
    "RUN_SAVED_TRAINED_AGENTS = False                \n",
    "\n",
    "if RUN_SAVED_TRAINED_AGENTS:\n",
    "    runSavedAgents()\n",
    "        "
   ]
  },
  {
   "cell_type": "code",
   "execution_count": 60,
   "metadata": {},
   "outputs": [
    {
     "name": "stdout",
     "output_type": "stream",
     "text": [
      "Epoch 1 | Best Hyperparameter:  Risk Aversion-0.5\n",
      "Epoch 1 | Best Score:  0.3658317644556291\n"
     ]
    },
    {
     "data": {
      "text/html": [
       "<h3>Epoch: 1 | Scores and Metrics Tabulated</h3>\n"
      ]
     },
     "metadata": {},
     "output_type": "display_data"
    },
    {
     "data": {
      "text/html": [
       "<table>\n",
       "<thead>\n",
       "<tr><th>Hyperparameter    </th><th style=\"text-align: right;\">        Cumulative \n",
       "Return (%)</th><th style=\"text-align: right;\">        Maximum \n",
       "Pullback (%)</th><th style=\"text-align: right;\">  Sharpe Ratio</th><th style=\"text-align: right;\">  Score</th></tr>\n",
       "</thead>\n",
       "<tbody>\n",
       "<tr><td>Risk Aversion-0.25</td><td style=\"text-align: right;\">32.2634</td><td style=\"text-align: right;\">10.5483</td><td style=\"text-align: right;\">        0.1195</td><td style=\"text-align: right;\"> 0.1333</td></tr>\n",
       "<tr><td>Risk Aversion-0.5 </td><td style=\"text-align: right;\">41.3805</td><td style=\"text-align: right;\"> 7.9835</td><td style=\"text-align: right;\">        0.1399</td><td style=\"text-align: right;\"> 0.3658</td></tr>\n",
       "<tr><td>Risk Aversion-1.0 </td><td style=\"text-align: right;\">40.7052</td><td style=\"text-align: right;\">10.0026</td><td style=\"text-align: right;\">        0.1317</td><td style=\"text-align: right;\"> 0.2661</td></tr>\n",
       "<tr><td>Risk Aversion-1.5 </td><td style=\"text-align: right;\">27.055 </td><td style=\"text-align: right;\">10.7857</td><td style=\"text-align: right;\">        0.0979</td><td style=\"text-align: right;\"> 0.0595</td></tr>\n",
       "<tr><td>Risk Aversion-2.0 </td><td style=\"text-align: right;\">32.9357</td><td style=\"text-align: right;\"> 9.3264</td><td style=\"text-align: right;\">        0.1147</td><td style=\"text-align: right;\"> 0.153 </td></tr>\n",
       "</tbody>\n",
       "</table>"
      ]
     },
     "metadata": {},
     "output_type": "display_data"
    },
    {
     "name": "stdout",
     "output_type": "stream",
     "text": [
      "Epoch 2 | Best Hyperparameter:  Risk Aversion-0.5\n",
      "Epoch 2 | Best Score:  0.3723012180301199\n"
     ]
    },
    {
     "data": {
      "text/html": [
       "<h3>Epoch: 2 | Scores and Metrics Tabulated</h3>\n"
      ]
     },
     "metadata": {},
     "output_type": "display_data"
    },
    {
     "data": {
      "text/html": [
       "<table>\n",
       "<thead>\n",
       "<tr><th>Hyperparameter    </th><th style=\"text-align: right;\">        Cumulative \n",
       "Return (%)</th><th style=\"text-align: right;\">        Maximum \n",
       "Pullback (%)</th><th style=\"text-align: right;\">  Sharpe Ratio</th><th style=\"text-align: right;\">  Score</th></tr>\n",
       "</thead>\n",
       "<tbody>\n",
       "<tr><td>Risk Aversion-0.25</td><td style=\"text-align: right;\">35.1023</td><td style=\"text-align: right;\"> 9.7813</td><td style=\"text-align: right;\">        0.1241</td><td style=\"text-align: right;\"> 0.1854</td></tr>\n",
       "<tr><td>Risk Aversion-0.5 </td><td style=\"text-align: right;\">42.1639</td><td style=\"text-align: right;\"> 8.18  </td><td style=\"text-align: right;\">        0.1406</td><td style=\"text-align: right;\"> 0.3723</td></tr>\n",
       "<tr><td>Risk Aversion-1.0 </td><td style=\"text-align: right;\">41.5004</td><td style=\"text-align: right;\">13.5116</td><td style=\"text-align: right;\">        0.1228</td><td style=\"text-align: right;\"> 0.1909</td></tr>\n",
       "<tr><td>Risk Aversion-1.5 </td><td style=\"text-align: right;\">31.1699</td><td style=\"text-align: right;\">11.0277</td><td style=\"text-align: right;\">        0.1184</td><td style=\"text-align: right;\"> 0.1145</td></tr>\n",
       "<tr><td>Risk Aversion-2.0 </td><td style=\"text-align: right;\">33.8372</td><td style=\"text-align: right;\">12.8221</td><td style=\"text-align: right;\">        0.0978</td><td style=\"text-align: right;\"> 0.1017</td></tr>\n",
       "</tbody>\n",
       "</table>"
      ]
     },
     "metadata": {},
     "output_type": "display_data"
    },
    {
     "name": "stdout",
     "output_type": "stream",
     "text": [
      "Epoch 3 | Best Hyperparameter:  Risk Aversion-0.5\n",
      "Epoch 3 | Best Score:  0.3236995349632139\n"
     ]
    },
    {
     "data": {
      "text/html": [
       "<h3>Epoch: 3 | Scores and Metrics Tabulated</h3>\n"
      ]
     },
     "metadata": {},
     "output_type": "display_data"
    },
    {
     "data": {
      "text/html": [
       "<table>\n",
       "<thead>\n",
       "<tr><th>Hyperparameter    </th><th style=\"text-align: right;\">        Cumulative \n",
       "Return (%)</th><th style=\"text-align: right;\">        Maximum \n",
       "Pullback (%)</th><th style=\"text-align: right;\">  Sharpe Ratio</th><th style=\"text-align: right;\">  Score</th></tr>\n",
       "</thead>\n",
       "<tbody>\n",
       "<tr><td>Risk Aversion-0.25</td><td style=\"text-align: right;\">35.9073</td><td style=\"text-align: right;\">10.1584</td><td style=\"text-align: right;\">        0.1223</td><td style=\"text-align: right;\"> 0.1856</td></tr>\n",
       "<tr><td>Risk Aversion-0.5 </td><td style=\"text-align: right;\">43.6206</td><td style=\"text-align: right;\">10.0489</td><td style=\"text-align: right;\">        0.1407</td><td style=\"text-align: right;\"> 0.3237</td></tr>\n",
       "<tr><td>Risk Aversion-1.0 </td><td style=\"text-align: right;\">38.3462</td><td style=\"text-align: right;\">11.157 </td><td style=\"text-align: right;\">        0.1184</td><td style=\"text-align: right;\"> 0.1894</td></tr>\n",
       "<tr><td>Risk Aversion-1.5 </td><td style=\"text-align: right;\">40.8556</td><td style=\"text-align: right;\">10.8983</td><td style=\"text-align: right;\">        0.1403</td><td style=\"text-align: right;\"> 0.262 </td></tr>\n",
       "<tr><td>Risk Aversion-2.0 </td><td style=\"text-align: right;\">30.7027</td><td style=\"text-align: right;\">10.1405</td><td style=\"text-align: right;\">        0.1011</td><td style=\"text-align: right;\"> 0.1018</td></tr>\n",
       "</tbody>\n",
       "</table>"
      ]
     },
     "metadata": {},
     "output_type": "display_data"
    },
    {
     "name": "stdout",
     "output_type": "stream",
     "text": [
      "Epoch 4 | Best Hyperparameter:  Risk Aversion-0.5\n",
      "Epoch 4 | Best Score:  0.2608382563845531\n"
     ]
    },
    {
     "data": {
      "text/html": [
       "<h3>Epoch: 4 | Scores and Metrics Tabulated</h3>\n"
      ]
     },
     "metadata": {},
     "output_type": "display_data"
    },
    {
     "data": {
      "text/html": [
       "<table>\n",
       "<thead>\n",
       "<tr><th>Hyperparameter    </th><th style=\"text-align: right;\">        Cumulative \n",
       "Return (%)</th><th style=\"text-align: right;\">        Maximum \n",
       "Pullback (%)</th><th style=\"text-align: right;\">  Sharpe Ratio</th><th style=\"text-align: right;\">  Score</th></tr>\n",
       "</thead>\n",
       "<tbody>\n",
       "<tr><td>Risk Aversion-0.25</td><td style=\"text-align: right;\">34.0613</td><td style=\"text-align: right;\"> 9.4251</td><td style=\"text-align: right;\">        0.1186</td><td style=\"text-align: right;\"> 0.1706</td></tr>\n",
       "<tr><td>Risk Aversion-0.5 </td><td style=\"text-align: right;\">41.602 </td><td style=\"text-align: right;\">10.3995</td><td style=\"text-align: right;\">        0.1285</td><td style=\"text-align: right;\"> 0.2608</td></tr>\n",
       "<tr><td>Risk Aversion-1.0 </td><td style=\"text-align: right;\">33.1228</td><td style=\"text-align: right;\">11.162 </td><td style=\"text-align: right;\">        0.1048</td><td style=\"text-align: right;\"> 0.1186</td></tr>\n",
       "<tr><td>Risk Aversion-1.5 </td><td style=\"text-align: right;\">41.6684</td><td style=\"text-align: right;\">11.6912</td><td style=\"text-align: right;\">        0.131 </td><td style=\"text-align: right;\"> 0.2372</td></tr>\n",
       "<tr><td>Risk Aversion-2.0 </td><td style=\"text-align: right;\">34.8964</td><td style=\"text-align: right;\"> 9.8327</td><td style=\"text-align: right;\">        0.1139</td><td style=\"text-align: right;\"> 0.1668</td></tr>\n",
       "</tbody>\n",
       "</table>"
      ]
     },
     "metadata": {},
     "output_type": "display_data"
    },
    {
     "name": "stdout",
     "output_type": "stream",
     "text": [
      "Epoch 5 | Best Hyperparameter:  Risk Aversion-0.5\n",
      "Epoch 5 | Best Score:  0.2821054021349419\n"
     ]
    },
    {
     "data": {
      "text/html": [
       "<h3>Epoch: 5 | Scores and Metrics Tabulated</h3>\n"
      ]
     },
     "metadata": {},
     "output_type": "display_data"
    },
    {
     "data": {
      "text/html": [
       "<table>\n",
       "<thead>\n",
       "<tr><th>Hyperparameter    </th><th style=\"text-align: right;\">        Cumulative \n",
       "Return (%)</th><th style=\"text-align: right;\">        Maximum \n",
       "Pullback (%)</th><th style=\"text-align: right;\">  Sharpe Ratio</th><th style=\"text-align: right;\">  Score</th></tr>\n",
       "</thead>\n",
       "<tbody>\n",
       "<tr><td>Risk Aversion-0.25</td><td style=\"text-align: right;\">33.3005</td><td style=\"text-align: right;\">10.5115</td><td style=\"text-align: right;\">        0.1149</td><td style=\"text-align: right;\"> 0.1399</td></tr>\n",
       "<tr><td>Risk Aversion-0.5 </td><td style=\"text-align: right;\">40.7942</td><td style=\"text-align: right;\"> 9.0947</td><td style=\"text-align: right;\">        0.1264</td><td style=\"text-align: right;\"> 0.2821</td></tr>\n",
       "<tr><td>Risk Aversion-1.0 </td><td style=\"text-align: right;\">28.5841</td><td style=\"text-align: right;\">13.0881</td><td style=\"text-align: right;\">        0.0862</td><td style=\"text-align: right;\"> 0.0532</td></tr>\n",
       "<tr><td>Risk Aversion-1.5 </td><td style=\"text-align: right;\">33.5075</td><td style=\"text-align: right;\">11.154 </td><td style=\"text-align: right;\">        0.1202</td><td style=\"text-align: right;\"> 0.1402</td></tr>\n",
       "<tr><td>Risk Aversion-2.0 </td><td style=\"text-align: right;\">29.6455</td><td style=\"text-align: right;\">11.1711</td><td style=\"text-align: right;\">        0.0987</td><td style=\"text-align: right;\"> 0.0809</td></tr>\n",
       "</tbody>\n",
       "</table>"
      ]
     },
     "metadata": {},
     "output_type": "display_data"
    },
    {
     "data": {
      "text/html": [
       "<h3>Best Hyperparameters: Risk Aversion</h3>\n"
      ]
     },
     "metadata": {},
     "output_type": "display_data"
    },
    {
     "data": {
      "text/html": [
       "<table>\n",
       "<thead>\n",
       "<tr><th>Hyperparameter    </th><th style=\"text-align: right;\">  Epoch</th><th style=\"text-align: right;\">   Score</th></tr>\n",
       "</thead>\n",
       "<tbody>\n",
       "<tr><td>Risk Aversion-0.25</td><td style=\"text-align: right;\">      3</td><td style=\"text-align: right;\">0.185553</td></tr>\n",
       "<tr><td>Risk Aversion-0.5 </td><td style=\"text-align: right;\">      2</td><td style=\"text-align: right;\">0.372301</td></tr>\n",
       "<tr><td>Risk Aversion-1.0 </td><td style=\"text-align: right;\">      1</td><td style=\"text-align: right;\">0.266118</td></tr>\n",
       "<tr><td>Risk Aversion-1.5 </td><td style=\"text-align: right;\">      3</td><td style=\"text-align: right;\">0.262041</td></tr>\n",
       "<tr><td>Risk Aversion-2.0 </td><td style=\"text-align: right;\">      4</td><td style=\"text-align: right;\">0.166842</td></tr>\n",
       "</tbody>\n",
       "</table>"
      ]
     },
     "metadata": {},
     "output_type": "display_data"
    },
    {
     "name": "stdout",
     "output_type": "stream",
     "text": [
      "Epoch 1 | Best Hyperparameter:  Lstm Output Size-1024\n",
      "Epoch 1 | Best Score:  0.22653603144530163\n"
     ]
    },
    {
     "data": {
      "text/html": [
       "<h3>Epoch: 1 | Scores and Metrics Tabulated</h3>\n"
      ]
     },
     "metadata": {},
     "output_type": "display_data"
    },
    {
     "data": {
      "text/html": [
       "<table>\n",
       "<thead>\n",
       "<tr><th>Hyperparameter       </th><th style=\"text-align: right;\">        Cumulative \n",
       "Return (%)</th><th style=\"text-align: right;\">        Maximum \n",
       "Pullback (%)</th><th style=\"text-align: right;\">  Sharpe Ratio</th><th style=\"text-align: right;\">  Score</th></tr>\n",
       "</thead>\n",
       "<tbody>\n",
       "<tr><td>Lstm Output Size-64  </td><td style=\"text-align: right;\">36.2767</td><td style=\"text-align: right;\"> 9.7635</td><td style=\"text-align: right;\">        0.1255</td><td style=\"text-align: right;\"> 0.2028</td></tr>\n",
       "<tr><td>Lstm Output Size-128 </td><td style=\"text-align: right;\">20.7636</td><td style=\"text-align: right;\">15.2087</td><td style=\"text-align: right;\">        0.0692</td><td style=\"text-align: right;\"> 0.0012</td></tr>\n",
       "<tr><td>Lstm Output Size-256 </td><td style=\"text-align: right;\">28.9953</td><td style=\"text-align: right;\">10.035 </td><td style=\"text-align: right;\">        0.1103</td><td style=\"text-align: right;\"> 0.0934</td></tr>\n",
       "<tr><td>Lstm Output Size-512 </td><td style=\"text-align: right;\">35.4858</td><td style=\"text-align: right;\"> 9.6758</td><td style=\"text-align: right;\">        0.1314</td><td style=\"text-align: right;\"> 0.2036</td></tr>\n",
       "<tr><td>Lstm Output Size-1024</td><td style=\"text-align: right;\">36.0177</td><td style=\"text-align: right;\"> 9.0324</td><td style=\"text-align: right;\">        0.1318</td><td style=\"text-align: right;\"> 0.2265</td></tr>\n",
       "</tbody>\n",
       "</table>"
      ]
     },
     "metadata": {},
     "output_type": "display_data"
    },
    {
     "name": "stdout",
     "output_type": "stream",
     "text": [
      "Epoch 2 | Best Hyperparameter:  Lstm Output Size-1024\n",
      "Epoch 2 | Best Score:  0.3109539205163133\n"
     ]
    },
    {
     "data": {
      "text/html": [
       "<h3>Epoch: 2 | Scores and Metrics Tabulated</h3>\n"
      ]
     },
     "metadata": {},
     "output_type": "display_data"
    },
    {
     "data": {
      "text/html": [
       "<table>\n",
       "<thead>\n",
       "<tr><th>Hyperparameter       </th><th style=\"text-align: right;\">        Cumulative \n",
       "Return (%)</th><th style=\"text-align: right;\">        Maximum \n",
       "Pullback (%)</th><th style=\"text-align: right;\">  Sharpe Ratio</th><th style=\"text-align: right;\">  Score</th></tr>\n",
       "</thead>\n",
       "<tbody>\n",
       "<tr><td>Lstm Output Size-64  </td><td style=\"text-align: right;\">40.0764</td><td style=\"text-align: right;\"> 9.8828</td><td style=\"text-align: right;\">        0.1181</td><td style=\"text-align: right;\"> 0.2339</td></tr>\n",
       "<tr><td>Lstm Output Size-128 </td><td style=\"text-align: right;\">15.9209</td><td style=\"text-align: right;\">13.6   </td><td style=\"text-align: right;\">        0.0567</td><td style=\"text-align: right;\">-0.0191</td></tr>\n",
       "<tr><td>Lstm Output Size-256 </td><td style=\"text-align: right;\">30.0271</td><td style=\"text-align: right;\"> 9.7048</td><td style=\"text-align: right;\">        0.1186</td><td style=\"text-align: right;\"> 0.1164</td></tr>\n",
       "<tr><td>Lstm Output Size-512 </td><td style=\"text-align: right;\">33.1216</td><td style=\"text-align: right;\"> 8.0255</td><td style=\"text-align: right;\">        0.1274</td><td style=\"text-align: right;\"> 0.2004</td></tr>\n",
       "<tr><td>Lstm Output Size-1024</td><td style=\"text-align: right;\">38.9804</td><td style=\"text-align: right;\"> 8.2086</td><td style=\"text-align: right;\">        0.1381</td><td style=\"text-align: right;\"> 0.311 </td></tr>\n",
       "</tbody>\n",
       "</table>"
      ]
     },
     "metadata": {},
     "output_type": "display_data"
    },
    {
     "name": "stdout",
     "output_type": "stream",
     "text": [
      "Epoch 3 | Best Hyperparameter:  Lstm Output Size-1024\n",
      "Epoch 3 | Best Score:  0.24756195806711587\n"
     ]
    },
    {
     "data": {
      "text/html": [
       "<h3>Epoch: 3 | Scores and Metrics Tabulated</h3>\n"
      ]
     },
     "metadata": {},
     "output_type": "display_data"
    },
    {
     "data": {
      "text/html": [
       "<table>\n",
       "<thead>\n",
       "<tr><th>Hyperparameter       </th><th style=\"text-align: right;\">        Cumulative \n",
       "Return (%)</th><th style=\"text-align: right;\">        Maximum \n",
       "Pullback (%)</th><th style=\"text-align: right;\">  Sharpe Ratio</th><th style=\"text-align: right;\">  Score</th></tr>\n",
       "</thead>\n",
       "<tbody>\n",
       "<tr><td>Lstm Output Size-64  </td><td style=\"text-align: right;\">41.2663</td><td style=\"text-align: right;\">10.4498</td><td style=\"text-align: right;\">        0.1196</td><td style=\"text-align: right;\"> 0.2377</td></tr>\n",
       "<tr><td>Lstm Output Size-128 </td><td style=\"text-align: right;\">22.5705</td><td style=\"text-align: right;\">14.6109</td><td style=\"text-align: right;\">        0.0732</td><td style=\"text-align: right;\"> 0.0104</td></tr>\n",
       "<tr><td>Lstm Output Size-256 </td><td style=\"text-align: right;\">31.124 </td><td style=\"text-align: right;\">10.3543</td><td style=\"text-align: right;\">        0.1175</td><td style=\"text-align: right;\"> 0.1206</td></tr>\n",
       "<tr><td>Lstm Output Size-512 </td><td style=\"text-align: right;\">30.7285</td><td style=\"text-align: right;\"> 9.0532</td><td style=\"text-align: right;\">        0.1252</td><td style=\"text-align: right;\"> 0.1415</td></tr>\n",
       "<tr><td>Lstm Output Size-1024</td><td style=\"text-align: right;\">36.7754</td><td style=\"text-align: right;\"> 8.3558</td><td style=\"text-align: right;\">        0.1271</td><td style=\"text-align: right;\"> 0.2476</td></tr>\n",
       "</tbody>\n",
       "</table>"
      ]
     },
     "metadata": {},
     "output_type": "display_data"
    },
    {
     "name": "stdout",
     "output_type": "stream",
     "text": [
      "Epoch 4 | Best Hyperparameter:  Lstm Output Size-64\n",
      "Epoch 4 | Best Score:  0.24397416482619896\n"
     ]
    },
    {
     "data": {
      "text/html": [
       "<h3>Epoch: 4 | Scores and Metrics Tabulated</h3>\n"
      ]
     },
     "metadata": {},
     "output_type": "display_data"
    },
    {
     "data": {
      "text/html": [
       "<table>\n",
       "<thead>\n",
       "<tr><th>Hyperparameter       </th><th style=\"text-align: right;\">        Cumulative \n",
       "Return (%)</th><th style=\"text-align: right;\">        Maximum \n",
       "Pullback (%)</th><th style=\"text-align: right;\">  Sharpe Ratio</th><th style=\"text-align: right;\">  Score</th></tr>\n",
       "</thead>\n",
       "<tbody>\n",
       "<tr><td>Lstm Output Size-64  </td><td style=\"text-align: right;\">41.0072</td><td style=\"text-align: right;\"> 9.8484</td><td style=\"text-align: right;\">        0.1172</td><td style=\"text-align: right;\"> 0.244 </td></tr>\n",
       "<tr><td>Lstm Output Size-128 </td><td style=\"text-align: right;\">23.497 </td><td style=\"text-align: right;\">14.7247</td><td style=\"text-align: right;\">        0.0761</td><td style=\"text-align: right;\"> 0.0155</td></tr>\n",
       "<tr><td>Lstm Output Size-256 </td><td style=\"text-align: right;\">29.3315</td><td style=\"text-align: right;\">10.1133</td><td style=\"text-align: right;\">        0.1057</td><td style=\"text-align: right;\"> 0.0923</td></tr>\n",
       "<tr><td>Lstm Output Size-512 </td><td style=\"text-align: right;\">31.8906</td><td style=\"text-align: right;\"> 9.4837</td><td style=\"text-align: right;\">        0.1255</td><td style=\"text-align: right;\"> 0.1507</td></tr>\n",
       "<tr><td>Lstm Output Size-1024</td><td style=\"text-align: right;\">35.2168</td><td style=\"text-align: right;\"> 8.5652</td><td style=\"text-align: right;\">        0.1185</td><td style=\"text-align: right;\"> 0.2036</td></tr>\n",
       "</tbody>\n",
       "</table>"
      ]
     },
     "metadata": {},
     "output_type": "display_data"
    },
    {
     "name": "stdout",
     "output_type": "stream",
     "text": [
      "Epoch 5 | Best Hyperparameter:  Lstm Output Size-1024\n",
      "Epoch 5 | Best Score:  0.33440300940262024\n"
     ]
    },
    {
     "data": {
      "text/html": [
       "<h3>Epoch: 5 | Scores and Metrics Tabulated</h3>\n"
      ]
     },
     "metadata": {},
     "output_type": "display_data"
    },
    {
     "data": {
      "text/html": [
       "<table>\n",
       "<thead>\n",
       "<tr><th>Hyperparameter       </th><th style=\"text-align: right;\">        Cumulative \n",
       "Return (%)</th><th style=\"text-align: right;\">        Maximum \n",
       "Pullback (%)</th><th style=\"text-align: right;\">  Sharpe Ratio</th><th style=\"text-align: right;\">  Score</th></tr>\n",
       "</thead>\n",
       "<tbody>\n",
       "<tr><td>Lstm Output Size-64  </td><td style=\"text-align: right;\">40.7098</td><td style=\"text-align: right;\">10.5748</td><td style=\"text-align: right;\">        0.1113</td><td style=\"text-align: right;\"> 0.2128</td></tr>\n",
       "<tr><td>Lstm Output Size-128 </td><td style=\"text-align: right;\">26.393 </td><td style=\"text-align: right;\">15.2494</td><td style=\"text-align: right;\">        0.0811</td><td style=\"text-align: right;\"> 0.0313</td></tr>\n",
       "<tr><td>Lstm Output Size-256 </td><td style=\"text-align: right;\">36.3182</td><td style=\"text-align: right;\">10.3627</td><td style=\"text-align: right;\">        0.1295</td><td style=\"text-align: right;\"> 0.1977</td></tr>\n",
       "<tr><td>Lstm Output Size-512 </td><td style=\"text-align: right;\">21.6407</td><td style=\"text-align: right;\">11.0975</td><td style=\"text-align: right;\">        0.0912</td><td style=\"text-align: right;\"> 0.0094</td></tr>\n",
       "<tr><td>Lstm Output Size-1024</td><td style=\"text-align: right;\">40.2695</td><td style=\"text-align: right;\"> 8.1867</td><td style=\"text-align: right;\">        0.1385</td><td style=\"text-align: right;\"> 0.3344</td></tr>\n",
       "</tbody>\n",
       "</table>"
      ]
     },
     "metadata": {},
     "output_type": "display_data"
    },
    {
     "data": {
      "text/html": [
       "<h3>Best Hyperparameters: Lstm Output Size</h3>\n"
      ]
     },
     "metadata": {},
     "output_type": "display_data"
    },
    {
     "data": {
      "text/html": [
       "<table>\n",
       "<thead>\n",
       "<tr><th>Hyperparameter       </th><th style=\"text-align: right;\">  Epoch</th><th style=\"text-align: right;\">    Score</th></tr>\n",
       "</thead>\n",
       "<tbody>\n",
       "<tr><td>Lstm Output Size-64  </td><td style=\"text-align: right;\">      4</td><td style=\"text-align: right;\">0.243974 </td></tr>\n",
       "<tr><td>Lstm Output Size-128 </td><td style=\"text-align: right;\">      5</td><td style=\"text-align: right;\">0.0313382</td></tr>\n",
       "<tr><td>Lstm Output Size-256 </td><td style=\"text-align: right;\">      5</td><td style=\"text-align: right;\">0.197721 </td></tr>\n",
       "<tr><td>Lstm Output Size-512 </td><td style=\"text-align: right;\">      1</td><td style=\"text-align: right;\">0.203592 </td></tr>\n",
       "<tr><td>Lstm Output Size-1024</td><td style=\"text-align: right;\">      5</td><td style=\"text-align: right;\">0.334403 </td></tr>\n",
       "</tbody>\n",
       "</table>"
      ]
     },
     "metadata": {},
     "output_type": "display_data"
    },
    {
     "name": "stdout",
     "output_type": "stream",
     "text": [
      "Epoch 1 | Best Hyperparameter:  Reward Function-Differential Sharpe Ratio_0.05\n",
      "Epoch 1 | Best Score:  0.22092687351466958\n"
     ]
    },
    {
     "data": {
      "text/html": [
       "<h3>Epoch: 1 | Scores and Metrics Tabulated</h3>\n"
      ]
     },
     "metadata": {},
     "output_type": "display_data"
    },
    {
     "data": {
      "text/html": [
       "<table>\n",
       "<thead>\n",
       "<tr><th>Hyperparameter                                </th><th style=\"text-align: right;\">        Cumulative \n",
       "Return (%)</th><th style=\"text-align: right;\">        Maximum \n",
       "Pullback (%)</th><th style=\"text-align: right;\">  Sharpe Ratio</th><th style=\"text-align: right;\">  Score</th></tr>\n",
       "</thead>\n",
       "<tbody>\n",
       "<tr><td>Reward Function-Differential Sharpe Ratio_0.01</td><td style=\"text-align: right;\">26.2142</td><td style=\"text-align: right;\">10.2323</td><td style=\"text-align: right;\">        0.0908</td><td style=\"text-align: right;\"> 0.0507</td></tr>\n",
       "<tr><td>Reward Function-Differential Sharpe Ratio_0.05</td><td style=\"text-align: right;\">37.3599</td><td style=\"text-align: right;\"> 8.9808</td><td style=\"text-align: right;\">        0.1177</td><td style=\"text-align: right;\"> 0.2209</td></tr>\n",
       "<tr><td>Reward Function-Differential Sharpe Ratio_0.1 </td><td style=\"text-align: right;\">11.2892</td><td style=\"text-align: right;\">11.012 </td><td style=\"text-align: right;\">        0.0513</td><td style=\"text-align: right;\">-0.0429</td></tr>\n",
       "</tbody>\n",
       "</table>"
      ]
     },
     "metadata": {},
     "output_type": "display_data"
    },
    {
     "name": "stdout",
     "output_type": "stream",
     "text": [
      "Epoch 2 | Best Hyperparameter:  Reward Function-Differential Sharpe Ratio_0.05\n",
      "Epoch 2 | Best Score:  0.2909597938910009\n"
     ]
    },
    {
     "data": {
      "text/html": [
       "<h3>Epoch: 2 | Scores and Metrics Tabulated</h3>\n"
      ]
     },
     "metadata": {},
     "output_type": "display_data"
    },
    {
     "data": {
      "text/html": [
       "<table>\n",
       "<thead>\n",
       "<tr><th>Hyperparameter                                </th><th style=\"text-align: right;\">        Cumulative \n",
       "Return (%)</th><th style=\"text-align: right;\">        Maximum \n",
       "Pullback (%)</th><th style=\"text-align: right;\">  Sharpe Ratio</th><th style=\"text-align: right;\">  Score</th></tr>\n",
       "</thead>\n",
       "<tbody>\n",
       "<tr><td>Reward Function-Differential Sharpe Ratio_0.01</td><td style=\"text-align: right;\">39.6433</td><td style=\"text-align: right;\"> 9.833 </td><td style=\"text-align: right;\">        0.1036</td><td style=\"text-align: right;\"> 0.2018</td></tr>\n",
       "<tr><td>Reward Function-Differential Sharpe Ratio_0.05</td><td style=\"text-align: right;\">42.2221</td><td style=\"text-align: right;\"> 9.1582</td><td style=\"text-align: right;\">        0.1227</td><td style=\"text-align: right;\"> 0.291 </td></tr>\n",
       "<tr><td>Reward Function-Differential Sharpe Ratio_0.1 </td><td style=\"text-align: right;\">13.0533</td><td style=\"text-align: right;\">10.81  </td><td style=\"text-align: right;\">        0.0587</td><td style=\"text-align: right;\">-0.0404</td></tr>\n",
       "</tbody>\n",
       "</table>"
      ]
     },
     "metadata": {},
     "output_type": "display_data"
    },
    {
     "name": "stdout",
     "output_type": "stream",
     "text": [
      "Epoch 3 | Best Hyperparameter:  Reward Function-Differential Sharpe Ratio_0.05\n",
      "Epoch 3 | Best Score:  0.3210756896557274\n"
     ]
    },
    {
     "data": {
      "text/html": [
       "<h3>Epoch: 3 | Scores and Metrics Tabulated</h3>\n"
      ]
     },
     "metadata": {},
     "output_type": "display_data"
    },
    {
     "data": {
      "text/html": [
       "<table>\n",
       "<thead>\n",
       "<tr><th>Hyperparameter                                </th><th style=\"text-align: right;\">        Cumulative \n",
       "Return (%)</th><th style=\"text-align: right;\">        Maximum \n",
       "Pullback (%)</th><th style=\"text-align: right;\">  Sharpe Ratio</th><th style=\"text-align: right;\">  Score</th></tr>\n",
       "</thead>\n",
       "<tbody>\n",
       "<tr><td>Reward Function-Differential Sharpe Ratio_0.01</td><td style=\"text-align: right;\">32.69  </td><td style=\"text-align: right;\"> 9.8777</td><td style=\"text-align: right;\">        0.0934</td><td style=\"text-align: right;\"> 0.1153</td></tr>\n",
       "<tr><td>Reward Function-Differential Sharpe Ratio_0.05</td><td style=\"text-align: right;\">46.7611</td><td style=\"text-align: right;\"> 9.9596</td><td style=\"text-align: right;\">        0.1218</td><td style=\"text-align: right;\"> 0.3211</td></tr>\n",
       "<tr><td>Reward Function-Differential Sharpe Ratio_0.1 </td><td style=\"text-align: right;\">12.1914</td><td style=\"text-align: right;\">11.486 </td><td style=\"text-align: right;\">        0.0543</td><td style=\"text-align: right;\">-0.0393</td></tr>\n",
       "</tbody>\n",
       "</table>"
      ]
     },
     "metadata": {},
     "output_type": "display_data"
    },
    {
     "name": "stdout",
     "output_type": "stream",
     "text": [
      "Epoch 4 | Best Hyperparameter:  Reward Function-Differential Sharpe Ratio_0.05\n",
      "Epoch 4 | Best Score:  0.25464022960929894\n"
     ]
    },
    {
     "data": {
      "text/html": [
       "<h3>Epoch: 4 | Scores and Metrics Tabulated</h3>\n"
      ]
     },
     "metadata": {},
     "output_type": "display_data"
    },
    {
     "data": {
      "text/html": [
       "<table>\n",
       "<thead>\n",
       "<tr><th>Hyperparameter                                </th><th style=\"text-align: right;\">        Cumulative \n",
       "Return (%)</th><th style=\"text-align: right;\">        Maximum \n",
       "Pullback (%)</th><th style=\"text-align: right;\">  Sharpe Ratio</th><th style=\"text-align: right;\">  Score</th></tr>\n",
       "</thead>\n",
       "<tbody>\n",
       "<tr><td>Reward Function-Differential Sharpe Ratio_0.01</td><td style=\"text-align: right;\">35.1194</td><td style=\"text-align: right;\">10.2076</td><td style=\"text-align: right;\">        0.0944</td><td style=\"text-align: right;\"> 0.1352</td></tr>\n",
       "<tr><td>Reward Function-Differential Sharpe Ratio_0.05</td><td style=\"text-align: right;\">44.4441</td><td style=\"text-align: right;\">10.773 </td><td style=\"text-align: right;\">        0.1146</td><td style=\"text-align: right;\"> 0.2546</td></tr>\n",
       "<tr><td>Reward Function-Differential Sharpe Ratio_0.1 </td><td style=\"text-align: right;\">15.3741</td><td style=\"text-align: right;\">10.7433</td><td style=\"text-align: right;\">        0.0662</td><td style=\"text-align: right;\">-0.0316</td></tr>\n",
       "</tbody>\n",
       "</table>"
      ]
     },
     "metadata": {},
     "output_type": "display_data"
    },
    {
     "name": "stdout",
     "output_type": "stream",
     "text": [
      "Epoch 5 | Best Hyperparameter:  Reward Function-Differential Sharpe Ratio_0.05\n",
      "Epoch 5 | Best Score:  0.22890421887337045\n"
     ]
    },
    {
     "data": {
      "text/html": [
       "<h3>Epoch: 5 | Scores and Metrics Tabulated</h3>\n"
      ]
     },
     "metadata": {},
     "output_type": "display_data"
    },
    {
     "data": {
      "text/html": [
       "<table>\n",
       "<thead>\n",
       "<tr><th>Hyperparameter                                </th><th style=\"text-align: right;\">        Cumulative \n",
       "Return (%)</th><th style=\"text-align: right;\">        Maximum \n",
       "Pullback (%)</th><th style=\"text-align: right;\">  Sharpe Ratio</th><th style=\"text-align: right;\">  Score</th></tr>\n",
       "</thead>\n",
       "<tbody>\n",
       "<tr><td>Reward Function-Differential Sharpe Ratio_0.01</td><td style=\"text-align: right;\">38.0511</td><td style=\"text-align: right;\">10.301 </td><td style=\"text-align: right;\">        0.1014</td><td style=\"text-align: right;\"> 0.1727</td></tr>\n",
       "<tr><td>Reward Function-Differential Sharpe Ratio_0.05</td><td style=\"text-align: right;\">42.4267</td><td style=\"text-align: right;\">10.7326</td><td style=\"text-align: right;\">        0.112 </td><td style=\"text-align: right;\"> 0.2289</td></tr>\n",
       "<tr><td>Reward Function-Differential Sharpe Ratio_0.1 </td><td style=\"text-align: right;\"> 9.8409</td><td style=\"text-align: right;\">10.981 </td><td style=\"text-align: right;\">        0.0448</td><td style=\"text-align: right;\">-0.0435</td></tr>\n",
       "</tbody>\n",
       "</table>"
      ]
     },
     "metadata": {},
     "output_type": "display_data"
    },
    {
     "data": {
      "text/html": [
       "<h3>Best Hyperparameters: Reward Function</h3>\n"
      ]
     },
     "metadata": {},
     "output_type": "display_data"
    },
    {
     "data": {
      "text/html": [
       "<table>\n",
       "<thead>\n",
       "<tr><th>Hyperparameter                                </th><th style=\"text-align: right;\">  Epoch</th><th style=\"text-align: right;\">     Score</th></tr>\n",
       "</thead>\n",
       "<tbody>\n",
       "<tr><td>Reward Function-Differential Sharpe Ratio_0.01</td><td style=\"text-align: right;\">      2</td><td style=\"text-align: right;\"> 0.2018   </td></tr>\n",
       "<tr><td>Reward Function-Differential Sharpe Ratio_0.05</td><td style=\"text-align: right;\">      3</td><td style=\"text-align: right;\"> 0.321076 </td></tr>\n",
       "<tr><td>Reward Function-Differential Sharpe Ratio_0.1 </td><td style=\"text-align: right;\">      4</td><td style=\"text-align: right;\">-0.0315942</td></tr>\n",
       "</tbody>\n",
       "</table>"
      ]
     },
     "metadata": {},
     "output_type": "display_data"
    },
    {
     "name": "stdout",
     "output_type": "stream",
     "text": [
      "Epoch 1 | Best Hyperparameter:  Learning Frequency-29\n",
      "Epoch 1 | Best Score:  0.20359248497081336\n"
     ]
    },
    {
     "data": {
      "text/html": [
       "<h3>Epoch: 1 | Scores and Metrics Tabulated</h3>\n"
      ]
     },
     "metadata": {},
     "output_type": "display_data"
    },
    {
     "data": {
      "text/html": [
       "<table>\n",
       "<thead>\n",
       "<tr><th>Hyperparameter        </th><th style=\"text-align: right;\">        Cumulative \n",
       "Return (%)</th><th style=\"text-align: right;\">        Maximum \n",
       "Pullback (%)</th><th style=\"text-align: right;\">  Sharpe Ratio</th><th style=\"text-align: right;\">  Score</th></tr>\n",
       "</thead>\n",
       "<tbody>\n",
       "<tr><td>Learning Frequency-146</td><td style=\"text-align: right;\">26.7833</td><td style=\"text-align: right;\">10.9624</td><td style=\"text-align: right;\">        0.0989</td><td style=\"text-align: right;\"> 0.0567</td></tr>\n",
       "<tr><td>Learning Frequency-73 </td><td style=\"text-align: right;\">14.9322</td><td style=\"text-align: right;\">13.1937</td><td style=\"text-align: right;\">        0.0567</td><td style=\"text-align: right;\">-0.0239</td></tr>\n",
       "<tr><td>Learning Frequency-48 </td><td style=\"text-align: right;\">26.595 </td><td style=\"text-align: right;\">10.8478</td><td style=\"text-align: right;\">        0.0965</td><td style=\"text-align: right;\"> 0.0542</td></tr>\n",
       "<tr><td>Learning Frequency-36 </td><td style=\"text-align: right;\">24.1142</td><td style=\"text-align: right;\">11.5577</td><td style=\"text-align: right;\">        0.09  </td><td style=\"text-align: right;\"> 0.0282</td></tr>\n",
       "<tr><td>Learning Frequency-29 </td><td style=\"text-align: right;\">35.4858</td><td style=\"text-align: right;\"> 9.6758</td><td style=\"text-align: right;\">        0.1314</td><td style=\"text-align: right;\"> 0.2036</td></tr>\n",
       "</tbody>\n",
       "</table>"
      ]
     },
     "metadata": {},
     "output_type": "display_data"
    },
    {
     "name": "stdout",
     "output_type": "stream",
     "text": [
      "Epoch 2 | Best Hyperparameter:  Learning Frequency-29\n",
      "Epoch 2 | Best Score:  0.20043015122582855\n"
     ]
    },
    {
     "data": {
      "text/html": [
       "<h3>Epoch: 2 | Scores and Metrics Tabulated</h3>\n"
      ]
     },
     "metadata": {},
     "output_type": "display_data"
    },
    {
     "data": {
      "text/html": [
       "<table>\n",
       "<thead>\n",
       "<tr><th>Hyperparameter        </th><th style=\"text-align: right;\">        Cumulative \n",
       "Return (%)</th><th style=\"text-align: right;\">        Maximum \n",
       "Pullback (%)</th><th style=\"text-align: right;\">  Sharpe Ratio</th><th style=\"text-align: right;\">  Score</th></tr>\n",
       "</thead>\n",
       "<tbody>\n",
       "<tr><td>Learning Frequency-146</td><td style=\"text-align: right;\">28.1619</td><td style=\"text-align: right;\">10.4286</td><td style=\"text-align: right;\">        0.106 </td><td style=\"text-align: right;\"> 0.0779</td></tr>\n",
       "<tr><td>Learning Frequency-73 </td><td style=\"text-align: right;\">13.4004</td><td style=\"text-align: right;\">12.6778</td><td style=\"text-align: right;\">        0.0514</td><td style=\"text-align: right;\">-0.0288</td></tr>\n",
       "<tr><td>Learning Frequency-48 </td><td style=\"text-align: right;\">31.4055</td><td style=\"text-align: right;\">12.2805</td><td style=\"text-align: right;\">        0.1106</td><td style=\"text-align: right;\"> 0.0982</td></tr>\n",
       "<tr><td>Learning Frequency-36 </td><td style=\"text-align: right;\">23.9419</td><td style=\"text-align: right;\">11.3409</td><td style=\"text-align: right;\">        0.0848</td><td style=\"text-align: right;\"> 0.0257</td></tr>\n",
       "<tr><td>Learning Frequency-29 </td><td style=\"text-align: right;\">33.1216</td><td style=\"text-align: right;\"> 8.0255</td><td style=\"text-align: right;\">        0.1274</td><td style=\"text-align: right;\"> 0.2004</td></tr>\n",
       "</tbody>\n",
       "</table>"
      ]
     },
     "metadata": {},
     "output_type": "display_data"
    },
    {
     "name": "stdout",
     "output_type": "stream",
     "text": [
      "Epoch 3 | Best Hyperparameter:  Learning Frequency-29\n",
      "Epoch 3 | Best Score:  0.14152351360977108\n"
     ]
    },
    {
     "data": {
      "text/html": [
       "<h3>Epoch: 3 | Scores and Metrics Tabulated</h3>\n"
      ]
     },
     "metadata": {},
     "output_type": "display_data"
    },
    {
     "data": {
      "text/html": [
       "<table>\n",
       "<thead>\n",
       "<tr><th>Hyperparameter        </th><th style=\"text-align: right;\">        Cumulative \n",
       "Return (%)</th><th style=\"text-align: right;\">        Maximum \n",
       "Pullback (%)</th><th style=\"text-align: right;\">  Sharpe Ratio</th><th style=\"text-align: right;\">  Score</th></tr>\n",
       "</thead>\n",
       "<tbody>\n",
       "<tr><td>Learning Frequency-146</td><td style=\"text-align: right;\">29.6553</td><td style=\"text-align: right;\">10.8519</td><td style=\"text-align: right;\">        0.1072</td><td style=\"text-align: right;\"> 0.0905</td></tr>\n",
       "<tr><td>Learning Frequency-73 </td><td style=\"text-align: right;\">16.7312</td><td style=\"text-align: right;\">12.7446</td><td style=\"text-align: right;\">        0.0655</td><td style=\"text-align: right;\">-0.0194</td></tr>\n",
       "<tr><td>Learning Frequency-48 </td><td style=\"text-align: right;\">34.3405</td><td style=\"text-align: right;\">11.4996</td><td style=\"text-align: right;\">        0.1117</td><td style=\"text-align: right;\"> 0.1344</td></tr>\n",
       "<tr><td>Learning Frequency-36 </td><td style=\"text-align: right;\">28.4121</td><td style=\"text-align: right;\">11.4467</td><td style=\"text-align: right;\">        0.0896</td><td style=\"text-align: right;\"> 0.0619</td></tr>\n",
       "<tr><td>Learning Frequency-29 </td><td style=\"text-align: right;\">30.7285</td><td style=\"text-align: right;\"> 9.0532</td><td style=\"text-align: right;\">        0.1252</td><td style=\"text-align: right;\"> 0.1415</td></tr>\n",
       "</tbody>\n",
       "</table>"
      ]
     },
     "metadata": {},
     "output_type": "display_data"
    },
    {
     "name": "stdout",
     "output_type": "stream",
     "text": [
      "Epoch 4 | Best Hyperparameter:  Learning Frequency-48\n",
      "Epoch 4 | Best Score:  0.18259551375566993\n"
     ]
    },
    {
     "data": {
      "text/html": [
       "<h3>Epoch: 4 | Scores and Metrics Tabulated</h3>\n"
      ]
     },
     "metadata": {},
     "output_type": "display_data"
    },
    {
     "data": {
      "text/html": [
       "<table>\n",
       "<thead>\n",
       "<tr><th>Hyperparameter        </th><th style=\"text-align: right;\">        Cumulative \n",
       "Return (%)</th><th style=\"text-align: right;\">        Maximum \n",
       "Pullback (%)</th><th style=\"text-align: right;\">  Sharpe Ratio</th><th style=\"text-align: right;\">  Score</th></tr>\n",
       "</thead>\n",
       "<tbody>\n",
       "<tr><td>Learning Frequency-146</td><td style=\"text-align: right;\">27.4694</td><td style=\"text-align: right;\">11.1072</td><td style=\"text-align: right;\">        0.1016</td><td style=\"text-align: right;\"> 0.0638</td></tr>\n",
       "<tr><td>Learning Frequency-73 </td><td style=\"text-align: right;\">16.6618</td><td style=\"text-align: right;\">14.095 </td><td style=\"text-align: right;\">        0.0609</td><td style=\"text-align: right;\">-0.0166</td></tr>\n",
       "<tr><td>Learning Frequency-48 </td><td style=\"text-align: right;\">38.5074</td><td style=\"text-align: right;\">11.3737</td><td style=\"text-align: right;\">        0.1153</td><td style=\"text-align: right;\"> 0.1826</td></tr>\n",
       "<tr><td>Learning Frequency-36 </td><td style=\"text-align: right;\">29.2086</td><td style=\"text-align: right;\">10.0204</td><td style=\"text-align: right;\">        0.0976</td><td style=\"text-align: right;\"> 0.0849</td></tr>\n",
       "<tr><td>Learning Frequency-29 </td><td style=\"text-align: right;\">31.8906</td><td style=\"text-align: right;\"> 9.4837</td><td style=\"text-align: right;\">        0.1255</td><td style=\"text-align: right;\"> 0.1507</td></tr>\n",
       "</tbody>\n",
       "</table>"
      ]
     },
     "metadata": {},
     "output_type": "display_data"
    },
    {
     "name": "stdout",
     "output_type": "stream",
     "text": [
      "Epoch 5 | Best Hyperparameter:  Learning Frequency-48\n",
      "Epoch 5 | Best Score:  0.2288675781386499\n"
     ]
    },
    {
     "data": {
      "text/html": [
       "<h3>Epoch: 5 | Scores and Metrics Tabulated</h3>\n"
      ]
     },
     "metadata": {},
     "output_type": "display_data"
    },
    {
     "data": {
      "text/html": [
       "<table>\n",
       "<thead>\n",
       "<tr><th>Hyperparameter        </th><th style=\"text-align: right;\">        Cumulative \n",
       "Return (%)</th><th style=\"text-align: right;\">        Maximum \n",
       "Pullback (%)</th><th style=\"text-align: right;\">  Sharpe Ratio</th><th style=\"text-align: right;\">  Score</th></tr>\n",
       "</thead>\n",
       "<tbody>\n",
       "<tr><td>Learning Frequency-146</td><td style=\"text-align: right;\">27.7149</td><td style=\"text-align: right;\">10.8414</td><td style=\"text-align: right;\">        0.1059</td><td style=\"text-align: right;\"> 0.0705</td></tr>\n",
       "<tr><td>Learning Frequency-73 </td><td style=\"text-align: right;\">19.0829</td><td style=\"text-align: right;\">12.9376</td><td style=\"text-align: right;\">        0.066 </td><td style=\"text-align: right;\">-0.0072</td></tr>\n",
       "<tr><td>Learning Frequency-48 </td><td style=\"text-align: right;\">40.1411</td><td style=\"text-align: right;\">10.3641</td><td style=\"text-align: right;\">        0.1208</td><td style=\"text-align: right;\"> 0.2289</td></tr>\n",
       "<tr><td>Learning Frequency-36 </td><td style=\"text-align: right;\">30.7491</td><td style=\"text-align: right;\">12.9008</td><td style=\"text-align: right;\">        0.0923</td><td style=\"text-align: right;\"> 0.0734</td></tr>\n",
       "<tr><td>Learning Frequency-29 </td><td style=\"text-align: right;\">21.6407</td><td style=\"text-align: right;\">11.0975</td><td style=\"text-align: right;\">        0.0912</td><td style=\"text-align: right;\"> 0.0094</td></tr>\n",
       "</tbody>\n",
       "</table>"
      ]
     },
     "metadata": {},
     "output_type": "display_data"
    },
    {
     "data": {
      "text/html": [
       "<h3>Best Hyperparameters: Learning Frequency</h3>\n"
      ]
     },
     "metadata": {},
     "output_type": "display_data"
    },
    {
     "data": {
      "text/html": [
       "<table>\n",
       "<thead>\n",
       "<tr><th>Hyperparameter        </th><th style=\"text-align: right;\">  Epoch</th><th style=\"text-align: right;\">      Score</th></tr>\n",
       "</thead>\n",
       "<tbody>\n",
       "<tr><td>Learning Frequency-146</td><td style=\"text-align: right;\">      3</td><td style=\"text-align: right;\"> 0.0904831 </td></tr>\n",
       "<tr><td>Learning Frequency-73 </td><td style=\"text-align: right;\">      5</td><td style=\"text-align: right;\">-0.00721608</td></tr>\n",
       "<tr><td>Learning Frequency-48 </td><td style=\"text-align: right;\">      5</td><td style=\"text-align: right;\"> 0.228868  </td></tr>\n",
       "<tr><td>Learning Frequency-36 </td><td style=\"text-align: right;\">      4</td><td style=\"text-align: right;\"> 0.0848628 </td></tr>\n",
       "<tr><td>Learning Frequency-29 </td><td style=\"text-align: right;\">      1</td><td style=\"text-align: right;\"> 0.203592  </td></tr>\n",
       "</tbody>\n",
       "</table>"
      ]
     },
     "metadata": {},
     "output_type": "display_data"
    },
    {
     "name": "stdout",
     "output_type": "stream",
     "text": [
      "Epoch 1 | Best Hyperparameter:  Learning Rate-0.0003\n",
      "Epoch 1 | Best Score:  0.20359248497081336\n"
     ]
    },
    {
     "data": {
      "text/html": [
       "<h3>Epoch: 1 | Scores and Metrics Tabulated</h3>\n"
      ]
     },
     "metadata": {},
     "output_type": "display_data"
    },
    {
     "data": {
      "text/html": [
       "<table>\n",
       "<thead>\n",
       "<tr><th>Hyperparameter      </th><th style=\"text-align: right;\">        Cumulative \n",
       "Return (%)</th><th style=\"text-align: right;\">        Maximum \n",
       "Pullback (%)</th><th style=\"text-align: right;\">  Sharpe Ratio</th><th style=\"text-align: right;\">  Score</th></tr>\n",
       "</thead>\n",
       "<tbody>\n",
       "<tr><td>Learning Rate-0.0001</td><td style=\"text-align: right;\">25.5609</td><td style=\"text-align: right;\">12.1633</td><td style=\"text-align: right;\">        0.0873</td><td style=\"text-align: right;\"> 0.0363</td></tr>\n",
       "<tr><td>Learning Rate-0.0003</td><td style=\"text-align: right;\">35.4858</td><td style=\"text-align: right;\"> 9.6758</td><td style=\"text-align: right;\">        0.1314</td><td style=\"text-align: right;\"> 0.2036</td></tr>\n",
       "<tr><td>Learning Rate-0.0005</td><td style=\"text-align: right;\">32.656 </td><td style=\"text-align: right;\">10.3025</td><td style=\"text-align: right;\">        0.1129</td><td style=\"text-align: right;\"> 0.1332</td></tr>\n",
       "<tr><td>Learning Rate-0.0007</td><td style=\"text-align: right;\">16.7915</td><td style=\"text-align: right;\">13.5585</td><td style=\"text-align: right;\">        0.0614</td><td style=\"text-align: right;\">-0.0168</td></tr>\n",
       "</tbody>\n",
       "</table>"
      ]
     },
     "metadata": {},
     "output_type": "display_data"
    },
    {
     "name": "stdout",
     "output_type": "stream",
     "text": [
      "Epoch 2 | Best Hyperparameter:  Learning Rate-0.0005\n",
      "Epoch 2 | Best Score:  0.2416867023811664\n"
     ]
    },
    {
     "data": {
      "text/html": [
       "<h3>Epoch: 2 | Scores and Metrics Tabulated</h3>\n"
      ]
     },
     "metadata": {},
     "output_type": "display_data"
    },
    {
     "data": {
      "text/html": [
       "<table>\n",
       "<thead>\n",
       "<tr><th>Hyperparameter      </th><th style=\"text-align: right;\">        Cumulative \n",
       "Return (%)</th><th style=\"text-align: right;\">        Maximum \n",
       "Pullback (%)</th><th style=\"text-align: right;\">  Sharpe Ratio</th><th style=\"text-align: right;\">  Score</th></tr>\n",
       "</thead>\n",
       "<tbody>\n",
       "<tr><td>Learning Rate-0.0001</td><td style=\"text-align: right;\">33.4005</td><td style=\"text-align: right;\">10.4995</td><td style=\"text-align: right;\">        0.1093</td><td style=\"text-align: right;\"> 0.1343</td></tr>\n",
       "<tr><td>Learning Rate-0.0003</td><td style=\"text-align: right;\">33.1216</td><td style=\"text-align: right;\"> 8.0255</td><td style=\"text-align: right;\">        0.1274</td><td style=\"text-align: right;\"> 0.2004</td></tr>\n",
       "<tr><td>Learning Rate-0.0005</td><td style=\"text-align: right;\">39.3122</td><td style=\"text-align: right;\">10.4001</td><td style=\"text-align: right;\">        0.1336</td><td style=\"text-align: right;\"> 0.2417</td></tr>\n",
       "<tr><td>Learning Rate-0.0007</td><td style=\"text-align: right;\">14.0776</td><td style=\"text-align: right;\">11.8084</td><td style=\"text-align: right;\">        0.0518</td><td style=\"text-align: right;\">-0.0282</td></tr>\n",
       "</tbody>\n",
       "</table>"
      ]
     },
     "metadata": {},
     "output_type": "display_data"
    },
    {
     "name": "stdout",
     "output_type": "stream",
     "text": [
      "Epoch 3 | Best Hyperparameter:  Learning Rate-0.0005\n",
      "Epoch 3 | Best Score:  0.17467918936263507\n"
     ]
    },
    {
     "data": {
      "text/html": [
       "<h3>Epoch: 3 | Scores and Metrics Tabulated</h3>\n"
      ]
     },
     "metadata": {},
     "output_type": "display_data"
    },
    {
     "data": {
      "text/html": [
       "<table>\n",
       "<thead>\n",
       "<tr><th>Hyperparameter      </th><th style=\"text-align: right;\">        Cumulative \n",
       "Return (%)</th><th style=\"text-align: right;\">        Maximum \n",
       "Pullback (%)</th><th style=\"text-align: right;\">  Sharpe Ratio</th><th style=\"text-align: right;\">  Score</th></tr>\n",
       "</thead>\n",
       "<tbody>\n",
       "<tr><td>Learning Rate-0.0001</td><td style=\"text-align: right;\">31.9644</td><td style=\"text-align: right;\">10.6571</td><td style=\"text-align: right;\">        0.107 </td><td style=\"text-align: right;\"> 0.1151</td></tr>\n",
       "<tr><td>Learning Rate-0.0003</td><td style=\"text-align: right;\">30.7285</td><td style=\"text-align: right;\"> 9.0532</td><td style=\"text-align: right;\">        0.1252</td><td style=\"text-align: right;\"> 0.1415</td></tr>\n",
       "<tr><td>Learning Rate-0.0005</td><td style=\"text-align: right;\">38.0562</td><td style=\"text-align: right;\">11.9508</td><td style=\"text-align: right;\">        0.1189</td><td style=\"text-align: right;\"> 0.1747</td></tr>\n",
       "<tr><td>Learning Rate-0.0007</td><td style=\"text-align: right;\">14.5898</td><td style=\"text-align: right;\">12.4795</td><td style=\"text-align: right;\">        0.0527</td><td style=\"text-align: right;\">-0.025 </td></tr>\n",
       "</tbody>\n",
       "</table>"
      ]
     },
     "metadata": {},
     "output_type": "display_data"
    },
    {
     "name": "stdout",
     "output_type": "stream",
     "text": [
      "Epoch 4 | Best Hyperparameter:  Learning Rate-0.0005\n",
      "Epoch 4 | Best Score:  0.24734651120840526\n"
     ]
    },
    {
     "data": {
      "text/html": [
       "<h3>Epoch: 4 | Scores and Metrics Tabulated</h3>\n"
      ]
     },
     "metadata": {},
     "output_type": "display_data"
    },
    {
     "data": {
      "text/html": [
       "<table>\n",
       "<thead>\n",
       "<tr><th>Hyperparameter      </th><th style=\"text-align: right;\">        Cumulative \n",
       "Return (%)</th><th style=\"text-align: right;\">        Maximum \n",
       "Pullback (%)</th><th style=\"text-align: right;\">  Sharpe Ratio</th><th style=\"text-align: right;\">  Score</th></tr>\n",
       "</thead>\n",
       "<tbody>\n",
       "<tr><td>Learning Rate-0.0001</td><td style=\"text-align: right;\">31.5304</td><td style=\"text-align: right;\"> 9.9188</td><td style=\"text-align: right;\">        0.1122</td><td style=\"text-align: right;\"> 0.1248</td></tr>\n",
       "<tr><td>Learning Rate-0.0003</td><td style=\"text-align: right;\">31.8906</td><td style=\"text-align: right;\"> 9.4837</td><td style=\"text-align: right;\">        0.1255</td><td style=\"text-align: right;\"> 0.1507</td></tr>\n",
       "<tr><td>Learning Rate-0.0005</td><td style=\"text-align: right;\">41.1974</td><td style=\"text-align: right;\">10.7972</td><td style=\"text-align: right;\">        0.129 </td><td style=\"text-align: right;\"> 0.2473</td></tr>\n",
       "<tr><td>Learning Rate-0.0007</td><td style=\"text-align: right;\"> 1.341 </td><td style=\"text-align: right;\">19.328 </td><td style=\"text-align: right;\">        0.0085</td><td style=\"text-align: right;\">-0.0085</td></tr>\n",
       "</tbody>\n",
       "</table>"
      ]
     },
     "metadata": {},
     "output_type": "display_data"
    },
    {
     "name": "stdout",
     "output_type": "stream",
     "text": [
      "Epoch 5 | Best Hyperparameter:  Learning Rate-0.0005\n",
      "Epoch 5 | Best Score:  0.24119703566151687\n"
     ]
    },
    {
     "data": {
      "text/html": [
       "<h3>Epoch: 5 | Scores and Metrics Tabulated</h3>\n"
      ]
     },
     "metadata": {},
     "output_type": "display_data"
    },
    {
     "data": {
      "text/html": [
       "<table>\n",
       "<thead>\n",
       "<tr><th>Hyperparameter      </th><th style=\"text-align: right;\">        Cumulative \n",
       "Return (%)</th><th style=\"text-align: right;\">        Maximum \n",
       "Pullback (%)</th><th style=\"text-align: right;\">  Sharpe Ratio</th><th style=\"text-align: right;\">  Score</th></tr>\n",
       "</thead>\n",
       "<tbody>\n",
       "<tr><td>Learning Rate-0.0001</td><td style=\"text-align: right;\">27.3886</td><td style=\"text-align: right;\"> 9.9796</td><td style=\"text-align: right;\">        0.1005</td><td style=\"text-align: right;\"> 0.0694</td></tr>\n",
       "<tr><td>Learning Rate-0.0003</td><td style=\"text-align: right;\">21.6407</td><td style=\"text-align: right;\">11.0975</td><td style=\"text-align: right;\">        0.0912</td><td style=\"text-align: right;\"> 0.0094</td></tr>\n",
       "<tr><td>Learning Rate-0.0005</td><td style=\"text-align: right;\">40.2466</td><td style=\"text-align: right;\">10.4767</td><td style=\"text-align: right;\">        0.128 </td><td style=\"text-align: right;\"> 0.2412</td></tr>\n",
       "<tr><td>Learning Rate-0.0007</td><td style=\"text-align: right;\">-1.049 </td><td style=\"text-align: right;\">19.271 </td><td style=\"text-align: right;\">        0.0007</td><td style=\"text-align: right;\">-0.0008</td></tr>\n",
       "</tbody>\n",
       "</table>"
      ]
     },
     "metadata": {},
     "output_type": "display_data"
    },
    {
     "data": {
      "text/html": [
       "<h3>Best Hyperparameters: Learning Rate</h3>\n"
      ]
     },
     "metadata": {},
     "output_type": "display_data"
    },
    {
     "data": {
      "text/html": [
       "<table>\n",
       "<thead>\n",
       "<tr><th>Hyperparameter      </th><th style=\"text-align: right;\">  Epoch</th><th style=\"text-align: right;\">       Score</th></tr>\n",
       "</thead>\n",
       "<tbody>\n",
       "<tr><td>Learning Rate-0.0001</td><td style=\"text-align: right;\">      2</td><td style=\"text-align: right;\"> 0.134331   </td></tr>\n",
       "<tr><td>Learning Rate-0.0003</td><td style=\"text-align: right;\">      1</td><td style=\"text-align: right;\"> 0.203592   </td></tr>\n",
       "<tr><td>Learning Rate-0.0005</td><td style=\"text-align: right;\">      4</td><td style=\"text-align: right;\"> 0.247347   </td></tr>\n",
       "<tr><td>Learning Rate-0.0007</td><td style=\"text-align: right;\">      5</td><td style=\"text-align: right;\">-0.000796318</td></tr>\n",
       "</tbody>\n",
       "</table>"
      ]
     },
     "metadata": {},
     "output_type": "display_data"
    }
   ],
   "source": [
    "# TEMPORARILY ABOVE\n",
    "\n",
    "def maxPullback(arr):\n",
    "    maxValue = float(\"-inf\")\n",
    "    maxDrawdown = 0.0\n",
    "    for value in arr:\n",
    "        maxValue = max(maxValue, value)\n",
    "        drawdown = (maxValue - value) / maxValue \n",
    "        maxDrawdown = max(maxDrawdown, drawdown)\n",
    "    return maxDrawdown\n",
    "\n",
    "def scoreFormula(agentArray, averageRandomReturn):\n",
    "    # score by (cumulative return - average random return)/max pullback all times sharpe ratio\n",
    "    cumulativeReturn = agentArray[-1] / START_CASH - 1\n",
    "    maximumPullback = maxPullback(agentArray)\n",
    "    returns = [(agentArray[i] / agentArray[i-1]) - 1 for i in range(1, len(agentArray))]\n",
    "    sharpe = np.mean(returns)/np.std(returns)\n",
    "    score = ((cumulativeReturn - averageRandomReturn) / maximumPullback) * sharpe\n",
    "    metrics = {\n",
    "        \"Cumulative \\nReturn (%)\": cumulativeReturn * 100,\n",
    "        \"Maximum \\nPullback (%)\": maximumPullback * 100,\n",
    "        \"Sharpe Ratio\": sharpe,\n",
    "        \"Score\": score\n",
    "    }\n",
    "    return metrics\n",
    "\n",
    "\n",
    "def scoreAgents(lstmOutputSize = 512, riskAversion=0, lr=3e-4, dataType =\"validation\"):\n",
    "    for hyper, param in HYPERS.items():\n",
    "        averageRandomPerformance = []\n",
    "        for epoch in range(1, EPOCHS + 1):\n",
    "            averageRandomPerformance.append(np.loadtxt(f\"portfolios/{dataType}/{epoch * TRAINING_WINDOWS}/\" + \"Strategy-RANDOM.txt\"))\n",
    "        averageRandomPerformance = np.mean(np.array(averageRandomPerformance), axis=0)\n",
    "        averageRandomReturn = averageRandomPerformance[-1] / START_CASH - 1\n",
    "        moreData = defaultdict(lambda: float(\"-inf\")) #too tired to name this properly\n",
    "        epochNumber = defaultdict(lambda: 0)\n",
    "        for epoch in range(1, EPOCHS + 1):\n",
    "            table = [[\"Hyperparameter\", \"Cumulative \\nReturn (%)\", \"Maximum \\nPullback (%)\", \"Sharpe Ratio\", \"Score\"]]\n",
    "            bestScore = float(\"-inf\")\n",
    "            bestParameter = None\n",
    "            for parameter in param:\n",
    "                portfolioNumbers = np.loadtxt(f\"portfolios/{dataType}/{epoch * TRAINING_WINDOWS}/\" + f\"{hyper.title()}-{parameter}.txt\")\n",
    "                metrics = scoreFormula(portfolioNumbers, averageRandomReturn)\n",
    "                key = f\"{hyper.title()}-{parameter}\"\n",
    "                if metrics[\"Score\"] > moreData[key]:\n",
    "                    moreData[key] = metrics[\"Score\"]\n",
    "                    epochNumber[key] = epoch\n",
    "                table.append([f\"{hyper.title()}-{parameter}\"] + [round(met, 4) for met in metrics.values()])\n",
    "                if metrics[\"Score\"] > bestScore:\n",
    "                    bestScore = metrics[\"Score\"]\n",
    "                    bestParameter = f\"{hyper.title()}-{parameter}\"\n",
    "            print(f\"Epoch {epoch} | Best Hyperparameter: \", bestParameter)\n",
    "            print(f\"Epoch {epoch} | Best Score: \", bestScore)\n",
    "            tabulate_neatly(table, headers=\"firstrow\", title=f\"Epoch: {epoch} | Scores and Metrics Tabulated\")\n",
    "        # tabulate the best hyperpameters per epoch using moredata and epochnumber\n",
    "        table = [[\"Hyperparameter\", \"Epoch\", \"Score\"]]\n",
    "        for key, value in moreData.items():\n",
    "            table.append([key, epochNumber[key], value])\n",
    "        tabulate_neatly(table, headers=\"firstrow\", title=f\"Best Hyperparameters: {hyper.title()}\")\n",
    "\n",
    "scoreAgents()"
   ]
  },
  {
   "cell_type": "markdown",
   "metadata": {},
   "source": [
    "## 5. Testing Process"
   ]
  },
  {
   "cell_type": "markdown",
   "metadata": {},
   "source": [
    "### Best Models (if any) Evaluated  - VERY WRONG FOR NOW, IGNORE"
   ]
  },
  {
   "cell_type": "code",
   "execution_count": null,
   "metadata": {},
   "outputs": [],
   "source": [
    "# REPEATS = 50\n",
    "\n",
    "# # Experiment 1\n",
    "# EXP_CONFIG = {\"Reward\" : [\"Standard Logarithmic Returns\", \"Differential Sharpe Ratio_0.01\", \"CVaR_0.5\"],\n",
    "#                 \"LSTM Output Size\" : 512, \n",
    "#                 \"Frequency\" : 36,\n",
    "#                 \"Environments\" : 0,\n",
    "#                 \"Learning Rate\" : 5e-4,\n",
    "#                 }\n",
    "\n",
    "# # Very hacky\n",
    "# # Config 1\n",
    "# def func():\n",
    "#     for r in EXP_CONFIG[\"Reward\"]:\n",
    "#             trainingLoop(\n",
    "#             riskAversion=(float(r.split(\"_\")[1]) if r.split(\"_\")[0] == \"CVaR\" else 0),\n",
    "#             rewardFunction=r.split(\"_\")[0] if \"CVaR\" in r else r,\n",
    "#             freq=EXP_CONFIG[\"Frequency\"],\n",
    "#             parr=EXP_CONFIG[\"Environments\"],\n",
    "#             lstmOutputSize=EXP_CONFIG[\"LSTM Output Size\"],\n",
    "#             lr=EXP_CONFIG[\"Learning Rate\"],\n",
    "#             conf = \"Reward Function-\" + r + \" | \" + \"Strategy-PPOLSTM\" + \" | \" + \"Experiment 1\",\n",
    "#         )\n",
    "\n",
    "# allResults = defaultdict(list)\n",
    "\n",
    "# def runFinal(func, folderExtension):\n",
    "#     #terrible code forgive me\n",
    "#     global STRATEGIES \n",
    "#     STRATEGIES = [\"PPOLSTM\"]\n",
    "#     global allResults \n",
    "#     global RANDOM_REPEATS\n",
    "    \n",
    "#     print(\"=\" * 50)\n",
    "#     TESTING[\"REWARD FUNCTION\"] = True\n",
    "#     func()\n",
    "#     STRATEGIES = [\"RANDOM\"]\n",
    "#     while RANDOM_REPEATS > 0:\n",
    "#         trainingLoop()\n",
    "\n",
    "#     plotPerformance(\"REWARD FUNCTION\", folderExtension)\n",
    "#     TESTING[\"REWARD FUNCTION\"] = False\n",
    "#     print(\"=\" * 50)\n",
    "#     tabulateResults()\n",
    "#     allResults = defaultdict(list)\n",
    "#     RANDOM_REPEATS = 200\n",
    "    \n",
    "# RUN_FINAL = False\n",
    "# if RUN_FINAL:\n",
    "#     runFinal(func, \"Testing\")\n"
   ]
  },
  {
   "cell_type": "markdown",
   "metadata": {},
   "source": [
    "### Plotting Code"
   ]
  }
 ],
 "metadata": {
  "kernelspec": {
   "display_name": "Python 3",
   "language": "python",
   "name": "python3"
  },
  "language_info": {
   "codemirror_mode": {
    "name": "ipython",
    "version": 3
   },
   "file_extension": ".py",
   "mimetype": "text/x-python",
   "name": "python",
   "nbconvert_exporter": "python",
   "pygments_lexer": "ipython3",
   "version": "3.12.10"
  }
 },
 "nbformat": 4,
 "nbformat_minor": 2
}
