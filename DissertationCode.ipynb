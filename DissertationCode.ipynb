{
 "cells": [
  {
   "cell_type": "markdown",
   "metadata": {},
   "source": [
    "## 1. Collect Basic Data"
   ]
  },
  {
   "cell_type": "markdown",
   "metadata": {},
   "source": [
    "### Retrieve CryptoCurrency Market Data ###"
   ]
  },
  {
   "cell_type": "code",
   "execution_count": 28,
   "metadata": {},
   "outputs": [],
   "source": [
    "import pandas as pd\n",
    "import yfinance as yf\n",
    "from functools import reduce\n",
    "import requests\n",
    "import time\n",
    "import numpy as np\n",
    "from datetime import datetime, timedelta\n",
    "import matplotlib.pyplot as plt\n",
    "\n",
    "\n",
    "CRYPTO = False\n",
    "\n",
    "# Crypto Details\n",
    "cryptoProducts = [\"ETH-USD\", \"USDT-USD\", \"BTC-USD\"]\n",
    "availableGranularities = dict(zip([\"1M\", \"5M\", \"15M\", \"1H\", \"6H\", \"1D\"], [60, 300, 900, 3600, 21600, 86400]))\n",
    "\n",
    "# Stock Details\n",
    "dowTickers = [\"AAPL\", \"MSFT\", \"GOOGL\", \"TSLA\", \"AMZN\", \"NVDA\"]  \n",
    "sse50Tickers = [\"600519.SS\", \"601318.SS\", \"601857.SS\", \"600036.SS\", \"600016.SS\", \"600000.SS\"]  \n",
    "sensexTickers = [\"RELIANCE.BO\", \"TCS.BO\", \"INFY.BO\", \"ICICIBANK.BO\", \"SBIN.BO\", \"HINDUNILVR.BO\"] \n",
    "ftse100Tickers = [\"HSBA.L\", \"BP.L\", \"GSK.L\", \"SHEL.L\", \"BATS.L\", \"ULVR.L\"]  \n",
    "period = \"1D\"\n",
    "indexProducts = dowTickers + sse50Tickers + sensexTickers + ftse100Tickers\n",
    "productIds = indexProducts\n",
    "\n",
    "if CRYPTO:\n",
    "    productIds = cryptoProducts\n",
    "    period = \"6H\"\n",
    "    granularity = availableGranularities[period]\n",
    "    API_THRESHOLD = 300 #Can only get 300 periods at a time from API\n",
    "    PERIODS_WANTED = 2500\n",
    "\n",
    "# not a chance\n",
    "def retrieveCryptoData(productID, granularity, daysBack, endTime):\n",
    "    API_URL = f\"https://api.exchange.coinbase.com/products/{productID}/candles\"\n",
    "    daysBackDaysAgo = timedelta(days=daysBack)\n",
    "    startTime = datetime.fromisoformat(endTime) - (granularity/86400) * daysBackDaysAgo\n",
    "\n",
    "    # Convert to isoformat\n",
    "    startTime = startTime.isoformat()\n",
    "\n",
    "    # Set Request Parameters\n",
    "    parameters = {\n",
    "        \"start\" : startTime,\n",
    "        \"end\" : endTime,\n",
    "        \"granularity\" : str(granularity)\n",
    "    }\n",
    "\n",
    "    # Actually get data\n",
    "    data = requests.get(API_URL, params = parameters, headers = {\"content-type\":\"application/json\"})\n",
    "    df = pd.DataFrame(data.json(), columns=[\"time\", \"low\", \"high\", \"open\", \"close\", \"volume\"])\n",
    "    return df\n",
    "\n",
    "\n",
    "def retrieveIndexData(ticker):\n",
    "    # Define date range\n",
    "    startDate = \"2009-01-01\"\n",
    "    endDate = \"2020-08-05\"\n",
    "\n",
    "    ohlcData = {}\n",
    "    try:\n",
    "        stockData = yf.download(ticker, start=startDate, end=endDate)\n",
    "        ohlcData[ticker] = stockData[[\"Low\", \"High\", \"Open\", \"Close\", \"Volume\"]]\n",
    "    except Exception as e:\n",
    "        print(f\"Error fetching data for {ticker}: {e}\")\n",
    "\n",
    "    dfOhlc = pd.concat(ohlcData, axis=1)\n",
    "    return dfOhlc\n",
    "\n",
    "\n",
    "dataframes = dict()\n",
    "RETRIEVE_DATA = False\n",
    "\n",
    "if RETRIEVE_DATA:\n",
    "    for productId in productIds:\n",
    "        if CRYPTO:\n",
    "            # Fetch PERIODS_WANTED periods of data\n",
    "            end = (datetime.now()).isoformat()\n",
    "            for batch in range(PERIODS_WANTED // API_THRESHOLD  + 1):\n",
    "                amountToFetch = PERIODS_WANTED % API_THRESHOLD if batch == PERIODS_WANTED // API_THRESHOLD else API_THRESHOLD\n",
    "                tempDF = retrieveCryptoData(productId, granularity, amountToFetch, end)\n",
    "                timeInSeconds = (tempDF['time'].values)[-1]\n",
    "                dt = datetime.fromtimestamp(timeInSeconds - granularity)\n",
    "                end = dt.isoformat() + 'Z'\n",
    "                value = dataframes.get(productId)\n",
    "                if productId not in dataframes:\n",
    "                    dataframes[productId] = tempDF[::-1]\n",
    "                else:\n",
    "                    dataframes[productId] = pd.concat([tempDF[::-1], dataframes[productId]])\n",
    "        else:\n",
    "            dataframe = retrieveIndexData(ticker=productId)\n",
    "            columnNames = [value[1].lower() for value in list(dataframe.columns.values)]\n",
    "            dataframe.columns = columnNames\n",
    "            dataframes[productId] = dataframe\n",
    "   \n",
    "# Required for index data that pull stock data from different exchanges\n",
    "def commonaliseData(data):\n",
    "    commonDates = reduce(lambda x, y: x.intersection(y), [df.index for df in data.values()])\n",
    "    for ticker, df in data.items():\n",
    "        data[ticker] = df.reindex(commonDates)\n",
    "        data[ticker][\"Times\"] = commonDates\n",
    "    data = {ticker: df.dropna() for ticker, df in data.items()}\n",
    "    PERIODS_WANTED = data.get(indexProducts[0]).shape[0]\n",
    "    return data\n",
    "\n",
    "if not CRYPTO and RETRIEVE_DATA:\n",
    "    dataframes = commonaliseData(dataframes)"
   ]
  },
  {
   "cell_type": "code",
   "execution_count": 29,
   "metadata": {},
   "outputs": [],
   "source": [
    "TEST_CORRECT_ORDER = False\n",
    "\n",
    "if TEST_CORRECT_ORDER:\n",
    "    testTime = dataframes[productIds[0]]['time'].values\n",
    "    testTime -= testTime[0]\n",
    "    plt.figure(figsize=(10, 6))\n",
    "    plt.plot(testTime, color=\"blue\")\n",
    "    plt.title(f\"Test Correct Order\")\n",
    "    plt.xlabel(\"Time\")\n",
    "    plt.ylabel(\"Price\")\n",
    "    plt.show()"
   ]
  },
  {
   "cell_type": "markdown",
   "metadata": {},
   "source": [
    "## 2. Augment State Space (add indicators)"
   ]
  },
  {
   "cell_type": "markdown",
   "metadata": {},
   "source": [
    "### Indicator 1: Exponential Moving Average ###"
   ]
  },
  {
   "cell_type": "code",
   "execution_count": 30,
   "metadata": {},
   "outputs": [],
   "source": [
    "import matplotlib.pyplot as plt\n",
    "\n",
    "def EMA(array, N):\n",
    "    \"\"\"\n",
    "    EMA_t = (Price_t * α) + (EMA_(t-1) * (1 - α))\n",
    "    where:\n",
    "    EMA_t = Exponential Moving Average at time t\n",
    "    Price_t = Price at time t\n",
    "    α (alpha) = Smoothing factor, calculated as 2 / (N + 1)\n",
    "    N = Number of periods\n",
    "    \"\"\"\n",
    "    smoothingParameter = 2/(N + 1)\n",
    "    finalArray = [array[0]]\n",
    "    for i in range(1, len(array)):\n",
    "        finalArray.append(array[i] * smoothingParameter + finalArray[i-1] * (1 - smoothingParameter))\n",
    "    return np.array(finalArray)\n",
    "\n",
    "# expMA = EMA(closingPrices, t)\n",
    "# plt.figure(figsize=(10, 6))\n",
    "# plt.plot(expMA, label=f\"Exponential Moving Average: T={t}\", color=\"red\")\n",
    "# plt.plot(closingPrices, label=\"Actual Closing Prices\", color=\"blue\")\n",
    "# plt.title(f\"Price Data\")\n",
    "# plt.xlabel(\"Time\")\n",
    "# plt.ylabel(\"Price\")\n",
    "# plt.legend()\n",
    "# plt.show()"
   ]
  },
  {
   "cell_type": "markdown",
   "metadata": {},
   "source": [
    "### Indicator 2: Momemtum"
   ]
  },
  {
   "cell_type": "code",
   "execution_count": 31,
   "metadata": {},
   "outputs": [],
   "source": [
    "def Momentum(array):\n",
    "    # Percentage Change in Price/Time\n",
    "    momentumArray = [(array[i] - array[i-1]) /array[i-1] for i in range(1, len(array))]\n",
    "    momentumArray.insert(0, np.nan)\n",
    "    return np.array(momentumArray)\n",
    "\n",
    "# momentum = Momentum(closingPrices)\n",
    "# plt.figure(figsize=(10, 6))\n",
    "# plt.plot(momentum*100, color=\"green\")\n",
    "# plt.title(f\"Momentum Data (as %)\")\n",
    "# plt.xlabel(\"Time\")\n",
    "# plt.ylabel(\"Momentum\")\n",
    "# plt.legend()\n",
    "# plt.show()"
   ]
  },
  {
   "cell_type": "markdown",
   "metadata": {},
   "source": [
    "### Indicator 3: Average True Range"
   ]
  },
  {
   "cell_type": "code",
   "execution_count": 32,
   "metadata": {},
   "outputs": [],
   "source": [
    "\n",
    "def trueRange(high, low, close):\n",
    "    # TR = Max[(H - L), |H - C|, |L - C|\n",
    "    closing = np.insert(close, 0, np.nan, axis=0)[:len(close)]\n",
    "    return np.maximum(high - low, np.abs(high - closing), np.abs(low - closing))\n",
    "\n",
    "def averageTrueRange(high, low, close, n=14):\n",
    "    trueRanges = trueRange(high, low, close)\n",
    "    atr = np.empty_like(trueRanges)\n",
    "    atr[:n] = np.nan  # First n values are NaN\n",
    "    atr[n-1] = np.mean(trueRanges[:n])  # Initial ATR value (simple average of the first n TRs)\n",
    "    for i in range(n+1, len(trueRanges)):\n",
    "        atr[i] = (atr[i-1] * (n - 1) + trueRanges[i]) / n\n",
    "    return atr\n",
    "\n",
    "# aTRIndicator = averageTrueRange(highs, lows, closingPrices)\n",
    "# plt.figure(figsize=(10, 6))\n",
    "# plt.plot(aTRIndicator, color=\"Brown\")\n",
    "# plt.title(f\"Average True Range over Time\")\n",
    "# plt.xlabel(\"Time\")\n",
    "# plt.ylabel(\"Average True Range\")\n",
    "# plt.legend()\n",
    "# plt.show()"
   ]
  },
  {
   "cell_type": "markdown",
   "metadata": {},
   "source": [
    "### Indicator 4: Commodity Channel Index"
   ]
  },
  {
   "cell_type": "code",
   "execution_count": 33,
   "metadata": {},
   "outputs": [],
   "source": [
    "def commodityChannelIndex(high, low, close, n=20):\n",
    "    # (Typical Price - 20_Day Moving Average) / .015 x Mean Deviation\n",
    "    typicalPrices = (high + low + close) / 3\n",
    "    \n",
    "    movingAverage = np.full_like(high, np.nan)\n",
    "    meanDeviation = np.full_like(high, np.nan)\n",
    "    \n",
    "    for i in range(n, len(typicalPrices)):\n",
    "        movingAverage[i] = np.mean(typicalPrices[i-n:i])\n",
    "        meanDeviation[i] = np.mean(np.abs(typicalPrices[i-n:i] - movingAverage[i]))\n",
    "    \n",
    "    cci = np.full_like(high, np.nan, dtype=np.float64)\n",
    "\n",
    "    numerator = typicalPrices[n:] - movingAverage[n:]\n",
    "    denominator = 0.015 * meanDeviation[n:]\n",
    "    result = np.empty_like(numerator)\n",
    "\n",
    "    np.divide(numerator, denominator, out=result, where=(denominator != 0))\n",
    "    # a little hacky...\n",
    "    result[denominator == 0] = 0\n",
    "\n",
    "    cci[n:] = result\n",
    "    return cci\n",
    "\n",
    "# # CCI = commodityChannelIndex(highs, lows, closingPrices)\n",
    "# # plt.figure(figsize=(10, 6))\n",
    "# # plt.plot(CCI, color=\"black\")\n",
    "# # plt.title(f\"Commodity Channel Index over Time\")\n",
    "# # plt.xlabel(\"Time\")\n",
    "# # plt.ylabel(\"Commodity Channel Index\")\n",
    "# # plt.legend()\n",
    "# # plt.show()"
   ]
  },
  {
   "cell_type": "markdown",
   "metadata": {},
   "source": [
    "### Indicator 5: MACD"
   ]
  },
  {
   "cell_type": "code",
   "execution_count": 34,
   "metadata": {},
   "outputs": [],
   "source": [
    "\"\"\"\n",
    "MACD = 12-day EMA - 26-day EMA\n",
    "Signal Line = 9-day EMA of MACD\n",
    "MACD Histogram = MACD - Signal Line\n",
    "where EMA stands for Exponential Moving Average\n",
    "\"\"\"\n",
    "\n",
    "def MACD(array):\n",
    "    return EMA(array, 12) - EMA(array, 26)\n",
    "\n",
    "def MACDSignal(array):\n",
    "    return EMA(MACD(array), 9)\n",
    "\n",
    "MACDHistogram = lambda x : MACD(x) - MACDSignal(x)\n",
    "\n",
    "# mACD = MACD(closingPrices)\n",
    "# signalLine = MACDSignal(closingPrices)\n",
    "# macdHistogram = MACDHistogram(mACD, signalLine)\n",
    "\n",
    "# plt.figure(figsize=(10, 6))\n",
    "# plt.plot(mACD, color=\"blue\", label = \"MACD Line\")\n",
    "# plt.plot(signalLine, color = \"red\", label = \"Signal Line\")\n",
    "# plt.plot(macdHistogram, color = \"black\", label = \"Histogram\")\n",
    "# plt.title(f\"Moving Average Convergence-Divergence\")\n",
    "# plt.xlabel(\"Time\")\n",
    "# plt.ylabel(\"MACD\")\n",
    "# plt.legend()\n",
    "# plt.show()"
   ]
  },
  {
   "cell_type": "markdown",
   "metadata": {},
   "source": [
    "## 3. Collate All Features Into DataFrame"
   ]
  },
  {
   "cell_type": "code",
   "execution_count": 35,
   "metadata": {},
   "outputs": [],
   "source": [
    "import os\n",
    "\n",
    "CCI_T, ATR_T = 20, 14\n",
    "if RETRIEVE_DATA:\n",
    "    for product in productIds:\n",
    "        df = dataframes[product]\n",
    "        close = df[\"close\"].values\n",
    "        highs = df[\"high\"].values\n",
    "        lows = df[\"low\"].values\n",
    "        df['E_M_A'] = EMA(close, N=30)\n",
    "        df['Momentum'] = Momentum(close)\n",
    "        df['Av_True_Range'] = averageTrueRange(highs, lows, close, 14)\n",
    "        df['CCI'] = commodityChannelIndex(highs, lows, close, 20)\n",
    "        df['MACDHist'] = MACDHistogram(close)\n",
    "        df[\"Return\"] = df[\"close\"].pct_change().fillna(0)\n",
    "        # Reset Indexes\n",
    "        df = df.drop(columns=['open', 'high', 'volume', 'low'])\n",
    "        df = df.iloc[max(ATR_T, CCI_T):]\n",
    "        df = df.reset_index(drop=True)\n",
    "        dataframes[product] = df\n",
    "        if not os.path.exists(\"CSVs/\"):\n",
    "            os.makedirs(\"CSVs/\")\n",
    "        df.to_csv(f\"CSVs/{product}_{period}_periods.csv\", sep='\\t')\n",
    "else:\n",
    "    for productId in productIds:\n",
    "        df = pd.read_csv(f\"CSVs/{productId}_{period}_periods.csv\", sep='\\t')\n",
    "        dataframes[productId] = df.iloc[:, 1:]  # Drops the first column\n",
    "\n",
    "times = None\n",
    "if not CRYPTO:\n",
    "    for product in productIds:\n",
    "        df = dataframes[product]\n",
    "        times = df['Times']\n",
    "        dataframes[product] = df.drop('Times', axis=1)"
   ]
  },
  {
   "cell_type": "markdown",
   "metadata": {},
   "source": [
    "## 4. Environment and Training Process"
   ]
  },
  {
   "cell_type": "markdown",
   "metadata": {},
   "source": [
    "### Comparison Strategies"
   ]
  },
  {
   "cell_type": "code",
   "execution_count": 36,
   "metadata": {},
   "outputs": [],
   "source": [
    "sse50BuyAndHold =  np.array([0] + [1/len(sse50Tickers) if i in sse50Tickers else 0 for i in productIds])\n",
    "sensexBuyAndHold = np.array([0] + [1/len(sensexTickers) if i in sensexTickers else 0 for i in productIds])\n",
    "ftse100BuyAndHold = np.array([0] + [1/len(ftse100Tickers) if i in ftse100Tickers else 0 for i in productIds])\n",
    "dowBuyAndHold = np.array([0] + [1/len(dowTickers) if i in dowTickers else 0 for i in productIds])\n",
    "buyAndHoldAll = np.array([0] + [1/(len(productIds)) for i in productIds])\n",
    "\n",
    "#Non\n",
    "NON_RL_COMPARISON_STRATEGIES = {\n",
    "    \"SSEBuyAndHold\" : sse50BuyAndHold,\n",
    "    \"SENSEXBuyAndHold\" : sensexBuyAndHold,\n",
    "    \"FTSEBuyAndHold\" : ftse100BuyAndHold,\n",
    "    \"DOWBuyAndHold\" : dowBuyAndHold,\n",
    "    \"BuyAndHoldAll\" : buyAndHoldAll\n",
    "}"
   ]
  },
  {
   "cell_type": "markdown",
   "metadata": {},
   "source": [
    "### Hyperparameters (most of them)"
   ]
  },
  {
   "cell_type": "code",
   "execution_count": 37,
   "metadata": {},
   "outputs": [],
   "source": [
    "from collections import defaultdict\n",
    "\n",
    "\n",
    "NUMBER_OF_ASSETS = len(productIds)\n",
    "NUMBER_OF_FEATURES = 1 + (len((list(dataframes.values())[0]).columns)) * len(productIds) + 1\n",
    "if not CRYPTO:\n",
    "    PERIODS_WANTED = list(dataframes.values())[0].shape[0]\n",
    "TRAINING_PERIODS = round(PERIODS_WANTED * 2 / 3)\n",
    "VALIDATION_PERIODS = (PERIODS_WANTED - TRAINING_PERIODS) // 2\n",
    "TESTING_PERIODS = VALIDATION_PERIODS\n",
    "\n",
    "\n",
    "EPISODE_LENGTH = PERIODS_WANTED // 3 \n",
    "TIMESTEP_SHIFT = EPISODE_LENGTH // 10\n",
    "TRAINING_WINDOWS = ((TRAINING_PERIODS - EPISODE_LENGTH) // TIMESTEP_SHIFT) + 1\n",
    "\n",
    "EPOCHS = 5\n",
    "TIME_WINDOW = 30\n",
    "\n",
    "START_CASH = 1000000\n",
    "LSTMHIDDENSIZE = 128\n",
    "\n",
    "BASELINE = [\"RANDOM\"]\n",
    "RL_STRATS = [\"PPOLSTM\"]\n",
    "FINAL_STRATEGIES = BASELINE + [\"SSEBuyAndHold\", \"SENSEXBuyAndHold\", \"FTSEBuyAndHold\", \"DOWBuyAndHold\", \"BuyAndHoldAll\"]\n",
    "\n",
    "AGENT_RISK_AVERSIONS = np.array([0.25, 0.5, 1, 1.5, 2]) #i know, this probably shouldn't go here\n",
    "LSTMOUTPUTSIZES = [32, 64, 128, 256, 512]\n",
    "REWARD_FUNCTIONS = [\"Differential Sharpe Ratio_0.01\", \"Differential Sharpe Ratio_0.05\", \"Differential Sharpe Ratio_0.1\"]\n",
    "LEARNING_RATES = [1e-4, 3e-4, 5e-4, 7e-4]\n",
    "LEARNING_FREQUENCIES = (TRAINING_PERIODS / np.array([10, 20, 30, 40, 50])).astype(int)\n",
    "\n",
    "LEARNING_CURVE_FREQUENCY = None # for later\n",
    "\n",
    "\n",
    "averagePerformance = defaultdict(list)\n",
    "allResults = defaultdict(list)\n",
    "performances = defaultdict(list) # one of these is probably obsolete"
   ]
  },
  {
   "cell_type": "code",
   "execution_count": 38,
   "metadata": {},
   "outputs": [],
   "source": [
    "#this code is an eyesore but i was on a time crunch\n",
    "PRICE_TRAINING_DATA = {}\n",
    "AGENT_TRAINING_DATA = {}\n",
    "\n",
    "PRICE_VALIDATION_DATA = {}\n",
    "AGENT_VALIDATION_DATA = {}\n",
    "\n",
    "PRICE_TESTING_DATA = {}\n",
    "AGENT_TESTING_DATA = {}\n",
    "\n",
    "for key, df in dataframes.items():\n",
    "    trainSlice = df.iloc[:TRAINING_PERIODS].copy()\n",
    "    validationSlice = df.iloc[TRAINING_PERIODS:TRAINING_PERIODS+VALIDATION_PERIODS].copy()\n",
    "    testSlice = df.iloc[TRAINING_PERIODS+VALIDATION_PERIODS:].copy()\n",
    "\n",
    "    PRICE_TRAINING_DATA[key] = trainSlice[\"Return\"].values\n",
    "    PRICE_VALIDATION_DATA[key] = validationSlice[\"Return\"].values\n",
    "    PRICE_TESTING_DATA[key]  = testSlice[\"Return\"].values\n",
    "\n",
    "    AGENT_TRAINING_DATA[key] = (trainSlice - trainSlice.mean()) / trainSlice.std()\n",
    "    AGENT_VALIDATION_DATA[key] = (validationSlice - validationSlice.mean()) / validationSlice.std()\n",
    "    AGENT_TESTING_DATA[key]  = (testSlice - testSlice.mean()) / testSlice.std()\n",
    "\n",
    "PRICE_TRAINING_DATA = pd.DataFrame(PRICE_TRAINING_DATA)\n",
    "PRICE_VALIDATION_DATA = pd.DataFrame(PRICE_VALIDATION_DATA)\n",
    "PRICE_TESTING_DATA = pd.DataFrame(PRICE_TESTING_DATA)\n",
    "\n",
    "# Final Training Set\n",
    "PRICE_TRAINING_VALIDATION_DATA = pd.concat([PRICE_TRAINING_DATA, PRICE_VALIDATION_DATA], axis=0).reset_index(drop=True)\n",
    "AGENT_TRAINING_VALIDATION_DATA = {}\n",
    "for key, df in dataframes.items():\n",
    "    combinedSlice = pd.concat([df.iloc[:TRAINING_PERIODS], df.iloc[TRAINING_PERIODS:TRAINING_PERIODS+VALIDATION_PERIODS]], axis=0).copy()\n",
    "    normalizedCombined = (combinedSlice - combinedSlice.mean()) / combinedSlice.std()\n",
    "    AGENT_TRAINING_VALIDATION_DATA[key] = normalizedCombined.reset_index(drop=True)"
   ]
  },
  {
   "cell_type": "code",
   "execution_count": 39,
   "metadata": {},
   "outputs": [],
   "source": [
    "# Thing being tested\n",
    "TESTING = {\n",
    "    \"RISK AVERSION\" : False,\n",
    "    \"LSTM OUTPUT SIZE\" : False,\n",
    "    \"REWARD FUNCTION\" : False,\n",
    "    \"LEARNING FREQUENCY\": False, \n",
    "    \"LEARNING RATE\": False,\n",
    "}"
   ]
  },
  {
   "cell_type": "markdown",
   "metadata": {},
   "source": [
    "#### Some helper functions for metrics"
   ]
  },
  {
   "cell_type": "code",
   "execution_count": 40,
   "metadata": {},
   "outputs": [],
   "source": [
    "from utils import tabulate_neatly\n",
    "\n",
    "def printConfiguration(agent=None, freq=None):\n",
    "    table = [[\"LSTM Hidden Size\", \"LSTM Output Size\", \"Learning Frequency\", \"Agent Risk Aversion\"]]\n",
    "    table.append([LSTMHIDDENSIZE, agent.state_n, freq, agent.riskAversion])\n",
    "    tabulate_neatly(table, headers=\"firstrow\", title=f\"Configuration:\")\n",
    "\n",
    "def plotAllocations(allocations, title=None):\n",
    "    categories = ['Cash'] + productIds\n",
    "    plt.figure(figsize=(20,5))\n",
    "    plt.bar(categories, allocations)\n",
    "    plt.xlabel('Allocations')\n",
    "    plt.tick_params(axis='x', labelsize=6)\n",
    "    plt.ylabel('Proportion Allocated')\n",
    "    plt.title('Allocations' if title == None else title)\n",
    "    plt.show()\n",
    "\n",
    "def generateConfigLabel(strategy, agent, rewardFunction, freq, lr):\n",
    "    firstTag = f\"Strategy-{strategy}\" \n",
    "    innerTag = None\n",
    "    boole = (strategy not in NON_RL_COMPARISON_STRATEGIES.keys() and strategy != \"RANDOM\")\n",
    "    if TESTING[\"RISK AVERSION\"]:\n",
    "        innerTag = (f\"Risk Aversion-{agent.riskAversion}\" if boole else \"\")\n",
    "    elif TESTING[\"LSTM OUTPUT SIZE\"]:\n",
    "        innerTag = (f\"LSTM Output Size-{agent.state_n}\" if boole else \"\")\n",
    "    elif TESTING[\"REWARD FUNCTION\"]:  \n",
    "        innerTag = (f\"Reward Function-{rewardFunction}\" if boole else \"\")\n",
    "    elif TESTING[\"LEARNING FREQUENCY\"]:  \n",
    "        innerTag = (f\"Learning Frequency-{freq}\" if boole else \"\")\n",
    "    elif TESTING[\"LEARNING RATE\"]:  \n",
    "        innerTag = (f\"Learning Rate-{lr}\" if boole else \"\")\n",
    "    \n",
    "    if any(TESTING.values()) and boole:\n",
    "        firstTag, innerTag = innerTag, firstTag\n",
    "    return firstTag + \" | \" +  innerTag + \" | \"\n"
   ]
  },
  {
   "cell_type": "markdown",
   "metadata": {},
   "source": [
    "### Training and Evaluation Functions"
   ]
  },
  {
   "cell_type": "code",
   "execution_count": 41,
   "metadata": {},
   "outputs": [],
   "source": [
    "from PPO import PPOAgent\n",
    "\n",
    "def generateAgent(lstmOutputSize, riskAversion, lr, featureExtractor):\n",
    "        return PPOAgent( \n",
    "                        state_n=lstmOutputSize, \n",
    "                        actions_n=len(productIds) + 1,\n",
    "                        alpha=lr,\n",
    "                        policyClip = 0.2,\n",
    "                        gamma=0.99,\n",
    "                        lstmHiddenSize=LSTMHIDDENSIZE,\n",
    "                        actor_noise=0,\n",
    "                        batch_size=512,\n",
    "                        fc1_n=128,\n",
    "                        fc2_n=128,\n",
    "                        gaeLambda=0.98,\n",
    "                        epochs=10,\n",
    "                        riskAversion=riskAversion,\n",
    "                        featureExtractor = featureExtractor\n",
    "                    )"
   ]
  },
  {
   "cell_type": "code",
   "execution_count": 42,
   "metadata": {},
   "outputs": [],
   "source": [
    "from TimeSeriesEnvironment import TimeSeriesEnvironment\n",
    "import torch\n",
    "\n",
    "def storeExperiences(agent, data, reward, done, strategy, action, prob, val):\n",
    "    if strategy == \"PPOLSTM\":\n",
    "        agent.store(data, action, prob.squeeze(), val.squeeze(), reward, done)\n",
    "\n",
    "\n",
    "def warmUpEnvironment(environment, rewardFunction):\n",
    "    \"\"\"\n",
    "    'warm up' environment until there's enough data to estimate CVaR\n",
    "    \"\"\"\n",
    "    for _ in range(TIME_WINDOW):\n",
    "        environment.step(np.ones(len(productIds) + 1)/(len(productIds) + 1), rewardMethod=rewardFunction)\n",
    "    environment.setIsReady(True)\n",
    "\n",
    "\n",
    "def evaluateAgent(riskAversion, rewardFunction, agent, freq, lr, num, conf=None, save=True, dataType = \"validation\", forLearningCurve=False):\n",
    "    VAL_AND_TEST = {\n",
    "        \"validation\": [PRICE_VALIDATION_DATA, AGENT_VALIDATION_DATA, VALIDATION_PERIODS],\n",
    "        \"testing\": [PRICE_TESTING_DATA, AGENT_TESTING_DATA, TESTING_PERIODS]\n",
    "    }\n",
    "    torch.manual_seed(num)\n",
    "    np.random.seed(num)\n",
    "    toRun = BASELINE + RL_STRATS if not forLearningCurve else RL_STRATS\n",
    "    for strategy in toRun:\n",
    "        env = TimeSeriesEnvironment(VAL_AND_TEST[dataType][0], VAL_AND_TEST[dataType][1], TIME_WINDOW, VAL_AND_TEST[dataType][2], START_CASH, riskAversion, 2e-4)\n",
    "        env.reset()\n",
    "        done = False\n",
    "        while not done:\n",
    "            if not env.getIsReady():\n",
    "                warmUpEnvironment(env, rewardFunction)\n",
    "            observation = None\n",
    "            if strategy in RL_STRATS:\n",
    "                data = env.getData()\n",
    "                observation = agent.featureExtractor.forward(torch.tensor(data, dtype=torch.float32).unsqueeze(0))\n",
    "            if strategy == \"RANDOM\":\n",
    "                action = np.random.dirichlet(np.ones(len(productIds) + 1))\n",
    "            elif strategy in NON_RL_COMPARISON_STRATEGIES:\n",
    "                action = NON_RL_COMPARISON_STRATEGIES.get(strategy)\n",
    "            else: \n",
    "                if strategy == \"PPOLSTM\":\n",
    "                    action, _, __ = agent.select_action(observation, sampling= False)\n",
    "\n",
    "            finalAction = (\n",
    "                np.array([0] + action) if strategy in NON_RL_COMPARISON_STRATEGIES else action\n",
    "            )\n",
    "            next, reward, done, _, info = env.step(finalAction, rewardFunction)                    \n",
    "        dataString = None\n",
    "        if conf == None or strategy == \"RANDOM\":\n",
    "            dataString = generateConfigLabel(strategy, agent, rewardFunction, freq, lr)\n",
    "        else:\n",
    "            dataString = conf\n",
    "        if not forLearningCurve:\n",
    "            averagePerformance[dataString].append(env.PORTFOLIO_VALUES)\n",
    "            metrics = env.getMetrics()\n",
    "            allResults[dataString].append(metrics)\n",
    "            table = [metrics.keys()]\n",
    "            table.append(metrics.values())\n",
    "            tabulate_neatly(table, headers=\"firstrow\", title=f\"Evaluation: {num} | {dataString}\")\n",
    "        portFolder = f\"portfolios/{dataType}/{num}/\"\n",
    "        if forLearningCurve:\n",
    "            portFolder = f\"portfolios/{dataType}/forLearningCurve/\"\n",
    "        if not os.path.exists(portFolder):\n",
    "            os.makedirs(portFolder)\n",
    "        filePath = f\"{portFolder}{(dataString.split(\"|\")[0]).strip()}.txt\"\n",
    "        if forLearningCurve:\n",
    "            filePath = f\"{portFolder}{(dataString.split('|')[0]).strip()}_{num}.txt\"\n",
    "        np.savetxt(filePath, env.PORTFOLIO_VALUES, fmt='%f')\n",
    "        if (strategy in RL_STRATS) and save:\n",
    "            # if model.perform() #some \"scoreperformance stuff\"\n",
    "            saveFolder = f\"save/{dataType}/{num}/{(dataString.split(\"|\")[0]).strip()}/\"\n",
    "            # Ensure the child save directory exists\n",
    "            if not os.path.exists(saveFolder):\n",
    "                os.makedirs(saveFolder)\n",
    "            agent.save(saveFolder)  \n",
    "            "
   ]
  },
  {
   "cell_type": "code",
   "execution_count": 43,
   "metadata": {},
   "outputs": [],
   "source": [
    "from PPO import PPOAgent\n",
    "from LstmFeatureExtractor import LstmFeatureExtractor\n",
    "import numpy as np\n",
    "\n",
    "def initialiseTrainingEnvironment(episode, rewardFunction, riskAversion, evalType):\n",
    "    start = TIMESTEP_SHIFT * episode\n",
    "    normalisedData = dict()\n",
    "    PRICE_DATA = PRICE_TRAINING_DATA\n",
    "    AGENT_DATA = AGENT_TRAINING_DATA\n",
    "    #use training validation combo for training if testing\n",
    "    if evalType == \"testing\":\n",
    "        PRICE_DATA = PRICE_TRAINING_VALIDATION_DATA\n",
    "        AGENT_DATA = AGENT_TRAINING_VALIDATION_DATA\n",
    "    for key in PRICE_DATA.keys():\n",
    "        end = min(start+EPISODE_LENGTH, len(PRICE_DATA[key]))\n",
    "        normalisedData[key] = AGENT_DATA[key].iloc[start:end]\n",
    "        normalisedData[key].reset_index(drop=True, inplace=True)\n",
    "    env = TimeSeriesEnvironment(PRICE_DATA.iloc[start:end], normalisedData, TIME_WINDOW, EPISODE_LENGTH, START_CASH, riskAversion, 2e-4)\n",
    "    if \"Differential\" in rewardFunction:\n",
    "        decay = float(rewardFunction.split(\"_\")[1])\n",
    "        env.decayRate = decay\n",
    "    return env\n",
    "\n",
    "def trainingLoop(riskAversion=0, lstmOutputSize=128, rewardFunction=\"CVaR\", freq=int(EPISODE_LENGTH / 30), lr=3e-4, conf = None, evalType = \"validation\"):\n",
    "    featureExtractor = LstmFeatureExtractor(TIME_WINDOW, NUMBER_OF_FEATURES, 128, lstmOutputSize)\n",
    "    agent = generateAgent(lstmOutputSize, riskAversion, lr, featureExtractor)\n",
    "    numberRun=0\n",
    "    totalTimesteps = 0\n",
    "    startTime = time.time()\n",
    "    for epoch in range(EPOCHS):\n",
    "        if epoch > 0:\n",
    "            print(f\"{epoch} Epochs takes: {(time.time() - startTime):.2f} seconds\")\n",
    "        torch.manual_seed(epoch)\n",
    "        np.random.seed(epoch)\n",
    "        for strategy in RL_STRATS:\n",
    "            for episode in range(TRAINING_WINDOWS):\n",
    "                env = initialiseTrainingEnvironment(episode, rewardFunction, riskAversion, evalType)\n",
    "                env.reset()\n",
    "                done = False\n",
    "                while not done:\n",
    "                    if not env.getIsReady():\n",
    "                        warmUpEnvironment(env, rewardFunction)\n",
    "                        continue\n",
    "                    observation = None\n",
    "                    data = env.getData()\n",
    "                    observation = featureExtractor.forward(torch.tensor(data, dtype=torch.float32).unsqueeze(0))\n",
    "                    probabilities, valuation = None, None\n",
    "                    if strategy == \"PPOLSTM\":\n",
    "                        action, probabilities, valuation = agent.select_action(observation)\n",
    "                    next, reward, done, _, info = env.step(action, rewardFunction)    \n",
    "                    totalTimesteps += 1                \n",
    "                    if strategy in RL_STRATS:\n",
    "                        storeExperiences(agent, data, reward, done, strategy, action, probabilities, valuation)\n",
    "                        if (env.timeStep % freq) == 0:\n",
    "                            agent.train()\n",
    "                        if evalType == \"testing\" and (totalTimesteps % LEARNING_CURVE_FREQUENCY == 0):\n",
    "                            evaluateAgent(riskAversion, rewardFunction, agent, freq, lr, int(totalTimesteps/LEARNING_CURVE_FREQUENCY), conf, dataType=evalType, save=False, forLearningCurve=True)\n",
    "                    if done:\n",
    "                        numberRun += 1\n",
    "                        if numberRun % TRAINING_WINDOWS == 0:\n",
    "                            evaluateAgent(riskAversion, rewardFunction, agent, freq, lr, numberRun, conf, dataType=evalType)\n",
    "                        "
   ]
  },
  {
   "cell_type": "markdown",
   "metadata": {},
   "source": [
    "### Visualise Performance ###"
   ]
  },
  {
   "cell_type": "code",
   "execution_count": 44,
   "metadata": {},
   "outputs": [],
   "source": [
    "def plotPerformance(test, final=\"\"):\n",
    "    plt.figure(figsize=(12,6))\n",
    "    name = f\"Returns_\" \n",
    "    portfolioFolder = f\"portfolios/Test-{test+final}/\"+ datetime.now().strftime(\"%Y-%m-%d\") + \"/\"\n",
    "    plotsFolder = f\"plots/Test-{test+final}/\"+ datetime.now().strftime(\"%Y-%m-%d\") + \"/\"\n",
    "    if not os.path.exists(portfolioFolder):\n",
    "        os.makedirs(portfolioFolder)\n",
    "    if not os.path.exists(plotsFolder):\n",
    "        os.makedirs(plotsFolder)\n",
    "    for k, v in averagePerformance.items():\n",
    "        if final == \"\":\n",
    "            if test.lower() in k.lower() or \"RANDOM\" in k: # i wrote this at 12am forgive me\n",
    "                shouldBeSkipped = False\n",
    "            else:\n",
    "                shouldBeSkipped = True\n",
    "            for value in list(NON_RL_COMPARISON_STRATEGIES.keys())[:-1]:\n",
    "                if value in k:\n",
    "                    shouldBeSkipped = True # only need to compare with buy and hold for now\n",
    "            if shouldBeSkipped:\n",
    "                continue \n",
    "        try:\n",
    "            x = np.array(v)\n",
    "            x = np.mean(v, axis=0)\n",
    "            v = x\n",
    "        except ValueError:\n",
    "            maxLength = max(len(arr) for arr in v)\n",
    "            result = []\n",
    "            for i in range(maxLength):\n",
    "                values = [arr[i] for arr in v if i < len(arr)]\n",
    "                mean_value = np.mean(values)\n",
    "                result.append(mean_value)\n",
    "            v = result\n",
    "        l = k.split(\"|\")[0]\n",
    "        array = np.insert(v, 0, START_CASH)\n",
    "        plt.plot(array, label=l)\n",
    "        np.savetxt(f\"{portfolioFolder}{name}{l}.txt\", array, fmt='%f')\n",
    "        plt.title(f\"Returns over Time. Testing: {test}\")\n",
    "        plt.xlabel(\"Time\")\n",
    "        plt.ylabel(\"Mean Returns\")\n",
    "        plt.legend()\n",
    "        # plt.savefig(f\"{plotsFolder}{name}\")\n",
    "        plt.show()\n",
    "\n"
   ]
  },
  {
   "cell_type": "markdown",
   "metadata": {},
   "source": [
    "### Helper: Tabulate Results"
   ]
  },
  {
   "cell_type": "code",
   "execution_count": 45,
   "metadata": {},
   "outputs": [],
   "source": [
    "def tabulateResults():\n",
    "    for k, v in allResults.items():\n",
    "        table = [list(v[0].keys()) + [\"Standard Deviation\"]] \n",
    "        meanReturns, meanPB, meanSR, timeSteps = 0, 0, 0, 0\n",
    "        deviations = []\n",
    "        for resultSet in v:\n",
    "            meanReturns += resultSet[\"Cumulative \\nReturn (%)\"]\n",
    "            deviations.append(resultSet[\"Cumulative \\nReturn (%)\"])\n",
    "            meanPB += resultSet[\"Maximum \\nDrawdown (%)\"]\n",
    "            meanSR += resultSet[\"Sharpe Ratio\"]\n",
    "            timeSteps += resultSet[\"Total Timesteps\"]\n",
    "        array = [meanReturns, meanPB, meanSR, timeSteps, np.std(deviations)]\n",
    "        array = [i/len(v) for i in array]\n",
    "        table.append(array)\n",
    "        tabulate_neatly(table, headers=\"firstrow\", title=f\"MEAN RESULTS FOR: \" + k)"
   ]
  },
  {
   "cell_type": "markdown",
   "metadata": {},
   "source": [
    "#### Training Models"
   ]
  },
  {
   "cell_type": "code",
   "execution_count": 46,
   "metadata": {},
   "outputs": [],
   "source": [
    "def sweep():\n",
    "    for testType, active in TESTING.items():\n",
    "        if active:\n",
    "            print(f\"TESTING {testType.replace('_', ' ').upper()}\")\n",
    "            testLoops = {\n",
    "                \"RISK AVERSION\": lambda: [\n",
    "                    trainingLoop(riskAversion=risk) for risk in AGENT_RISK_AVERSIONS\n",
    "                ],\n",
    "                \"LSTM OUTPUT SIZE\": lambda: [\n",
    "                    trainingLoop(lstmOutputSize=size) for size in LSTMOUTPUTSIZES\n",
    "                ],\n",
    "                \"REWARD FUNCTION\": lambda: [\n",
    "                    trainingLoop(\n",
    "                        riskAversion=0, rewardFunction=r\n",
    "                    )\n",
    "                    for r in REWARD_FUNCTIONS\n",
    "                ],\n",
    "                \"LEARNING FREQUENCY\": lambda: [\n",
    "                    trainingLoop(freq=fr) for fr in LEARNING_FREQUENCIES\n",
    "                ],\n",
    "                \"LEARNING RATE\": lambda: [\n",
    "                    trainingLoop(lr=learn) for learn in LEARNING_RATES\n",
    "                ],\n",
    "            }\n",
    "            \n",
    "            testLoops[testType]()\n",
    "            break \n",
    "\n",
    "\n",
    "def hyperSweep():\n",
    "    for key in TESTING.keys():\n",
    "        print(\"=\" * 50)\n",
    "        TESTING[key] = True\n",
    "        sweep()\n",
    "        TESTING[key] = False\n",
    "        print(\"=\" * 50)\n",
    "    tabulateResults()\n",
    "\n",
    "TRAIN = False\n",
    "# Run the sweep\n",
    "if TRAIN:\n",
    "    hyperSweep()"
   ]
  },
  {
   "cell_type": "markdown",
   "metadata": {},
   "source": [
    "#### Evaluation"
   ]
  },
  {
   "cell_type": "code",
   "execution_count": 47,
   "metadata": {},
   "outputs": [],
   "source": [
    "HYPERS = {\n",
    "    \"Risk Aversion\" : AGENT_RISK_AVERSIONS,\n",
    "    \"LSTM Output Size\" : LSTMOUTPUTSIZES,\n",
    "    \"Reward Function\" : REWARD_FUNCTIONS,\n",
    "    \"Learning Frequency\": LEARNING_FREQUENCIES, \n",
    "    \"Learning Rate\": LEARNING_RATES,\n",
    "    }\n",
    "\n",
    "def initAgent(lstmOutputSize, lr, riskAversion):\n",
    "    agent = PPOAgent( \n",
    "            state_n=lstmOutputSize, \n",
    "            actions_n=len(productIds) + 1,\n",
    "            alpha=lr,\n",
    "            policyClip = 0.2,\n",
    "            gamma=0.99,\n",
    "            lstmHiddenSize=LSTMHIDDENSIZE,\n",
    "            actor_noise=0,\n",
    "            batch_size=512,\n",
    "            fc1_n=128,\n",
    "            fc2_n=128,\n",
    "            gaeLambda=0.98,\n",
    "            epochs=10,\n",
    "            riskAversion=riskAversion,\n",
    "            featureExtractor = LstmFeatureExtractor(TIME_WINDOW, NUMBER_OF_FEATURES, 128, lstmOutputSize)\n",
    "                )\n",
    "    return agent\n",
    "\n",
    "def setParameters(parameter, hyper, riskAversion, lstmOutputSize, lr):\n",
    "    agent = None\n",
    "    rf = \"Standard Logarithmic Returns\"\n",
    "    freq = int(EPISODE_LENGTH / 30)\n",
    "    risk = parameter if hyper == \"Risk Aversion\" else riskAversion\n",
    "    if hyper == \"Risk Aversion\" or hyper == \"Learning Frequency\" or hyper == \"Reward Function\":\n",
    "        agent = initAgent(lstmOutputSize, lr, risk)\n",
    "    elif hyper == \"LSTM Output Size\":\n",
    "        agent = initAgent(parameter, lr, risk)\n",
    "    else:\n",
    "        agent = initAgent(lstmOutputSize, parameter, risk)\n",
    "    if hyper == \"Reward Function\":\n",
    "        rf = parameter\n",
    "    if hyper == \"Learning Rate\":\n",
    "        lr = parameter\n",
    "    if hyper == \"Learning Frequency\":\n",
    "        freq = parameter\n",
    "    return rf, freq, risk, agent\n",
    "\n",
    "def runSavedAgents(lstmOutputSize = 128, riskAversion=0, lr=3e-4, dataType = \"validation\"):\n",
    "    for hyper, param in HYPERS.items():\n",
    "        TESTING[hyper.upper()] = True\n",
    "        for epoch in range(1, EPOCHS + 1):\n",
    "            for parameter in param:\n",
    "                saveFolder = f\"save/{dataType}/{epoch * TRAINING_WINDOWS}/{hyper}-{parameter}/\"\n",
    "                rf, freq, risk, agent = setParameters(parameter, hyper, riskAversion, lstmOutputSize, lr)\n",
    "                agent.load(saveFolder)\n",
    "                evaluateAgent(risk, rf, agent, freq, lr=lr, num=epoch * TRAINING_WINDOWS, conf=None, save=False) # ignore standard log - agent is not learning here\n",
    "        TESTING[hyper.upper()] = False\n",
    "                \n",
    "RUN_SAVED_TRAINED_AGENTS = False                \n",
    "\n",
    "if RUN_SAVED_TRAINED_AGENTS:\n",
    "    runSavedAgents()\n",
    "        "
   ]
  },
  {
   "cell_type": "markdown",
   "metadata": {},
   "source": [
    "#### Assess"
   ]
  },
  {
   "cell_type": "code",
   "execution_count": 49,
   "metadata": {},
   "outputs": [
    {
     "name": "stdout",
     "output_type": "stream",
     "text": [
      "Epoch 1 | Best Hyperparameter:  Risk Aversion-2.0\n",
      "Epoch 1 | Best Score:  0.2688460493174202\n"
     ]
    },
    {
     "data": {
      "text/html": [
       "<h3>Epoch: 1 | Scores and Metrics Tabulated</h3>\n"
      ]
     },
     "metadata": {},
     "output_type": "display_data"
    },
    {
     "data": {
      "text/html": [
       "<table>\n",
       "<thead>\n",
       "<tr><th>Hyperparameter    </th><th style=\"text-align: right;\">        Cumulative \n",
       "Return (%)</th><th style=\"text-align: right;\">        Maximum \n",
       "Drawdown (%)</th><th style=\"text-align: right;\">  Sharpe Ratio</th><th style=\"text-align: right;\">  Score</th></tr>\n",
       "</thead>\n",
       "<tbody>\n",
       "<tr><td>Risk Aversion-0.25</td><td style=\"text-align: right;\">28.1373</td><td style=\"text-align: right;\">13.2045</td><td style=\"text-align: right;\">        0.0956</td><td style=\"text-align: right;\"> 0.0793</td></tr>\n",
       "<tr><td>Risk Aversion-0.5 </td><td style=\"text-align: right;\">18.1532</td><td style=\"text-align: right;\">10.6902</td><td style=\"text-align: right;\">        0.0731</td><td style=\"text-align: right;\"> 0.0067</td></tr>\n",
       "<tr><td>Risk Aversion-1.0 </td><td style=\"text-align: right;\">29.0884</td><td style=\"text-align: right;\">10.0507</td><td style=\"text-align: right;\">        0.1053</td><td style=\"text-align: right;\"> 0.1248</td></tr>\n",
       "<tr><td>Risk Aversion-1.5 </td><td style=\"text-align: right;\">22.8187</td><td style=\"text-align: right;\">11.4623</td><td style=\"text-align: right;\">        0.0883</td><td style=\"text-align: right;\"> 0.0435</td></tr>\n",
       "<tr><td>Risk Aversion-2.0 </td><td style=\"text-align: right;\">38.1629</td><td style=\"text-align: right;\"> 9.9853</td><td style=\"text-align: right;\">        0.1279</td><td style=\"text-align: right;\"> 0.2688</td></tr>\n",
       "</tbody>\n",
       "</table>"
      ]
     },
     "metadata": {},
     "output_type": "display_data"
    },
    {
     "name": "stdout",
     "output_type": "stream",
     "text": [
      "Epoch 2 | Best Hyperparameter:  Risk Aversion-2.0\n",
      "Epoch 2 | Best Score:  0.27145849461507016\n"
     ]
    },
    {
     "data": {
      "text/html": [
       "<h3>Epoch: 2 | Scores and Metrics Tabulated</h3>\n"
      ]
     },
     "metadata": {},
     "output_type": "display_data"
    },
    {
     "data": {
      "text/html": [
       "<table>\n",
       "<thead>\n",
       "<tr><th>Hyperparameter    </th><th style=\"text-align: right;\">        Cumulative \n",
       "Return (%)</th><th style=\"text-align: right;\">        Maximum \n",
       "Drawdown (%)</th><th style=\"text-align: right;\">  Sharpe Ratio</th><th style=\"text-align: right;\">  Score</th></tr>\n",
       "</thead>\n",
       "<tbody>\n",
       "<tr><td>Risk Aversion-0.25</td><td style=\"text-align: right;\">29.3574</td><td style=\"text-align: right;\">13.2587</td><td style=\"text-align: right;\">        0.0969</td><td style=\"text-align: right;\"> 0.089 </td></tr>\n",
       "<tr><td>Risk Aversion-0.5 </td><td style=\"text-align: right;\">13.7701</td><td style=\"text-align: right;\">10.5442</td><td style=\"text-align: right;\">        0.058 </td><td style=\"text-align: right;\">-0.0187</td></tr>\n",
       "<tr><td>Risk Aversion-1.0 </td><td style=\"text-align: right;\">28.6146</td><td style=\"text-align: right;\"> 9.9667</td><td style=\"text-align: right;\">        0.0986</td><td style=\"text-align: right;\"> 0.1132</td></tr>\n",
       "<tr><td>Risk Aversion-1.5 </td><td style=\"text-align: right;\">13.5592</td><td style=\"text-align: right;\"> 8.7956</td><td style=\"text-align: right;\">        0.0573</td><td style=\"text-align: right;\">-0.0236</td></tr>\n",
       "<tr><td>Risk Aversion-2.0 </td><td style=\"text-align: right;\">39.1141</td><td style=\"text-align: right;\">10.3129</td><td style=\"text-align: right;\">        0.1276</td><td style=\"text-align: right;\"> 0.2715</td></tr>\n",
       "</tbody>\n",
       "</table>"
      ]
     },
     "metadata": {},
     "output_type": "display_data"
    },
    {
     "name": "stdout",
     "output_type": "stream",
     "text": [
      "Epoch 3 | Best Hyperparameter:  Risk Aversion-2.0\n",
      "Epoch 3 | Best Score:  0.2795761652690167\n"
     ]
    },
    {
     "data": {
      "text/html": [
       "<h3>Epoch: 3 | Scores and Metrics Tabulated</h3>\n"
      ]
     },
     "metadata": {},
     "output_type": "display_data"
    },
    {
     "data": {
      "text/html": [
       "<table>\n",
       "<thead>\n",
       "<tr><th>Hyperparameter    </th><th style=\"text-align: right;\">        Cumulative \n",
       "Return (%)</th><th style=\"text-align: right;\">        Maximum \n",
       "Drawdown (%)</th><th style=\"text-align: right;\">  Sharpe Ratio</th><th style=\"text-align: right;\">  Score</th></tr>\n",
       "</thead>\n",
       "<tbody>\n",
       "<tr><td>Risk Aversion-0.25</td><td style=\"text-align: right;\">26.5848</td><td style=\"text-align: right;\">13.5806</td><td style=\"text-align: right;\">        0.089 </td><td style=\"text-align: right;\"> 0.0617</td></tr>\n",
       "<tr><td>Risk Aversion-0.5 </td><td style=\"text-align: right;\">22.6138</td><td style=\"text-align: right;\">10.346 </td><td style=\"text-align: right;\">        0.093 </td><td style=\"text-align: right;\"> 0.0489</td></tr>\n",
       "<tr><td>Risk Aversion-1.0 </td><td style=\"text-align: right;\">27.964 </td><td style=\"text-align: right;\">10.9938</td><td style=\"text-align: right;\">        0.1004</td><td style=\"text-align: right;\"> 0.0986</td></tr>\n",
       "<tr><td>Risk Aversion-1.5 </td><td style=\"text-align: right;\">18.1072</td><td style=\"text-align: right;\"> 8.0018</td><td style=\"text-align: right;\">        0.0758</td><td style=\"text-align: right;\"> 0.0088</td></tr>\n",
       "<tr><td>Risk Aversion-2.0 </td><td style=\"text-align: right;\">38.6441</td><td style=\"text-align: right;\"> 9.8716</td><td style=\"text-align: right;\">        0.1285</td><td style=\"text-align: right;\"> 0.2796</td></tr>\n",
       "</tbody>\n",
       "</table>"
      ]
     },
     "metadata": {},
     "output_type": "display_data"
    },
    {
     "name": "stdout",
     "output_type": "stream",
     "text": [
      "Epoch 4 | Best Hyperparameter:  Risk Aversion-2.0\n",
      "Epoch 4 | Best Score:  0.3834972414890234\n"
     ]
    },
    {
     "data": {
      "text/html": [
       "<h3>Epoch: 4 | Scores and Metrics Tabulated</h3>\n"
      ]
     },
     "metadata": {},
     "output_type": "display_data"
    },
    {
     "data": {
      "text/html": [
       "<table>\n",
       "<thead>\n",
       "<tr><th>Hyperparameter    </th><th style=\"text-align: right;\">        Cumulative \n",
       "Return (%)</th><th style=\"text-align: right;\">        Maximum \n",
       "Drawdown (%)</th><th style=\"text-align: right;\">  Sharpe Ratio</th><th style=\"text-align: right;\">  Score</th></tr>\n",
       "</thead>\n",
       "<tbody>\n",
       "<tr><td>Risk Aversion-0.25</td><td style=\"text-align: right;\">37.5326</td><td style=\"text-align: right;\">12.4227</td><td style=\"text-align: right;\">        0.1177</td><td style=\"text-align: right;\"> 0.1928</td></tr>\n",
       "<tr><td>Risk Aversion-0.5 </td><td style=\"text-align: right;\">19.4265</td><td style=\"text-align: right;\">10.1249</td><td style=\"text-align: right;\">        0.083 </td><td style=\"text-align: right;\"> 0.0185</td></tr>\n",
       "<tr><td>Risk Aversion-1.0 </td><td style=\"text-align: right;\">31.6852</td><td style=\"text-align: right;\">11.6984</td><td style=\"text-align: right;\">        0.1114</td><td style=\"text-align: right;\"> 0.1382</td></tr>\n",
       "<tr><td>Risk Aversion-1.5 </td><td style=\"text-align: right;\">11.5037</td><td style=\"text-align: right;\"> 8.8226</td><td style=\"text-align: right;\">        0.0487</td><td style=\"text-align: right;\">-0.0313</td></tr>\n",
       "<tr><td>Risk Aversion-2.0 </td><td style=\"text-align: right;\">44.6754</td><td style=\"text-align: right;\">10.1056</td><td style=\"text-align: right;\">        0.1409</td><td style=\"text-align: right;\"> 0.3835</td></tr>\n",
       "</tbody>\n",
       "</table>"
      ]
     },
     "metadata": {},
     "output_type": "display_data"
    },
    {
     "name": "stdout",
     "output_type": "stream",
     "text": [
      "Epoch 5 | Best Hyperparameter:  Risk Aversion-2.0\n",
      "Epoch 5 | Best Score:  0.3983216251018903\n"
     ]
    },
    {
     "data": {
      "text/html": [
       "<h3>Epoch: 5 | Scores and Metrics Tabulated</h3>\n"
      ]
     },
     "metadata": {},
     "output_type": "display_data"
    },
    {
     "data": {
      "text/html": [
       "<table>\n",
       "<thead>\n",
       "<tr><th>Hyperparameter    </th><th style=\"text-align: right;\">        Cumulative \n",
       "Return (%)</th><th style=\"text-align: right;\">        Maximum \n",
       "Drawdown (%)</th><th style=\"text-align: right;\">  Sharpe Ratio</th><th style=\"text-align: right;\">  Score</th></tr>\n",
       "</thead>\n",
       "<tbody>\n",
       "<tr><td>Risk Aversion-0.25</td><td style=\"text-align: right;\">36.3013</td><td style=\"text-align: right;\">12.0722</td><td style=\"text-align: right;\">        0.1139</td><td style=\"text-align: right;\"> 0.1805</td></tr>\n",
       "<tr><td>Risk Aversion-0.5 </td><td style=\"text-align: right;\">15.3328</td><td style=\"text-align: right;\">11.6958</td><td style=\"text-align: right;\">        0.066 </td><td style=\"text-align: right;\">-0.0104</td></tr>\n",
       "<tr><td>Risk Aversion-1.0 </td><td style=\"text-align: right;\">36.7008</td><td style=\"text-align: right;\">11.7211</td><td style=\"text-align: right;\">        0.1238</td><td style=\"text-align: right;\"> 0.2062</td></tr>\n",
       "<tr><td>Risk Aversion-1.5 </td><td style=\"text-align: right;\">13.4536</td><td style=\"text-align: right;\"> 8.4185</td><td style=\"text-align: right;\">        0.0546</td><td style=\"text-align: right;\">-0.0241</td></tr>\n",
       "<tr><td>Risk Aversion-2.0 </td><td style=\"text-align: right;\">43.5867</td><td style=\"text-align: right;\"> 9.2276</td><td style=\"text-align: right;\">        0.1392</td><td style=\"text-align: right;\"> 0.3983</td></tr>\n",
       "</tbody>\n",
       "</table>"
      ]
     },
     "metadata": {},
     "output_type": "display_data"
    },
    {
     "data": {
      "text/html": [
       "<h3>Best Hyperparameters (Summary): Risk Aversion</h3>\n"
      ]
     },
     "metadata": {},
     "output_type": "display_data"
    },
    {
     "data": {
      "text/html": [
       "<table>\n",
       "<thead>\n",
       "<tr><th>Hyperparameter    </th><th style=\"text-align: right;\">  Epoch</th><th style=\"text-align: right;\">    Score</th></tr>\n",
       "</thead>\n",
       "<tbody>\n",
       "<tr><td>Risk Aversion-0.25</td><td style=\"text-align: right;\">      4</td><td style=\"text-align: right;\">0.19285  </td></tr>\n",
       "<tr><td>Risk Aversion-0.5 </td><td style=\"text-align: right;\">      3</td><td style=\"text-align: right;\">0.0489184</td></tr>\n",
       "<tr><td>Risk Aversion-1.0 </td><td style=\"text-align: right;\">      5</td><td style=\"text-align: right;\">0.206241 </td></tr>\n",
       "<tr><td>Risk Aversion-1.5 </td><td style=\"text-align: right;\">      1</td><td style=\"text-align: right;\">0.0434907</td></tr>\n",
       "<tr><td>Risk Aversion-2.0 </td><td style=\"text-align: right;\">      5</td><td style=\"text-align: right;\">0.398322 </td></tr>\n",
       "</tbody>\n",
       "</table>"
      ]
     },
     "metadata": {},
     "output_type": "display_data"
    },
    {
     "data": {
      "text/html": [
       "<h3>Best Hyperparameters with Detailed Metrics: Risk Aversion</h3>\n"
      ]
     },
     "metadata": {},
     "output_type": "display_data"
    },
    {
     "data": {
      "text/html": [
       "<table>\n",
       "<thead>\n",
       "<tr><th>Hyperparameter    </th><th style=\"text-align: right;\">  Best Epoch</th><th style=\"text-align: right;\">        Cumulative \n",
       "Return (%)</th><th style=\"text-align: right;\">        Maximum \n",
       "Drawdown (%)</th><th style=\"text-align: right;\">  Sharpe Ratio</th><th style=\"text-align: right;\">  Score</th></tr>\n",
       "</thead>\n",
       "<tbody>\n",
       "<tr><td>Risk Aversion-0.25</td><td style=\"text-align: right;\">           4</td><td style=\"text-align: right;\">37.5326</td><td style=\"text-align: right;\">12.4227</td><td style=\"text-align: right;\">        0.1177</td><td style=\"text-align: right;\"> 0.1928</td></tr>\n",
       "<tr><td>Risk Aversion-0.5 </td><td style=\"text-align: right;\">           3</td><td style=\"text-align: right;\">22.6138</td><td style=\"text-align: right;\">10.346 </td><td style=\"text-align: right;\">        0.093 </td><td style=\"text-align: right;\"> 0.0489</td></tr>\n",
       "<tr><td>Risk Aversion-1.0 </td><td style=\"text-align: right;\">           5</td><td style=\"text-align: right;\">36.7008</td><td style=\"text-align: right;\">11.7211</td><td style=\"text-align: right;\">        0.1238</td><td style=\"text-align: right;\"> 0.2062</td></tr>\n",
       "<tr><td>Risk Aversion-1.5 </td><td style=\"text-align: right;\">           1</td><td style=\"text-align: right;\">22.8187</td><td style=\"text-align: right;\">11.4623</td><td style=\"text-align: right;\">        0.0883</td><td style=\"text-align: right;\"> 0.0435</td></tr>\n",
       "<tr><td>Risk Aversion-2.0 </td><td style=\"text-align: right;\">           5</td><td style=\"text-align: right;\">43.5867</td><td style=\"text-align: right;\"> 9.2276</td><td style=\"text-align: right;\">        0.1392</td><td style=\"text-align: right;\"> 0.3983</td></tr>\n",
       "</tbody>\n",
       "</table>"
      ]
     },
     "metadata": {},
     "output_type": "display_data"
    },
    {
     "name": "stdout",
     "output_type": "stream",
     "text": [
      "Epoch 1 | Best Hyperparameter:  Lstm Output Size-32\n",
      "Epoch 1 | Best Score:  0.1634747342152004\n"
     ]
    },
    {
     "data": {
      "text/html": [
       "<h3>Epoch: 1 | Scores and Metrics Tabulated</h3>\n"
      ]
     },
     "metadata": {},
     "output_type": "display_data"
    },
    {
     "data": {
      "text/html": [
       "<table>\n",
       "<thead>\n",
       "<tr><th>Hyperparameter      </th><th style=\"text-align: right;\">        Cumulative \n",
       "Return (%)</th><th style=\"text-align: right;\">        Maximum \n",
       "Drawdown (%)</th><th style=\"text-align: right;\">  Sharpe Ratio</th><th style=\"text-align: right;\">  Score</th></tr>\n",
       "</thead>\n",
       "<tbody>\n",
       "<tr><td>Lstm Output Size-32 </td><td style=\"text-align: right;\">31.3332</td><td style=\"text-align: right;\">10.455 </td><td style=\"text-align: right;\">        0.1207</td><td style=\"text-align: right;\"> 0.1635</td></tr>\n",
       "<tr><td>Lstm Output Size-64 </td><td style=\"text-align: right;\">16.2159</td><td style=\"text-align: right;\">11.5933</td><td style=\"text-align: right;\">        0.0668</td><td style=\"text-align: right;\">-0.0055</td></tr>\n",
       "<tr><td>Lstm Output Size-128</td><td style=\"text-align: right;\">17.2976</td><td style=\"text-align: right;\">11.2808</td><td style=\"text-align: right;\">        0.0677</td><td style=\"text-align: right;\"> 0.0007</td></tr>\n",
       "<tr><td>Lstm Output Size-256</td><td style=\"text-align: right;\">16.4159</td><td style=\"text-align: right;\">11.7595</td><td style=\"text-align: right;\">        0.0655</td><td style=\"text-align: right;\">-0.0042</td></tr>\n",
       "<tr><td>Lstm Output Size-512</td><td style=\"text-align: right;\">31.4782</td><td style=\"text-align: right;\"> 9.9357</td><td style=\"text-align: right;\">        0.1117</td><td style=\"text-align: right;\"> 0.1608</td></tr>\n",
       "</tbody>\n",
       "</table>"
      ]
     },
     "metadata": {},
     "output_type": "display_data"
    },
    {
     "name": "stdout",
     "output_type": "stream",
     "text": [
      "Epoch 2 | Best Hyperparameter:  Lstm Output Size-512\n",
      "Epoch 2 | Best Score:  0.26000605808142513\n"
     ]
    },
    {
     "data": {
      "text/html": [
       "<h3>Epoch: 2 | Scores and Metrics Tabulated</h3>\n"
      ]
     },
     "metadata": {},
     "output_type": "display_data"
    },
    {
     "data": {
      "text/html": [
       "<table>\n",
       "<thead>\n",
       "<tr><th>Hyperparameter      </th><th style=\"text-align: right;\">        Cumulative \n",
       "Return (%)</th><th style=\"text-align: right;\">        Maximum \n",
       "Drawdown (%)</th><th style=\"text-align: right;\">  Sharpe Ratio</th><th style=\"text-align: right;\">  Score</th></tr>\n",
       "</thead>\n",
       "<tbody>\n",
       "<tr><td>Lstm Output Size-32 </td><td style=\"text-align: right;\">32.6641</td><td style=\"text-align: right;\">11.9149</td><td style=\"text-align: right;\">        0.1157</td><td style=\"text-align: right;\"> 0.1505</td></tr>\n",
       "<tr><td>Lstm Output Size-64 </td><td style=\"text-align: right;\">17.9827</td><td style=\"text-align: right;\">10.9392</td><td style=\"text-align: right;\">        0.0709</td><td style=\"text-align: right;\"> 0.0053</td></tr>\n",
       "<tr><td>Lstm Output Size-128</td><td style=\"text-align: right;\">22.1062</td><td style=\"text-align: right;\">10.1483</td><td style=\"text-align: right;\">        0.0852</td><td style=\"text-align: right;\"> 0.0414</td></tr>\n",
       "<tr><td>Lstm Output Size-256</td><td style=\"text-align: right;\">22.4609</td><td style=\"text-align: right;\">10.2168</td><td style=\"text-align: right;\">        0.0793</td><td style=\"text-align: right;\"> 0.041 </td></tr>\n",
       "<tr><td>Lstm Output Size-512</td><td style=\"text-align: right;\">36.4804</td><td style=\"text-align: right;\"> 9.4713</td><td style=\"text-align: right;\">        0.1275</td><td style=\"text-align: right;\"> 0.26  </td></tr>\n",
       "</tbody>\n",
       "</table>"
      ]
     },
     "metadata": {},
     "output_type": "display_data"
    },
    {
     "name": "stdout",
     "output_type": "stream",
     "text": [
      "Epoch 3 | Best Hyperparameter:  Lstm Output Size-512\n",
      "Epoch 3 | Best Score:  0.20970925502436508\n"
     ]
    },
    {
     "data": {
      "text/html": [
       "<h3>Epoch: 3 | Scores and Metrics Tabulated</h3>\n"
      ]
     },
     "metadata": {},
     "output_type": "display_data"
    },
    {
     "data": {
      "text/html": [
       "<table>\n",
       "<thead>\n",
       "<tr><th>Hyperparameter      </th><th style=\"text-align: right;\">        Cumulative \n",
       "Return (%)</th><th style=\"text-align: right;\">        Maximum \n",
       "Drawdown (%)</th><th style=\"text-align: right;\">  Sharpe Ratio</th><th style=\"text-align: right;\">  Score</th></tr>\n",
       "</thead>\n",
       "<tbody>\n",
       "<tr><td>Lstm Output Size-32 </td><td style=\"text-align: right;\">20.2877</td><td style=\"text-align: right;\">13.0406</td><td style=\"text-align: right;\">        0.0721</td><td style=\"text-align: right;\"> 0.0172</td></tr>\n",
       "<tr><td>Lstm Output Size-64 </td><td style=\"text-align: right;\">15.5853</td><td style=\"text-align: right;\">15.1424</td><td style=\"text-align: right;\">        0.0516</td><td style=\"text-align: right;\">-0.0054</td></tr>\n",
       "<tr><td>Lstm Output Size-128</td><td style=\"text-align: right;\">28.7596</td><td style=\"text-align: right;\">10.2649</td><td style=\"text-align: right;\">        0.109 </td><td style=\"text-align: right;\"> 0.123 </td></tr>\n",
       "<tr><td>Lstm Output Size-256</td><td style=\"text-align: right;\">23.1108</td><td style=\"text-align: right;\">10.4634</td><td style=\"text-align: right;\">        0.0866</td><td style=\"text-align: right;\"> 0.0491</td></tr>\n",
       "<tr><td>Lstm Output Size-512</td><td style=\"text-align: right;\">35.3794</td><td style=\"text-align: right;\">10.4709</td><td style=\"text-align: right;\">        0.1206</td><td style=\"text-align: right;\"> 0.2097</td></tr>\n",
       "</tbody>\n",
       "</table>"
      ]
     },
     "metadata": {},
     "output_type": "display_data"
    },
    {
     "name": "stdout",
     "output_type": "stream",
     "text": [
      "Epoch 4 | Best Hyperparameter:  Lstm Output Size-128\n",
      "Epoch 4 | Best Score:  0.19435812790544635\n"
     ]
    },
    {
     "data": {
      "text/html": [
       "<h3>Epoch: 4 | Scores and Metrics Tabulated</h3>\n"
      ]
     },
     "metadata": {},
     "output_type": "display_data"
    },
    {
     "data": {
      "text/html": [
       "<table>\n",
       "<thead>\n",
       "<tr><th>Hyperparameter      </th><th style=\"text-align: right;\">        Cumulative \n",
       "Return (%)</th><th style=\"text-align: right;\">        Maximum \n",
       "Drawdown (%)</th><th style=\"text-align: right;\">  Sharpe Ratio</th><th style=\"text-align: right;\">  Score</th></tr>\n",
       "</thead>\n",
       "<tbody>\n",
       "<tr><td>Lstm Output Size-32 </td><td style=\"text-align: right;\">20.1091</td><td style=\"text-align: right;\">13.2665</td><td style=\"text-align: right;\">        0.0747</td><td style=\"text-align: right;\"> 0.0165</td></tr>\n",
       "<tr><td>Lstm Output Size-64 </td><td style=\"text-align: right;\">14.7558</td><td style=\"text-align: right;\">16.755 </td><td style=\"text-align: right;\">        0.0458</td><td style=\"text-align: right;\">-0.0066</td></tr>\n",
       "<tr><td>Lstm Output Size-128</td><td style=\"text-align: right;\">33.3597</td><td style=\"text-align: right;\">10.0243</td><td style=\"text-align: right;\">        0.1204</td><td style=\"text-align: right;\"> 0.1944</td></tr>\n",
       "<tr><td>Lstm Output Size-256</td><td style=\"text-align: right;\">25.329 </td><td style=\"text-align: right;\">10.3351</td><td style=\"text-align: right;\">        0.0984</td><td style=\"text-align: right;\"> 0.0776</td></tr>\n",
       "<tr><td>Lstm Output Size-512</td><td style=\"text-align: right;\">29.912 </td><td style=\"text-align: right;\">10.788 </td><td style=\"text-align: right;\">        0.104 </td><td style=\"text-align: right;\"> 0.1228</td></tr>\n",
       "</tbody>\n",
       "</table>"
      ]
     },
     "metadata": {},
     "output_type": "display_data"
    },
    {
     "name": "stdout",
     "output_type": "stream",
     "text": [
      "Epoch 5 | Best Hyperparameter:  Lstm Output Size-512\n",
      "Epoch 5 | Best Score:  0.21092364646017608\n"
     ]
    },
    {
     "data": {
      "text/html": [
       "<h3>Epoch: 5 | Scores and Metrics Tabulated</h3>\n"
      ]
     },
     "metadata": {},
     "output_type": "display_data"
    },
    {
     "data": {
      "text/html": [
       "<table>\n",
       "<thead>\n",
       "<tr><th>Hyperparameter      </th><th style=\"text-align: right;\">        Cumulative \n",
       "Return (%)</th><th style=\"text-align: right;\">        Maximum \n",
       "Drawdown (%)</th><th style=\"text-align: right;\">  Sharpe Ratio</th><th style=\"text-align: right;\">  Score</th></tr>\n",
       "</thead>\n",
       "<tbody>\n",
       "<tr><td>Lstm Output Size-32 </td><td style=\"text-align: right;\">16.2026</td><td style=\"text-align: right;\">13.4028</td><td style=\"text-align: right;\">        0.063 </td><td style=\"text-align: right;\">-0.0046</td></tr>\n",
       "<tr><td>Lstm Output Size-64 </td><td style=\"text-align: right;\">20.0028</td><td style=\"text-align: right;\">15.9973</td><td style=\"text-align: right;\">        0.058 </td><td style=\"text-align: right;\"> 0.0103</td></tr>\n",
       "<tr><td>Lstm Output Size-128</td><td style=\"text-align: right;\">32.3599</td><td style=\"text-align: right;\"> 9.9274</td><td style=\"text-align: right;\">        0.1127</td><td style=\"text-align: right;\"> 0.1723</td></tr>\n",
       "<tr><td>Lstm Output Size-256</td><td style=\"text-align: right;\">23.4867</td><td style=\"text-align: right;\"> 9.7566</td><td style=\"text-align: right;\">        0.0848</td><td style=\"text-align: right;\"> 0.0549</td></tr>\n",
       "<tr><td>Lstm Output Size-512</td><td style=\"text-align: right;\">35.2833</td><td style=\"text-align: right;\">10.3016</td><td style=\"text-align: right;\">        0.12  </td><td style=\"text-align: right;\"> 0.2109</td></tr>\n",
       "</tbody>\n",
       "</table>"
      ]
     },
     "metadata": {},
     "output_type": "display_data"
    },
    {
     "data": {
      "text/html": [
       "<h3>Best Hyperparameters (Summary): Lstm Output Size</h3>\n"
      ]
     },
     "metadata": {},
     "output_type": "display_data"
    },
    {
     "data": {
      "text/html": [
       "<table>\n",
       "<thead>\n",
       "<tr><th>Hyperparameter      </th><th style=\"text-align: right;\">  Epoch</th><th style=\"text-align: right;\">    Score</th></tr>\n",
       "</thead>\n",
       "<tbody>\n",
       "<tr><td>Lstm Output Size-32 </td><td style=\"text-align: right;\">      1</td><td style=\"text-align: right;\">0.163475 </td></tr>\n",
       "<tr><td>Lstm Output Size-64 </td><td style=\"text-align: right;\">      5</td><td style=\"text-align: right;\">0.0102622</td></tr>\n",
       "<tr><td>Lstm Output Size-128</td><td style=\"text-align: right;\">      4</td><td style=\"text-align: right;\">0.194358 </td></tr>\n",
       "<tr><td>Lstm Output Size-256</td><td style=\"text-align: right;\">      4</td><td style=\"text-align: right;\">0.0776358</td></tr>\n",
       "<tr><td>Lstm Output Size-512</td><td style=\"text-align: right;\">      2</td><td style=\"text-align: right;\">0.260006 </td></tr>\n",
       "</tbody>\n",
       "</table>"
      ]
     },
     "metadata": {},
     "output_type": "display_data"
    },
    {
     "data": {
      "text/html": [
       "<h3>Best Hyperparameters with Detailed Metrics: Lstm Output Size</h3>\n"
      ]
     },
     "metadata": {},
     "output_type": "display_data"
    },
    {
     "data": {
      "text/html": [
       "<table>\n",
       "<thead>\n",
       "<tr><th>Hyperparameter      </th><th style=\"text-align: right;\">  Best Epoch</th><th style=\"text-align: right;\">        Cumulative \n",
       "Return (%)</th><th style=\"text-align: right;\">        Maximum \n",
       "Drawdown (%)</th><th style=\"text-align: right;\">  Sharpe Ratio</th><th style=\"text-align: right;\">  Score</th></tr>\n",
       "</thead>\n",
       "<tbody>\n",
       "<tr><td>Lstm Output Size-32 </td><td style=\"text-align: right;\">           1</td><td style=\"text-align: right;\">31.3332</td><td style=\"text-align: right;\">10.455 </td><td style=\"text-align: right;\">        0.1207</td><td style=\"text-align: right;\"> 0.1635</td></tr>\n",
       "<tr><td>Lstm Output Size-64 </td><td style=\"text-align: right;\">           5</td><td style=\"text-align: right;\">20.0028</td><td style=\"text-align: right;\">15.9973</td><td style=\"text-align: right;\">        0.058 </td><td style=\"text-align: right;\"> 0.0103</td></tr>\n",
       "<tr><td>Lstm Output Size-128</td><td style=\"text-align: right;\">           4</td><td style=\"text-align: right;\">33.3597</td><td style=\"text-align: right;\">10.0243</td><td style=\"text-align: right;\">        0.1204</td><td style=\"text-align: right;\"> 0.1944</td></tr>\n",
       "<tr><td>Lstm Output Size-256</td><td style=\"text-align: right;\">           4</td><td style=\"text-align: right;\">25.329 </td><td style=\"text-align: right;\">10.3351</td><td style=\"text-align: right;\">        0.0984</td><td style=\"text-align: right;\"> 0.0776</td></tr>\n",
       "<tr><td>Lstm Output Size-512</td><td style=\"text-align: right;\">           2</td><td style=\"text-align: right;\">36.4804</td><td style=\"text-align: right;\"> 9.4713</td><td style=\"text-align: right;\">        0.1275</td><td style=\"text-align: right;\"> 0.26  </td></tr>\n",
       "</tbody>\n",
       "</table>"
      ]
     },
     "metadata": {},
     "output_type": "display_data"
    },
    {
     "name": "stdout",
     "output_type": "stream",
     "text": [
      "Epoch 1 | Best Hyperparameter:  Reward Function-Differential Sharpe Ratio_0.05\n",
      "Epoch 1 | Best Score:  0.2358700549140397\n"
     ]
    },
    {
     "data": {
      "text/html": [
       "<h3>Epoch: 1 | Scores and Metrics Tabulated</h3>\n"
      ]
     },
     "metadata": {},
     "output_type": "display_data"
    },
    {
     "data": {
      "text/html": [
       "<table>\n",
       "<thead>\n",
       "<tr><th>Hyperparameter                                </th><th style=\"text-align: right;\">        Cumulative \n",
       "Return (%)</th><th style=\"text-align: right;\">        Maximum \n",
       "Drawdown (%)</th><th style=\"text-align: right;\">  Sharpe Ratio</th><th style=\"text-align: right;\">  Score</th></tr>\n",
       "</thead>\n",
       "<tbody>\n",
       "<tr><td>Reward Function-Differential Sharpe Ratio_0.01</td><td style=\"text-align: right;\">11.5298</td><td style=\"text-align: right;\">13.9217</td><td style=\"text-align: right;\">        0.0435</td><td style=\"text-align: right;\">-0.0176</td></tr>\n",
       "<tr><td>Reward Function-Differential Sharpe Ratio_0.05</td><td style=\"text-align: right;\">39.0449</td><td style=\"text-align: right;\">11.2653</td><td style=\"text-align: right;\">        0.1215</td><td style=\"text-align: right;\"> 0.2359</td></tr>\n",
       "<tr><td>Reward Function-Differential Sharpe Ratio_0.1 </td><td style=\"text-align: right;\">34.8641</td><td style=\"text-align: right;\">10.9584</td><td style=\"text-align: right;\">        0.1127</td><td style=\"text-align: right;\"> 0.1819</td></tr>\n",
       "</tbody>\n",
       "</table>"
      ]
     },
     "metadata": {},
     "output_type": "display_data"
    },
    {
     "name": "stdout",
     "output_type": "stream",
     "text": [
      "Epoch 2 | Best Hyperparameter:  Reward Function-Differential Sharpe Ratio_0.1\n",
      "Epoch 2 | Best Score:  0.23055519719923254\n"
     ]
    },
    {
     "data": {
      "text/html": [
       "<h3>Epoch: 2 | Scores and Metrics Tabulated</h3>\n"
      ]
     },
     "metadata": {},
     "output_type": "display_data"
    },
    {
     "data": {
      "text/html": [
       "<table>\n",
       "<thead>\n",
       "<tr><th>Hyperparameter                                </th><th style=\"text-align: right;\">        Cumulative \n",
       "Return (%)</th><th style=\"text-align: right;\">        Maximum \n",
       "Drawdown (%)</th><th style=\"text-align: right;\">  Sharpe Ratio</th><th style=\"text-align: right;\">  Score</th></tr>\n",
       "</thead>\n",
       "<tbody>\n",
       "<tr><td>Reward Function-Differential Sharpe Ratio_0.01</td><td style=\"text-align: right;\"> 9.8158</td><td style=\"text-align: right;\">16.9752</td><td style=\"text-align: right;\">        0.0343</td><td style=\"text-align: right;\">-0.0149</td></tr>\n",
       "<tr><td>Reward Function-Differential Sharpe Ratio_0.05</td><td style=\"text-align: right;\">38.4176</td><td style=\"text-align: right;\">11.9134</td><td style=\"text-align: right;\">        0.1071</td><td style=\"text-align: right;\"> 0.1911</td></tr>\n",
       "<tr><td>Reward Function-Differential Sharpe Ratio_0.1 </td><td style=\"text-align: right;\">41.5436</td><td style=\"text-align: right;\">12.8777</td><td style=\"text-align: right;\">        0.1218</td><td style=\"text-align: right;\"> 0.2306</td></tr>\n",
       "</tbody>\n",
       "</table>"
      ]
     },
     "metadata": {},
     "output_type": "display_data"
    },
    {
     "name": "stdout",
     "output_type": "stream",
     "text": [
      "Epoch 3 | Best Hyperparameter:  Reward Function-Differential Sharpe Ratio_0.1\n",
      "Epoch 3 | Best Score:  0.2112259180954321\n"
     ]
    },
    {
     "data": {
      "text/html": [
       "<h3>Epoch: 3 | Scores and Metrics Tabulated</h3>\n"
      ]
     },
     "metadata": {},
     "output_type": "display_data"
    },
    {
     "data": {
      "text/html": [
       "<table>\n",
       "<thead>\n",
       "<tr><th>Hyperparameter                                </th><th style=\"text-align: right;\">        Cumulative \n",
       "Return (%)</th><th style=\"text-align: right;\">        Maximum \n",
       "Drawdown (%)</th><th style=\"text-align: right;\">  Sharpe Ratio</th><th style=\"text-align: right;\">  Score</th></tr>\n",
       "</thead>\n",
       "<tbody>\n",
       "<tr><td>Reward Function-Differential Sharpe Ratio_0.01</td><td style=\"text-align: right;\"> 0.6827</td><td style=\"text-align: right;\">22.026 </td><td style=\"text-align: right;\">        0.0066</td><td style=\"text-align: right;\">-0.0049</td></tr>\n",
       "<tr><td>Reward Function-Differential Sharpe Ratio_0.05</td><td style=\"text-align: right;\">35.6432</td><td style=\"text-align: right;\">13.4196</td><td style=\"text-align: right;\">        0.0991</td><td style=\"text-align: right;\"> 0.1364</td></tr>\n",
       "<tr><td>Reward Function-Differential Sharpe Ratio_0.1 </td><td style=\"text-align: right;\">39.4443</td><td style=\"text-align: right;\">12.9508</td><td style=\"text-align: right;\">        0.1228</td><td style=\"text-align: right;\"> 0.2112</td></tr>\n",
       "</tbody>\n",
       "</table>"
      ]
     },
     "metadata": {},
     "output_type": "display_data"
    },
    {
     "name": "stdout",
     "output_type": "stream",
     "text": [
      "Epoch 4 | Best Hyperparameter:  Reward Function-Differential Sharpe Ratio_0.1\n",
      "Epoch 4 | Best Score:  0.2051814739358213\n"
     ]
    },
    {
     "data": {
      "text/html": [
       "<h3>Epoch: 4 | Scores and Metrics Tabulated</h3>\n"
      ]
     },
     "metadata": {},
     "output_type": "display_data"
    },
    {
     "data": {
      "text/html": [
       "<table>\n",
       "<thead>\n",
       "<tr><th>Hyperparameter                                </th><th style=\"text-align: right;\">        Cumulative \n",
       "Return (%)</th><th style=\"text-align: right;\">        Maximum \n",
       "Drawdown (%)</th><th style=\"text-align: right;\">  Sharpe Ratio</th><th style=\"text-align: right;\">  Score</th></tr>\n",
       "</thead>\n",
       "<tbody>\n",
       "<tr><td>Reward Function-Differential Sharpe Ratio_0.01</td><td style=\"text-align: right;\">-7.3644</td><td style=\"text-align: right;\">26.2626</td><td style=\"text-align: right;\">       -0.0172</td><td style=\"text-align: right;\"> 0.0161</td></tr>\n",
       "<tr><td>Reward Function-Differential Sharpe Ratio_0.05</td><td style=\"text-align: right;\">32.2618</td><td style=\"text-align: right;\">12.404 </td><td style=\"text-align: right;\">        0.0945</td><td style=\"text-align: right;\"> 0.1149</td></tr>\n",
       "<tr><td>Reward Function-Differential Sharpe Ratio_0.1 </td><td style=\"text-align: right;\">40.0468</td><td style=\"text-align: right;\">13.8145</td><td style=\"text-align: right;\">        0.1239</td><td style=\"text-align: right;\"> 0.2052</td></tr>\n",
       "</tbody>\n",
       "</table>"
      ]
     },
     "metadata": {},
     "output_type": "display_data"
    },
    {
     "name": "stdout",
     "output_type": "stream",
     "text": [
      "Epoch 5 | Best Hyperparameter:  Reward Function-Differential Sharpe Ratio_0.1\n",
      "Epoch 5 | Best Score:  0.2129536895573205\n"
     ]
    },
    {
     "data": {
      "text/html": [
       "<h3>Epoch: 5 | Scores and Metrics Tabulated</h3>\n"
      ]
     },
     "metadata": {},
     "output_type": "display_data"
    },
    {
     "data": {
      "text/html": [
       "<table>\n",
       "<thead>\n",
       "<tr><th>Hyperparameter                                </th><th style=\"text-align: right;\">        Cumulative \n",
       "Return (%)</th><th style=\"text-align: right;\">        Maximum \n",
       "Drawdown (%)</th><th style=\"text-align: right;\">  Sharpe Ratio</th><th style=\"text-align: right;\">  Score</th></tr>\n",
       "</thead>\n",
       "<tbody>\n",
       "<tr><td>Reward Function-Differential Sharpe Ratio_0.01</td><td style=\"text-align: right;\"> 2.7764</td><td style=\"text-align: right;\">20.332 </td><td style=\"text-align: right;\">        0.0131</td><td style=\"text-align: right;\">-0.0093</td></tr>\n",
       "<tr><td>Reward Function-Differential Sharpe Ratio_0.05</td><td style=\"text-align: right;\">31.7274</td><td style=\"text-align: right;\">13.6226</td><td style=\"text-align: right;\">        0.0936</td><td style=\"text-align: right;\"> 0.1   </td></tr>\n",
       "<tr><td>Reward Function-Differential Sharpe Ratio_0.1 </td><td style=\"text-align: right;\">41.5966</td><td style=\"text-align: right;\">14.3963</td><td style=\"text-align: right;\">        0.1255</td><td style=\"text-align: right;\"> 0.213 </td></tr>\n",
       "</tbody>\n",
       "</table>"
      ]
     },
     "metadata": {},
     "output_type": "display_data"
    },
    {
     "data": {
      "text/html": [
       "<h3>Best Hyperparameters (Summary): Reward Function</h3>\n"
      ]
     },
     "metadata": {},
     "output_type": "display_data"
    },
    {
     "data": {
      "text/html": [
       "<table>\n",
       "<thead>\n",
       "<tr><th>Hyperparameter                                </th><th style=\"text-align: right;\">  Epoch</th><th style=\"text-align: right;\">    Score</th></tr>\n",
       "</thead>\n",
       "<tbody>\n",
       "<tr><td>Reward Function-Differential Sharpe Ratio_0.01</td><td style=\"text-align: right;\">      4</td><td style=\"text-align: right;\">0.0161089</td></tr>\n",
       "<tr><td>Reward Function-Differential Sharpe Ratio_0.05</td><td style=\"text-align: right;\">      1</td><td style=\"text-align: right;\">0.23587  </td></tr>\n",
       "<tr><td>Reward Function-Differential Sharpe Ratio_0.1 </td><td style=\"text-align: right;\">      2</td><td style=\"text-align: right;\">0.230555 </td></tr>\n",
       "</tbody>\n",
       "</table>"
      ]
     },
     "metadata": {},
     "output_type": "display_data"
    },
    {
     "data": {
      "text/html": [
       "<h3>Best Hyperparameters with Detailed Metrics: Reward Function</h3>\n"
      ]
     },
     "metadata": {},
     "output_type": "display_data"
    },
    {
     "data": {
      "text/html": [
       "<table>\n",
       "<thead>\n",
       "<tr><th>Hyperparameter                                </th><th style=\"text-align: right;\">  Best Epoch</th><th style=\"text-align: right;\">        Cumulative \n",
       "Return (%)</th><th style=\"text-align: right;\">        Maximum \n",
       "Drawdown (%)</th><th style=\"text-align: right;\">  Sharpe Ratio</th><th style=\"text-align: right;\">  Score</th></tr>\n",
       "</thead>\n",
       "<tbody>\n",
       "<tr><td>Reward Function-Differential Sharpe Ratio_0.01</td><td style=\"text-align: right;\">           4</td><td style=\"text-align: right;\">-7.3644</td><td style=\"text-align: right;\">26.2626</td><td style=\"text-align: right;\">       -0.0172</td><td style=\"text-align: right;\"> 0.0161</td></tr>\n",
       "<tr><td>Reward Function-Differential Sharpe Ratio_0.05</td><td style=\"text-align: right;\">           1</td><td style=\"text-align: right;\">39.0449</td><td style=\"text-align: right;\">11.2653</td><td style=\"text-align: right;\">        0.1215</td><td style=\"text-align: right;\"> 0.2359</td></tr>\n",
       "<tr><td>Reward Function-Differential Sharpe Ratio_0.1 </td><td style=\"text-align: right;\">           2</td><td style=\"text-align: right;\">41.5436</td><td style=\"text-align: right;\">12.8777</td><td style=\"text-align: right;\">        0.1218</td><td style=\"text-align: right;\"> 0.2306</td></tr>\n",
       "</tbody>\n",
       "</table>"
      ]
     },
     "metadata": {},
     "output_type": "display_data"
    },
    {
     "name": "stdout",
     "output_type": "stream",
     "text": [
      "Epoch 1 | Best Hyperparameter:  Learning Frequency-146\n",
      "Epoch 1 | Best Score:  0.15454713922871252\n"
     ]
    },
    {
     "data": {
      "text/html": [
       "<h3>Epoch: 1 | Scores and Metrics Tabulated</h3>\n"
      ]
     },
     "metadata": {},
     "output_type": "display_data"
    },
    {
     "data": {
      "text/html": [
       "<table>\n",
       "<thead>\n",
       "<tr><th>Hyperparameter        </th><th style=\"text-align: right;\">        Cumulative \n",
       "Return (%)</th><th style=\"text-align: right;\">        Maximum \n",
       "Drawdown (%)</th><th style=\"text-align: right;\">  Sharpe Ratio</th><th style=\"text-align: right;\">  Score</th></tr>\n",
       "</thead>\n",
       "<tbody>\n",
       "<tr><td>Learning Frequency-146</td><td style=\"text-align: right;\">30.2737</td><td style=\"text-align: right;\"> 9.564 </td><td style=\"text-align: right;\">        0.1128</td><td style=\"text-align: right;\"> 0.1545</td></tr>\n",
       "<tr><td>Learning Frequency-73 </td><td style=\"text-align: right;\">30.7531</td><td style=\"text-align: right;\">11.071 </td><td style=\"text-align: right;\">        0.1061</td><td style=\"text-align: right;\"> 0.1301</td></tr>\n",
       "<tr><td>Learning Frequency-48 </td><td style=\"text-align: right;\">21.0045</td><td style=\"text-align: right;\"> 9.6553</td><td style=\"text-align: right;\">        0.0873</td><td style=\"text-align: right;\"> 0.0346</td></tr>\n",
       "<tr><td>Learning Frequency-36 </td><td style=\"text-align: right;\">28.3227</td><td style=\"text-align: right;\">11.0507</td><td style=\"text-align: right;\">        0.1048</td><td style=\"text-align: right;\"> 0.1058</td></tr>\n",
       "<tr><td>Learning Frequency-29 </td><td style=\"text-align: right;\">19.7884</td><td style=\"text-align: right;\">11.7284</td><td style=\"text-align: right;\">        0.0725</td><td style=\"text-align: right;\"> 0.0162</td></tr>\n",
       "</tbody>\n",
       "</table>"
      ]
     },
     "metadata": {},
     "output_type": "display_data"
    },
    {
     "name": "stdout",
     "output_type": "stream",
     "text": [
      "Epoch 2 | Best Hyperparameter:  Learning Frequency-146\n",
      "Epoch 2 | Best Score:  0.14724764659757597\n"
     ]
    },
    {
     "data": {
      "text/html": [
       "<h3>Epoch: 2 | Scores and Metrics Tabulated</h3>\n"
      ]
     },
     "metadata": {},
     "output_type": "display_data"
    },
    {
     "data": {
      "text/html": [
       "<table>\n",
       "<thead>\n",
       "<tr><th>Hyperparameter        </th><th style=\"text-align: right;\">        Cumulative \n",
       "Return (%)</th><th style=\"text-align: right;\">        Maximum \n",
       "Drawdown (%)</th><th style=\"text-align: right;\">  Sharpe Ratio</th><th style=\"text-align: right;\">  Score</th></tr>\n",
       "</thead>\n",
       "<tbody>\n",
       "<tr><td>Learning Frequency-146</td><td style=\"text-align: right;\">30.4822</td><td style=\"text-align: right;\">10.2841</td><td style=\"text-align: right;\">        0.1138</td><td style=\"text-align: right;\"> 0.1472</td></tr>\n",
       "<tr><td>Learning Frequency-73 </td><td style=\"text-align: right;\">26.2386</td><td style=\"text-align: right;\">12.5371</td><td style=\"text-align: right;\">        0.092 </td><td style=\"text-align: right;\"> 0.0666</td></tr>\n",
       "<tr><td>Learning Frequency-48 </td><td style=\"text-align: right;\">24.05  </td><td style=\"text-align: right;\">10.438 </td><td style=\"text-align: right;\">        0.093 </td><td style=\"text-align: right;\"> 0.0613</td></tr>\n",
       "<tr><td>Learning Frequency-36 </td><td style=\"text-align: right;\">27.7037</td><td style=\"text-align: right;\">10.9447</td><td style=\"text-align: right;\">        0.0978</td><td style=\"text-align: right;\"> 0.0941</td></tr>\n",
       "<tr><td>Learning Frequency-29 </td><td style=\"text-align: right;\">17.9971</td><td style=\"text-align: right;\">13.1425</td><td style=\"text-align: right;\">        0.063 </td><td style=\"text-align: right;\"> 0.004 </td></tr>\n",
       "</tbody>\n",
       "</table>"
      ]
     },
     "metadata": {},
     "output_type": "display_data"
    },
    {
     "name": "stdout",
     "output_type": "stream",
     "text": [
      "Epoch 3 | Best Hyperparameter:  Learning Frequency-146\n",
      "Epoch 3 | Best Score:  0.1929248353214574\n"
     ]
    },
    {
     "data": {
      "text/html": [
       "<h3>Epoch: 3 | Scores and Metrics Tabulated</h3>\n"
      ]
     },
     "metadata": {},
     "output_type": "display_data"
    },
    {
     "data": {
      "text/html": [
       "<table>\n",
       "<thead>\n",
       "<tr><th>Hyperparameter        </th><th style=\"text-align: right;\">        Cumulative \n",
       "Return (%)</th><th style=\"text-align: right;\">        Maximum \n",
       "Drawdown (%)</th><th style=\"text-align: right;\">  Sharpe Ratio</th><th style=\"text-align: right;\">  Score</th></tr>\n",
       "</thead>\n",
       "<tbody>\n",
       "<tr><td>Learning Frequency-146</td><td style=\"text-align: right;\">31.8996</td><td style=\"text-align: right;\"> 9.4295</td><td style=\"text-align: right;\">        0.1235</td><td style=\"text-align: right;\"> 0.1929</td></tr>\n",
       "<tr><td>Learning Frequency-73 </td><td style=\"text-align: right;\">20.1819</td><td style=\"text-align: right;\">12.4074</td><td style=\"text-align: right;\">        0.0723</td><td style=\"text-align: right;\"> 0.0175</td></tr>\n",
       "<tr><td>Learning Frequency-48 </td><td style=\"text-align: right;\">23.0188</td><td style=\"text-align: right;\"> 9.6588</td><td style=\"text-align: right;\">        0.0893</td><td style=\"text-align: right;\"> 0.0541</td></tr>\n",
       "<tr><td>Learning Frequency-36 </td><td style=\"text-align: right;\">31.0292</td><td style=\"text-align: right;\">10.7393</td><td style=\"text-align: right;\">        0.1013</td><td style=\"text-align: right;\"> 0.1307</td></tr>\n",
       "<tr><td>Learning Frequency-29 </td><td style=\"text-align: right;\">20.4216</td><td style=\"text-align: right;\">12.4399</td><td style=\"text-align: right;\">        0.0664</td><td style=\"text-align: right;\"> 0.0173</td></tr>\n",
       "</tbody>\n",
       "</table>"
      ]
     },
     "metadata": {},
     "output_type": "display_data"
    },
    {
     "name": "stdout",
     "output_type": "stream",
     "text": [
      "Epoch 4 | Best Hyperparameter:  Learning Frequency-36\n",
      "Epoch 4 | Best Score:  0.22633354253086455\n"
     ]
    },
    {
     "data": {
      "text/html": [
       "<h3>Epoch: 4 | Scores and Metrics Tabulated</h3>\n"
      ]
     },
     "metadata": {},
     "output_type": "display_data"
    },
    {
     "data": {
      "text/html": [
       "<table>\n",
       "<thead>\n",
       "<tr><th>Hyperparameter        </th><th style=\"text-align: right;\">        Cumulative \n",
       "Return (%)</th><th style=\"text-align: right;\">        Maximum \n",
       "Drawdown (%)</th><th style=\"text-align: right;\">  Sharpe Ratio</th><th style=\"text-align: right;\">  Score</th></tr>\n",
       "</thead>\n",
       "<tbody>\n",
       "<tr><td>Learning Frequency-146</td><td style=\"text-align: right;\">27.5426</td><td style=\"text-align: right;\"> 9.7652</td><td style=\"text-align: right;\">        0.1114</td><td style=\"text-align: right;\"> 0.1184</td></tr>\n",
       "<tr><td>Learning Frequency-73 </td><td style=\"text-align: right;\">20.3112</td><td style=\"text-align: right;\">11.666 </td><td style=\"text-align: right;\">        0.073 </td><td style=\"text-align: right;\"> 0.0196</td></tr>\n",
       "<tr><td>Learning Frequency-48 </td><td style=\"text-align: right;\">25.5264</td><td style=\"text-align: right;\">10.2746</td><td style=\"text-align: right;\">        0.0971</td><td style=\"text-align: right;\"> 0.079 </td></tr>\n",
       "<tr><td>Learning Frequency-36 </td><td style=\"text-align: right;\">34.3342</td><td style=\"text-align: right;\"> 8.9006</td><td style=\"text-align: right;\">        0.1174</td><td style=\"text-align: right;\"> 0.2263</td></tr>\n",
       "<tr><td>Learning Frequency-29 </td><td style=\"text-align: right;\">10.9921</td><td style=\"text-align: right;\">14.1316</td><td style=\"text-align: right;\">        0.0379</td><td style=\"text-align: right;\">-0.0166</td></tr>\n",
       "</tbody>\n",
       "</table>"
      ]
     },
     "metadata": {},
     "output_type": "display_data"
    },
    {
     "name": "stdout",
     "output_type": "stream",
     "text": [
      "Epoch 5 | Best Hyperparameter:  Learning Frequency-36\n",
      "Epoch 5 | Best Score:  0.15284111021213487\n"
     ]
    },
    {
     "data": {
      "text/html": [
       "<h3>Epoch: 5 | Scores and Metrics Tabulated</h3>\n"
      ]
     },
     "metadata": {},
     "output_type": "display_data"
    },
    {
     "data": {
      "text/html": [
       "<table>\n",
       "<thead>\n",
       "<tr><th>Hyperparameter        </th><th style=\"text-align: right;\">        Cumulative \n",
       "Return (%)</th><th style=\"text-align: right;\">        Maximum \n",
       "Drawdown (%)</th><th style=\"text-align: right;\">  Sharpe Ratio</th><th style=\"text-align: right;\">  Score</th></tr>\n",
       "</thead>\n",
       "<tbody>\n",
       "<tr><td>Learning Frequency-146</td><td style=\"text-align: right;\">27.5705</td><td style=\"text-align: right;\"> 9.9992</td><td style=\"text-align: right;\">        0.1111</td><td style=\"text-align: right;\"> 0.1155</td></tr>\n",
       "<tr><td>Learning Frequency-73 </td><td style=\"text-align: right;\">20.1244</td><td style=\"text-align: right;\">11.4463</td><td style=\"text-align: right;\">        0.0741</td><td style=\"text-align: right;\"> 0.0191</td></tr>\n",
       "<tr><td>Learning Frequency-48 </td><td style=\"text-align: right;\">18.567 </td><td style=\"text-align: right;\">11.2847</td><td style=\"text-align: right;\">        0.0754</td><td style=\"text-align: right;\"> 0.0093</td></tr>\n",
       "<tr><td>Learning Frequency-36 </td><td style=\"text-align: right;\">31.1441</td><td style=\"text-align: right;\"> 9.9727</td><td style=\"text-align: right;\">        0.1091</td><td style=\"text-align: right;\"> 0.1528</td></tr>\n",
       "<tr><td>Learning Frequency-29 </td><td style=\"text-align: right;\"> 8.3986</td><td style=\"text-align: right;\">15.0245</td><td style=\"text-align: right;\">        0.0301</td><td style=\"text-align: right;\">-0.0176</td></tr>\n",
       "</tbody>\n",
       "</table>"
      ]
     },
     "metadata": {},
     "output_type": "display_data"
    },
    {
     "data": {
      "text/html": [
       "<h3>Best Hyperparameters (Summary): Learning Frequency</h3>\n"
      ]
     },
     "metadata": {},
     "output_type": "display_data"
    },
    {
     "data": {
      "text/html": [
       "<table>\n",
       "<thead>\n",
       "<tr><th>Hyperparameter        </th><th style=\"text-align: right;\">  Epoch</th><th style=\"text-align: right;\">    Score</th></tr>\n",
       "</thead>\n",
       "<tbody>\n",
       "<tr><td>Learning Frequency-146</td><td style=\"text-align: right;\">      3</td><td style=\"text-align: right;\">0.192925 </td></tr>\n",
       "<tr><td>Learning Frequency-73 </td><td style=\"text-align: right;\">      1</td><td style=\"text-align: right;\">0.130117 </td></tr>\n",
       "<tr><td>Learning Frequency-48 </td><td style=\"text-align: right;\">      4</td><td style=\"text-align: right;\">0.0789866</td></tr>\n",
       "<tr><td>Learning Frequency-36 </td><td style=\"text-align: right;\">      4</td><td style=\"text-align: right;\">0.226334 </td></tr>\n",
       "<tr><td>Learning Frequency-29 </td><td style=\"text-align: right;\">      3</td><td style=\"text-align: right;\">0.0173296</td></tr>\n",
       "</tbody>\n",
       "</table>"
      ]
     },
     "metadata": {},
     "output_type": "display_data"
    },
    {
     "data": {
      "text/html": [
       "<h3>Best Hyperparameters with Detailed Metrics: Learning Frequency</h3>\n"
      ]
     },
     "metadata": {},
     "output_type": "display_data"
    },
    {
     "data": {
      "text/html": [
       "<table>\n",
       "<thead>\n",
       "<tr><th>Hyperparameter        </th><th style=\"text-align: right;\">  Best Epoch</th><th style=\"text-align: right;\">        Cumulative \n",
       "Return (%)</th><th style=\"text-align: right;\">        Maximum \n",
       "Drawdown (%)</th><th style=\"text-align: right;\">  Sharpe Ratio</th><th style=\"text-align: right;\">  Score</th></tr>\n",
       "</thead>\n",
       "<tbody>\n",
       "<tr><td>Learning Frequency-146</td><td style=\"text-align: right;\">           3</td><td style=\"text-align: right;\">31.8996</td><td style=\"text-align: right;\"> 9.4295</td><td style=\"text-align: right;\">        0.1235</td><td style=\"text-align: right;\"> 0.1929</td></tr>\n",
       "<tr><td>Learning Frequency-73 </td><td style=\"text-align: right;\">           1</td><td style=\"text-align: right;\">30.7531</td><td style=\"text-align: right;\">11.071 </td><td style=\"text-align: right;\">        0.1061</td><td style=\"text-align: right;\"> 0.1301</td></tr>\n",
       "<tr><td>Learning Frequency-48 </td><td style=\"text-align: right;\">           4</td><td style=\"text-align: right;\">25.5264</td><td style=\"text-align: right;\">10.2746</td><td style=\"text-align: right;\">        0.0971</td><td style=\"text-align: right;\"> 0.079 </td></tr>\n",
       "<tr><td>Learning Frequency-36 </td><td style=\"text-align: right;\">           4</td><td style=\"text-align: right;\">34.3342</td><td style=\"text-align: right;\"> 8.9006</td><td style=\"text-align: right;\">        0.1174</td><td style=\"text-align: right;\"> 0.2263</td></tr>\n",
       "<tr><td>Learning Frequency-29 </td><td style=\"text-align: right;\">           3</td><td style=\"text-align: right;\">20.4216</td><td style=\"text-align: right;\">12.4399</td><td style=\"text-align: right;\">        0.0664</td><td style=\"text-align: right;\"> 0.0173</td></tr>\n",
       "</tbody>\n",
       "</table>"
      ]
     },
     "metadata": {},
     "output_type": "display_data"
    },
    {
     "name": "stdout",
     "output_type": "stream",
     "text": [
      "Epoch 1 | Best Hyperparameter:  Learning Rate-0.0007\n",
      "Epoch 1 | Best Score:  0.16570713508763996\n"
     ]
    },
    {
     "data": {
      "text/html": [
       "<h3>Epoch: 1 | Scores and Metrics Tabulated</h3>\n"
      ]
     },
     "metadata": {},
     "output_type": "display_data"
    },
    {
     "data": {
      "text/html": [
       "<table>\n",
       "<thead>\n",
       "<tr><th>Hyperparameter      </th><th style=\"text-align: right;\">        Cumulative \n",
       "Return (%)</th><th style=\"text-align: right;\">        Maximum \n",
       "Drawdown (%)</th><th style=\"text-align: right;\">  Sharpe Ratio</th><th style=\"text-align: right;\">  Score</th></tr>\n",
       "</thead>\n",
       "<tbody>\n",
       "<tr><td>Learning Rate-0.0001</td><td style=\"text-align: right;\">25.8212</td><td style=\"text-align: right;\"> 9.8527</td><td style=\"text-align: right;\">        0.1021</td><td style=\"text-align: right;\"> 0.0896</td></tr>\n",
       "<tr><td>Learning Rate-0.0003</td><td style=\"text-align: right;\">17.2976</td><td style=\"text-align: right;\">11.2808</td><td style=\"text-align: right;\">        0.0677</td><td style=\"text-align: right;\"> 0.0007</td></tr>\n",
       "<tr><td>Learning Rate-0.0005</td><td style=\"text-align: right;\">20.9576</td><td style=\"text-align: right;\">10.6584</td><td style=\"text-align: right;\">        0.0807</td><td style=\"text-align: right;\"> 0.0287</td></tr>\n",
       "<tr><td>Learning Rate-0.0007</td><td style=\"text-align: right;\">30.9519</td><td style=\"text-align: right;\">10.4936</td><td style=\"text-align: right;\">        0.1262</td><td style=\"text-align: right;\"> 0.1657</td></tr>\n",
       "</tbody>\n",
       "</table>"
      ]
     },
     "metadata": {},
     "output_type": "display_data"
    },
    {
     "name": "stdout",
     "output_type": "stream",
     "text": [
      "Epoch 2 | Best Hyperparameter:  Learning Rate-0.0005\n",
      "Epoch 2 | Best Score:  0.1344956768961474\n"
     ]
    },
    {
     "data": {
      "text/html": [
       "<h3>Epoch: 2 | Scores and Metrics Tabulated</h3>\n"
      ]
     },
     "metadata": {},
     "output_type": "display_data"
    },
    {
     "data": {
      "text/html": [
       "<table>\n",
       "<thead>\n",
       "<tr><th>Hyperparameter      </th><th style=\"text-align: right;\">        Cumulative \n",
       "Return (%)</th><th style=\"text-align: right;\">        Maximum \n",
       "Drawdown (%)</th><th style=\"text-align: right;\">  Sharpe Ratio</th><th style=\"text-align: right;\">  Score</th></tr>\n",
       "</thead>\n",
       "<tbody>\n",
       "<tr><td>Learning Rate-0.0001</td><td style=\"text-align: right;\">23.1907</td><td style=\"text-align: right;\">10.9183</td><td style=\"text-align: right;\">        0.0931</td><td style=\"text-align: right;\"> 0.0513</td></tr>\n",
       "<tr><td>Learning Rate-0.0003</td><td style=\"text-align: right;\">22.1062</td><td style=\"text-align: right;\">10.1483</td><td style=\"text-align: right;\">        0.0852</td><td style=\"text-align: right;\"> 0.0414</td></tr>\n",
       "<tr><td>Learning Rate-0.0005</td><td style=\"text-align: right;\">31.8304</td><td style=\"text-align: right;\">11.4923</td><td style=\"text-align: right;\">        0.1055</td><td style=\"text-align: right;\"> 0.1345</td></tr>\n",
       "<tr><td>Learning Rate-0.0007</td><td style=\"text-align: right;\">30.385 </td><td style=\"text-align: right;\">11.1564</td><td style=\"text-align: right;\">        0.1098</td><td style=\"text-align: right;\"> 0.1301</td></tr>\n",
       "</tbody>\n",
       "</table>"
      ]
     },
     "metadata": {},
     "output_type": "display_data"
    },
    {
     "name": "stdout",
     "output_type": "stream",
     "text": [
      "Epoch 3 | Best Hyperparameter:  Learning Rate-0.0007\n",
      "Epoch 3 | Best Score:  0.1955078545982117\n"
     ]
    },
    {
     "data": {
      "text/html": [
       "<h3>Epoch: 3 | Scores and Metrics Tabulated</h3>\n"
      ]
     },
     "metadata": {},
     "output_type": "display_data"
    },
    {
     "data": {
      "text/html": [
       "<table>\n",
       "<thead>\n",
       "<tr><th>Hyperparameter      </th><th style=\"text-align: right;\">        Cumulative \n",
       "Return (%)</th><th style=\"text-align: right;\">        Maximum \n",
       "Drawdown (%)</th><th style=\"text-align: right;\">  Sharpe Ratio</th><th style=\"text-align: right;\">  Score</th></tr>\n",
       "</thead>\n",
       "<tbody>\n",
       "<tr><td>Learning Rate-0.0001</td><td style=\"text-align: right;\">27.9581</td><td style=\"text-align: right;\">10.0136</td><td style=\"text-align: right;\">        0.1084</td><td style=\"text-align: right;\"> 0.1167</td></tr>\n",
       "<tr><td>Learning Rate-0.0003</td><td style=\"text-align: right;\">28.7596</td><td style=\"text-align: right;\">10.2649</td><td style=\"text-align: right;\">        0.109 </td><td style=\"text-align: right;\"> 0.123 </td></tr>\n",
       "<tr><td>Learning Rate-0.0005</td><td style=\"text-align: right;\">22.558 </td><td style=\"text-align: right;\">11.3401</td><td style=\"text-align: right;\">        0.0804</td><td style=\"text-align: right;\"> 0.0382</td></tr>\n",
       "<tr><td>Learning Rate-0.0007</td><td style=\"text-align: right;\">32.3341</td><td style=\"text-align: right;\">10.033 </td><td style=\"text-align: right;\">        0.1294</td><td style=\"text-align: right;\"> 0.1955</td></tr>\n",
       "</tbody>\n",
       "</table>"
      ]
     },
     "metadata": {},
     "output_type": "display_data"
    },
    {
     "name": "stdout",
     "output_type": "stream",
     "text": [
      "Epoch 4 | Best Hyperparameter:  Learning Rate-0.0007\n",
      "Epoch 4 | Best Score:  0.25837100645775907\n"
     ]
    },
    {
     "data": {
      "text/html": [
       "<h3>Epoch: 4 | Scores and Metrics Tabulated</h3>\n"
      ]
     },
     "metadata": {},
     "output_type": "display_data"
    },
    {
     "data": {
      "text/html": [
       "<table>\n",
       "<thead>\n",
       "<tr><th>Hyperparameter      </th><th style=\"text-align: right;\">        Cumulative \n",
       "Return (%)</th><th style=\"text-align: right;\">        Maximum \n",
       "Drawdown (%)</th><th style=\"text-align: right;\">  Sharpe Ratio</th><th style=\"text-align: right;\">  Score</th></tr>\n",
       "</thead>\n",
       "<tbody>\n",
       "<tr><td>Learning Rate-0.0001</td><td style=\"text-align: right;\">27.5118</td><td style=\"text-align: right;\"> 9.9259</td><td style=\"text-align: right;\">        0.1077</td><td style=\"text-align: right;\"> 0.1121</td></tr>\n",
       "<tr><td>Learning Rate-0.0003</td><td style=\"text-align: right;\">33.3597</td><td style=\"text-align: right;\">10.0243</td><td style=\"text-align: right;\">        0.1204</td><td style=\"text-align: right;\"> 0.1944</td></tr>\n",
       "<tr><td>Learning Rate-0.0005</td><td style=\"text-align: right;\">21.9751</td><td style=\"text-align: right;\">11.2671</td><td style=\"text-align: right;\">        0.0773</td><td style=\"text-align: right;\"> 0.0329</td></tr>\n",
       "<tr><td>Learning Rate-0.0007</td><td style=\"text-align: right;\">38.3118</td><td style=\"text-align: right;\">10.9909</td><td style=\"text-align: right;\">        0.1343</td><td style=\"text-align: right;\"> 0.2584</td></tr>\n",
       "</tbody>\n",
       "</table>"
      ]
     },
     "metadata": {},
     "output_type": "display_data"
    },
    {
     "name": "stdout",
     "output_type": "stream",
     "text": [
      "Epoch 5 | Best Hyperparameter:  Learning Rate-0.0007\n",
      "Epoch 5 | Best Score:  0.21090161773840368\n"
     ]
    },
    {
     "data": {
      "text/html": [
       "<h3>Epoch: 5 | Scores and Metrics Tabulated</h3>\n"
      ]
     },
     "metadata": {},
     "output_type": "display_data"
    },
    {
     "data": {
      "text/html": [
       "<table>\n",
       "<thead>\n",
       "<tr><th>Hyperparameter      </th><th style=\"text-align: right;\">        Cumulative \n",
       "Return (%)</th><th style=\"text-align: right;\">        Maximum \n",
       "Drawdown (%)</th><th style=\"text-align: right;\">  Sharpe Ratio</th><th style=\"text-align: right;\">  Score</th></tr>\n",
       "</thead>\n",
       "<tbody>\n",
       "<tr><td>Learning Rate-0.0001</td><td style=\"text-align: right;\">32.2543</td><td style=\"text-align: right;\">10.1906</td><td style=\"text-align: right;\">        0.1203</td><td style=\"text-align: right;\"> 0.178 </td></tr>\n",
       "<tr><td>Learning Rate-0.0003</td><td style=\"text-align: right;\">32.3599</td><td style=\"text-align: right;\"> 9.9274</td><td style=\"text-align: right;\">        0.1127</td><td style=\"text-align: right;\"> 0.1723</td></tr>\n",
       "<tr><td>Learning Rate-0.0005</td><td style=\"text-align: right;\">24.852 </td><td style=\"text-align: right;\">10.1341</td><td style=\"text-align: right;\">        0.0906</td><td style=\"text-align: right;\"> 0.0686</td></tr>\n",
       "<tr><td>Learning Rate-0.0007</td><td style=\"text-align: right;\">36.8546</td><td style=\"text-align: right;\">11.7856</td><td style=\"text-align: right;\">        0.1263</td><td style=\"text-align: right;\"> 0.2109</td></tr>\n",
       "</tbody>\n",
       "</table>"
      ]
     },
     "metadata": {},
     "output_type": "display_data"
    },
    {
     "data": {
      "text/html": [
       "<h3>Best Hyperparameters (Summary): Learning Rate</h3>\n"
      ]
     },
     "metadata": {},
     "output_type": "display_data"
    },
    {
     "data": {
      "text/html": [
       "<table>\n",
       "<thead>\n",
       "<tr><th>Hyperparameter      </th><th style=\"text-align: right;\">  Epoch</th><th style=\"text-align: right;\">   Score</th></tr>\n",
       "</thead>\n",
       "<tbody>\n",
       "<tr><td>Learning Rate-0.0001</td><td style=\"text-align: right;\">      5</td><td style=\"text-align: right;\">0.177971</td></tr>\n",
       "<tr><td>Learning Rate-0.0003</td><td style=\"text-align: right;\">      4</td><td style=\"text-align: right;\">0.194358</td></tr>\n",
       "<tr><td>Learning Rate-0.0005</td><td style=\"text-align: right;\">      2</td><td style=\"text-align: right;\">0.134496</td></tr>\n",
       "<tr><td>Learning Rate-0.0007</td><td style=\"text-align: right;\">      4</td><td style=\"text-align: right;\">0.258371</td></tr>\n",
       "</tbody>\n",
       "</table>"
      ]
     },
     "metadata": {},
     "output_type": "display_data"
    },
    {
     "data": {
      "text/html": [
       "<h3>Best Hyperparameters with Detailed Metrics: Learning Rate</h3>\n"
      ]
     },
     "metadata": {},
     "output_type": "display_data"
    },
    {
     "data": {
      "text/html": [
       "<table>\n",
       "<thead>\n",
       "<tr><th>Hyperparameter      </th><th style=\"text-align: right;\">  Best Epoch</th><th style=\"text-align: right;\">        Cumulative \n",
       "Return (%)</th><th style=\"text-align: right;\">        Maximum \n",
       "Drawdown (%)</th><th style=\"text-align: right;\">  Sharpe Ratio</th><th style=\"text-align: right;\">  Score</th></tr>\n",
       "</thead>\n",
       "<tbody>\n",
       "<tr><td>Learning Rate-0.0001</td><td style=\"text-align: right;\">           5</td><td style=\"text-align: right;\">32.2543</td><td style=\"text-align: right;\">10.1906</td><td style=\"text-align: right;\">        0.1203</td><td style=\"text-align: right;\"> 0.178 </td></tr>\n",
       "<tr><td>Learning Rate-0.0003</td><td style=\"text-align: right;\">           4</td><td style=\"text-align: right;\">33.3597</td><td style=\"text-align: right;\">10.0243</td><td style=\"text-align: right;\">        0.1204</td><td style=\"text-align: right;\"> 0.1944</td></tr>\n",
       "<tr><td>Learning Rate-0.0005</td><td style=\"text-align: right;\">           2</td><td style=\"text-align: right;\">31.8304</td><td style=\"text-align: right;\">11.4923</td><td style=\"text-align: right;\">        0.1055</td><td style=\"text-align: right;\"> 0.1345</td></tr>\n",
       "<tr><td>Learning Rate-0.0007</td><td style=\"text-align: right;\">           4</td><td style=\"text-align: right;\">38.3118</td><td style=\"text-align: right;\">10.9909</td><td style=\"text-align: right;\">        0.1343</td><td style=\"text-align: right;\"> 0.2584</td></tr>\n",
       "</tbody>\n",
       "</table>"
      ]
     },
     "metadata": {},
     "output_type": "display_data"
    }
   ],
   "source": [
    "def maxDrawdown(arr):\n",
    "    maxValue = float(\"-inf\")\n",
    "    maxDrawdown = 0.0\n",
    "    for value in arr:\n",
    "        maxValue = max(maxValue, value)\n",
    "        drawdown = (maxValue - value) / maxValue \n",
    "        maxDrawdown = max(maxDrawdown, drawdown)\n",
    "    return maxDrawdown\n",
    "\n",
    "def scoreFormula(agentArray, averageRandomReturn):\n",
    "    # score by (cumulative return - average random return)/max drawdown all times sharpe ratio\n",
    "    cumulativeReturn = agentArray[-1] / START_CASH - 1\n",
    "    maximumDrawdown = maxDrawdown(agentArray)\n",
    "    percChange = np.diff(agentArray) / agentArray[:-1]\n",
    "    sharpe = np.mean(percChange)/np.std(percChange) if np.std(percChange) != 0 else 0\n",
    "    score = ((cumulativeReturn - averageRandomReturn) / maximumDrawdown) * sharpe\n",
    "    metrics = {\n",
    "        \"Cumulative \\nReturn (%)\": cumulativeReturn * 100,\n",
    "        \"Maximum \\nDrawdown (%)\": maximumDrawdown * 100,\n",
    "        \"Sharpe Ratio\": sharpe,\n",
    "        \"Score\": score\n",
    "    }\n",
    "    return metrics\n",
    "\n",
    "def scoreAgents(dataType=\"validation\"):\n",
    "    for hyper, param in HYPERS.items():\n",
    "        averageRandomPerformance = []\n",
    "        for epoch in range(1, EPOCHS + 1):\n",
    "            averageRandomPerformance.append(np.loadtxt(f\"portfolios/{dataType}/{epoch * TRAINING_WINDOWS}/\" + \"Strategy-RANDOM.txt\"))\n",
    "        averageRandomPerformance = np.mean(np.array(averageRandomPerformance), axis=0)\n",
    "        averageRandomReturn = averageRandomPerformance[-1] / START_CASH - 1\n",
    "        \n",
    "        moreData = defaultdict(lambda: float(\"-inf\"))\n",
    "        epochNumber = defaultdict(lambda: 0)\n",
    "        bestMetrics = {}  \n",
    "        \n",
    "        # briefly compute metrics for random\n",
    "        # metrics = scoreFormula(averageRandomPerformance, averageRandomReturn)\n",
    "        # table = [[\"Hyperparameter\", \"Cumulative \\nReturn (%)\", \"Maximum \\nDrawdown (%)\", \"Sharpe Ratio\", \"Score\"]] \n",
    "        # table.append([\"RANDOM\"] + [round(met, 4) for met in metrics.values()])\n",
    "        # tabulate_neatly(table, headers=\"firstrow\", title=f\"Random Agent: {hyper.title()}\")\n",
    "        \n",
    "        for epoch in range(1, EPOCHS + 1):\n",
    "            table = [[\"Hyperparameter\", \"Cumulative \\nReturn (%)\", \"Maximum \\nDrawdown (%)\", \"Sharpe Ratio\", \"Score\"]]\n",
    "            bestScore = float(\"-inf\")\n",
    "            bestParameter = None\n",
    "            for parameter in param:\n",
    "                portfolioNumbers = np.loadtxt(f\"portfolios/{dataType}/{epoch * TRAINING_WINDOWS}/\" + f\"{hyper.title()}-{parameter}.txt\")\n",
    "                metrics = scoreFormula(portfolioNumbers, averageRandomReturn)\n",
    "                key = f\"{hyper.title()}-{parameter}\"\n",
    "                if metrics[\"Score\"] > moreData[key]:\n",
    "                    moreData[key] = metrics[\"Score\"]\n",
    "                    epochNumber[key] = epoch\n",
    "                    bestMetrics[key] = metrics\n",
    "                table.append([f\"{hyper.title()}-{parameter}\"] + [round(met, 4) for met in metrics.values()])\n",
    "                if metrics[\"Score\"] > bestScore:\n",
    "                    bestScore = metrics[\"Score\"]\n",
    "                    bestParameter = f\"{hyper.title()}-{parameter}\"\n",
    "            print(f\"Epoch {epoch} | Best Hyperparameter: \", bestParameter)\n",
    "            print(f\"Epoch {epoch} | Best Score: \", bestScore)\n",
    "            tabulate_neatly(table, headers=\"firstrow\", title=f\"Epoch: {epoch} | Scores and Metrics Tabulated\")\n",
    "        \n",
    "        table = [[\"Hyperparameter\", \"Epoch\", \"Score\"]]\n",
    "        for key, value in moreData.items():\n",
    "            table.append([key, epochNumber[key], value])\n",
    "        tabulate_neatly(table, headers=\"firstrow\", title=f\"Best Hyperparameters (Summary): {hyper.title()}\")\n",
    "        \n",
    "        table2 = [[\"Hyperparameter\", \"Best Epoch\", \"Cumulative \\nReturn (%)\", \"Maximum \\nDrawdown (%)\", \"Sharpe Ratio\", \"Score\"]]\n",
    "        for key in bestMetrics.keys():\n",
    "            m = bestMetrics[key]\n",
    "            table2.append([\n",
    "                key,\n",
    "                epochNumber[key],\n",
    "                round(m[\"Cumulative \\nReturn (%)\"], 4),\n",
    "                round(m[\"Maximum \\nDrawdown (%)\"], 4),\n",
    "                round(m[\"Sharpe Ratio\"], 4),\n",
    "                round(m[\"Score\"], 4)\n",
    "            ])\n",
    "        tabulate_neatly(table2, headers=\"firstrow\", title=f\"Best Hyperparameters with Detailed Metrics: {hyper.title()}\")\n",
    "\n",
    "GENERATE_SCORES = True\n",
    "if GENERATE_SCORES:\n",
    "    scoreAgents()"
   ]
  },
  {
   "cell_type": "markdown",
   "metadata": {},
   "source": [
    "## 5. Testing Process"
   ]
  },
  {
   "cell_type": "markdown",
   "metadata": {},
   "source": [
    "### Best Models (if any) Evaluated"
   ]
  },
  {
   "cell_type": "code",
   "execution_count": 22,
   "metadata": {},
   "outputs": [],
   "source": [
    "# Experiment 1\n",
    "EXP_CONFIG = {\"Reward\" : [\"Standard Logarithmic Returns\", \"Differential Sharpe Ratio_0.01\", \"CVaR_1.0\"],\n",
    "                \"LSTM Output Size\" : 128, \n",
    "                \"Frequency\" : 48,\n",
    "                \"Learning Rate\" : 7e-4,\n",
    "                }\n",
    "\n",
    "#this will actually test them too lol\n",
    "def trainTestingAgents():\n",
    "    TESTING[\"REWARD FUNCTION\"] = True\n",
    "    for r in EXP_CONFIG[\"Reward\"]:\n",
    "        trainingLoop(\n",
    "            riskAversion=(float(r.split(\"_\")[1]) if r.split(\"_\")[0] == \"CVaR\" else 0),\n",
    "            rewardFunction=r.split(\"_\")[0] if \"CVaR\" in r else r,\n",
    "            freq=EXP_CONFIG[\"Frequency\"],\n",
    "            lstmOutputSize=EXP_CONFIG[\"LSTM Output Size\"],\n",
    "            lr=EXP_CONFIG[\"Learning Rate\"],\n",
    "            conf = \"Reward Function-\" + r + \" | \" + \"Strategy-PPOLSTM\",\n",
    "            evalType = \"testing\"\n",
    "        )\n",
    "    TESTING[\"REWARD FUNCTION\"] = False\n",
    "    \n",
    "TRAINING_WINDOWS = ((TRAINING_PERIODS + VALIDATION_PERIODS - EPISODE_LENGTH) // TIMESTEP_SHIFT) + 1\n",
    "SUM_TRAINING_PERIODS = TRAINING_WINDOWS * EPOCHS * (EPISODE_LENGTH - TIME_WINDOW) # because first time window steps are not used to learn\n",
    "LEARNING_CURVE_FREQUENCY = SUM_TRAINING_PERIODS // 100\n",
    "\n",
    "\n",
    "RUN_FINAL = False\n",
    "if RUN_FINAL:\n",
    "    trainTestingAgents()\n",
    "    \n"
   ]
  },
  {
   "cell_type": "markdown",
   "metadata": {},
   "source": [
    "### Plotting Code"
   ]
  }
 ],
 "metadata": {
  "kernelspec": {
   "display_name": "Python 3",
   "language": "python",
   "name": "python3"
  },
  "language_info": {
   "codemirror_mode": {
    "name": "ipython",
    "version": 3
   },
   "file_extension": ".py",
   "mimetype": "text/x-python",
   "name": "python",
   "nbconvert_exporter": "python",
   "pygments_lexer": "ipython3",
   "version": "3.12.10"
  }
 },
 "nbformat": 4,
 "nbformat_minor": 2
}
