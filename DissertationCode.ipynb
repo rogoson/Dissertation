{
 "cells": [
  {
   "cell_type": "markdown",
   "metadata": {},
   "source": [
    "## 1. Collect Basic Data"
   ]
  },
  {
   "cell_type": "markdown",
   "metadata": {},
   "source": [
    "### Retrieve CryptoCurrency Market Data ###"
   ]
  },
  {
   "cell_type": "code",
   "execution_count": null,
   "metadata": {},
   "outputs": [],
   "source": [
    "import pandas as pd\n",
    "import yfinance as yf\n",
    "from functools import reduce\n",
    "import requests\n",
    "import time\n",
    "import numpy as np\n",
    "from datetime import datetime, timedelta\n",
    "import matplotlib.pyplot as plt\n",
    "\n",
    "\n",
    "CRYPTO = False\n",
    "\n",
    "# Crypto Details\n",
    "cryptoProducts = [\"ETH-USD\", \"USDT-USD\", \"BTC-USD\"]\n",
    "availableGranularities = dict(zip([\"1M\", \"5M\", \"15M\", \"1H\", \"6H\", \"1D\"], [60, 300, 900, 3600, 21600, 86400]))\n",
    "\n",
    "# Stock Details\n",
    "dowTickers = [\"AAPL\", \"MSFT\", \"GOOGL\", \"TSLA\", \"AMZN\", \"NVDA\"]  \n",
    "sse50Tickers = [\"600519.SS\", \"601318.SS\", \"601857.SS\", \"600036.SS\", \"600016.SS\", \"600000.SS\"]  \n",
    "sensexTickers = [\"RELIANCE.BO\", \"TCS.BO\", \"INFY.BO\", \"ICICIBANK.BO\", \"SBIN.BO\", \"HINDUNILVR.BO\"] \n",
    "ftse100Tickers = [\"HSBA.L\", \"BP.L\", \"GSK.L\", \"SHEL.L\", \"BATS.L\", \"ULVR.L\"]  \n",
    "period = \"1D\"\n",
    "indexProducts = dowTickers + sse50Tickers + sensexTickers + ftse100Tickers\n",
    "productIds = indexProducts\n",
    "\n",
    "if CRYPTO:\n",
    "    productIds = cryptoProducts\n",
    "    period = \"6H\"\n",
    "    granularity = availableGranularities[period]\n",
    "    API_THRESHOLD = 300 #Can only get 300 periods at a time from API\n",
    "    PERIODS_WANTED = 2500\n",
    "\n",
    "# not a chance\n",
    "def retrieveCryptoData(productID, granularity, daysBack, endTime):\n",
    "    API_URL = f\"https://api.exchange.coinbase.com/products/{productID}/candles\"\n",
    "    daysBackDaysAgo = timedelta(days=daysBack)\n",
    "    startTime = datetime.fromisoformat(endTime) - (granularity/86400) * daysBackDaysAgo\n",
    "\n",
    "    # Convert to isoformat\n",
    "    startTime = startTime.isoformat()\n",
    "\n",
    "    # Set Request Parameters\n",
    "    parameters = {\n",
    "        \"start\" : startTime,\n",
    "        \"end\" : endTime,\n",
    "        \"granularity\" : str(granularity)\n",
    "    }\n",
    "\n",
    "    # Actually get data\n",
    "    data = requests.get(API_URL, params = parameters, headers = {\"content-type\":\"application/json\"})\n",
    "    df = pd.DataFrame(data.json(), columns=[\"time\", \"low\", \"high\", \"open\", \"close\", \"volume\"])\n",
    "    return df\n",
    "\n",
    "\n",
    "def retrieveIndexData(ticker):\n",
    "    # Define date range\n",
    "    startDate = \"2009-01-01\"\n",
    "    endDate = \"2020-08-05\"\n",
    "\n",
    "    ohlcData = {}\n",
    "    try:\n",
    "        stockData = yf.download(ticker, start=startDate, end=endDate)\n",
    "        ohlcData[ticker] = stockData[[\"Low\", \"High\", \"Open\", \"Close\", \"Volume\"]]\n",
    "    except Exception as e:\n",
    "        print(f\"Error fetching data for {ticker}: {e}\")\n",
    "\n",
    "    dfOhlc = pd.concat(ohlcData, axis=1)\n",
    "    return dfOhlc\n",
    "\n",
    "\n",
    "dataframes = dict()\n",
    "RETRIEVE_DATA = False\n",
    "\n",
    "if RETRIEVE_DATA:\n",
    "    for productId in productIds:\n",
    "        if CRYPTO:\n",
    "            # Fetch PERIODS_WANTED periods of data\n",
    "            end = (datetime.now()).isoformat()\n",
    "            for batch in range(PERIODS_WANTED // API_THRESHOLD  + 1):\n",
    "                amountToFetch = PERIODS_WANTED % API_THRESHOLD if batch == PERIODS_WANTED // API_THRESHOLD else API_THRESHOLD\n",
    "                tempDF = retrieveCryptoData(productId, granularity, amountToFetch, end)\n",
    "                timeInSeconds = (tempDF['time'].values)[-1]\n",
    "                dt = datetime.fromtimestamp(timeInSeconds - granularity)\n",
    "                end = dt.isoformat() + 'Z'\n",
    "                value = dataframes.get(productId)\n",
    "                if productId not in dataframes:\n",
    "                    dataframes[productId] = tempDF[::-1]\n",
    "                else:\n",
    "                    dataframes[productId] = pd.concat([tempDF[::-1], dataframes[productId]])\n",
    "        else:\n",
    "            dataframe = retrieveIndexData(ticker=productId)\n",
    "            columnNames = [value[1].lower() for value in list(dataframe.columns.values)]\n",
    "            dataframe.columns = columnNames\n",
    "            dataframes[productId] = dataframe\n",
    "   \n",
    "# Required for index data that pull stock data from different exchanges\n",
    "def commonaliseData(data):\n",
    "    commonDates = reduce(lambda x, y: x.intersection(y), [df.index for df in data.values()])\n",
    "    for ticker, df in data.items():\n",
    "        data[ticker] = df.reindex(commonDates)\n",
    "        data[ticker][\"Times\"] = commonDates\n",
    "    data = {ticker: df.dropna() for ticker, df in data.items()}\n",
    "    PERIODS_WANTED = data.get(indexProducts[0]).shape[0]\n",
    "    return data\n",
    "\n",
    "if not CRYPTO and RETRIEVE_DATA:\n",
    "    dataframes = commonaliseData(dataframes)"
   ]
  },
  {
   "cell_type": "code",
   "execution_count": null,
   "metadata": {},
   "outputs": [],
   "source": [
    "TEST_CORRECT_ORDER = False\n",
    "\n",
    "if TEST_CORRECT_ORDER:\n",
    "    testTime = dataframes[productIds[0]]['time'].values\n",
    "    testTime -= testTime[0]\n",
    "    plt.figure(figsize=(10, 6))\n",
    "    plt.plot(testTime, color=\"blue\")\n",
    "    plt.title(f\"Test Correct Order\")\n",
    "    plt.xlabel(\"Time\")\n",
    "    plt.ylabel(\"Price\")\n",
    "    plt.show()"
   ]
  },
  {
   "cell_type": "markdown",
   "metadata": {},
   "source": [
    "## 2. Augment State Space (add indicators)"
   ]
  },
  {
   "cell_type": "markdown",
   "metadata": {},
   "source": [
    "### Indicator 1: Exponential Moving Average ###"
   ]
  },
  {
   "cell_type": "code",
   "execution_count": null,
   "metadata": {},
   "outputs": [],
   "source": [
    "import matplotlib.pyplot as plt\n",
    "\n",
    "def EMA(array, N):\n",
    "    \"\"\"\n",
    "    EMA_t = (Price_t * α) + (EMA_(t-1) * (1 - α))\n",
    "    where:\n",
    "    EMA_t = Exponential Moving Average at time t\n",
    "    Price_t = Price at time t\n",
    "    α (alpha) = Smoothing factor, calculated as 2 / (N + 1)\n",
    "    N = Number of periods\n",
    "    \"\"\"\n",
    "    smoothingParameter = 2/(N + 1)\n",
    "    finalArray = [array[0]]\n",
    "    for i in range(1, len(array)):\n",
    "        finalArray.append(array[i] * smoothingParameter + finalArray[i-1] * (1 - smoothingParameter))\n",
    "    return np.array(finalArray)\n",
    "\n",
    "# expMA = EMA(closingPrices, t)\n",
    "# plt.figure(figsize=(10, 6))\n",
    "# plt.plot(expMA, label=f\"Exponential Moving Average: T={t}\", color=\"red\")\n",
    "# plt.plot(closingPrices, label=\"Actual Closing Prices\", color=\"blue\")\n",
    "# plt.title(f\"Price Data\")\n",
    "# plt.xlabel(\"Time\")\n",
    "# plt.ylabel(\"Price\")\n",
    "# plt.legend()\n",
    "# plt.show()"
   ]
  },
  {
   "cell_type": "markdown",
   "metadata": {},
   "source": [
    "### Indicator 2: Momemtum"
   ]
  },
  {
   "cell_type": "code",
   "execution_count": null,
   "metadata": {},
   "outputs": [],
   "source": [
    "def Momentum(array):\n",
    "    # Percentage Change in Price/Time\n",
    "    momentumArray = [(array[i] - array[i-1]) /array[i-1] for i in range(1, len(array))]\n",
    "    momentumArray.insert(0, np.nan)\n",
    "    return np.array(momentumArray)\n",
    "\n",
    "# momentum = Momentum(closingPrices)\n",
    "# plt.figure(figsize=(10, 6))\n",
    "# plt.plot(momentum*100, color=\"green\")\n",
    "# plt.title(f\"Momentum Data (as %)\")\n",
    "# plt.xlabel(\"Time\")\n",
    "# plt.ylabel(\"Momentum\")\n",
    "# plt.legend()\n",
    "# plt.show()"
   ]
  },
  {
   "cell_type": "markdown",
   "metadata": {},
   "source": [
    "### Indicator 3: Average True Range"
   ]
  },
  {
   "cell_type": "code",
   "execution_count": null,
   "metadata": {},
   "outputs": [],
   "source": [
    "\n",
    "def trueRange(high, low, close):\n",
    "    # TR = Max[(H - L), |H - C|, |L - C|\n",
    "    closing = np.insert(close, 0, np.nan, axis=0)[:len(close)]\n",
    "    return np.maximum(high - low, np.abs(high - closing), np.abs(low - closing))\n",
    "\n",
    "def averageTrueRange(high, low, close, n=14):\n",
    "    trueRanges = trueRange(high, low, close)\n",
    "    atr = np.empty_like(trueRanges)\n",
    "    atr[:n] = np.nan  # First n values are NaN\n",
    "    atr[n-1] = np.mean(trueRanges[:n])  # Initial ATR value (simple average of the first n TRs)\n",
    "    for i in range(n+1, len(trueRanges)):\n",
    "        atr[i] = (atr[i-1] * (n - 1) + trueRanges[i]) / n\n",
    "    return atr\n",
    "\n",
    "# aTRIndicator = averageTrueRange(highs, lows, closingPrices)\n",
    "# plt.figure(figsize=(10, 6))\n",
    "# plt.plot(aTRIndicator, color=\"Brown\")\n",
    "# plt.title(f\"Average True Range over Time\")\n",
    "# plt.xlabel(\"Time\")\n",
    "# plt.ylabel(\"Average True Range\")\n",
    "# plt.legend()\n",
    "# plt.show()"
   ]
  },
  {
   "cell_type": "markdown",
   "metadata": {},
   "source": [
    "### Indicator 4: Commodity Channel Index"
   ]
  },
  {
   "cell_type": "code",
   "execution_count": null,
   "metadata": {},
   "outputs": [],
   "source": [
    "def commodityChannelIndex(high, low, close, n=20):\n",
    "    # (Typical Price - 20_Day Moving Average) / .015 x Mean Deviation\n",
    "    typicalPrices = (high + low + close) / 3\n",
    "    \n",
    "    movingAverage = np.full_like(high, np.nan)\n",
    "    meanDeviation = np.full_like(high, np.nan)\n",
    "    \n",
    "    for i in range(n, len(typicalPrices)):\n",
    "        movingAverage[i] = np.mean(typicalPrices[i-n:i])\n",
    "        meanDeviation[i] = np.mean(np.abs(typicalPrices[i-n:i] - movingAverage[i]))\n",
    "    \n",
    "    cci = np.full_like(high, np.nan, dtype=np.float64)\n",
    "\n",
    "    numerator = typicalPrices[n:] - movingAverage[n:]\n",
    "    denominator = 0.015 * meanDeviation[n:]\n",
    "    result = np.empty_like(numerator)\n",
    "\n",
    "    np.divide(numerator, denominator, out=result, where=(denominator != 0))\n",
    "    # a little hacky...\n",
    "    result[denominator == 0] = 0\n",
    "\n",
    "    cci[n:] = result\n",
    "    return cci\n",
    "\n",
    "# # CCI = commodityChannelIndex(highs, lows, closingPrices)\n",
    "# # plt.figure(figsize=(10, 6))\n",
    "# # plt.plot(CCI, color=\"black\")\n",
    "# # plt.title(f\"Commodity Channel Index over Time\")\n",
    "# # plt.xlabel(\"Time\")\n",
    "# # plt.ylabel(\"Commodity Channel Index\")\n",
    "# # plt.legend()\n",
    "# # plt.show()"
   ]
  },
  {
   "cell_type": "markdown",
   "metadata": {},
   "source": [
    "### Indicator 5: MACD"
   ]
  },
  {
   "cell_type": "code",
   "execution_count": null,
   "metadata": {},
   "outputs": [],
   "source": [
    "\"\"\"\n",
    "MACD = 12-day EMA - 26-day EMA\n",
    "Signal Line = 9-day EMA of MACD\n",
    "MACD Histogram = MACD - Signal Line\n",
    "where EMA stands for Exponential Moving Average\n",
    "\"\"\"\n",
    "\n",
    "def MACD(array):\n",
    "    return EMA(array, 12) - EMA(array, 26)\n",
    "\n",
    "def MACDSignal(array):\n",
    "    return EMA(MACD(array), 9)\n",
    "\n",
    "MACDHistogram = lambda x : MACD(x) - MACDSignal(x)\n",
    "\n",
    "# mACD = MACD(closingPrices)\n",
    "# signalLine = MACDSignal(closingPrices)\n",
    "# macdHistogram = MACDHistogram(mACD, signalLine)\n",
    "\n",
    "# plt.figure(figsize=(10, 6))\n",
    "# plt.plot(mACD, color=\"blue\", label = \"MACD Line\")\n",
    "# plt.plot(signalLine, color = \"red\", label = \"Signal Line\")\n",
    "# plt.plot(macdHistogram, color = \"black\", label = \"Histogram\")\n",
    "# plt.title(f\"Moving Average Convergence-Divergence\")\n",
    "# plt.xlabel(\"Time\")\n",
    "# plt.ylabel(\"MACD\")\n",
    "# plt.legend()\n",
    "# plt.show()"
   ]
  },
  {
   "cell_type": "markdown",
   "metadata": {},
   "source": [
    "## 3. Collate All Features Into DataFrame"
   ]
  },
  {
   "cell_type": "code",
   "execution_count": null,
   "metadata": {},
   "outputs": [],
   "source": [
    "import os\n",
    "\n",
    "CCI_T, ATR_T = 20, 14\n",
    "if RETRIEVE_DATA:\n",
    "    for product in productIds:\n",
    "        df = dataframes[product]\n",
    "        close = df[\"close\"].values\n",
    "        highs = df[\"high\"].values\n",
    "        lows = df[\"low\"].values\n",
    "        df['E_M_A'] = EMA(close, N=30)\n",
    "        df['Momentum'] = Momentum(close)\n",
    "        df['Av_True_Range'] = averageTrueRange(highs, lows, close, 14)\n",
    "        df['CCI'] = commodityChannelIndex(highs, lows, close, 20)\n",
    "        df['MACDHist'] = MACDHistogram(close)\n",
    "        # Reset Indexes\n",
    "        df = df.drop(columns=['open', 'high', 'volume', 'low'])\n",
    "        df = df.iloc[max(ATR_T, CCI_T):]\n",
    "        df = df.reset_index(drop=True)\n",
    "        dataframes[product] = df\n",
    "        if not os.path.exists(\"CSVs/\"):\n",
    "            os.makedirs(\"CSVs/\")\n",
    "        df.to_csv(f\"CSVs/{product}_{period}_periods.csv\", sep='\\t')\n",
    "else:\n",
    "    for productId in productIds:\n",
    "        df = pd.read_csv(f\"CSVs/{productId}_{period}_periods.csv\", sep='\\t')\n",
    "        dataframes[productId] = df.iloc[:, 1:]  # Drops the first column\n",
    "\n",
    "times = None\n",
    "if not CRYPTO:\n",
    "    for product in productIds:\n",
    "        df = dataframes[product]\n",
    "        times = df['Times']\n",
    "        dataframes[product] = df.drop('Times', axis=1)"
   ]
  },
  {
   "cell_type": "markdown",
   "metadata": {},
   "source": [
    "## 4. Environment and Training Process"
   ]
  },
  {
   "cell_type": "markdown",
   "metadata": {},
   "source": [
    "### Comparison Strategies"
   ]
  },
  {
   "cell_type": "code",
   "execution_count": null,
   "metadata": {},
   "outputs": [],
   "source": [
    "sse50BuyAndHold =  np.array([0] + [1/len(sse50Tickers) if i in sse50Tickers else 0 for i in productIds])\n",
    "sensexBuyAndHold = np.array([0] + [1/len(sensexTickers) if i in sensexTickers else 0 for i in productIds])\n",
    "ftse100BuyAndHold = np.array([0] + [1/len(ftse100Tickers) if i in ftse100Tickers else 0 for i in productIds])\n",
    "dowBuyAndHold = np.array([0] + [1/len(dowTickers) if i in dowTickers else 0 for i in productIds])\n",
    "buyAndHoldAll = np.array([0] + [1/(len(productIds)) for i in productIds])\n",
    "\n",
    "#Non\n",
    "NON_RL_COMPARISON_STRATEGIES = {\n",
    "    \"SSEBuyAndHold\" : sse50BuyAndHold,\n",
    "    \"SENSEXBuyAndHold\" : sensexBuyAndHold,\n",
    "    \"FTSEBuyAndHold\" : ftse100BuyAndHold,\n",
    "    \"DOWBuyAndHold\" : dowBuyAndHold,\n",
    "    \"BuyAndHoldAll\" : buyAndHoldAll\n",
    "}"
   ]
  },
  {
   "cell_type": "markdown",
   "metadata": {},
   "source": [
    "### Hyperparameters (most of them)"
   ]
  },
  {
   "cell_type": "code",
   "execution_count": null,
   "metadata": {},
   "outputs": [],
   "source": [
    "from collections import defaultdict\n",
    "import torch\n",
    "\n",
    "BASE_SEED = 9\n",
    "NUMBER_OF_ASSETS = len(productIds)\n",
    "NUMBER_OF_FEATURES = 1 + (1 + len((list(dataframes.values())[0]).columns)) * len(productIds) + 1\n",
    "if not CRYPTO:\n",
    "    PERIODS_WANTED = list(dataframes.values())[0].shape[0]\n",
    "TRAINING_PERIODS = round(PERIODS_WANTED * 2 / 3)\n",
    "VALIDATION_PERIODS = (PERIODS_WANTED - TRAINING_PERIODS) // 2\n",
    "TESTING_PERIODS = VALIDATION_PERIODS\n",
    "\n",
    "\n",
    "EPISODE_LENGTH = PERIODS_WANTED // 3 \n",
    "TIMESTEP_SHIFT = EPISODE_LENGTH // 10\n",
    "TRAINING_WINDOWS = ((TRAINING_PERIODS - EPISODE_LENGTH) // TIMESTEP_SHIFT) + 1\n",
    "\n",
    "EPOCHS = 5\n",
    "TIME_WINDOW = 30\n",
    "PERTURBATION_NOISE = 0.002\n",
    "\n",
    "START_CASH = 1000000\n",
    "LSTMHIDDENSIZE = 128\n",
    "\n",
    "BASELINE = [\"RANDOM\"]\n",
    "RL_STRATS = [\"PPOLSTM\"]\n",
    "FINAL_STRATEGIES = BASELINE + [\"SSEBuyAndHold\", \"SENSEXBuyAndHold\", \"FTSEBuyAndHold\", \"DOWBuyAndHold\", \"BuyAndHoldAll\"]\n",
    "\n",
    "AGENT_RISK_AVERSIONS = np.array([0.25, 0.5, 1, 1.5, 2]) #i know, this probably shouldn't go here\n",
    "LSTMOUTPUTSIZES = [32, 64, 128, 256, 512]\n",
    "REWARD_FUNCTIONS = [\"Differential Sharpe Ratio_0.01\", \"Differential Sharpe Ratio_0.05\", \"Differential Sharpe Ratio_0.1\"]\n",
    "LEARNING_RATES = [1e-4, 3e-4, 5e-4, 7e-4]\n",
    "LEARNING_FREQUENCIES = (TRAINING_PERIODS / np.array([10, 20, 30, 40, 50])).astype(int)\n",
    "\n",
    "LEARNING_CURVE_FREQUENCY = None # for later\n",
    "\n",
    "\n",
    "averagePerformance = defaultdict(list)\n",
    "allResults = defaultdict(list)\n",
    "performances = defaultdict(list) # one of these is probably obsolete"
   ]
  },
  {
   "cell_type": "code",
   "execution_count": null,
   "metadata": {},
   "outputs": [],
   "source": [
    "#this code is an eyesore but i was on a time crunch\n",
    "TRAINING_DATA = {}\n",
    "VALIDATION_DATA = {}\n",
    "TESTING_DATA = {}\n",
    "\n",
    "for key, df in dataframes.items():\n",
    "    trainSlice = df.iloc[:TRAINING_PERIODS].copy()\n",
    "    validationSlice = df.iloc[TRAINING_PERIODS:TRAINING_PERIODS+VALIDATION_PERIODS].copy()\n",
    "    testSlice = df.iloc[TRAINING_PERIODS+VALIDATION_PERIODS:].copy()\n",
    "\n",
    "    TRAINING_DATA[key] = trainSlice\n",
    "    VALIDATION_DATA[key] = validationSlice\n",
    "    TESTING_DATA[key]  = testSlice\n",
    "\n",
    "\n",
    "TRAINING_VALIDATION_DATA = {}\n",
    "# Join Training + Validation data set\n",
    "for key, df in TRAINING_DATA.items():\n",
    "    TRAINING_VALIDATION_DATA[key] = pd.concat([TRAINING_DATA[key], VALIDATION_DATA[key].copy()])\n",
    "    TRAINING_VALIDATION_DATA[key] = TRAINING_VALIDATION_DATA[key].reset_index(drop=True)"
   ]
  },
  {
   "cell_type": "code",
   "execution_count": null,
   "metadata": {},
   "outputs": [],
   "source": [
    "# Thing being tested\n",
    "TESTING = {\n",
    "    \"RISK AVERSION\" : False,\n",
    "    \"LSTM OUTPUT SIZE\" : False,\n",
    "    \"REWARD FUNCTION\" : False,\n",
    "    \"LEARNING FREQUENCY\": False, \n",
    "    \"LEARNING RATE\": False,\n",
    "}"
   ]
  },
  {
   "cell_type": "markdown",
   "metadata": {},
   "source": [
    "#### Some helper functions for metrics"
   ]
  },
  {
   "cell_type": "code",
   "execution_count": null,
   "metadata": {},
   "outputs": [],
   "source": [
    "from utils import tabulate_neatly\n",
    "\n",
    "def printConfiguration(agent=None, freq=None):\n",
    "    table = [[\"LSTM Hidden Size\", \"LSTM Output Size\", \"Learning Frequency\", \"Agent Risk Aversion\"]]\n",
    "    table.append([LSTMHIDDENSIZE, agent.state_n, freq, agent.riskAversion])\n",
    "    tabulate_neatly(table, headers=\"firstrow\", title=f\"Configuration:\")\n",
    "\n",
    "def plotAllocations(allocations, title=None):\n",
    "    categories = ['Cash'] + productIds\n",
    "    plt.figure(figsize=(20,5))\n",
    "    plt.bar(categories, allocations)\n",
    "    plt.xlabel('Allocations')\n",
    "    plt.tick_params(axis='x', labelsize=6)\n",
    "    plt.ylabel('Proportion Allocated')\n",
    "    plt.title('Allocations' if title == None else title)\n",
    "    plt.show()\n",
    "\n",
    "def generateConfigLabel(strategy, agent, rewardFunction, freq, lr):\n",
    "    firstTag = f\"Strategy-{strategy}\" \n",
    "    innerTag = None\n",
    "    boole = (strategy not in NON_RL_COMPARISON_STRATEGIES.keys() and strategy != \"RANDOM\")\n",
    "    if TESTING[\"RISK AVERSION\"]:\n",
    "        innerTag = (f\"Risk Aversion-{agent.riskAversion}\" if boole else \"\")\n",
    "    elif TESTING[\"LSTM OUTPUT SIZE\"]:\n",
    "        innerTag = (f\"LSTM Output Size-{agent.state_n}\" if boole else \"\")\n",
    "    elif TESTING[\"REWARD FUNCTION\"]:  \n",
    "        innerTag = (f\"Reward Function-{rewardFunction}\" if boole else \"\")\n",
    "    elif TESTING[\"LEARNING FREQUENCY\"]:  \n",
    "        innerTag = (f\"Learning Frequency-{freq}\" if boole else \"\")\n",
    "    elif TESTING[\"LEARNING RATE\"]:  \n",
    "        innerTag = (f\"Learning Rate-{lr}\" if boole else \"\")\n",
    "    \n",
    "    if any(TESTING.values()) and boole:\n",
    "        firstTag, innerTag = innerTag, firstTag\n",
    "    return firstTag + \" | \" +  innerTag + \" | \"\n"
   ]
  },
  {
   "cell_type": "markdown",
   "metadata": {},
   "source": [
    "### Training and Evaluation Functions"
   ]
  },
  {
   "cell_type": "code",
   "execution_count": null,
   "metadata": {},
   "outputs": [],
   "source": [
    "from PPO import PPOAgent\n",
    "\n",
    "def generateAgent(lstmOutputSize, riskAversion, lr, featureExtractor):\n",
    "        return PPOAgent( \n",
    "                        state_n=lstmOutputSize, \n",
    "                        actions_n=len(productIds) + 1,\n",
    "                        alpha=lr,\n",
    "                        policyClip = 0.2,\n",
    "                        gamma=0.99,\n",
    "                        lstmHiddenSize=LSTMHIDDENSIZE,\n",
    "                        actor_noise=0,\n",
    "                        batch_size=512,\n",
    "                        fc1_n=128,\n",
    "                        fc2_n=128,\n",
    "                        gaeLambda=0.98,\n",
    "                        epochs=10,\n",
    "                        riskAversion=riskAversion,\n",
    "                        featureExtractor = featureExtractor\n",
    "                    )"
   ]
  },
  {
   "cell_type": "code",
   "execution_count": null,
   "metadata": {},
   "outputs": [],
   "source": [
    "from TimeSeriesEnvironment import TimeSeriesEnvironment\n",
    "import torch\n",
    "\n",
    "def storeExperiences(agent, data, reward, done, strategy, action, prob, val):\n",
    "    if strategy == \"PPOLSTM\":\n",
    "        agent.store(data, action, prob.squeeze(), val.squeeze(), reward, done)\n",
    "\n",
    "\n",
    "def warmUpEnvironment(environment, rewardFunction):\n",
    "    \"\"\"\n",
    "    'warm up' environment until there's enough data to estimate CVaR\n",
    "    \"\"\"\n",
    "    for _ in range(TIME_WINDOW):\n",
    "        environment.step(np.ones(len(productIds) + 1)/(len(productIds) + 1), rewardMethod=rewardFunction)\n",
    "    environment.setIsReady(True)\n",
    "\n",
    "\n",
    "def evaluateAgent(riskAversion, rewardFunction, agent, freq, lr, num, conf=None, save=True, dataType = \"validation\", forLearningCurve=False, benchmark=False):\n",
    "    VAL_AND_TEST = {\n",
    "        \"validation\": [VALIDATION_DATA, VALIDATION_PERIODS],\n",
    "        \"testing\": [TESTING_DATA, TESTING_PERIODS]\n",
    "    }\n",
    "    toRun = BASELINE + RL_STRATS if not forLearningCurve else RL_STRATS\n",
    "    if benchmark:\n",
    "        toRun = BASELINE\n",
    "\n",
    "    DATA = VAL_AND_TEST[dataType][0]\n",
    "    dataShape = list(DATA.values())[0].shape  \n",
    "    PRICE_DATA = {}\n",
    "    normalisedData = {}\n",
    "    if dataType == \"validation\": # noise if validation\n",
    "        np.random.seed(BASE_SEED) \n",
    "        # Following Liang et al. (2018) - noise perturbation - \"synthetic\" data\n",
    "        noise = np.random.normal(0, PERTURBATION_NOISE, size=dataShape)\n",
    "    for key, df in DATA.items():\n",
    "        df += noise if dataType == \"validation\" else 0 # make autoregressive?\n",
    "        df[\"Return\"] = df[\"close\"].pct_change().fillna(0)\n",
    "        PRICE_DATA[key] = df[\"Return\"].values\n",
    "        normalisedData[key] = ((df - df.mean()) / df.std()).reset_index(drop=True)\n",
    "           \n",
    "    for strategy in toRun:\n",
    "        env = TimeSeriesEnvironment(pd.DataFrame(PRICE_DATA), normalisedData, TIME_WINDOW, VAL_AND_TEST[dataType][1], START_CASH, riskAversion, 2e-4)\n",
    "        env.reset()\n",
    "        done = False\n",
    "        while not done:\n",
    "            if not env.getIsReady():\n",
    "                warmUpEnvironment(env, rewardFunction)\n",
    "            observation = None\n",
    "            if strategy in RL_STRATS:\n",
    "                data = env.getData()\n",
    "                observation = agent.featureExtractor.forward(torch.tensor(data, dtype=torch.float32).unsqueeze(0))\n",
    "            if strategy == \"RANDOM\":\n",
    "                action = np.random.dirichlet(np.ones(len(productIds) + 1))\n",
    "            elif strategy in NON_RL_COMPARISON_STRATEGIES:\n",
    "                action = NON_RL_COMPARISON_STRATEGIES.get(strategy)\n",
    "            else: \n",
    "                if strategy == \"PPOLSTM\":\n",
    "                    action, _, __ = agent.select_action(observation, sampling= False)\n",
    "\n",
    "            finalAction = (\n",
    "                np.array([0] + action) if strategy in NON_RL_COMPARISON_STRATEGIES else action\n",
    "            )\n",
    "            next, reward, done, _, info = env.step(finalAction, rewardFunction)                    \n",
    "        dataString = None\n",
    "        if not benchmark:\n",
    "            if conf == None or strategy == \"RANDOM\":\n",
    "                dataString = generateConfigLabel(strategy, agent, rewardFunction, freq, lr)\n",
    "            else:\n",
    "                dataString = conf\n",
    "        if not forLearningCurve:\n",
    "            if not benchmark:\n",
    "                metrics = env.getMetrics()\n",
    "                averagePerformance[dataString].append(env.PORTFOLIO_VALUES)\n",
    "                allResults[dataString].append(metrics)\n",
    "                table = [metrics.keys()]\n",
    "                table.append(metrics.values())\n",
    "                tabulate_neatly(table, headers=\"firstrow\", title=f\"Evaluation: {num} | {dataString}\")\n",
    "            else:\n",
    "                return env.PORTFOLIO_VALUES\n",
    "        portFolder = f\"portfolios/{dataType}/{num}/\"\n",
    "        if forLearningCurve:\n",
    "            portFolder = f\"portfolios/{dataType}/forLearningCurve/\"\n",
    "        if not os.path.exists(portFolder):\n",
    "            os.makedirs(portFolder)\n",
    "        filePath = f\"{portFolder}{(dataString.split(\"|\")[0]).strip()}.txt\"\n",
    "        if forLearningCurve:\n",
    "            filePath = f\"{portFolder}{(dataString.split('|')[0]).strip()}_{num}.txt\"\n",
    "        np.savetxt(filePath, env.PORTFOLIO_VALUES, fmt='%f')\n",
    "        if (strategy in RL_STRATS) and save:\n",
    "            # if model.perform() #some \"scoreperformance stuff\"\n",
    "            saveFolder = f\"save/{dataType}/{num}/{(dataString.split(\"|\")[0]).strip()}/\"\n",
    "            # Ensure the child save directory exists\n",
    "            if not os.path.exists(saveFolder):\n",
    "                os.makedirs(saveFolder)\n",
    "            agent.save(saveFolder)  \n",
    "            "
   ]
  },
  {
   "cell_type": "code",
   "execution_count": null,
   "metadata": {},
   "outputs": [],
   "source": [
    "from PPO import PPOAgent\n",
    "from LstmFeatureExtractor import LstmFeatureExtractor\n",
    "import numpy as np\n",
    "\n",
    "def initialiseTrainingEnvironment(episode, rewardFunction, riskAversion, evalType, epoch):\n",
    "    start = TIMESTEP_SHIFT * episode\n",
    "    \n",
    "    datasets = {\n",
    "        \"validation\": {\n",
    "            \"TRAINING_DATA\": TRAINING_DATA,\n",
    "        },\n",
    "        \"testing\": {\n",
    "            \"TRAINING_DATA\": TRAINING_VALIDATION_DATA,\n",
    "        }\n",
    "    }\n",
    "    # use traingin and validation data combo for testing\n",
    "    DATA = datasets[evalType][\"TRAINING_DATA\"]\n",
    "    dataShape = list(DATA.values())[0].shape \n",
    "    end = min(start+EPISODE_LENGTH, dataShape[0])\n",
    "    dataWindow = {}\n",
    "    for key, value in DATA.items():\n",
    "        dataWindow[key] = value.iloc[start:end].copy()\n",
    "    \n",
    "    np.random.seed(BASE_SEED + episode * 100 + epoch) # each episode has a different seed\n",
    "    # Following Liang et al. (2018) - noise perturbation - \"synthetic\" data\n",
    "    noise = np.random.normal(0, 0.002, size=(end - start, dataShape[1]))\n",
    "    NOISY_PRICE_DATA = {}\n",
    "    normalisedData = {}\n",
    "    for key, df in dataWindow.items():\n",
    "        df += noise # make autoregressive?\n",
    "        df[\"Return\"] = df[\"close\"].pct_change().fillna(0)\n",
    "        NOISY_PRICE_DATA[key] = df[\"Return\"].values\n",
    "        normalisedData[key] = ((df - df.mean()) / df.std()).reset_index(drop=True)\n",
    "    env = TimeSeriesEnvironment(pd.DataFrame(NOISY_PRICE_DATA), normalisedData, TIME_WINDOW, EPISODE_LENGTH, START_CASH, riskAversion, 2e-4)\n",
    "    if \"Differential\" in rewardFunction:\n",
    "        decay = float(rewardFunction.split(\"_\")[1])\n",
    "        env.decayRate = decay\n",
    "    return env\n",
    "\n",
    "def seed(seed):\n",
    "    np.random.seed(seed)\n",
    "    torch.manual_seed(seed)\n",
    "    torch.cuda.manual_seed_all(seed)  # for GPU\n",
    "\n",
    "def trainingLoop(riskAversion=0, lstmOutputSize=128, rewardFunction=\"CVaR\", freq=int(EPISODE_LENGTH / 30), lr=3e-4, conf = None, evalType = \"validation\"):\n",
    "    seed(BASE_SEED)\n",
    "    featureExtractor = LstmFeatureExtractor(TIME_WINDOW, NUMBER_OF_FEATURES, 128, lstmOutputSize)\n",
    "    agent = generateAgent(lstmOutputSize, riskAversion, lr, featureExtractor)\n",
    "    numberRun=0\n",
    "    totalTimesteps = 0\n",
    "    startTime = time.time()\n",
    "    for epoch in range(EPOCHS):\n",
    "        if epoch > 0:\n",
    "            print(f\"{epoch} Epochs takes: {(time.time() - startTime):.2f} seconds\")\n",
    "            seed(BASE_SEED + epoch)\n",
    "        for strategy in RL_STRATS:\n",
    "            for episode in range(TRAINING_WINDOWS):\n",
    "                env = initialiseTrainingEnvironment(episode, rewardFunction, riskAversion, evalType, epoch)\n",
    "                env.reset()\n",
    "                done = False\n",
    "                while not done:\n",
    "                    if not env.getIsReady():\n",
    "                        warmUpEnvironment(env, rewardFunction)\n",
    "                        continue\n",
    "                    observation = None\n",
    "                    data = env.getData()\n",
    "                    data = np.random.normal(0, PERTURBATION_NOISE, size=data.shape) #noise perturbation - more robust?\n",
    "                    observation = featureExtractor.forward(torch.tensor(data, dtype=torch.float32).unsqueeze(0))\n",
    "                    probabilities, valuation = None, None\n",
    "                    if strategy == \"PPOLSTM\":\n",
    "                        action, probabilities, valuation = agent.select_action(observation)\n",
    "                    next, reward, done, _, info = env.step(action, rewardFunction)    \n",
    "                    totalTimesteps += 1                \n",
    "                    if strategy in RL_STRATS:\n",
    "                        storeExperiences(agent, data, reward, done, strategy, action, probabilities, valuation)\n",
    "                        if (env.timeStep % freq) == 0:\n",
    "                            agent.train()\n",
    "                        if evalType == \"testing\" and (totalTimesteps % LEARNING_CURVE_FREQUENCY == 0):\n",
    "                            evaluateAgent(riskAversion, rewardFunction, agent, freq, lr, int(totalTimesteps/LEARNING_CURVE_FREQUENCY), conf, dataType=evalType, save=False, forLearningCurve=True)\n",
    "                    if done:\n",
    "                        numberRun += 1\n",
    "                        if numberRun % TRAINING_WINDOWS == 0:\n",
    "                            evaluateAgent(riskAversion, rewardFunction, agent, freq, lr, numberRun, conf, dataType=evalType)\n",
    "                        "
   ]
  },
  {
   "cell_type": "markdown",
   "metadata": {},
   "source": [
    "### Visualise Performance ###"
   ]
  },
  {
   "cell_type": "code",
   "execution_count": null,
   "metadata": {},
   "outputs": [],
   "source": [
    "def plotPerformance(test, final=\"\"):\n",
    "    plt.figure(figsize=(12,6))\n",
    "    name = f\"Returns_\" \n",
    "    portfolioFolder = f\"portfolios/Test-{test+final}/\"+ datetime.now().strftime(\"%Y-%m-%d\") + \"/\"\n",
    "    plotsFolder = f\"plots/Test-{test+final}/\"+ datetime.now().strftime(\"%Y-%m-%d\") + \"/\"\n",
    "    if not os.path.exists(portfolioFolder):\n",
    "        os.makedirs(portfolioFolder)\n",
    "    if not os.path.exists(plotsFolder):\n",
    "        os.makedirs(plotsFolder)\n",
    "    for k, v in averagePerformance.items():\n",
    "        if final == \"\":\n",
    "            if test.lower() in k.lower() or \"RANDOM\" in k: # i wrote this at 12am forgive me\n",
    "                shouldBeSkipped = False\n",
    "            else:\n",
    "                shouldBeSkipped = True\n",
    "            for value in list(NON_RL_COMPARISON_STRATEGIES.keys())[:-1]:\n",
    "                if value in k:\n",
    "                    shouldBeSkipped = True # only need to compare with buy and hold for now\n",
    "            if shouldBeSkipped:\n",
    "                continue \n",
    "        try:\n",
    "            x = np.array(v)\n",
    "            x = np.mean(v, axis=0)\n",
    "            v = x\n",
    "        except ValueError:\n",
    "            maxLength = max(len(arr) for arr in v)\n",
    "            result = []\n",
    "            for i in range(maxLength):\n",
    "                values = [arr[i] for arr in v if i < len(arr)]\n",
    "                mean_value = np.mean(values)\n",
    "                result.append(mean_value)\n",
    "            v = result\n",
    "        l = k.split(\"|\")[0]\n",
    "        array = np.insert(v, 0, START_CASH)\n",
    "        plt.plot(array, label=l)\n",
    "        np.savetxt(f\"{portfolioFolder}{name}{l}.txt\", array, fmt='%f')\n",
    "        plt.title(f\"Returns over Time. Testing: {test}\")\n",
    "        plt.xlabel(\"Time\")\n",
    "        plt.ylabel(\"Mean Returns\")\n",
    "        plt.legend()\n",
    "        # plt.savefig(f\"{plotsFolder}{name}\")\n",
    "        plt.show()\n",
    "\n"
   ]
  },
  {
   "cell_type": "markdown",
   "metadata": {},
   "source": [
    "### Helper: Tabulate Results"
   ]
  },
  {
   "cell_type": "code",
   "execution_count": null,
   "metadata": {},
   "outputs": [],
   "source": [
    "def tabulateResults():\n",
    "    for k, v in allResults.items():\n",
    "        table = [list(v[0].keys()) + [\"Standard Deviation\"]] \n",
    "        meanReturns, meanPB, meanSR, timeSteps = 0, 0, 0, 0\n",
    "        deviations = []\n",
    "        for resultSet in v:\n",
    "            meanReturns += resultSet[\"Cumulative \\nReturn (%)\"]\n",
    "            deviations.append(resultSet[\"Cumulative \\nReturn (%)\"])\n",
    "            meanPB += resultSet[\"Maximum \\nDrawdown (%)\"]\n",
    "            meanSR += resultSet[\"Sharpe Ratio\"]\n",
    "            timeSteps += resultSet[\"Total Timesteps\"]\n",
    "        array = [meanReturns, meanPB, meanSR, timeSteps, np.std(deviations)]\n",
    "        array = [i/len(v) for i in array]\n",
    "        table.append(array)\n",
    "        tabulate_neatly(table, headers=\"firstrow\", title=f\"MEAN RESULTS FOR: \" + k)"
   ]
  },
  {
   "cell_type": "markdown",
   "metadata": {},
   "source": [
    "#### Training Models"
   ]
  },
  {
   "cell_type": "code",
   "execution_count": null,
   "metadata": {},
   "outputs": [
    {
     "name": "stdout",
     "output_type": "stream",
     "text": [
      "==================================================\n",
      "TESTING RISK AVERSION\n"
     ]
    },
    {
     "data": {
      "text/html": [
       "<h3>Evaluation: 11 | Strategy-RANDOM |  | </h3>\n"
      ]
     },
     "metadata": {},
     "output_type": "display_data"
    },
    {
     "data": {
      "text/html": [
       "<table>\n",
       "<thead>\n",
       "<tr><th style=\"text-align: right;\">      Cumulative \n",
       "Return (%)</th><th style=\"text-align: right;\">        Maximum \n",
       "Drawdown (%)</th><th style=\"text-align: right;\">  Sharpe Ratio</th><th style=\"text-align: right;\">  Total Timesteps</th></tr>\n",
       "</thead>\n",
       "<tbody>\n",
       "<tr><td style=\"text-align: right;\">14.18</td><td style=\"text-align: right;\">13.7129</td><td style=\"text-align: right;\">        0.0541</td><td style=\"text-align: right;\">              366</td></tr>\n",
       "</tbody>\n",
       "</table>"
      ]
     },
     "metadata": {},
     "output_type": "display_data"
    },
    {
     "data": {
      "text/html": [
       "<h3>Evaluation: 11 | Risk Aversion-0.25 | Strategy-PPOLSTM | </h3>\n"
      ]
     },
     "metadata": {},
     "output_type": "display_data"
    },
    {
     "data": {
      "text/html": [
       "<table>\n",
       "<thead>\n",
       "<tr><th style=\"text-align: right;\">      Cumulative \n",
       "Return (%)</th><th style=\"text-align: right;\">        Maximum \n",
       "Drawdown (%)</th><th style=\"text-align: right;\">  Sharpe Ratio</th><th style=\"text-align: right;\">  Total Timesteps</th></tr>\n",
       "</thead>\n",
       "<tbody>\n",
       "<tr><td style=\"text-align: right;\">32.58</td><td style=\"text-align: right;\">8.82212</td><td style=\"text-align: right;\">        0.1244</td><td style=\"text-align: right;\">              366</td></tr>\n",
       "</tbody>\n",
       "</table>"
      ]
     },
     "metadata": {},
     "output_type": "display_data"
    },
    {
     "name": "stdout",
     "output_type": "stream",
     "text": [
      "1 Epochs takes: 434.83 seconds\n"
     ]
    },
    {
     "ename": "KeyboardInterrupt",
     "evalue": "",
     "output_type": "error",
     "traceback": [
      "\u001b[1;31m---------------------------------------------------------------------------\u001b[0m",
      "\u001b[1;31mKeyboardInterrupt\u001b[0m                         Traceback (most recent call last)",
      "Cell \u001b[1;32mIn[276], line 42\u001b[0m\n\u001b[0;32m     40\u001b[0m \u001b[38;5;66;03m# Run the sweep\u001b[39;00m\n\u001b[0;32m     41\u001b[0m \u001b[38;5;28;01mif\u001b[39;00m TRAIN:\n\u001b[1;32m---> 42\u001b[0m     \u001b[43mhyperSweep\u001b[49m\u001b[43m(\u001b[49m\u001b[43m)\u001b[49m\n",
      "Cell \u001b[1;32mIn[276], line 34\u001b[0m, in \u001b[0;36mhyperSweep\u001b[1;34m()\u001b[0m\n\u001b[0;32m     32\u001b[0m \u001b[38;5;28mprint\u001b[39m(\u001b[38;5;124m\"\u001b[39m\u001b[38;5;124m=\u001b[39m\u001b[38;5;124m\"\u001b[39m \u001b[38;5;241m*\u001b[39m \u001b[38;5;241m50\u001b[39m)\n\u001b[0;32m     33\u001b[0m TESTING[key] \u001b[38;5;241m=\u001b[39m \u001b[38;5;28;01mTrue\u001b[39;00m\n\u001b[1;32m---> 34\u001b[0m \u001b[43msweep\u001b[49m\u001b[43m(\u001b[49m\u001b[43m)\u001b[49m\n\u001b[0;32m     35\u001b[0m TESTING[key] \u001b[38;5;241m=\u001b[39m \u001b[38;5;28;01mFalse\u001b[39;00m\n\u001b[0;32m     36\u001b[0m \u001b[38;5;28mprint\u001b[39m(\u001b[38;5;124m\"\u001b[39m\u001b[38;5;124m=\u001b[39m\u001b[38;5;124m\"\u001b[39m \u001b[38;5;241m*\u001b[39m \u001b[38;5;241m50\u001b[39m)\n",
      "Cell \u001b[1;32mIn[276], line 26\u001b[0m, in \u001b[0;36msweep\u001b[1;34m()\u001b[0m\n\u001b[0;32m      4\u001b[0m \u001b[38;5;28mprint\u001b[39m(\u001b[38;5;124mf\u001b[39m\u001b[38;5;124m\"\u001b[39m\u001b[38;5;124mTESTING \u001b[39m\u001b[38;5;132;01m{\u001b[39;00mtestType\u001b[38;5;241m.\u001b[39mreplace(\u001b[38;5;124m'\u001b[39m\u001b[38;5;124m_\u001b[39m\u001b[38;5;124m'\u001b[39m,\u001b[38;5;250m \u001b[39m\u001b[38;5;124m'\u001b[39m\u001b[38;5;124m \u001b[39m\u001b[38;5;124m'\u001b[39m)\u001b[38;5;241m.\u001b[39mupper()\u001b[38;5;132;01m}\u001b[39;00m\u001b[38;5;124m\"\u001b[39m)\n\u001b[0;32m      5\u001b[0m testLoops \u001b[38;5;241m=\u001b[39m {\n\u001b[0;32m      6\u001b[0m     \u001b[38;5;124m\"\u001b[39m\u001b[38;5;124mRISK AVERSION\u001b[39m\u001b[38;5;124m\"\u001b[39m: \u001b[38;5;28;01mlambda\u001b[39;00m: [\n\u001b[0;32m      7\u001b[0m         trainingLoop(riskAversion\u001b[38;5;241m=\u001b[39mrisk) \u001b[38;5;28;01mfor\u001b[39;00m risk \u001b[38;5;129;01min\u001b[39;00m AGENT_RISK_AVERSIONS\n\u001b[1;32m   (...)\u001b[0m\n\u001b[0;32m     23\u001b[0m     ],\n\u001b[0;32m     24\u001b[0m }\n\u001b[1;32m---> 26\u001b[0m \u001b[43mtestLoops\u001b[49m\u001b[43m[\u001b[49m\u001b[43mtestType\u001b[49m\u001b[43m]\u001b[49m\u001b[43m(\u001b[49m\u001b[43m)\u001b[49m\n\u001b[0;32m     27\u001b[0m \u001b[38;5;28;01mbreak\u001b[39;00m\n",
      "Cell \u001b[1;32mIn[276], line 7\u001b[0m, in \u001b[0;36msweep.<locals>.<lambda>\u001b[1;34m()\u001b[0m\n\u001b[0;32m      3\u001b[0m \u001b[38;5;28;01mif\u001b[39;00m active:\n\u001b[0;32m      4\u001b[0m     \u001b[38;5;28mprint\u001b[39m(\u001b[38;5;124mf\u001b[39m\u001b[38;5;124m\"\u001b[39m\u001b[38;5;124mTESTING \u001b[39m\u001b[38;5;132;01m{\u001b[39;00mtestType\u001b[38;5;241m.\u001b[39mreplace(\u001b[38;5;124m'\u001b[39m\u001b[38;5;124m_\u001b[39m\u001b[38;5;124m'\u001b[39m,\u001b[38;5;250m \u001b[39m\u001b[38;5;124m'\u001b[39m\u001b[38;5;124m \u001b[39m\u001b[38;5;124m'\u001b[39m)\u001b[38;5;241m.\u001b[39mupper()\u001b[38;5;132;01m}\u001b[39;00m\u001b[38;5;124m\"\u001b[39m)\n\u001b[0;32m      5\u001b[0m     testLoops \u001b[38;5;241m=\u001b[39m {\n\u001b[0;32m      6\u001b[0m         \u001b[38;5;124m\"\u001b[39m\u001b[38;5;124mRISK AVERSION\u001b[39m\u001b[38;5;124m\"\u001b[39m: \u001b[38;5;28;01mlambda\u001b[39;00m: [\n\u001b[1;32m----> 7\u001b[0m             \u001b[43mtrainingLoop\u001b[49m\u001b[43m(\u001b[49m\u001b[43mriskAversion\u001b[49m\u001b[38;5;241;43m=\u001b[39;49m\u001b[43mrisk\u001b[49m\u001b[43m)\u001b[49m \u001b[38;5;28;01mfor\u001b[39;00m risk \u001b[38;5;129;01min\u001b[39;00m AGENT_RISK_AVERSIONS\n\u001b[0;32m      8\u001b[0m         ],\n\u001b[0;32m      9\u001b[0m         \u001b[38;5;124m\"\u001b[39m\u001b[38;5;124mLSTM OUTPUT SIZE\u001b[39m\u001b[38;5;124m\"\u001b[39m: \u001b[38;5;28;01mlambda\u001b[39;00m: [\n\u001b[0;32m     10\u001b[0m             trainingLoop(lstmOutputSize\u001b[38;5;241m=\u001b[39msize) \u001b[38;5;28;01mfor\u001b[39;00m size \u001b[38;5;129;01min\u001b[39;00m LSTMOUTPUTSIZES\n\u001b[0;32m     11\u001b[0m         ],\n\u001b[0;32m     12\u001b[0m         \u001b[38;5;124m\"\u001b[39m\u001b[38;5;124mREWARD FUNCTION\u001b[39m\u001b[38;5;124m\"\u001b[39m: \u001b[38;5;28;01mlambda\u001b[39;00m: [\n\u001b[0;32m     13\u001b[0m             trainingLoop(\n\u001b[0;32m     14\u001b[0m                 riskAversion\u001b[38;5;241m=\u001b[39m\u001b[38;5;241m0\u001b[39m, rewardFunction\u001b[38;5;241m=\u001b[39mr\n\u001b[0;32m     15\u001b[0m             )\n\u001b[0;32m     16\u001b[0m             \u001b[38;5;28;01mfor\u001b[39;00m r \u001b[38;5;129;01min\u001b[39;00m REWARD_FUNCTIONS\n\u001b[0;32m     17\u001b[0m         ],\n\u001b[0;32m     18\u001b[0m         \u001b[38;5;124m\"\u001b[39m\u001b[38;5;124mLEARNING FREQUENCY\u001b[39m\u001b[38;5;124m\"\u001b[39m: \u001b[38;5;28;01mlambda\u001b[39;00m: [\n\u001b[0;32m     19\u001b[0m             trainingLoop(freq\u001b[38;5;241m=\u001b[39mfr) \u001b[38;5;28;01mfor\u001b[39;00m fr \u001b[38;5;129;01min\u001b[39;00m LEARNING_FREQUENCIES\n\u001b[0;32m     20\u001b[0m         ],\n\u001b[0;32m     21\u001b[0m         \u001b[38;5;124m\"\u001b[39m\u001b[38;5;124mLEARNING RATE\u001b[39m\u001b[38;5;124m\"\u001b[39m: \u001b[38;5;28;01mlambda\u001b[39;00m: [\n\u001b[0;32m     22\u001b[0m             trainingLoop(lr\u001b[38;5;241m=\u001b[39mlearn) \u001b[38;5;28;01mfor\u001b[39;00m learn \u001b[38;5;129;01min\u001b[39;00m LEARNING_RATES\n\u001b[0;32m     23\u001b[0m         ],\n\u001b[0;32m     24\u001b[0m     }\n\u001b[0;32m     26\u001b[0m     testLoops[testType]()\n\u001b[0;32m     27\u001b[0m     \u001b[38;5;28;01mbreak\u001b[39;00m\n",
      "Cell \u001b[1;32mIn[275], line 67\u001b[0m, in \u001b[0;36mtrainingLoop\u001b[1;34m(riskAversion, lstmOutputSize, rewardFunction, freq, lr, conf, evalType)\u001b[0m\n\u001b[0;32m     65\u001b[0m observation \u001b[38;5;241m=\u001b[39m \u001b[38;5;28;01mNone\u001b[39;00m\n\u001b[0;32m     66\u001b[0m data \u001b[38;5;241m=\u001b[39m env\u001b[38;5;241m.\u001b[39mgetData()\n\u001b[1;32m---> 67\u001b[0m data \u001b[38;5;241m=\u001b[39m \u001b[43mnp\u001b[49m\u001b[38;5;241;43m.\u001b[39;49m\u001b[43mrandom\u001b[49m\u001b[38;5;241;43m.\u001b[39;49m\u001b[43mnormal\u001b[49m\u001b[43m(\u001b[49m\u001b[38;5;241;43m0\u001b[39;49m\u001b[43m,\u001b[49m\u001b[43m \u001b[49m\u001b[43mPERTURBATION_NOISE\u001b[49m\u001b[43m,\u001b[49m\u001b[43m \u001b[49m\u001b[43msize\u001b[49m\u001b[38;5;241;43m=\u001b[39;49m\u001b[43mdata\u001b[49m\u001b[38;5;241;43m.\u001b[39;49m\u001b[43mshape\u001b[49m\u001b[43m)\u001b[49m \u001b[38;5;66;03m#noise perturbation - more robust?\u001b[39;00m\n\u001b[0;32m     68\u001b[0m observation \u001b[38;5;241m=\u001b[39m featureExtractor\u001b[38;5;241m.\u001b[39mforward(torch\u001b[38;5;241m.\u001b[39mtensor(data, dtype\u001b[38;5;241m=\u001b[39mtorch\u001b[38;5;241m.\u001b[39mfloat32)\u001b[38;5;241m.\u001b[39munsqueeze(\u001b[38;5;241m0\u001b[39m))\n\u001b[0;32m     69\u001b[0m probabilities, valuation \u001b[38;5;241m=\u001b[39m \u001b[38;5;28;01mNone\u001b[39;00m, \u001b[38;5;28;01mNone\u001b[39;00m\n",
      "\u001b[1;31mKeyboardInterrupt\u001b[0m: "
     ]
    }
   ],
   "source": [
    "def sweep():\n",
    "    for testType, active in TESTING.items():\n",
    "        if active:\n",
    "            print(f\"TESTING {testType.replace('_', ' ').upper()}\")\n",
    "            testLoops = {\n",
    "                \"RISK AVERSION\": lambda: [\n",
    "                    trainingLoop(riskAversion=risk) for risk in AGENT_RISK_AVERSIONS\n",
    "                ],\n",
    "                \"LSTM OUTPUT SIZE\": lambda: [\n",
    "                    trainingLoop(lstmOutputSize=size) for size in LSTMOUTPUTSIZES\n",
    "                ],\n",
    "                \"REWARD FUNCTION\": lambda: [\n",
    "                    trainingLoop(\n",
    "                        riskAversion=0, rewardFunction=r\n",
    "                    )\n",
    "                    for r in REWARD_FUNCTIONS\n",
    "                ],\n",
    "                \"LEARNING FREQUENCY\": lambda: [\n",
    "                    trainingLoop(freq=fr) for fr in LEARNING_FREQUENCIES\n",
    "                ],\n",
    "                \"LEARNING RATE\": lambda: [\n",
    "                    trainingLoop(lr=learn) for learn in LEARNING_RATES\n",
    "                ],\n",
    "            }\n",
    "            \n",
    "            testLoops[testType]()\n",
    "            break \n",
    "\n",
    "\n",
    "def hyperSweep():\n",
    "    for key in TESTING.keys():\n",
    "        print(\"=\" * 50)\n",
    "        TESTING[key] = True\n",
    "        sweep()\n",
    "        TESTING[key] = False\n",
    "        print(\"=\" * 50)\n",
    "    tabulateResults()\n",
    "\n",
    "TRAIN = True\n",
    "# Run the sweep\n",
    "if TRAIN:\n",
    "    hyperSweep()"
   ]
  },
  {
   "cell_type": "markdown",
   "metadata": {},
   "source": [
    "#### Evaluation"
   ]
  },
  {
   "cell_type": "code",
   "execution_count": null,
   "metadata": {},
   "outputs": [],
   "source": [
    "HYPERS = {\n",
    "    \"Risk Aversion\" : AGENT_RISK_AVERSIONS,\n",
    "    \"LSTM Output Size\" : LSTMOUTPUTSIZES,\n",
    "    \"Reward Function\" : REWARD_FUNCTIONS,\n",
    "    \"Learning Frequency\": LEARNING_FREQUENCIES, \n",
    "    \"Learning Rate\": LEARNING_RATES,\n",
    "    }\n",
    "\n",
    "def initAgent(lstmOutputSize, lr, riskAversion):\n",
    "    agent = PPOAgent( \n",
    "            state_n=lstmOutputSize, \n",
    "            actions_n=len(productIds) + 1,\n",
    "            alpha=lr,\n",
    "            policyClip = 0.2,\n",
    "            gamma=0.99,\n",
    "            lstmHiddenSize=LSTMHIDDENSIZE,\n",
    "            actor_noise=0,\n",
    "            batch_size=512,\n",
    "            fc1_n=128,\n",
    "            fc2_n=128,\n",
    "            gaeLambda=0.98,\n",
    "            epochs=10,\n",
    "            riskAversion=riskAversion,\n",
    "            featureExtractor = LstmFeatureExtractor(TIME_WINDOW, NUMBER_OF_FEATURES, 128, lstmOutputSize)\n",
    "                )\n",
    "    return agent\n",
    "\n",
    "def setParameters(parameter, hyper, riskAversion, lstmOutputSize, lr):\n",
    "    agent = None\n",
    "    rf = \"Standard Logarithmic Returns\"\n",
    "    freq = int(EPISODE_LENGTH / 30)\n",
    "    risk = parameter if hyper == \"Risk Aversion\" else riskAversion\n",
    "    if hyper == \"Risk Aversion\" or hyper == \"Learning Frequency\" or hyper == \"Reward Function\":\n",
    "        agent = initAgent(lstmOutputSize, lr, risk)\n",
    "    elif hyper == \"LSTM Output Size\":\n",
    "        agent = initAgent(parameter, lr, risk)\n",
    "    else:\n",
    "        agent = initAgent(lstmOutputSize, parameter, risk)\n",
    "    if hyper == \"Reward Function\":\n",
    "        rf = parameter\n",
    "    if hyper == \"Learning Rate\":\n",
    "        lr = parameter\n",
    "    if hyper == \"Learning Frequency\":\n",
    "        freq = parameter\n",
    "    return rf, freq, risk, agent\n",
    "\n",
    "def runSavedAgents(lstmOutputSize = 128, riskAversion=0, lr=3e-4, dataType = \"validation\"):\n",
    "    for hyper, param in HYPERS.items():\n",
    "        TESTING[hyper.upper()] = True\n",
    "        for epoch in range(1, EPOCHS + 1):\n",
    "            for parameter in param:\n",
    "                saveFolder = f\"save/{dataType}/{epoch * TRAINING_WINDOWS}/{hyper}-{parameter}/\"\n",
    "                rf, freq, risk, agent = setParameters(parameter, hyper, riskAversion, lstmOutputSize, lr)\n",
    "                agent.load(saveFolder)\n",
    "                evaluateAgent(risk, rf, agent, freq, lr=lr, num=epoch * TRAINING_WINDOWS, conf=None, save=False) # ignore standard log - agent is not learning here\n",
    "        TESTING[hyper.upper()] = False\n",
    "                \n",
    "RUN_SAVED_TRAINED_AGENTS = False                \n",
    "\n",
    "if RUN_SAVED_TRAINED_AGENTS:\n",
    "    runSavedAgents()\n",
    "        "
   ]
  },
  {
   "cell_type": "markdown",
   "metadata": {},
   "source": [
    "#### Assess"
   ]
  },
  {
   "cell_type": "code",
   "execution_count": null,
   "metadata": {},
   "outputs": [],
   "source": [
    "def maxDrawdown(arr):\n",
    "    maxValue = float(\"-inf\")\n",
    "    maxDrawdown = 0.0\n",
    "    for value in arr:\n",
    "        maxValue = max(maxValue, value)\n",
    "        drawdown = (maxValue - value) / maxValue \n",
    "        maxDrawdown = max(maxDrawdown, drawdown)\n",
    "    return maxDrawdown\n",
    "\n",
    "def scoreFormula(agentArray, averageRandomReturn):\n",
    "    # score by (cumulative return - average random return)/max drawdown all times sharpe ratio\n",
    "    cumulativeReturn = agentArray[-1] / START_CASH - 1\n",
    "    maximumDrawdown = maxDrawdown(agentArray)\n",
    "    percChange = np.diff(agentArray) / agentArray[:-1]\n",
    "    sharpe = np.mean(percChange)/np.std(percChange) if np.std(percChange) != 0 else 0\n",
    "    score = ((cumulativeReturn - averageRandomReturn) / maximumDrawdown) * sharpe\n",
    "    metrics = {\n",
    "        \"Cumulative \\nReturn (%)\": cumulativeReturn * 100,\n",
    "        \"Maximum \\nDrawdown (%)\": maximumDrawdown * 100,\n",
    "        \"Sharpe Ratio\": sharpe,\n",
    "        \"Score\": score\n",
    "    }\n",
    "    return metrics\n",
    "\n",
    "def scoreAgents(dataType=\"validation\"):\n",
    "    averageRandomPerformance = []\n",
    "    for bench in range(1000):\n",
    "        randomArray = evaluateAgent(\"\", \"\", \"\", \"\", lr=\"\", num=bench, conf=None, save=False, dataType=dataType, benchmark=True)\n",
    "        averageRandomPerformance.append(randomArray)\n",
    "    averageRandomReturn = np.mean(np.array(averageRandomPerformance), axis=0)[-1] / START_CASH - 1\n",
    "    averageRandomPerformance = np.mean(np.array(averageRandomPerformance), axis=0)\n",
    "    for hyper, param in HYPERS.items():\n",
    "        \n",
    "        moreData = defaultdict(lambda: float(\"-inf\"))\n",
    "        epochNumber = defaultdict(lambda: 0)\n",
    "        bestMetrics = {}  \n",
    "        \n",
    "        # baseline\n",
    "        metrics = scoreFormula(averageRandomPerformance, averageRandomReturn)\n",
    "        table = [[\"Hyperparameter\", \"Cumulative \\nReturn (%)\", \"Maximum \\nDrawdown (%)\", \"Sharpe Ratio\", \"Score\"]] \n",
    "        table.append([\"RANDOM\"] + [round(met, 4) for met in metrics.values()])\n",
    "        tabulate_neatly(table, headers=\"firstrow\", title=f\"Random Agent: {hyper.title()}\")\n",
    "        \n",
    "        for epoch in range(1, EPOCHS + 1):\n",
    "            table = [[\"Hyperparameter\", \"Cumulative \\nReturn (%)\", \"Maximum \\nDrawdown (%)\", \"Sharpe Ratio\", \"Score\"]]\n",
    "            bestScore = float(\"-inf\")\n",
    "            bestParameter = None\n",
    "            for parameter in param:\n",
    "                portfolioNumbers = np.loadtxt(f\"portfolios/{dataType}/{epoch * TRAINING_WINDOWS}/\" + f\"{hyper.title()}-{parameter}.txt\")\n",
    "                metrics = scoreFormula(portfolioNumbers, averageRandomReturn)\n",
    "                key = f\"{hyper.title()}-{parameter}\"\n",
    "                if metrics[\"Score\"] > moreData[key]:\n",
    "                    moreData[key] = metrics[\"Score\"]\n",
    "                    epochNumber[key] = epoch\n",
    "                    bestMetrics[key] = metrics\n",
    "                table.append([f\"{hyper.title()}-{parameter}\"] + [round(met, 4) for met in metrics.values()])\n",
    "                if metrics[\"Score\"] > bestScore:\n",
    "                    bestScore = metrics[\"Score\"]\n",
    "                    bestParameter = f\"{hyper.title()}-{parameter}\"\n",
    "            print(f\"Epoch {epoch} | Best Hyperparameter: \", bestParameter)\n",
    "            print(f\"Epoch {epoch} | Best Score: \", bestScore)\n",
    "            tabulate_neatly(table, headers=\"firstrow\", title=f\"Epoch: {epoch} | Scores and Metrics Tabulated\")\n",
    "        \n",
    "        table = [[\"Hyperparameter\", \"Epoch\", \"Score\"]]\n",
    "        for key, value in moreData.items():\n",
    "            table.append([key, epochNumber[key], value])\n",
    "        tabulate_neatly(table, headers=\"firstrow\", title=f\"Best Hyperparameters (Summary): {hyper.title()}\")\n",
    "        \n",
    "        table2 = [[\"Hyperparameter\", \"Best Epoch\", \"Cumulative \\nReturn (%)\", \"Maximum \\nDrawdown (%)\", \"Sharpe Ratio\", \"Score\"]]\n",
    "        for key in bestMetrics.keys():\n",
    "            m = bestMetrics[key]\n",
    "            table2.append([\n",
    "                key,\n",
    "                epochNumber[key],\n",
    "                round(m[\"Cumulative \\nReturn (%)\"], 4),\n",
    "                round(m[\"Maximum \\nDrawdown (%)\"], 4),\n",
    "                round(m[\"Sharpe Ratio\"], 4),\n",
    "                round(m[\"Score\"], 4)\n",
    "            ])\n",
    "        tabulate_neatly(table2, headers=\"firstrow\", title=f\"Best Hyperparameters with Detailed Metrics: {hyper.title()}\")\n",
    "\n",
    "GENERATE_SCORES = False\n",
    "if GENERATE_SCORES:\n",
    "    scoreAgents()"
   ]
  },
  {
   "cell_type": "markdown",
   "metadata": {},
   "source": [
    "## 5. Testing Process"
   ]
  },
  {
   "cell_type": "markdown",
   "metadata": {},
   "source": [
    "### Best Models (if any) Evaluated"
   ]
  },
  {
   "cell_type": "code",
   "execution_count": null,
   "metadata": {},
   "outputs": [
    {
     "data": {
      "text/html": [
       "<h3>Evaluation: 16 | Strategy-RANDOM |  | </h3>\n"
      ]
     },
     "metadata": {},
     "output_type": "display_data"
    },
    {
     "data": {
      "text/html": [
       "<table>\n",
       "<thead>\n",
       "<tr><th style=\"text-align: right;\">      Cumulative \n",
       "Return (%)</th><th style=\"text-align: right;\">        Maximum \n",
       "Drawdown (%)</th><th style=\"text-align: right;\">  Sharpe Ratio</th><th style=\"text-align: right;\">  Total Timesteps</th></tr>\n",
       "</thead>\n",
       "<tbody>\n",
       "<tr><td style=\"text-align: right;\">15.07</td><td style=\"text-align: right;\">27.9347</td><td style=\"text-align: right;\">        0.0368</td><td style=\"text-align: right;\">              366</td></tr>\n",
       "</tbody>\n",
       "</table>"
      ]
     },
     "metadata": {},
     "output_type": "display_data"
    },
    {
     "data": {
      "text/html": [
       "<h3>Evaluation: 16 | Reward Function-Standard Logarithmic Returns | Strategy-PPOLSTM</h3>\n"
      ]
     },
     "metadata": {},
     "output_type": "display_data"
    },
    {
     "data": {
      "text/html": [
       "<table>\n",
       "<thead>\n",
       "<tr><th style=\"text-align: right;\">      Cumulative \n",
       "Return (%)</th><th style=\"text-align: right;\">        Maximum \n",
       "Drawdown (%)</th><th style=\"text-align: right;\">  Sharpe Ratio</th><th style=\"text-align: right;\">  Total Timesteps</th></tr>\n",
       "</thead>\n",
       "<tbody>\n",
       "<tr><td style=\"text-align: right;\">63.34</td><td style=\"text-align: right;\">22.9365</td><td style=\"text-align: right;\">        0.1124</td><td style=\"text-align: right;\">              366</td></tr>\n",
       "</tbody>\n",
       "</table>"
      ]
     },
     "metadata": {},
     "output_type": "display_data"
    },
    {
     "name": "stdout",
     "output_type": "stream",
     "text": [
      "1 Epochs takes: 603.43 seconds\n"
     ]
    },
    {
     "data": {
      "text/html": [
       "<h3>Evaluation: 32 | Strategy-RANDOM |  | </h3>\n"
      ]
     },
     "metadata": {},
     "output_type": "display_data"
    },
    {
     "data": {
      "text/html": [
       "<table>\n",
       "<thead>\n",
       "<tr><th style=\"text-align: right;\">      Cumulative \n",
       "Return (%)</th><th style=\"text-align: right;\">        Maximum \n",
       "Drawdown (%)</th><th style=\"text-align: right;\">  Sharpe Ratio</th><th style=\"text-align: right;\">  Total Timesteps</th></tr>\n",
       "</thead>\n",
       "<tbody>\n",
       "<tr><td style=\"text-align: right;\">18.73</td><td style=\"text-align: right;\">25.3567</td><td style=\"text-align: right;\">        0.0442</td><td style=\"text-align: right;\">              366</td></tr>\n",
       "</tbody>\n",
       "</table>"
      ]
     },
     "metadata": {},
     "output_type": "display_data"
    },
    {
     "data": {
      "text/html": [
       "<h3>Evaluation: 32 | Reward Function-Standard Logarithmic Returns | Strategy-PPOLSTM</h3>\n"
      ]
     },
     "metadata": {},
     "output_type": "display_data"
    },
    {
     "data": {
      "text/html": [
       "<table>\n",
       "<thead>\n",
       "<tr><th style=\"text-align: right;\">      Cumulative \n",
       "Return (%)</th><th style=\"text-align: right;\">        Maximum \n",
       "Drawdown (%)</th><th style=\"text-align: right;\">  Sharpe Ratio</th><th style=\"text-align: right;\">  Total Timesteps</th></tr>\n",
       "</thead>\n",
       "<tbody>\n",
       "<tr><td style=\"text-align: right;\">62.56</td><td style=\"text-align: right;\">24.7506</td><td style=\"text-align: right;\">        0.1078</td><td style=\"text-align: right;\">              366</td></tr>\n",
       "</tbody>\n",
       "</table>"
      ]
     },
     "metadata": {},
     "output_type": "display_data"
    },
    {
     "name": "stdout",
     "output_type": "stream",
     "text": [
      "2 Epochs takes: 1206.79 seconds\n"
     ]
    },
    {
     "data": {
      "text/html": [
       "<h3>Evaluation: 48 | Strategy-RANDOM |  | </h3>\n"
      ]
     },
     "metadata": {},
     "output_type": "display_data"
    },
    {
     "data": {
      "text/html": [
       "<table>\n",
       "<thead>\n",
       "<tr><th style=\"text-align: right;\">      Cumulative \n",
       "Return (%)</th><th style=\"text-align: right;\">        Maximum \n",
       "Drawdown (%)</th><th style=\"text-align: right;\">  Sharpe Ratio</th><th style=\"text-align: right;\">  Total Timesteps</th></tr>\n",
       "</thead>\n",
       "<tbody>\n",
       "<tr><td style=\"text-align: right;\">22.68</td><td style=\"text-align: right;\">29.7889</td><td style=\"text-align: right;\">        0.0493</td><td style=\"text-align: right;\">              366</td></tr>\n",
       "</tbody>\n",
       "</table>"
      ]
     },
     "metadata": {},
     "output_type": "display_data"
    },
    {
     "data": {
      "text/html": [
       "<h3>Evaluation: 48 | Reward Function-Standard Logarithmic Returns | Strategy-PPOLSTM</h3>\n"
      ]
     },
     "metadata": {},
     "output_type": "display_data"
    },
    {
     "data": {
      "text/html": [
       "<table>\n",
       "<thead>\n",
       "<tr><th style=\"text-align: right;\">      Cumulative \n",
       "Return (%)</th><th style=\"text-align: right;\">        Maximum \n",
       "Drawdown (%)</th><th style=\"text-align: right;\">  Sharpe Ratio</th><th style=\"text-align: right;\">  Total Timesteps</th></tr>\n",
       "</thead>\n",
       "<tbody>\n",
       "<tr><td style=\"text-align: right;\">65.43</td><td style=\"text-align: right;\">24.6773</td><td style=\"text-align: right;\">        0.1092</td><td style=\"text-align: right;\">              366</td></tr>\n",
       "</tbody>\n",
       "</table>"
      ]
     },
     "metadata": {},
     "output_type": "display_data"
    },
    {
     "name": "stdout",
     "output_type": "stream",
     "text": [
      "3 Epochs takes: 1810.80 seconds\n"
     ]
    },
    {
     "data": {
      "text/html": [
       "<h3>Evaluation: 64 | Strategy-RANDOM |  | </h3>\n"
      ]
     },
     "metadata": {},
     "output_type": "display_data"
    },
    {
     "data": {
      "text/html": [
       "<table>\n",
       "<thead>\n",
       "<tr><th style=\"text-align: right;\">      Cumulative \n",
       "Return (%)</th><th style=\"text-align: right;\">        Maximum \n",
       "Drawdown (%)</th><th style=\"text-align: right;\">  Sharpe Ratio</th><th style=\"text-align: right;\">  Total Timesteps</th></tr>\n",
       "</thead>\n",
       "<tbody>\n",
       "<tr><td style=\"text-align: right;\">35.12</td><td style=\"text-align: right;\">26.2159</td><td style=\"text-align: right;\">        0.0686</td><td style=\"text-align: right;\">              366</td></tr>\n",
       "</tbody>\n",
       "</table>"
      ]
     },
     "metadata": {},
     "output_type": "display_data"
    },
    {
     "data": {
      "text/html": [
       "<h3>Evaluation: 64 | Reward Function-Standard Logarithmic Returns | Strategy-PPOLSTM</h3>\n"
      ]
     },
     "metadata": {},
     "output_type": "display_data"
    },
    {
     "data": {
      "text/html": [
       "<table>\n",
       "<thead>\n",
       "<tr><th style=\"text-align: right;\">      Cumulative \n",
       "Return (%)</th><th style=\"text-align: right;\">        Maximum \n",
       "Drawdown (%)</th><th style=\"text-align: right;\">  Sharpe Ratio</th><th style=\"text-align: right;\">  Total Timesteps</th></tr>\n",
       "</thead>\n",
       "<tbody>\n",
       "<tr><td style=\"text-align: right;\">62.02</td><td style=\"text-align: right;\">24.4981</td><td style=\"text-align: right;\">         0.106</td><td style=\"text-align: right;\">              366</td></tr>\n",
       "</tbody>\n",
       "</table>"
      ]
     },
     "metadata": {},
     "output_type": "display_data"
    },
    {
     "name": "stdout",
     "output_type": "stream",
     "text": [
      "4 Epochs takes: 2419.26 seconds\n"
     ]
    },
    {
     "data": {
      "text/html": [
       "<h3>Evaluation: 80 | Strategy-RANDOM |  | </h3>\n"
      ]
     },
     "metadata": {},
     "output_type": "display_data"
    },
    {
     "data": {
      "text/html": [
       "<table>\n",
       "<thead>\n",
       "<tr><th style=\"text-align: right;\">     Cumulative \n",
       "Return (%)</th><th style=\"text-align: right;\">        Maximum \n",
       "Drawdown (%)</th><th style=\"text-align: right;\">  Sharpe Ratio</th><th style=\"text-align: right;\">  Total Timesteps</th></tr>\n",
       "</thead>\n",
       "<tbody>\n",
       "<tr><td style=\"text-align: right;\">29.8</td><td style=\"text-align: right;\">28.0331</td><td style=\"text-align: right;\">        0.0607</td><td style=\"text-align: right;\">              366</td></tr>\n",
       "</tbody>\n",
       "</table>"
      ]
     },
     "metadata": {},
     "output_type": "display_data"
    },
    {
     "data": {
      "text/html": [
       "<h3>Evaluation: 80 | Reward Function-Standard Logarithmic Returns | Strategy-PPOLSTM</h3>\n"
      ]
     },
     "metadata": {},
     "output_type": "display_data"
    },
    {
     "data": {
      "text/html": [
       "<table>\n",
       "<thead>\n",
       "<tr><th style=\"text-align: right;\">      Cumulative \n",
       "Return (%)</th><th style=\"text-align: right;\">        Maximum \n",
       "Drawdown (%)</th><th style=\"text-align: right;\">  Sharpe Ratio</th><th style=\"text-align: right;\">  Total Timesteps</th></tr>\n",
       "</thead>\n",
       "<tbody>\n",
       "<tr><td style=\"text-align: right;\">56.21</td><td style=\"text-align: right;\">24.1689</td><td style=\"text-align: right;\">        0.1001</td><td style=\"text-align: right;\">              366</td></tr>\n",
       "</tbody>\n",
       "</table>"
      ]
     },
     "metadata": {},
     "output_type": "display_data"
    },
    {
     "data": {
      "text/html": [
       "<h3>Evaluation: 16 | Strategy-RANDOM |  | </h3>\n"
      ]
     },
     "metadata": {},
     "output_type": "display_data"
    },
    {
     "data": {
      "text/html": [
       "<table>\n",
       "<thead>\n",
       "<tr><th style=\"text-align: right;\">      Cumulative \n",
       "Return (%)</th><th style=\"text-align: right;\">        Maximum \n",
       "Drawdown (%)</th><th style=\"text-align: right;\">  Sharpe Ratio</th><th style=\"text-align: right;\">  Total Timesteps</th></tr>\n",
       "</thead>\n",
       "<tbody>\n",
       "<tr><td style=\"text-align: right;\">15.07</td><td style=\"text-align: right;\">27.9347</td><td style=\"text-align: right;\">        0.0368</td><td style=\"text-align: right;\">              366</td></tr>\n",
       "</tbody>\n",
       "</table>"
      ]
     },
     "metadata": {},
     "output_type": "display_data"
    },
    {
     "data": {
      "text/html": [
       "<h3>Evaluation: 16 | Reward Function-Differential Sharpe Ratio_0.05 | Strategy-PPOLSTM</h3>\n"
      ]
     },
     "metadata": {},
     "output_type": "display_data"
    },
    {
     "data": {
      "text/html": [
       "<table>\n",
       "<thead>\n",
       "<tr><th style=\"text-align: right;\">    Cumulative \n",
       "Return (%)</th><th style=\"text-align: right;\">        Maximum \n",
       "Drawdown (%)</th><th style=\"text-align: right;\">  Sharpe Ratio</th><th style=\"text-align: right;\">  Total Timesteps</th></tr>\n",
       "</thead>\n",
       "<tbody>\n",
       "<tr><td style=\"text-align: right;\">5.7</td><td style=\"text-align: right;\">23.9547</td><td style=\"text-align: right;\">        0.0195</td><td style=\"text-align: right;\">              366</td></tr>\n",
       "</tbody>\n",
       "</table>"
      ]
     },
     "metadata": {},
     "output_type": "display_data"
    },
    {
     "name": "stdout",
     "output_type": "stream",
     "text": [
      "1 Epochs takes: 608.68 seconds\n"
     ]
    },
    {
     "data": {
      "text/html": [
       "<h3>Evaluation: 32 | Strategy-RANDOM |  | </h3>\n"
      ]
     },
     "metadata": {},
     "output_type": "display_data"
    },
    {
     "data": {
      "text/html": [
       "<table>\n",
       "<thead>\n",
       "<tr><th style=\"text-align: right;\">      Cumulative \n",
       "Return (%)</th><th style=\"text-align: right;\">        Maximum \n",
       "Drawdown (%)</th><th style=\"text-align: right;\">  Sharpe Ratio</th><th style=\"text-align: right;\">  Total Timesteps</th></tr>\n",
       "</thead>\n",
       "<tbody>\n",
       "<tr><td style=\"text-align: right;\">18.73</td><td style=\"text-align: right;\">25.3567</td><td style=\"text-align: right;\">        0.0442</td><td style=\"text-align: right;\">              366</td></tr>\n",
       "</tbody>\n",
       "</table>"
      ]
     },
     "metadata": {},
     "output_type": "display_data"
    },
    {
     "data": {
      "text/html": [
       "<h3>Evaluation: 32 | Reward Function-Differential Sharpe Ratio_0.05 | Strategy-PPOLSTM</h3>\n"
      ]
     },
     "metadata": {},
     "output_type": "display_data"
    },
    {
     "data": {
      "text/html": [
       "<table>\n",
       "<thead>\n",
       "<tr><th style=\"text-align: right;\">      Cumulative \n",
       "Return (%)</th><th style=\"text-align: right;\">        Maximum \n",
       "Drawdown (%)</th><th style=\"text-align: right;\">  Sharpe Ratio</th><th style=\"text-align: right;\">  Total Timesteps</th></tr>\n",
       "</thead>\n",
       "<tbody>\n",
       "<tr><td style=\"text-align: right;\">13.68</td><td style=\"text-align: right;\">18.7528</td><td style=\"text-align: right;\">         0.042</td><td style=\"text-align: right;\">              366</td></tr>\n",
       "</tbody>\n",
       "</table>"
      ]
     },
     "metadata": {},
     "output_type": "display_data"
    },
    {
     "name": "stdout",
     "output_type": "stream",
     "text": [
      "2 Epochs takes: 1241.03 seconds\n"
     ]
    },
    {
     "data": {
      "text/html": [
       "<h3>Evaluation: 48 | Strategy-RANDOM |  | </h3>\n"
      ]
     },
     "metadata": {},
     "output_type": "display_data"
    },
    {
     "data": {
      "text/html": [
       "<table>\n",
       "<thead>\n",
       "<tr><th style=\"text-align: right;\">      Cumulative \n",
       "Return (%)</th><th style=\"text-align: right;\">        Maximum \n",
       "Drawdown (%)</th><th style=\"text-align: right;\">  Sharpe Ratio</th><th style=\"text-align: right;\">  Total Timesteps</th></tr>\n",
       "</thead>\n",
       "<tbody>\n",
       "<tr><td style=\"text-align: right;\">22.68</td><td style=\"text-align: right;\">29.7889</td><td style=\"text-align: right;\">        0.0493</td><td style=\"text-align: right;\">              366</td></tr>\n",
       "</tbody>\n",
       "</table>"
      ]
     },
     "metadata": {},
     "output_type": "display_data"
    },
    {
     "data": {
      "text/html": [
       "<h3>Evaluation: 48 | Reward Function-Differential Sharpe Ratio_0.05 | Strategy-PPOLSTM</h3>\n"
      ]
     },
     "metadata": {},
     "output_type": "display_data"
    },
    {
     "data": {
      "text/html": [
       "<table>\n",
       "<thead>\n",
       "<tr><th style=\"text-align: right;\">     Cumulative \n",
       "Return (%)</th><th style=\"text-align: right;\">        Maximum \n",
       "Drawdown (%)</th><th style=\"text-align: right;\">  Sharpe Ratio</th><th style=\"text-align: right;\">  Total Timesteps</th></tr>\n",
       "</thead>\n",
       "<tbody>\n",
       "<tr><td style=\"text-align: right;\">13.6</td><td style=\"text-align: right;\">22.2681</td><td style=\"text-align: right;\">        0.0378</td><td style=\"text-align: right;\">              366</td></tr>\n",
       "</tbody>\n",
       "</table>"
      ]
     },
     "metadata": {},
     "output_type": "display_data"
    },
    {
     "name": "stdout",
     "output_type": "stream",
     "text": [
      "3 Epochs takes: 1892.49 seconds\n"
     ]
    },
    {
     "data": {
      "text/html": [
       "<h3>Evaluation: 64 | Strategy-RANDOM |  | </h3>\n"
      ]
     },
     "metadata": {},
     "output_type": "display_data"
    },
    {
     "data": {
      "text/html": [
       "<table>\n",
       "<thead>\n",
       "<tr><th style=\"text-align: right;\">      Cumulative \n",
       "Return (%)</th><th style=\"text-align: right;\">        Maximum \n",
       "Drawdown (%)</th><th style=\"text-align: right;\">  Sharpe Ratio</th><th style=\"text-align: right;\">  Total Timesteps</th></tr>\n",
       "</thead>\n",
       "<tbody>\n",
       "<tr><td style=\"text-align: right;\">35.12</td><td style=\"text-align: right;\">26.2159</td><td style=\"text-align: right;\">        0.0686</td><td style=\"text-align: right;\">              366</td></tr>\n",
       "</tbody>\n",
       "</table>"
      ]
     },
     "metadata": {},
     "output_type": "display_data"
    },
    {
     "data": {
      "text/html": [
       "<h3>Evaluation: 64 | Reward Function-Differential Sharpe Ratio_0.05 | Strategy-PPOLSTM</h3>\n"
      ]
     },
     "metadata": {},
     "output_type": "display_data"
    },
    {
     "data": {
      "text/html": [
       "<table>\n",
       "<thead>\n",
       "<tr><th style=\"text-align: right;\">      Cumulative \n",
       "Return (%)</th><th style=\"text-align: right;\">        Maximum \n",
       "Drawdown (%)</th><th style=\"text-align: right;\">  Sharpe Ratio</th><th style=\"text-align: right;\">  Total Timesteps</th></tr>\n",
       "</thead>\n",
       "<tbody>\n",
       "<tr><td style=\"text-align: right;\">11.91</td><td style=\"text-align: right;\">27.2427</td><td style=\"text-align: right;\">        0.0307</td><td style=\"text-align: right;\">              366</td></tr>\n",
       "</tbody>\n",
       "</table>"
      ]
     },
     "metadata": {},
     "output_type": "display_data"
    },
    {
     "name": "stdout",
     "output_type": "stream",
     "text": [
      "4 Epochs takes: 2534.53 seconds\n"
     ]
    },
    {
     "data": {
      "text/html": [
       "<h3>Evaluation: 80 | Strategy-RANDOM |  | </h3>\n"
      ]
     },
     "metadata": {},
     "output_type": "display_data"
    },
    {
     "data": {
      "text/html": [
       "<table>\n",
       "<thead>\n",
       "<tr><th style=\"text-align: right;\">     Cumulative \n",
       "Return (%)</th><th style=\"text-align: right;\">        Maximum \n",
       "Drawdown (%)</th><th style=\"text-align: right;\">  Sharpe Ratio</th><th style=\"text-align: right;\">  Total Timesteps</th></tr>\n",
       "</thead>\n",
       "<tbody>\n",
       "<tr><td style=\"text-align: right;\">29.8</td><td style=\"text-align: right;\">28.0331</td><td style=\"text-align: right;\">        0.0607</td><td style=\"text-align: right;\">              366</td></tr>\n",
       "</tbody>\n",
       "</table>"
      ]
     },
     "metadata": {},
     "output_type": "display_data"
    },
    {
     "data": {
      "text/html": [
       "<h3>Evaluation: 80 | Reward Function-Differential Sharpe Ratio_0.05 | Strategy-PPOLSTM</h3>\n"
      ]
     },
     "metadata": {},
     "output_type": "display_data"
    },
    {
     "data": {
      "text/html": [
       "<table>\n",
       "<thead>\n",
       "<tr><th style=\"text-align: right;\">     Cumulative \n",
       "Return (%)</th><th style=\"text-align: right;\">        Maximum \n",
       "Drawdown (%)</th><th style=\"text-align: right;\">  Sharpe Ratio</th><th style=\"text-align: right;\">  Total Timesteps</th></tr>\n",
       "</thead>\n",
       "<tbody>\n",
       "<tr><td style=\"text-align: right;\">4.85</td><td style=\"text-align: right;\">26.6898</td><td style=\"text-align: right;\">        0.0172</td><td style=\"text-align: right;\">              366</td></tr>\n",
       "</tbody>\n",
       "</table>"
      ]
     },
     "metadata": {},
     "output_type": "display_data"
    },
    {
     "data": {
      "text/html": [
       "<h3>Evaluation: 16 | Strategy-RANDOM |  | </h3>\n"
      ]
     },
     "metadata": {},
     "output_type": "display_data"
    },
    {
     "data": {
      "text/html": [
       "<table>\n",
       "<thead>\n",
       "<tr><th style=\"text-align: right;\">      Cumulative \n",
       "Return (%)</th><th style=\"text-align: right;\">        Maximum \n",
       "Drawdown (%)</th><th style=\"text-align: right;\">  Sharpe Ratio</th><th style=\"text-align: right;\">  Total Timesteps</th></tr>\n",
       "</thead>\n",
       "<tbody>\n",
       "<tr><td style=\"text-align: right;\">15.07</td><td style=\"text-align: right;\">27.9347</td><td style=\"text-align: right;\">        0.0368</td><td style=\"text-align: right;\">              366</td></tr>\n",
       "</tbody>\n",
       "</table>"
      ]
     },
     "metadata": {},
     "output_type": "display_data"
    },
    {
     "data": {
      "text/html": [
       "<h3>Evaluation: 16 | Reward Function-CVaR_2.0 | Strategy-PPOLSTM</h3>\n"
      ]
     },
     "metadata": {},
     "output_type": "display_data"
    },
    {
     "data": {
      "text/html": [
       "<table>\n",
       "<thead>\n",
       "<tr><th style=\"text-align: right;\">      Cumulative \n",
       "Return (%)</th><th style=\"text-align: right;\">        Maximum \n",
       "Drawdown (%)</th><th style=\"text-align: right;\">  Sharpe Ratio</th><th style=\"text-align: right;\">  Total Timesteps</th></tr>\n",
       "</thead>\n",
       "<tbody>\n",
       "<tr><td style=\"text-align: right;\">33.79</td><td style=\"text-align: right;\">23.5568</td><td style=\"text-align: right;\">         0.072</td><td style=\"text-align: right;\">              366</td></tr>\n",
       "</tbody>\n",
       "</table>"
      ]
     },
     "metadata": {},
     "output_type": "display_data"
    },
    {
     "name": "stdout",
     "output_type": "stream",
     "text": [
      "1 Epochs takes: 621.32 seconds\n"
     ]
    },
    {
     "data": {
      "text/html": [
       "<h3>Evaluation: 32 | Strategy-RANDOM |  | </h3>\n"
      ]
     },
     "metadata": {},
     "output_type": "display_data"
    },
    {
     "data": {
      "text/html": [
       "<table>\n",
       "<thead>\n",
       "<tr><th style=\"text-align: right;\">      Cumulative \n",
       "Return (%)</th><th style=\"text-align: right;\">        Maximum \n",
       "Drawdown (%)</th><th style=\"text-align: right;\">  Sharpe Ratio</th><th style=\"text-align: right;\">  Total Timesteps</th></tr>\n",
       "</thead>\n",
       "<tbody>\n",
       "<tr><td style=\"text-align: right;\">18.73</td><td style=\"text-align: right;\">25.3567</td><td style=\"text-align: right;\">        0.0442</td><td style=\"text-align: right;\">              366</td></tr>\n",
       "</tbody>\n",
       "</table>"
      ]
     },
     "metadata": {},
     "output_type": "display_data"
    },
    {
     "data": {
      "text/html": [
       "<h3>Evaluation: 32 | Reward Function-CVaR_2.0 | Strategy-PPOLSTM</h3>\n"
      ]
     },
     "metadata": {},
     "output_type": "display_data"
    },
    {
     "data": {
      "text/html": [
       "<table>\n",
       "<thead>\n",
       "<tr><th style=\"text-align: right;\">      Cumulative \n",
       "Return (%)</th><th style=\"text-align: right;\">       Maximum \n",
       "Drawdown (%)</th><th style=\"text-align: right;\">  Sharpe Ratio</th><th style=\"text-align: right;\">  Total Timesteps</th></tr>\n",
       "</thead>\n",
       "<tbody>\n",
       "<tr><td style=\"text-align: right;\">50.42</td><td style=\"text-align: right;\">20.764</td><td style=\"text-align: right;\">        0.0929</td><td style=\"text-align: right;\">              366</td></tr>\n",
       "</tbody>\n",
       "</table>"
      ]
     },
     "metadata": {},
     "output_type": "display_data"
    },
    {
     "name": "stdout",
     "output_type": "stream",
     "text": [
      "2 Epochs takes: 1263.04 seconds\n"
     ]
    },
    {
     "data": {
      "text/html": [
       "<h3>Evaluation: 48 | Strategy-RANDOM |  | </h3>\n"
      ]
     },
     "metadata": {},
     "output_type": "display_data"
    },
    {
     "data": {
      "text/html": [
       "<table>\n",
       "<thead>\n",
       "<tr><th style=\"text-align: right;\">      Cumulative \n",
       "Return (%)</th><th style=\"text-align: right;\">        Maximum \n",
       "Drawdown (%)</th><th style=\"text-align: right;\">  Sharpe Ratio</th><th style=\"text-align: right;\">  Total Timesteps</th></tr>\n",
       "</thead>\n",
       "<tbody>\n",
       "<tr><td style=\"text-align: right;\">22.68</td><td style=\"text-align: right;\">29.7889</td><td style=\"text-align: right;\">        0.0493</td><td style=\"text-align: right;\">              366</td></tr>\n",
       "</tbody>\n",
       "</table>"
      ]
     },
     "metadata": {},
     "output_type": "display_data"
    },
    {
     "data": {
      "text/html": [
       "<h3>Evaluation: 48 | Reward Function-CVaR_2.0 | Strategy-PPOLSTM</h3>\n"
      ]
     },
     "metadata": {},
     "output_type": "display_data"
    },
    {
     "data": {
      "text/html": [
       "<table>\n",
       "<thead>\n",
       "<tr><th style=\"text-align: right;\">      Cumulative \n",
       "Return (%)</th><th style=\"text-align: right;\">        Maximum \n",
       "Drawdown (%)</th><th style=\"text-align: right;\">  Sharpe Ratio</th><th style=\"text-align: right;\">  Total Timesteps</th></tr>\n",
       "</thead>\n",
       "<tbody>\n",
       "<tr><td style=\"text-align: right;\">52.43</td><td style=\"text-align: right;\">22.3117</td><td style=\"text-align: right;\">        0.0899</td><td style=\"text-align: right;\">              366</td></tr>\n",
       "</tbody>\n",
       "</table>"
      ]
     },
     "metadata": {},
     "output_type": "display_data"
    },
    {
     "name": "stdout",
     "output_type": "stream",
     "text": [
      "3 Epochs takes: 1896.42 seconds\n"
     ]
    },
    {
     "data": {
      "text/html": [
       "<h3>Evaluation: 64 | Strategy-RANDOM |  | </h3>\n"
      ]
     },
     "metadata": {},
     "output_type": "display_data"
    },
    {
     "data": {
      "text/html": [
       "<table>\n",
       "<thead>\n",
       "<tr><th style=\"text-align: right;\">      Cumulative \n",
       "Return (%)</th><th style=\"text-align: right;\">        Maximum \n",
       "Drawdown (%)</th><th style=\"text-align: right;\">  Sharpe Ratio</th><th style=\"text-align: right;\">  Total Timesteps</th></tr>\n",
       "</thead>\n",
       "<tbody>\n",
       "<tr><td style=\"text-align: right;\">35.12</td><td style=\"text-align: right;\">26.2159</td><td style=\"text-align: right;\">        0.0686</td><td style=\"text-align: right;\">              366</td></tr>\n",
       "</tbody>\n",
       "</table>"
      ]
     },
     "metadata": {},
     "output_type": "display_data"
    },
    {
     "data": {
      "text/html": [
       "<h3>Evaluation: 64 | Reward Function-CVaR_2.0 | Strategy-PPOLSTM</h3>\n"
      ]
     },
     "metadata": {},
     "output_type": "display_data"
    },
    {
     "data": {
      "text/html": [
       "<table>\n",
       "<thead>\n",
       "<tr><th style=\"text-align: right;\">      Cumulative \n",
       "Return (%)</th><th style=\"text-align: right;\">       Maximum \n",
       "Drawdown (%)</th><th style=\"text-align: right;\">  Sharpe Ratio</th><th style=\"text-align: right;\">  Total Timesteps</th></tr>\n",
       "</thead>\n",
       "<tbody>\n",
       "<tr><td style=\"text-align: right;\">49.45</td><td style=\"text-align: right;\">21.681</td><td style=\"text-align: right;\">        0.0871</td><td style=\"text-align: right;\">              366</td></tr>\n",
       "</tbody>\n",
       "</table>"
      ]
     },
     "metadata": {},
     "output_type": "display_data"
    },
    {
     "name": "stdout",
     "output_type": "stream",
     "text": [
      "4 Epochs takes: 2530.75 seconds\n"
     ]
    },
    {
     "data": {
      "text/html": [
       "<h3>Evaluation: 80 | Strategy-RANDOM |  | </h3>\n"
      ]
     },
     "metadata": {},
     "output_type": "display_data"
    },
    {
     "data": {
      "text/html": [
       "<table>\n",
       "<thead>\n",
       "<tr><th style=\"text-align: right;\">     Cumulative \n",
       "Return (%)</th><th style=\"text-align: right;\">        Maximum \n",
       "Drawdown (%)</th><th style=\"text-align: right;\">  Sharpe Ratio</th><th style=\"text-align: right;\">  Total Timesteps</th></tr>\n",
       "</thead>\n",
       "<tbody>\n",
       "<tr><td style=\"text-align: right;\">29.8</td><td style=\"text-align: right;\">28.0331</td><td style=\"text-align: right;\">        0.0607</td><td style=\"text-align: right;\">              366</td></tr>\n",
       "</tbody>\n",
       "</table>"
      ]
     },
     "metadata": {},
     "output_type": "display_data"
    },
    {
     "data": {
      "text/html": [
       "<h3>Evaluation: 80 | Reward Function-CVaR_2.0 | Strategy-PPOLSTM</h3>\n"
      ]
     },
     "metadata": {},
     "output_type": "display_data"
    },
    {
     "data": {
      "text/html": [
       "<table>\n",
       "<thead>\n",
       "<tr><th style=\"text-align: right;\">      Cumulative \n",
       "Return (%)</th><th style=\"text-align: right;\">        Maximum \n",
       "Drawdown (%)</th><th style=\"text-align: right;\">  Sharpe Ratio</th><th style=\"text-align: right;\">  Total Timesteps</th></tr>\n",
       "</thead>\n",
       "<tbody>\n",
       "<tr><td style=\"text-align: right;\">37.35</td><td style=\"text-align: right;\">20.6662</td><td style=\"text-align: right;\">        0.0731</td><td style=\"text-align: right;\">              366</td></tr>\n",
       "</tbody>\n",
       "</table>"
      ]
     },
     "metadata": {},
     "output_type": "display_data"
    }
   ],
   "source": [
    "# Experiment 1\n",
    "EXP_CONFIG = {\"Reward\" : [\"Standard Logarithmic Returns\", \"Differential Sharpe Ratio_0.05\", \"CVaR_2.0\"],\n",
    "                \"LSTM Output Size\" : 512, \n",
    "                \"Frequency\" : 36,\n",
    "                \"Learning Rate\" : 7e-4,\n",
    "                }\n",
    "\n",
    "#this will actually test them too lol\n",
    "def trainTestingAgents():\n",
    "    TESTING[\"REWARD FUNCTION\"] = True\n",
    "    for r in EXP_CONFIG[\"Reward\"]:\n",
    "        trainingLoop(\n",
    "            riskAversion=(float(r.split(\"_\")[1]) if r.split(\"_\")[0] == \"CVaR\" else 0),\n",
    "            rewardFunction=r.split(\"_\")[0] if \"CVaR\" in r else r,\n",
    "            freq=EXP_CONFIG[\"Frequency\"],\n",
    "            lstmOutputSize=EXP_CONFIG[\"LSTM Output Size\"],\n",
    "            lr=EXP_CONFIG[\"Learning Rate\"],\n",
    "            conf = \"Reward Function-\" + r + \" | \" + \"Strategy-PPOLSTM\",\n",
    "            evalType = \"testing\"\n",
    "        )\n",
    "    TESTING[\"REWARD FUNCTION\"] = False\n",
    "    \n",
    "TRAINING_WINDOWS = ((TRAINING_PERIODS + VALIDATION_PERIODS - EPISODE_LENGTH) // TIMESTEP_SHIFT) + 1\n",
    "SUM_TRAINING_PERIODS = TRAINING_WINDOWS * EPOCHS * (EPISODE_LENGTH - TIME_WINDOW) # because first time window steps are not used to learn\n",
    "LEARNING_CURVE_FREQUENCY = SUM_TRAINING_PERIODS // 100\n",
    "\n",
    "\n",
    "RUN_FINAL = False\n",
    "if RUN_FINAL:\n",
    "    trainTestingAgents()\n",
    "    \n"
   ]
  },
  {
   "cell_type": "markdown",
   "metadata": {},
   "source": [
    "### Plotting Code"
   ]
  }
 ],
 "metadata": {
  "kernelspec": {
   "display_name": "Python 3",
   "language": "python",
   "name": "python3"
  },
  "language_info": {
   "codemirror_mode": {
    "name": "ipython",
    "version": 3
   },
   "file_extension": ".py",
   "mimetype": "text/x-python",
   "name": "python",
   "nbconvert_exporter": "python",
   "pygments_lexer": "ipython3",
   "version": "3.12.10"
  }
 },
 "nbformat": 4,
 "nbformat_minor": 2
}
