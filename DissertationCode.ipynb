{
 "cells": [
  {
   "cell_type": "markdown",
   "metadata": {},
   "source": [
    "## 1. Collect Basic Data"
   ]
  },
  {
   "cell_type": "markdown",
   "metadata": {},
   "source": [
    "### Retrieve CryptoCurrency Market Data ###"
   ]
  },
  {
   "cell_type": "code",
   "execution_count": 1,
   "metadata": {},
   "outputs": [],
   "source": [
    "import pandas as pd\n",
    "import yfinance as yf\n",
    "from functools import reduce\n",
    "import requests\n",
    "import time\n",
    "import numpy as np\n",
    "from datetime import datetime, timedelta\n",
    "import matplotlib.pyplot as plt\n",
    "\n",
    "\n",
    "CRYPTO = False\n",
    "\n",
    "# Crypto Details\n",
    "cryptoProducts = [\"ETH-USD\", \"USDT-USD\", \"BTC-USD\"]\n",
    "availableGranularities = dict(zip([\"1M\", \"5M\", \"15M\", \"1H\", \"6H\", \"1D\"], [60, 300, 900, 3600, 21600, 86400]))\n",
    "\n",
    "# Stock Details\n",
    "dowTickers = [\"AAPL\", \"MSFT\", \"GOOGL\", \"TSLA\", \"AMZN\", \"NVDA\"]  \n",
    "sse50Tickers = [\"600519.SS\", \"601318.SS\", \"601857.SS\", \"600036.SS\", \"600016.SS\", \"600000.SS\"]  \n",
    "sensexTickers = [\"RELIANCE.BO\", \"TCS.BO\", \"INFY.BO\", \"ICICIBANK.BO\", \"SBIN.BO\", \"HINDUNILVR.BO\"] \n",
    "ftse100Tickers = [\"HSBA.L\", \"BP.L\", \"GSK.L\", \"SHEL.L\", \"BATS.L\", \"ULVR.L\"]  \n",
    "period = \"1D\"\n",
    "indexProducts = dowTickers + sse50Tickers + sensexTickers + ftse100Tickers\n",
    "productIds = indexProducts\n",
    "\n",
    "if CRYPTO:\n",
    "    productIds = cryptoProducts\n",
    "    period = \"6H\"\n",
    "    granularity = availableGranularities[period]\n",
    "    API_THRESHOLD = 300 #Can only get 300 periods at a time from API\n",
    "    PERIODS_WANTED = 2500\n",
    "\n",
    "# not a chance\n",
    "def retrieveCryptoData(productID, granularity, daysBack, endTime):\n",
    "    API_URL = f\"https://api.exchange.coinbase.com/products/{productID}/candles\"\n",
    "    daysBackDaysAgo = timedelta(days=daysBack)\n",
    "    startTime = datetime.fromisoformat(endTime) - (granularity/86400) * daysBackDaysAgo\n",
    "\n",
    "    # Convert to isoformat\n",
    "    startTime = startTime.isoformat()\n",
    "\n",
    "    # Set Request Parameters\n",
    "    parameters = {\n",
    "        \"start\" : startTime,\n",
    "        \"end\" : endTime,\n",
    "        \"granularity\" : str(granularity)\n",
    "    }\n",
    "\n",
    "    # Actually get data\n",
    "    data = requests.get(API_URL, params = parameters, headers = {\"content-type\":\"application/json\"})\n",
    "    df = pd.DataFrame(data.json(), columns=[\"time\", \"low\", \"high\", \"open\", \"close\", \"volume\"])\n",
    "    return df\n",
    "\n",
    "\n",
    "def retrieveIndexData(ticker):\n",
    "    # Define date range\n",
    "    startDate = \"2009-01-01\"\n",
    "    endDate = \"2020-08-05\"\n",
    "\n",
    "    ohlcData = {}\n",
    "    try:\n",
    "        stockData = yf.download(ticker, start=startDate, end=endDate)\n",
    "        ohlcData[ticker] = stockData[[\"Low\", \"High\", \"Open\", \"Close\", \"Volume\"]]\n",
    "    except Exception as e:\n",
    "        print(f\"Error fetching data for {ticker}: {e}\")\n",
    "\n",
    "    dfOhlc = pd.concat(ohlcData, axis=1)\n",
    "    return dfOhlc\n",
    "\n",
    "\n",
    "dataframes = dict()\n",
    "RETRIEVE_DATA = False\n",
    "\n",
    "if RETRIEVE_DATA:\n",
    "    for productId in productIds:\n",
    "        if CRYPTO:\n",
    "            # Fetch PERIODS_WANTED periods of data\n",
    "            end = (datetime.now()).isoformat()\n",
    "            for batch in range(PERIODS_WANTED // API_THRESHOLD  + 1):\n",
    "                amountToFetch = PERIODS_WANTED % API_THRESHOLD if batch == PERIODS_WANTED // API_THRESHOLD else API_THRESHOLD\n",
    "                tempDF = retrieveCryptoData(productId, granularity, amountToFetch, end)\n",
    "                timeInSeconds = (tempDF['time'].values)[-1]\n",
    "                dt = datetime.fromtimestamp(timeInSeconds - granularity)\n",
    "                end = dt.isoformat() + 'Z'\n",
    "                value = dataframes.get(productId)\n",
    "                if productId not in dataframes:\n",
    "                    dataframes[productId] = tempDF[::-1]\n",
    "                else:\n",
    "                    dataframes[productId] = pd.concat([tempDF[::-1], dataframes[productId]])\n",
    "        else:\n",
    "            dataframe = retrieveIndexData(ticker=productId)\n",
    "            columnNames = [value[1].lower() for value in list(dataframe.columns.values)]\n",
    "            dataframe.columns = columnNames\n",
    "            dataframes[productId] = dataframe\n",
    "   \n",
    "# Required for index data that pull stock data from different exchanges\n",
    "def commonaliseData(data):\n",
    "    commonDates = reduce(lambda x, y: x.intersection(y), [df.index for df in data.values()])\n",
    "    for ticker, df in data.items():\n",
    "        data[ticker] = df.reindex(commonDates)\n",
    "        data[ticker][\"Times\"] = commonDates\n",
    "    data = {ticker: df.dropna() for ticker, df in data.items()}\n",
    "    PERIODS_WANTED = data.get(indexProducts[0]).shape[0]\n",
    "    return data\n",
    "\n",
    "if not CRYPTO and RETRIEVE_DATA:\n",
    "    dataframes = commonaliseData(dataframes)"
   ]
  },
  {
   "cell_type": "code",
   "execution_count": 2,
   "metadata": {},
   "outputs": [],
   "source": [
    "TEST_CORRECT_ORDER = False\n",
    "\n",
    "if TEST_CORRECT_ORDER:\n",
    "    testTime = dataframes[productIds[0]]['time'].values\n",
    "    testTime -= testTime[0]\n",
    "    plt.figure(figsize=(10, 6))\n",
    "    plt.plot(testTime, color=\"blue\")\n",
    "    plt.title(f\"Test Correct Order\")\n",
    "    plt.xlabel(\"Time\")\n",
    "    plt.ylabel(\"Price\")\n",
    "    plt.show()"
   ]
  },
  {
   "cell_type": "markdown",
   "metadata": {},
   "source": [
    "## 2. Augment State Space (add indicators)"
   ]
  },
  {
   "cell_type": "markdown",
   "metadata": {},
   "source": [
    "### Indicator 1: Exponential Moving Average ###"
   ]
  },
  {
   "cell_type": "code",
   "execution_count": 3,
   "metadata": {},
   "outputs": [],
   "source": [
    "import matplotlib.pyplot as plt\n",
    "\n",
    "def EMA(array, N):\n",
    "    \"\"\"\n",
    "    EMA_t = (Price_t * α) + (EMA_(t-1) * (1 - α))\n",
    "    where:\n",
    "    EMA_t = Exponential Moving Average at time t\n",
    "    Price_t = Price at time t\n",
    "    α (alpha) = Smoothing factor, calculated as 2 / (N + 1)\n",
    "    N = Number of periods\n",
    "    \"\"\"\n",
    "    smoothingParameter = 2/(N + 1)\n",
    "    finalArray = [array[0]]\n",
    "    for i in range(1, len(array)):\n",
    "        finalArray.append(array[i] * smoothingParameter + finalArray[i-1] * (1 - smoothingParameter))\n",
    "    return np.array(finalArray)\n",
    "\n",
    "# expMA = EMA(closingPrices, t)\n",
    "# plt.figure(figsize=(10, 6))\n",
    "# plt.plot(expMA, label=f\"Exponential Moving Average: T={t}\", color=\"red\")\n",
    "# plt.plot(closingPrices, label=\"Actual Closing Prices\", color=\"blue\")\n",
    "# plt.title(f\"Price Data\")\n",
    "# plt.xlabel(\"Time\")\n",
    "# plt.ylabel(\"Price\")\n",
    "# plt.legend()\n",
    "# plt.show()"
   ]
  },
  {
   "cell_type": "markdown",
   "metadata": {},
   "source": [
    "### Indicator 2: Momemtum"
   ]
  },
  {
   "cell_type": "code",
   "execution_count": 4,
   "metadata": {},
   "outputs": [],
   "source": [
    "def Momentum(array):\n",
    "    # Percentage Change in Price/Time\n",
    "    momentumArray = [(array[i] - array[i-1]) /array[i-1] for i in range(1, len(array))]\n",
    "    momentumArray.insert(0, np.nan)\n",
    "    return np.array(momentumArray)\n",
    "\n",
    "# momentum = Momentum(closingPrices)\n",
    "# plt.figure(figsize=(10, 6))\n",
    "# plt.plot(momentum*100, color=\"green\")\n",
    "# plt.title(f\"Momentum Data (as %)\")\n",
    "# plt.xlabel(\"Time\")\n",
    "# plt.ylabel(\"Momentum\")\n",
    "# plt.legend()\n",
    "# plt.show()"
   ]
  },
  {
   "cell_type": "markdown",
   "metadata": {},
   "source": [
    "### Indicator 3: Average True Range"
   ]
  },
  {
   "cell_type": "code",
   "execution_count": 5,
   "metadata": {},
   "outputs": [],
   "source": [
    "\n",
    "def trueRange(high, low, close):\n",
    "    # TR = Max[(H - L), |H - C|, |L - C|\n",
    "    closing = np.insert(close, 0, np.nan, axis=0)[:len(close)]\n",
    "    return np.maximum(high - low, np.abs(high - closing), np.abs(low - closing))\n",
    "\n",
    "def averageTrueRange(high, low, close, n=14):\n",
    "    trueRanges = trueRange(high, low, close)\n",
    "    atr = np.empty_like(trueRanges)\n",
    "    atr[:n] = np.nan  # First n values are NaN\n",
    "    atr[n-1] = np.mean(trueRanges[:n])  # Initial ATR value (simple average of the first n TRs)\n",
    "    for i in range(n+1, len(trueRanges)):\n",
    "        atr[i] = (atr[i-1] * (n - 1) + trueRanges[i]) / n\n",
    "    return atr\n",
    "\n",
    "# aTRIndicator = averageTrueRange(highs, lows, closingPrices)\n",
    "# plt.figure(figsize=(10, 6))\n",
    "# plt.plot(aTRIndicator, color=\"Brown\")\n",
    "# plt.title(f\"Average True Range over Time\")\n",
    "# plt.xlabel(\"Time\")\n",
    "# plt.ylabel(\"Average True Range\")\n",
    "# plt.legend()\n",
    "# plt.show()"
   ]
  },
  {
   "cell_type": "markdown",
   "metadata": {},
   "source": [
    "### Indicator 4: Commodity Channel Index"
   ]
  },
  {
   "cell_type": "code",
   "execution_count": 6,
   "metadata": {},
   "outputs": [],
   "source": [
    "def commodityChannelIndex(high, low, close, n=20):\n",
    "    # (Typical Price - 20_Day Moving Average) / .015 x Mean Deviation\n",
    "    typicalPrices = (high + low + close) / 3\n",
    "    \n",
    "    movingAverage = np.full_like(high, np.nan)\n",
    "    meanDeviation = np.full_like(high, np.nan)\n",
    "    \n",
    "    for i in range(n, len(typicalPrices)):\n",
    "        movingAverage[i] = np.mean(typicalPrices[i-n:i])\n",
    "        meanDeviation[i] = np.mean(np.abs(typicalPrices[i-n:i] - movingAverage[i]))\n",
    "    \n",
    "    cci = np.full_like(high, np.nan, dtype=np.float64)\n",
    "\n",
    "    numerator = typicalPrices[n:] - movingAverage[n:]\n",
    "    denominator = 0.015 * meanDeviation[n:]\n",
    "    result = np.empty_like(numerator)\n",
    "\n",
    "    np.divide(numerator, denominator, out=result, where=(denominator != 0))\n",
    "    # a little hacky...\n",
    "    result[denominator == 0] = 0\n",
    "\n",
    "    cci[n:] = result\n",
    "    return cci\n",
    "\n",
    "# # CCI = commodityChannelIndex(highs, lows, closingPrices)\n",
    "# # plt.figure(figsize=(10, 6))\n",
    "# # plt.plot(CCI, color=\"black\")\n",
    "# # plt.title(f\"Commodity Channel Index over Time\")\n",
    "# # plt.xlabel(\"Time\")\n",
    "# # plt.ylabel(\"Commodity Channel Index\")\n",
    "# # plt.legend()\n",
    "# # plt.show()"
   ]
  },
  {
   "cell_type": "markdown",
   "metadata": {},
   "source": [
    "### Indicator 5: MACD"
   ]
  },
  {
   "cell_type": "code",
   "execution_count": 7,
   "metadata": {},
   "outputs": [],
   "source": [
    "\"\"\"\n",
    "MACD = 12-day EMA - 26-day EMA\n",
    "Signal Line = 9-day EMA of MACD\n",
    "MACD Histogram = MACD - Signal Line\n",
    "where EMA stands for Exponential Moving Average\n",
    "\"\"\"\n",
    "\n",
    "def MACD(array):\n",
    "    return EMA(array, 12) - EMA(array, 26)\n",
    "\n",
    "def MACDSignal(array):\n",
    "    return EMA(MACD(array), 9)\n",
    "\n",
    "MACDHistogram = lambda x : MACD(x) - MACDSignal(x)\n",
    "\n",
    "# mACD = MACD(closingPrices)\n",
    "# signalLine = MACDSignal(closingPrices)\n",
    "# macdHistogram = MACDHistogram(mACD, signalLine)\n",
    "\n",
    "# plt.figure(figsize=(10, 6))\n",
    "# plt.plot(mACD, color=\"blue\", label = \"MACD Line\")\n",
    "# plt.plot(signalLine, color = \"red\", label = \"Signal Line\")\n",
    "# plt.plot(macdHistogram, color = \"black\", label = \"Histogram\")\n",
    "# plt.title(f\"Moving Average Convergence-Divergence\")\n",
    "# plt.xlabel(\"Time\")\n",
    "# plt.ylabel(\"MACD\")\n",
    "# plt.legend()\n",
    "# plt.show()"
   ]
  },
  {
   "cell_type": "markdown",
   "metadata": {},
   "source": [
    "## 3. Collate All Features Into DataFrame"
   ]
  },
  {
   "cell_type": "code",
   "execution_count": 8,
   "metadata": {},
   "outputs": [],
   "source": [
    "import os\n",
    "\n",
    "CCI_T, ATR_T = 20, 14\n",
    "if RETRIEVE_DATA:\n",
    "    for product in productIds:\n",
    "        df = dataframes[product]\n",
    "        close = df[\"close\"].values\n",
    "        highs = df[\"high\"].values\n",
    "        lows = df[\"low\"].values\n",
    "        df['E_M_A'] = EMA(close, N=30)\n",
    "        df['Momentum'] = Momentum(close)\n",
    "        df['Av_True_Range'] = averageTrueRange(highs, lows, close, 14)\n",
    "        df['CCI'] = commodityChannelIndex(highs, lows, close, 20)\n",
    "        df['MACDHist'] = MACDHistogram(close)\n",
    "        df[\"Return\"] = df[\"close\"].pct_change().fillna(0)\n",
    "        # Reset Indexes\n",
    "        df = df.drop(columns=['open', 'high', 'volume', 'low'])\n",
    "        df = df.iloc[max(ATR_T, CCI_T):]\n",
    "        df = df.reset_index(drop=True)\n",
    "        dataframes[product] = df\n",
    "        if not os.path.exists(\"CSVs/\"):\n",
    "            os.makedirs(\"CSVs/\")\n",
    "        df.to_csv(f\"CSVs/{product}_{period}_periods.csv\", sep='\\t')\n",
    "else:\n",
    "    for productId in productIds:\n",
    "        df = pd.read_csv(f\"CSVs/{productId}_{period}_periods.csv\", sep='\\t')\n",
    "        dataframes[productId] = df.iloc[:, 1:]  # Drops the first column\n",
    "\n",
    "times = None\n",
    "if not CRYPTO:\n",
    "    for product in productIds:\n",
    "        df = dataframes[product]\n",
    "        times = df['Times']\n",
    "        dataframes[product] = df.drop('Times', axis=1)"
   ]
  },
  {
   "cell_type": "markdown",
   "metadata": {},
   "source": [
    "## 4. Environment and Training Process"
   ]
  },
  {
   "cell_type": "markdown",
   "metadata": {},
   "source": [
    "### Comparison Strategies"
   ]
  },
  {
   "cell_type": "code",
   "execution_count": 9,
   "metadata": {},
   "outputs": [],
   "source": [
    "sse50BuyAndHold =  np.array([0] + [1/len(sse50Tickers) if i in sse50Tickers else 0 for i in productIds])\n",
    "sensexBuyAndHold = np.array([0] + [1/len(sensexTickers) if i in sensexTickers else 0 for i in productIds])\n",
    "ftse100BuyAndHold = np.array([0] + [1/len(ftse100Tickers) if i in ftse100Tickers else 0 for i in productIds])\n",
    "dowBuyAndHold = np.array([0] + [1/len(dowTickers) if i in dowTickers else 0 for i in productIds])\n",
    "buyAndHoldAll = np.array([0] + [1/(len(productIds)) for i in productIds])\n",
    "\n",
    "#Non\n",
    "NON_RL_COMPARISON_STRATEGIES = {\n",
    "    \"SSEBuyAndHold\" : sse50BuyAndHold,\n",
    "    \"SENSEXBuyAndHold\" : sensexBuyAndHold,\n",
    "    \"FTSEBuyAndHold\" : ftse100BuyAndHold,\n",
    "    \"DOWBuyAndHold\" : dowBuyAndHold,\n",
    "    \"BuyAndHoldAll\" : buyAndHoldAll\n",
    "}"
   ]
  },
  {
   "cell_type": "markdown",
   "metadata": {},
   "source": [
    "### Hyperparameters (most of them)"
   ]
  },
  {
   "cell_type": "code",
   "execution_count": 10,
   "metadata": {},
   "outputs": [],
   "source": [
    "from collections import defaultdict\n",
    "\n",
    "\n",
    "NUMBER_OF_ASSETS = len(productIds)\n",
    "NUMBER_OF_FEATURES = 1 + (len((list(dataframes.values())[0]).columns)) * len(productIds)\n",
    "if not CRYPTO:\n",
    "    PERIODS_WANTED = list(dataframes.values())[0].shape[0]\n",
    "EXPERIMENTS = 2\n",
    "TRAINING_PERIODS = int(PERIODS_WANTED / EXPERIMENTS) # will probably have to change this to times\n",
    "TIME_WINDOW = 30\n",
    "LEARNING_FREQUENCIES = (TRAINING_PERIODS / np.array([10, 20, 30, 40, 50])).astype(int)\n",
    "START_CASH = 1000000\n",
    "LSTMHIDDENSIZE = 128\n",
    "AGENT_RISK_AVERSIONS = np.array([0.25, 0.5, 1, 1.5, 2]) #i know, this probably shouldn't go here\n",
    "STRATEGIES = [\"PPOLSTM\", \"RANDOM\"]#, \"TD3\"] #td3 requires debugging - dont run\n",
    "FINAL_STRATEGIES = STRATEGIES + [\"SSEBuyAndHold\", \"SENSEXBuyAndHold\", \"FTSEBuyAndHold\", \"DOWBuyAndHold\", \"BuyAndHoldAll\"]\n",
    "REPEATS = 5 # Computational Limitations\n",
    "LSTMOUTPUTSIZES = [64, 128, 256, 512, 1024]\n",
    "STARTS = [0] + [i *  TRAINING_PERIODS + -TIME_WINDOW for i in range(1, EXPERIMENTS)]\n",
    "PORTFOLIO_TRAJECTORIES = []\n",
    "REWARD_FUNCTIONS = [\"Standard Logarithmic Returns\" ,\"Differential Sharpe Ratio_0.01\", \"Differential Sharpe Ratio_0.05\", \"Differential Sharpe Ratio_0.1\", \"CVaR\"]\n",
    "NUMBER_OF_PARALLEL_ENVIRONMENTS = [0, 1, 2, 3, 4]\n",
    "LEARNING_RATES = [1e-4, 3e-4, 5e-4, 7e-4]\n",
    "RL_STRATS = [\"PPOLSTM\"]#, \"TD3\"]\n",
    "averagePerformance = defaultdict(list)\n",
    "allResults = defaultdict(list)"
   ]
  },
  {
   "cell_type": "code",
   "execution_count": 11,
   "metadata": {},
   "outputs": [],
   "source": [
    "# Thing being tested\n",
    "TESTING = {\n",
    "    \"RISK AVERSION\" : False,\n",
    "    \"LSTM OUTPUT SIZE\" : False,\n",
    "    \"REWARD FUNCTION\" : False,\n",
    "    \"LEARNING FREQUENCY\": False, \n",
    "    \"PARALLEL ENVIRONMENTS\" : False, \n",
    "    \"LEARNING RATE\": False,\n",
    "}"
   ]
  },
  {
   "cell_type": "markdown",
   "metadata": {},
   "source": [
    "#### Some helper functions for metrics"
   ]
  },
  {
   "cell_type": "code",
   "execution_count": 12,
   "metadata": {},
   "outputs": [],
   "source": [
    "from utils import tabulate_neatly\n",
    "\n",
    "def printConfiguration(agent=None, freq=None):\n",
    "    table = [[\"LSTM Hidden Size\", \"LSTM Output Size\", \"Learning Frequency\", \"Agent Risk Aversion\"]]\n",
    "    table.append([LSTMHIDDENSIZE, agent.state_n, freq, agent.riskAversion])\n",
    "    tabulate_neatly(table, headers=\"firstrow\", title=f\"Configuration:\")\n",
    "\n",
    "def plotAllocations(allocations, title=None):\n",
    "    categories = ['Cash'] + productIds\n",
    "    plt.figure(figsize=(20,5))\n",
    "    plt.bar(categories, allocations)\n",
    "    plt.xlabel('Allocations')\n",
    "    plt.tick_params(axis='x', labelsize=6)\n",
    "    plt.ylabel('Proportion Allocated')\n",
    "    plt.title('Allocations' if title == None else title)\n",
    "    plt.show()\n",
    "\n",
    "def generateConfigLabel(strategy, agent, episode, rewardFunction, freq, parr, lr):\n",
    "    firstTag = f\"Strategy-{strategy}\" \n",
    "    lastTag = f\"Experiment {episode + 1}\"\n",
    "    innerTag = None\n",
    "    boole = (strategy not in NON_RL_COMPARISON_STRATEGIES.keys() and strategy != \"RANDOM\")\n",
    "    if TESTING[\"RISK AVERSION\"]:\n",
    "        innerTag = (f\"Risk Aversion-{agent.riskAversion}\" if boole else \"\")\n",
    "    elif TESTING[\"LSTM OUTPUT SIZE\"]:\n",
    "        innerTag = (f\"LSTM Output Size-{agent.state_n}\" if boole else \"\")\n",
    "    elif TESTING[\"REWARD FUNCTION\"]:  \n",
    "        innerTag = (f\"Reward Function-{rewardFunction}\" if boole else \"\")\n",
    "    elif TESTING[\"LEARNING FREQUENCY\"]:  \n",
    "        innerTag = (f\"Learning Frequency-{freq}\" if boole else \"\")\n",
    "    elif TESTING[\"PARALLEL ENVIRONMENTS\"]:  \n",
    "        innerTag = (f\"Parallel Environments-{parr}\" if boole else \"\")\n",
    "    elif TESTING[\"LEARNING RATE\"]:  \n",
    "        innerTag = (f\"Learning Rate-{lr}\" if boole else \"\")\n",
    "    \n",
    "    if any(TESTING.values()) and boole:\n",
    "        firstTag, innerTag = innerTag, firstTag\n",
    "    return firstTag + \" | \" +  innerTag + \" | \" + lastTag\n"
   ]
  },
  {
   "cell_type": "markdown",
   "metadata": {},
   "source": [
    "### Actual Training"
   ]
  },
  {
   "cell_type": "code",
   "execution_count": 13,
   "metadata": {},
   "outputs": [],
   "source": [
    "from PPO import PPOAgent\n",
    "from TD3 import TD3Agent\n",
    "\n",
    "def generateAgent(strat, lstmOutputSize, riskAversion, lr):\n",
    "    if strat == \"TD3\":\n",
    "        return TD3Agent(\n",
    "                state_n=lstmOutputSize,\n",
    "                actions_n=len(productIds) + 1,\n",
    "                alpha=lr,\n",
    "                beta=0.001,\n",
    "                gamma=0.99,\n",
    "                tau=0.005,\n",
    "                lstmHiddenSize = LSTMHIDDENSIZE,\n",
    "                actor_noise=0.01,\n",
    "                target_noise=0.01,\n",
    "                env=None,\n",
    "                batch_size=128,\n",
    "                fc1_n=512,\n",
    "                fc2_n=384,\n",
    "                riskAversion=riskAversion,\n",
    "            )\n",
    "    elif strat == \"PPOLSTM\":\n",
    "        return PPOAgent( \n",
    "                        state_n=lstmOutputSize, \n",
    "                        actions_n=len(productIds) + 1,\n",
    "                        alpha=lr,\n",
    "                        policyClip = 0.2,\n",
    "                        gamma=0.99,\n",
    "                        lstmHiddenSize=LSTMHIDDENSIZE,\n",
    "                        actor_noise=0,\n",
    "                        batch_size=512,\n",
    "                        fc1_n=128,\n",
    "                        fc2_n=128,\n",
    "                        gaeLambda=0.98,\n",
    "                        epochs=10,\n",
    "                        riskAversion=riskAversion,\n",
    "                    )"
   ]
  },
  {
   "cell_type": "code",
   "execution_count": 14,
   "metadata": {},
   "outputs": [],
   "source": [
    "import torch\n",
    "from PPO import PPOAgent\n",
    "from TD3 import TD3Agent\n",
    "from LstmFeatureExtractor import LstmFeatureExtractor\n",
    "from TimeSeriesEnvironment import TimeSeriesEnvironment\n",
    "from scipy.special import softmax\n",
    "import numpy as np\n",
    "\n",
    "seed = 0\n",
    "torch.manual_seed(seed)\n",
    "np.random.seed(seed)\n",
    "\n",
    "def initializeEnvironments(start, parr, rewardFunction, riskAversion, strategy):\n",
    "    primaryEnvironment = TimeSeriesEnvironment(dataframes, start, TIME_WINDOW, TRAINING_PERIODS, START_CASH, riskAversion, 2.5e-4)\n",
    "    parallelEnvironments = [\n",
    "        TimeSeriesEnvironment(dataframes, start, TIME_WINDOW, TRAINING_PERIODS, START_CASH, riskAversion, 2.5e-4)\n",
    "        for _ in range(parr)\n",
    "    ]\n",
    "    primaryEnvironment.TD3 = strategy == \"TD3\"\n",
    "    for parallel in parallelEnvironments:\n",
    "        parallel.TD3 = strategy == \"TD3\"\n",
    "    if \"Differential\" in rewardFunction:\n",
    "        decay = float(rewardFunction.split(\"_\")[1])\n",
    "        primaryEnvironment.decayRate = decay\n",
    "        for env in parallelEnvironments:\n",
    "            env.decayRate = decay\n",
    "    return primaryEnvironment, parallelEnvironments\n",
    "\n",
    "def storeExperiences(agent, data, outputs, reward, done, strategy, parr, action, prob, val, next):\n",
    "        if strategy == \"PPOLSTM\":\n",
    "            agent.store(data, action, prob.squeeze(), val.squeeze(), reward, done)\n",
    "            for i in range(parr):\n",
    "                agent.store(\n",
    "                    data,\n",
    "                    outputs[\"actions\"][i],\n",
    "                    outputs[\"probabilities\"][i].squeeze(),\n",
    "                    outputs[\"valuations\"][i].squeeze(),\n",
    "                    float(outputs[\"rewards\"][i]),\n",
    "                    bool(outputs[\"dones\"][i])\n",
    "                )\n",
    "        elif strategy == \"TD3\":\n",
    "            agent.store(\n",
    "                data,\n",
    "                action,\n",
    "                reward,\n",
    "                next, \n",
    "                done,\n",
    "            )\n",
    "            for i in range(parr):\n",
    "                agent.store(\n",
    "                    data,\n",
    "                    outputs[\"actions\"][i],\n",
    "                    float(outputs[\"rewards\"][i]),\n",
    "                    next,\n",
    "                    bool(outputs[\"dones\"][i])\n",
    "                )\n",
    "\n",
    "\n",
    "def warmUpEnvironment(environment, strategy, parallelEnvironments, rewardFunction):\n",
    "    \"\"\"\n",
    "    'warm up' primaryEnvironmentironment until there's enough data to calculate CVaR\n",
    "    \"\"\"\n",
    "    for _ in range(TIME_WINDOW):\n",
    "        allocations = np.random.normal(scale=1, size=len(productIds))\n",
    "        allocations = np.insert(allocations, 0, 1)\n",
    "        environment.step(softmax(allocations), False, rewardMethod=rewardFunction)\n",
    "        if strategy in RL_STRATS:\n",
    "            for parallel in parallelEnvironments:\n",
    "                parallel.step(softmax(allocations), False, rewardMethod=rewardFunction)\n",
    "    environment.setIsReady(True)\n",
    "    if strategy in RL_STRATS:\n",
    "        for parallel in parallelEnvironments:\n",
    "            parallel.setIsReady(True)\n",
    "            parallel.TD3 = strategy == \"TD3\"\n",
    "\n",
    "def trainingLoop(riskAversion=0, lstmOutputSize=512, rewardFunction=\"CVaR\", freq=int(TRAINING_PERIODS / 25), parr=0, lr=3e-4, expers = None, conf = None):\n",
    "    for repeat in range(REPEATS):\n",
    "        for strategy in STRATEGIES:\n",
    "            if repeat > 0 and strategy not in (RL_STRATS + [\"RANDOM\"]):\n",
    "                continue\n",
    "            \n",
    "            LB, UB = 0, EXPERIMENTS\n",
    "            if expers != None:\n",
    "                LB, UB = expers[0], expers[1]\n",
    "            for episode in range(LB, UB, 1):\n",
    "                start = episode * TRAINING_PERIODS + (0 if episode == 0 else -TIME_WINDOW)\n",
    "                featureExtractor = LstmFeatureExtractor(TIME_WINDOW, NUMBER_OF_FEATURES, 128, lstmOutputSize)\n",
    "                agent = generateAgent(strategy, lstmOutputSize, riskAversion, lr)\n",
    "                primaryEnvironment, parallelEnvironments = initializeEnvironments(start, parr, rewardFunction, riskAversion, strategy)\n",
    "                primaryEnvironment.reset()\n",
    "                done, doNothing = False, False\n",
    "\n",
    "                while not done:\n",
    "                    if not primaryEnvironment.getIsReady():\n",
    "                        warmUpEnvironment(primaryEnvironment, strategy, parallelEnvironments, rewardFunction)\n",
    "                        continue\n",
    "\n",
    "                    readyToStartTrading = (primaryEnvironment.timeStep) / TRAINING_PERIODS >= 2 / 3\n",
    "                    observation, outputs = None, None\n",
    "\n",
    "                    if strategy in RL_STRATS:\n",
    "                        data = primaryEnvironment.getData()\n",
    "                        observation = featureExtractor.forward(torch.tensor(data, dtype=torch.float32).unsqueeze(0))\n",
    "                        if strategy == \"PPOLSTM\":\n",
    "                            outputs = {\n",
    "                                \"actions\": torch.zeros(parr, agent.actions_n),\n",
    "                                \"probabilities\": torch.zeros(parr, agent.actions_n),\n",
    "                                \"valuations\": torch.zeros(parr, 1),\n",
    "                                \"rewards\": torch.zeros(parr, 1),\n",
    "                                \"dones\": torch.zeros(parr, 1)\n",
    "                            }\n",
    "                            for i in range(parr):\n",
    "                                act, prob, val = agent.select_action(observation)\n",
    "                                outputs[\"actions\"][i] = act\n",
    "                                outputs[\"probabilities\"][i] = prob\n",
    "                                outputs[\"valuations\"][i] = val\n",
    "                        else:\n",
    "                            outputs = {\n",
    "                                \"nextstates\" : torch.zeros(parr, agent.state_n),\n",
    "                                \"actions\" : torch.zeros(parr, agent.actions_n),\n",
    "                                \"rewards\" : torch.zeros(parr, 1),\n",
    "                                \"dones\" : torch.zeros(parr, 1)\n",
    "                            }\n",
    "                            for i in range(parr):\n",
    "                                act = agent.select_action(observation)\n",
    "                                outputs[\"actions\"][i] = act # noise added to action so its fine\n",
    "                        allCashAction = np.array([1] + [0 for _ in productIds]) if doNothing else None\n",
    "\n",
    "                    probabilities, valuation = None, None\n",
    "                    if strategy == \"RANDOM\":\n",
    "                        action = np.random.normal(0, 1, len(productIds) + 1)\n",
    "\n",
    "                    elif strategy in NON_RL_COMPARISON_STRATEGIES:\n",
    "                        action = NON_RL_COMPARISON_STRATEGIES.get(strategy)\n",
    "                    else: \n",
    "                        if strategy == \"PPOLSTM\":\n",
    "                            action, probabilities, valuation = agent.select_action(observation)\n",
    "                        elif strategy == \"TD3\":\n",
    "                            action = agent.select_action(observation) \n",
    "                            \n",
    "                    if not doNothing:\n",
    "                        primaryEnvironment.traded += 1\n",
    "\n",
    "                    finalAction = (\n",
    "                        allCashAction if doNothing else ([0] + action if strategy in NON_RL_COMPARISON_STRATEGIES else softmax(action))\n",
    "                    )\n",
    "                    next, reward, done, _, info = primaryEnvironment.step(finalAction, readyToStartTrading, rewardFunction)\n",
    "                    \n",
    "                    if strategy in RL_STRATS:\n",
    "                        for i in range(parr):\n",
    "                            nexts, rew, do, _, _ = parallelEnvironments[i].step(finalAction, readyToStartTrading, rewardFunction)\n",
    "                            if strategy == \"TD3\":\n",
    "                                outputs[\"nextstates\"][i] = nexts\n",
    "                            outputs[\"rewards\"][i] = rew\n",
    "                            outputs[\"dones\"][i] = int(do)\n",
    "                        if not doNothing:\n",
    "                            storeExperiences(agent, data, outputs, reward, done, strategy, parr, action, probabilities, valuation, next)\n",
    "                            doNothing = info[\"turbulence_breached\"]\n",
    "                        if (primaryEnvironment.timeStep % freq) == 0:\n",
    "                            agent.train(featureExtractor)\n",
    "\n",
    "                    if done:\n",
    "                        dataString = None\n",
    "                        if conf == None or strategy == \"RANDOM\":\n",
    "                            dataString = generateConfigLabel(strategy, agent, episode, rewardFunction, freq, parr, lr)\n",
    "                        else:\n",
    "                            dataString = conf\n",
    "                        averagePerformance[dataString].append(primaryEnvironment.PORTFOLIO_VALUES)\n",
    "                        metrics = primaryEnvironment.getMetrics()\n",
    "                        allResults[dataString].append(metrics)\n",
    "                        table = [metrics.keys()]\n",
    "                        table.append(metrics.values())\n",
    "                        tabulate_neatly(table, headers=\"firstrow\", title=f\"{dataString}\")\n",
    "                        # if strategy not in NON_RL_COMPARISON_STRATEGIES.keys() and strategy != \"RANDOM\":\n",
    "                            #nice but take up way too much space...\n",
    "                            # printConfiguration(agent, freq)\n",
    "                            # plotAllocations([0] + action if strategy in NON_RL_COMPARISON_STRATEGIES.keys() else softmax(action), \"Final Allocations\")\n",
    "                        "
   ]
  },
  {
   "cell_type": "markdown",
   "metadata": {},
   "source": [
    "### Visualise Performance ###"
   ]
  },
  {
   "cell_type": "code",
   "execution_count": 15,
   "metadata": {},
   "outputs": [
    {
     "name": "stderr",
     "output_type": "stream",
     "text": [
      "C:\\Users\\bluem\\AppData\\Local\\Packages\\PythonSoftwareFoundation.Python.3.12_qbz5n2kfra8p0\\LocalCache\\local-packages\\Python312\\site-packages\\numpy\\_core\\fromnumeric.py:57: FutureWarning: 'Series.swapaxes' is deprecated and will be removed in a future version. Please use 'Series.transpose' instead.\n",
      "  return bound(*args, **kwds)\n"
     ]
    }
   ],
   "source": [
    "if not CRYPTO:\n",
    "    result = np.array_split(times, STARTS, axis=0)[1:]\n",
    "    timeScale = [dates for dates in result]\n",
    "\n",
    "def plotPerformance(test, final=\"\"):\n",
    "    for experiment in range(EXPERIMENTS):\n",
    "        plt.figure(figsize=(12,6))\n",
    "        relevantPeriods = int(2/3 * TRAINING_PERIODS) + 2\n",
    "        name = f\"Experiment_{experiment + 1}_\" \n",
    "        portfolioFolder = f\"portfolios/Test-{test+final}/\"+ datetime.now().strftime(\"%Y-%m-%d\") + \"/\"\n",
    "        plotsFolder = f\"plots/Test-{test+final}/\"+ datetime.now().strftime(\"%Y-%m-%d\") + \"/\"\n",
    "        if not os.path.exists(portfolioFolder):\n",
    "            os.makedirs(portfolioFolder)\n",
    "        if not os.path.exists(plotsFolder):\n",
    "            os.makedirs(plotsFolder)\n",
    "        for k, v in averagePerformance.items():\n",
    "            # if test.lower() in k.lower() or \"RANDOM\" in k: # i wrote this at 12am forgive me\n",
    "            #     shouldBeSkipped = False\n",
    "            #     for value in list(NON_RL_COMPARISON_STRATEGIES.keys())[:-1]:\n",
    "            #         if value in k:\n",
    "            #             shouldBeSkipped = True # only need to compare with buy and hold for now\n",
    "            #     if shouldBeSkipped:\n",
    "            #         continue\n",
    "                try:\n",
    "                    x = np.array(v)\n",
    "                    x = np.mean(v, axis=0)\n",
    "                    v = x\n",
    "                except ValueError:\n",
    "                    maxLength = max(len(arr) for arr in v)\n",
    "                    result = []\n",
    "                    for i in range(maxLength):\n",
    "                        values = [arr[i] for arr in v if i < len(arr)]\n",
    "                        mean_value = np.mean(values)\n",
    "                        result.append(mean_value)\n",
    "                    v = result\n",
    "                v= v[relevantPeriods:]\n",
    "                if f\"Experiment {experiment + 1}\" in k:\n",
    "                    l = k.split(\"|\")[0]\n",
    "                    array = np.insert(v, 0, START_CASH)\n",
    "                    # labels = timeScale[experiment][-15:]           \n",
    "                    # labelIndices = range(0, len(labels), 1)  \n",
    "                    # plt.xticks(labelIndices, rotation=45)\n",
    "                    plt.plot(array, label=l) ## too tired\n",
    "                    np.savetxt(f\"{portfolioFolder}{name}{l}.txt\", array, fmt='%f')\n",
    "        plt.title(f\"Returns over Time - Experiment {experiment + 1}. Testing: {test}\")\n",
    "        plt.xlabel(\"Time\")\n",
    "        plt.ylabel(\"Mean Returns\")\n",
    "        plt.legend()\n",
    "        plt.savefig(f\"{plotsFolder}{name}\")\n",
    "        plt.show()\n",
    "\n"
   ]
  },
  {
   "cell_type": "markdown",
   "metadata": {},
   "source": [
    "### Tabulate Results"
   ]
  },
  {
   "cell_type": "code",
   "execution_count": 16,
   "metadata": {},
   "outputs": [],
   "source": [
    "def tabulateResults():\n",
    "    for k, v in allResults.items():\n",
    "        table = [list(v[0].keys()) + [\"Standard Deviation\"]] \n",
    "        meanReturns, meanMER, meanPB, meanAPPT, meanSR, timeSteps = 0, 0, 0, 0, 0, 0\n",
    "        deviations = []\n",
    "        for resultSet in v:\n",
    "            meanReturns += resultSet[\"Cumulative \\nReturn (%)\"]\n",
    "            deviations.append(resultSet[\"Cumulative \\nReturn (%)\"])\n",
    "            meanMER += resultSet[\"Maximum Earning \\nRate (%)\"]\n",
    "            meanPB += resultSet[\"Maximum \\nPullback (%)\"]\n",
    "            meanAPPT += (resultSet[\"Average Profitability \\nper Trade\"] if type(resultSet[\"Average Profitability \\nper Trade\"]) == float else 0)\n",
    "            meanSR += resultSet[\"Sharpe Ratio\"]\n",
    "            timeSteps += resultSet[\"Total Timesteps\"]\n",
    "        array = [meanReturns, meanMER, meanPB, meanAPPT, meanSR, timeSteps, np.std(deviations)]\n",
    "        array = [i/len(v) for i in array]\n",
    "        table.append(array)\n",
    "        tabulate_neatly(table, headers=\"firstrow\", title=f\"MEAN RESULTS FOR: \" + k)"
   ]
  },
  {
   "cell_type": "code",
   "execution_count": 17,
   "metadata": {},
   "outputs": [],
   "source": [
    "def test():\n",
    "    for testType, active in TESTING.items():\n",
    "        if active:\n",
    "            print(f\"TESTING {testType.replace('_', ' ').upper()}\")\n",
    "            testLoops = {\n",
    "                \"RISK AVERSION\": lambda: [\n",
    "                    trainingLoop(riskAversion=risk) for risk in AGENT_RISK_AVERSIONS\n",
    "                ],\n",
    "                \"LSTM OUTPUT SIZE\": lambda: [\n",
    "                    trainingLoop(lstmOutputSize=size) for size in LSTMOUTPUTSIZES\n",
    "                ],\n",
    "                \"REWARD FUNCTION\": lambda: [\n",
    "                    trainingLoop(\n",
    "                        riskAversion=(0.25 if r == \"CVaR\" else 0), rewardFunction=r\n",
    "                    )\n",
    "                    for r in REWARD_FUNCTIONS\n",
    "                ],\n",
    "                \"LEARNING FREQUENCY\": lambda: [\n",
    "                    trainingLoop(freq=fr) for fr in LEARNING_FREQUENCIES\n",
    "                ],\n",
    "                \"PARALLEL ENVIRONMENTS\": lambda: [\n",
    "                    trainingLoop(parr=par) for par in NUMBER_OF_PARALLEL_ENVIRONMENTS\n",
    "                ],\n",
    "                \"LEARNING RATE\": lambda: [\n",
    "                    trainingLoop(lr=learn) for learn in LEARNING_RATES\n",
    "                ],\n",
    "            }\n",
    "            \n",
    "            testLoops[testType]()\n",
    "            break \n",
    "\n",
    "\n",
    "def runTests():\n",
    "    for key in TESTING.keys():\n",
    "        print(\"=\" * 50)\n",
    "        TESTING[key] = True\n",
    "        test()\n",
    "        plotPerformance(key)\n",
    "        TESTING[key] = False\n",
    "        print(\"=\" * 50)\n",
    "    tabulateResults()\n",
    "\n",
    "TEST = False\n",
    "# Run the tests\n",
    "if TEST:\n",
    "    runTests()"
   ]
  },
  {
   "cell_type": "markdown",
   "metadata": {},
   "source": [
    "### Best Models (if any) Evaluated "
   ]
  },
  {
   "cell_type": "code",
   "execution_count": 19,
   "metadata": {},
   "outputs": [
    {
     "name": "stdout",
     "output_type": "stream",
     "text": [
      "==================================================\n"
     ]
    },
    {
     "data": {
      "text/html": [
       "<h3>Reward Function-Standard Logarithmic Returns | Strategy-PPOLSTM | Experiment 1</h3>\n"
      ]
     },
     "metadata": {},
     "output_type": "display_data"
    },
    {
     "data": {
      "text/html": [
       "<table>\n",
       "<thead>\n",
       "<tr><th style=\"text-align: right;\">      Cumulative \n",
       "Return (%)</th><th style=\"text-align: right;\">      Maximum Earning \n",
       "Rate (%)</th><th style=\"text-align: right;\">        Maximum \n",
       "Pullback (%)</th><th style=\"text-align: right;\">        Average Profitability \n",
       "per Trade</th><th style=\"text-align: right;\">  Sharpe Ratio</th><th style=\"text-align: right;\">  Total Timesteps</th></tr>\n",
       "</thead>\n",
       "<tbody>\n",
       "<tr><td style=\"text-align: right;\">44.46</td><td style=\"text-align: right;\">52.35</td><td style=\"text-align: right;\">19.7407</td><td style=\"text-align: right;\">1214.78</td><td style=\"text-align: right;\">        0.1124</td><td style=\"text-align: right;\">             1101</td></tr>\n",
       "</tbody>\n",
       "</table>"
      ]
     },
     "metadata": {},
     "output_type": "display_data"
    },
    {
     "data": {
      "text/html": [
       "<h3>Strategy-RANDOM |  | Experiment 1</h3>\n"
      ]
     },
     "metadata": {},
     "output_type": "display_data"
    },
    {
     "data": {
      "text/html": [
       "<table>\n",
       "<thead>\n",
       "<tr><th style=\"text-align: right;\">      Cumulative \n",
       "Return (%)</th><th style=\"text-align: right;\">      Maximum Earning \n",
       "Rate (%)</th><th style=\"text-align: right;\">        Maximum \n",
       "Pullback (%)</th><th style=\"text-align: right;\">        Average Profitability \n",
       "per Trade</th><th style=\"text-align: right;\">  Sharpe Ratio</th><th style=\"text-align: right;\">  Total Timesteps</th></tr>\n",
       "</thead>\n",
       "<tbody>\n",
       "<tr><td style=\"text-align: right;\">26.07</td><td style=\"text-align: right;\">29.14</td><td style=\"text-align: right;\">34.3292</td><td style=\"text-align: right;\">712.179</td><td style=\"text-align: right;\">        0.0754</td><td style=\"text-align: right;\">             1101</td></tr>\n",
       "</tbody>\n",
       "</table>"
      ]
     },
     "metadata": {},
     "output_type": "display_data"
    },
    {
     "data": {
      "text/html": [
       "<h3>Reward Function-Standard Logarithmic Returns | Strategy-PPOLSTM | Experiment 1</h3>\n"
      ]
     },
     "metadata": {},
     "output_type": "display_data"
    },
    {
     "data": {
      "text/html": [
       "<table>\n",
       "<thead>\n",
       "<tr><th style=\"text-align: right;\">      Cumulative \n",
       "Return (%)</th><th style=\"text-align: right;\">     Maximum Earning \n",
       "Rate (%)</th><th style=\"text-align: right;\">        Maximum \n",
       "Pullback (%)</th><th style=\"text-align: right;\">        Average Profitability \n",
       "per Trade</th><th style=\"text-align: right;\">  Sharpe Ratio</th><th style=\"text-align: right;\">  Total Timesteps</th></tr>\n",
       "</thead>\n",
       "<tbody>\n",
       "<tr><td style=\"text-align: right;\">55.44</td><td style=\"text-align: right;\">56.9</td><td style=\"text-align: right;\">49.1528</td><td style=\"text-align: right;\">1514.78</td><td style=\"text-align: right;\">        0.1339</td><td style=\"text-align: right;\">             1101</td></tr>\n",
       "</tbody>\n",
       "</table>"
      ]
     },
     "metadata": {},
     "output_type": "display_data"
    },
    {
     "data": {
      "text/html": [
       "<h3>Strategy-RANDOM |  | Experiment 1</h3>\n"
      ]
     },
     "metadata": {},
     "output_type": "display_data"
    },
    {
     "data": {
      "text/html": [
       "<table>\n",
       "<thead>\n",
       "<tr><th style=\"text-align: right;\">      Cumulative \n",
       "Return (%)</th><th style=\"text-align: right;\">      Maximum Earning \n",
       "Rate (%)</th><th style=\"text-align: right;\">        Maximum \n",
       "Pullback (%)</th><th style=\"text-align: right;\">        Average Profitability \n",
       "per Trade</th><th style=\"text-align: right;\">  Sharpe Ratio</th><th style=\"text-align: right;\">  Total Timesteps</th></tr>\n",
       "</thead>\n",
       "<tbody>\n",
       "<tr><td style=\"text-align: right;\">19.56</td><td style=\"text-align: right;\">29.63</td><td style=\"text-align: right;\">41.6521</td><td style=\"text-align: right;\">534.477</td><td style=\"text-align: right;\">         0.057</td><td style=\"text-align: right;\">             1101</td></tr>\n",
       "</tbody>\n",
       "</table>"
      ]
     },
     "metadata": {},
     "output_type": "display_data"
    },
    {
     "data": {
      "text/html": [
       "<h3>Reward Function-Standard Logarithmic Returns | Strategy-PPOLSTM | Experiment 1</h3>\n"
      ]
     },
     "metadata": {},
     "output_type": "display_data"
    },
    {
     "data": {
      "text/html": [
       "<table>\n",
       "<thead>\n",
       "<tr><th style=\"text-align: right;\">      Cumulative \n",
       "Return (%)</th><th style=\"text-align: right;\">      Maximum Earning \n",
       "Rate (%)</th><th style=\"text-align: right;\">        Maximum \n",
       "Pullback (%)</th><th style=\"text-align: right;\">        Average Profitability \n",
       "per Trade</th><th style=\"text-align: right;\">  Sharpe Ratio</th><th style=\"text-align: right;\">  Total Timesteps</th></tr>\n",
       "</thead>\n",
       "<tbody>\n",
       "<tr><td style=\"text-align: right;\">15.48</td><td style=\"text-align: right;\">32.95</td><td style=\"text-align: right;\">42.7347</td><td style=\"text-align: right;\">422.903</td><td style=\"text-align: right;\">        0.0406</td><td style=\"text-align: right;\">             1101</td></tr>\n",
       "</tbody>\n",
       "</table>"
      ]
     },
     "metadata": {},
     "output_type": "display_data"
    },
    {
     "data": {
      "text/html": [
       "<h3>Strategy-RANDOM |  | Experiment 1</h3>\n"
      ]
     },
     "metadata": {},
     "output_type": "display_data"
    },
    {
     "data": {
      "text/html": [
       "<table>\n",
       "<thead>\n",
       "<tr><th style=\"text-align: right;\">     Cumulative \n",
       "Return (%)</th><th style=\"text-align: right;\">      Maximum Earning \n",
       "Rate (%)</th><th style=\"text-align: right;\">        Maximum \n",
       "Pullback (%)</th><th style=\"text-align: right;\">        Average Profitability \n",
       "per Trade</th><th style=\"text-align: right;\">  Sharpe Ratio</th><th style=\"text-align: right;\">  Total Timesteps</th></tr>\n",
       "</thead>\n",
       "<tbody>\n",
       "<tr><td style=\"text-align: right;\">32.1</td><td style=\"text-align: right;\">37.35</td><td style=\"text-align: right;\">41.8555</td><td style=\"text-align: right;\">877.028</td><td style=\"text-align: right;\">          0.09</td><td style=\"text-align: right;\">             1101</td></tr>\n",
       "</tbody>\n",
       "</table>"
      ]
     },
     "metadata": {},
     "output_type": "display_data"
    },
    {
     "data": {
      "text/html": [
       "<h3>Reward Function-Standard Logarithmic Returns | Strategy-PPOLSTM | Experiment 1</h3>\n"
      ]
     },
     "metadata": {},
     "output_type": "display_data"
    },
    {
     "data": {
      "text/html": [
       "<table>\n",
       "<thead>\n",
       "<tr><th style=\"text-align: right;\">      Cumulative \n",
       "Return (%)</th><th style=\"text-align: right;\">      Maximum Earning \n",
       "Rate (%)</th><th style=\"text-align: right;\">        Maximum \n",
       "Pullback (%)</th><th style=\"text-align: right;\">        Average Profitability \n",
       "per Trade</th><th style=\"text-align: right;\">  Sharpe Ratio</th><th style=\"text-align: right;\">  Total Timesteps</th></tr>\n",
       "</thead>\n",
       "<tbody>\n",
       "<tr><td style=\"text-align: right;\">17.06</td><td style=\"text-align: right;\">18.56</td><td style=\"text-align: right;\">27.2647</td><td style=\"text-align: right;\">466.206</td><td style=\"text-align: right;\">        0.0574</td><td style=\"text-align: right;\">             1101</td></tr>\n",
       "</tbody>\n",
       "</table>"
      ]
     },
     "metadata": {},
     "output_type": "display_data"
    },
    {
     "data": {
      "text/html": [
       "<h3>Strategy-RANDOM |  | Experiment 1</h3>\n"
      ]
     },
     "metadata": {},
     "output_type": "display_data"
    },
    {
     "data": {
      "text/html": [
       "<table>\n",
       "<thead>\n",
       "<tr><th style=\"text-align: right;\">      Cumulative \n",
       "Return (%)</th><th style=\"text-align: right;\">      Maximum Earning \n",
       "Rate (%)</th><th style=\"text-align: right;\">        Maximum \n",
       "Pullback (%)</th><th style=\"text-align: right;\">       Average Profitability \n",
       "per Trade</th><th style=\"text-align: right;\">  Sharpe Ratio</th><th style=\"text-align: right;\">  Total Timesteps</th></tr>\n",
       "</thead>\n",
       "<tbody>\n",
       "<tr><td style=\"text-align: right;\">41.52</td><td style=\"text-align: right;\">45.85</td><td style=\"text-align: right;\">32.6461</td><td style=\"text-align: right;\">1134.3</td><td style=\"text-align: right;\">        0.1058</td><td style=\"text-align: right;\">             1101</td></tr>\n",
       "</tbody>\n",
       "</table>"
      ]
     },
     "metadata": {},
     "output_type": "display_data"
    },
    {
     "data": {
      "text/html": [
       "<h3>Reward Function-Standard Logarithmic Returns | Strategy-PPOLSTM | Experiment 1</h3>\n"
      ]
     },
     "metadata": {},
     "output_type": "display_data"
    },
    {
     "data": {
      "text/html": [
       "<table>\n",
       "<thead>\n",
       "<tr><th style=\"text-align: right;\">      Cumulative \n",
       "Return (%)</th><th style=\"text-align: right;\">      Maximum Earning \n",
       "Rate (%)</th><th style=\"text-align: right;\">        Maximum \n",
       "Pullback (%)</th><th style=\"text-align: right;\">        Average Profitability \n",
       "per Trade</th><th style=\"text-align: right;\">  Sharpe Ratio</th><th style=\"text-align: right;\">  Total Timesteps</th></tr>\n",
       "</thead>\n",
       "<tbody>\n",
       "<tr><td style=\"text-align: right;\">47.74</td><td style=\"text-align: right;\">53.39</td><td style=\"text-align: right;\">41.7568</td><td style=\"text-align: right;\">1304.27</td><td style=\"text-align: right;\">        0.1088</td><td style=\"text-align: right;\">             1101</td></tr>\n",
       "</tbody>\n",
       "</table>"
      ]
     },
     "metadata": {},
     "output_type": "display_data"
    },
    {
     "data": {
      "text/html": [
       "<h3>Strategy-RANDOM |  | Experiment 1</h3>\n"
      ]
     },
     "metadata": {},
     "output_type": "display_data"
    },
    {
     "data": {
      "text/html": [
       "<table>\n",
       "<thead>\n",
       "<tr><th style=\"text-align: right;\">      Cumulative \n",
       "Return (%)</th><th style=\"text-align: right;\">      Maximum Earning \n",
       "Rate (%)</th><th style=\"text-align: right;\">        Maximum \n",
       "Pullback (%)</th><th style=\"text-align: right;\">        Average Profitability \n",
       "per Trade</th><th style=\"text-align: right;\">  Sharpe Ratio</th><th style=\"text-align: right;\">  Total Timesteps</th></tr>\n",
       "</thead>\n",
       "<tbody>\n",
       "<tr><td style=\"text-align: right;\">30.33</td><td style=\"text-align: right;\">35.26</td><td style=\"text-align: right;\">46.7022</td><td style=\"text-align: right;\">828.674</td><td style=\"text-align: right;\">        0.0871</td><td style=\"text-align: right;\">             1101</td></tr>\n",
       "</tbody>\n",
       "</table>"
      ]
     },
     "metadata": {},
     "output_type": "display_data"
    },
    {
     "data": {
      "text/html": [
       "<h3>Reward Function-Standard Logarithmic Returns | Strategy-PPOLSTM | Experiment 1</h3>\n"
      ]
     },
     "metadata": {},
     "output_type": "display_data"
    },
    {
     "data": {
      "text/html": [
       "<table>\n",
       "<thead>\n",
       "<tr><th style=\"text-align: right;\">     Cumulative \n",
       "Return (%)</th><th style=\"text-align: right;\">     Maximum Earning \n",
       "Rate (%)</th><th style=\"text-align: right;\">        Maximum \n",
       "Pullback (%)</th><th style=\"text-align: right;\">        Average Profitability \n",
       "per Trade</th><th style=\"text-align: right;\">  Sharpe Ratio</th><th style=\"text-align: right;\">  Total Timesteps</th></tr>\n",
       "</thead>\n",
       "<tbody>\n",
       "<tr><td style=\"text-align: right;\">18.1</td><td style=\"text-align: right;\">27.1</td><td style=\"text-align: right;\">36.1657</td><td style=\"text-align: right;\">494.569</td><td style=\"text-align: right;\">         0.048</td><td style=\"text-align: right;\">             1101</td></tr>\n",
       "</tbody>\n",
       "</table>"
      ]
     },
     "metadata": {},
     "output_type": "display_data"
    },
    {
     "data": {
      "text/html": [
       "<h3>Strategy-RANDOM |  | Experiment 1</h3>\n"
      ]
     },
     "metadata": {},
     "output_type": "display_data"
    },
    {
     "data": {
      "text/html": [
       "<table>\n",
       "<thead>\n",
       "<tr><th style=\"text-align: right;\">      Cumulative \n",
       "Return (%)</th><th style=\"text-align: right;\">      Maximum Earning \n",
       "Rate (%)</th><th style=\"text-align: right;\">        Maximum \n",
       "Pullback (%)</th><th style=\"text-align: right;\">        Average Profitability \n",
       "per Trade</th><th style=\"text-align: right;\">  Sharpe Ratio</th><th style=\"text-align: right;\">  Total Timesteps</th></tr>\n",
       "</thead>\n",
       "<tbody>\n",
       "<tr><td style=\"text-align: right;\">37.56</td><td style=\"text-align: right;\">41.36</td><td style=\"text-align: right;\">27.8781</td><td style=\"text-align: right;\">1026.26</td><td style=\"text-align: right;\">        0.0999</td><td style=\"text-align: right;\">             1101</td></tr>\n",
       "</tbody>\n",
       "</table>"
      ]
     },
     "metadata": {},
     "output_type": "display_data"
    },
    {
     "data": {
      "text/html": [
       "<h3>Reward Function-Standard Logarithmic Returns | Strategy-PPOLSTM | Experiment 1</h3>\n"
      ]
     },
     "metadata": {},
     "output_type": "display_data"
    },
    {
     "data": {
      "text/html": [
       "<table>\n",
       "<thead>\n",
       "<tr><th style=\"text-align: right;\">      Cumulative \n",
       "Return (%)</th><th style=\"text-align: right;\">      Maximum Earning \n",
       "Rate (%)</th><th style=\"text-align: right;\">        Maximum \n",
       "Pullback (%)</th><th style=\"text-align: right;\">        Average Profitability \n",
       "per Trade</th><th style=\"text-align: right;\">  Sharpe Ratio</th><th style=\"text-align: right;\">  Total Timesteps</th></tr>\n",
       "</thead>\n",
       "<tbody>\n",
       "<tr><td style=\"text-align: right;\">12.21</td><td style=\"text-align: right;\">19.03</td><td style=\"text-align: right;\">34.0157</td><td style=\"text-align: right;\">333.554</td><td style=\"text-align: right;\">        0.0368</td><td style=\"text-align: right;\">             1101</td></tr>\n",
       "</tbody>\n",
       "</table>"
      ]
     },
     "metadata": {},
     "output_type": "display_data"
    },
    {
     "data": {
      "text/html": [
       "<h3>Strategy-RANDOM |  | Experiment 1</h3>\n"
      ]
     },
     "metadata": {},
     "output_type": "display_data"
    },
    {
     "data": {
      "text/html": [
       "<table>\n",
       "<thead>\n",
       "<tr><th style=\"text-align: right;\">      Cumulative \n",
       "Return (%)</th><th style=\"text-align: right;\">      Maximum Earning \n",
       "Rate (%)</th><th style=\"text-align: right;\">        Maximum \n",
       "Pullback (%)</th><th style=\"text-align: right;\">        Average Profitability \n",
       "per Trade</th><th style=\"text-align: right;\">  Sharpe Ratio</th><th style=\"text-align: right;\">  Total Timesteps</th></tr>\n",
       "</thead>\n",
       "<tbody>\n",
       "<tr><td style=\"text-align: right;\">16.24</td><td style=\"text-align: right;\">22.05</td><td style=\"text-align: right;\">36.6334</td><td style=\"text-align: right;\">443.769</td><td style=\"text-align: right;\">        0.0489</td><td style=\"text-align: right;\">             1101</td></tr>\n",
       "</tbody>\n",
       "</table>"
      ]
     },
     "metadata": {},
     "output_type": "display_data"
    },
    {
     "data": {
      "text/html": [
       "<h3>Reward Function-Standard Logarithmic Returns | Strategy-PPOLSTM | Experiment 1</h3>\n"
      ]
     },
     "metadata": {},
     "output_type": "display_data"
    },
    {
     "data": {
      "text/html": [
       "<table>\n",
       "<thead>\n",
       "<tr><th style=\"text-align: right;\">      Cumulative \n",
       "Return (%)</th><th style=\"text-align: right;\">     Maximum Earning \n",
       "Rate (%)</th><th style=\"text-align: right;\">        Maximum \n",
       "Pullback (%)</th><th style=\"text-align: right;\">        Average Profitability \n",
       "per Trade</th><th style=\"text-align: right;\">  Sharpe Ratio</th><th style=\"text-align: right;\">  Total Timesteps</th></tr>\n",
       "</thead>\n",
       "<tbody>\n",
       "<tr><td style=\"text-align: right;\">38.37</td><td style=\"text-align: right;\">53.4</td><td style=\"text-align: right;\">34.0407</td><td style=\"text-align: right;\">1048.31</td><td style=\"text-align: right;\">        0.0938</td><td style=\"text-align: right;\">             1101</td></tr>\n",
       "</tbody>\n",
       "</table>"
      ]
     },
     "metadata": {},
     "output_type": "display_data"
    },
    {
     "data": {
      "text/html": [
       "<h3>Strategy-RANDOM |  | Experiment 1</h3>\n"
      ]
     },
     "metadata": {},
     "output_type": "display_data"
    },
    {
     "data": {
      "text/html": [
       "<table>\n",
       "<thead>\n",
       "<tr><th style=\"text-align: right;\">      Cumulative \n",
       "Return (%)</th><th style=\"text-align: right;\">      Maximum Earning \n",
       "Rate (%)</th><th style=\"text-align: right;\">        Maximum \n",
       "Pullback (%)</th><th style=\"text-align: right;\">        Average Profitability \n",
       "per Trade</th><th style=\"text-align: right;\">  Sharpe Ratio</th><th style=\"text-align: right;\">  Total Timesteps</th></tr>\n",
       "</thead>\n",
       "<tbody>\n",
       "<tr><td style=\"text-align: right;\">36.75</td><td style=\"text-align: right;\">41.05</td><td style=\"text-align: right;\">41.2799</td><td style=\"text-align: right;\">1003.98</td><td style=\"text-align: right;\">        0.0883</td><td style=\"text-align: right;\">             1101</td></tr>\n",
       "</tbody>\n",
       "</table>"
      ]
     },
     "metadata": {},
     "output_type": "display_data"
    },
    {
     "data": {
      "text/html": [
       "<h3>Reward Function-Standard Logarithmic Returns | Strategy-PPOLSTM | Experiment 1</h3>\n"
      ]
     },
     "metadata": {},
     "output_type": "display_data"
    },
    {
     "data": {
      "text/html": [
       "<table>\n",
       "<thead>\n",
       "<tr><th style=\"text-align: right;\">      Cumulative \n",
       "Return (%)</th><th style=\"text-align: right;\">      Maximum Earning \n",
       "Rate (%)</th><th style=\"text-align: right;\">        Maximum \n",
       "Pullback (%)</th><th style=\"text-align: right;\">        Average Profitability \n",
       "per Trade</th><th style=\"text-align: right;\">  Sharpe Ratio</th><th style=\"text-align: right;\">  Total Timesteps</th></tr>\n",
       "</thead>\n",
       "<tbody>\n",
       "<tr><td style=\"text-align: right;\">27.37</td><td style=\"text-align: right;\">33.18</td><td style=\"text-align: right;\">28.7895</td><td style=\"text-align: right;\">747.771</td><td style=\"text-align: right;\">        0.0808</td><td style=\"text-align: right;\">             1101</td></tr>\n",
       "</tbody>\n",
       "</table>"
      ]
     },
     "metadata": {},
     "output_type": "display_data"
    },
    {
     "data": {
      "text/html": [
       "<h3>Strategy-RANDOM |  | Experiment 1</h3>\n"
      ]
     },
     "metadata": {},
     "output_type": "display_data"
    },
    {
     "data": {
      "text/html": [
       "<table>\n",
       "<thead>\n",
       "<tr><th style=\"text-align: right;\">      Cumulative \n",
       "Return (%)</th><th style=\"text-align: right;\">      Maximum Earning \n",
       "Rate (%)</th><th style=\"text-align: right;\">        Maximum \n",
       "Pullback (%)</th><th style=\"text-align: right;\">        Average Profitability \n",
       "per Trade</th><th style=\"text-align: right;\">  Sharpe Ratio</th><th style=\"text-align: right;\">  Total Timesteps</th></tr>\n",
       "</thead>\n",
       "<tbody>\n",
       "<tr><td style=\"text-align: right;\">31.34</td><td style=\"text-align: right;\">37.33</td><td style=\"text-align: right;\">35.9508</td><td style=\"text-align: right;\">856.348</td><td style=\"text-align: right;\">        0.0861</td><td style=\"text-align: right;\">             1101</td></tr>\n",
       "</tbody>\n",
       "</table>"
      ]
     },
     "metadata": {},
     "output_type": "display_data"
    },
    {
     "data": {
      "text/html": [
       "<h3>Reward Function-Standard Logarithmic Returns | Strategy-PPOLSTM | Experiment 1</h3>\n"
      ]
     },
     "metadata": {},
     "output_type": "display_data"
    },
    {
     "data": {
      "text/html": [
       "<table>\n",
       "<thead>\n",
       "<tr><th style=\"text-align: right;\">      Cumulative \n",
       "Return (%)</th><th style=\"text-align: right;\">     Maximum Earning \n",
       "Rate (%)</th><th style=\"text-align: right;\">        Maximum \n",
       "Pullback (%)</th><th style=\"text-align: right;\">       Average Profitability \n",
       "per Trade</th><th style=\"text-align: right;\">  Sharpe Ratio</th><th style=\"text-align: right;\">  Total Timesteps</th></tr>\n",
       "</thead>\n",
       "<tbody>\n",
       "<tr><td style=\"text-align: right;\">22.41</td><td style=\"text-align: right;\">26.3</td><td style=\"text-align: right;\">22.5134</td><td style=\"text-align: right;\">612.24</td><td style=\"text-align: right;\">        0.0667</td><td style=\"text-align: right;\">             1101</td></tr>\n",
       "</tbody>\n",
       "</table>"
      ]
     },
     "metadata": {},
     "output_type": "display_data"
    },
    {
     "data": {
      "text/html": [
       "<h3>Strategy-RANDOM |  | Experiment 1</h3>\n"
      ]
     },
     "metadata": {},
     "output_type": "display_data"
    },
    {
     "data": {
      "text/html": [
       "<table>\n",
       "<thead>\n",
       "<tr><th style=\"text-align: right;\">      Cumulative \n",
       "Return (%)</th><th style=\"text-align: right;\">      Maximum Earning \n",
       "Rate (%)</th><th style=\"text-align: right;\">        Maximum \n",
       "Pullback (%)</th><th style=\"text-align: right;\">        Average Profitability \n",
       "per Trade</th><th style=\"text-align: right;\">  Sharpe Ratio</th><th style=\"text-align: right;\">  Total Timesteps</th></tr>\n",
       "</thead>\n",
       "<tbody>\n",
       "<tr><td style=\"text-align: right;\">21.87</td><td style=\"text-align: right;\">33.36</td><td style=\"text-align: right;\">29.6563</td><td style=\"text-align: right;\">597.467</td><td style=\"text-align: right;\">        0.0633</td><td style=\"text-align: right;\">             1101</td></tr>\n",
       "</tbody>\n",
       "</table>"
      ]
     },
     "metadata": {},
     "output_type": "display_data"
    },
    {
     "data": {
      "text/html": [
       "<h3>Reward Function-Differential Sharpe Ratio_0.1 | Strategy-PPOLSTM | Experiment 1</h3>\n"
      ]
     },
     "metadata": {},
     "output_type": "display_data"
    },
    {
     "data": {
      "text/html": [
       "<table>\n",
       "<thead>\n",
       "<tr><th style=\"text-align: right;\">      Cumulative \n",
       "Return (%)</th><th style=\"text-align: right;\">      Maximum Earning \n",
       "Rate (%)</th><th style=\"text-align: right;\">        Maximum \n",
       "Pullback (%)</th><th style=\"text-align: right;\">        Average Profitability \n",
       "per Trade</th><th style=\"text-align: right;\">  Sharpe Ratio</th><th style=\"text-align: right;\">  Total Timesteps</th></tr>\n",
       "</thead>\n",
       "<tbody>\n",
       "<tr><td style=\"text-align: right;\">31.11</td><td style=\"text-align: right;\">32.32</td><td style=\"text-align: right;\">34.0355</td><td style=\"text-align: right;\">850.028</td><td style=\"text-align: right;\">        0.0893</td><td style=\"text-align: right;\">             1101</td></tr>\n",
       "</tbody>\n",
       "</table>"
      ]
     },
     "metadata": {},
     "output_type": "display_data"
    },
    {
     "data": {
      "text/html": [
       "<h3>Strategy-RANDOM |  | Experiment 1</h3>\n"
      ]
     },
     "metadata": {},
     "output_type": "display_data"
    },
    {
     "data": {
      "text/html": [
       "<table>\n",
       "<thead>\n",
       "<tr><th style=\"text-align: right;\">      Cumulative \n",
       "Return (%)</th><th style=\"text-align: right;\">      Maximum Earning \n",
       "Rate (%)</th><th style=\"text-align: right;\">       Maximum \n",
       "Pullback (%)</th><th style=\"text-align: right;\">       Average Profitability \n",
       "per Trade</th><th style=\"text-align: right;\">  Sharpe Ratio</th><th style=\"text-align: right;\">  Total Timesteps</th></tr>\n",
       "</thead>\n",
       "<tbody>\n",
       "<tr><td style=\"text-align: right;\">25.28</td><td style=\"text-align: right;\">27.75</td><td style=\"text-align: right;\">25.525</td><td style=\"text-align: right;\">690.67</td><td style=\"text-align: right;\">         0.074</td><td style=\"text-align: right;\">             1101</td></tr>\n",
       "</tbody>\n",
       "</table>"
      ]
     },
     "metadata": {},
     "output_type": "display_data"
    },
    {
     "data": {
      "text/html": [
       "<h3>Reward Function-Differential Sharpe Ratio_0.1 | Strategy-PPOLSTM | Experiment 1</h3>\n"
      ]
     },
     "metadata": {},
     "output_type": "display_data"
    },
    {
     "data": {
      "text/html": [
       "<table>\n",
       "<thead>\n",
       "<tr><th style=\"text-align: right;\">      Cumulative \n",
       "Return (%)</th><th style=\"text-align: right;\">      Maximum Earning \n",
       "Rate (%)</th><th style=\"text-align: right;\">        Maximum \n",
       "Pullback (%)</th><th style=\"text-align: right;\">        Average Profitability \n",
       "per Trade</th><th style=\"text-align: right;\">  Sharpe Ratio</th><th style=\"text-align: right;\">  Total Timesteps</th></tr>\n",
       "</thead>\n",
       "<tbody>\n",
       "<tr><td style=\"text-align: right;\">32.09</td><td style=\"text-align: right;\">34.87</td><td style=\"text-align: right;\">37.1833</td><td style=\"text-align: right;\">876.672</td><td style=\"text-align: right;\">        0.0802</td><td style=\"text-align: right;\">             1101</td></tr>\n",
       "</tbody>\n",
       "</table>"
      ]
     },
     "metadata": {},
     "output_type": "display_data"
    },
    {
     "data": {
      "text/html": [
       "<h3>Strategy-RANDOM |  | Experiment 1</h3>\n"
      ]
     },
     "metadata": {},
     "output_type": "display_data"
    },
    {
     "data": {
      "text/html": [
       "<table>\n",
       "<thead>\n",
       "<tr><th style=\"text-align: right;\">      Cumulative \n",
       "Return (%)</th><th style=\"text-align: right;\">      Maximum Earning \n",
       "Rate (%)</th><th style=\"text-align: right;\">        Maximum \n",
       "Pullback (%)</th><th style=\"text-align: right;\">        Average Profitability \n",
       "per Trade</th><th style=\"text-align: right;\">  Sharpe Ratio</th><th style=\"text-align: right;\">  Total Timesteps</th></tr>\n",
       "</thead>\n",
       "<tbody>\n",
       "<tr><td style=\"text-align: right;\">36.35</td><td style=\"text-align: right;\">45.64</td><td style=\"text-align: right;\">40.4129</td><td style=\"text-align: right;\">993.129</td><td style=\"text-align: right;\">        0.0954</td><td style=\"text-align: right;\">             1101</td></tr>\n",
       "</tbody>\n",
       "</table>"
      ]
     },
     "metadata": {},
     "output_type": "display_data"
    },
    {
     "data": {
      "text/html": [
       "<h3>Reward Function-Differential Sharpe Ratio_0.1 | Strategy-PPOLSTM | Experiment 1</h3>\n"
      ]
     },
     "metadata": {},
     "output_type": "display_data"
    },
    {
     "data": {
      "text/html": [
       "<table>\n",
       "<thead>\n",
       "<tr><th style=\"text-align: right;\">      Cumulative \n",
       "Return (%)</th><th style=\"text-align: right;\">      Maximum Earning \n",
       "Rate (%)</th><th style=\"text-align: right;\">        Maximum \n",
       "Pullback (%)</th><th style=\"text-align: right;\">        Average Profitability \n",
       "per Trade</th><th style=\"text-align: right;\">  Sharpe Ratio</th><th style=\"text-align: right;\">  Total Timesteps</th></tr>\n",
       "</thead>\n",
       "<tbody>\n",
       "<tr><td style=\"text-align: right;\">26.92</td><td style=\"text-align: right;\">27.48</td><td style=\"text-align: right;\">26.8313</td><td style=\"text-align: right;\">735.462</td><td style=\"text-align: right;\">        0.0793</td><td style=\"text-align: right;\">             1101</td></tr>\n",
       "</tbody>\n",
       "</table>"
      ]
     },
     "metadata": {},
     "output_type": "display_data"
    },
    {
     "data": {
      "text/html": [
       "<h3>Strategy-RANDOM |  | Experiment 1</h3>\n"
      ]
     },
     "metadata": {},
     "output_type": "display_data"
    },
    {
     "data": {
      "text/html": [
       "<table>\n",
       "<thead>\n",
       "<tr><th style=\"text-align: right;\">      Cumulative \n",
       "Return (%)</th><th style=\"text-align: right;\">      Maximum Earning \n",
       "Rate (%)</th><th style=\"text-align: right;\">       Maximum \n",
       "Pullback (%)</th><th style=\"text-align: right;\">        Average Profitability \n",
       "per Trade</th><th style=\"text-align: right;\">  Sharpe Ratio</th><th style=\"text-align: right;\">  Total Timesteps</th></tr>\n",
       "</thead>\n",
       "<tbody>\n",
       "<tr><td style=\"text-align: right;\">32.72</td><td style=\"text-align: right;\">37.44</td><td style=\"text-align: right;\">37.425</td><td style=\"text-align: right;\">893.968</td><td style=\"text-align: right;\">         0.094</td><td style=\"text-align: right;\">             1101</td></tr>\n",
       "</tbody>\n",
       "</table>"
      ]
     },
     "metadata": {},
     "output_type": "display_data"
    },
    {
     "data": {
      "text/html": [
       "<h3>Reward Function-Differential Sharpe Ratio_0.1 | Strategy-PPOLSTM | Experiment 1</h3>\n"
      ]
     },
     "metadata": {},
     "output_type": "display_data"
    },
    {
     "data": {
      "text/html": [
       "<table>\n",
       "<thead>\n",
       "<tr><th style=\"text-align: right;\">      Cumulative \n",
       "Return (%)</th><th style=\"text-align: right;\">      Maximum Earning \n",
       "Rate (%)</th><th style=\"text-align: right;\">        Maximum \n",
       "Pullback (%)</th><th style=\"text-align: right;\">        Average Profitability \n",
       "per Trade</th><th style=\"text-align: right;\">  Sharpe Ratio</th><th style=\"text-align: right;\">  Total Timesteps</th></tr>\n",
       "</thead>\n",
       "<tbody>\n",
       "<tr><td style=\"text-align: right;\">42.09</td><td style=\"text-align: right;\">46.23</td><td style=\"text-align: right;\">42.0804</td><td style=\"text-align: right;\">1149.93</td><td style=\"text-align: right;\">        0.0923</td><td style=\"text-align: right;\">             1101</td></tr>\n",
       "</tbody>\n",
       "</table>"
      ]
     },
     "metadata": {},
     "output_type": "display_data"
    },
    {
     "data": {
      "text/html": [
       "<h3>Strategy-RANDOM |  | Experiment 1</h3>\n"
      ]
     },
     "metadata": {},
     "output_type": "display_data"
    },
    {
     "data": {
      "text/html": [
       "<table>\n",
       "<thead>\n",
       "<tr><th style=\"text-align: right;\">      Cumulative \n",
       "Return (%)</th><th style=\"text-align: right;\">      Maximum Earning \n",
       "Rate (%)</th><th style=\"text-align: right;\">        Maximum \n",
       "Pullback (%)</th><th style=\"text-align: right;\">       Average Profitability \n",
       "per Trade</th><th style=\"text-align: right;\">  Sharpe Ratio</th><th style=\"text-align: right;\">  Total Timesteps</th></tr>\n",
       "</thead>\n",
       "<tbody>\n",
       "<tr><td style=\"text-align: right;\">34.39</td><td style=\"text-align: right;\">40.17</td><td style=\"text-align: right;\">26.0907</td><td style=\"text-align: right;\">939.73</td><td style=\"text-align: right;\">        0.0916</td><td style=\"text-align: right;\">             1101</td></tr>\n",
       "</tbody>\n",
       "</table>"
      ]
     },
     "metadata": {},
     "output_type": "display_data"
    },
    {
     "data": {
      "text/html": [
       "<h3>Reward Function-Differential Sharpe Ratio_0.1 | Strategy-PPOLSTM | Experiment 1</h3>\n"
      ]
     },
     "metadata": {},
     "output_type": "display_data"
    },
    {
     "data": {
      "text/html": [
       "<table>\n",
       "<thead>\n",
       "<tr><th style=\"text-align: right;\">      Cumulative \n",
       "Return (%)</th><th style=\"text-align: right;\">      Maximum Earning \n",
       "Rate (%)</th><th style=\"text-align: right;\">        Maximum \n",
       "Pullback (%)</th><th style=\"text-align: right;\">        Average Profitability \n",
       "per Trade</th><th style=\"text-align: right;\">  Sharpe Ratio</th><th style=\"text-align: right;\">  Total Timesteps</th></tr>\n",
       "</thead>\n",
       "<tbody>\n",
       "<tr><td style=\"text-align: right;\">52.72</td><td style=\"text-align: right;\">60.95</td><td style=\"text-align: right;\">29.5142</td><td style=\"text-align: right;\">1440.53</td><td style=\"text-align: right;\">        0.1129</td><td style=\"text-align: right;\">             1101</td></tr>\n",
       "</tbody>\n",
       "</table>"
      ]
     },
     "metadata": {},
     "output_type": "display_data"
    },
    {
     "data": {
      "text/html": [
       "<h3>Strategy-RANDOM |  | Experiment 1</h3>\n"
      ]
     },
     "metadata": {},
     "output_type": "display_data"
    },
    {
     "data": {
      "text/html": [
       "<table>\n",
       "<thead>\n",
       "<tr><th style=\"text-align: right;\">      Cumulative \n",
       "Return (%)</th><th style=\"text-align: right;\">      Maximum Earning \n",
       "Rate (%)</th><th style=\"text-align: right;\">        Maximum \n",
       "Pullback (%)</th><th style=\"text-align: right;\">        Average Profitability \n",
       "per Trade</th><th style=\"text-align: right;\">  Sharpe Ratio</th><th style=\"text-align: right;\">  Total Timesteps</th></tr>\n",
       "</thead>\n",
       "<tbody>\n",
       "<tr><td style=\"text-align: right;\">21.38</td><td style=\"text-align: right;\">25.42</td><td style=\"text-align: right;\">42.0421</td><td style=\"text-align: right;\">584.286</td><td style=\"text-align: right;\">         0.063</td><td style=\"text-align: right;\">             1101</td></tr>\n",
       "</tbody>\n",
       "</table>"
      ]
     },
     "metadata": {},
     "output_type": "display_data"
    },
    {
     "data": {
      "text/html": [
       "<h3>Reward Function-Differential Sharpe Ratio_0.1 | Strategy-PPOLSTM | Experiment 1</h3>\n"
      ]
     },
     "metadata": {},
     "output_type": "display_data"
    },
    {
     "data": {
      "text/html": [
       "<table>\n",
       "<thead>\n",
       "<tr><th style=\"text-align: right;\">      Cumulative \n",
       "Return (%)</th><th style=\"text-align: right;\">      Maximum Earning \n",
       "Rate (%)</th><th style=\"text-align: right;\">        Maximum \n",
       "Pullback (%)</th><th style=\"text-align: right;\">        Average Profitability \n",
       "per Trade</th><th style=\"text-align: right;\">  Sharpe Ratio</th><th style=\"text-align: right;\">  Total Timesteps</th></tr>\n",
       "</thead>\n",
       "<tbody>\n",
       "<tr><td style=\"text-align: right;\">49.23</td><td style=\"text-align: right;\">53.22</td><td style=\"text-align: right;\">22.9313</td><td style=\"text-align: right;\">1345.12</td><td style=\"text-align: right;\">        0.1155</td><td style=\"text-align: right;\">             1101</td></tr>\n",
       "</tbody>\n",
       "</table>"
      ]
     },
     "metadata": {},
     "output_type": "display_data"
    },
    {
     "data": {
      "text/html": [
       "<h3>Strategy-RANDOM |  | Experiment 1</h3>\n"
      ]
     },
     "metadata": {},
     "output_type": "display_data"
    },
    {
     "data": {
      "text/html": [
       "<table>\n",
       "<thead>\n",
       "<tr><th style=\"text-align: right;\">      Cumulative \n",
       "Return (%)</th><th style=\"text-align: right;\">      Maximum Earning \n",
       "Rate (%)</th><th style=\"text-align: right;\">        Maximum \n",
       "Pullback (%)</th><th style=\"text-align: right;\">        Average Profitability \n",
       "per Trade</th><th style=\"text-align: right;\">  Sharpe Ratio</th><th style=\"text-align: right;\">  Total Timesteps</th></tr>\n",
       "</thead>\n",
       "<tbody>\n",
       "<tr><td style=\"text-align: right;\">25.53</td><td style=\"text-align: right;\">31.36</td><td style=\"text-align: right;\">30.9989</td><td style=\"text-align: right;\">697.466</td><td style=\"text-align: right;\">         0.073</td><td style=\"text-align: right;\">             1101</td></tr>\n",
       "</tbody>\n",
       "</table>"
      ]
     },
     "metadata": {},
     "output_type": "display_data"
    },
    {
     "data": {
      "text/html": [
       "<h3>Reward Function-Differential Sharpe Ratio_0.1 | Strategy-PPOLSTM | Experiment 1</h3>\n"
      ]
     },
     "metadata": {},
     "output_type": "display_data"
    },
    {
     "data": {
      "text/html": [
       "<table>\n",
       "<thead>\n",
       "<tr><th style=\"text-align: right;\">      Cumulative \n",
       "Return (%)</th><th style=\"text-align: right;\">     Maximum Earning \n",
       "Rate (%)</th><th style=\"text-align: right;\">        Maximum \n",
       "Pullback (%)</th><th style=\"text-align: right;\">       Average Profitability \n",
       "per Trade</th><th style=\"text-align: right;\">  Sharpe Ratio</th><th style=\"text-align: right;\">  Total Timesteps</th></tr>\n",
       "</thead>\n",
       "<tbody>\n",
       "<tr><td style=\"text-align: right;\">24.38</td><td style=\"text-align: right;\">31.2</td><td style=\"text-align: right;\">44.4072</td><td style=\"text-align: right;\">666.02</td><td style=\"text-align: right;\">        0.0623</td><td style=\"text-align: right;\">             1101</td></tr>\n",
       "</tbody>\n",
       "</table>"
      ]
     },
     "metadata": {},
     "output_type": "display_data"
    },
    {
     "data": {
      "text/html": [
       "<h3>Strategy-RANDOM |  | Experiment 1</h3>\n"
      ]
     },
     "metadata": {},
     "output_type": "display_data"
    },
    {
     "data": {
      "text/html": [
       "<table>\n",
       "<thead>\n",
       "<tr><th style=\"text-align: right;\">      Cumulative \n",
       "Return (%)</th><th style=\"text-align: right;\">      Maximum Earning \n",
       "Rate (%)</th><th style=\"text-align: right;\">        Maximum \n",
       "Pullback (%)</th><th style=\"text-align: right;\">        Average Profitability \n",
       "per Trade</th><th style=\"text-align: right;\">  Sharpe Ratio</th><th style=\"text-align: right;\">  Total Timesteps</th></tr>\n",
       "</thead>\n",
       "<tbody>\n",
       "<tr><td style=\"text-align: right;\">13.72</td><td style=\"text-align: right;\">27.49</td><td style=\"text-align: right;\">37.5886</td><td style=\"text-align: right;\">374.753</td><td style=\"text-align: right;\">        0.0393</td><td style=\"text-align: right;\">             1101</td></tr>\n",
       "</tbody>\n",
       "</table>"
      ]
     },
     "metadata": {},
     "output_type": "display_data"
    },
    {
     "data": {
      "text/html": [
       "<h3>Reward Function-Differential Sharpe Ratio_0.1 | Strategy-PPOLSTM | Experiment 1</h3>\n"
      ]
     },
     "metadata": {},
     "output_type": "display_data"
    },
    {
     "data": {
      "text/html": [
       "<table>\n",
       "<thead>\n",
       "<tr><th style=\"text-align: right;\">     Cumulative \n",
       "Return (%)</th><th style=\"text-align: right;\">      Maximum Earning \n",
       "Rate (%)</th><th style=\"text-align: right;\">        Maximum \n",
       "Pullback (%)</th><th style=\"text-align: right;\">       Average Profitability \n",
       "per Trade</th><th style=\"text-align: right;\">  Sharpe Ratio</th><th style=\"text-align: right;\">  Total Timesteps</th></tr>\n",
       "</thead>\n",
       "<tbody>\n",
       "<tr><td style=\"text-align: right;\">20.7</td><td style=\"text-align: right;\">26.25</td><td style=\"text-align: right;\">34.9718</td><td style=\"text-align: right;\">565.52</td><td style=\"text-align: right;\">        0.0564</td><td style=\"text-align: right;\">             1101</td></tr>\n",
       "</tbody>\n",
       "</table>"
      ]
     },
     "metadata": {},
     "output_type": "display_data"
    },
    {
     "data": {
      "text/html": [
       "<h3>Strategy-RANDOM |  | Experiment 1</h3>\n"
      ]
     },
     "metadata": {},
     "output_type": "display_data"
    },
    {
     "data": {
      "text/html": [
       "<table>\n",
       "<thead>\n",
       "<tr><th style=\"text-align: right;\">     Cumulative \n",
       "Return (%)</th><th style=\"text-align: right;\">      Maximum Earning \n",
       "Rate (%)</th><th style=\"text-align: right;\">        Maximum \n",
       "Pullback (%)</th><th style=\"text-align: right;\">        Average Profitability \n",
       "per Trade</th><th style=\"text-align: right;\">  Sharpe Ratio</th><th style=\"text-align: right;\">  Total Timesteps</th></tr>\n",
       "</thead>\n",
       "<tbody>\n",
       "<tr><td style=\"text-align: right;\">9.07</td><td style=\"text-align: right;\">20.47</td><td style=\"text-align: right;\">26.1485</td><td style=\"text-align: right;\">247.943</td><td style=\"text-align: right;\">        0.0265</td><td style=\"text-align: right;\">             1101</td></tr>\n",
       "</tbody>\n",
       "</table>"
      ]
     },
     "metadata": {},
     "output_type": "display_data"
    },
    {
     "data": {
      "text/html": [
       "<h3>Reward Function-Differential Sharpe Ratio_0.1 | Strategy-PPOLSTM | Experiment 1</h3>\n"
      ]
     },
     "metadata": {},
     "output_type": "display_data"
    },
    {
     "data": {
      "text/html": [
       "<table>\n",
       "<thead>\n",
       "<tr><th style=\"text-align: right;\">      Cumulative \n",
       "Return (%)</th><th style=\"text-align: right;\">      Maximum Earning \n",
       "Rate (%)</th><th style=\"text-align: right;\">       Maximum \n",
       "Pullback (%)</th><th style=\"text-align: right;\">        Average Profitability \n",
       "per Trade</th><th style=\"text-align: right;\">  Sharpe Ratio</th><th style=\"text-align: right;\">  Total Timesteps</th></tr>\n",
       "</thead>\n",
       "<tbody>\n",
       "<tr><td style=\"text-align: right;\">18.95</td><td style=\"text-align: right;\">32.55</td><td style=\"text-align: right;\">20.157</td><td style=\"text-align: right;\">517.772</td><td style=\"text-align: right;\">        0.0529</td><td style=\"text-align: right;\">             1101</td></tr>\n",
       "</tbody>\n",
       "</table>"
      ]
     },
     "metadata": {},
     "output_type": "display_data"
    },
    {
     "data": {
      "text/html": [
       "<h3>Strategy-RANDOM |  | Experiment 1</h3>\n"
      ]
     },
     "metadata": {},
     "output_type": "display_data"
    },
    {
     "data": {
      "text/html": [
       "<table>\n",
       "<thead>\n",
       "<tr><th style=\"text-align: right;\">      Cumulative \n",
       "Return (%)</th><th style=\"text-align: right;\">      Maximum Earning \n",
       "Rate (%)</th><th style=\"text-align: right;\">        Maximum \n",
       "Pullback (%)</th><th style=\"text-align: right;\">        Average Profitability \n",
       "per Trade</th><th style=\"text-align: right;\">  Sharpe Ratio</th><th style=\"text-align: right;\">  Total Timesteps</th></tr>\n",
       "</thead>\n",
       "<tbody>\n",
       "<tr><td style=\"text-align: right;\">45.86</td><td style=\"text-align: right;\">53.34</td><td style=\"text-align: right;\">33.7768</td><td style=\"text-align: right;\">1253.03</td><td style=\"text-align: right;\">        0.1121</td><td style=\"text-align: right;\">             1101</td></tr>\n",
       "</tbody>\n",
       "</table>"
      ]
     },
     "metadata": {},
     "output_type": "display_data"
    },
    {
     "data": {
      "text/html": [
       "<h3>Reward Function-Differential Sharpe Ratio_0.1 | Strategy-PPOLSTM | Experiment 1</h3>\n"
      ]
     },
     "metadata": {},
     "output_type": "display_data"
    },
    {
     "data": {
      "text/html": [
       "<table>\n",
       "<thead>\n",
       "<tr><th style=\"text-align: right;\">      Cumulative \n",
       "Return (%)</th><th style=\"text-align: right;\">      Maximum Earning \n",
       "Rate (%)</th><th style=\"text-align: right;\">        Maximum \n",
       "Pullback (%)</th><th style=\"text-align: right;\">        Average Profitability \n",
       "per Trade</th><th style=\"text-align: right;\">  Sharpe Ratio</th><th style=\"text-align: right;\">  Total Timesteps</th></tr>\n",
       "</thead>\n",
       "<tbody>\n",
       "<tr><td style=\"text-align: right;\">16.03</td><td style=\"text-align: right;\">26.36</td><td style=\"text-align: right;\">45.3587</td><td style=\"text-align: right;\">437.948</td><td style=\"text-align: right;\">        0.0457</td><td style=\"text-align: right;\">             1101</td></tr>\n",
       "</tbody>\n",
       "</table>"
      ]
     },
     "metadata": {},
     "output_type": "display_data"
    },
    {
     "data": {
      "text/html": [
       "<h3>Strategy-RANDOM |  | Experiment 1</h3>\n"
      ]
     },
     "metadata": {},
     "output_type": "display_data"
    },
    {
     "data": {
      "text/html": [
       "<table>\n",
       "<thead>\n",
       "<tr><th style=\"text-align: right;\">      Cumulative \n",
       "Return (%)</th><th style=\"text-align: right;\">     Maximum Earning \n",
       "Rate (%)</th><th style=\"text-align: right;\">        Maximum \n",
       "Pullback (%)</th><th style=\"text-align: right;\">        Average Profitability \n",
       "per Trade</th><th style=\"text-align: right;\">  Sharpe Ratio</th><th style=\"text-align: right;\">  Total Timesteps</th></tr>\n",
       "</thead>\n",
       "<tbody>\n",
       "<tr><td style=\"text-align: right;\">31.03</td><td style=\"text-align: right;\">34.6</td><td style=\"text-align: right;\">38.2155</td><td style=\"text-align: right;\">847.745</td><td style=\"text-align: right;\">        0.0887</td><td style=\"text-align: right;\">             1101</td></tr>\n",
       "</tbody>\n",
       "</table>"
      ]
     },
     "metadata": {},
     "output_type": "display_data"
    },
    {
     "data": {
      "text/html": [
       "<h3>Reward Function-CVaR | Strategy-PPOLSTM | Experiment 1</h3>\n"
      ]
     },
     "metadata": {},
     "output_type": "display_data"
    },
    {
     "data": {
      "text/html": [
       "<table>\n",
       "<thead>\n",
       "<tr><th style=\"text-align: right;\">      Cumulative \n",
       "Return (%)</th><th style=\"text-align: right;\">      Maximum Earning \n",
       "Rate (%)</th><th style=\"text-align: right;\">        Maximum \n",
       "Pullback (%)</th><th style=\"text-align: right;\">        Average Profitability \n",
       "per Trade</th><th style=\"text-align: right;\">  Sharpe Ratio</th><th style=\"text-align: right;\">  Total Timesteps</th></tr>\n",
       "</thead>\n",
       "<tbody>\n",
       "<tr><td style=\"text-align: right;\">32.67</td><td style=\"text-align: right;\">50.47</td><td style=\"text-align: right;\">39.6474</td><td style=\"text-align: right;\">892.585</td><td style=\"text-align: right;\">        0.0626</td><td style=\"text-align: right;\">             1101</td></tr>\n",
       "</tbody>\n",
       "</table>"
      ]
     },
     "metadata": {},
     "output_type": "display_data"
    },
    {
     "data": {
      "text/html": [
       "<h3>Strategy-RANDOM |  | Experiment 1</h3>\n"
      ]
     },
     "metadata": {},
     "output_type": "display_data"
    },
    {
     "data": {
      "text/html": [
       "<table>\n",
       "<thead>\n",
       "<tr><th style=\"text-align: right;\">      Cumulative \n",
       "Return (%)</th><th style=\"text-align: right;\">      Maximum Earning \n",
       "Rate (%)</th><th style=\"text-align: right;\">        Maximum \n",
       "Pullback (%)</th><th style=\"text-align: right;\">        Average Profitability \n",
       "per Trade</th><th style=\"text-align: right;\">  Sharpe Ratio</th><th style=\"text-align: right;\">  Total Timesteps</th></tr>\n",
       "</thead>\n",
       "<tbody>\n",
       "<tr><td style=\"text-align: right;\">21.49</td><td style=\"text-align: right;\">36.62</td><td style=\"text-align: right;\">39.8197</td><td style=\"text-align: right;\">587.184</td><td style=\"text-align: right;\">        0.0545</td><td style=\"text-align: right;\">             1101</td></tr>\n",
       "</tbody>\n",
       "</table>"
      ]
     },
     "metadata": {},
     "output_type": "display_data"
    },
    {
     "data": {
      "text/html": [
       "<h3>Reward Function-CVaR | Strategy-PPOLSTM | Experiment 1</h3>\n"
      ]
     },
     "metadata": {},
     "output_type": "display_data"
    },
    {
     "data": {
      "text/html": [
       "<table>\n",
       "<thead>\n",
       "<tr><th style=\"text-align: right;\">      Cumulative \n",
       "Return (%)</th><th style=\"text-align: right;\">      Maximum Earning \n",
       "Rate (%)</th><th style=\"text-align: right;\">        Maximum \n",
       "Pullback (%)</th><th style=\"text-align: right;\">        Average Profitability \n",
       "per Trade</th><th style=\"text-align: right;\">  Sharpe Ratio</th><th style=\"text-align: right;\">  Total Timesteps</th></tr>\n",
       "</thead>\n",
       "<tbody>\n",
       "<tr><td style=\"text-align: right;\">45.81</td><td style=\"text-align: right;\">49.65</td><td style=\"text-align: right;\">37.6276</td><td style=\"text-align: right;\">1251.59</td><td style=\"text-align: right;\">         0.103</td><td style=\"text-align: right;\">             1101</td></tr>\n",
       "</tbody>\n",
       "</table>"
      ]
     },
     "metadata": {},
     "output_type": "display_data"
    },
    {
     "data": {
      "text/html": [
       "<h3>Strategy-RANDOM |  | Experiment 1</h3>\n"
      ]
     },
     "metadata": {},
     "output_type": "display_data"
    },
    {
     "data": {
      "text/html": [
       "<table>\n",
       "<thead>\n",
       "<tr><th style=\"text-align: right;\">      Cumulative \n",
       "Return (%)</th><th style=\"text-align: right;\">      Maximum Earning \n",
       "Rate (%)</th><th style=\"text-align: right;\">        Maximum \n",
       "Pullback (%)</th><th style=\"text-align: right;\">        Average Profitability \n",
       "per Trade</th><th style=\"text-align: right;\">  Sharpe Ratio</th><th style=\"text-align: right;\">  Total Timesteps</th></tr>\n",
       "</thead>\n",
       "<tbody>\n",
       "<tr><td style=\"text-align: right;\">36.29</td><td style=\"text-align: right;\">41.54</td><td style=\"text-align: right;\">33.9739</td><td style=\"text-align: right;\">991.623</td><td style=\"text-align: right;\">        0.0986</td><td style=\"text-align: right;\">             1101</td></tr>\n",
       "</tbody>\n",
       "</table>"
      ]
     },
     "metadata": {},
     "output_type": "display_data"
    },
    {
     "data": {
      "text/html": [
       "<h3>Reward Function-CVaR | Strategy-PPOLSTM | Experiment 1</h3>\n"
      ]
     },
     "metadata": {},
     "output_type": "display_data"
    },
    {
     "data": {
      "text/html": [
       "<table>\n",
       "<thead>\n",
       "<tr><th style=\"text-align: right;\">      Cumulative \n",
       "Return (%)</th><th style=\"text-align: right;\">      Maximum Earning \n",
       "Rate (%)</th><th style=\"text-align: right;\">        Maximum \n",
       "Pullback (%)</th><th style=\"text-align: right;\">        Average Profitability \n",
       "per Trade</th><th style=\"text-align: right;\">  Sharpe Ratio</th><th style=\"text-align: right;\">  Total Timesteps</th></tr>\n",
       "</thead>\n",
       "<tbody>\n",
       "<tr><td style=\"text-align: right;\">27.45</td><td style=\"text-align: right;\">33.49</td><td style=\"text-align: right;\">23.4947</td><td style=\"text-align: right;\">750.062</td><td style=\"text-align: right;\">        0.0703</td><td style=\"text-align: right;\">             1101</td></tr>\n",
       "</tbody>\n",
       "</table>"
      ]
     },
     "metadata": {},
     "output_type": "display_data"
    },
    {
     "data": {
      "text/html": [
       "<h3>Strategy-RANDOM |  | Experiment 1</h3>\n"
      ]
     },
     "metadata": {},
     "output_type": "display_data"
    },
    {
     "data": {
      "text/html": [
       "<table>\n",
       "<thead>\n",
       "<tr><th style=\"text-align: right;\">      Cumulative \n",
       "Return (%)</th><th style=\"text-align: right;\">      Maximum Earning \n",
       "Rate (%)</th><th style=\"text-align: right;\">        Maximum \n",
       "Pullback (%)</th><th style=\"text-align: right;\">        Average Profitability \n",
       "per Trade</th><th style=\"text-align: right;\">  Sharpe Ratio</th><th style=\"text-align: right;\">  Total Timesteps</th></tr>\n",
       "</thead>\n",
       "<tbody>\n",
       "<tr><td style=\"text-align: right;\">23.92</td><td style=\"text-align: right;\">28.94</td><td style=\"text-align: right;\">36.9573</td><td style=\"text-align: right;\">653.531</td><td style=\"text-align: right;\">        0.0686</td><td style=\"text-align: right;\">             1101</td></tr>\n",
       "</tbody>\n",
       "</table>"
      ]
     },
     "metadata": {},
     "output_type": "display_data"
    },
    {
     "data": {
      "text/html": [
       "<h3>Reward Function-CVaR | Strategy-PPOLSTM | Experiment 1</h3>\n"
      ]
     },
     "metadata": {},
     "output_type": "display_data"
    },
    {
     "data": {
      "text/html": [
       "<table>\n",
       "<thead>\n",
       "<tr><th style=\"text-align: right;\">      Cumulative \n",
       "Return (%)</th><th style=\"text-align: right;\">      Maximum Earning \n",
       "Rate (%)</th><th style=\"text-align: right;\">        Maximum \n",
       "Pullback (%)</th><th style=\"text-align: right;\">        Average Profitability \n",
       "per Trade</th><th style=\"text-align: right;\">  Sharpe Ratio</th><th style=\"text-align: right;\">  Total Timesteps</th></tr>\n",
       "</thead>\n",
       "<tbody>\n",
       "<tr><td style=\"text-align: right;\">27.81</td><td style=\"text-align: right;\">41.19</td><td style=\"text-align: right;\">47.9447</td><td style=\"text-align: right;\">759.766</td><td style=\"text-align: right;\">        0.0618</td><td style=\"text-align: right;\">             1101</td></tr>\n",
       "</tbody>\n",
       "</table>"
      ]
     },
     "metadata": {},
     "output_type": "display_data"
    },
    {
     "data": {
      "text/html": [
       "<h3>Strategy-RANDOM |  | Experiment 1</h3>\n"
      ]
     },
     "metadata": {},
     "output_type": "display_data"
    },
    {
     "data": {
      "text/html": [
       "<table>\n",
       "<thead>\n",
       "<tr><th style=\"text-align: right;\">      Cumulative \n",
       "Return (%)</th><th style=\"text-align: right;\">      Maximum Earning \n",
       "Rate (%)</th><th style=\"text-align: right;\">        Maximum \n",
       "Pullback (%)</th><th style=\"text-align: right;\">        Average Profitability \n",
       "per Trade</th><th style=\"text-align: right;\">  Sharpe Ratio</th><th style=\"text-align: right;\">  Total Timesteps</th></tr>\n",
       "</thead>\n",
       "<tbody>\n",
       "<tr><td style=\"text-align: right;\">27.16</td><td style=\"text-align: right;\">36.98</td><td style=\"text-align: right;\">28.2452</td><td style=\"text-align: right;\">741.993</td><td style=\"text-align: right;\">        0.0774</td><td style=\"text-align: right;\">             1101</td></tr>\n",
       "</tbody>\n",
       "</table>"
      ]
     },
     "metadata": {},
     "output_type": "display_data"
    },
    {
     "data": {
      "text/html": [
       "<h3>Reward Function-CVaR | Strategy-PPOLSTM | Experiment 1</h3>\n"
      ]
     },
     "metadata": {},
     "output_type": "display_data"
    },
    {
     "data": {
      "text/html": [
       "<table>\n",
       "<thead>\n",
       "<tr><th style=\"text-align: right;\">      Cumulative \n",
       "Return (%)</th><th style=\"text-align: right;\">     Maximum Earning \n",
       "Rate (%)</th><th style=\"text-align: right;\">        Maximum \n",
       "Pullback (%)</th><th style=\"text-align: right;\">        Average Profitability \n",
       "per Trade</th><th style=\"text-align: right;\">  Sharpe Ratio</th><th style=\"text-align: right;\">  Total Timesteps</th></tr>\n",
       "</thead>\n",
       "<tbody>\n",
       "<tr><td style=\"text-align: right;\">51.92</td><td style=\"text-align: right;\">60.4</td><td style=\"text-align: right;\">28.7346</td><td style=\"text-align: right;\">1418.68</td><td style=\"text-align: right;\">        0.1141</td><td style=\"text-align: right;\">             1101</td></tr>\n",
       "</tbody>\n",
       "</table>"
      ]
     },
     "metadata": {},
     "output_type": "display_data"
    },
    {
     "data": {
      "text/html": [
       "<h3>Strategy-RANDOM |  | Experiment 1</h3>\n"
      ]
     },
     "metadata": {},
     "output_type": "display_data"
    },
    {
     "data": {
      "text/html": [
       "<table>\n",
       "<thead>\n",
       "<tr><th style=\"text-align: right;\">      Cumulative \n",
       "Return (%)</th><th style=\"text-align: right;\">      Maximum Earning \n",
       "Rate (%)</th><th style=\"text-align: right;\">        Maximum \n",
       "Pullback (%)</th><th style=\"text-align: right;\">        Average Profitability \n",
       "per Trade</th><th style=\"text-align: right;\">  Sharpe Ratio</th><th style=\"text-align: right;\">  Total Timesteps</th></tr>\n",
       "</thead>\n",
       "<tbody>\n",
       "<tr><td style=\"text-align: right;\">28.02</td><td style=\"text-align: right;\">35.67</td><td style=\"text-align: right;\">39.8055</td><td style=\"text-align: right;\">765.473</td><td style=\"text-align: right;\">        0.0796</td><td style=\"text-align: right;\">             1101</td></tr>\n",
       "</tbody>\n",
       "</table>"
      ]
     },
     "metadata": {},
     "output_type": "display_data"
    },
    {
     "data": {
      "text/html": [
       "<h3>Reward Function-CVaR | Strategy-PPOLSTM | Experiment 1</h3>\n"
      ]
     },
     "metadata": {},
     "output_type": "display_data"
    },
    {
     "data": {
      "text/html": [
       "<table>\n",
       "<thead>\n",
       "<tr><th style=\"text-align: right;\">      Cumulative \n",
       "Return (%)</th><th style=\"text-align: right;\">      Maximum Earning \n",
       "Rate (%)</th><th style=\"text-align: right;\">       Maximum \n",
       "Pullback (%)</th><th style=\"text-align: right;\">        Average Profitability \n",
       "per Trade</th><th style=\"text-align: right;\">  Sharpe Ratio</th><th style=\"text-align: right;\">  Total Timesteps</th></tr>\n",
       "</thead>\n",
       "<tbody>\n",
       "<tr><td style=\"text-align: right;\">19.24</td><td style=\"text-align: right;\">27.42</td><td style=\"text-align: right;\">20.753</td><td style=\"text-align: right;\">525.577</td><td style=\"text-align: right;\">         0.058</td><td style=\"text-align: right;\">             1101</td></tr>\n",
       "</tbody>\n",
       "</table>"
      ]
     },
     "metadata": {},
     "output_type": "display_data"
    },
    {
     "data": {
      "text/html": [
       "<h3>Strategy-RANDOM |  | Experiment 1</h3>\n"
      ]
     },
     "metadata": {},
     "output_type": "display_data"
    },
    {
     "data": {
      "text/html": [
       "<table>\n",
       "<thead>\n",
       "<tr><th style=\"text-align: right;\">     Cumulative \n",
       "Return (%)</th><th style=\"text-align: right;\">      Maximum Earning \n",
       "Rate (%)</th><th style=\"text-align: right;\">        Maximum \n",
       "Pullback (%)</th><th style=\"text-align: right;\">       Average Profitability \n",
       "per Trade</th><th style=\"text-align: right;\">  Sharpe Ratio</th><th style=\"text-align: right;\">  Total Timesteps</th></tr>\n",
       "</thead>\n",
       "<tbody>\n",
       "<tr><td style=\"text-align: right;\">30.8</td><td style=\"text-align: right;\">38.02</td><td style=\"text-align: right;\">27.1622</td><td style=\"text-align: right;\">841.58</td><td style=\"text-align: right;\">        0.0805</td><td style=\"text-align: right;\">             1101</td></tr>\n",
       "</tbody>\n",
       "</table>"
      ]
     },
     "metadata": {},
     "output_type": "display_data"
    },
    {
     "data": {
      "text/html": [
       "<h3>Reward Function-CVaR | Strategy-PPOLSTM | Experiment 1</h3>\n"
      ]
     },
     "metadata": {},
     "output_type": "display_data"
    },
    {
     "data": {
      "text/html": [
       "<table>\n",
       "<thead>\n",
       "<tr><th style=\"text-align: right;\">      Cumulative \n",
       "Return (%)</th><th style=\"text-align: right;\">      Maximum Earning \n",
       "Rate (%)</th><th style=\"text-align: right;\">        Maximum \n",
       "Pullback (%)</th><th style=\"text-align: right;\">        Average Profitability \n",
       "per Trade</th><th style=\"text-align: right;\">  Sharpe Ratio</th><th style=\"text-align: right;\">  Total Timesteps</th></tr>\n",
       "</thead>\n",
       "<tbody>\n",
       "<tr><td style=\"text-align: right;\">13.99</td><td style=\"text-align: right;\">19.43</td><td style=\"text-align: right;\">20.2421</td><td style=\"text-align: right;\">382.331</td><td style=\"text-align: right;\">        0.0429</td><td style=\"text-align: right;\">             1101</td></tr>\n",
       "</tbody>\n",
       "</table>"
      ]
     },
     "metadata": {},
     "output_type": "display_data"
    },
    {
     "data": {
      "text/html": [
       "<h3>Strategy-RANDOM |  | Experiment 1</h3>\n"
      ]
     },
     "metadata": {},
     "output_type": "display_data"
    },
    {
     "data": {
      "text/html": [
       "<table>\n",
       "<thead>\n",
       "<tr><th style=\"text-align: right;\">      Cumulative \n",
       "Return (%)</th><th style=\"text-align: right;\">      Maximum Earning \n",
       "Rate (%)</th><th style=\"text-align: right;\">        Maximum \n",
       "Pullback (%)</th><th style=\"text-align: right;\">        Average Profitability \n",
       "per Trade</th><th style=\"text-align: right;\">  Sharpe Ratio</th><th style=\"text-align: right;\">  Total Timesteps</th></tr>\n",
       "</thead>\n",
       "<tbody>\n",
       "<tr><td style=\"text-align: right;\">28.35</td><td style=\"text-align: right;\">37.85</td><td style=\"text-align: right;\">40.9794</td><td style=\"text-align: right;\">774.595</td><td style=\"text-align: right;\">        0.0775</td><td style=\"text-align: right;\">             1101</td></tr>\n",
       "</tbody>\n",
       "</table>"
      ]
     },
     "metadata": {},
     "output_type": "display_data"
    },
    {
     "data": {
      "text/html": [
       "<h3>Reward Function-CVaR | Strategy-PPOLSTM | Experiment 1</h3>\n"
      ]
     },
     "metadata": {},
     "output_type": "display_data"
    },
    {
     "data": {
      "text/html": [
       "<table>\n",
       "<thead>\n",
       "<tr><th style=\"text-align: right;\">      Cumulative \n",
       "Return (%)</th><th style=\"text-align: right;\">      Maximum Earning \n",
       "Rate (%)</th><th style=\"text-align: right;\">        Maximum \n",
       "Pullback (%)</th><th style=\"text-align: right;\">        Average Profitability \n",
       "per Trade</th><th style=\"text-align: right;\">  Sharpe Ratio</th><th style=\"text-align: right;\">  Total Timesteps</th></tr>\n",
       "</thead>\n",
       "<tbody>\n",
       "<tr><td style=\"text-align: right;\">45.85</td><td style=\"text-align: right;\">55.09</td><td style=\"text-align: right;\">35.6772</td><td style=\"text-align: right;\">1252.74</td><td style=\"text-align: right;\">        0.1069</td><td style=\"text-align: right;\">             1101</td></tr>\n",
       "</tbody>\n",
       "</table>"
      ]
     },
     "metadata": {},
     "output_type": "display_data"
    },
    {
     "data": {
      "text/html": [
       "<h3>Strategy-RANDOM |  | Experiment 1</h3>\n"
      ]
     },
     "metadata": {},
     "output_type": "display_data"
    },
    {
     "data": {
      "text/html": [
       "<table>\n",
       "<thead>\n",
       "<tr><th style=\"text-align: right;\">      Cumulative \n",
       "Return (%)</th><th style=\"text-align: right;\">      Maximum Earning \n",
       "Rate (%)</th><th style=\"text-align: right;\">       Maximum \n",
       "Pullback (%)</th><th style=\"text-align: right;\">        Average Profitability \n",
       "per Trade</th><th style=\"text-align: right;\">  Sharpe Ratio</th><th style=\"text-align: right;\">  Total Timesteps</th></tr>\n",
       "</thead>\n",
       "<tbody>\n",
       "<tr><td style=\"text-align: right;\">26.75</td><td style=\"text-align: right;\">33.77</td><td style=\"text-align: right;\">28.041</td><td style=\"text-align: right;\">730.901</td><td style=\"text-align: right;\">        0.0747</td><td style=\"text-align: right;\">             1101</td></tr>\n",
       "</tbody>\n",
       "</table>"
      ]
     },
     "metadata": {},
     "output_type": "display_data"
    },
    {
     "data": {
      "text/html": [
       "<h3>Reward Function-CVaR | Strategy-PPOLSTM | Experiment 1</h3>\n"
      ]
     },
     "metadata": {},
     "output_type": "display_data"
    },
    {
     "data": {
      "text/html": [
       "<table>\n",
       "<thead>\n",
       "<tr><th style=\"text-align: right;\">      Cumulative \n",
       "Return (%)</th><th style=\"text-align: right;\">      Maximum Earning \n",
       "Rate (%)</th><th style=\"text-align: right;\">        Maximum \n",
       "Pullback (%)</th><th style=\"text-align: right;\">        Average Profitability \n",
       "per Trade</th><th style=\"text-align: right;\">  Sharpe Ratio</th><th style=\"text-align: right;\">  Total Timesteps</th></tr>\n",
       "</thead>\n",
       "<tbody>\n",
       "<tr><td style=\"text-align: right;\">11.61</td><td style=\"text-align: right;\">24.16</td><td style=\"text-align: right;\">44.9977</td><td style=\"text-align: right;\">317.251</td><td style=\"text-align: right;\">        0.0375</td><td style=\"text-align: right;\">             1101</td></tr>\n",
       "</tbody>\n",
       "</table>"
      ]
     },
     "metadata": {},
     "output_type": "display_data"
    },
    {
     "data": {
      "text/html": [
       "<h3>Strategy-RANDOM |  | Experiment 1</h3>\n"
      ]
     },
     "metadata": {},
     "output_type": "display_data"
    },
    {
     "data": {
      "text/html": [
       "<table>\n",
       "<thead>\n",
       "<tr><th style=\"text-align: right;\">      Cumulative \n",
       "Return (%)</th><th style=\"text-align: right;\">      Maximum Earning \n",
       "Rate (%)</th><th style=\"text-align: right;\">        Maximum \n",
       "Pullback (%)</th><th style=\"text-align: right;\">        Average Profitability \n",
       "per Trade</th><th style=\"text-align: right;\">  Sharpe Ratio</th><th style=\"text-align: right;\">  Total Timesteps</th></tr>\n",
       "</thead>\n",
       "<tbody>\n",
       "<tr><td style=\"text-align: right;\">19.56</td><td style=\"text-align: right;\">24.61</td><td style=\"text-align: right;\">33.9912</td><td style=\"text-align: right;\">534.306</td><td style=\"text-align: right;\">        0.0575</td><td style=\"text-align: right;\">             1101</td></tr>\n",
       "</tbody>\n",
       "</table>"
      ]
     },
     "metadata": {},
     "output_type": "display_data"
    },
    {
     "data": {
      "text/html": [
       "<h3>Reward Function-CVaR | Strategy-PPOLSTM | Experiment 1</h3>\n"
      ]
     },
     "metadata": {},
     "output_type": "display_data"
    },
    {
     "data": {
      "text/html": [
       "<table>\n",
       "<thead>\n",
       "<tr><th style=\"text-align: right;\">      Cumulative \n",
       "Return (%)</th><th style=\"text-align: right;\">      Maximum Earning \n",
       "Rate (%)</th><th style=\"text-align: right;\">        Maximum \n",
       "Pullback (%)</th><th style=\"text-align: right;\">       Average Profitability \n",
       "per Trade</th><th style=\"text-align: right;\">  Sharpe Ratio</th><th style=\"text-align: right;\">  Total Timesteps</th></tr>\n",
       "</thead>\n",
       "<tbody>\n",
       "<tr><td style=\"text-align: right;\">41.56</td><td style=\"text-align: right;\">46.93</td><td style=\"text-align: right;\">22.3495</td><td style=\"text-align: right;\">1135.5</td><td style=\"text-align: right;\">        0.1045</td><td style=\"text-align: right;\">             1101</td></tr>\n",
       "</tbody>\n",
       "</table>"
      ]
     },
     "metadata": {},
     "output_type": "display_data"
    },
    {
     "data": {
      "text/html": [
       "<h3>Strategy-RANDOM |  | Experiment 1</h3>\n"
      ]
     },
     "metadata": {},
     "output_type": "display_data"
    },
    {
     "data": {
      "text/html": [
       "<table>\n",
       "<thead>\n",
       "<tr><th style=\"text-align: right;\">      Cumulative \n",
       "Return (%)</th><th style=\"text-align: right;\">      Maximum Earning \n",
       "Rate (%)</th><th style=\"text-align: right;\">        Maximum \n",
       "Pullback (%)</th><th style=\"text-align: right;\">        Average Profitability \n",
       "per Trade</th><th style=\"text-align: right;\">  Sharpe Ratio</th><th style=\"text-align: right;\">  Total Timesteps</th></tr>\n",
       "</thead>\n",
       "<tbody>\n",
       "<tr><td style=\"text-align: right;\">29.23</td><td style=\"text-align: right;\">37.16</td><td style=\"text-align: right;\">30.7821</td><td style=\"text-align: right;\">798.631</td><td style=\"text-align: right;\">        0.0831</td><td style=\"text-align: right;\">             1101</td></tr>\n",
       "</tbody>\n",
       "</table>"
      ]
     },
     "metadata": {},
     "output_type": "display_data"
    },
    {
     "data": {
      "image/png": "[encoded data removed]",
      "text/plain": [
       "<Figure size 1200x600 with 1 Axes>"
      ]
     },
     "metadata": {},
     "output_type": "display_data"
    },
    {
     "name": "stderr",
     "output_type": "stream",
     "text": [
      "C:\\Users\\bluem\\AppData\\Local\\Temp\\ipykernel_40336\\2909671760.py:48: UserWarning: No artists with labels found to put in legend.  Note that artists whose label start with an underscore are ignored when legend() is called with no argument.\n",
      "  plt.legend()\n"
     ]
    },
    {
     "data": {
      "image/png": "[encoded data removed]",
      "text/plain": [
       "<Figure size 1200x600 with 1 Axes>"
      ]
     },
     "metadata": {},
     "output_type": "display_data"
    },
    {
     "name": "stdout",
     "output_type": "stream",
     "text": [
      "==================================================\n"
     ]
    }
   ],
   "source": [
    "# REMEMBER TO VARY BUT REPEAT SEEDS\n",
    "# To test:\n",
    "# Exp 1:\n",
    "# RF: RiskAversion = 0.25, DSR = 0.1. LogRet\n",
    "# Output Size = 256\n",
    "# Frequency = 36\n",
    "# Envs = 3\n",
    "# LR = 5e-4\n",
    "\n",
    "# Exp 2:\n",
    "# RF: RiskAversion = 0.5, 1.5, CVaR, LogRet\n",
    "# Output Size = 1024\n",
    "# Frequency = 36\n",
    "# Envs = 0\n",
    "# LR = 3e-4\n",
    "\n",
    "REPEATS = 10\n",
    "\n",
    "# Experiment 1\n",
    "EXP_1_CONFIG = {\"Reward\" : [\"Standard Logarithmic Returns\", \"Differential Sharpe Ratio_0.1\", \"CVaR\"],\n",
    "                \"LSTM Output Size\" : 256, \n",
    "                \"Frequency\" : 36,\n",
    "                \"Environments\" : 3,\n",
    "                \"Learning Rate\" : 5e-4,\n",
    "                }\n",
    "EXP_2_CONFIG = {\"Reward\" : [\"Standard Logarithmic Returns\", \"CVaR_0.5\", \"CVaR_1.5\"],\n",
    "                \"LSTM Output Size\" : 1024, \n",
    "                \"Frequency\" : 36,\n",
    "                \"Environments\" : 0,\n",
    "                \"Learning Rate\" : 3e-4,\n",
    "                }\n",
    "\n",
    "\n",
    "CONFIG_1 = True\n",
    "CONFIG_2 = False\n",
    "\n",
    "def runFinal():\n",
    "    #terrible code forgive me\n",
    "    global allResults \n",
    "    allResults = defaultdict(list)\n",
    "    # Configuration 1\n",
    "    if CONFIG_1:\n",
    "        print(\"=\" * 50)\n",
    "        TESTING[\"REWARD FUNCTION\"] = True\n",
    "        for r in EXP_1_CONFIG[\"Reward\"]:\n",
    "            trainingLoop(\n",
    "            riskAversion=(0.25 if r == \"CVaR\" else 0),\n",
    "            rewardFunction=r,\n",
    "            freq=EXP_1_CONFIG[\"Frequency\"],\n",
    "            parr=EXP_1_CONFIG[\"Environments\"],\n",
    "            lstmOutputSize=EXP_1_CONFIG[\"LSTM Output Size\"],\n",
    "            lr=EXP_1_CONFIG[\"Learning Rate\"],\n",
    "            expers=(0, 1),\n",
    "            conf = \"Reward Function-\" + r + \" | \" + \"Strategy-PPOLSTM\" + \" | \" + \"Experiment 1\",\n",
    "        )\n",
    "        plotPerformance(\"REWARD FUNCTION\", \"SecondLast\")\n",
    "        TESTING[\"REWARD FUNCTION\"] = False\n",
    "        print(\"=\" * 50)\n",
    "\n",
    "    allResults = defaultdict(list)\n",
    "\n",
    "    if CONFIG_2:\n",
    "        # Configuration 2\n",
    "        print(\"=\" * 50)\n",
    "        TESTING[\"REWARD FUNCTION\"] = True\n",
    "        for r in EXP_2_CONFIG[\"Reward\"]:\n",
    "            trainingLoop(\n",
    "            riskAversion=(float(r.split(\"_\")[1]) if r.split(\"_\")[0] == \"CVaR\" else 0),\n",
    "            rewardFunction=r.split(\"_\")[0],\n",
    "            freq=EXP_2_CONFIG[\"Frequency\"],\n",
    "            parr=EXP_2_CONFIG[\"Environments\"],\n",
    "            lstmOutputSize=EXP_2_CONFIG[\"LSTM Output Size\"],\n",
    "            lr=EXP_2_CONFIG[\"Learning Rate\"],\n",
    "            expers=(1, 2),\n",
    "            conf = \"Reward Function-\" + r + \" | \" + \"Strategy-PPOLSTM\" + \" | \" + \"Experiment 2\",\n",
    "        )\n",
    "        plotPerformance(\"REWARD FUNCTION\", \"ThirdLast\")\n",
    "        TESTING[\"REWARD FUNCTION\"] = False\n",
    "        print(\"=\" * 50)\n",
    "    \n",
    "    tabulateResults()\n",
    "\n",
    "RUN_FINAL = True\n",
    "if RUN_FINAL:\n",
    "    runFinal()\n"
   ]
  }
 ],
 "metadata": {
  "kernelspec": {
   "display_name": "Python 3",
   "language": "python",
   "name": "python3"
  },
  "language_info": {
   "codemirror_mode": {
    "name": "ipython",
    "version": 3
   },
   "file_extension": ".py",
   "mimetype": "text/x-python",
   "name": "python",
   "nbconvert_exporter": "python",
   "pygments_lexer": "ipython3",
   "version": "3.12.10"
  }
 },
 "nbformat": 4,
 "nbformat_minor": 2
}
