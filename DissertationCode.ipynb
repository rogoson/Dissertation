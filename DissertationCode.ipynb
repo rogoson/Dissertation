{
 "cells": [
  {
   "cell_type": "markdown",
   "metadata": {},
   "source": [
    "## 1. Collect Basic Data"
   ]
  },
  {
   "cell_type": "markdown",
   "metadata": {},
   "source": [
    "### Retrieve CryptoCurrency Market Data ###"
   ]
  },
  {
   "cell_type": "code",
   "execution_count": 69,
   "metadata": {},
   "outputs": [],
   "source": [
    "import pandas as pd\n",
    "import yfinance as yf\n",
    "from functools import reduce\n",
    "import requests\n",
    "import time\n",
    "import numpy as np\n",
    "from datetime import datetime, timedelta\n",
    "import matplotlib.pyplot as plt\n",
    "\n",
    "\n",
    "CRYPTO = False\n",
    "\n",
    "# Crypto Details\n",
    "cryptoProducts = [\"ETH-USD\", \"USDT-USD\", \"BTC-USD\"]\n",
    "availableGranularities = dict(zip([\"1M\", \"5M\", \"15M\", \"1H\", \"6H\", \"1D\"], [60, 300, 900, 3600, 21600, 86400]))\n",
    "\n",
    "# Stock Details\n",
    "dowTickers = [\"AAPL\", \"MSFT\", \"GOOGL\", \"TSLA\", \"AMZN\", \"NVDA\"]  \n",
    "sse50Tickers = [\"600519.SS\", \"601318.SS\", \"601857.SS\", \"600036.SS\", \"600016.SS\", \"600000.SS\"]  \n",
    "sensexTickers = [\"RELIANCE.BO\", \"TCS.BO\", \"INFY.BO\", \"ICICIBANK.BO\", \"SBIN.BO\", \"HINDUNILVR.BO\"] \n",
    "ftse100Tickers = [\"HSBA.L\", \"BP.L\", \"GSK.L\", \"SHEL.L\", \"BATS.L\", \"ULVR.L\"]  \n",
    "period = \"1D\"\n",
    "indexProducts = dowTickers + sse50Tickers + sensexTickers + ftse100Tickers\n",
    "productIds = indexProducts\n",
    "\n",
    "if CRYPTO:\n",
    "    productIds = cryptoProducts\n",
    "    period = \"6H\"\n",
    "    granularity = availableGranularities[period]\n",
    "    API_THRESHOLD = 300 #Can only get 300 periods at a time from API\n",
    "    PERIODS_WANTED = 2500\n",
    "\n",
    "# not a chance\n",
    "def retrieveCryptoData(productID, granularity, daysBack, endTime):\n",
    "    API_URL = f\"https://api.exchange.coinbase.com/products/{productID}/candles\"\n",
    "    daysBackDaysAgo = timedelta(days=daysBack)\n",
    "    startTime = datetime.fromisoformat(endTime) - (granularity/86400) * daysBackDaysAgo\n",
    "\n",
    "    # Convert to isoformat\n",
    "    startTime = startTime.isoformat()\n",
    "\n",
    "    # Set Request Parameters\n",
    "    parameters = {\n",
    "        \"start\" : startTime,\n",
    "        \"end\" : endTime,\n",
    "        \"granularity\" : str(granularity)\n",
    "    }\n",
    "\n",
    "    # Actually get data\n",
    "    data = requests.get(API_URL, params = parameters, headers = {\"content-type\":\"application/json\"})\n",
    "    df = pd.DataFrame(data.json(), columns=[\"time\", \"low\", \"high\", \"open\", \"close\", \"volume\"])\n",
    "    return df\n",
    "\n",
    "\n",
    "def retrieveIndexData(ticker):\n",
    "    # Define date range\n",
    "    startDate = \"2009-01-01\"\n",
    "    endDate = \"2020-08-05\"\n",
    "\n",
    "    ohlcData = {}\n",
    "    try:\n",
    "        stockData = yf.download(ticker, start=startDate, end=endDate)\n",
    "        ohlcData[ticker] = stockData[[\"Low\", \"High\", \"Open\", \"Close\", \"Volume\"]]\n",
    "    except Exception as e:\n",
    "        print(f\"Error fetching data for {ticker}: {e}\")\n",
    "\n",
    "    dfOhlc = pd.concat(ohlcData, axis=1)\n",
    "    return dfOhlc\n",
    "\n",
    "\n",
    "dataframes = dict()\n",
    "RETRIEVE_DATA = False\n",
    "\n",
    "if RETRIEVE_DATA:\n",
    "    for productId in productIds:\n",
    "        if CRYPTO:\n",
    "            # Fetch PERIODS_WANTED periods of data\n",
    "            end = (datetime.now()).isoformat()\n",
    "            for batch in range(PERIODS_WANTED // API_THRESHOLD  + 1):\n",
    "                amountToFetch = PERIODS_WANTED % API_THRESHOLD if batch == PERIODS_WANTED // API_THRESHOLD else API_THRESHOLD\n",
    "                tempDF = retrieveCryptoData(productId, granularity, amountToFetch, end)\n",
    "                timeInSeconds = (tempDF['time'].values)[-1]\n",
    "                dt = datetime.fromtimestamp(timeInSeconds - granularity)\n",
    "                end = dt.isoformat() + 'Z'\n",
    "                value = dataframes.get(productId)\n",
    "                if productId not in dataframes:\n",
    "                    dataframes[productId] = tempDF[::-1]\n",
    "                else:\n",
    "                    dataframes[productId] = pd.concat([tempDF[::-1], dataframes[productId]])\n",
    "        else:\n",
    "            dataframe = retrieveIndexData(ticker=productId)\n",
    "            columnNames = [value[1].lower() for value in list(dataframe.columns.values)]\n",
    "            dataframe.columns = columnNames\n",
    "            dataframes[productId] = dataframe\n",
    "   \n",
    "# Required for index data that pull stock data from different exchanges\n",
    "def commonaliseData(data):\n",
    "    commonDates = reduce(lambda x, y: x.intersection(y), [df.index for df in data.values()])\n",
    "    for ticker, df in data.items():\n",
    "        data[ticker] = df.reindex(commonDates)\n",
    "        data[ticker][\"Times\"] = commonDates\n",
    "    data = {ticker: df.dropna() for ticker, df in data.items()}\n",
    "    PERIODS_WANTED = data.get(indexProducts[0]).shape[0]\n",
    "    return data\n",
    "\n",
    "if not CRYPTO and RETRIEVE_DATA:\n",
    "    dataframes = commonaliseData(dataframes)"
   ]
  },
  {
   "cell_type": "code",
   "execution_count": 70,
   "metadata": {},
   "outputs": [],
   "source": [
    "TEST_CORRECT_ORDER = False\n",
    "\n",
    "if TEST_CORRECT_ORDER:\n",
    "    testTime = dataframes[productIds[0]]['time'].values\n",
    "    testTime -= testTime[0]\n",
    "    plt.figure(figsize=(10, 6))\n",
    "    plt.plot(testTime, color=\"blue\")\n",
    "    plt.title(f\"Test Correct Order\")\n",
    "    plt.xlabel(\"Time\")\n",
    "    plt.ylabel(\"Price\")\n",
    "    plt.show()"
   ]
  },
  {
   "cell_type": "markdown",
   "metadata": {},
   "source": [
    "## 2. Augment State Space (add indicators)"
   ]
  },
  {
   "cell_type": "markdown",
   "metadata": {},
   "source": [
    "### Indicator 1: Exponential Moving Average ###"
   ]
  },
  {
   "cell_type": "code",
   "execution_count": 71,
   "metadata": {},
   "outputs": [],
   "source": [
    "import matplotlib.pyplot as plt\n",
    "\n",
    "def EMA(array, N):\n",
    "    \"\"\"\n",
    "    EMA_t = (Price_t * α) + (EMA_(t-1) * (1 - α))\n",
    "    where:\n",
    "    EMA_t = Exponential Moving Average at time t\n",
    "    Price_t = Price at time t\n",
    "    α (alpha) = Smoothing factor, calculated as 2 / (N + 1)\n",
    "    N = Number of periods\n",
    "    \"\"\"\n",
    "    smoothingParameter = 2/(N + 1)\n",
    "    finalArray = [array[0]]\n",
    "    for i in range(1, len(array)):\n",
    "        finalArray.append(array[i] * smoothingParameter + finalArray[i-1] * (1 - smoothingParameter))\n",
    "    return np.array(finalArray)\n",
    "\n",
    "# expMA = EMA(closingPrices, t)\n",
    "# plt.figure(figsize=(10, 6))\n",
    "# plt.plot(expMA, label=f\"Exponential Moving Average: T={t}\", color=\"red\")\n",
    "# plt.plot(closingPrices, label=\"Actual Closing Prices\", color=\"blue\")\n",
    "# plt.title(f\"Price Data\")\n",
    "# plt.xlabel(\"Time\")\n",
    "# plt.ylabel(\"Price\")\n",
    "# plt.legend()\n",
    "# plt.show()"
   ]
  },
  {
   "cell_type": "markdown",
   "metadata": {},
   "source": [
    "### Indicator 2: Momemtum"
   ]
  },
  {
   "cell_type": "code",
   "execution_count": 72,
   "metadata": {},
   "outputs": [],
   "source": [
    "def Momentum(array):\n",
    "    # Percentage Change in Price/Time\n",
    "    momentumArray = [(array[i] - array[i-1]) /array[i-1] for i in range(1, len(array))]\n",
    "    momentumArray.insert(0, np.nan)\n",
    "    return np.array(momentumArray)\n",
    "\n",
    "# momentum = Momentum(closingPrices)\n",
    "# plt.figure(figsize=(10, 6))\n",
    "# plt.plot(momentum*100, color=\"green\")\n",
    "# plt.title(f\"Momentum Data (as %)\")\n",
    "# plt.xlabel(\"Time\")\n",
    "# plt.ylabel(\"Momentum\")\n",
    "# plt.legend()\n",
    "# plt.show()"
   ]
  },
  {
   "cell_type": "markdown",
   "metadata": {},
   "source": [
    "### Indicator 3: Average True Range"
   ]
  },
  {
   "cell_type": "code",
   "execution_count": 73,
   "metadata": {},
   "outputs": [],
   "source": [
    "\n",
    "def trueRange(high, low, close):\n",
    "    # TR = Max[(H - L), |H - C|, |L - C|\n",
    "    closing = np.insert(close, 0, np.nan, axis=0)[:len(close)]\n",
    "    return np.maximum(high - low, np.abs(high - closing), np.abs(low - closing))\n",
    "\n",
    "def averageTrueRange(high, low, close, n=14):\n",
    "    trueRanges = trueRange(high, low, close)\n",
    "    atr = np.empty_like(trueRanges)\n",
    "    atr[:n] = np.nan  # First n values are NaN\n",
    "    atr[n-1] = np.mean(trueRanges[:n])  # Initial ATR value (simple average of the first n TRs)\n",
    "    for i in range(n+1, len(trueRanges)):\n",
    "        atr[i] = (atr[i-1] * (n - 1) + trueRanges[i]) / n\n",
    "    return atr\n",
    "\n",
    "# aTRIndicator = averageTrueRange(highs, lows, closingPrices)\n",
    "# plt.figure(figsize=(10, 6))\n",
    "# plt.plot(aTRIndicator, color=\"Brown\")\n",
    "# plt.title(f\"Average True Range over Time\")\n",
    "# plt.xlabel(\"Time\")\n",
    "# plt.ylabel(\"Average True Range\")\n",
    "# plt.legend()\n",
    "# plt.show()"
   ]
  },
  {
   "cell_type": "markdown",
   "metadata": {},
   "source": [
    "### Indicator 4: Commodity Channel Index"
   ]
  },
  {
   "cell_type": "code",
   "execution_count": 74,
   "metadata": {},
   "outputs": [],
   "source": [
    "def commodityChannelIndex(high, low, close, n=20):\n",
    "    # (Typical Price - 20_Day Moving Average) / .015 x Mean Deviation\n",
    "    typicalPrices = (high + low + close) / 3\n",
    "    \n",
    "    movingAverage = np.full_like(high, np.nan)\n",
    "    meanDeviation = np.full_like(high, np.nan)\n",
    "    \n",
    "    for i in range(n, len(typicalPrices)):\n",
    "        movingAverage[i] = np.mean(typicalPrices[i-n:i])\n",
    "        meanDeviation[i] = np.mean(np.abs(typicalPrices[i-n:i] - movingAverage[i]))\n",
    "    \n",
    "    cci = np.full_like(high, np.nan, dtype=np.float64)\n",
    "\n",
    "    numerator = typicalPrices[n:] - movingAverage[n:]\n",
    "    denominator = 0.015 * meanDeviation[n:]\n",
    "    result = np.empty_like(numerator)\n",
    "\n",
    "    np.divide(numerator, denominator, out=result, where=(denominator != 0))\n",
    "    # a little hacky...\n",
    "    result[denominator == 0] = 0\n",
    "\n",
    "    cci[n:] = result\n",
    "    return cci\n",
    "\n",
    "# # CCI = commodityChannelIndex(highs, lows, closingPrices)\n",
    "# # plt.figure(figsize=(10, 6))\n",
    "# # plt.plot(CCI, color=\"black\")\n",
    "# # plt.title(f\"Commodity Channel Index over Time\")\n",
    "# # plt.xlabel(\"Time\")\n",
    "# # plt.ylabel(\"Commodity Channel Index\")\n",
    "# # plt.legend()\n",
    "# # plt.show()"
   ]
  },
  {
   "cell_type": "markdown",
   "metadata": {},
   "source": [
    "### Indicator 5: MACD"
   ]
  },
  {
   "cell_type": "code",
   "execution_count": 75,
   "metadata": {},
   "outputs": [],
   "source": [
    "\"\"\"\n",
    "MACD = 12-day EMA - 26-day EMA\n",
    "Signal Line = 9-day EMA of MACD\n",
    "MACD Histogram = MACD - Signal Line\n",
    "where EMA stands for Exponential Moving Average\n",
    "\"\"\"\n",
    "\n",
    "def MACD(array):\n",
    "    return EMA(array, 12) - EMA(array, 26)\n",
    "\n",
    "def MACDSignal(array):\n",
    "    return EMA(MACD(array), 9)\n",
    "\n",
    "MACDHistogram = lambda x : MACD(x) - MACDSignal(x)\n",
    "\n",
    "# mACD = MACD(closingPrices)\n",
    "# signalLine = MACDSignal(closingPrices)\n",
    "# macdHistogram = MACDHistogram(mACD, signalLine)\n",
    "\n",
    "# plt.figure(figsize=(10, 6))\n",
    "# plt.plot(mACD, color=\"blue\", label = \"MACD Line\")\n",
    "# plt.plot(signalLine, color = \"red\", label = \"Signal Line\")\n",
    "# plt.plot(macdHistogram, color = \"black\", label = \"Histogram\")\n",
    "# plt.title(f\"Moving Average Convergence-Divergence\")\n",
    "# plt.xlabel(\"Time\")\n",
    "# plt.ylabel(\"MACD\")\n",
    "# plt.legend()\n",
    "# plt.show()"
   ]
  },
  {
   "cell_type": "markdown",
   "metadata": {},
   "source": [
    "## 3. Collate All Features Into DataFrame"
   ]
  },
  {
   "cell_type": "code",
   "execution_count": 76,
   "metadata": {},
   "outputs": [],
   "source": [
    "import os\n",
    "\n",
    "CCI_T, ATR_T = 20, 14\n",
    "if RETRIEVE_DATA:\n",
    "    for product in productIds:\n",
    "        df = dataframes[product]\n",
    "        close = df[\"close\"].values\n",
    "        highs = df[\"high\"].values\n",
    "        lows = df[\"low\"].values\n",
    "        df['E_M_A'] = EMA(close, N=30)\n",
    "        df['Momentum'] = Momentum(close)\n",
    "        df['Av_True_Range'] = averageTrueRange(highs, lows, close, 14)\n",
    "        df['CCI'] = commodityChannelIndex(highs, lows, close, 20)\n",
    "        df['MACDHist'] = MACDHistogram(close)\n",
    "        df[\"Return\"] = df[\"close\"].pct_change().fillna(0)\n",
    "        # Reset Indexes\n",
    "        df = df.drop(columns=['open', 'high', 'volume', 'low'])\n",
    "        df = df.iloc[max(ATR_T, CCI_T):]\n",
    "        df = df.reset_index(drop=True)\n",
    "        dataframes[product] = df\n",
    "        if not os.path.exists(\"CSVs/\"):\n",
    "            os.makedirs(\"CSVs/\")\n",
    "        df.to_csv(f\"CSVs/{product}_{period}_periods.csv\", sep='\\t')\n",
    "else:\n",
    "    for productId in productIds:\n",
    "        df = pd.read_csv(f\"CSVs/{productId}_{period}_periods.csv\", sep='\\t')\n",
    "        dataframes[productId] = df.iloc[:, 1:]  # Drops the first column\n",
    "\n",
    "times = None\n",
    "if not CRYPTO:\n",
    "    for product in productIds:\n",
    "        df = dataframes[product]\n",
    "        times = df['Times']\n",
    "        dataframes[product] = df.drop('Times', axis=1)"
   ]
  },
  {
   "cell_type": "markdown",
   "metadata": {},
   "source": [
    "## 4. Environment and Training Process"
   ]
  },
  {
   "cell_type": "markdown",
   "metadata": {},
   "source": [
    "### Comparison Strategies"
   ]
  },
  {
   "cell_type": "code",
   "execution_count": 77,
   "metadata": {},
   "outputs": [],
   "source": [
    "sse50BuyAndHold =  np.array([0] + [1/len(sse50Tickers) if i in sse50Tickers else 0 for i in productIds])\n",
    "sensexBuyAndHold = np.array([0] + [1/len(sensexTickers) if i in sensexTickers else 0 for i in productIds])\n",
    "ftse100BuyAndHold = np.array([0] + [1/len(ftse100Tickers) if i in ftse100Tickers else 0 for i in productIds])\n",
    "dowBuyAndHold = np.array([0] + [1/len(dowTickers) if i in dowTickers else 0 for i in productIds])\n",
    "buyAndHoldAll = np.array([0] + [1/(len(productIds)) for i in productIds])\n",
    "\n",
    "#Non\n",
    "NON_RL_COMPARISON_STRATEGIES = {\n",
    "    \"SSEBuyAndHold\" : sse50BuyAndHold,\n",
    "    \"SENSEXBuyAndHold\" : sensexBuyAndHold,\n",
    "    \"FTSEBuyAndHold\" : ftse100BuyAndHold,\n",
    "    \"DOWBuyAndHold\" : dowBuyAndHold,\n",
    "    \"BuyAndHoldAll\" : buyAndHoldAll\n",
    "}"
   ]
  },
  {
   "cell_type": "markdown",
   "metadata": {},
   "source": [
    "### Hyperparameters (most of them)"
   ]
  },
  {
   "cell_type": "code",
   "execution_count": 78,
   "metadata": {},
   "outputs": [],
   "source": [
    "from collections import defaultdict\n",
    "\n",
    "\n",
    "NUMBER_OF_ASSETS = len(productIds)\n",
    "NUMBER_OF_FEATURES = 1 + (len((list(dataframes.values())[0]).columns)) * len(productIds) + 1\n",
    "if not CRYPTO:\n",
    "    PERIODS_WANTED = list(dataframes.values())[0].shape[0]\n",
    "TRAINING_PERIODS = round(PERIODS_WANTED * 2 / 3)\n",
    "TESTING_PERIODS = PERIODS_WANTED - TRAINING_PERIODS\n",
    "EPISODE_LENGTH = PERIODS_WANTED // 3 \n",
    "TIMESTEP_SHIFT = EPISODE_LENGTH // 10\n",
    "TRAINING_WINDOWS = ((TRAINING_PERIODS - EPISODE_LENGTH) // TIMESTEP_SHIFT) + 1\n",
    "\n",
    "EPOCHS = 5\n",
    "TIME_WINDOW = 30\n",
    "\n",
    "START_CASH = 1000000\n",
    "LSTMHIDDENSIZE = 128\n",
    "\n",
    "BASELINE = [\"RANDOM\"]\n",
    "RL_STRATS = [\"PPOLSTM\"]\n",
    "FINAL_STRATEGIES = BASELINE + [\"SSEBuyAndHold\", \"SENSEXBuyAndHold\", \"FTSEBuyAndHold\", \"DOWBuyAndHold\", \"BuyAndHoldAll\"]\n",
    "\n",
    "AGENT_RISK_AVERSIONS = np.array([0.25, 0.5, 1, 1.5, 2]) #i know, this probably shouldn't go here\n",
    "LSTMOUTPUTSIZES = [64, 128, 256, 512, 1024]\n",
    "REWARD_FUNCTIONS = [\"Differential Sharpe Ratio_0.01\", \"Differential Sharpe Ratio_0.05\", \"Differential Sharpe Ratio_0.1\"]\n",
    "LEARNING_RATES = [1e-4, 3e-4, 5e-4, 7e-4]\n",
    "LEARNING_FREQUENCIES = (TRAINING_PERIODS / np.array([10, 20, 30, 40, 50])).astype(int)\n",
    "\n",
    "RANDOM_REPEATS = 200\n",
    "\n",
    "\n",
    "averagePerformance = defaultdict(list)\n",
    "allResults = defaultdict(list)\n",
    "performances = defaultdict(list) # one of these is probably obsolete"
   ]
  },
  {
   "cell_type": "code",
   "execution_count": 79,
   "metadata": {},
   "outputs": [],
   "source": [
    "PRICE_TRAINING_DATA = {}\n",
    "AGENT_TRAINING_DATA = {}\n",
    "PRICE_TESTING_DATA = {}\n",
    "AGENT_TESTING_DATA = {}\n",
    "\n",
    "for key, df in dataframes.items():\n",
    "    trainSlice = df.iloc[:TRAINING_PERIODS].copy()\n",
    "    testSlice = df.iloc[TRAINING_PERIODS:].copy()\n",
    "\n",
    "    PRICE_TRAINING_DATA[key] = trainSlice[\"Return\"].values\n",
    "    PRICE_TESTING_DATA[key]  = testSlice[\"Return\"].values\n",
    "\n",
    "    AGENT_TRAINING_DATA[key] = (trainSlice - trainSlice.mean()) / trainSlice.std()\n",
    "    AGENT_TESTING_DATA[key]  = (testSlice - testSlice.mean()) / testSlice.std()\n",
    "\n",
    "PRICE_TRAINING_DATA = pd.DataFrame(PRICE_TRAINING_DATA)\n",
    "PRICE_TESTING_DATA = pd.DataFrame(PRICE_TESTING_DATA)"
   ]
  },
  {
   "cell_type": "code",
   "execution_count": 80,
   "metadata": {},
   "outputs": [],
   "source": [
    "# Thing being tested\n",
    "TESTING = {\n",
    "    \"RISK AVERSION\" : False,\n",
    "    \"LSTM OUTPUT SIZE\" : False,\n",
    "    \"REWARD FUNCTION\" : False,\n",
    "    \"LEARNING FREQUENCY\": False, \n",
    "    \"LEARNING RATE\": False,\n",
    "}"
   ]
  },
  {
   "cell_type": "markdown",
   "metadata": {},
   "source": [
    "#### Some helper functions for metrics"
   ]
  },
  {
   "cell_type": "code",
   "execution_count": 81,
   "metadata": {},
   "outputs": [],
   "source": [
    "from utils import tabulate_neatly\n",
    "\n",
    "def printConfiguration(agent=None, freq=None):\n",
    "    table = [[\"LSTM Hidden Size\", \"LSTM Output Size\", \"Learning Frequency\", \"Agent Risk Aversion\"]]\n",
    "    table.append([LSTMHIDDENSIZE, agent.state_n, freq, agent.riskAversion])\n",
    "    tabulate_neatly(table, headers=\"firstrow\", title=f\"Configuration:\")\n",
    "\n",
    "def plotAllocations(allocations, title=None):\n",
    "    categories = ['Cash'] + productIds\n",
    "    plt.figure(figsize=(20,5))\n",
    "    plt.bar(categories, allocations)\n",
    "    plt.xlabel('Allocations')\n",
    "    plt.tick_params(axis='x', labelsize=6)\n",
    "    plt.ylabel('Proportion Allocated')\n",
    "    plt.title('Allocations' if title == None else title)\n",
    "    plt.show()\n",
    "\n",
    "def generateConfigLabel(strategy, agent, rewardFunction, freq, lr):\n",
    "    firstTag = f\"Strategy-{strategy}\" \n",
    "    innerTag = None\n",
    "    boole = (strategy not in NON_RL_COMPARISON_STRATEGIES.keys() and strategy != \"RANDOM\")\n",
    "    if TESTING[\"RISK AVERSION\"]:\n",
    "        innerTag = (f\"Risk Aversion-{agent.riskAversion}\" if boole else \"\")\n",
    "    elif TESTING[\"LSTM OUTPUT SIZE\"]:\n",
    "        innerTag = (f\"LSTM Output Size-{agent.state_n}\" if boole else \"\")\n",
    "    elif TESTING[\"REWARD FUNCTION\"]:  \n",
    "        innerTag = (f\"Reward Function-{rewardFunction}\" if boole else \"\")\n",
    "    elif TESTING[\"LEARNING FREQUENCY\"]:  \n",
    "        innerTag = (f\"Learning Frequency-{freq}\" if boole else \"\")\n",
    "    elif TESTING[\"LEARNING RATE\"]:  \n",
    "        innerTag = (f\"Learning Rate-{lr}\" if boole else \"\")\n",
    "    \n",
    "    if any(TESTING.values()) and boole:\n",
    "        firstTag, innerTag = innerTag, firstTag\n",
    "    return firstTag + \" | \" +  innerTag + \" | \"\n"
   ]
  },
  {
   "cell_type": "markdown",
   "metadata": {},
   "source": [
    "### Actual Training"
   ]
  },
  {
   "cell_type": "code",
   "execution_count": 82,
   "metadata": {},
   "outputs": [],
   "source": [
    "from PPO import PPOAgent\n",
    "\n",
    "def generateAgent(lstmOutputSize, riskAversion, lr, featureExtractor):\n",
    "        return PPOAgent( \n",
    "                        state_n=lstmOutputSize, \n",
    "                        actions_n=len(productIds) + 1,\n",
    "                        alpha=lr,\n",
    "                        policyClip = 0.2,\n",
    "                        gamma=0.99,\n",
    "                        lstmHiddenSize=LSTMHIDDENSIZE,\n",
    "                        actor_noise=0,\n",
    "                        batch_size=512,\n",
    "                        fc1_n=128,\n",
    "                        fc2_n=128,\n",
    "                        gaeLambda=0.98,\n",
    "                        epochs=10,\n",
    "                        riskAversion=riskAversion,\n",
    "                        featureExtractor = featureExtractor\n",
    "                    )"
   ]
  },
  {
   "cell_type": "code",
   "execution_count": 83,
   "metadata": {},
   "outputs": [],
   "source": [
    "from TimeSeriesEnvironment import TimeSeriesEnvironment\n",
    "from scipy.special import softmax\n",
    "import torch\n",
    "\n",
    "def storeExperiences(agent, data, reward, done, strategy, action, prob, val):\n",
    "    if strategy == \"PPOLSTM\":\n",
    "        agent.store(data, action, prob.squeeze(), val.squeeze(), reward, done)\n",
    "\n",
    "\n",
    "def warmUpEnvironment(environment, rewardFunction):\n",
    "    \"\"\"\n",
    "    'warm up' environment until there's enough data to estimate CVaR\n",
    "    \"\"\"\n",
    "    for _ in range(TIME_WINDOW):\n",
    "        action = np.random.dirichlet(np.ones(len(productIds) + 1))\n",
    "        environment.step(softmax(action), rewardMethod=rewardFunction)\n",
    "    environment.setIsReady(True)\n",
    "\n",
    "\n",
    "# def scorePerformance(metrics):\n",
    "#     metrics[\"Cumulative \\nReturn (%)\"]\n",
    "#     metrics[\"Cumulative \\nReturn (%)\"]\n",
    "#     metrics[\"Maximum \\nPullback (%)\"]\n",
    "#     metrics[\"Sharpe Ratio\"]\n",
    "\n",
    "\n",
    "def evaluateAgent(riskAversion, rewardFunction, agent, freq, lr, num, conf=None, save=True):\n",
    "    torch.manual_seed(num)\n",
    "    np.random.seed(num)\n",
    "    for strategy in BASELINE + RL_STRATS:\n",
    "        env = TimeSeriesEnvironment(PRICE_TESTING_DATA, AGENT_TESTING_DATA, TIME_WINDOW, TESTING_PERIODS, START_CASH, riskAversion, 2.5e-4)\n",
    "        env.reset()\n",
    "        done = False\n",
    "        while not done:\n",
    "            if not env.getIsReady():\n",
    "                warmUpEnvironment(env, rewardFunction)\n",
    "            observation = None\n",
    "            if strategy in RL_STRATS:\n",
    "                data = env.getData()\n",
    "                observation = agent.featureExtractor.forward(torch.tensor(data, dtype=torch.float32).unsqueeze(0))\n",
    "            if strategy == \"RANDOM\":\n",
    "                action = np.random.dirichlet(np.ones(len(productIds) + 1))\n",
    "            elif strategy in NON_RL_COMPARISON_STRATEGIES:\n",
    "                action = NON_RL_COMPARISON_STRATEGIES.get(strategy)\n",
    "            else: \n",
    "                if strategy == \"PPOLSTM\":\n",
    "                    action, _, __ = agent.select_action(observation, sampling= False)\n",
    "\n",
    "            finalAction = (\n",
    "                softmax([0] + action) if strategy in NON_RL_COMPARISON_STRATEGIES else action\n",
    "            )\n",
    "            next, reward, done, _, info = env.step(finalAction, rewardFunction)                    \n",
    "        dataString = None\n",
    "        if conf == None or strategy == \"RANDOM\":\n",
    "            dataString = generateConfigLabel(strategy, agent, rewardFunction, freq, lr)\n",
    "        else:\n",
    "            dataString = conf\n",
    "        averagePerformance[dataString].append(env.PORTFOLIO_VALUES)\n",
    "        metrics = env.getMetrics()\n",
    "        allResults[dataString].append(metrics)\n",
    "        table = [metrics.keys()]\n",
    "        table.append(metrics.values())\n",
    "        tabulate_neatly(table, headers=\"firstrow\", title=f\"Evaluation: {num} | {dataString}\")\n",
    "        # if strategy not in NON_RL_COMPARISON_STRATEGIES.keys() and strategy != \"RANDOM\":\n",
    "        #nice but take up way too much space...\n",
    "        # printConfiguration(agent, freq)\n",
    "        # plotAllocations([0] + action if strategy in NON_RL_COMPARISON_STRATEGIES.keys() else softmax(action), \"Final Allocations\")\n",
    "        portFolder = f\"portfolios/{num}/\"\n",
    "        if not os.path.exists(portFolder):\n",
    "            os.makedirs(portFolder)\n",
    "        np.savetxt(f\"{portFolder}{(dataString.split(\"|\")[0]).strip()}.txt\", env.PORTFOLIO_VALUES, fmt='%f')\n",
    "        if (strategy in RL_STRATS) and save:\n",
    "            # if model.perform() #some \"scoreperformance stuff\"\n",
    "            saveFolder = f\"save/{num}/{(dataString.split(\"|\")[0]).strip()}/\"\n",
    "            # Ensure the child save directory exists\n",
    "            if not os.path.exists(saveFolder):\n",
    "                os.makedirs(saveFolder)\n",
    "            agent.save(saveFolder)  \n",
    "            "
   ]
  },
  {
   "cell_type": "code",
   "execution_count": 84,
   "metadata": {},
   "outputs": [],
   "source": [
    "from PPO import PPOAgent\n",
    "from LstmFeatureExtractor import LstmFeatureExtractor\n",
    "from scipy.special import softmax\n",
    "import numpy as np\n",
    "\n",
    "def initialiseTrainingEnvironment(episode, rewardFunction, riskAversion):\n",
    "    start = TIMESTEP_SHIFT * episode\n",
    "    normalisedData = dict()\n",
    "    for key in PRICE_TRAINING_DATA.keys():\n",
    "        end = min(start+EPISODE_LENGTH, len(PRICE_TRAINING_DATA[key]))\n",
    "        normalisedData[key] = AGENT_TRAINING_DATA[key].iloc[start:end]\n",
    "        normalisedData[key].reset_index(drop=True, inplace=True)\n",
    "    env = TimeSeriesEnvironment(PRICE_TRAINING_DATA.iloc[start:end], normalisedData, TIME_WINDOW, EPISODE_LENGTH, START_CASH, riskAversion, 2.5e-4)\n",
    "    if \"Differential\" in rewardFunction:\n",
    "        decay = float(rewardFunction.split(\"_\")[1])\n",
    "        env.decayRate = decay\n",
    "    return env\n",
    "\n",
    "def trainingLoop(riskAversion=0, lstmOutputSize=512, rewardFunction=\"CVaR\", freq=int(EPISODE_LENGTH / 25), lr=3e-4, conf = None):\n",
    "    featureExtractor = LstmFeatureExtractor(TIME_WINDOW, NUMBER_OF_FEATURES, 128, lstmOutputSize)\n",
    "    agent = generateAgent(lstmOutputSize, riskAversion, lr, featureExtractor)\n",
    "    numberRun=0\n",
    "    startTime = time.time()\n",
    "    for epoch in range(EPOCHS):\n",
    "        if epoch > 0:\n",
    "            print(f\"{epoch} Epochs takes: {(time.time() - startTime):.2f} seconds\")\n",
    "        torch.manual_seed(epoch)\n",
    "        np.random.seed(epoch)\n",
    "        for strategy in RL_STRATS:\n",
    "            for episode in range(TRAINING_WINDOWS):\n",
    "                env = initialiseTrainingEnvironment(episode, rewardFunction, riskAversion)\n",
    "                env.reset()\n",
    "                done = False\n",
    "                while not done:\n",
    "                    if not env.getIsReady():\n",
    "                        warmUpEnvironment(env, rewardFunction)\n",
    "                        continue\n",
    "                    observation = None\n",
    "                    data = env.getData()\n",
    "                    observation = featureExtractor.forward(torch.tensor(data, dtype=torch.float32).unsqueeze(0))\n",
    "                    probabilities, valuation = None, None\n",
    "                    if strategy == \"PPOLSTM\":\n",
    "                        action, probabilities, valuation = agent.select_action(observation)\n",
    "                    next, reward, done, _, info = env.step(action, rewardFunction)                    \n",
    "                    if strategy in RL_STRATS:\n",
    "                        storeExperiences(agent, data, reward, done, strategy, action, probabilities, valuation)\n",
    "                        if (env.timeStep % freq) == 0:\n",
    "                            agent.train()\n",
    "                    if done:\n",
    "                        numberRun += 1\n",
    "                        if numberRun % TRAINING_WINDOWS == 0:\n",
    "                            evaluateAgent(riskAversion, rewardFunction, agent, freq, lr, numberRun, conf)\n",
    "                        "
   ]
  },
  {
   "cell_type": "markdown",
   "metadata": {},
   "source": [
    "### Visualise Performance ###"
   ]
  },
  {
   "cell_type": "code",
   "execution_count": 85,
   "metadata": {},
   "outputs": [],
   "source": [
    "def plotPerformance(test, final=\"\"):\n",
    "    plt.figure(figsize=(12,6))\n",
    "    name = f\"Returns_\" \n",
    "    portfolioFolder = f\"portfolios/Test-{test+final}/\"+ datetime.now().strftime(\"%Y-%m-%d\") + \"/\"\n",
    "    plotsFolder = f\"plots/Test-{test+final}/\"+ datetime.now().strftime(\"%Y-%m-%d\") + \"/\"\n",
    "    if not os.path.exists(portfolioFolder):\n",
    "        os.makedirs(portfolioFolder)\n",
    "    if not os.path.exists(plotsFolder):\n",
    "        os.makedirs(plotsFolder)\n",
    "    for k, v in averagePerformance.items():\n",
    "        if final == \"\":\n",
    "            if test.lower() in k.lower() or \"RANDOM\" in k: # i wrote this at 12am forgive me\n",
    "                shouldBeSkipped = False\n",
    "            else:\n",
    "                shouldBeSkipped = True\n",
    "            for value in list(NON_RL_COMPARISON_STRATEGIES.keys())[:-1]:\n",
    "                if value in k:\n",
    "                    shouldBeSkipped = True # only need to compare with buy and hold for now\n",
    "            if shouldBeSkipped:\n",
    "                continue \n",
    "        try:\n",
    "            x = np.array(v)\n",
    "            x = np.mean(v, axis=0)\n",
    "            v = x\n",
    "        except ValueError:\n",
    "            maxLength = max(len(arr) for arr in v)\n",
    "            result = []\n",
    "            for i in range(maxLength):\n",
    "                values = [arr[i] for arr in v if i < len(arr)]\n",
    "                mean_value = np.mean(values)\n",
    "                result.append(mean_value)\n",
    "            v = result\n",
    "        l = k.split(\"|\")[0]\n",
    "        array = np.insert(v, 0, START_CASH)\n",
    "        plt.plot(array, label=l)\n",
    "        np.savetxt(f\"{portfolioFolder}{name}{l}.txt\", array, fmt='%f')\n",
    "        plt.title(f\"Returns over Time. Testing: {test}\")\n",
    "        plt.xlabel(\"Time\")\n",
    "        plt.ylabel(\"Mean Returns\")\n",
    "        plt.legend()\n",
    "        # plt.savefig(f\"{plotsFolder}{name}\")\n",
    "        plt.show()\n",
    "\n"
   ]
  },
  {
   "cell_type": "markdown",
   "metadata": {},
   "source": [
    "### Tabulate Results"
   ]
  },
  {
   "cell_type": "code",
   "execution_count": 86,
   "metadata": {},
   "outputs": [],
   "source": [
    "def tabulateResults():\n",
    "    for k, v in allResults.items():\n",
    "        table = [list(v[0].keys()) + [\"Standard Deviation\"]] \n",
    "        meanReturns, meanPB, meanSR, timeSteps = 0, 0, 0, 0\n",
    "        deviations = []\n",
    "        for resultSet in v:\n",
    "            meanReturns += resultSet[\"Cumulative \\nReturn (%)\"]\n",
    "            deviations.append(resultSet[\"Cumulative \\nReturn (%)\"])\n",
    "            meanPB += resultSet[\"Maximum \\nPullback (%)\"]\n",
    "            meanSR += resultSet[\"Sharpe Ratio\"]\n",
    "            timeSteps += resultSet[\"Total Timesteps\"]\n",
    "        array = [meanReturns, meanPB, meanSR, timeSteps, np.std(deviations)]\n",
    "        array = [i/len(v) for i in array]\n",
    "        table.append(array)\n",
    "        tabulate_neatly(table, headers=\"firstrow\", title=f\"MEAN RESULTS FOR: \" + k)"
   ]
  },
  {
   "cell_type": "code",
   "execution_count": null,
   "metadata": {},
   "outputs": [],
   "source": [
    "def sweep():\n",
    "    for testType, active in TESTING.items():\n",
    "        if active:\n",
    "            print(f\"TESTING {testType.replace('_', ' ').upper()}\")\n",
    "            testLoops = {\n",
    "                \"RISK AVERSION\": lambda: [\n",
    "                    trainingLoop(riskAversion=risk) for risk in AGENT_RISK_AVERSIONS\n",
    "                ],\n",
    "                \"LSTM OUTPUT SIZE\": lambda: [\n",
    "                    trainingLoop(lstmOutputSize=size) for size in LSTMOUTPUTSIZES\n",
    "                ],\n",
    "                \"REWARD FUNCTION\": lambda: [\n",
    "                    trainingLoop(\n",
    "                        riskAversion=0, rewardFunction=r\n",
    "                    )\n",
    "                    for r in REWARD_FUNCTIONS\n",
    "                ],\n",
    "                \"LEARNING FREQUENCY\": lambda: [\n",
    "                    trainingLoop(freq=fr) for fr in LEARNING_FREQUENCIES\n",
    "                ],\n",
    "                \"LEARNING RATE\": lambda: [\n",
    "                    trainingLoop(lr=learn) for learn in LEARNING_RATES\n",
    "                ],\n",
    "            }\n",
    "            \n",
    "            testLoops[testType]()\n",
    "            break \n",
    "\n",
    "\n",
    "def hyperSweep():\n",
    "    for key in TESTING.keys():\n",
    "        print(\"=\" * 50)\n",
    "        TESTING[key] = True\n",
    "        sweep()\n",
    "        TESTING[key] = False\n",
    "        print(\"=\" * 50)\n",
    "    tabulateResults()\n",
    "\n",
    "TRAIN = False\n",
    "# Run the sweep\n",
    "if TRAIN:\n",
    "    hyperSweep()"
   ]
  },
  {
   "cell_type": "code",
   "execution_count": 89,
   "metadata": {},
   "outputs": [
    {
     "data": {
      "text/html": [
       "<h3>Evaluation: 11 | Strategy-RANDOM |  | </h3>\n"
      ]
     },
     "metadata": {},
     "output_type": "display_data"
    },
    {
     "data": {
      "text/html": [
       "<table>\n",
       "<thead>\n",
       "<tr><th style=\"text-align: right;\">      Cumulative \n",
       "Return (%)</th><th style=\"text-align: right;\">        Maximum \n",
       "Pullback (%)</th><th style=\"text-align: right;\">  Sharpe Ratio</th><th style=\"text-align: right;\">  Total Timesteps</th></tr>\n",
       "</thead>\n",
       "<tbody>\n",
       "<tr><td style=\"text-align: right;\">51.71</td><td style=\"text-align: right;\">24.1177</td><td style=\"text-align: right;\">        0.0545</td><td style=\"text-align: right;\">              733</td></tr>\n",
       "</tbody>\n",
       "</table>"
      ]
     },
     "metadata": {},
     "output_type": "display_data"
    },
    {
     "data": {
      "text/html": [
       "<h3>Evaluation: 11 | Learning Frequency-146 | Strategy-PPOLSTM | </h3>\n"
      ]
     },
     "metadata": {},
     "output_type": "display_data"
    },
    {
     "data": {
      "text/html": [
       "<table>\n",
       "<thead>\n",
       "<tr><th style=\"text-align: right;\">      Cumulative \n",
       "Return (%)</th><th style=\"text-align: right;\">        Maximum \n",
       "Pullback (%)</th><th style=\"text-align: right;\">  Sharpe Ratio</th><th style=\"text-align: right;\">  Total Timesteps</th></tr>\n",
       "</thead>\n",
       "<tbody>\n",
       "<tr><td style=\"text-align: right;\">74.71</td><td style=\"text-align: right;\">25.6069</td><td style=\"text-align: right;\">        0.0733</td><td style=\"text-align: right;\">              733</td></tr>\n",
       "</tbody>\n",
       "</table>"
      ]
     },
     "metadata": {},
     "output_type": "display_data"
    },
    {
     "data": {
      "text/html": [
       "<h3>Evaluation: 11 | Strategy-RANDOM |  | </h3>\n"
      ]
     },
     "metadata": {},
     "output_type": "display_data"
    },
    {
     "data": {
      "text/html": [
       "<table>\n",
       "<thead>\n",
       "<tr><th style=\"text-align: right;\">      Cumulative \n",
       "Return (%)</th><th style=\"text-align: right;\">        Maximum \n",
       "Pullback (%)</th><th style=\"text-align: right;\">  Sharpe Ratio</th><th style=\"text-align: right;\">  Total Timesteps</th></tr>\n",
       "</thead>\n",
       "<tbody>\n",
       "<tr><td style=\"text-align: right;\">51.71</td><td style=\"text-align: right;\">24.1177</td><td style=\"text-align: right;\">        0.0545</td><td style=\"text-align: right;\">              733</td></tr>\n",
       "</tbody>\n",
       "</table>"
      ]
     },
     "metadata": {},
     "output_type": "display_data"
    },
    {
     "data": {
      "text/html": [
       "<h3>Evaluation: 11 | Learning Frequency-73 | Strategy-PPOLSTM | </h3>\n"
      ]
     },
     "metadata": {},
     "output_type": "display_data"
    },
    {
     "data": {
      "text/html": [
       "<table>\n",
       "<thead>\n",
       "<tr><th style=\"text-align: right;\">      Cumulative \n",
       "Return (%)</th><th style=\"text-align: right;\">        Maximum \n",
       "Pullback (%)</th><th style=\"text-align: right;\">  Sharpe Ratio</th><th style=\"text-align: right;\">  Total Timesteps</th></tr>\n",
       "</thead>\n",
       "<tbody>\n",
       "<tr><td style=\"text-align: right;\">60.18</td><td style=\"text-align: right;\">25.8783</td><td style=\"text-align: right;\">        0.0614</td><td style=\"text-align: right;\">              733</td></tr>\n",
       "</tbody>\n",
       "</table>"
      ]
     },
     "metadata": {},
     "output_type": "display_data"
    },
    {
     "data": {
      "text/html": [
       "<h3>Evaluation: 11 | Strategy-RANDOM |  | </h3>\n"
      ]
     },
     "metadata": {},
     "output_type": "display_data"
    },
    {
     "data": {
      "text/html": [
       "<table>\n",
       "<thead>\n",
       "<tr><th style=\"text-align: right;\">      Cumulative \n",
       "Return (%)</th><th style=\"text-align: right;\">        Maximum \n",
       "Pullback (%)</th><th style=\"text-align: right;\">  Sharpe Ratio</th><th style=\"text-align: right;\">  Total Timesteps</th></tr>\n",
       "</thead>\n",
       "<tbody>\n",
       "<tr><td style=\"text-align: right;\">51.71</td><td style=\"text-align: right;\">24.1177</td><td style=\"text-align: right;\">        0.0545</td><td style=\"text-align: right;\">              733</td></tr>\n",
       "</tbody>\n",
       "</table>"
      ]
     },
     "metadata": {},
     "output_type": "display_data"
    },
    {
     "data": {
      "text/html": [
       "<h3>Evaluation: 11 | Learning Frequency-48 | Strategy-PPOLSTM | </h3>\n"
      ]
     },
     "metadata": {},
     "output_type": "display_data"
    },
    {
     "data": {
      "text/html": [
       "<table>\n",
       "<thead>\n",
       "<tr><th style=\"text-align: right;\">      Cumulative \n",
       "Return (%)</th><th style=\"text-align: right;\">       Maximum \n",
       "Pullback (%)</th><th style=\"text-align: right;\">  Sharpe Ratio</th><th style=\"text-align: right;\">  Total Timesteps</th></tr>\n",
       "</thead>\n",
       "<tbody>\n",
       "<tr><td style=\"text-align: right;\">72.17</td><td style=\"text-align: right;\">25.682</td><td style=\"text-align: right;\">          0.07</td><td style=\"text-align: right;\">              733</td></tr>\n",
       "</tbody>\n",
       "</table>"
      ]
     },
     "metadata": {},
     "output_type": "display_data"
    },
    {
     "data": {
      "text/html": [
       "<h3>Evaluation: 11 | Strategy-RANDOM |  | </h3>\n"
      ]
     },
     "metadata": {},
     "output_type": "display_data"
    },
    {
     "data": {
      "text/html": [
       "<table>\n",
       "<thead>\n",
       "<tr><th style=\"text-align: right;\">      Cumulative \n",
       "Return (%)</th><th style=\"text-align: right;\">        Maximum \n",
       "Pullback (%)</th><th style=\"text-align: right;\">  Sharpe Ratio</th><th style=\"text-align: right;\">  Total Timesteps</th></tr>\n",
       "</thead>\n",
       "<tbody>\n",
       "<tr><td style=\"text-align: right;\">51.71</td><td style=\"text-align: right;\">24.1177</td><td style=\"text-align: right;\">        0.0545</td><td style=\"text-align: right;\">              733</td></tr>\n",
       "</tbody>\n",
       "</table>"
      ]
     },
     "metadata": {},
     "output_type": "display_data"
    },
    {
     "data": {
      "text/html": [
       "<h3>Evaluation: 11 | Learning Frequency-36 | Strategy-PPOLSTM | </h3>\n"
      ]
     },
     "metadata": {},
     "output_type": "display_data"
    },
    {
     "data": {
      "text/html": [
       "<table>\n",
       "<thead>\n",
       "<tr><th style=\"text-align: right;\">      Cumulative \n",
       "Return (%)</th><th style=\"text-align: right;\">        Maximum \n",
       "Pullback (%)</th><th style=\"text-align: right;\">  Sharpe Ratio</th><th style=\"text-align: right;\">  Total Timesteps</th></tr>\n",
       "</thead>\n",
       "<tbody>\n",
       "<tr><td style=\"text-align: right;\">76.92</td><td style=\"text-align: right;\">26.6828</td><td style=\"text-align: right;\">        0.0731</td><td style=\"text-align: right;\">              733</td></tr>\n",
       "</tbody>\n",
       "</table>"
      ]
     },
     "metadata": {},
     "output_type": "display_data"
    },
    {
     "data": {
      "text/html": [
       "<h3>Evaluation: 11 | Strategy-RANDOM |  | </h3>\n"
      ]
     },
     "metadata": {},
     "output_type": "display_data"
    },
    {
     "data": {
      "text/html": [
       "<table>\n",
       "<thead>\n",
       "<tr><th style=\"text-align: right;\">      Cumulative \n",
       "Return (%)</th><th style=\"text-align: right;\">        Maximum \n",
       "Pullback (%)</th><th style=\"text-align: right;\">  Sharpe Ratio</th><th style=\"text-align: right;\">  Total Timesteps</th></tr>\n",
       "</thead>\n",
       "<tbody>\n",
       "<tr><td style=\"text-align: right;\">51.71</td><td style=\"text-align: right;\">24.1177</td><td style=\"text-align: right;\">        0.0545</td><td style=\"text-align: right;\">              733</td></tr>\n",
       "</tbody>\n",
       "</table>"
      ]
     },
     "metadata": {},
     "output_type": "display_data"
    },
    {
     "data": {
      "text/html": [
       "<h3>Evaluation: 11 | Learning Frequency-29 | Strategy-PPOLSTM | </h3>\n"
      ]
     },
     "metadata": {},
     "output_type": "display_data"
    },
    {
     "data": {
      "text/html": [
       "<table>\n",
       "<thead>\n",
       "<tr><th style=\"text-align: right;\">      Cumulative \n",
       "Return (%)</th><th style=\"text-align: right;\">        Maximum \n",
       "Pullback (%)</th><th style=\"text-align: right;\">  Sharpe Ratio</th><th style=\"text-align: right;\">  Total Timesteps</th></tr>\n",
       "</thead>\n",
       "<tbody>\n",
       "<tr><td style=\"text-align: right;\">78.43</td><td style=\"text-align: right;\">29.4613</td><td style=\"text-align: right;\">        0.0678</td><td style=\"text-align: right;\">              733</td></tr>\n",
       "</tbody>\n",
       "</table>"
      ]
     },
     "metadata": {},
     "output_type": "display_data"
    },
    {
     "data": {
      "text/html": [
       "<h3>Evaluation: 22 | Strategy-RANDOM |  | </h3>\n"
      ]
     },
     "metadata": {},
     "output_type": "display_data"
    },
    {
     "data": {
      "text/html": [
       "<table>\n",
       "<thead>\n",
       "<tr><th style=\"text-align: right;\">      Cumulative \n",
       "Return (%)</th><th style=\"text-align: right;\">        Maximum \n",
       "Pullback (%)</th><th style=\"text-align: right;\">  Sharpe Ratio</th><th style=\"text-align: right;\">  Total Timesteps</th></tr>\n",
       "</thead>\n",
       "<tbody>\n",
       "<tr><td style=\"text-align: right;\">45.49</td><td style=\"text-align: right;\">28.3317</td><td style=\"text-align: right;\">        0.0454</td><td style=\"text-align: right;\">              733</td></tr>\n",
       "</tbody>\n",
       "</table>"
      ]
     },
     "metadata": {},
     "output_type": "display_data"
    },
    {
     "data": {
      "text/html": [
       "<h3>Evaluation: 22 | Learning Frequency-146 | Strategy-PPOLSTM | </h3>\n"
      ]
     },
     "metadata": {},
     "output_type": "display_data"
    },
    {
     "data": {
      "text/html": [
       "<table>\n",
       "<thead>\n",
       "<tr><th style=\"text-align: right;\">      Cumulative \n",
       "Return (%)</th><th style=\"text-align: right;\">       Maximum \n",
       "Pullback (%)</th><th style=\"text-align: right;\">  Sharpe Ratio</th><th style=\"text-align: right;\">  Total Timesteps</th></tr>\n",
       "</thead>\n",
       "<tbody>\n",
       "<tr><td style=\"text-align: right;\">71.23</td><td style=\"text-align: right;\">24.898</td><td style=\"text-align: right;\">        0.0724</td><td style=\"text-align: right;\">              733</td></tr>\n",
       "</tbody>\n",
       "</table>"
      ]
     },
     "metadata": {},
     "output_type": "display_data"
    },
    {
     "data": {
      "text/html": [
       "<h3>Evaluation: 22 | Strategy-RANDOM |  | </h3>\n"
      ]
     },
     "metadata": {},
     "output_type": "display_data"
    },
    {
     "data": {
      "text/html": [
       "<table>\n",
       "<thead>\n",
       "<tr><th style=\"text-align: right;\">      Cumulative \n",
       "Return (%)</th><th style=\"text-align: right;\">        Maximum \n",
       "Pullback (%)</th><th style=\"text-align: right;\">  Sharpe Ratio</th><th style=\"text-align: right;\">  Total Timesteps</th></tr>\n",
       "</thead>\n",
       "<tbody>\n",
       "<tr><td style=\"text-align: right;\">45.49</td><td style=\"text-align: right;\">28.3317</td><td style=\"text-align: right;\">        0.0454</td><td style=\"text-align: right;\">              733</td></tr>\n",
       "</tbody>\n",
       "</table>"
      ]
     },
     "metadata": {},
     "output_type": "display_data"
    },
    {
     "data": {
      "text/html": [
       "<h3>Evaluation: 22 | Learning Frequency-73 | Strategy-PPOLSTM | </h3>\n"
      ]
     },
     "metadata": {},
     "output_type": "display_data"
    },
    {
     "data": {
      "text/html": [
       "<table>\n",
       "<thead>\n",
       "<tr><th style=\"text-align: right;\">     Cumulative \n",
       "Return (%)</th><th style=\"text-align: right;\">        Maximum \n",
       "Pullback (%)</th><th style=\"text-align: right;\">  Sharpe Ratio</th><th style=\"text-align: right;\">  Total Timesteps</th></tr>\n",
       "</thead>\n",
       "<tbody>\n",
       "<tr><td style=\"text-align: right;\">46.3</td><td style=\"text-align: right;\">26.2005</td><td style=\"text-align: right;\">        0.0494</td><td style=\"text-align: right;\">              733</td></tr>\n",
       "</tbody>\n",
       "</table>"
      ]
     },
     "metadata": {},
     "output_type": "display_data"
    },
    {
     "data": {
      "text/html": [
       "<h3>Evaluation: 22 | Strategy-RANDOM |  | </h3>\n"
      ]
     },
     "metadata": {},
     "output_type": "display_data"
    },
    {
     "data": {
      "text/html": [
       "<table>\n",
       "<thead>\n",
       "<tr><th style=\"text-align: right;\">      Cumulative \n",
       "Return (%)</th><th style=\"text-align: right;\">        Maximum \n",
       "Pullback (%)</th><th style=\"text-align: right;\">  Sharpe Ratio</th><th style=\"text-align: right;\">  Total Timesteps</th></tr>\n",
       "</thead>\n",
       "<tbody>\n",
       "<tr><td style=\"text-align: right;\">45.49</td><td style=\"text-align: right;\">28.3317</td><td style=\"text-align: right;\">        0.0454</td><td style=\"text-align: right;\">              733</td></tr>\n",
       "</tbody>\n",
       "</table>"
      ]
     },
     "metadata": {},
     "output_type": "display_data"
    },
    {
     "data": {
      "text/html": [
       "<h3>Evaluation: 22 | Learning Frequency-48 | Strategy-PPOLSTM | </h3>\n"
      ]
     },
     "metadata": {},
     "output_type": "display_data"
    },
    {
     "data": {
      "text/html": [
       "<table>\n",
       "<thead>\n",
       "<tr><th style=\"text-align: right;\">     Cumulative \n",
       "Return (%)</th><th style=\"text-align: right;\">        Maximum \n",
       "Pullback (%)</th><th style=\"text-align: right;\">  Sharpe Ratio</th><th style=\"text-align: right;\">  Total Timesteps</th></tr>\n",
       "</thead>\n",
       "<tbody>\n",
       "<tr><td style=\"text-align: right;\">75.3</td><td style=\"text-align: right;\">27.8178</td><td style=\"text-align: right;\">        0.0692</td><td style=\"text-align: right;\">              733</td></tr>\n",
       "</tbody>\n",
       "</table>"
      ]
     },
     "metadata": {},
     "output_type": "display_data"
    },
    {
     "data": {
      "text/html": [
       "<h3>Evaluation: 22 | Strategy-RANDOM |  | </h3>\n"
      ]
     },
     "metadata": {},
     "output_type": "display_data"
    },
    {
     "data": {
      "text/html": [
       "<table>\n",
       "<thead>\n",
       "<tr><th style=\"text-align: right;\">      Cumulative \n",
       "Return (%)</th><th style=\"text-align: right;\">        Maximum \n",
       "Pullback (%)</th><th style=\"text-align: right;\">  Sharpe Ratio</th><th style=\"text-align: right;\">  Total Timesteps</th></tr>\n",
       "</thead>\n",
       "<tbody>\n",
       "<tr><td style=\"text-align: right;\">45.49</td><td style=\"text-align: right;\">28.3317</td><td style=\"text-align: right;\">        0.0454</td><td style=\"text-align: right;\">              733</td></tr>\n",
       "</tbody>\n",
       "</table>"
      ]
     },
     "metadata": {},
     "output_type": "display_data"
    },
    {
     "data": {
      "text/html": [
       "<h3>Evaluation: 22 | Learning Frequency-36 | Strategy-PPOLSTM | </h3>\n"
      ]
     },
     "metadata": {},
     "output_type": "display_data"
    },
    {
     "data": {
      "text/html": [
       "<table>\n",
       "<thead>\n",
       "<tr><th style=\"text-align: right;\">     Cumulative \n",
       "Return (%)</th><th style=\"text-align: right;\">        Maximum \n",
       "Pullback (%)</th><th style=\"text-align: right;\">  Sharpe Ratio</th><th style=\"text-align: right;\">  Total Timesteps</th></tr>\n",
       "</thead>\n",
       "<tbody>\n",
       "<tr><td style=\"text-align: right;\">77.9</td><td style=\"text-align: right;\">27.3988</td><td style=\"text-align: right;\">        0.0688</td><td style=\"text-align: right;\">              733</td></tr>\n",
       "</tbody>\n",
       "</table>"
      ]
     },
     "metadata": {},
     "output_type": "display_data"
    },
    {
     "data": {
      "text/html": [
       "<h3>Evaluation: 22 | Strategy-RANDOM |  | </h3>\n"
      ]
     },
     "metadata": {},
     "output_type": "display_data"
    },
    {
     "data": {
      "text/html": [
       "<table>\n",
       "<thead>\n",
       "<tr><th style=\"text-align: right;\">      Cumulative \n",
       "Return (%)</th><th style=\"text-align: right;\">        Maximum \n",
       "Pullback (%)</th><th style=\"text-align: right;\">  Sharpe Ratio</th><th style=\"text-align: right;\">  Total Timesteps</th></tr>\n",
       "</thead>\n",
       "<tbody>\n",
       "<tr><td style=\"text-align: right;\">45.49</td><td style=\"text-align: right;\">28.3317</td><td style=\"text-align: right;\">        0.0454</td><td style=\"text-align: right;\">              733</td></tr>\n",
       "</tbody>\n",
       "</table>"
      ]
     },
     "metadata": {},
     "output_type": "display_data"
    },
    {
     "data": {
      "text/html": [
       "<h3>Evaluation: 22 | Learning Frequency-29 | Strategy-PPOLSTM | </h3>\n"
      ]
     },
     "metadata": {},
     "output_type": "display_data"
    },
    {
     "data": {
      "text/html": [
       "<table>\n",
       "<thead>\n",
       "<tr><th style=\"text-align: right;\">      Cumulative \n",
       "Return (%)</th><th style=\"text-align: right;\">        Maximum \n",
       "Pullback (%)</th><th style=\"text-align: right;\">  Sharpe Ratio</th><th style=\"text-align: right;\">  Total Timesteps</th></tr>\n",
       "</thead>\n",
       "<tbody>\n",
       "<tr><td style=\"text-align: right;\">67.15</td><td style=\"text-align: right;\">26.0168</td><td style=\"text-align: right;\">        0.0653</td><td style=\"text-align: right;\">              733</td></tr>\n",
       "</tbody>\n",
       "</table>"
      ]
     },
     "metadata": {},
     "output_type": "display_data"
    },
    {
     "data": {
      "text/html": [
       "<h3>Evaluation: 33 | Strategy-RANDOM |  | </h3>\n"
      ]
     },
     "metadata": {},
     "output_type": "display_data"
    },
    {
     "data": {
      "text/html": [
       "<table>\n",
       "<thead>\n",
       "<tr><th style=\"text-align: right;\">      Cumulative \n",
       "Return (%)</th><th style=\"text-align: right;\">        Maximum \n",
       "Pullback (%)</th><th style=\"text-align: right;\">  Sharpe Ratio</th><th style=\"text-align: right;\">  Total Timesteps</th></tr>\n",
       "</thead>\n",
       "<tbody>\n",
       "<tr><td style=\"text-align: right;\">52.18</td><td style=\"text-align: right;\">25.4406</td><td style=\"text-align: right;\">        0.0542</td><td style=\"text-align: right;\">              733</td></tr>\n",
       "</tbody>\n",
       "</table>"
      ]
     },
     "metadata": {},
     "output_type": "display_data"
    },
    {
     "data": {
      "text/html": [
       "<h3>Evaluation: 33 | Learning Frequency-146 | Strategy-PPOLSTM | </h3>\n"
      ]
     },
     "metadata": {},
     "output_type": "display_data"
    },
    {
     "data": {
      "text/html": [
       "<table>\n",
       "<thead>\n",
       "<tr><th style=\"text-align: right;\">      Cumulative \n",
       "Return (%)</th><th style=\"text-align: right;\">        Maximum \n",
       "Pullback (%)</th><th style=\"text-align: right;\">  Sharpe Ratio</th><th style=\"text-align: right;\">  Total Timesteps</th></tr>\n",
       "</thead>\n",
       "<tbody>\n",
       "<tr><td style=\"text-align: right;\">73.36</td><td style=\"text-align: right;\">24.9687</td><td style=\"text-align: right;\">        0.0727</td><td style=\"text-align: right;\">              733</td></tr>\n",
       "</tbody>\n",
       "</table>"
      ]
     },
     "metadata": {},
     "output_type": "display_data"
    },
    {
     "data": {
      "text/html": [
       "<h3>Evaluation: 33 | Strategy-RANDOM |  | </h3>\n"
      ]
     },
     "metadata": {},
     "output_type": "display_data"
    },
    {
     "data": {
      "text/html": [
       "<table>\n",
       "<thead>\n",
       "<tr><th style=\"text-align: right;\">      Cumulative \n",
       "Return (%)</th><th style=\"text-align: right;\">        Maximum \n",
       "Pullback (%)</th><th style=\"text-align: right;\">  Sharpe Ratio</th><th style=\"text-align: right;\">  Total Timesteps</th></tr>\n",
       "</thead>\n",
       "<tbody>\n",
       "<tr><td style=\"text-align: right;\">52.18</td><td style=\"text-align: right;\">25.4406</td><td style=\"text-align: right;\">        0.0542</td><td style=\"text-align: right;\">              733</td></tr>\n",
       "</tbody>\n",
       "</table>"
      ]
     },
     "metadata": {},
     "output_type": "display_data"
    },
    {
     "data": {
      "text/html": [
       "<h3>Evaluation: 33 | Learning Frequency-73 | Strategy-PPOLSTM | </h3>\n"
      ]
     },
     "metadata": {},
     "output_type": "display_data"
    },
    {
     "data": {
      "text/html": [
       "<table>\n",
       "<thead>\n",
       "<tr><th style=\"text-align: right;\">      Cumulative \n",
       "Return (%)</th><th style=\"text-align: right;\">        Maximum \n",
       "Pullback (%)</th><th style=\"text-align: right;\">  Sharpe Ratio</th><th style=\"text-align: right;\">  Total Timesteps</th></tr>\n",
       "</thead>\n",
       "<tbody>\n",
       "<tr><td style=\"text-align: right;\">45.71</td><td style=\"text-align: right;\">25.1145</td><td style=\"text-align: right;\">        0.0508</td><td style=\"text-align: right;\">              733</td></tr>\n",
       "</tbody>\n",
       "</table>"
      ]
     },
     "metadata": {},
     "output_type": "display_data"
    },
    {
     "data": {
      "text/html": [
       "<h3>Evaluation: 33 | Strategy-RANDOM |  | </h3>\n"
      ]
     },
     "metadata": {},
     "output_type": "display_data"
    },
    {
     "data": {
      "text/html": [
       "<table>\n",
       "<thead>\n",
       "<tr><th style=\"text-align: right;\">      Cumulative \n",
       "Return (%)</th><th style=\"text-align: right;\">        Maximum \n",
       "Pullback (%)</th><th style=\"text-align: right;\">  Sharpe Ratio</th><th style=\"text-align: right;\">  Total Timesteps</th></tr>\n",
       "</thead>\n",
       "<tbody>\n",
       "<tr><td style=\"text-align: right;\">52.18</td><td style=\"text-align: right;\">25.4406</td><td style=\"text-align: right;\">        0.0542</td><td style=\"text-align: right;\">              733</td></tr>\n",
       "</tbody>\n",
       "</table>"
      ]
     },
     "metadata": {},
     "output_type": "display_data"
    },
    {
     "data": {
      "text/html": [
       "<h3>Evaluation: 33 | Learning Frequency-48 | Strategy-PPOLSTM | </h3>\n"
      ]
     },
     "metadata": {},
     "output_type": "display_data"
    },
    {
     "data": {
      "text/html": [
       "<table>\n",
       "<thead>\n",
       "<tr><th style=\"text-align: right;\">      Cumulative \n",
       "Return (%)</th><th style=\"text-align: right;\">        Maximum \n",
       "Pullback (%)</th><th style=\"text-align: right;\">  Sharpe Ratio</th><th style=\"text-align: right;\">  Total Timesteps</th></tr>\n",
       "</thead>\n",
       "<tbody>\n",
       "<tr><td style=\"text-align: right;\">88.28</td><td style=\"text-align: right;\">26.4048</td><td style=\"text-align: right;\">        0.0757</td><td style=\"text-align: right;\">              733</td></tr>\n",
       "</tbody>\n",
       "</table>"
      ]
     },
     "metadata": {},
     "output_type": "display_data"
    },
    {
     "data": {
      "text/html": [
       "<h3>Evaluation: 33 | Strategy-RANDOM |  | </h3>\n"
      ]
     },
     "metadata": {},
     "output_type": "display_data"
    },
    {
     "data": {
      "text/html": [
       "<table>\n",
       "<thead>\n",
       "<tr><th style=\"text-align: right;\">      Cumulative \n",
       "Return (%)</th><th style=\"text-align: right;\">        Maximum \n",
       "Pullback (%)</th><th style=\"text-align: right;\">  Sharpe Ratio</th><th style=\"text-align: right;\">  Total Timesteps</th></tr>\n",
       "</thead>\n",
       "<tbody>\n",
       "<tr><td style=\"text-align: right;\">52.18</td><td style=\"text-align: right;\">25.4406</td><td style=\"text-align: right;\">        0.0542</td><td style=\"text-align: right;\">              733</td></tr>\n",
       "</tbody>\n",
       "</table>"
      ]
     },
     "metadata": {},
     "output_type": "display_data"
    },
    {
     "data": {
      "text/html": [
       "<h3>Evaluation: 33 | Learning Frequency-36 | Strategy-PPOLSTM | </h3>\n"
      ]
     },
     "metadata": {},
     "output_type": "display_data"
    },
    {
     "data": {
      "text/html": [
       "<table>\n",
       "<thead>\n",
       "<tr><th style=\"text-align: right;\">       Cumulative \n",
       "Return (%)</th><th style=\"text-align: right;\">        Maximum \n",
       "Pullback (%)</th><th style=\"text-align: right;\">  Sharpe Ratio</th><th style=\"text-align: right;\">  Total Timesteps</th></tr>\n",
       "</thead>\n",
       "<tbody>\n",
       "<tr><td style=\"text-align: right;\">101.21</td><td style=\"text-align: right;\">28.1559</td><td style=\"text-align: right;\">        0.0781</td><td style=\"text-align: right;\">              733</td></tr>\n",
       "</tbody>\n",
       "</table>"
      ]
     },
     "metadata": {},
     "output_type": "display_data"
    },
    {
     "data": {
      "text/html": [
       "<h3>Evaluation: 33 | Strategy-RANDOM |  | </h3>\n"
      ]
     },
     "metadata": {},
     "output_type": "display_data"
    },
    {
     "data": {
      "text/html": [
       "<table>\n",
       "<thead>\n",
       "<tr><th style=\"text-align: right;\">      Cumulative \n",
       "Return (%)</th><th style=\"text-align: right;\">        Maximum \n",
       "Pullback (%)</th><th style=\"text-align: right;\">  Sharpe Ratio</th><th style=\"text-align: right;\">  Total Timesteps</th></tr>\n",
       "</thead>\n",
       "<tbody>\n",
       "<tr><td style=\"text-align: right;\">52.18</td><td style=\"text-align: right;\">25.4406</td><td style=\"text-align: right;\">        0.0542</td><td style=\"text-align: right;\">              733</td></tr>\n",
       "</tbody>\n",
       "</table>"
      ]
     },
     "metadata": {},
     "output_type": "display_data"
    },
    {
     "data": {
      "text/html": [
       "<h3>Evaluation: 33 | Learning Frequency-29 | Strategy-PPOLSTM | </h3>\n"
      ]
     },
     "metadata": {},
     "output_type": "display_data"
    },
    {
     "data": {
      "text/html": [
       "<table>\n",
       "<thead>\n",
       "<tr><th style=\"text-align: right;\">      Cumulative \n",
       "Return (%)</th><th style=\"text-align: right;\">        Maximum \n",
       "Pullback (%)</th><th style=\"text-align: right;\">  Sharpe Ratio</th><th style=\"text-align: right;\">  Total Timesteps</th></tr>\n",
       "</thead>\n",
       "<tbody>\n",
       "<tr><td style=\"text-align: right;\">62.96</td><td style=\"text-align: right;\">25.4236</td><td style=\"text-align: right;\">        0.0662</td><td style=\"text-align: right;\">              733</td></tr>\n",
       "</tbody>\n",
       "</table>"
      ]
     },
     "metadata": {},
     "output_type": "display_data"
    },
    {
     "data": {
      "text/html": [
       "<h3>Evaluation: 44 | Strategy-RANDOM |  | </h3>\n"
      ]
     },
     "metadata": {},
     "output_type": "display_data"
    },
    {
     "data": {
      "text/html": [
       "<table>\n",
       "<thead>\n",
       "<tr><th style=\"text-align: right;\">      Cumulative \n",
       "Return (%)</th><th style=\"text-align: right;\">        Maximum \n",
       "Pullback (%)</th><th style=\"text-align: right;\">  Sharpe Ratio</th><th style=\"text-align: right;\">  Total Timesteps</th></tr>\n",
       "</thead>\n",
       "<tbody>\n",
       "<tr><td style=\"text-align: right;\">64.28</td><td style=\"text-align: right;\">25.4489</td><td style=\"text-align: right;\">        0.0697</td><td style=\"text-align: right;\">              733</td></tr>\n",
       "</tbody>\n",
       "</table>"
      ]
     },
     "metadata": {},
     "output_type": "display_data"
    },
    {
     "data": {
      "text/html": [
       "<h3>Evaluation: 44 | Learning Frequency-146 | Strategy-PPOLSTM | </h3>\n"
      ]
     },
     "metadata": {},
     "output_type": "display_data"
    },
    {
     "data": {
      "text/html": [
       "<table>\n",
       "<thead>\n",
       "<tr><th style=\"text-align: right;\">      Cumulative \n",
       "Return (%)</th><th style=\"text-align: right;\">        Maximum \n",
       "Pullback (%)</th><th style=\"text-align: right;\">  Sharpe Ratio</th><th style=\"text-align: right;\">  Total Timesteps</th></tr>\n",
       "</thead>\n",
       "<tbody>\n",
       "<tr><td style=\"text-align: right;\">63.55</td><td style=\"text-align: right;\">24.8463</td><td style=\"text-align: right;\">        0.0656</td><td style=\"text-align: right;\">              733</td></tr>\n",
       "</tbody>\n",
       "</table>"
      ]
     },
     "metadata": {},
     "output_type": "display_data"
    },
    {
     "data": {
      "text/html": [
       "<h3>Evaluation: 44 | Strategy-RANDOM |  | </h3>\n"
      ]
     },
     "metadata": {},
     "output_type": "display_data"
    },
    {
     "data": {
      "text/html": [
       "<table>\n",
       "<thead>\n",
       "<tr><th style=\"text-align: right;\">      Cumulative \n",
       "Return (%)</th><th style=\"text-align: right;\">        Maximum \n",
       "Pullback (%)</th><th style=\"text-align: right;\">  Sharpe Ratio</th><th style=\"text-align: right;\">  Total Timesteps</th></tr>\n",
       "</thead>\n",
       "<tbody>\n",
       "<tr><td style=\"text-align: right;\">64.28</td><td style=\"text-align: right;\">25.4489</td><td style=\"text-align: right;\">        0.0697</td><td style=\"text-align: right;\">              733</td></tr>\n",
       "</tbody>\n",
       "</table>"
      ]
     },
     "metadata": {},
     "output_type": "display_data"
    },
    {
     "data": {
      "text/html": [
       "<h3>Evaluation: 44 | Learning Frequency-73 | Strategy-PPOLSTM | </h3>\n"
      ]
     },
     "metadata": {},
     "output_type": "display_data"
    },
    {
     "data": {
      "text/html": [
       "<table>\n",
       "<thead>\n",
       "<tr><th style=\"text-align: right;\">     Cumulative \n",
       "Return (%)</th><th style=\"text-align: right;\">        Maximum \n",
       "Pullback (%)</th><th style=\"text-align: right;\">  Sharpe Ratio</th><th style=\"text-align: right;\">  Total Timesteps</th></tr>\n",
       "</thead>\n",
       "<tbody>\n",
       "<tr><td style=\"text-align: right;\">52.9</td><td style=\"text-align: right;\">27.0702</td><td style=\"text-align: right;\">        0.0543</td><td style=\"text-align: right;\">              733</td></tr>\n",
       "</tbody>\n",
       "</table>"
      ]
     },
     "metadata": {},
     "output_type": "display_data"
    },
    {
     "data": {
      "text/html": [
       "<h3>Evaluation: 44 | Strategy-RANDOM |  | </h3>\n"
      ]
     },
     "metadata": {},
     "output_type": "display_data"
    },
    {
     "data": {
      "text/html": [
       "<table>\n",
       "<thead>\n",
       "<tr><th style=\"text-align: right;\">      Cumulative \n",
       "Return (%)</th><th style=\"text-align: right;\">        Maximum \n",
       "Pullback (%)</th><th style=\"text-align: right;\">  Sharpe Ratio</th><th style=\"text-align: right;\">  Total Timesteps</th></tr>\n",
       "</thead>\n",
       "<tbody>\n",
       "<tr><td style=\"text-align: right;\">64.28</td><td style=\"text-align: right;\">25.4489</td><td style=\"text-align: right;\">        0.0697</td><td style=\"text-align: right;\">              733</td></tr>\n",
       "</tbody>\n",
       "</table>"
      ]
     },
     "metadata": {},
     "output_type": "display_data"
    },
    {
     "data": {
      "text/html": [
       "<h3>Evaluation: 44 | Learning Frequency-48 | Strategy-PPOLSTM | </h3>\n"
      ]
     },
     "metadata": {},
     "output_type": "display_data"
    },
    {
     "data": {
      "text/html": [
       "<table>\n",
       "<thead>\n",
       "<tr><th style=\"text-align: right;\">       Cumulative \n",
       "Return (%)</th><th style=\"text-align: right;\">        Maximum \n",
       "Pullback (%)</th><th style=\"text-align: right;\">  Sharpe Ratio</th><th style=\"text-align: right;\">  Total Timesteps</th></tr>\n",
       "</thead>\n",
       "<tbody>\n",
       "<tr><td style=\"text-align: right;\">104.21</td><td style=\"text-align: right;\">23.5487</td><td style=\"text-align: right;\">        0.0863</td><td style=\"text-align: right;\">              733</td></tr>\n",
       "</tbody>\n",
       "</table>"
      ]
     },
     "metadata": {},
     "output_type": "display_data"
    },
    {
     "data": {
      "text/html": [
       "<h3>Evaluation: 44 | Strategy-RANDOM |  | </h3>\n"
      ]
     },
     "metadata": {},
     "output_type": "display_data"
    },
    {
     "data": {
      "text/html": [
       "<table>\n",
       "<thead>\n",
       "<tr><th style=\"text-align: right;\">      Cumulative \n",
       "Return (%)</th><th style=\"text-align: right;\">        Maximum \n",
       "Pullback (%)</th><th style=\"text-align: right;\">  Sharpe Ratio</th><th style=\"text-align: right;\">  Total Timesteps</th></tr>\n",
       "</thead>\n",
       "<tbody>\n",
       "<tr><td style=\"text-align: right;\">64.28</td><td style=\"text-align: right;\">25.4489</td><td style=\"text-align: right;\">        0.0697</td><td style=\"text-align: right;\">              733</td></tr>\n",
       "</tbody>\n",
       "</table>"
      ]
     },
     "metadata": {},
     "output_type": "display_data"
    },
    {
     "data": {
      "text/html": [
       "<h3>Evaluation: 44 | Learning Frequency-36 | Strategy-PPOLSTM | </h3>\n"
      ]
     },
     "metadata": {},
     "output_type": "display_data"
    },
    {
     "data": {
      "text/html": [
       "<table>\n",
       "<thead>\n",
       "<tr><th style=\"text-align: right;\">      Cumulative \n",
       "Return (%)</th><th style=\"text-align: right;\">        Maximum \n",
       "Pullback (%)</th><th style=\"text-align: right;\">  Sharpe Ratio</th><th style=\"text-align: right;\">  Total Timesteps</th></tr>\n",
       "</thead>\n",
       "<tbody>\n",
       "<tr><td style=\"text-align: right;\">98.87</td><td style=\"text-align: right;\">27.3572</td><td style=\"text-align: right;\">         0.081</td><td style=\"text-align: right;\">              733</td></tr>\n",
       "</tbody>\n",
       "</table>"
      ]
     },
     "metadata": {},
     "output_type": "display_data"
    },
    {
     "data": {
      "text/html": [
       "<h3>Evaluation: 44 | Strategy-RANDOM |  | </h3>\n"
      ]
     },
     "metadata": {},
     "output_type": "display_data"
    },
    {
     "data": {
      "text/html": [
       "<table>\n",
       "<thead>\n",
       "<tr><th style=\"text-align: right;\">      Cumulative \n",
       "Return (%)</th><th style=\"text-align: right;\">        Maximum \n",
       "Pullback (%)</th><th style=\"text-align: right;\">  Sharpe Ratio</th><th style=\"text-align: right;\">  Total Timesteps</th></tr>\n",
       "</thead>\n",
       "<tbody>\n",
       "<tr><td style=\"text-align: right;\">64.28</td><td style=\"text-align: right;\">25.4489</td><td style=\"text-align: right;\">        0.0697</td><td style=\"text-align: right;\">              733</td></tr>\n",
       "</tbody>\n",
       "</table>"
      ]
     },
     "metadata": {},
     "output_type": "display_data"
    },
    {
     "data": {
      "text/html": [
       "<h3>Evaluation: 44 | Learning Frequency-29 | Strategy-PPOLSTM | </h3>\n"
      ]
     },
     "metadata": {},
     "output_type": "display_data"
    },
    {
     "data": {
      "text/html": [
       "<table>\n",
       "<thead>\n",
       "<tr><th style=\"text-align: right;\">      Cumulative \n",
       "Return (%)</th><th style=\"text-align: right;\">        Maximum \n",
       "Pullback (%)</th><th style=\"text-align: right;\">  Sharpe Ratio</th><th style=\"text-align: right;\">  Total Timesteps</th></tr>\n",
       "</thead>\n",
       "<tbody>\n",
       "<tr><td style=\"text-align: right;\">70.19</td><td style=\"text-align: right;\">26.1372</td><td style=\"text-align: right;\">        0.0694</td><td style=\"text-align: right;\">              733</td></tr>\n",
       "</tbody>\n",
       "</table>"
      ]
     },
     "metadata": {},
     "output_type": "display_data"
    },
    {
     "data": {
      "text/html": [
       "<h3>Evaluation: 55 | Strategy-RANDOM |  | </h3>\n"
      ]
     },
     "metadata": {},
     "output_type": "display_data"
    },
    {
     "data": {
      "text/html": [
       "<table>\n",
       "<thead>\n",
       "<tr><th style=\"text-align: right;\">      Cumulative \n",
       "Return (%)</th><th style=\"text-align: right;\">        Maximum \n",
       "Pullback (%)</th><th style=\"text-align: right;\">  Sharpe Ratio</th><th style=\"text-align: right;\">  Total Timesteps</th></tr>\n",
       "</thead>\n",
       "<tbody>\n",
       "<tr><td style=\"text-align: right;\">36.66</td><td style=\"text-align: right;\">26.8224</td><td style=\"text-align: right;\">         0.039</td><td style=\"text-align: right;\">              733</td></tr>\n",
       "</tbody>\n",
       "</table>"
      ]
     },
     "metadata": {},
     "output_type": "display_data"
    },
    {
     "data": {
      "text/html": [
       "<h3>Evaluation: 55 | Learning Frequency-146 | Strategy-PPOLSTM | </h3>\n"
      ]
     },
     "metadata": {},
     "output_type": "display_data"
    },
    {
     "data": {
      "text/html": [
       "<table>\n",
       "<thead>\n",
       "<tr><th style=\"text-align: right;\">     Cumulative \n",
       "Return (%)</th><th style=\"text-align: right;\">        Maximum \n",
       "Pullback (%)</th><th style=\"text-align: right;\">  Sharpe Ratio</th><th style=\"text-align: right;\">  Total Timesteps</th></tr>\n",
       "</thead>\n",
       "<tbody>\n",
       "<tr><td style=\"text-align: right;\">64.1</td><td style=\"text-align: right;\">26.3333</td><td style=\"text-align: right;\">        0.0655</td><td style=\"text-align: right;\">              733</td></tr>\n",
       "</tbody>\n",
       "</table>"
      ]
     },
     "metadata": {},
     "output_type": "display_data"
    },
    {
     "data": {
      "text/html": [
       "<h3>Evaluation: 55 | Strategy-RANDOM |  | </h3>\n"
      ]
     },
     "metadata": {},
     "output_type": "display_data"
    },
    {
     "data": {
      "text/html": [
       "<table>\n",
       "<thead>\n",
       "<tr><th style=\"text-align: right;\">      Cumulative \n",
       "Return (%)</th><th style=\"text-align: right;\">        Maximum \n",
       "Pullback (%)</th><th style=\"text-align: right;\">  Sharpe Ratio</th><th style=\"text-align: right;\">  Total Timesteps</th></tr>\n",
       "</thead>\n",
       "<tbody>\n",
       "<tr><td style=\"text-align: right;\">36.66</td><td style=\"text-align: right;\">26.8224</td><td style=\"text-align: right;\">         0.039</td><td style=\"text-align: right;\">              733</td></tr>\n",
       "</tbody>\n",
       "</table>"
      ]
     },
     "metadata": {},
     "output_type": "display_data"
    },
    {
     "data": {
      "text/html": [
       "<h3>Evaluation: 55 | Learning Frequency-73 | Strategy-PPOLSTM | </h3>\n"
      ]
     },
     "metadata": {},
     "output_type": "display_data"
    },
    {
     "data": {
      "text/html": [
       "<table>\n",
       "<thead>\n",
       "<tr><th style=\"text-align: right;\">      Cumulative \n",
       "Return (%)</th><th style=\"text-align: right;\">        Maximum \n",
       "Pullback (%)</th><th style=\"text-align: right;\">  Sharpe Ratio</th><th style=\"text-align: right;\">  Total Timesteps</th></tr>\n",
       "</thead>\n",
       "<tbody>\n",
       "<tr><td style=\"text-align: right;\">67.87</td><td style=\"text-align: right;\">27.1316</td><td style=\"text-align: right;\">        0.0637</td><td style=\"text-align: right;\">              733</td></tr>\n",
       "</tbody>\n",
       "</table>"
      ]
     },
     "metadata": {},
     "output_type": "display_data"
    },
    {
     "data": {
      "text/html": [
       "<h3>Evaluation: 55 | Strategy-RANDOM |  | </h3>\n"
      ]
     },
     "metadata": {},
     "output_type": "display_data"
    },
    {
     "data": {
      "text/html": [
       "<table>\n",
       "<thead>\n",
       "<tr><th style=\"text-align: right;\">      Cumulative \n",
       "Return (%)</th><th style=\"text-align: right;\">        Maximum \n",
       "Pullback (%)</th><th style=\"text-align: right;\">  Sharpe Ratio</th><th style=\"text-align: right;\">  Total Timesteps</th></tr>\n",
       "</thead>\n",
       "<tbody>\n",
       "<tr><td style=\"text-align: right;\">36.66</td><td style=\"text-align: right;\">26.8224</td><td style=\"text-align: right;\">         0.039</td><td style=\"text-align: right;\">              733</td></tr>\n",
       "</tbody>\n",
       "</table>"
      ]
     },
     "metadata": {},
     "output_type": "display_data"
    },
    {
     "data": {
      "text/html": [
       "<h3>Evaluation: 55 | Learning Frequency-48 | Strategy-PPOLSTM | </h3>\n"
      ]
     },
     "metadata": {},
     "output_type": "display_data"
    },
    {
     "data": {
      "text/html": [
       "<table>\n",
       "<thead>\n",
       "<tr><th style=\"text-align: right;\">       Cumulative \n",
       "Return (%)</th><th style=\"text-align: right;\">        Maximum \n",
       "Pullback (%)</th><th style=\"text-align: right;\">  Sharpe Ratio</th><th style=\"text-align: right;\">  Total Timesteps</th></tr>\n",
       "</thead>\n",
       "<tbody>\n",
       "<tr><td style=\"text-align: right;\">109.27</td><td style=\"text-align: right;\">24.3068</td><td style=\"text-align: right;\">        0.0874</td><td style=\"text-align: right;\">              733</td></tr>\n",
       "</tbody>\n",
       "</table>"
      ]
     },
     "metadata": {},
     "output_type": "display_data"
    },
    {
     "data": {
      "text/html": [
       "<h3>Evaluation: 55 | Strategy-RANDOM |  | </h3>\n"
      ]
     },
     "metadata": {},
     "output_type": "display_data"
    },
    {
     "data": {
      "text/html": [
       "<table>\n",
       "<thead>\n",
       "<tr><th style=\"text-align: right;\">      Cumulative \n",
       "Return (%)</th><th style=\"text-align: right;\">        Maximum \n",
       "Pullback (%)</th><th style=\"text-align: right;\">  Sharpe Ratio</th><th style=\"text-align: right;\">  Total Timesteps</th></tr>\n",
       "</thead>\n",
       "<tbody>\n",
       "<tr><td style=\"text-align: right;\">36.66</td><td style=\"text-align: right;\">26.8224</td><td style=\"text-align: right;\">         0.039</td><td style=\"text-align: right;\">              733</td></tr>\n",
       "</tbody>\n",
       "</table>"
      ]
     },
     "metadata": {},
     "output_type": "display_data"
    },
    {
     "data": {
      "text/html": [
       "<h3>Evaluation: 55 | Learning Frequency-36 | Strategy-PPOLSTM | </h3>\n"
      ]
     },
     "metadata": {},
     "output_type": "display_data"
    },
    {
     "data": {
      "text/html": [
       "<table>\n",
       "<thead>\n",
       "<tr><th style=\"text-align: right;\">       Cumulative \n",
       "Return (%)</th><th style=\"text-align: right;\">        Maximum \n",
       "Pullback (%)</th><th style=\"text-align: right;\">  Sharpe Ratio</th><th style=\"text-align: right;\">  Total Timesteps</th></tr>\n",
       "</thead>\n",
       "<tbody>\n",
       "<tr><td style=\"text-align: right;\">108.42</td><td style=\"text-align: right;\">29.4362</td><td style=\"text-align: right;\">        0.0796</td><td style=\"text-align: right;\">              733</td></tr>\n",
       "</tbody>\n",
       "</table>"
      ]
     },
     "metadata": {},
     "output_type": "display_data"
    },
    {
     "data": {
      "text/html": [
       "<h3>Evaluation: 55 | Strategy-RANDOM |  | </h3>\n"
      ]
     },
     "metadata": {},
     "output_type": "display_data"
    },
    {
     "data": {
      "text/html": [
       "<table>\n",
       "<thead>\n",
       "<tr><th style=\"text-align: right;\">      Cumulative \n",
       "Return (%)</th><th style=\"text-align: right;\">        Maximum \n",
       "Pullback (%)</th><th style=\"text-align: right;\">  Sharpe Ratio</th><th style=\"text-align: right;\">  Total Timesteps</th></tr>\n",
       "</thead>\n",
       "<tbody>\n",
       "<tr><td style=\"text-align: right;\">36.66</td><td style=\"text-align: right;\">26.8224</td><td style=\"text-align: right;\">         0.039</td><td style=\"text-align: right;\">              733</td></tr>\n",
       "</tbody>\n",
       "</table>"
      ]
     },
     "metadata": {},
     "output_type": "display_data"
    },
    {
     "data": {
      "text/html": [
       "<h3>Evaluation: 55 | Learning Frequency-29 | Strategy-PPOLSTM | </h3>\n"
      ]
     },
     "metadata": {},
     "output_type": "display_data"
    },
    {
     "data": {
      "text/html": [
       "<table>\n",
       "<thead>\n",
       "<tr><th style=\"text-align: right;\">      Cumulative \n",
       "Return (%)</th><th style=\"text-align: right;\">        Maximum \n",
       "Pullback (%)</th><th style=\"text-align: right;\">  Sharpe Ratio</th><th style=\"text-align: right;\">  Total Timesteps</th></tr>\n",
       "</thead>\n",
       "<tbody>\n",
       "<tr><td style=\"text-align: right;\">41.95</td><td style=\"text-align: right;\">26.8969</td><td style=\"text-align: right;\">        0.0468</td><td style=\"text-align: right;\">              733</td></tr>\n",
       "</tbody>\n",
       "</table>"
      ]
     },
     "metadata": {},
     "output_type": "display_data"
    },
    {
     "data": {
      "text/html": [
       "<h3>Evaluation: 11 | Strategy-RANDOM |  | </h3>\n"
      ]
     },
     "metadata": {},
     "output_type": "display_data"
    },
    {
     "data": {
      "text/html": [
       "<table>\n",
       "<thead>\n",
       "<tr><th style=\"text-align: right;\">      Cumulative \n",
       "Return (%)</th><th style=\"text-align: right;\">        Maximum \n",
       "Pullback (%)</th><th style=\"text-align: right;\">  Sharpe Ratio</th><th style=\"text-align: right;\">  Total Timesteps</th></tr>\n",
       "</thead>\n",
       "<tbody>\n",
       "<tr><td style=\"text-align: right;\">51.71</td><td style=\"text-align: right;\">24.1177</td><td style=\"text-align: right;\">        0.0545</td><td style=\"text-align: right;\">              733</td></tr>\n",
       "</tbody>\n",
       "</table>"
      ]
     },
     "metadata": {},
     "output_type": "display_data"
    },
    {
     "data": {
      "text/html": [
       "<h3>Evaluation: 11 | Learning Rate-0.0001 | Strategy-PPOLSTM | </h3>\n"
      ]
     },
     "metadata": {},
     "output_type": "display_data"
    },
    {
     "data": {
      "text/html": [
       "<table>\n",
       "<thead>\n",
       "<tr><th style=\"text-align: right;\">      Cumulative \n",
       "Return (%)</th><th style=\"text-align: right;\">        Maximum \n",
       "Pullback (%)</th><th style=\"text-align: right;\">  Sharpe Ratio</th><th style=\"text-align: right;\">  Total Timesteps</th></tr>\n",
       "</thead>\n",
       "<tbody>\n",
       "<tr><td style=\"text-align: right;\">43.41</td><td style=\"text-align: right;\">28.3844</td><td style=\"text-align: right;\">        0.0425</td><td style=\"text-align: right;\">              733</td></tr>\n",
       "</tbody>\n",
       "</table>"
      ]
     },
     "metadata": {},
     "output_type": "display_data"
    },
    {
     "data": {
      "text/html": [
       "<h3>Evaluation: 11 | Strategy-RANDOM |  | </h3>\n"
      ]
     },
     "metadata": {},
     "output_type": "display_data"
    },
    {
     "data": {
      "text/html": [
       "<table>\n",
       "<thead>\n",
       "<tr><th style=\"text-align: right;\">      Cumulative \n",
       "Return (%)</th><th style=\"text-align: right;\">        Maximum \n",
       "Pullback (%)</th><th style=\"text-align: right;\">  Sharpe Ratio</th><th style=\"text-align: right;\">  Total Timesteps</th></tr>\n",
       "</thead>\n",
       "<tbody>\n",
       "<tr><td style=\"text-align: right;\">51.71</td><td style=\"text-align: right;\">24.1177</td><td style=\"text-align: right;\">        0.0545</td><td style=\"text-align: right;\">              733</td></tr>\n",
       "</tbody>\n",
       "</table>"
      ]
     },
     "metadata": {},
     "output_type": "display_data"
    },
    {
     "data": {
      "text/html": [
       "<h3>Evaluation: 11 | Learning Rate-0.0003 | Strategy-PPOLSTM | </h3>\n"
      ]
     },
     "metadata": {},
     "output_type": "display_data"
    },
    {
     "data": {
      "text/html": [
       "<table>\n",
       "<thead>\n",
       "<tr><th style=\"text-align: right;\">      Cumulative \n",
       "Return (%)</th><th style=\"text-align: right;\">        Maximum \n",
       "Pullback (%)</th><th style=\"text-align: right;\">  Sharpe Ratio</th><th style=\"text-align: right;\">  Total Timesteps</th></tr>\n",
       "</thead>\n",
       "<tbody>\n",
       "<tr><td style=\"text-align: right;\">78.43</td><td style=\"text-align: right;\">29.4613</td><td style=\"text-align: right;\">        0.0678</td><td style=\"text-align: right;\">              733</td></tr>\n",
       "</tbody>\n",
       "</table>"
      ]
     },
     "metadata": {},
     "output_type": "display_data"
    },
    {
     "data": {
      "text/html": [
       "<h3>Evaluation: 11 | Strategy-RANDOM |  | </h3>\n"
      ]
     },
     "metadata": {},
     "output_type": "display_data"
    },
    {
     "data": {
      "text/html": [
       "<table>\n",
       "<thead>\n",
       "<tr><th style=\"text-align: right;\">      Cumulative \n",
       "Return (%)</th><th style=\"text-align: right;\">        Maximum \n",
       "Pullback (%)</th><th style=\"text-align: right;\">  Sharpe Ratio</th><th style=\"text-align: right;\">  Total Timesteps</th></tr>\n",
       "</thead>\n",
       "<tbody>\n",
       "<tr><td style=\"text-align: right;\">51.71</td><td style=\"text-align: right;\">24.1177</td><td style=\"text-align: right;\">        0.0545</td><td style=\"text-align: right;\">              733</td></tr>\n",
       "</tbody>\n",
       "</table>"
      ]
     },
     "metadata": {},
     "output_type": "display_data"
    },
    {
     "data": {
      "text/html": [
       "<h3>Evaluation: 11 | Learning Rate-0.0005 | Strategy-PPOLSTM | </h3>\n"
      ]
     },
     "metadata": {},
     "output_type": "display_data"
    },
    {
     "data": {
      "text/html": [
       "<table>\n",
       "<thead>\n",
       "<tr><th style=\"text-align: right;\">      Cumulative \n",
       "Return (%)</th><th style=\"text-align: right;\">        Maximum \n",
       "Pullback (%)</th><th style=\"text-align: right;\">  Sharpe Ratio</th><th style=\"text-align: right;\">  Total Timesteps</th></tr>\n",
       "</thead>\n",
       "<tbody>\n",
       "<tr><td style=\"text-align: right;\">87.68</td><td style=\"text-align: right;\">25.1628</td><td style=\"text-align: right;\">        0.0774</td><td style=\"text-align: right;\">              733</td></tr>\n",
       "</tbody>\n",
       "</table>"
      ]
     },
     "metadata": {},
     "output_type": "display_data"
    },
    {
     "data": {
      "text/html": [
       "<h3>Evaluation: 11 | Strategy-RANDOM |  | </h3>\n"
      ]
     },
     "metadata": {},
     "output_type": "display_data"
    },
    {
     "data": {
      "text/html": [
       "<table>\n",
       "<thead>\n",
       "<tr><th style=\"text-align: right;\">      Cumulative \n",
       "Return (%)</th><th style=\"text-align: right;\">        Maximum \n",
       "Pullback (%)</th><th style=\"text-align: right;\">  Sharpe Ratio</th><th style=\"text-align: right;\">  Total Timesteps</th></tr>\n",
       "</thead>\n",
       "<tbody>\n",
       "<tr><td style=\"text-align: right;\">51.71</td><td style=\"text-align: right;\">24.1177</td><td style=\"text-align: right;\">        0.0545</td><td style=\"text-align: right;\">              733</td></tr>\n",
       "</tbody>\n",
       "</table>"
      ]
     },
     "metadata": {},
     "output_type": "display_data"
    },
    {
     "data": {
      "text/html": [
       "<h3>Evaluation: 11 | Learning Rate-0.0007 | Strategy-PPOLSTM | </h3>\n"
      ]
     },
     "metadata": {},
     "output_type": "display_data"
    },
    {
     "data": {
      "text/html": [
       "<table>\n",
       "<thead>\n",
       "<tr><th style=\"text-align: right;\">     Cumulative \n",
       "Return (%)</th><th style=\"text-align: right;\">        Maximum \n",
       "Pullback (%)</th><th style=\"text-align: right;\">  Sharpe Ratio</th><th style=\"text-align: right;\">  Total Timesteps</th></tr>\n",
       "</thead>\n",
       "<tbody>\n",
       "<tr><td style=\"text-align: right;\">22.3</td><td style=\"text-align: right;\">29.4586</td><td style=\"text-align: right;\">        0.0216</td><td style=\"text-align: right;\">              733</td></tr>\n",
       "</tbody>\n",
       "</table>"
      ]
     },
     "metadata": {},
     "output_type": "display_data"
    },
    {
     "data": {
      "text/html": [
       "<h3>Evaluation: 22 | Strategy-RANDOM |  | </h3>\n"
      ]
     },
     "metadata": {},
     "output_type": "display_data"
    },
    {
     "data": {
      "text/html": [
       "<table>\n",
       "<thead>\n",
       "<tr><th style=\"text-align: right;\">      Cumulative \n",
       "Return (%)</th><th style=\"text-align: right;\">        Maximum \n",
       "Pullback (%)</th><th style=\"text-align: right;\">  Sharpe Ratio</th><th style=\"text-align: right;\">  Total Timesteps</th></tr>\n",
       "</thead>\n",
       "<tbody>\n",
       "<tr><td style=\"text-align: right;\">45.49</td><td style=\"text-align: right;\">28.3317</td><td style=\"text-align: right;\">        0.0454</td><td style=\"text-align: right;\">              733</td></tr>\n",
       "</tbody>\n",
       "</table>"
      ]
     },
     "metadata": {},
     "output_type": "display_data"
    },
    {
     "data": {
      "text/html": [
       "<h3>Evaluation: 22 | Learning Rate-0.0001 | Strategy-PPOLSTM | </h3>\n"
      ]
     },
     "metadata": {},
     "output_type": "display_data"
    },
    {
     "data": {
      "text/html": [
       "<table>\n",
       "<thead>\n",
       "<tr><th style=\"text-align: right;\">      Cumulative \n",
       "Return (%)</th><th style=\"text-align: right;\">        Maximum \n",
       "Pullback (%)</th><th style=\"text-align: right;\">  Sharpe Ratio</th><th style=\"text-align: right;\">  Total Timesteps</th></tr>\n",
       "</thead>\n",
       "<tbody>\n",
       "<tr><td style=\"text-align: right;\">78.56</td><td style=\"text-align: right;\">27.3638</td><td style=\"text-align: right;\">        0.0712</td><td style=\"text-align: right;\">              733</td></tr>\n",
       "</tbody>\n",
       "</table>"
      ]
     },
     "metadata": {},
     "output_type": "display_data"
    },
    {
     "data": {
      "text/html": [
       "<h3>Evaluation: 22 | Strategy-RANDOM |  | </h3>\n"
      ]
     },
     "metadata": {},
     "output_type": "display_data"
    },
    {
     "data": {
      "text/html": [
       "<table>\n",
       "<thead>\n",
       "<tr><th style=\"text-align: right;\">      Cumulative \n",
       "Return (%)</th><th style=\"text-align: right;\">        Maximum \n",
       "Pullback (%)</th><th style=\"text-align: right;\">  Sharpe Ratio</th><th style=\"text-align: right;\">  Total Timesteps</th></tr>\n",
       "</thead>\n",
       "<tbody>\n",
       "<tr><td style=\"text-align: right;\">45.49</td><td style=\"text-align: right;\">28.3317</td><td style=\"text-align: right;\">        0.0454</td><td style=\"text-align: right;\">              733</td></tr>\n",
       "</tbody>\n",
       "</table>"
      ]
     },
     "metadata": {},
     "output_type": "display_data"
    },
    {
     "data": {
      "text/html": [
       "<h3>Evaluation: 22 | Learning Rate-0.0003 | Strategy-PPOLSTM | </h3>\n"
      ]
     },
     "metadata": {},
     "output_type": "display_data"
    },
    {
     "data": {
      "text/html": [
       "<table>\n",
       "<thead>\n",
       "<tr><th style=\"text-align: right;\">      Cumulative \n",
       "Return (%)</th><th style=\"text-align: right;\">        Maximum \n",
       "Pullback (%)</th><th style=\"text-align: right;\">  Sharpe Ratio</th><th style=\"text-align: right;\">  Total Timesteps</th></tr>\n",
       "</thead>\n",
       "<tbody>\n",
       "<tr><td style=\"text-align: right;\">67.15</td><td style=\"text-align: right;\">26.0168</td><td style=\"text-align: right;\">        0.0653</td><td style=\"text-align: right;\">              733</td></tr>\n",
       "</tbody>\n",
       "</table>"
      ]
     },
     "metadata": {},
     "output_type": "display_data"
    },
    {
     "data": {
      "text/html": [
       "<h3>Evaluation: 22 | Strategy-RANDOM |  | </h3>\n"
      ]
     },
     "metadata": {},
     "output_type": "display_data"
    },
    {
     "data": {
      "text/html": [
       "<table>\n",
       "<thead>\n",
       "<tr><th style=\"text-align: right;\">      Cumulative \n",
       "Return (%)</th><th style=\"text-align: right;\">        Maximum \n",
       "Pullback (%)</th><th style=\"text-align: right;\">  Sharpe Ratio</th><th style=\"text-align: right;\">  Total Timesteps</th></tr>\n",
       "</thead>\n",
       "<tbody>\n",
       "<tr><td style=\"text-align: right;\">45.49</td><td style=\"text-align: right;\">28.3317</td><td style=\"text-align: right;\">        0.0454</td><td style=\"text-align: right;\">              733</td></tr>\n",
       "</tbody>\n",
       "</table>"
      ]
     },
     "metadata": {},
     "output_type": "display_data"
    },
    {
     "data": {
      "text/html": [
       "<h3>Evaluation: 22 | Learning Rate-0.0005 | Strategy-PPOLSTM | </h3>\n"
      ]
     },
     "metadata": {},
     "output_type": "display_data"
    },
    {
     "data": {
      "text/html": [
       "<table>\n",
       "<thead>\n",
       "<tr><th style=\"text-align: right;\">      Cumulative \n",
       "Return (%)</th><th style=\"text-align: right;\">        Maximum \n",
       "Pullback (%)</th><th style=\"text-align: right;\">  Sharpe Ratio</th><th style=\"text-align: right;\">  Total Timesteps</th></tr>\n",
       "</thead>\n",
       "<tbody>\n",
       "<tr><td style=\"text-align: right;\">77.55</td><td style=\"text-align: right;\">29.6897</td><td style=\"text-align: right;\">        0.0653</td><td style=\"text-align: right;\">              733</td></tr>\n",
       "</tbody>\n",
       "</table>"
      ]
     },
     "metadata": {},
     "output_type": "display_data"
    },
    {
     "data": {
      "text/html": [
       "<h3>Evaluation: 22 | Strategy-RANDOM |  | </h3>\n"
      ]
     },
     "metadata": {},
     "output_type": "display_data"
    },
    {
     "data": {
      "text/html": [
       "<table>\n",
       "<thead>\n",
       "<tr><th style=\"text-align: right;\">      Cumulative \n",
       "Return (%)</th><th style=\"text-align: right;\">        Maximum \n",
       "Pullback (%)</th><th style=\"text-align: right;\">  Sharpe Ratio</th><th style=\"text-align: right;\">  Total Timesteps</th></tr>\n",
       "</thead>\n",
       "<tbody>\n",
       "<tr><td style=\"text-align: right;\">45.49</td><td style=\"text-align: right;\">28.3317</td><td style=\"text-align: right;\">        0.0454</td><td style=\"text-align: right;\">              733</td></tr>\n",
       "</tbody>\n",
       "</table>"
      ]
     },
     "metadata": {},
     "output_type": "display_data"
    },
    {
     "data": {
      "text/html": [
       "<h3>Evaluation: 22 | Learning Rate-0.0007 | Strategy-PPOLSTM | </h3>\n"
      ]
     },
     "metadata": {},
     "output_type": "display_data"
    },
    {
     "data": {
      "text/html": [
       "<table>\n",
       "<thead>\n",
       "<tr><th style=\"text-align: right;\">      Cumulative \n",
       "Return (%)</th><th style=\"text-align: right;\">        Maximum \n",
       "Pullback (%)</th><th style=\"text-align: right;\">  Sharpe Ratio</th><th style=\"text-align: right;\">  Total Timesteps</th></tr>\n",
       "</thead>\n",
       "<tbody>\n",
       "<tr><td style=\"text-align: right;\">22.65</td><td style=\"text-align: right;\">29.1226</td><td style=\"text-align: right;\">        0.0229</td><td style=\"text-align: right;\">              733</td></tr>\n",
       "</tbody>\n",
       "</table>"
      ]
     },
     "metadata": {},
     "output_type": "display_data"
    },
    {
     "data": {
      "text/html": [
       "<h3>Evaluation: 33 | Strategy-RANDOM |  | </h3>\n"
      ]
     },
     "metadata": {},
     "output_type": "display_data"
    },
    {
     "data": {
      "text/html": [
       "<table>\n",
       "<thead>\n",
       "<tr><th style=\"text-align: right;\">      Cumulative \n",
       "Return (%)</th><th style=\"text-align: right;\">        Maximum \n",
       "Pullback (%)</th><th style=\"text-align: right;\">  Sharpe Ratio</th><th style=\"text-align: right;\">  Total Timesteps</th></tr>\n",
       "</thead>\n",
       "<tbody>\n",
       "<tr><td style=\"text-align: right;\">52.18</td><td style=\"text-align: right;\">25.4406</td><td style=\"text-align: right;\">        0.0542</td><td style=\"text-align: right;\">              733</td></tr>\n",
       "</tbody>\n",
       "</table>"
      ]
     },
     "metadata": {},
     "output_type": "display_data"
    },
    {
     "data": {
      "text/html": [
       "<h3>Evaluation: 33 | Learning Rate-0.0001 | Strategy-PPOLSTM | </h3>\n"
      ]
     },
     "metadata": {},
     "output_type": "display_data"
    },
    {
     "data": {
      "text/html": [
       "<table>\n",
       "<thead>\n",
       "<tr><th style=\"text-align: right;\">      Cumulative \n",
       "Return (%)</th><th style=\"text-align: right;\">        Maximum \n",
       "Pullback (%)</th><th style=\"text-align: right;\">  Sharpe Ratio</th><th style=\"text-align: right;\">  Total Timesteps</th></tr>\n",
       "</thead>\n",
       "<tbody>\n",
       "<tr><td style=\"text-align: right;\">87.11</td><td style=\"text-align: right;\">23.2064</td><td style=\"text-align: right;\">        0.0835</td><td style=\"text-align: right;\">              733</td></tr>\n",
       "</tbody>\n",
       "</table>"
      ]
     },
     "metadata": {},
     "output_type": "display_data"
    },
    {
     "data": {
      "text/html": [
       "<h3>Evaluation: 33 | Strategy-RANDOM |  | </h3>\n"
      ]
     },
     "metadata": {},
     "output_type": "display_data"
    },
    {
     "data": {
      "text/html": [
       "<table>\n",
       "<thead>\n",
       "<tr><th style=\"text-align: right;\">      Cumulative \n",
       "Return (%)</th><th style=\"text-align: right;\">        Maximum \n",
       "Pullback (%)</th><th style=\"text-align: right;\">  Sharpe Ratio</th><th style=\"text-align: right;\">  Total Timesteps</th></tr>\n",
       "</thead>\n",
       "<tbody>\n",
       "<tr><td style=\"text-align: right;\">52.18</td><td style=\"text-align: right;\">25.4406</td><td style=\"text-align: right;\">        0.0542</td><td style=\"text-align: right;\">              733</td></tr>\n",
       "</tbody>\n",
       "</table>"
      ]
     },
     "metadata": {},
     "output_type": "display_data"
    },
    {
     "data": {
      "text/html": [
       "<h3>Evaluation: 33 | Learning Rate-0.0003 | Strategy-PPOLSTM | </h3>\n"
      ]
     },
     "metadata": {},
     "output_type": "display_data"
    },
    {
     "data": {
      "text/html": [
       "<table>\n",
       "<thead>\n",
       "<tr><th style=\"text-align: right;\">      Cumulative \n",
       "Return (%)</th><th style=\"text-align: right;\">        Maximum \n",
       "Pullback (%)</th><th style=\"text-align: right;\">  Sharpe Ratio</th><th style=\"text-align: right;\">  Total Timesteps</th></tr>\n",
       "</thead>\n",
       "<tbody>\n",
       "<tr><td style=\"text-align: right;\">62.96</td><td style=\"text-align: right;\">25.4236</td><td style=\"text-align: right;\">        0.0662</td><td style=\"text-align: right;\">              733</td></tr>\n",
       "</tbody>\n",
       "</table>"
      ]
     },
     "metadata": {},
     "output_type": "display_data"
    },
    {
     "data": {
      "text/html": [
       "<h3>Evaluation: 33 | Strategy-RANDOM |  | </h3>\n"
      ]
     },
     "metadata": {},
     "output_type": "display_data"
    },
    {
     "data": {
      "text/html": [
       "<table>\n",
       "<thead>\n",
       "<tr><th style=\"text-align: right;\">      Cumulative \n",
       "Return (%)</th><th style=\"text-align: right;\">        Maximum \n",
       "Pullback (%)</th><th style=\"text-align: right;\">  Sharpe Ratio</th><th style=\"text-align: right;\">  Total Timesteps</th></tr>\n",
       "</thead>\n",
       "<tbody>\n",
       "<tr><td style=\"text-align: right;\">52.18</td><td style=\"text-align: right;\">25.4406</td><td style=\"text-align: right;\">        0.0542</td><td style=\"text-align: right;\">              733</td></tr>\n",
       "</tbody>\n",
       "</table>"
      ]
     },
     "metadata": {},
     "output_type": "display_data"
    },
    {
     "data": {
      "text/html": [
       "<h3>Evaluation: 33 | Learning Rate-0.0005 | Strategy-PPOLSTM | </h3>\n"
      ]
     },
     "metadata": {},
     "output_type": "display_data"
    },
    {
     "data": {
      "text/html": [
       "<table>\n",
       "<thead>\n",
       "<tr><th style=\"text-align: right;\">     Cumulative \n",
       "Return (%)</th><th style=\"text-align: right;\">        Maximum \n",
       "Pullback (%)</th><th style=\"text-align: right;\">  Sharpe Ratio</th><th style=\"text-align: right;\">  Total Timesteps</th></tr>\n",
       "</thead>\n",
       "<tbody>\n",
       "<tr><td style=\"text-align: right;\">59.7</td><td style=\"text-align: right;\">31.6251</td><td style=\"text-align: right;\">        0.0514</td><td style=\"text-align: right;\">              733</td></tr>\n",
       "</tbody>\n",
       "</table>"
      ]
     },
     "metadata": {},
     "output_type": "display_data"
    },
    {
     "data": {
      "text/html": [
       "<h3>Evaluation: 33 | Strategy-RANDOM |  | </h3>\n"
      ]
     },
     "metadata": {},
     "output_type": "display_data"
    },
    {
     "data": {
      "text/html": [
       "<table>\n",
       "<thead>\n",
       "<tr><th style=\"text-align: right;\">      Cumulative \n",
       "Return (%)</th><th style=\"text-align: right;\">        Maximum \n",
       "Pullback (%)</th><th style=\"text-align: right;\">  Sharpe Ratio</th><th style=\"text-align: right;\">  Total Timesteps</th></tr>\n",
       "</thead>\n",
       "<tbody>\n",
       "<tr><td style=\"text-align: right;\">52.18</td><td style=\"text-align: right;\">25.4406</td><td style=\"text-align: right;\">        0.0542</td><td style=\"text-align: right;\">              733</td></tr>\n",
       "</tbody>\n",
       "</table>"
      ]
     },
     "metadata": {},
     "output_type": "display_data"
    },
    {
     "data": {
      "text/html": [
       "<h3>Evaluation: 33 | Learning Rate-0.0007 | Strategy-PPOLSTM | </h3>\n"
      ]
     },
     "metadata": {},
     "output_type": "display_data"
    },
    {
     "data": {
      "text/html": [
       "<table>\n",
       "<thead>\n",
       "<tr><th style=\"text-align: right;\">      Cumulative \n",
       "Return (%)</th><th style=\"text-align: right;\">        Maximum \n",
       "Pullback (%)</th><th style=\"text-align: right;\">  Sharpe Ratio</th><th style=\"text-align: right;\">  Total Timesteps</th></tr>\n",
       "</thead>\n",
       "<tbody>\n",
       "<tr><td style=\"text-align: right;\">28.14</td><td style=\"text-align: right;\">30.8881</td><td style=\"text-align: right;\">        0.0272</td><td style=\"text-align: right;\">              733</td></tr>\n",
       "</tbody>\n",
       "</table>"
      ]
     },
     "metadata": {},
     "output_type": "display_data"
    },
    {
     "data": {
      "text/html": [
       "<h3>Evaluation: 44 | Strategy-RANDOM |  | </h3>\n"
      ]
     },
     "metadata": {},
     "output_type": "display_data"
    },
    {
     "data": {
      "text/html": [
       "<table>\n",
       "<thead>\n",
       "<tr><th style=\"text-align: right;\">      Cumulative \n",
       "Return (%)</th><th style=\"text-align: right;\">        Maximum \n",
       "Pullback (%)</th><th style=\"text-align: right;\">  Sharpe Ratio</th><th style=\"text-align: right;\">  Total Timesteps</th></tr>\n",
       "</thead>\n",
       "<tbody>\n",
       "<tr><td style=\"text-align: right;\">64.28</td><td style=\"text-align: right;\">25.4489</td><td style=\"text-align: right;\">        0.0697</td><td style=\"text-align: right;\">              733</td></tr>\n",
       "</tbody>\n",
       "</table>"
      ]
     },
     "metadata": {},
     "output_type": "display_data"
    },
    {
     "data": {
      "text/html": [
       "<h3>Evaluation: 44 | Learning Rate-0.0001 | Strategy-PPOLSTM | </h3>\n"
      ]
     },
     "metadata": {},
     "output_type": "display_data"
    },
    {
     "data": {
      "text/html": [
       "<table>\n",
       "<thead>\n",
       "<tr><th style=\"text-align: right;\">      Cumulative \n",
       "Return (%)</th><th style=\"text-align: right;\">        Maximum \n",
       "Pullback (%)</th><th style=\"text-align: right;\">  Sharpe Ratio</th><th style=\"text-align: right;\">  Total Timesteps</th></tr>\n",
       "</thead>\n",
       "<tbody>\n",
       "<tr><td style=\"text-align: right;\">72.34</td><td style=\"text-align: right;\">25.0778</td><td style=\"text-align: right;\">        0.0731</td><td style=\"text-align: right;\">              733</td></tr>\n",
       "</tbody>\n",
       "</table>"
      ]
     },
     "metadata": {},
     "output_type": "display_data"
    },
    {
     "data": {
      "text/html": [
       "<h3>Evaluation: 44 | Strategy-RANDOM |  | </h3>\n"
      ]
     },
     "metadata": {},
     "output_type": "display_data"
    },
    {
     "data": {
      "text/html": [
       "<table>\n",
       "<thead>\n",
       "<tr><th style=\"text-align: right;\">      Cumulative \n",
       "Return (%)</th><th style=\"text-align: right;\">        Maximum \n",
       "Pullback (%)</th><th style=\"text-align: right;\">  Sharpe Ratio</th><th style=\"text-align: right;\">  Total Timesteps</th></tr>\n",
       "</thead>\n",
       "<tbody>\n",
       "<tr><td style=\"text-align: right;\">64.28</td><td style=\"text-align: right;\">25.4489</td><td style=\"text-align: right;\">        0.0697</td><td style=\"text-align: right;\">              733</td></tr>\n",
       "</tbody>\n",
       "</table>"
      ]
     },
     "metadata": {},
     "output_type": "display_data"
    },
    {
     "data": {
      "text/html": [
       "<h3>Evaluation: 44 | Learning Rate-0.0003 | Strategy-PPOLSTM | </h3>\n"
      ]
     },
     "metadata": {},
     "output_type": "display_data"
    },
    {
     "data": {
      "text/html": [
       "<table>\n",
       "<thead>\n",
       "<tr><th style=\"text-align: right;\">      Cumulative \n",
       "Return (%)</th><th style=\"text-align: right;\">        Maximum \n",
       "Pullback (%)</th><th style=\"text-align: right;\">  Sharpe Ratio</th><th style=\"text-align: right;\">  Total Timesteps</th></tr>\n",
       "</thead>\n",
       "<tbody>\n",
       "<tr><td style=\"text-align: right;\">70.19</td><td style=\"text-align: right;\">26.1372</td><td style=\"text-align: right;\">        0.0694</td><td style=\"text-align: right;\">              733</td></tr>\n",
       "</tbody>\n",
       "</table>"
      ]
     },
     "metadata": {},
     "output_type": "display_data"
    },
    {
     "data": {
      "text/html": [
       "<h3>Evaluation: 44 | Strategy-RANDOM |  | </h3>\n"
      ]
     },
     "metadata": {},
     "output_type": "display_data"
    },
    {
     "data": {
      "text/html": [
       "<table>\n",
       "<thead>\n",
       "<tr><th style=\"text-align: right;\">      Cumulative \n",
       "Return (%)</th><th style=\"text-align: right;\">        Maximum \n",
       "Pullback (%)</th><th style=\"text-align: right;\">  Sharpe Ratio</th><th style=\"text-align: right;\">  Total Timesteps</th></tr>\n",
       "</thead>\n",
       "<tbody>\n",
       "<tr><td style=\"text-align: right;\">64.28</td><td style=\"text-align: right;\">25.4489</td><td style=\"text-align: right;\">        0.0697</td><td style=\"text-align: right;\">              733</td></tr>\n",
       "</tbody>\n",
       "</table>"
      ]
     },
     "metadata": {},
     "output_type": "display_data"
    },
    {
     "data": {
      "text/html": [
       "<h3>Evaluation: 44 | Learning Rate-0.0005 | Strategy-PPOLSTM | </h3>\n"
      ]
     },
     "metadata": {},
     "output_type": "display_data"
    },
    {
     "data": {
      "text/html": [
       "<table>\n",
       "<thead>\n",
       "<tr><th style=\"text-align: right;\">      Cumulative \n",
       "Return (%)</th><th style=\"text-align: right;\">        Maximum \n",
       "Pullback (%)</th><th style=\"text-align: right;\">  Sharpe Ratio</th><th style=\"text-align: right;\">  Total Timesteps</th></tr>\n",
       "</thead>\n",
       "<tbody>\n",
       "<tr><td style=\"text-align: right;\">67.71</td><td style=\"text-align: right;\">30.8016</td><td style=\"text-align: right;\">        0.0554</td><td style=\"text-align: right;\">              733</td></tr>\n",
       "</tbody>\n",
       "</table>"
      ]
     },
     "metadata": {},
     "output_type": "display_data"
    },
    {
     "data": {
      "text/html": [
       "<h3>Evaluation: 44 | Strategy-RANDOM |  | </h3>\n"
      ]
     },
     "metadata": {},
     "output_type": "display_data"
    },
    {
     "data": {
      "text/html": [
       "<table>\n",
       "<thead>\n",
       "<tr><th style=\"text-align: right;\">      Cumulative \n",
       "Return (%)</th><th style=\"text-align: right;\">        Maximum \n",
       "Pullback (%)</th><th style=\"text-align: right;\">  Sharpe Ratio</th><th style=\"text-align: right;\">  Total Timesteps</th></tr>\n",
       "</thead>\n",
       "<tbody>\n",
       "<tr><td style=\"text-align: right;\">64.28</td><td style=\"text-align: right;\">25.4489</td><td style=\"text-align: right;\">        0.0697</td><td style=\"text-align: right;\">              733</td></tr>\n",
       "</tbody>\n",
       "</table>"
      ]
     },
     "metadata": {},
     "output_type": "display_data"
    },
    {
     "data": {
      "text/html": [
       "<h3>Evaluation: 44 | Learning Rate-0.0007 | Strategy-PPOLSTM | </h3>\n"
      ]
     },
     "metadata": {},
     "output_type": "display_data"
    },
    {
     "data": {
      "text/html": [
       "<table>\n",
       "<thead>\n",
       "<tr><th style=\"text-align: right;\">     Cumulative \n",
       "Return (%)</th><th style=\"text-align: right;\">        Maximum \n",
       "Pullback (%)</th><th style=\"text-align: right;\">  Sharpe Ratio</th><th style=\"text-align: right;\">  Total Timesteps</th></tr>\n",
       "</thead>\n",
       "<tbody>\n",
       "<tr><td style=\"text-align: right;\">2.19</td><td style=\"text-align: right;\">32.7025</td><td style=\"text-align: right;\">        0.0022</td><td style=\"text-align: right;\">              733</td></tr>\n",
       "</tbody>\n",
       "</table>"
      ]
     },
     "metadata": {},
     "output_type": "display_data"
    },
    {
     "data": {
      "text/html": [
       "<h3>Evaluation: 55 | Strategy-RANDOM |  | </h3>\n"
      ]
     },
     "metadata": {},
     "output_type": "display_data"
    },
    {
     "data": {
      "text/html": [
       "<table>\n",
       "<thead>\n",
       "<tr><th style=\"text-align: right;\">      Cumulative \n",
       "Return (%)</th><th style=\"text-align: right;\">        Maximum \n",
       "Pullback (%)</th><th style=\"text-align: right;\">  Sharpe Ratio</th><th style=\"text-align: right;\">  Total Timesteps</th></tr>\n",
       "</thead>\n",
       "<tbody>\n",
       "<tr><td style=\"text-align: right;\">36.66</td><td style=\"text-align: right;\">26.8224</td><td style=\"text-align: right;\">         0.039</td><td style=\"text-align: right;\">              733</td></tr>\n",
       "</tbody>\n",
       "</table>"
      ]
     },
     "metadata": {},
     "output_type": "display_data"
    },
    {
     "data": {
      "text/html": [
       "<h3>Evaluation: 55 | Learning Rate-0.0001 | Strategy-PPOLSTM | </h3>\n"
      ]
     },
     "metadata": {},
     "output_type": "display_data"
    },
    {
     "data": {
      "text/html": [
       "<table>\n",
       "<thead>\n",
       "<tr><th style=\"text-align: right;\">      Cumulative \n",
       "Return (%)</th><th style=\"text-align: right;\">        Maximum \n",
       "Pullback (%)</th><th style=\"text-align: right;\">  Sharpe Ratio</th><th style=\"text-align: right;\">  Total Timesteps</th></tr>\n",
       "</thead>\n",
       "<tbody>\n",
       "<tr><td style=\"text-align: right;\">61.27</td><td style=\"text-align: right;\">26.0008</td><td style=\"text-align: right;\">        0.0637</td><td style=\"text-align: right;\">              733</td></tr>\n",
       "</tbody>\n",
       "</table>"
      ]
     },
     "metadata": {},
     "output_type": "display_data"
    },
    {
     "data": {
      "text/html": [
       "<h3>Evaluation: 55 | Strategy-RANDOM |  | </h3>\n"
      ]
     },
     "metadata": {},
     "output_type": "display_data"
    },
    {
     "data": {
      "text/html": [
       "<table>\n",
       "<thead>\n",
       "<tr><th style=\"text-align: right;\">      Cumulative \n",
       "Return (%)</th><th style=\"text-align: right;\">        Maximum \n",
       "Pullback (%)</th><th style=\"text-align: right;\">  Sharpe Ratio</th><th style=\"text-align: right;\">  Total Timesteps</th></tr>\n",
       "</thead>\n",
       "<tbody>\n",
       "<tr><td style=\"text-align: right;\">36.66</td><td style=\"text-align: right;\">26.8224</td><td style=\"text-align: right;\">         0.039</td><td style=\"text-align: right;\">              733</td></tr>\n",
       "</tbody>\n",
       "</table>"
      ]
     },
     "metadata": {},
     "output_type": "display_data"
    },
    {
     "data": {
      "text/html": [
       "<h3>Evaluation: 55 | Learning Rate-0.0003 | Strategy-PPOLSTM | </h3>\n"
      ]
     },
     "metadata": {},
     "output_type": "display_data"
    },
    {
     "data": {
      "text/html": [
       "<table>\n",
       "<thead>\n",
       "<tr><th style=\"text-align: right;\">      Cumulative \n",
       "Return (%)</th><th style=\"text-align: right;\">        Maximum \n",
       "Pullback (%)</th><th style=\"text-align: right;\">  Sharpe Ratio</th><th style=\"text-align: right;\">  Total Timesteps</th></tr>\n",
       "</thead>\n",
       "<tbody>\n",
       "<tr><td style=\"text-align: right;\">41.95</td><td style=\"text-align: right;\">26.8969</td><td style=\"text-align: right;\">        0.0468</td><td style=\"text-align: right;\">              733</td></tr>\n",
       "</tbody>\n",
       "</table>"
      ]
     },
     "metadata": {},
     "output_type": "display_data"
    },
    {
     "data": {
      "text/html": [
       "<h3>Evaluation: 55 | Strategy-RANDOM |  | </h3>\n"
      ]
     },
     "metadata": {},
     "output_type": "display_data"
    },
    {
     "data": {
      "text/html": [
       "<table>\n",
       "<thead>\n",
       "<tr><th style=\"text-align: right;\">      Cumulative \n",
       "Return (%)</th><th style=\"text-align: right;\">        Maximum \n",
       "Pullback (%)</th><th style=\"text-align: right;\">  Sharpe Ratio</th><th style=\"text-align: right;\">  Total Timesteps</th></tr>\n",
       "</thead>\n",
       "<tbody>\n",
       "<tr><td style=\"text-align: right;\">36.66</td><td style=\"text-align: right;\">26.8224</td><td style=\"text-align: right;\">         0.039</td><td style=\"text-align: right;\">              733</td></tr>\n",
       "</tbody>\n",
       "</table>"
      ]
     },
     "metadata": {},
     "output_type": "display_data"
    },
    {
     "data": {
      "text/html": [
       "<h3>Evaluation: 55 | Learning Rate-0.0005 | Strategy-PPOLSTM | </h3>\n"
      ]
     },
     "metadata": {},
     "output_type": "display_data"
    },
    {
     "data": {
      "text/html": [
       "<table>\n",
       "<thead>\n",
       "<tr><th style=\"text-align: right;\">      Cumulative \n",
       "Return (%)</th><th style=\"text-align: right;\">       Maximum \n",
       "Pullback (%)</th><th style=\"text-align: right;\">  Sharpe Ratio</th><th style=\"text-align: right;\">  Total Timesteps</th></tr>\n",
       "</thead>\n",
       "<tbody>\n",
       "<tr><td style=\"text-align: right;\">70.02</td><td style=\"text-align: right;\">30.064</td><td style=\"text-align: right;\">        0.0581</td><td style=\"text-align: right;\">              733</td></tr>\n",
       "</tbody>\n",
       "</table>"
      ]
     },
     "metadata": {},
     "output_type": "display_data"
    },
    {
     "data": {
      "text/html": [
       "<h3>Evaluation: 55 | Strategy-RANDOM |  | </h3>\n"
      ]
     },
     "metadata": {},
     "output_type": "display_data"
    },
    {
     "data": {
      "text/html": [
       "<table>\n",
       "<thead>\n",
       "<tr><th style=\"text-align: right;\">      Cumulative \n",
       "Return (%)</th><th style=\"text-align: right;\">        Maximum \n",
       "Pullback (%)</th><th style=\"text-align: right;\">  Sharpe Ratio</th><th style=\"text-align: right;\">  Total Timesteps</th></tr>\n",
       "</thead>\n",
       "<tbody>\n",
       "<tr><td style=\"text-align: right;\">36.66</td><td style=\"text-align: right;\">26.8224</td><td style=\"text-align: right;\">         0.039</td><td style=\"text-align: right;\">              733</td></tr>\n",
       "</tbody>\n",
       "</table>"
      ]
     },
     "metadata": {},
     "output_type": "display_data"
    },
    {
     "data": {
      "text/html": [
       "<h3>Evaluation: 55 | Learning Rate-0.0007 | Strategy-PPOLSTM | </h3>\n"
      ]
     },
     "metadata": {},
     "output_type": "display_data"
    },
    {
     "data": {
      "text/html": [
       "<table>\n",
       "<thead>\n",
       "<tr><th style=\"text-align: right;\">      Cumulative \n",
       "Return (%)</th><th style=\"text-align: right;\">        Maximum \n",
       "Pullback (%)</th><th style=\"text-align: right;\">  Sharpe Ratio</th><th style=\"text-align: right;\">  Total Timesteps</th></tr>\n",
       "</thead>\n",
       "<tbody>\n",
       "<tr><td style=\"text-align: right;\">-3.57</td><td style=\"text-align: right;\">32.7916</td><td style=\"text-align: right;\">       -0.0038</td><td style=\"text-align: right;\">              733</td></tr>\n",
       "</tbody>\n",
       "</table>"
      ]
     },
     "metadata": {},
     "output_type": "display_data"
    }
   ],
   "source": [
    "def initAgent(lstmOutputSize, lr, riskAversion):\n",
    "    agent = PPOAgent( \n",
    "            state_n=lstmOutputSize, \n",
    "            actions_n=len(productIds) + 1,\n",
    "            alpha=lr,\n",
    "            policyClip = 0.2,\n",
    "            gamma=0.99,\n",
    "            lstmHiddenSize=LSTMHIDDENSIZE,\n",
    "            actor_noise=0,\n",
    "            batch_size=512,\n",
    "            fc1_n=128,\n",
    "            fc2_n=128,\n",
    "            gaeLambda=0.98,\n",
    "            epochs=10,\n",
    "            riskAversion=riskAversion,\n",
    "            featureExtractor = LstmFeatureExtractor(TIME_WINDOW, NUMBER_OF_FEATURES, 128, lstmOutputSize)\n",
    "                )\n",
    "    return agent\n",
    "\n",
    "def runSavedAgents(lstmOutputSize = 512, riskAversion=0, lr=3e-4):\n",
    "    HYPERS = {\n",
    "    # \"Risk Aversion\" : AGENT_RISK_AVERSIONS,\n",
    "    # \"LSTM Output Size\" : LSTMOUTPUTSIZES,\n",
    "    # \"Reward Function\" : REWARD_FUNCTIONS,\n",
    "    \"Learning Frequency\": LEARNING_FREQUENCIES, \n",
    "    \"Learning Rate\": LEARNING_RATES,\n",
    "    }\n",
    "    for hyper, param in HYPERS.items():\n",
    "        TESTING[hyper.upper()] = True\n",
    "        for epoch in range(1, EPOCHS + 1):\n",
    "            for parameter in param:\n",
    "                saveFolder = f\"save/{epoch * TRAINING_WINDOWS}/{hyper}-{parameter}/\"\n",
    "                agent = None\n",
    "                rf = \"Standard Logarithmic Returns\"\n",
    "                freq = int(EPISODE_LENGTH / 25)\n",
    "                risk = parameter if hyper == \"Risk Aversion\" else riskAversion\n",
    "                if hyper == \"Risk Aversion\" or hyper == \"Learning Frequency\" or hyper == \"Reward Function\":\n",
    "                    agent = initAgent(lstmOutputSize, lr, risk)\n",
    "                elif hyper == \"LSTM Output Size\":\n",
    "                    agent = initAgent(parameter, lr, risk)\n",
    "                else:\n",
    "                    agent = initAgent(lstmOutputSize, parameter, risk)\n",
    "                if hyper == \"Reward Function\":\n",
    "                    rf = parameter\n",
    "                if hyper == \"Learning Rate\":\n",
    "                    lr = parameter\n",
    "                if hyper == \"Learning Frequency\":\n",
    "                    freq = parameter\n",
    "                agent.load(saveFolder)\n",
    "                evaluateAgent(risk, rf, agent, freq, lr=lr, num=epoch * TRAINING_WINDOWS, conf=None, save=False) # ignore standard log - agent is not learning here\n",
    "        TESTING[hyper.upper()] = False\n",
    "                \n",
    "                \n",
    "\n",
    "runSavedAgents()\n",
    "        "
   ]
  },
  {
   "cell_type": "markdown",
   "metadata": {},
   "source": [
    "## 5. Testing Process"
   ]
  },
  {
   "cell_type": "markdown",
   "metadata": {},
   "source": [
    "### Best Models (if any) Evaluated  - VERY WRONG FOR NOW, IGNORE"
   ]
  },
  {
   "cell_type": "code",
   "execution_count": null,
   "metadata": {},
   "outputs": [],
   "source": [
    "# REPEATS = 50\n",
    "\n",
    "# # Experiment 1\n",
    "# EXP_CONFIG = {\"Reward\" : [\"Standard Logarithmic Returns\", \"Differential Sharpe Ratio_0.01\", \"CVaR_0.5\"],\n",
    "#                 \"LSTM Output Size\" : 512, \n",
    "#                 \"Frequency\" : 36,\n",
    "#                 \"Environments\" : 0,\n",
    "#                 \"Learning Rate\" : 5e-4,\n",
    "#                 }\n",
    "\n",
    "# # Very hacky\n",
    "# # Config 1\n",
    "# def func():\n",
    "#     for r in EXP_CONFIG[\"Reward\"]:\n",
    "#             trainingLoop(\n",
    "#             riskAversion=(float(r.split(\"_\")[1]) if r.split(\"_\")[0] == \"CVaR\" else 0),\n",
    "#             rewardFunction=r.split(\"_\")[0] if \"CVaR\" in r else r,\n",
    "#             freq=EXP_CONFIG[\"Frequency\"],\n",
    "#             parr=EXP_CONFIG[\"Environments\"],\n",
    "#             lstmOutputSize=EXP_CONFIG[\"LSTM Output Size\"],\n",
    "#             lr=EXP_CONFIG[\"Learning Rate\"],\n",
    "#             conf = \"Reward Function-\" + r + \" | \" + \"Strategy-PPOLSTM\" + \" | \" + \"Experiment 1\",\n",
    "#         )\n",
    "\n",
    "# allResults = defaultdict(list)\n",
    "\n",
    "# def runFinal(func, folderExtension):\n",
    "#     #terrible code forgive me\n",
    "#     global STRATEGIES \n",
    "#     STRATEGIES = [\"PPOLSTM\"]\n",
    "#     global allResults \n",
    "#     global RANDOM_REPEATS\n",
    "    \n",
    "#     print(\"=\" * 50)\n",
    "#     TESTING[\"REWARD FUNCTION\"] = True\n",
    "#     func()\n",
    "#     STRATEGIES = [\"RANDOM\"]\n",
    "#     while RANDOM_REPEATS > 0:\n",
    "#         trainingLoop()\n",
    "\n",
    "#     plotPerformance(\"REWARD FUNCTION\", folderExtension)\n",
    "#     TESTING[\"REWARD FUNCTION\"] = False\n",
    "#     print(\"=\" * 50)\n",
    "#     tabulateResults()\n",
    "#     allResults = defaultdict(list)\n",
    "#     RANDOM_REPEATS = 200\n",
    "    \n",
    "# RUN_FINAL = False\n",
    "# if RUN_FINAL:\n",
    "#     runFinal(func, \"Testing\")\n"
   ]
  },
  {
   "cell_type": "markdown",
   "metadata": {},
   "source": [
    "### Plotting Code"
   ]
  }
 ],
 "metadata": {
  "kernelspec": {
   "display_name": "Python 3",
   "language": "python",
   "name": "python3"
  },
  "language_info": {
   "codemirror_mode": {
    "name": "ipython",
    "version": 3
   },
   "file_extension": ".py",
   "mimetype": "text/x-python",
   "name": "python",
   "nbconvert_exporter": "python",
   "pygments_lexer": "ipython3",
   "version": "3.12.10"
  }
 },
 "nbformat": 4,
 "nbformat_minor": 2
}
