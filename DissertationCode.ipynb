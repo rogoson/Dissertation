{
 "cells": [
  {
   "cell_type": "markdown",
   "metadata": {},
   "source": [
    "## 1. Collect Basic Data"
   ]
  },
  {
   "cell_type": "markdown",
   "metadata": {},
   "source": [
    "### Retrieve CryptoCurrency Market Data ###"
   ]
  },
  {
   "cell_type": "code",
   "execution_count": 2,
   "metadata": {},
   "outputs": [],
   "source": [
    "import pandas as pd\n",
    "import yfinance as yf\n",
    "from functools import reduce\n",
    "import requests\n",
    "import time\n",
    "import numpy as np\n",
    "from datetime import datetime, timedelta\n",
    "import matplotlib.pyplot as plt\n",
    "\n",
    "\n",
    "CRYPTO = False\n",
    "\n",
    "# Crypto Details\n",
    "cryptoProducts = [\"ETH-USD\", \"USDT-USD\", \"BTC-USD\"]\n",
    "availableGranularities = dict(zip([\"1M\", \"5M\", \"15M\", \"1H\", \"6H\", \"1D\"], [60, 300, 900, 3600, 21600, 86400]))\n",
    "\n",
    "# Stock Details\n",
    "dowTickers = [\"AAPL\", \"MSFT\", \"GOOGL\", \"TSLA\", \"AMZN\", \"NVDA\"]  \n",
    "sse50Tickers = [\"600519.SS\", \"601318.SS\", \"601857.SS\", \"600036.SS\", \"600016.SS\", \"600000.SS\"]  \n",
    "sensexTickers = [\"RELIANCE.BO\", \"TCS.BO\", \"INFY.BO\", \"ICICIBANK.BO\", \"SBIN.BO\", \"HINDUNILVR.BO\"] \n",
    "ftse100Tickers = [\"HSBA.L\", \"BP.L\", \"GSK.L\", \"SHEL.L\", \"BATS.L\", \"ULVR.L\"]  \n",
    "period = \"1D\"\n",
    "indexProducts = dowTickers + sse50Tickers + sensexTickers + ftse100Tickers\n",
    "productIds = indexProducts\n",
    "\n",
    "if CRYPTO:\n",
    "    productIds = cryptoProducts\n",
    "    period = \"6H\"\n",
    "    granularity = availableGranularities[period]\n",
    "    API_THRESHOLD = 300 #Can only get 300 periods at a time from API\n",
    "    PERIODS_WANTED = 2500\n",
    "\n",
    "# not a chance\n",
    "def retrieveCryptoData(productID, granularity, daysBack, endTime):\n",
    "    API_URL = f\"https://api.exchange.coinbase.com/products/{productID}/candles\"\n",
    "    daysBackDaysAgo = timedelta(days=daysBack)\n",
    "    startTime = datetime.fromisoformat(endTime) - (granularity/86400) * daysBackDaysAgo\n",
    "\n",
    "    # Convert to isoformat\n",
    "    startTime = startTime.isoformat()\n",
    "\n",
    "    # Set Request Parameters\n",
    "    parameters = {\n",
    "        \"start\" : startTime,\n",
    "        \"end\" : endTime,\n",
    "        \"granularity\" : str(granularity)\n",
    "    }\n",
    "\n",
    "    # Actually get data\n",
    "    data = requests.get(API_URL, params = parameters, headers = {\"content-type\":\"application/json\"})\n",
    "    df = pd.DataFrame(data.json(), columns=[\"time\", \"low\", \"high\", \"open\", \"close\", \"volume\"])\n",
    "    return df\n",
    "\n",
    "\n",
    "def retrieveIndexData(ticker):\n",
    "    # Define date range\n",
    "    startDate = \"2009-01-01\"\n",
    "    endDate = \"2020-08-05\"\n",
    "\n",
    "    ohlcData = {}\n",
    "    try:\n",
    "        stockData = yf.download(ticker, start=startDate, end=endDate)\n",
    "        ohlcData[ticker] = stockData[[\"Low\", \"High\", \"Open\", \"Close\", \"Volume\"]]\n",
    "    except Exception as e:\n",
    "        print(f\"Error fetching data for {ticker}: {e}\")\n",
    "\n",
    "    dfOhlc = pd.concat(ohlcData, axis=1)\n",
    "    return dfOhlc\n",
    "\n",
    "\n",
    "dataframes = dict()\n",
    "RETRIEVE_DATA = False\n",
    "\n",
    "if RETRIEVE_DATA:\n",
    "    for productId in productIds:\n",
    "        if CRYPTO:\n",
    "            # Fetch PERIODS_WANTED periods of data\n",
    "            end = (datetime.now()).isoformat()\n",
    "            for batch in range(PERIODS_WANTED // API_THRESHOLD  + 1):\n",
    "                amountToFetch = PERIODS_WANTED % API_THRESHOLD if batch == PERIODS_WANTED // API_THRESHOLD else API_THRESHOLD\n",
    "                tempDF = retrieveCryptoData(productId, granularity, amountToFetch, end)\n",
    "                timeInSeconds = (tempDF['time'].values)[-1]\n",
    "                dt = datetime.fromtimestamp(timeInSeconds - granularity)\n",
    "                end = dt.isoformat() + 'Z'\n",
    "                value = dataframes.get(productId)\n",
    "                if productId not in dataframes:\n",
    "                    dataframes[productId] = tempDF[::-1]\n",
    "                else:\n",
    "                    dataframes[productId] = pd.concat([tempDF[::-1], dataframes[productId]])\n",
    "        else:\n",
    "            dataframe = retrieveIndexData(ticker=productId)\n",
    "            columnNames = [value[1].lower() for value in list(dataframe.columns.values)]\n",
    "            dataframe.columns = columnNames\n",
    "            dataframes[productId] = dataframe\n",
    "   \n",
    "# Required for index data that pull stock data from different exchanges\n",
    "def commonaliseData(data):\n",
    "    commonDates = reduce(lambda x, y: x.intersection(y), [df.index for df in data.values()])\n",
    "    for ticker, df in data.items():\n",
    "        data[ticker] = df.reindex(commonDates)\n",
    "        data[ticker][\"Times\"] = commonDates\n",
    "    data = {ticker: df.dropna() for ticker, df in data.items()}\n",
    "    PERIODS_WANTED = data.get(indexProducts[0]).shape[0]\n",
    "    return data\n",
    "\n",
    "if not CRYPTO and RETRIEVE_DATA:\n",
    "    dataframes = commonaliseData(dataframes)"
   ]
  },
  {
   "cell_type": "code",
   "execution_count": 3,
   "metadata": {},
   "outputs": [],
   "source": [
    "TEST_CORRECT_ORDER = False\n",
    "\n",
    "if TEST_CORRECT_ORDER:\n",
    "    testTime = dataframes[productIds[0]]['time'].values\n",
    "    testTime -= testTime[0]\n",
    "    plt.figure(figsize=(10, 6))\n",
    "    plt.plot(testTime, color=\"blue\")\n",
    "    plt.title(f\"Test Correct Order\")\n",
    "    plt.xlabel(\"Time\")\n",
    "    plt.ylabel(\"Price\")\n",
    "    plt.show()"
   ]
  },
  {
   "cell_type": "markdown",
   "metadata": {},
   "source": [
    "## 2. Augment State Space (add indicators)"
   ]
  },
  {
   "cell_type": "markdown",
   "metadata": {},
   "source": [
    "### Indicator 1: Exponential Moving Average ###"
   ]
  },
  {
   "cell_type": "code",
   "execution_count": 4,
   "metadata": {},
   "outputs": [],
   "source": [
    "import matplotlib.pyplot as plt\n",
    "\n",
    "def EMA(array, N):\n",
    "    \"\"\"\n",
    "    EMA_t = (Price_t * α) + (EMA_(t-1) * (1 - α))\n",
    "    where:\n",
    "    EMA_t = Exponential Moving Average at time t\n",
    "    Price_t = Price at time t\n",
    "    α (alpha) = Smoothing factor, calculated as 2 / (N + 1)\n",
    "    N = Number of periods\n",
    "    \"\"\"\n",
    "    smoothingParameter = 2/(N + 1)\n",
    "    finalArray = [array[0]]\n",
    "    for i in range(1, len(array)):\n",
    "        finalArray.append(array[i] * smoothingParameter + finalArray[i-1] * (1 - smoothingParameter))\n",
    "    return np.array(finalArray)\n",
    "\n",
    "# expMA = EMA(closingPrices, t)\n",
    "# plt.figure(figsize=(10, 6))\n",
    "# plt.plot(expMA, label=f\"Exponential Moving Average: T={t}\", color=\"red\")\n",
    "# plt.plot(closingPrices, label=\"Actual Closing Prices\", color=\"blue\")\n",
    "# plt.title(f\"Price Data\")\n",
    "# plt.xlabel(\"Time\")\n",
    "# plt.ylabel(\"Price\")\n",
    "# plt.legend()\n",
    "# plt.show()"
   ]
  },
  {
   "cell_type": "markdown",
   "metadata": {},
   "source": [
    "### Indicator 2: Momemtum"
   ]
  },
  {
   "cell_type": "code",
   "execution_count": 5,
   "metadata": {},
   "outputs": [],
   "source": [
    "def Momentum(array):\n",
    "    # Percentage Change in Price/Time\n",
    "    momentumArray = [(array[i] - array[i-1]) /array[i-1] for i in range(1, len(array))]\n",
    "    momentumArray.insert(0, np.nan)\n",
    "    return np.array(momentumArray)\n",
    "\n",
    "# momentum = Momentum(closingPrices)\n",
    "# plt.figure(figsize=(10, 6))\n",
    "# plt.plot(momentum*100, color=\"green\")\n",
    "# plt.title(f\"Momentum Data (as %)\")\n",
    "# plt.xlabel(\"Time\")\n",
    "# plt.ylabel(\"Momentum\")\n",
    "# plt.legend()\n",
    "# plt.show()"
   ]
  },
  {
   "cell_type": "markdown",
   "metadata": {},
   "source": [
    "### Indicator 3: Average True Range"
   ]
  },
  {
   "cell_type": "code",
   "execution_count": 6,
   "metadata": {},
   "outputs": [],
   "source": [
    "\n",
    "def trueRange(high, low, close):\n",
    "    # TR = Max[(H - L), |H - C|, |L - C|\n",
    "    closing = np.insert(close, 0, np.nan, axis=0)[:len(close)]\n",
    "    return np.maximum(high - low, np.abs(high - closing), np.abs(low - closing))\n",
    "\n",
    "def averageTrueRange(high, low, close, n=14):\n",
    "    trueRanges = trueRange(high, low, close)\n",
    "    atr = np.empty_like(trueRanges)\n",
    "    atr[:n] = np.nan  # First n values are NaN\n",
    "    atr[n-1] = np.mean(trueRanges[:n])  # Initial ATR value (simple average of the first n TRs)\n",
    "    for i in range(n+1, len(trueRanges)):\n",
    "        atr[i] = (atr[i-1] * (n - 1) + trueRanges[i]) / n\n",
    "    return atr\n",
    "\n",
    "# aTRIndicator = averageTrueRange(highs, lows, closingPrices)\n",
    "# plt.figure(figsize=(10, 6))\n",
    "# plt.plot(aTRIndicator, color=\"Brown\")\n",
    "# plt.title(f\"Average True Range over Time\")\n",
    "# plt.xlabel(\"Time\")\n",
    "# plt.ylabel(\"Average True Range\")\n",
    "# plt.legend()\n",
    "# plt.show()"
   ]
  },
  {
   "cell_type": "markdown",
   "metadata": {},
   "source": [
    "### Indicator 4: Commodity Channel Index"
   ]
  },
  {
   "cell_type": "code",
   "execution_count": 7,
   "metadata": {},
   "outputs": [],
   "source": [
    "def commodityChannelIndex(high, low, close, n=20):\n",
    "    # (Typical Price - 20_Day Moving Average) / .015 x Mean Deviation\n",
    "    typicalPrices = (high + low + close) / 3\n",
    "    \n",
    "    movingAverage = np.full_like(high, np.nan)\n",
    "    meanDeviation = np.full_like(high, np.nan)\n",
    "    \n",
    "    for i in range(n, len(typicalPrices)):\n",
    "        movingAverage[i] = np.mean(typicalPrices[i-n:i])\n",
    "        meanDeviation[i] = np.mean(np.abs(typicalPrices[i-n:i] - movingAverage[i]))\n",
    "    \n",
    "    cci = np.full_like(high, np.nan, dtype=np.float64)\n",
    "\n",
    "    numerator = typicalPrices[n:] - movingAverage[n:]\n",
    "    denominator = 0.015 * meanDeviation[n:]\n",
    "    result = np.empty_like(numerator)\n",
    "\n",
    "    np.divide(numerator, denominator, out=result, where=(denominator != 0))\n",
    "    # a little hacky...\n",
    "    result[denominator == 0] = 0\n",
    "\n",
    "    cci[n:] = result\n",
    "    return cci\n",
    "\n",
    "# # CCI = commodityChannelIndex(highs, lows, closingPrices)\n",
    "# # plt.figure(figsize=(10, 6))\n",
    "# # plt.plot(CCI, color=\"black\")\n",
    "# # plt.title(f\"Commodity Channel Index over Time\")\n",
    "# # plt.xlabel(\"Time\")\n",
    "# # plt.ylabel(\"Commodity Channel Index\")\n",
    "# # plt.legend()\n",
    "# # plt.show()"
   ]
  },
  {
   "cell_type": "markdown",
   "metadata": {},
   "source": [
    "### Indicator 5: MACD"
   ]
  },
  {
   "cell_type": "code",
   "execution_count": 8,
   "metadata": {},
   "outputs": [],
   "source": [
    "\"\"\"\n",
    "MACD = 12-day EMA - 26-day EMA\n",
    "Signal Line = 9-day EMA of MACD\n",
    "MACD Histogram = MACD - Signal Line\n",
    "where EMA stands for Exponential Moving Average\n",
    "\"\"\"\n",
    "\n",
    "def MACD(array):\n",
    "    return EMA(array, 12) - EMA(array, 26)\n",
    "\n",
    "def MACDSignal(array):\n",
    "    return EMA(MACD(array), 9)\n",
    "\n",
    "MACDHistogram = lambda x : MACD(x) - MACDSignal(x)\n",
    "\n",
    "# mACD = MACD(closingPrices)\n",
    "# signalLine = MACDSignal(closingPrices)\n",
    "# macdHistogram = MACDHistogram(mACD, signalLine)\n",
    "\n",
    "# plt.figure(figsize=(10, 6))\n",
    "# plt.plot(mACD, color=\"blue\", label = \"MACD Line\")\n",
    "# plt.plot(signalLine, color = \"red\", label = \"Signal Line\")\n",
    "# plt.plot(macdHistogram, color = \"black\", label = \"Histogram\")\n",
    "# plt.title(f\"Moving Average Convergence-Divergence\")\n",
    "# plt.xlabel(\"Time\")\n",
    "# plt.ylabel(\"MACD\")\n",
    "# plt.legend()\n",
    "# plt.show()"
   ]
  },
  {
   "cell_type": "markdown",
   "metadata": {},
   "source": [
    "## 3. Collate All Features Into DataFrame"
   ]
  },
  {
   "cell_type": "code",
   "execution_count": 9,
   "metadata": {},
   "outputs": [],
   "source": [
    "import os\n",
    "\n",
    "CCI_T, ATR_T = 20, 14\n",
    "if RETRIEVE_DATA:\n",
    "    for product in productIds:\n",
    "        df = dataframes[product]\n",
    "        close = df[\"close\"].values\n",
    "        highs = df[\"high\"].values\n",
    "        lows = df[\"low\"].values\n",
    "        df['E_M_A'] = EMA(close, N=30)\n",
    "        df['Momentum'] = Momentum(close)\n",
    "        df['Av_True_Range'] = averageTrueRange(highs, lows, close, 14)\n",
    "        df['CCI'] = commodityChannelIndex(highs, lows, close, 20)\n",
    "        df['MACDHist'] = MACDHistogram(close)\n",
    "        df[\"Return\"] = df[\"close\"].pct_change().fillna(0)\n",
    "        # Reset Indexes\n",
    "        df = df.drop(columns=['open', 'high', 'volume', 'low'])\n",
    "        df = df.iloc[max(ATR_T, CCI_T):]\n",
    "        df = df.reset_index(drop=True)\n",
    "        dataframes[product] = df\n",
    "        if not os.path.exists(\"CSVs/\"):\n",
    "            os.makedirs(\"CSVs/\")\n",
    "        df.to_csv(f\"CSVs/{product}_{period}_periods.csv\", sep='\\t')\n",
    "else:\n",
    "    for productId in productIds:\n",
    "        df = pd.read_csv(f\"CSVs/{productId}_{period}_periods.csv\", sep='\\t')\n",
    "        dataframes[productId] = df.iloc[:, 1:]  # Drops the first column\n",
    "\n",
    "times = None\n",
    "if not CRYPTO:\n",
    "    for product in productIds:\n",
    "        df = dataframes[product]\n",
    "        times = df['Times']\n",
    "        dataframes[product] = df.drop('Times', axis=1)"
   ]
  },
  {
   "cell_type": "markdown",
   "metadata": {},
   "source": [
    "## 4. Environment and Training Process"
   ]
  },
  {
   "cell_type": "markdown",
   "metadata": {},
   "source": [
    "### Comparison Strategies"
   ]
  },
  {
   "cell_type": "code",
   "execution_count": 10,
   "metadata": {},
   "outputs": [],
   "source": [
    "sse50BuyAndHold =  np.array([0] + [1/len(sse50Tickers) if i in sse50Tickers else 0 for i in productIds])\n",
    "sensexBuyAndHold = np.array([0] + [1/len(sensexTickers) if i in sensexTickers else 0 for i in productIds])\n",
    "ftse100BuyAndHold = np.array([0] + [1/len(ftse100Tickers) if i in ftse100Tickers else 0 for i in productIds])\n",
    "dowBuyAndHold = np.array([0] + [1/len(dowTickers) if i in dowTickers else 0 for i in productIds])\n",
    "buyAndHoldAll = np.array([0] + [1/(len(productIds)) for i in productIds])\n",
    "\n",
    "#Non\n",
    "NON_RL_COMPARISON_STRATEGIES = {\n",
    "    \"SSEBuyAndHold\" : sse50BuyAndHold,\n",
    "    \"SENSEXBuyAndHold\" : sensexBuyAndHold,\n",
    "    \"FTSEBuyAndHold\" : ftse100BuyAndHold,\n",
    "    \"DOWBuyAndHold\" : dowBuyAndHold,\n",
    "    \"BuyAndHoldAll\" : buyAndHoldAll\n",
    "}"
   ]
  },
  {
   "cell_type": "markdown",
   "metadata": {},
   "source": [
    "### Hyperparameters (most of them)"
   ]
  },
  {
   "cell_type": "code",
   "execution_count": 11,
   "metadata": {},
   "outputs": [],
   "source": [
    "from collections import defaultdict\n",
    "\n",
    "\n",
    "NUMBER_OF_ASSETS = len(productIds)\n",
    "NUMBER_OF_FEATURES = 1 + (len((list(dataframes.values())[0]).columns)) * len(productIds) + 1\n",
    "if not CRYPTO:\n",
    "    PERIODS_WANTED = list(dataframes.values())[0].shape[0]\n",
    "TRAINING_PERIODS = round(PERIODS_WANTED * 2 / 3)\n",
    "VALIDATION_PERIODS = (PERIODS_WANTED - TRAINING_PERIODS) // 2\n",
    "TESTING_PERIODS = VALIDATION_PERIODS\n",
    "\n",
    "\n",
    "EPISODE_LENGTH = PERIODS_WANTED // 3 \n",
    "TIMESTEP_SHIFT = EPISODE_LENGTH // 10\n",
    "TRAINING_WINDOWS = ((TRAINING_PERIODS - EPISODE_LENGTH) // TIMESTEP_SHIFT) + 1\n",
    "\n",
    "EPOCHS = 5\n",
    "TIME_WINDOW = 30\n",
    "\n",
    "START_CASH = 1000000\n",
    "LSTMHIDDENSIZE = 128\n",
    "\n",
    "BASELINE = [\"RANDOM\"]\n",
    "RL_STRATS = [\"PPOLSTM\"]\n",
    "FINAL_STRATEGIES = BASELINE + [\"SSEBuyAndHold\", \"SENSEXBuyAndHold\", \"FTSEBuyAndHold\", \"DOWBuyAndHold\", \"BuyAndHoldAll\"]\n",
    "\n",
    "AGENT_RISK_AVERSIONS = np.array([0.25, 0.5, 1, 1.5, 2]) #i know, this probably shouldn't go here\n",
    "LSTMOUTPUTSIZES = [64, 128, 256, 512, 1024]\n",
    "REWARD_FUNCTIONS = [\"Differential Sharpe Ratio_0.01\", \"Differential Sharpe Ratio_0.05\", \"Differential Sharpe Ratio_0.1\"]\n",
    "LEARNING_RATES = [1e-4, 3e-4, 5e-4, 7e-4]\n",
    "LEARNING_FREQUENCIES = (TRAINING_PERIODS / np.array([10, 20, 30, 40, 50])).astype(int)\n",
    "\n",
    "RANDOM_REPEATS = 200\n",
    "\n",
    "\n",
    "averagePerformance = defaultdict(list)\n",
    "allResults = defaultdict(list)\n",
    "performances = defaultdict(list) # one of these is probably obsolete"
   ]
  },
  {
   "cell_type": "code",
   "execution_count": 12,
   "metadata": {},
   "outputs": [],
   "source": [
    "#this code is an eyesore but i was on a time crunch\n",
    "PRICE_TRAINING_DATA = {}\n",
    "AGENT_TRAINING_DATA = {}\n",
    "\n",
    "PRICE_VALIDATION_DATA = {}\n",
    "AGENT_VALIDATION_DATA = {}\n",
    "\n",
    "PRICE_TESTING_DATA = {}\n",
    "AGENT_TESTING_DATA = {}\n",
    "\n",
    "for key, df in dataframes.items():\n",
    "    trainSlice = df.iloc[:TRAINING_PERIODS].copy()\n",
    "    validationSlice = df.iloc[TRAINING_PERIODS:TRAINING_PERIODS+VALIDATION_PERIODS].copy()\n",
    "    testSlice = df.iloc[TRAINING_PERIODS+VALIDATION_PERIODS:].copy()\n",
    "\n",
    "    PRICE_TRAINING_DATA[key] = trainSlice[\"Return\"].values\n",
    "    PRICE_VALIDATION_DATA[key] = validationSlice[\"Return\"].values\n",
    "    PRICE_TESTING_DATA[key]  = testSlice[\"Return\"].values\n",
    "\n",
    "    AGENT_TRAINING_DATA[key] = (trainSlice - trainSlice.mean()) / trainSlice.std()\n",
    "    AGENT_VALIDATION_DATA[key] = (validationSlice - validationSlice.mean()) / validationSlice.std()\n",
    "    AGENT_TESTING_DATA[key]  = (testSlice - testSlice.mean()) / testSlice.std()\n",
    "\n",
    "PRICE_TRAINING_DATA = pd.DataFrame(PRICE_TRAINING_DATA)\n",
    "PRICE_VALIDATION_DATA = pd.DataFrame(PRICE_VALIDATION_DATA)\n",
    "PRICE_TESTING_DATA = pd.DataFrame(PRICE_TESTING_DATA)\n",
    "\n",
    "# Final Training Set\n",
    "PRICE_TRAINING_VALIDATION_DATA = pd.concat([PRICE_TRAINING_DATA, PRICE_VALIDATION_DATA], axis=0).reset_index(drop=True)\n",
    "AGENT_TRAINING_VALIDATION_DATA = {}\n",
    "for key, df in dataframes.items():\n",
    "    combinedSlice = pd.concat([df.iloc[:TRAINING_PERIODS], df.iloc[TRAINING_PERIODS:TRAINING_PERIODS+VALIDATION_PERIODS]], axis=0).copy()\n",
    "    normalizedCombined = (combinedSlice - combinedSlice.mean()) / combinedSlice.std()\n",
    "    AGENT_TRAINING_VALIDATION_DATA[key] = normalizedCombined.reset_index(drop=True)"
   ]
  },
  {
   "cell_type": "code",
   "execution_count": 13,
   "metadata": {},
   "outputs": [],
   "source": [
    "# Thing being tested\n",
    "TESTING = {\n",
    "    \"RISK AVERSION\" : False,\n",
    "    \"LSTM OUTPUT SIZE\" : False,\n",
    "    \"REWARD FUNCTION\" : False,\n",
    "    \"LEARNING FREQUENCY\": False, \n",
    "    \"LEARNING RATE\": False,\n",
    "}"
   ]
  },
  {
   "cell_type": "markdown",
   "metadata": {},
   "source": [
    "#### Some helper functions for metrics"
   ]
  },
  {
   "cell_type": "code",
   "execution_count": 14,
   "metadata": {},
   "outputs": [],
   "source": [
    "from utils import tabulate_neatly\n",
    "\n",
    "def printConfiguration(agent=None, freq=None):\n",
    "    table = [[\"LSTM Hidden Size\", \"LSTM Output Size\", \"Learning Frequency\", \"Agent Risk Aversion\"]]\n",
    "    table.append([LSTMHIDDENSIZE, agent.state_n, freq, agent.riskAversion])\n",
    "    tabulate_neatly(table, headers=\"firstrow\", title=f\"Configuration:\")\n",
    "\n",
    "def plotAllocations(allocations, title=None):\n",
    "    categories = ['Cash'] + productIds\n",
    "    plt.figure(figsize=(20,5))\n",
    "    plt.bar(categories, allocations)\n",
    "    plt.xlabel('Allocations')\n",
    "    plt.tick_params(axis='x', labelsize=6)\n",
    "    plt.ylabel('Proportion Allocated')\n",
    "    plt.title('Allocations' if title == None else title)\n",
    "    plt.show()\n",
    "\n",
    "def generateConfigLabel(strategy, agent, rewardFunction, freq, lr):\n",
    "    firstTag = f\"Strategy-{strategy}\" \n",
    "    innerTag = None\n",
    "    boole = (strategy not in NON_RL_COMPARISON_STRATEGIES.keys() and strategy != \"RANDOM\")\n",
    "    if TESTING[\"RISK AVERSION\"]:\n",
    "        innerTag = (f\"Risk Aversion-{agent.riskAversion}\" if boole else \"\")\n",
    "    elif TESTING[\"LSTM OUTPUT SIZE\"]:\n",
    "        innerTag = (f\"LSTM Output Size-{agent.state_n}\" if boole else \"\")\n",
    "    elif TESTING[\"REWARD FUNCTION\"]:  \n",
    "        innerTag = (f\"Reward Function-{rewardFunction}\" if boole else \"\")\n",
    "    elif TESTING[\"LEARNING FREQUENCY\"]:  \n",
    "        innerTag = (f\"Learning Frequency-{freq}\" if boole else \"\")\n",
    "    elif TESTING[\"LEARNING RATE\"]:  \n",
    "        innerTag = (f\"Learning Rate-{lr}\" if boole else \"\")\n",
    "    \n",
    "    if any(TESTING.values()) and boole:\n",
    "        firstTag, innerTag = innerTag, firstTag\n",
    "    return firstTag + \" | \" +  innerTag + \" | \"\n"
   ]
  },
  {
   "cell_type": "markdown",
   "metadata": {},
   "source": [
    "### Training and Evaluation Functions"
   ]
  },
  {
   "cell_type": "code",
   "execution_count": 15,
   "metadata": {},
   "outputs": [],
   "source": [
    "from PPO import PPOAgent\n",
    "\n",
    "def generateAgent(lstmOutputSize, riskAversion, lr, featureExtractor):\n",
    "        return PPOAgent( \n",
    "                        state_n=lstmOutputSize, \n",
    "                        actions_n=len(productIds) + 1,\n",
    "                        alpha=lr,\n",
    "                        policyClip = 0.2,\n",
    "                        gamma=0.99,\n",
    "                        lstmHiddenSize=LSTMHIDDENSIZE,\n",
    "                        actor_noise=0,\n",
    "                        batch_size=512,\n",
    "                        fc1_n=128,\n",
    "                        fc2_n=128,\n",
    "                        gaeLambda=0.98,\n",
    "                        epochs=10,\n",
    "                        riskAversion=riskAversion,\n",
    "                        featureExtractor = featureExtractor\n",
    "                    )"
   ]
  },
  {
   "cell_type": "code",
   "execution_count": 16,
   "metadata": {},
   "outputs": [],
   "source": [
    "from TimeSeriesEnvironment import TimeSeriesEnvironment\n",
    "from scipy.special import softmax\n",
    "import torch\n",
    "\n",
    "def storeExperiences(agent, data, reward, done, strategy, action, prob, val):\n",
    "    if strategy == \"PPOLSTM\":\n",
    "        agent.store(data, action, prob.squeeze(), val.squeeze(), reward, done)\n",
    "\n",
    "\n",
    "def warmUpEnvironment(environment, rewardFunction):\n",
    "    \"\"\"\n",
    "    'warm up' environment until there's enough data to estimate CVaR\n",
    "    \"\"\"\n",
    "    for _ in range(TIME_WINDOW):\n",
    "        action = np.random.dirichlet(np.ones(len(productIds) + 1))\n",
    "        environment.step(softmax(action), rewardMethod=rewardFunction)\n",
    "    environment.setIsReady(True)\n",
    "\n",
    "\n",
    "def evaluateAgent(riskAversion, rewardFunction, agent, freq, lr, num, conf=None, save=True, dataType = \"validation\"):\n",
    "    VAL_AND_TEST = {\n",
    "        \"validation\": [PRICE_VALIDATION_DATA, AGENT_VALIDATION_DATA, VALIDATION_PERIODS],\n",
    "        \"testing\": [PRICE_TESTING_DATA, AGENT_TESTING_DATA, TESTING_PERIODS]\n",
    "    }\n",
    "    torch.manual_seed(num)\n",
    "    np.random.seed(num)\n",
    "    for strategy in BASELINE + RL_STRATS:\n",
    "        env = TimeSeriesEnvironment(VAL_AND_TEST[dataType][0], VAL_AND_TEST[dataType][1], TIME_WINDOW, VAL_AND_TEST[dataType][2], START_CASH, riskAversion, 2e-4)\n",
    "        env.reset()\n",
    "        done = False\n",
    "        while not done:\n",
    "            if not env.getIsReady():\n",
    "                warmUpEnvironment(env, rewardFunction)\n",
    "            observation = None\n",
    "            if strategy in RL_STRATS:\n",
    "                data = env.getData()\n",
    "                observation = agent.featureExtractor.forward(torch.tensor(data, dtype=torch.float32).unsqueeze(0))\n",
    "            if strategy == \"RANDOM\":\n",
    "                action = np.random.dirichlet(np.ones(len(productIds) + 1))\n",
    "            elif strategy in NON_RL_COMPARISON_STRATEGIES:\n",
    "                action = NON_RL_COMPARISON_STRATEGIES.get(strategy)\n",
    "            else: \n",
    "                if strategy == \"PPOLSTM\":\n",
    "                    action, _, __ = agent.select_action(observation, sampling= False)\n",
    "\n",
    "            finalAction = (\n",
    "                softmax([0] + action) if strategy in NON_RL_COMPARISON_STRATEGIES else action\n",
    "            )\n",
    "            next, reward, done, _, info = env.step(finalAction, rewardFunction)                    \n",
    "        dataString = None\n",
    "        if conf == None or strategy == \"RANDOM\":\n",
    "            dataString = generateConfigLabel(strategy, agent, rewardFunction, freq, lr)\n",
    "        else:\n",
    "            dataString = conf\n",
    "        averagePerformance[dataString].append(env.PORTFOLIO_VALUES)\n",
    "        metrics = env.getMetrics()\n",
    "        allResults[dataString].append(metrics)\n",
    "        table = [metrics.keys()]\n",
    "        table.append(metrics.values())\n",
    "        tabulate_neatly(table, headers=\"firstrow\", title=f\"Evaluation: {num} | {dataString}\")\n",
    "        # if strategy not in NON_RL_COMPARISON_STRATEGIES.keys() and strategy != \"RANDOM\":\n",
    "        #nice but take up way too much space...\n",
    "        # printConfiguration(agent, freq)\n",
    "        # plotAllocations([0] + action if strategy in NON_RL_COMPARISON_STRATEGIES.keys() else finalAction, \"Final Allocations\")\n",
    "        portFolder = f\"portfolios/{dataType}/{num}/\"\n",
    "        if not os.path.exists(portFolder):\n",
    "            os.makedirs(portFolder)\n",
    "        np.savetxt(f\"{portFolder}{(dataString.split(\"|\")[0]).strip()}.txt\", env.PORTFOLIO_VALUES, fmt='%f')\n",
    "        if (strategy in RL_STRATS) and save:\n",
    "            # if model.perform() #some \"scoreperformance stuff\"\n",
    "            saveFolder = f\"save/{dataType}/{num}/{(dataString.split(\"|\")[0]).strip()}/\"\n",
    "            # Ensure the child save directory exists\n",
    "            if not os.path.exists(saveFolder):\n",
    "                os.makedirs(saveFolder)\n",
    "            agent.save(saveFolder)  \n",
    "            "
   ]
  },
  {
   "cell_type": "code",
   "execution_count": 17,
   "metadata": {},
   "outputs": [],
   "source": [
    "from PPO import PPOAgent\n",
    "from LstmFeatureExtractor import LstmFeatureExtractor\n",
    "from scipy.special import softmax\n",
    "import numpy as np\n",
    "\n",
    "def initialiseTrainingEnvironment(episode, rewardFunction, riskAversion, evalType):\n",
    "    start = TIMESTEP_SHIFT * episode\n",
    "    normalisedData = dict()\n",
    "    PRICE_DATA = PRICE_TRAINING_DATA\n",
    "    AGENT_DATA = AGENT_TRAINING_DATA\n",
    "    #use training validation combo for training if testing\n",
    "    if evalType == \"testing\":\n",
    "        PRICE_DATA = PRICE_TRAINING_VALIDATION_DATA\n",
    "        AGENT_DATA = AGENT_TRAINING_VALIDATION_DATA\n",
    "    for key in PRICE_DATA.keys():\n",
    "        end = min(start+EPISODE_LENGTH, len(PRICE_DATA[key]))\n",
    "        normalisedData[key] = AGENT_DATA[key].iloc[start:end]\n",
    "        normalisedData[key].reset_index(drop=True, inplace=True)\n",
    "    env = TimeSeriesEnvironment(PRICE_DATA.iloc[start:end], normalisedData, TIME_WINDOW, EPISODE_LENGTH, START_CASH, riskAversion, 2e-4)\n",
    "    if \"Differential\" in rewardFunction:\n",
    "        decay = float(rewardFunction.split(\"_\")[1])\n",
    "        env.decayRate = decay\n",
    "    return env\n",
    "\n",
    "def trainingLoop(riskAversion=0, lstmOutputSize=512, rewardFunction=\"CVaR\", freq=int(EPISODE_LENGTH / 25), lr=3e-4, conf = None, evalType = \"validation\"):\n",
    "    featureExtractor = LstmFeatureExtractor(TIME_WINDOW, NUMBER_OF_FEATURES, 128, lstmOutputSize)\n",
    "    agent = generateAgent(lstmOutputSize, riskAversion, lr, featureExtractor)\n",
    "    numberRun=0\n",
    "    startTime = time.time()\n",
    "    for epoch in range(EPOCHS):\n",
    "        if epoch > 0:\n",
    "            print(f\"{epoch} Epochs takes: {(time.time() - startTime):.2f} seconds\")\n",
    "        torch.manual_seed(epoch)\n",
    "        np.random.seed(epoch)\n",
    "        for strategy in RL_STRATS:\n",
    "            for episode in range(TRAINING_WINDOWS):\n",
    "                env = initialiseTrainingEnvironment(episode, rewardFunction, riskAversion, evalType)\n",
    "                env.reset()\n",
    "                done = False\n",
    "                while not done:\n",
    "                    if not env.getIsReady():\n",
    "                        warmUpEnvironment(env, rewardFunction)\n",
    "                        continue\n",
    "                    observation = None\n",
    "                    data = env.getData()\n",
    "                    observation = featureExtractor.forward(torch.tensor(data, dtype=torch.float32).unsqueeze(0))\n",
    "                    probabilities, valuation = None, None\n",
    "                    if strategy == \"PPOLSTM\":\n",
    "                        action, probabilities, valuation = agent.select_action(observation)\n",
    "                    next, reward, done, _, info = env.step(action, rewardFunction)                    \n",
    "                    if strategy in RL_STRATS:\n",
    "                        storeExperiences(agent, data, reward, done, strategy, action, probabilities, valuation)\n",
    "                        if (env.timeStep % freq) == 0:\n",
    "                            agent.train()\n",
    "                    if done:\n",
    "                        numberRun += 1\n",
    "                        if numberRun % TRAINING_WINDOWS == 0:\n",
    "                            evaluateAgent(riskAversion, rewardFunction, agent, freq, lr, numberRun, conf, dataType=evalType)\n",
    "                        "
   ]
  },
  {
   "cell_type": "markdown",
   "metadata": {},
   "source": [
    "### Visualise Performance ###"
   ]
  },
  {
   "cell_type": "code",
   "execution_count": 18,
   "metadata": {},
   "outputs": [],
   "source": [
    "def plotPerformance(test, final=\"\"):\n",
    "    plt.figure(figsize=(12,6))\n",
    "    name = f\"Returns_\" \n",
    "    portfolioFolder = f\"portfolios/Test-{test+final}/\"+ datetime.now().strftime(\"%Y-%m-%d\") + \"/\"\n",
    "    plotsFolder = f\"plots/Test-{test+final}/\"+ datetime.now().strftime(\"%Y-%m-%d\") + \"/\"\n",
    "    if not os.path.exists(portfolioFolder):\n",
    "        os.makedirs(portfolioFolder)\n",
    "    if not os.path.exists(plotsFolder):\n",
    "        os.makedirs(plotsFolder)\n",
    "    for k, v in averagePerformance.items():\n",
    "        if final == \"\":\n",
    "            if test.lower() in k.lower() or \"RANDOM\" in k: # i wrote this at 12am forgive me\n",
    "                shouldBeSkipped = False\n",
    "            else:\n",
    "                shouldBeSkipped = True\n",
    "            for value in list(NON_RL_COMPARISON_STRATEGIES.keys())[:-1]:\n",
    "                if value in k:\n",
    "                    shouldBeSkipped = True # only need to compare with buy and hold for now\n",
    "            if shouldBeSkipped:\n",
    "                continue \n",
    "        try:\n",
    "            x = np.array(v)\n",
    "            x = np.mean(v, axis=0)\n",
    "            v = x\n",
    "        except ValueError:\n",
    "            maxLength = max(len(arr) for arr in v)\n",
    "            result = []\n",
    "            for i in range(maxLength):\n",
    "                values = [arr[i] for arr in v if i < len(arr)]\n",
    "                mean_value = np.mean(values)\n",
    "                result.append(mean_value)\n",
    "            v = result\n",
    "        l = k.split(\"|\")[0]\n",
    "        array = np.insert(v, 0, START_CASH)\n",
    "        plt.plot(array, label=l)\n",
    "        np.savetxt(f\"{portfolioFolder}{name}{l}.txt\", array, fmt='%f')\n",
    "        plt.title(f\"Returns over Time. Testing: {test}\")\n",
    "        plt.xlabel(\"Time\")\n",
    "        plt.ylabel(\"Mean Returns\")\n",
    "        plt.legend()\n",
    "        # plt.savefig(f\"{plotsFolder}{name}\")\n",
    "        plt.show()\n",
    "\n"
   ]
  },
  {
   "cell_type": "markdown",
   "metadata": {},
   "source": [
    "### Helper: Tabulate Results"
   ]
  },
  {
   "cell_type": "code",
   "execution_count": 19,
   "metadata": {},
   "outputs": [],
   "source": [
    "def tabulateResults():\n",
    "    for k, v in allResults.items():\n",
    "        table = [list(v[0].keys()) + [\"Standard Deviation\"]] \n",
    "        meanReturns, meanPB, meanSR, timeSteps = 0, 0, 0, 0\n",
    "        deviations = []\n",
    "        for resultSet in v:\n",
    "            meanReturns += resultSet[\"Cumulative \\nReturn (%)\"]\n",
    "            deviations.append(resultSet[\"Cumulative \\nReturn (%)\"])\n",
    "            meanPB += resultSet[\"Maximum \\nPullback (%)\"]\n",
    "            meanSR += resultSet[\"Sharpe Ratio\"]\n",
    "            timeSteps += resultSet[\"Total Timesteps\"]\n",
    "        array = [meanReturns, meanPB, meanSR, timeSteps, np.std(deviations)]\n",
    "        array = [i/len(v) for i in array]\n",
    "        table.append(array)\n",
    "        tabulate_neatly(table, headers=\"firstrow\", title=f\"MEAN RESULTS FOR: \" + k)"
   ]
  },
  {
   "cell_type": "markdown",
   "metadata": {},
   "source": [
    "#### Training Models"
   ]
  },
  {
   "cell_type": "code",
   "execution_count": 20,
   "metadata": {},
   "outputs": [],
   "source": [
    "def sweep():\n",
    "    for testType, active in TESTING.items():\n",
    "        if active:\n",
    "            print(f\"TESTING {testType.replace('_', ' ').upper()}\")\n",
    "            testLoops = {\n",
    "                \"RISK AVERSION\": lambda: [\n",
    "                    trainingLoop(riskAversion=risk) for risk in AGENT_RISK_AVERSIONS\n",
    "                ],\n",
    "                \"LSTM OUTPUT SIZE\": lambda: [\n",
    "                    trainingLoop(lstmOutputSize=size) for size in LSTMOUTPUTSIZES\n",
    "                ],\n",
    "                \"REWARD FUNCTION\": lambda: [\n",
    "                    trainingLoop(\n",
    "                        riskAversion=0, rewardFunction=r\n",
    "                    )\n",
    "                    for r in REWARD_FUNCTIONS\n",
    "                ],\n",
    "                \"LEARNING FREQUENCY\": lambda: [\n",
    "                    trainingLoop(freq=fr) for fr in LEARNING_FREQUENCIES\n",
    "                ],\n",
    "                \"LEARNING RATE\": lambda: [\n",
    "                    trainingLoop(lr=learn) for learn in LEARNING_RATES\n",
    "                ],\n",
    "            }\n",
    "            \n",
    "            testLoops[testType]()\n",
    "            break \n",
    "\n",
    "\n",
    "def hyperSweep():\n",
    "    for key in TESTING.keys():\n",
    "        print(\"=\" * 50)\n",
    "        TESTING[key] = True\n",
    "        sweep()\n",
    "        TESTING[key] = False\n",
    "        print(\"=\" * 50)\n",
    "    tabulateResults()\n",
    "\n",
    "TRAIN = False\n",
    "# Run the sweep\n",
    "if TRAIN:\n",
    "    hyperSweep()"
   ]
  },
  {
   "cell_type": "markdown",
   "metadata": {},
   "source": [
    "#### Evaluation"
   ]
  },
  {
   "cell_type": "code",
   "execution_count": 21,
   "metadata": {},
   "outputs": [],
   "source": [
    "HYPERS = {\n",
    "    \"Risk Aversion\" : AGENT_RISK_AVERSIONS,\n",
    "    \"LSTM Output Size\" : LSTMOUTPUTSIZES,\n",
    "    \"Reward Function\" : REWARD_FUNCTIONS,\n",
    "    \"Learning Frequency\": LEARNING_FREQUENCIES, \n",
    "    \"Learning Rate\": LEARNING_RATES,\n",
    "    }\n",
    "\n",
    "def initAgent(lstmOutputSize, lr, riskAversion):\n",
    "    agent = PPOAgent( \n",
    "            state_n=lstmOutputSize, \n",
    "            actions_n=len(productIds) + 1,\n",
    "            alpha=lr,\n",
    "            policyClip = 0.2,\n",
    "            gamma=0.99,\n",
    "            lstmHiddenSize=LSTMHIDDENSIZE,\n",
    "            actor_noise=0,\n",
    "            batch_size=512,\n",
    "            fc1_n=128,\n",
    "            fc2_n=128,\n",
    "            gaeLambda=0.98,\n",
    "            epochs=10,\n",
    "            riskAversion=riskAversion,\n",
    "            featureExtractor = LstmFeatureExtractor(TIME_WINDOW, NUMBER_OF_FEATURES, 128, lstmOutputSize)\n",
    "                )\n",
    "    return agent\n",
    "\n",
    "def setParameters(parameter, hyper, riskAversion, lstmOutputSize, lr):\n",
    "    agent = None\n",
    "    rf = \"Standard Logarithmic Returns\"\n",
    "    freq = int(EPISODE_LENGTH / 25)\n",
    "    risk = parameter if hyper == \"Risk Aversion\" else riskAversion\n",
    "    if hyper == \"Risk Aversion\" or hyper == \"Learning Frequency\" or hyper == \"Reward Function\":\n",
    "        agent = initAgent(lstmOutputSize, lr, risk)\n",
    "    elif hyper == \"LSTM Output Size\":\n",
    "        agent = initAgent(parameter, lr, risk)\n",
    "    else:\n",
    "        agent = initAgent(lstmOutputSize, parameter, risk)\n",
    "    if hyper == \"Reward Function\":\n",
    "        rf = parameter\n",
    "    if hyper == \"Learning Rate\":\n",
    "        lr = parameter\n",
    "    if hyper == \"Learning Frequency\":\n",
    "        freq = parameter\n",
    "    return rf, freq, risk, agent\n",
    "\n",
    "def runSavedAgents(lstmOutputSize = 512, riskAversion=0, lr=3e-4, dataType = \"validation\"):\n",
    "    for hyper, param in HYPERS.items():\n",
    "        TESTING[hyper.upper()] = True\n",
    "        for epoch in range(1, EPOCHS + 1):\n",
    "            for parameter in param:\n",
    "                saveFolder = f\"save/{dataType}/{epoch * TRAINING_WINDOWS}/{hyper}-{parameter}/\"\n",
    "                rf, freq, risk, agent = setParameters(parameter, hyper, riskAversion, lstmOutputSize, lr)\n",
    "                agent.load(saveFolder)\n",
    "                evaluateAgent(risk, rf, agent, freq, lr=lr, num=epoch * TRAINING_WINDOWS, conf=None, save=False) # ignore standard log - agent is not learning here\n",
    "        TESTING[hyper.upper()] = False\n",
    "                \n",
    "RUN_SAVED_TRAINED_AGENTS = False                \n",
    "\n",
    "if RUN_SAVED_TRAINED_AGENTS:\n",
    "    runSavedAgents()\n",
    "        "
   ]
  },
  {
   "cell_type": "markdown",
   "metadata": {},
   "source": [
    "#### Assess"
   ]
  },
  {
   "cell_type": "code",
   "execution_count": 22,
   "metadata": {},
   "outputs": [
    {
     "name": "stdout",
     "output_type": "stream",
     "text": [
      "Epoch 1 | Best Hyperparameter:  Risk Aversion-0.25\n",
      "Epoch 1 | Best Score:  0.1254735589700761\n"
     ]
    },
    {
     "data": {
      "text/html": [
       "<h3>Epoch: 1 | Scores and Metrics Tabulated</h3>\n"
      ]
     },
     "metadata": {},
     "output_type": "display_data"
    },
    {
     "data": {
      "text/html": [
       "<table>\n",
       "<thead>\n",
       "<tr><th>Hyperparameter    </th><th style=\"text-align: right;\">        Cumulative \n",
       "Return (%)</th><th style=\"text-align: right;\">        Maximum \n",
       "Pullback (%)</th><th style=\"text-align: right;\">  Sharpe Ratio</th><th style=\"text-align: right;\">  Score</th></tr>\n",
       "</thead>\n",
       "<tbody>\n",
       "<tr><td>Risk Aversion-0.25</td><td style=\"text-align: right;\">33.0194</td><td style=\"text-align: right;\">10.3316</td><td style=\"text-align: right;\">        0.1233</td><td style=\"text-align: right;\"> 0.1255</td></tr>\n",
       "<tr><td>Risk Aversion-0.5 </td><td style=\"text-align: right;\">16.7771</td><td style=\"text-align: right;\">10.6325</td><td style=\"text-align: right;\">        0.0747</td><td style=\"text-align: right;\">-0.0402</td></tr>\n",
       "<tr><td>Risk Aversion-1.0 </td><td style=\"text-align: right;\">29.1381</td><td style=\"text-align: right;\">11.2585</td><td style=\"text-align: right;\">        0.1048</td><td style=\"text-align: right;\"> 0.0617</td></tr>\n",
       "<tr><td>Risk Aversion-1.5 </td><td style=\"text-align: right;\">23.8827</td><td style=\"text-align: right;\">10.2958</td><td style=\"text-align: right;\">        0.0917</td><td style=\"text-align: right;\"> 0.0123</td></tr>\n",
       "<tr><td>Risk Aversion-2.0 </td><td style=\"text-align: right;\">23.5812</td><td style=\"text-align: right;\">12.8761</td><td style=\"text-align: right;\">        0.079 </td><td style=\"text-align: right;\"> 0.0066</td></tr>\n",
       "</tbody>\n",
       "</table>"
      ]
     },
     "metadata": {},
     "output_type": "display_data"
    },
    {
     "name": "stdout",
     "output_type": "stream",
     "text": [
      "Epoch 2 | Best Hyperparameter:  Risk Aversion-1.0\n",
      "Epoch 2 | Best Score:  0.12760809929690564\n"
     ]
    },
    {
     "data": {
      "text/html": [
       "<h3>Epoch: 2 | Scores and Metrics Tabulated</h3>\n"
      ]
     },
     "metadata": {},
     "output_type": "display_data"
    },
    {
     "data": {
      "text/html": [
       "<table>\n",
       "<thead>\n",
       "<tr><th>Hyperparameter    </th><th style=\"text-align: right;\">        Cumulative \n",
       "Return (%)</th><th style=\"text-align: right;\">        Maximum \n",
       "Pullback (%)</th><th style=\"text-align: right;\">  Sharpe Ratio</th><th style=\"text-align: right;\">  Score</th></tr>\n",
       "</thead>\n",
       "<tbody>\n",
       "<tr><td>Risk Aversion-0.25</td><td style=\"text-align: right;\">22.9565</td><td style=\"text-align: right;\">10.981 </td><td style=\"text-align: right;\">        0.0837</td><td style=\"text-align: right;\"> 0.0034</td></tr>\n",
       "<tr><td>Risk Aversion-0.5 </td><td style=\"text-align: right;\">21.2989</td><td style=\"text-align: right;\">11.7265</td><td style=\"text-align: right;\">        0.0823</td><td style=\"text-align: right;\">-0.0085</td></tr>\n",
       "<tr><td>Risk Aversion-1.0 </td><td style=\"text-align: right;\">34.6969</td><td style=\"text-align: right;\">11.0422</td><td style=\"text-align: right;\">        0.1156</td><td style=\"text-align: right;\"> 0.1276</td></tr>\n",
       "<tr><td>Risk Aversion-1.5 </td><td style=\"text-align: right;\">28.6864</td><td style=\"text-align: right;\">11.2985</td><td style=\"text-align: right;\">        0.1063</td><td style=\"text-align: right;\"> 0.0582</td></tr>\n",
       "<tr><td>Risk Aversion-2.0 </td><td style=\"text-align: right;\">30.772 </td><td style=\"text-align: right;\">10.1692</td><td style=\"text-align: right;\">        0.1009</td><td style=\"text-align: right;\"> 0.082 </td></tr>\n",
       "</tbody>\n",
       "</table>"
      ]
     },
     "metadata": {},
     "output_type": "display_data"
    },
    {
     "name": "stdout",
     "output_type": "stream",
     "text": [
      "Epoch 3 | Best Hyperparameter:  Risk Aversion-1.0\n",
      "Epoch 3 | Best Score:  0.17643638504512504\n"
     ]
    },
    {
     "data": {
      "text/html": [
       "<h3>Epoch: 3 | Scores and Metrics Tabulated</h3>\n"
      ]
     },
     "metadata": {},
     "output_type": "display_data"
    },
    {
     "data": {
      "text/html": [
       "<table>\n",
       "<thead>\n",
       "<tr><th>Hyperparameter    </th><th style=\"text-align: right;\">        Cumulative \n",
       "Return (%)</th><th style=\"text-align: right;\">        Maximum \n",
       "Pullback (%)</th><th style=\"text-align: right;\">  Sharpe Ratio</th><th style=\"text-align: right;\">  Score</th></tr>\n",
       "</thead>\n",
       "<tbody>\n",
       "<tr><td>Risk Aversion-0.25</td><td style=\"text-align: right;\">29.4009</td><td style=\"text-align: right;\">11.2456</td><td style=\"text-align: right;\">        0.1012</td><td style=\"text-align: right;\"> 0.062 </td></tr>\n",
       "<tr><td>Risk Aversion-0.5 </td><td style=\"text-align: right;\">20.2724</td><td style=\"text-align: right;\">12.8693</td><td style=\"text-align: right;\">        0.0727</td><td style=\"text-align: right;\">-0.0126</td></tr>\n",
       "<tr><td>Risk Aversion-1.0 </td><td style=\"text-align: right;\">39.0728</td><td style=\"text-align: right;\">12.0022</td><td style=\"text-align: right;\">        0.1278</td><td style=\"text-align: right;\"> 0.1764</td></tr>\n",
       "<tr><td>Risk Aversion-1.5 </td><td style=\"text-align: right;\">30.9646</td><td style=\"text-align: right;\">12.3334</td><td style=\"text-align: right;\">        0.1029</td><td style=\"text-align: right;\"> 0.0706</td></tr>\n",
       "<tr><td>Risk Aversion-2.0 </td><td style=\"text-align: right;\">27.7673</td><td style=\"text-align: right;\">12.5582</td><td style=\"text-align: right;\">        0.0939</td><td style=\"text-align: right;\"> 0.0393</td></tr>\n",
       "</tbody>\n",
       "</table>"
      ]
     },
     "metadata": {},
     "output_type": "display_data"
    },
    {
     "name": "stdout",
     "output_type": "stream",
     "text": [
      "Epoch 4 | Best Hyperparameter:  Risk Aversion-1.0\n",
      "Epoch 4 | Best Score:  0.1651401569228161\n"
     ]
    },
    {
     "data": {
      "text/html": [
       "<h3>Epoch: 4 | Scores and Metrics Tabulated</h3>\n"
      ]
     },
     "metadata": {},
     "output_type": "display_data"
    },
    {
     "data": {
      "text/html": [
       "<table>\n",
       "<thead>\n",
       "<tr><th>Hyperparameter    </th><th style=\"text-align: right;\">        Cumulative \n",
       "Return (%)</th><th style=\"text-align: right;\">        Maximum \n",
       "Pullback (%)</th><th style=\"text-align: right;\">  Sharpe Ratio</th><th style=\"text-align: right;\">  Score</th></tr>\n",
       "</thead>\n",
       "<tbody>\n",
       "<tr><td>Risk Aversion-0.25</td><td style=\"text-align: right;\">33.5127</td><td style=\"text-align: right;\">10.8546</td><td style=\"text-align: right;\">        0.1139</td><td style=\"text-align: right;\"> 0.1155</td></tr>\n",
       "<tr><td>Risk Aversion-0.5 </td><td style=\"text-align: right;\">14.2977</td><td style=\"text-align: right;\">12.7775</td><td style=\"text-align: right;\">        0.0531</td><td style=\"text-align: right;\">-0.0341</td></tr>\n",
       "<tr><td>Risk Aversion-1.0 </td><td style=\"text-align: right;\">37.9939</td><td style=\"text-align: right;\">11.2333</td><td style=\"text-align: right;\">        0.1198</td><td style=\"text-align: right;\"> 0.1651</td></tr>\n",
       "<tr><td>Risk Aversion-1.5 </td><td style=\"text-align: right;\">30.8889</td><td style=\"text-align: right;\">10.9431</td><td style=\"text-align: right;\">        0.1003</td><td style=\"text-align: right;\"> 0.0768</td></tr>\n",
       "<tr><td>Risk Aversion-2.0 </td><td style=\"text-align: right;\">35.8369</td><td style=\"text-align: right;\">13.7095</td><td style=\"text-align: right;\">        0.1118</td><td style=\"text-align: right;\"> 0.1087</td></tr>\n",
       "</tbody>\n",
       "</table>"
      ]
     },
     "metadata": {},
     "output_type": "display_data"
    },
    {
     "name": "stdout",
     "output_type": "stream",
     "text": [
      "Epoch 5 | Best Hyperparameter:  Risk Aversion-2.0\n",
      "Epoch 5 | Best Score:  0.12847693000999263\n"
     ]
    },
    {
     "data": {
      "text/html": [
       "<h3>Epoch: 5 | Scores and Metrics Tabulated</h3>\n"
      ]
     },
     "metadata": {},
     "output_type": "display_data"
    },
    {
     "data": {
      "text/html": [
       "<table>\n",
       "<thead>\n",
       "<tr><th>Hyperparameter    </th><th style=\"text-align: right;\">        Cumulative \n",
       "Return (%)</th><th style=\"text-align: right;\">        Maximum \n",
       "Pullback (%)</th><th style=\"text-align: right;\">  Sharpe Ratio</th><th style=\"text-align: right;\">  Score</th></tr>\n",
       "</thead>\n",
       "<tbody>\n",
       "<tr><td>Risk Aversion-0.25</td><td style=\"text-align: right;\">30.6577</td><td style=\"text-align: right;\">10.2394</td><td style=\"text-align: right;\">        0.1087</td><td style=\"text-align: right;\"> 0.0866</td></tr>\n",
       "<tr><td>Risk Aversion-0.5 </td><td style=\"text-align: right;\"> 9.8879</td><td style=\"text-align: right;\">14.5875</td><td style=\"text-align: right;\">        0.0378</td><td style=\"text-align: right;\">-0.0327</td></tr>\n",
       "<tr><td>Risk Aversion-1.0 </td><td style=\"text-align: right;\">32.7405</td><td style=\"text-align: right;\">15.5873</td><td style=\"text-align: right;\">        0.0951</td><td style=\"text-align: right;\"> 0.0625</td></tr>\n",
       "<tr><td>Risk Aversion-1.5 </td><td style=\"text-align: right;\">31.4222</td><td style=\"text-align: right;\"> 9.6802</td><td style=\"text-align: right;\">        0.1023</td><td style=\"text-align: right;\"> 0.0942</td></tr>\n",
       "<tr><td>Risk Aversion-2.0 </td><td style=\"text-align: right;\">35.6498</td><td style=\"text-align: right;\">11.952 </td><td style=\"text-align: right;\">        0.1168</td><td style=\"text-align: right;\"> 0.1285</td></tr>\n",
       "</tbody>\n",
       "</table>"
      ]
     },
     "metadata": {},
     "output_type": "display_data"
    },
    {
     "data": {
      "text/html": [
       "<h3>Best Hyperparameters (Summary): Risk Aversion</h3>\n"
      ]
     },
     "metadata": {},
     "output_type": "display_data"
    },
    {
     "data": {
      "text/html": [
       "<table>\n",
       "<thead>\n",
       "<tr><th>Hyperparameter    </th><th style=\"text-align: right;\">  Epoch</th><th style=\"text-align: right;\">      Score</th></tr>\n",
       "</thead>\n",
       "<tbody>\n",
       "<tr><td>Risk Aversion-0.25</td><td style=\"text-align: right;\">      1</td><td style=\"text-align: right;\"> 0.125474  </td></tr>\n",
       "<tr><td>Risk Aversion-0.5 </td><td style=\"text-align: right;\">      2</td><td style=\"text-align: right;\">-0.00846969</td></tr>\n",
       "<tr><td>Risk Aversion-1.0 </td><td style=\"text-align: right;\">      3</td><td style=\"text-align: right;\"> 0.176436  </td></tr>\n",
       "<tr><td>Risk Aversion-1.5 </td><td style=\"text-align: right;\">      5</td><td style=\"text-align: right;\"> 0.0942265 </td></tr>\n",
       "<tr><td>Risk Aversion-2.0 </td><td style=\"text-align: right;\">      5</td><td style=\"text-align: right;\"> 0.128477  </td></tr>\n",
       "</tbody>\n",
       "</table>"
      ]
     },
     "metadata": {},
     "output_type": "display_data"
    },
    {
     "data": {
      "text/html": [
       "<h3>Best Hyperparameters with Detailed Metrics: Risk Aversion</h3>\n"
      ]
     },
     "metadata": {},
     "output_type": "display_data"
    },
    {
     "data": {
      "text/html": [
       "<table>\n",
       "<thead>\n",
       "<tr><th>Hyperparameter    </th><th style=\"text-align: right;\">  Best Epoch</th><th style=\"text-align: right;\">        Cumulative \n",
       "Return (%)</th><th style=\"text-align: right;\">        Maximum \n",
       "Pullback (%)</th><th style=\"text-align: right;\">  Sharpe Ratio</th><th style=\"text-align: right;\">  Score</th></tr>\n",
       "</thead>\n",
       "<tbody>\n",
       "<tr><td>Risk Aversion-0.25</td><td style=\"text-align: right;\">           1</td><td style=\"text-align: right;\">33.0194</td><td style=\"text-align: right;\">10.3316</td><td style=\"text-align: right;\">        0.1233</td><td style=\"text-align: right;\"> 0.1255</td></tr>\n",
       "<tr><td>Risk Aversion-0.5 </td><td style=\"text-align: right;\">           2</td><td style=\"text-align: right;\">21.2989</td><td style=\"text-align: right;\">11.7265</td><td style=\"text-align: right;\">        0.0823</td><td style=\"text-align: right;\">-0.0085</td></tr>\n",
       "<tr><td>Risk Aversion-1.0 </td><td style=\"text-align: right;\">           3</td><td style=\"text-align: right;\">39.0728</td><td style=\"text-align: right;\">12.0022</td><td style=\"text-align: right;\">        0.1278</td><td style=\"text-align: right;\"> 0.1764</td></tr>\n",
       "<tr><td>Risk Aversion-1.5 </td><td style=\"text-align: right;\">           5</td><td style=\"text-align: right;\">31.4222</td><td style=\"text-align: right;\"> 9.6802</td><td style=\"text-align: right;\">        0.1023</td><td style=\"text-align: right;\"> 0.0942</td></tr>\n",
       "<tr><td>Risk Aversion-2.0 </td><td style=\"text-align: right;\">           5</td><td style=\"text-align: right;\">35.6498</td><td style=\"text-align: right;\">11.952 </td><td style=\"text-align: right;\">        0.1168</td><td style=\"text-align: right;\"> 0.1285</td></tr>\n",
       "</tbody>\n",
       "</table>"
      ]
     },
     "metadata": {},
     "output_type": "display_data"
    },
    {
     "name": "stdout",
     "output_type": "stream",
     "text": [
      "Epoch 1 | Best Hyperparameter:  Lstm Output Size-1024\n",
      "Epoch 1 | Best Score:  0.12005601463393689\n"
     ]
    },
    {
     "data": {
      "text/html": [
       "<h3>Epoch: 1 | Scores and Metrics Tabulated</h3>\n"
      ]
     },
     "metadata": {},
     "output_type": "display_data"
    },
    {
     "data": {
      "text/html": [
       "<table>\n",
       "<thead>\n",
       "<tr><th>Hyperparameter       </th><th style=\"text-align: right;\">        Cumulative \n",
       "Return (%)</th><th style=\"text-align: right;\">        Maximum \n",
       "Pullback (%)</th><th style=\"text-align: right;\">  Sharpe Ratio</th><th style=\"text-align: right;\">  Score</th></tr>\n",
       "</thead>\n",
       "<tbody>\n",
       "<tr><td>Lstm Output Size-64  </td><td style=\"text-align: right;\">25.8707</td><td style=\"text-align: right;\">11.0262</td><td style=\"text-align: right;\">        0.0989</td><td style=\"text-align: right;\"> 0.0302</td></tr>\n",
       "<tr><td>Lstm Output Size-128 </td><td style=\"text-align: right;\">27.8447</td><td style=\"text-align: right;\">10.7533</td><td style=\"text-align: right;\">        0.0901</td><td style=\"text-align: right;\"> 0.0447</td></tr>\n",
       "<tr><td>Lstm Output Size-256 </td><td style=\"text-align: right;\">25.73  </td><td style=\"text-align: right;\">10.2959</td><td style=\"text-align: right;\">        0.109 </td><td style=\"text-align: right;\"> 0.0342</td></tr>\n",
       "<tr><td>Lstm Output Size-512 </td><td style=\"text-align: right;\">28.5263</td><td style=\"text-align: right;\">10.7875</td><td style=\"text-align: right;\">        0.1048</td><td style=\"text-align: right;\"> 0.0585</td></tr>\n",
       "<tr><td>Lstm Output Size-1024</td><td style=\"text-align: right;\">33.767 </td><td style=\"text-align: right;\">11.1919</td><td style=\"text-align: right;\">        0.1193</td><td style=\"text-align: right;\"> 0.1201</td></tr>\n",
       "</tbody>\n",
       "</table>"
      ]
     },
     "metadata": {},
     "output_type": "display_data"
    },
    {
     "name": "stdout",
     "output_type": "stream",
     "text": [
      "Epoch 2 | Best Hyperparameter:  Lstm Output Size-64\n",
      "Epoch 2 | Best Score:  0.13798780068550182\n"
     ]
    },
    {
     "data": {
      "text/html": [
       "<h3>Epoch: 2 | Scores and Metrics Tabulated</h3>\n"
      ]
     },
     "metadata": {},
     "output_type": "display_data"
    },
    {
     "data": {
      "text/html": [
       "<table>\n",
       "<thead>\n",
       "<tr><th>Hyperparameter       </th><th style=\"text-align: right;\">        Cumulative \n",
       "Return (%)</th><th style=\"text-align: right;\">        Maximum \n",
       "Pullback (%)</th><th style=\"text-align: right;\">  Sharpe Ratio</th><th style=\"text-align: right;\">  Score</th></tr>\n",
       "</thead>\n",
       "<tbody>\n",
       "<tr><td>Lstm Output Size-64  </td><td style=\"text-align: right;\">36.7988</td><td style=\"text-align: right;\">12.1754</td><td style=\"text-align: right;\">        0.1175</td><td style=\"text-align: right;\"> 0.138 </td></tr>\n",
       "<tr><td>Lstm Output Size-128 </td><td style=\"text-align: right;\">33.9645</td><td style=\"text-align: right;\"> 9.8408</td><td style=\"text-align: right;\">        0.1058</td><td style=\"text-align: right;\"> 0.1232</td></tr>\n",
       "<tr><td>Lstm Output Size-256 </td><td style=\"text-align: right;\">19.9798</td><td style=\"text-align: right;\">11.3705</td><td style=\"text-align: right;\">        0.0848</td><td style=\"text-align: right;\">-0.0188</td></tr>\n",
       "<tr><td>Lstm Output Size-512 </td><td style=\"text-align: right;\">18.4496</td><td style=\"text-align: right;\">13.2034</td><td style=\"text-align: right;\">        0.0695</td><td style=\"text-align: right;\">-0.0213</td></tr>\n",
       "<tr><td>Lstm Output Size-1024</td><td style=\"text-align: right;\">30.995 </td><td style=\"text-align: right;\">12.6215</td><td style=\"text-align: right;\">        0.1122</td><td style=\"text-align: right;\"> 0.0755</td></tr>\n",
       "</tbody>\n",
       "</table>"
      ]
     },
     "metadata": {},
     "output_type": "display_data"
    },
    {
     "name": "stdout",
     "output_type": "stream",
     "text": [
      "Epoch 3 | Best Hyperparameter:  Lstm Output Size-128\n",
      "Epoch 3 | Best Score:  0.2125282920674593\n"
     ]
    },
    {
     "data": {
      "text/html": [
       "<h3>Epoch: 3 | Scores and Metrics Tabulated</h3>\n"
      ]
     },
     "metadata": {},
     "output_type": "display_data"
    },
    {
     "data": {
      "text/html": [
       "<table>\n",
       "<thead>\n",
       "<tr><th>Hyperparameter       </th><th style=\"text-align: right;\">        Cumulative \n",
       "Return (%)</th><th style=\"text-align: right;\">        Maximum \n",
       "Pullback (%)</th><th style=\"text-align: right;\">  Sharpe Ratio</th><th style=\"text-align: right;\">  Score</th></tr>\n",
       "</thead>\n",
       "<tbody>\n",
       "<tr><td>Lstm Output Size-64  </td><td style=\"text-align: right;\">28.2283</td><td style=\"text-align: right;\">13.4789</td><td style=\"text-align: right;\">        0.0966</td><td style=\"text-align: right;\"> 0.041 </td></tr>\n",
       "<tr><td>Lstm Output Size-128 </td><td style=\"text-align: right;\">37.3837</td><td style=\"text-align: right;\"> 8.8562</td><td style=\"text-align: right;\">        0.1265</td><td style=\"text-align: right;\"> 0.2125</td></tr>\n",
       "<tr><td>Lstm Output Size-256 </td><td style=\"text-align: right;\">23.533 </td><td style=\"text-align: right;\">10.8784</td><td style=\"text-align: right;\">        0.0979</td><td style=\"text-align: right;\"> 0.0092</td></tr>\n",
       "<tr><td>Lstm Output Size-512 </td><td style=\"text-align: right;\">22.6837</td><td style=\"text-align: right;\">11.739 </td><td style=\"text-align: right;\">        0.0843</td><td style=\"text-align: right;\"> 0.0013</td></tr>\n",
       "<tr><td>Lstm Output Size-1024</td><td style=\"text-align: right;\">35.8967</td><td style=\"text-align: right;\">12.4263</td><td style=\"text-align: right;\">        0.123 </td><td style=\"text-align: right;\"> 0.1326</td></tr>\n",
       "</tbody>\n",
       "</table>"
      ]
     },
     "metadata": {},
     "output_type": "display_data"
    },
    {
     "name": "stdout",
     "output_type": "stream",
     "text": [
      "Epoch 4 | Best Hyperparameter:  Lstm Output Size-1024\n",
      "Epoch 4 | Best Score:  0.11466543997359219\n"
     ]
    },
    {
     "data": {
      "text/html": [
       "<h3>Epoch: 4 | Scores and Metrics Tabulated</h3>\n"
      ]
     },
     "metadata": {},
     "output_type": "display_data"
    },
    {
     "data": {
      "text/html": [
       "<table>\n",
       "<thead>\n",
       "<tr><th>Hyperparameter       </th><th style=\"text-align: right;\">        Cumulative \n",
       "Return (%)</th><th style=\"text-align: right;\">        Maximum \n",
       "Pullback (%)</th><th style=\"text-align: right;\">  Sharpe Ratio</th><th style=\"text-align: right;\">  Score</th></tr>\n",
       "</thead>\n",
       "<tbody>\n",
       "<tr><td>Lstm Output Size-64  </td><td style=\"text-align: right;\">30.0102</td><td style=\"text-align: right;\">14.2518</td><td style=\"text-align: right;\">        0.0965</td><td style=\"text-align: right;\"> 0.0508</td></tr>\n",
       "<tr><td>Lstm Output Size-128 </td><td style=\"text-align: right;\">31.3168</td><td style=\"text-align: right;\">10.091 </td><td style=\"text-align: right;\">        0.103 </td><td style=\"text-align: right;\"> 0.0899</td></tr>\n",
       "<tr><td>Lstm Output Size-256 </td><td style=\"text-align: right;\">21.0847</td><td style=\"text-align: right;\">11.4567</td><td style=\"text-align: right;\">        0.0886</td><td style=\"text-align: right;\">-0.011 </td></tr>\n",
       "<tr><td>Lstm Output Size-512 </td><td style=\"text-align: right;\">30.6248</td><td style=\"text-align: right;\">13.4392</td><td style=\"text-align: right;\">        0.0922</td><td style=\"text-align: right;\"> 0.0557</td></tr>\n",
       "<tr><td>Lstm Output Size-1024</td><td style=\"text-align: right;\">35.6129</td><td style=\"text-align: right;\">12.994 </td><td style=\"text-align: right;\">        0.1137</td><td style=\"text-align: right;\"> 0.1147</td></tr>\n",
       "</tbody>\n",
       "</table>"
      ]
     },
     "metadata": {},
     "output_type": "display_data"
    },
    {
     "name": "stdout",
     "output_type": "stream",
     "text": [
      "Epoch 5 | Best Hyperparameter:  Lstm Output Size-1024\n",
      "Epoch 5 | Best Score:  0.10528984670577313\n"
     ]
    },
    {
     "data": {
      "text/html": [
       "<h3>Epoch: 5 | Scores and Metrics Tabulated</h3>\n"
      ]
     },
     "metadata": {},
     "output_type": "display_data"
    },
    {
     "data": {
      "text/html": [
       "<table>\n",
       "<thead>\n",
       "<tr><th>Hyperparameter       </th><th style=\"text-align: right;\">        Cumulative \n",
       "Return (%)</th><th style=\"text-align: right;\">        Maximum \n",
       "Pullback (%)</th><th style=\"text-align: right;\">  Sharpe Ratio</th><th style=\"text-align: right;\">  Score</th></tr>\n",
       "</thead>\n",
       "<tbody>\n",
       "<tr><td>Lstm Output Size-64  </td><td style=\"text-align: right;\">24.2285</td><td style=\"text-align: right;\">16.1112</td><td style=\"text-align: right;\">        0.0758</td><td style=\"text-align: right;\"> 0.0081</td></tr>\n",
       "<tr><td>Lstm Output Size-128 </td><td style=\"text-align: right;\">30.4717</td><td style=\"text-align: right;\"> 9.5723</td><td style=\"text-align: right;\">        0.1015</td><td style=\"text-align: right;\"> 0.0845</td></tr>\n",
       "<tr><td>Lstm Output Size-256 </td><td style=\"text-align: right;\">19.9189</td><td style=\"text-align: right;\">10.9977</td><td style=\"text-align: right;\">        0.0861</td><td style=\"text-align: right;\">-0.0202</td></tr>\n",
       "<tr><td>Lstm Output Size-512 </td><td style=\"text-align: right;\">24.653 </td><td style=\"text-align: right;\">13.2127</td><td style=\"text-align: right;\">        0.0836</td><td style=\"text-align: right;\"> 0.0136</td></tr>\n",
       "<tr><td>Lstm Output Size-1024</td><td style=\"text-align: right;\">36.452 </td><td style=\"text-align: right;\">13.8968</td><td style=\"text-align: right;\">        0.1049</td><td style=\"text-align: right;\"> 0.1053</td></tr>\n",
       "</tbody>\n",
       "</table>"
      ]
     },
     "metadata": {},
     "output_type": "display_data"
    },
    {
     "data": {
      "text/html": [
       "<h3>Best Hyperparameters (Summary): Lstm Output Size</h3>\n"
      ]
     },
     "metadata": {},
     "output_type": "display_data"
    },
    {
     "data": {
      "text/html": [
       "<table>\n",
       "<thead>\n",
       "<tr><th>Hyperparameter       </th><th style=\"text-align: right;\">  Epoch</th><th style=\"text-align: right;\">    Score</th></tr>\n",
       "</thead>\n",
       "<tbody>\n",
       "<tr><td>Lstm Output Size-64  </td><td style=\"text-align: right;\">      2</td><td style=\"text-align: right;\">0.137988 </td></tr>\n",
       "<tr><td>Lstm Output Size-128 </td><td style=\"text-align: right;\">      3</td><td style=\"text-align: right;\">0.212528 </td></tr>\n",
       "<tr><td>Lstm Output Size-256 </td><td style=\"text-align: right;\">      1</td><td style=\"text-align: right;\">0.0341527</td></tr>\n",
       "<tr><td>Lstm Output Size-512 </td><td style=\"text-align: right;\">      1</td><td style=\"text-align: right;\">0.0584734</td></tr>\n",
       "<tr><td>Lstm Output Size-1024</td><td style=\"text-align: right;\">      3</td><td style=\"text-align: right;\">0.132597 </td></tr>\n",
       "</tbody>\n",
       "</table>"
      ]
     },
     "metadata": {},
     "output_type": "display_data"
    },
    {
     "data": {
      "text/html": [
       "<h3>Best Hyperparameters with Detailed Metrics: Lstm Output Size</h3>\n"
      ]
     },
     "metadata": {},
     "output_type": "display_data"
    },
    {
     "data": {
      "text/html": [
       "<table>\n",
       "<thead>\n",
       "<tr><th>Hyperparameter       </th><th style=\"text-align: right;\">  Best Epoch</th><th style=\"text-align: right;\">        Cumulative \n",
       "Return (%)</th><th style=\"text-align: right;\">        Maximum \n",
       "Pullback (%)</th><th style=\"text-align: right;\">  Sharpe Ratio</th><th style=\"text-align: right;\">  Score</th></tr>\n",
       "</thead>\n",
       "<tbody>\n",
       "<tr><td>Lstm Output Size-64  </td><td style=\"text-align: right;\">           2</td><td style=\"text-align: right;\">36.7988</td><td style=\"text-align: right;\">12.1754</td><td style=\"text-align: right;\">        0.1175</td><td style=\"text-align: right;\"> 0.138 </td></tr>\n",
       "<tr><td>Lstm Output Size-128 </td><td style=\"text-align: right;\">           3</td><td style=\"text-align: right;\">37.3837</td><td style=\"text-align: right;\"> 8.8562</td><td style=\"text-align: right;\">        0.1265</td><td style=\"text-align: right;\"> 0.2125</td></tr>\n",
       "<tr><td>Lstm Output Size-256 </td><td style=\"text-align: right;\">           1</td><td style=\"text-align: right;\">25.73  </td><td style=\"text-align: right;\">10.2959</td><td style=\"text-align: right;\">        0.109 </td><td style=\"text-align: right;\"> 0.0342</td></tr>\n",
       "<tr><td>Lstm Output Size-512 </td><td style=\"text-align: right;\">           1</td><td style=\"text-align: right;\">28.5263</td><td style=\"text-align: right;\">10.7875</td><td style=\"text-align: right;\">        0.1048</td><td style=\"text-align: right;\"> 0.0585</td></tr>\n",
       "<tr><td>Lstm Output Size-1024</td><td style=\"text-align: right;\">           3</td><td style=\"text-align: right;\">35.8967</td><td style=\"text-align: right;\">12.4263</td><td style=\"text-align: right;\">        0.123 </td><td style=\"text-align: right;\"> 0.1326</td></tr>\n",
       "</tbody>\n",
       "</table>"
      ]
     },
     "metadata": {},
     "output_type": "display_data"
    },
    {
     "name": "stdout",
     "output_type": "stream",
     "text": [
      "Epoch 1 | Best Hyperparameter:  Reward Function-Differential Sharpe Ratio_0.01\n",
      "Epoch 1 | Best Score:  0.09342551743405392\n"
     ]
    },
    {
     "data": {
      "text/html": [
       "<h3>Epoch: 1 | Scores and Metrics Tabulated</h3>\n"
      ]
     },
     "metadata": {},
     "output_type": "display_data"
    },
    {
     "data": {
      "text/html": [
       "<table>\n",
       "<thead>\n",
       "<tr><th>Hyperparameter                                </th><th style=\"text-align: right;\">        Cumulative \n",
       "Return (%)</th><th style=\"text-align: right;\">        Maximum \n",
       "Pullback (%)</th><th style=\"text-align: right;\">  Sharpe Ratio</th><th style=\"text-align: right;\">  Score</th></tr>\n",
       "</thead>\n",
       "<tbody>\n",
       "<tr><td>Reward Function-Differential Sharpe Ratio_0.01</td><td style=\"text-align: right;\">31.7148</td><td style=\"text-align: right;\">10.9566</td><td style=\"text-align: right;\">        0.1112</td><td style=\"text-align: right;\"> 0.0934</td></tr>\n",
       "<tr><td>Reward Function-Differential Sharpe Ratio_0.05</td><td style=\"text-align: right;\">17.5549</td><td style=\"text-align: right;\">12.6578</td><td style=\"text-align: right;\">        0.065 </td><td style=\"text-align: right;\">-0.0254</td></tr>\n",
       "<tr><td>Reward Function-Differential Sharpe Ratio_0.1 </td><td style=\"text-align: right;\">18.6642</td><td style=\"text-align: right;\">10.7075</td><td style=\"text-align: right;\">        0.0746</td><td style=\"text-align: right;\">-0.0268</td></tr>\n",
       "</tbody>\n",
       "</table>"
      ]
     },
     "metadata": {},
     "output_type": "display_data"
    },
    {
     "name": "stdout",
     "output_type": "stream",
     "text": [
      "Epoch 2 | Best Hyperparameter:  Reward Function-Differential Sharpe Ratio_0.01\n",
      "Epoch 2 | Best Score:  0.09180609791893891\n"
     ]
    },
    {
     "data": {
      "text/html": [
       "<h3>Epoch: 2 | Scores and Metrics Tabulated</h3>\n"
      ]
     },
     "metadata": {},
     "output_type": "display_data"
    },
    {
     "data": {
      "text/html": [
       "<table>\n",
       "<thead>\n",
       "<tr><th>Hyperparameter                                </th><th style=\"text-align: right;\">        Cumulative \n",
       "Return (%)</th><th style=\"text-align: right;\">        Maximum \n",
       "Pullback (%)</th><th style=\"text-align: right;\">  Sharpe Ratio</th><th style=\"text-align: right;\">  Score</th></tr>\n",
       "</thead>\n",
       "<tbody>\n",
       "<tr><td>Reward Function-Differential Sharpe Ratio_0.01</td><td style=\"text-align: right;\">31.2204</td><td style=\"text-align: right;\">10.3671</td><td style=\"text-align: right;\">        0.1092</td><td style=\"text-align: right;\"> 0.0918</td></tr>\n",
       "<tr><td>Reward Function-Differential Sharpe Ratio_0.05</td><td style=\"text-align: right;\">21.6195</td><td style=\"text-align: right;\">13.082 </td><td style=\"text-align: right;\">        0.0794</td><td style=\"text-align: right;\">-0.0054</td></tr>\n",
       "<tr><td>Reward Function-Differential Sharpe Ratio_0.1 </td><td style=\"text-align: right;\">20.7089</td><td style=\"text-align: right;\">10.5573</td><td style=\"text-align: right;\">        0.0738</td><td style=\"text-align: right;\">-0.0126</td></tr>\n",
       "</tbody>\n",
       "</table>"
      ]
     },
     "metadata": {},
     "output_type": "display_data"
    },
    {
     "name": "stdout",
     "output_type": "stream",
     "text": [
      "Epoch 3 | Best Hyperparameter:  Reward Function-Differential Sharpe Ratio_0.01\n",
      "Epoch 3 | Best Score:  0.13886163258539627\n"
     ]
    },
    {
     "data": {
      "text/html": [
       "<h3>Epoch: 3 | Scores and Metrics Tabulated</h3>\n"
      ]
     },
     "metadata": {},
     "output_type": "display_data"
    },
    {
     "data": {
      "text/html": [
       "<table>\n",
       "<thead>\n",
       "<tr><th>Hyperparameter                                </th><th style=\"text-align: right;\">        Cumulative \n",
       "Return (%)</th><th style=\"text-align: right;\">        Maximum \n",
       "Pullback (%)</th><th style=\"text-align: right;\">  Sharpe Ratio</th><th style=\"text-align: right;\">  Score</th></tr>\n",
       "</thead>\n",
       "<tbody>\n",
       "<tr><td>Reward Function-Differential Sharpe Ratio_0.01</td><td style=\"text-align: right;\">36.1726</td><td style=\"text-align: right;\">10.9733</td><td style=\"text-align: right;\">        0.1115</td><td style=\"text-align: right;\"> 0.1389</td></tr>\n",
       "<tr><td>Reward Function-Differential Sharpe Ratio_0.05</td><td style=\"text-align: right;\">25.9418</td><td style=\"text-align: right;\">12.1006</td><td style=\"text-align: right;\">        0.0947</td><td style=\"text-align: right;\"> 0.0269</td></tr>\n",
       "<tr><td>Reward Function-Differential Sharpe Ratio_0.1 </td><td style=\"text-align: right;\">15.8892</td><td style=\"text-align: right;\"> 9.283 </td><td style=\"text-align: right;\">        0.0608</td><td style=\"text-align: right;\">-0.0433</td></tr>\n",
       "</tbody>\n",
       "</table>"
      ]
     },
     "metadata": {},
     "output_type": "display_data"
    },
    {
     "name": "stdout",
     "output_type": "stream",
     "text": [
      "Epoch 4 | Best Hyperparameter:  Reward Function-Differential Sharpe Ratio_0.01\n",
      "Epoch 4 | Best Score:  0.061368787350876274\n"
     ]
    },
    {
     "data": {
      "text/html": [
       "<h3>Epoch: 4 | Scores and Metrics Tabulated</h3>\n"
      ]
     },
     "metadata": {},
     "output_type": "display_data"
    },
    {
     "data": {
      "text/html": [
       "<table>\n",
       "<thead>\n",
       "<tr><th>Hyperparameter                                </th><th style=\"text-align: right;\">        Cumulative \n",
       "Return (%)</th><th style=\"text-align: right;\">        Maximum \n",
       "Pullback (%)</th><th style=\"text-align: right;\">  Sharpe Ratio</th><th style=\"text-align: right;\">  Score</th></tr>\n",
       "</thead>\n",
       "<tbody>\n",
       "<tr><td>Reward Function-Differential Sharpe Ratio_0.01</td><td style=\"text-align: right;\">30.196 </td><td style=\"text-align: right;\">11.1934</td><td style=\"text-align: right;\">        0.0893</td><td style=\"text-align: right;\"> 0.0614</td></tr>\n",
       "<tr><td>Reward Function-Differential Sharpe Ratio_0.05</td><td style=\"text-align: right;\">25.7918</td><td style=\"text-align: right;\">11.8435</td><td style=\"text-align: right;\">        0.0922</td><td style=\"text-align: right;\"> 0.0256</td></tr>\n",
       "<tr><td>Reward Function-Differential Sharpe Ratio_0.1 </td><td style=\"text-align: right;\">14.7207</td><td style=\"text-align: right;\"> 8.3909</td><td style=\"text-align: right;\">        0.0562</td><td style=\"text-align: right;\">-0.0521</td></tr>\n",
       "</tbody>\n",
       "</table>"
      ]
     },
     "metadata": {},
     "output_type": "display_data"
    },
    {
     "name": "stdout",
     "output_type": "stream",
     "text": [
      "Epoch 5 | Best Hyperparameter:  Reward Function-Differential Sharpe Ratio_0.01\n",
      "Epoch 5 | Best Score:  0.0846605966726314\n"
     ]
    },
    {
     "data": {
      "text/html": [
       "<h3>Epoch: 5 | Scores and Metrics Tabulated</h3>\n"
      ]
     },
     "metadata": {},
     "output_type": "display_data"
    },
    {
     "data": {
      "text/html": [
       "<table>\n",
       "<thead>\n",
       "<tr><th>Hyperparameter                                </th><th style=\"text-align: right;\">        Cumulative \n",
       "Return (%)</th><th style=\"text-align: right;\">        Maximum \n",
       "Pullback (%)</th><th style=\"text-align: right;\">  Sharpe Ratio</th><th style=\"text-align: right;\">  Score</th></tr>\n",
       "</thead>\n",
       "<tbody>\n",
       "<tr><td>Reward Function-Differential Sharpe Ratio_0.01</td><td style=\"text-align: right;\">31.9146</td><td style=\"text-align: right;\">10.6747</td><td style=\"text-align: right;\">        0.096 </td><td style=\"text-align: right;\"> 0.0847</td></tr>\n",
       "<tr><td>Reward Function-Differential Sharpe Ratio_0.05</td><td style=\"text-align: right;\">18.2928</td><td style=\"text-align: right;\">12.1068</td><td style=\"text-align: right;\">        0.0682</td><td style=\"text-align: right;\">-0.0237</td></tr>\n",
       "<tr><td>Reward Function-Differential Sharpe Ratio_0.1 </td><td style=\"text-align: right;\">15.4931</td><td style=\"text-align: right;\"> 9.3857</td><td style=\"text-align: right;\">        0.0572</td><td style=\"text-align: right;\">-0.0427</td></tr>\n",
       "</tbody>\n",
       "</table>"
      ]
     },
     "metadata": {},
     "output_type": "display_data"
    },
    {
     "data": {
      "text/html": [
       "<h3>Best Hyperparameters (Summary): Reward Function</h3>\n"
      ]
     },
     "metadata": {},
     "output_type": "display_data"
    },
    {
     "data": {
      "text/html": [
       "<table>\n",
       "<thead>\n",
       "<tr><th>Hyperparameter                                </th><th style=\"text-align: right;\">  Epoch</th><th style=\"text-align: right;\">     Score</th></tr>\n",
       "</thead>\n",
       "<tbody>\n",
       "<tr><td>Reward Function-Differential Sharpe Ratio_0.01</td><td style=\"text-align: right;\">      3</td><td style=\"text-align: right;\"> 0.138862 </td></tr>\n",
       "<tr><td>Reward Function-Differential Sharpe Ratio_0.05</td><td style=\"text-align: right;\">      3</td><td style=\"text-align: right;\"> 0.0268921</td></tr>\n",
       "<tr><td>Reward Function-Differential Sharpe Ratio_0.1 </td><td style=\"text-align: right;\">      2</td><td style=\"text-align: right;\">-0.0125645</td></tr>\n",
       "</tbody>\n",
       "</table>"
      ]
     },
     "metadata": {},
     "output_type": "display_data"
    },
    {
     "data": {
      "text/html": [
       "<h3>Best Hyperparameters with Detailed Metrics: Reward Function</h3>\n"
      ]
     },
     "metadata": {},
     "output_type": "display_data"
    },
    {
     "data": {
      "text/html": [
       "<table>\n",
       "<thead>\n",
       "<tr><th>Hyperparameter                                </th><th style=\"text-align: right;\">  Best Epoch</th><th style=\"text-align: right;\">        Cumulative \n",
       "Return (%)</th><th style=\"text-align: right;\">        Maximum \n",
       "Pullback (%)</th><th style=\"text-align: right;\">  Sharpe Ratio</th><th style=\"text-align: right;\">  Score</th></tr>\n",
       "</thead>\n",
       "<tbody>\n",
       "<tr><td>Reward Function-Differential Sharpe Ratio_0.01</td><td style=\"text-align: right;\">           3</td><td style=\"text-align: right;\">36.1726</td><td style=\"text-align: right;\">10.9733</td><td style=\"text-align: right;\">        0.1115</td><td style=\"text-align: right;\"> 0.1389</td></tr>\n",
       "<tr><td>Reward Function-Differential Sharpe Ratio_0.05</td><td style=\"text-align: right;\">           3</td><td style=\"text-align: right;\">25.9418</td><td style=\"text-align: right;\">12.1006</td><td style=\"text-align: right;\">        0.0947</td><td style=\"text-align: right;\"> 0.0269</td></tr>\n",
       "<tr><td>Reward Function-Differential Sharpe Ratio_0.1 </td><td style=\"text-align: right;\">           2</td><td style=\"text-align: right;\">20.7089</td><td style=\"text-align: right;\">10.5573</td><td style=\"text-align: right;\">        0.0738</td><td style=\"text-align: right;\">-0.0126</td></tr>\n",
       "</tbody>\n",
       "</table>"
      ]
     },
     "metadata": {},
     "output_type": "display_data"
    },
    {
     "name": "stdout",
     "output_type": "stream",
     "text": [
      "Epoch 1 | Best Hyperparameter:  Learning Frequency-48\n",
      "Epoch 1 | Best Score:  0.08737218010977796\n"
     ]
    },
    {
     "data": {
      "text/html": [
       "<h3>Epoch: 1 | Scores and Metrics Tabulated</h3>\n"
      ]
     },
     "metadata": {},
     "output_type": "display_data"
    },
    {
     "data": {
      "text/html": [
       "<table>\n",
       "<thead>\n",
       "<tr><th>Hyperparameter        </th><th style=\"text-align: right;\">        Cumulative \n",
       "Return (%)</th><th style=\"text-align: right;\">        Maximum \n",
       "Pullback (%)</th><th style=\"text-align: right;\">  Sharpe Ratio</th><th style=\"text-align: right;\">  Score</th></tr>\n",
       "</thead>\n",
       "<tbody>\n",
       "<tr><td>Learning Frequency-146</td><td style=\"text-align: right;\">29.6063</td><td style=\"text-align: right;\">10.5213</td><td style=\"text-align: right;\">        0.1088</td><td style=\"text-align: right;\"> 0.0734</td></tr>\n",
       "<tr><td>Learning Frequency-73 </td><td style=\"text-align: right;\">29.191 </td><td style=\"text-align: right;\">11.306 </td><td style=\"text-align: right;\">        0.1031</td><td style=\"text-align: right;\"> 0.061 </td></tr>\n",
       "<tr><td>Learning Frequency-48 </td><td style=\"text-align: right;\">29.9583</td><td style=\"text-align: right;\"> 9.4111</td><td style=\"text-align: right;\">        0.1103</td><td style=\"text-align: right;\"> 0.0874</td></tr>\n",
       "<tr><td>Learning Frequency-36 </td><td style=\"text-align: right;\">29.1249</td><td style=\"text-align: right;\"> 9.5564</td><td style=\"text-align: right;\">        0.1062</td><td style=\"text-align: right;\"> 0.0736</td></tr>\n",
       "<tr><td>Learning Frequency-29 </td><td style=\"text-align: right;\">28.5263</td><td style=\"text-align: right;\">10.7875</td><td style=\"text-align: right;\">        0.1048</td><td style=\"text-align: right;\"> 0.0585</td></tr>\n",
       "</tbody>\n",
       "</table>"
      ]
     },
     "metadata": {},
     "output_type": "display_data"
    },
    {
     "name": "stdout",
     "output_type": "stream",
     "text": [
      "Epoch 2 | Best Hyperparameter:  Learning Frequency-48\n",
      "Epoch 2 | Best Score:  0.12785168977349273\n"
     ]
    },
    {
     "data": {
      "text/html": [
       "<h3>Epoch: 2 | Scores and Metrics Tabulated</h3>\n"
      ]
     },
     "metadata": {},
     "output_type": "display_data"
    },
    {
     "data": {
      "text/html": [
       "<table>\n",
       "<thead>\n",
       "<tr><th>Hyperparameter        </th><th style=\"text-align: right;\">        Cumulative \n",
       "Return (%)</th><th style=\"text-align: right;\">        Maximum \n",
       "Pullback (%)</th><th style=\"text-align: right;\">  Sharpe Ratio</th><th style=\"text-align: right;\">  Score</th></tr>\n",
       "</thead>\n",
       "<tbody>\n",
       "<tr><td>Learning Frequency-146</td><td style=\"text-align: right;\">26.4158</td><td style=\"text-align: right;\">10.9232</td><td style=\"text-align: right;\">        0.0971</td><td style=\"text-align: right;\"> 0.0348</td></tr>\n",
       "<tr><td>Learning Frequency-73 </td><td style=\"text-align: right;\">31.0012</td><td style=\"text-align: right;\">11.2597</td><td style=\"text-align: right;\">        0.0988</td><td style=\"text-align: right;\"> 0.0745</td></tr>\n",
       "<tr><td>Learning Frequency-48 </td><td style=\"text-align: right;\">33.6677</td><td style=\"text-align: right;\">10.4328</td><td style=\"text-align: right;\">        0.1195</td><td style=\"text-align: right;\"> 0.1279</td></tr>\n",
       "<tr><td>Learning Frequency-36 </td><td style=\"text-align: right;\">26.5652</td><td style=\"text-align: right;\"> 9.8354</td><td style=\"text-align: right;\">        0.0994</td><td style=\"text-align: right;\"> 0.041 </td></tr>\n",
       "<tr><td>Learning Frequency-29 </td><td style=\"text-align: right;\">18.4496</td><td style=\"text-align: right;\">13.2034</td><td style=\"text-align: right;\">        0.0695</td><td style=\"text-align: right;\">-0.0213</td></tr>\n",
       "</tbody>\n",
       "</table>"
      ]
     },
     "metadata": {},
     "output_type": "display_data"
    },
    {
     "name": "stdout",
     "output_type": "stream",
     "text": [
      "Epoch 3 | Best Hyperparameter:  Learning Frequency-48\n",
      "Epoch 3 | Best Score:  0.1574021138469948\n"
     ]
    },
    {
     "data": {
      "text/html": [
       "<h3>Epoch: 3 | Scores and Metrics Tabulated</h3>\n"
      ]
     },
     "metadata": {},
     "output_type": "display_data"
    },
    {
     "data": {
      "text/html": [
       "<table>\n",
       "<thead>\n",
       "<tr><th>Hyperparameter        </th><th style=\"text-align: right;\">        Cumulative \n",
       "Return (%)</th><th style=\"text-align: right;\">        Maximum \n",
       "Pullback (%)</th><th style=\"text-align: right;\">  Sharpe Ratio</th><th style=\"text-align: right;\">  Score</th></tr>\n",
       "</thead>\n",
       "<tbody>\n",
       "<tr><td>Learning Frequency-146</td><td style=\"text-align: right;\">17.7725</td><td style=\"text-align: right;\">11.7606</td><td style=\"text-align: right;\">        0.069 </td><td style=\"text-align: right;\">-0.0278</td></tr>\n",
       "<tr><td>Learning Frequency-73 </td><td style=\"text-align: right;\">28.3666</td><td style=\"text-align: right;\">11.585 </td><td style=\"text-align: right;\">        0.0997</td><td style=\"text-align: right;\"> 0.0504</td></tr>\n",
       "<tr><td>Learning Frequency-48 </td><td style=\"text-align: right;\">36.2037</td><td style=\"text-align: right;\">10.9545</td><td style=\"text-align: right;\">        0.1259</td><td style=\"text-align: right;\"> 0.1574</td></tr>\n",
       "<tr><td>Learning Frequency-36 </td><td style=\"text-align: right;\">22.5122</td><td style=\"text-align: right;\">10.9667</td><td style=\"text-align: right;\">        0.0803</td><td style=\"text-align: right;\"> 0.0001</td></tr>\n",
       "<tr><td>Learning Frequency-29 </td><td style=\"text-align: right;\">22.6837</td><td style=\"text-align: right;\">11.739 </td><td style=\"text-align: right;\">        0.0843</td><td style=\"text-align: right;\"> 0.0013</td></tr>\n",
       "</tbody>\n",
       "</table>"
      ]
     },
     "metadata": {},
     "output_type": "display_data"
    },
    {
     "name": "stdout",
     "output_type": "stream",
     "text": [
      "Epoch 4 | Best Hyperparameter:  Learning Frequency-48\n",
      "Epoch 4 | Best Score:  0.17504862728681833\n"
     ]
    },
    {
     "data": {
      "text/html": [
       "<h3>Epoch: 4 | Scores and Metrics Tabulated</h3>\n"
      ]
     },
     "metadata": {},
     "output_type": "display_data"
    },
    {
     "data": {
      "text/html": [
       "<table>\n",
       "<thead>\n",
       "<tr><th>Hyperparameter        </th><th style=\"text-align: right;\">        Cumulative \n",
       "Return (%)</th><th style=\"text-align: right;\">        Maximum \n",
       "Pullback (%)</th><th style=\"text-align: right;\">  Sharpe Ratio</th><th style=\"text-align: right;\">  Score</th></tr>\n",
       "</thead>\n",
       "<tbody>\n",
       "<tr><td>Learning Frequency-146</td><td style=\"text-align: right;\">15.7683</td><td style=\"text-align: right;\">12.9288</td><td style=\"text-align: right;\">        0.0611</td><td style=\"text-align: right;\">-0.0318</td></tr>\n",
       "<tr><td>Learning Frequency-73 </td><td style=\"text-align: right;\">25.6748</td><td style=\"text-align: right;\">11.7514</td><td style=\"text-align: right;\">        0.0938</td><td style=\"text-align: right;\"> 0.0253</td></tr>\n",
       "<tr><td>Learning Frequency-48 </td><td style=\"text-align: right;\">39.9344</td><td style=\"text-align: right;\">12.8455</td><td style=\"text-align: right;\">        0.129 </td><td style=\"text-align: right;\"> 0.175 </td></tr>\n",
       "<tr><td>Learning Frequency-36 </td><td style=\"text-align: right;\">20.5939</td><td style=\"text-align: right;\">11.5007</td><td style=\"text-align: right;\">        0.0746</td><td style=\"text-align: right;\">-0.0124</td></tr>\n",
       "<tr><td>Learning Frequency-29 </td><td style=\"text-align: right;\">30.6248</td><td style=\"text-align: right;\">13.4392</td><td style=\"text-align: right;\">        0.0922</td><td style=\"text-align: right;\"> 0.0557</td></tr>\n",
       "</tbody>\n",
       "</table>"
      ]
     },
     "metadata": {},
     "output_type": "display_data"
    },
    {
     "name": "stdout",
     "output_type": "stream",
     "text": [
      "Epoch 5 | Best Hyperparameter:  Learning Frequency-48\n",
      "Epoch 5 | Best Score:  0.259953986066262\n"
     ]
    },
    {
     "data": {
      "text/html": [
       "<h3>Epoch: 5 | Scores and Metrics Tabulated</h3>\n"
      ]
     },
     "metadata": {},
     "output_type": "display_data"
    },
    {
     "data": {
      "text/html": [
       "<table>\n",
       "<thead>\n",
       "<tr><th>Hyperparameter        </th><th style=\"text-align: right;\">        Cumulative \n",
       "Return (%)</th><th style=\"text-align: right;\">        Maximum \n",
       "Pullback (%)</th><th style=\"text-align: right;\">  Sharpe Ratio</th><th style=\"text-align: right;\">  Score</th></tr>\n",
       "</thead>\n",
       "<tbody>\n",
       "<tr><td>Learning Frequency-146</td><td style=\"text-align: right;\">18.9915</td><td style=\"text-align: right;\">12.7014</td><td style=\"text-align: right;\">        0.0699</td><td style=\"text-align: right;\">-0.0193</td></tr>\n",
       "<tr><td>Learning Frequency-73 </td><td style=\"text-align: right;\">23.2378</td><td style=\"text-align: right;\">12.7725</td><td style=\"text-align: right;\">        0.081 </td><td style=\"text-align: right;\"> 0.0046</td></tr>\n",
       "<tr><td>Learning Frequency-48 </td><td style=\"text-align: right;\">43.0657</td><td style=\"text-align: right;\">11.3022</td><td style=\"text-align: right;\">        0.1429</td><td style=\"text-align: right;\"> 0.26  </td></tr>\n",
       "<tr><td>Learning Frequency-36 </td><td style=\"text-align: right;\">21.7653</td><td style=\"text-align: right;\">11.022 </td><td style=\"text-align: right;\">        0.0756</td><td style=\"text-align: right;\">-0.0051</td></tr>\n",
       "<tr><td>Learning Frequency-29 </td><td style=\"text-align: right;\">24.653 </td><td style=\"text-align: right;\">13.2127</td><td style=\"text-align: right;\">        0.0836</td><td style=\"text-align: right;\"> 0.0136</td></tr>\n",
       "</tbody>\n",
       "</table>"
      ]
     },
     "metadata": {},
     "output_type": "display_data"
    },
    {
     "data": {
      "text/html": [
       "<h3>Best Hyperparameters (Summary): Learning Frequency</h3>\n"
      ]
     },
     "metadata": {},
     "output_type": "display_data"
    },
    {
     "data": {
      "text/html": [
       "<table>\n",
       "<thead>\n",
       "<tr><th>Hyperparameter        </th><th style=\"text-align: right;\">  Epoch</th><th style=\"text-align: right;\">    Score</th></tr>\n",
       "</thead>\n",
       "<tbody>\n",
       "<tr><td>Learning Frequency-146</td><td style=\"text-align: right;\">      1</td><td style=\"text-align: right;\">0.0734287</td></tr>\n",
       "<tr><td>Learning Frequency-73 </td><td style=\"text-align: right;\">      2</td><td style=\"text-align: right;\">0.0745409</td></tr>\n",
       "<tr><td>Learning Frequency-48 </td><td style=\"text-align: right;\">      5</td><td style=\"text-align: right;\">0.259954 </td></tr>\n",
       "<tr><td>Learning Frequency-36 </td><td style=\"text-align: right;\">      1</td><td style=\"text-align: right;\">0.0735739</td></tr>\n",
       "<tr><td>Learning Frequency-29 </td><td style=\"text-align: right;\">      1</td><td style=\"text-align: right;\">0.0584734</td></tr>\n",
       "</tbody>\n",
       "</table>"
      ]
     },
     "metadata": {},
     "output_type": "display_data"
    },
    {
     "data": {
      "text/html": [
       "<h3>Best Hyperparameters with Detailed Metrics: Learning Frequency</h3>\n"
      ]
     },
     "metadata": {},
     "output_type": "display_data"
    },
    {
     "data": {
      "text/html": [
       "<table>\n",
       "<thead>\n",
       "<tr><th>Hyperparameter        </th><th style=\"text-align: right;\">  Best Epoch</th><th style=\"text-align: right;\">        Cumulative \n",
       "Return (%)</th><th style=\"text-align: right;\">        Maximum \n",
       "Pullback (%)</th><th style=\"text-align: right;\">  Sharpe Ratio</th><th style=\"text-align: right;\">  Score</th></tr>\n",
       "</thead>\n",
       "<tbody>\n",
       "<tr><td>Learning Frequency-146</td><td style=\"text-align: right;\">           1</td><td style=\"text-align: right;\">29.6063</td><td style=\"text-align: right;\">10.5213</td><td style=\"text-align: right;\">        0.1088</td><td style=\"text-align: right;\"> 0.0734</td></tr>\n",
       "<tr><td>Learning Frequency-73 </td><td style=\"text-align: right;\">           2</td><td style=\"text-align: right;\">31.0012</td><td style=\"text-align: right;\">11.2597</td><td style=\"text-align: right;\">        0.0988</td><td style=\"text-align: right;\"> 0.0745</td></tr>\n",
       "<tr><td>Learning Frequency-48 </td><td style=\"text-align: right;\">           5</td><td style=\"text-align: right;\">43.0657</td><td style=\"text-align: right;\">11.3022</td><td style=\"text-align: right;\">        0.1429</td><td style=\"text-align: right;\"> 0.26  </td></tr>\n",
       "<tr><td>Learning Frequency-36 </td><td style=\"text-align: right;\">           1</td><td style=\"text-align: right;\">29.1249</td><td style=\"text-align: right;\"> 9.5564</td><td style=\"text-align: right;\">        0.1062</td><td style=\"text-align: right;\"> 0.0736</td></tr>\n",
       "<tr><td>Learning Frequency-29 </td><td style=\"text-align: right;\">           1</td><td style=\"text-align: right;\">28.5263</td><td style=\"text-align: right;\">10.7875</td><td style=\"text-align: right;\">        0.1048</td><td style=\"text-align: right;\"> 0.0585</td></tr>\n",
       "</tbody>\n",
       "</table>"
      ]
     },
     "metadata": {},
     "output_type": "display_data"
    },
    {
     "name": "stdout",
     "output_type": "stream",
     "text": [
      "Epoch 1 | Best Hyperparameter:  Learning Rate-0.0001\n",
      "Epoch 1 | Best Score:  0.10257159675117278\n"
     ]
    },
    {
     "data": {
      "text/html": [
       "<h3>Epoch: 1 | Scores and Metrics Tabulated</h3>\n"
      ]
     },
     "metadata": {},
     "output_type": "display_data"
    },
    {
     "data": {
      "text/html": [
       "<table>\n",
       "<thead>\n",
       "<tr><th>Hyperparameter      </th><th style=\"text-align: right;\">        Cumulative \n",
       "Return (%)</th><th style=\"text-align: right;\">        Maximum \n",
       "Pullback (%)</th><th style=\"text-align: right;\">  Sharpe Ratio</th><th style=\"text-align: right;\">  Score</th></tr>\n",
       "</thead>\n",
       "<tbody>\n",
       "<tr><td>Learning Rate-0.0001</td><td style=\"text-align: right;\">32.494 </td><td style=\"text-align: right;\">11.0767</td><td style=\"text-align: right;\">        0.1137</td><td style=\"text-align: right;\"> 0.1026</td></tr>\n",
       "<tr><td>Learning Rate-0.0003</td><td style=\"text-align: right;\">28.5263</td><td style=\"text-align: right;\">10.7875</td><td style=\"text-align: right;\">        0.1048</td><td style=\"text-align: right;\"> 0.0585</td></tr>\n",
       "<tr><td>Learning Rate-0.0005</td><td style=\"text-align: right;\">28.5464</td><td style=\"text-align: right;\">11.056 </td><td style=\"text-align: right;\">        0.0982</td><td style=\"text-align: right;\"> 0.0537</td></tr>\n",
       "<tr><td>Learning Rate-0.0007</td><td style=\"text-align: right;\">30.5471</td><td style=\"text-align: right;\">10.1927</td><td style=\"text-align: right;\">        0.1174</td><td style=\"text-align: right;\"> 0.0926</td></tr>\n",
       "</tbody>\n",
       "</table>"
      ]
     },
     "metadata": {},
     "output_type": "display_data"
    },
    {
     "name": "stdout",
     "output_type": "stream",
     "text": [
      "Epoch 2 | Best Hyperparameter:  Learning Rate-0.0007\n",
      "Epoch 2 | Best Score:  0.204666718638462\n"
     ]
    },
    {
     "data": {
      "text/html": [
       "<h3>Epoch: 2 | Scores and Metrics Tabulated</h3>\n"
      ]
     },
     "metadata": {},
     "output_type": "display_data"
    },
    {
     "data": {
      "text/html": [
       "<table>\n",
       "<thead>\n",
       "<tr><th>Hyperparameter      </th><th style=\"text-align: right;\">        Cumulative \n",
       "Return (%)</th><th style=\"text-align: right;\">        Maximum \n",
       "Pullback (%)</th><th style=\"text-align: right;\">  Sharpe Ratio</th><th style=\"text-align: right;\">  Score</th></tr>\n",
       "</thead>\n",
       "<tbody>\n",
       "<tr><td>Learning Rate-0.0001</td><td style=\"text-align: right;\">38.224 </td><td style=\"text-align: right;\">10.5857</td><td style=\"text-align: right;\">        0.1293</td><td style=\"text-align: right;\"> 0.1919</td></tr>\n",
       "<tr><td>Learning Rate-0.0003</td><td style=\"text-align: right;\">18.4496</td><td style=\"text-align: right;\">13.2034</td><td style=\"text-align: right;\">        0.0695</td><td style=\"text-align: right;\">-0.0213</td></tr>\n",
       "<tr><td>Learning Rate-0.0005</td><td style=\"text-align: right;\">19.3099</td><td style=\"text-align: right;\">13.6003</td><td style=\"text-align: right;\">        0.0726</td><td style=\"text-align: right;\">-0.0171</td></tr>\n",
       "<tr><td>Learning Rate-0.0007</td><td style=\"text-align: right;\">34.752 </td><td style=\"text-align: right;\"> 8.081 </td><td style=\"text-align: right;\">        0.135 </td><td style=\"text-align: right;\"> 0.2047</td></tr>\n",
       "</tbody>\n",
       "</table>"
      ]
     },
     "metadata": {},
     "output_type": "display_data"
    },
    {
     "name": "stdout",
     "output_type": "stream",
     "text": [
      "Epoch 3 | Best Hyperparameter:  Learning Rate-0.0007\n",
      "Epoch 3 | Best Score:  0.19191659045423196\n"
     ]
    },
    {
     "data": {
      "text/html": [
       "<h3>Epoch: 3 | Scores and Metrics Tabulated</h3>\n"
      ]
     },
     "metadata": {},
     "output_type": "display_data"
    },
    {
     "data": {
      "text/html": [
       "<table>\n",
       "<thead>\n",
       "<tr><th>Hyperparameter      </th><th style=\"text-align: right;\">        Cumulative \n",
       "Return (%)</th><th style=\"text-align: right;\">        Maximum \n",
       "Pullback (%)</th><th style=\"text-align: right;\">  Sharpe Ratio</th><th style=\"text-align: right;\">  Score</th></tr>\n",
       "</thead>\n",
       "<tbody>\n",
       "<tr><td>Learning Rate-0.0001</td><td style=\"text-align: right;\">37.1458</td><td style=\"text-align: right;\">10.9126</td><td style=\"text-align: right;\">        0.1276</td><td style=\"text-align: right;\"> 0.1712</td></tr>\n",
       "<tr><td>Learning Rate-0.0003</td><td style=\"text-align: right;\">22.6837</td><td style=\"text-align: right;\">11.739 </td><td style=\"text-align: right;\">        0.0843</td><td style=\"text-align: right;\"> 0.0013</td></tr>\n",
       "<tr><td>Learning Rate-0.0005</td><td style=\"text-align: right;\">18.8334</td><td style=\"text-align: right;\">16.5093</td><td style=\"text-align: right;\">        0.0626</td><td style=\"text-align: right;\">-0.0139</td></tr>\n",
       "<tr><td>Learning Rate-0.0007</td><td style=\"text-align: right;\">36.5447</td><td style=\"text-align: right;\"> 9.3922</td><td style=\"text-align: right;\">        0.1284</td><td style=\"text-align: right;\"> 0.1919</td></tr>\n",
       "</tbody>\n",
       "</table>"
      ]
     },
     "metadata": {},
     "output_type": "display_data"
    },
    {
     "name": "stdout",
     "output_type": "stream",
     "text": [
      "Epoch 4 | Best Hyperparameter:  Learning Rate-0.0007\n",
      "Epoch 4 | Best Score:  0.16782911748496063\n"
     ]
    },
    {
     "data": {
      "text/html": [
       "<h3>Epoch: 4 | Scores and Metrics Tabulated</h3>\n"
      ]
     },
     "metadata": {},
     "output_type": "display_data"
    },
    {
     "data": {
      "text/html": [
       "<table>\n",
       "<thead>\n",
       "<tr><th>Hyperparameter      </th><th style=\"text-align: right;\">        Cumulative \n",
       "Return (%)</th><th style=\"text-align: right;\">        Maximum \n",
       "Pullback (%)</th><th style=\"text-align: right;\">  Sharpe Ratio</th><th style=\"text-align: right;\">  Score</th></tr>\n",
       "</thead>\n",
       "<tbody>\n",
       "<tr><td>Learning Rate-0.0001</td><td style=\"text-align: right;\">31.5769</td><td style=\"text-align: right;\">11.8986</td><td style=\"text-align: right;\">        0.1069</td><td style=\"text-align: right;\"> 0.0815</td></tr>\n",
       "<tr><td>Learning Rate-0.0003</td><td style=\"text-align: right;\">30.6248</td><td style=\"text-align: right;\">13.4392</td><td style=\"text-align: right;\">        0.0922</td><td style=\"text-align: right;\"> 0.0557</td></tr>\n",
       "<tr><td>Learning Rate-0.0005</td><td style=\"text-align: right;\">18.3619</td><td style=\"text-align: right;\">15.5308</td><td style=\"text-align: right;\">        0.0632</td><td style=\"text-align: right;\">-0.0169</td></tr>\n",
       "<tr><td>Learning Rate-0.0007</td><td style=\"text-align: right;\">35.4114</td><td style=\"text-align: right;\"> 9.6955</td><td style=\"text-align: right;\">        0.1261</td><td style=\"text-align: right;\"> 0.1678</td></tr>\n",
       "</tbody>\n",
       "</table>"
      ]
     },
     "metadata": {},
     "output_type": "display_data"
    },
    {
     "name": "stdout",
     "output_type": "stream",
     "text": [
      "Epoch 5 | Best Hyperparameter:  Learning Rate-0.0007\n",
      "Epoch 5 | Best Score:  0.18113410222182652\n"
     ]
    },
    {
     "data": {
      "text/html": [
       "<h3>Epoch: 5 | Scores and Metrics Tabulated</h3>\n"
      ]
     },
     "metadata": {},
     "output_type": "display_data"
    },
    {
     "data": {
      "text/html": [
       "<table>\n",
       "<thead>\n",
       "<tr><th>Hyperparameter      </th><th style=\"text-align: right;\">        Cumulative \n",
       "Return (%)</th><th style=\"text-align: right;\">        Maximum \n",
       "Pullback (%)</th><th style=\"text-align: right;\">  Sharpe Ratio</th><th style=\"text-align: right;\">  Score</th></tr>\n",
       "</thead>\n",
       "<tbody>\n",
       "<tr><td>Learning Rate-0.0001</td><td style=\"text-align: right;\">31.3179</td><td style=\"text-align: right;\">11.6081</td><td style=\"text-align: right;\">        0.1038</td><td style=\"text-align: right;\"> 0.0788</td></tr>\n",
       "<tr><td>Learning Rate-0.0003</td><td style=\"text-align: right;\">24.653 </td><td style=\"text-align: right;\">13.2127</td><td style=\"text-align: right;\">        0.0836</td><td style=\"text-align: right;\"> 0.0136</td></tr>\n",
       "<tr><td>Learning Rate-0.0005</td><td style=\"text-align: right;\">21.4592</td><td style=\"text-align: right;\">16.2336</td><td style=\"text-align: right;\">        0.0687</td><td style=\"text-align: right;\">-0.0044</td></tr>\n",
       "<tr><td>Learning Rate-0.0007</td><td style=\"text-align: right;\">36.9522</td><td style=\"text-align: right;\">10.0276</td><td style=\"text-align: right;\">        0.1257</td><td style=\"text-align: right;\"> 0.1811</td></tr>\n",
       "</tbody>\n",
       "</table>"
      ]
     },
     "metadata": {},
     "output_type": "display_data"
    },
    {
     "data": {
      "text/html": [
       "<h3>Best Hyperparameters (Summary): Learning Rate</h3>\n"
      ]
     },
     "metadata": {},
     "output_type": "display_data"
    },
    {
     "data": {
      "text/html": [
       "<table>\n",
       "<thead>\n",
       "<tr><th>Hyperparameter      </th><th style=\"text-align: right;\">  Epoch</th><th style=\"text-align: right;\">    Score</th></tr>\n",
       "</thead>\n",
       "<tbody>\n",
       "<tr><td>Learning Rate-0.0001</td><td style=\"text-align: right;\">      2</td><td style=\"text-align: right;\">0.191943 </td></tr>\n",
       "<tr><td>Learning Rate-0.0003</td><td style=\"text-align: right;\">      1</td><td style=\"text-align: right;\">0.0584734</td></tr>\n",
       "<tr><td>Learning Rate-0.0005</td><td style=\"text-align: right;\">      1</td><td style=\"text-align: right;\">0.0536591</td></tr>\n",
       "<tr><td>Learning Rate-0.0007</td><td style=\"text-align: right;\">      2</td><td style=\"text-align: right;\">0.204667 </td></tr>\n",
       "</tbody>\n",
       "</table>"
      ]
     },
     "metadata": {},
     "output_type": "display_data"
    },
    {
     "data": {
      "text/html": [
       "<h3>Best Hyperparameters with Detailed Metrics: Learning Rate</h3>\n"
      ]
     },
     "metadata": {},
     "output_type": "display_data"
    },
    {
     "data": {
      "text/html": [
       "<table>\n",
       "<thead>\n",
       "<tr><th>Hyperparameter      </th><th style=\"text-align: right;\">  Best Epoch</th><th style=\"text-align: right;\">        Cumulative \n",
       "Return (%)</th><th style=\"text-align: right;\">        Maximum \n",
       "Pullback (%)</th><th style=\"text-align: right;\">  Sharpe Ratio</th><th style=\"text-align: right;\">  Score</th></tr>\n",
       "</thead>\n",
       "<tbody>\n",
       "<tr><td>Learning Rate-0.0001</td><td style=\"text-align: right;\">           2</td><td style=\"text-align: right;\">38.224 </td><td style=\"text-align: right;\">10.5857</td><td style=\"text-align: right;\">        0.1293</td><td style=\"text-align: right;\"> 0.1919</td></tr>\n",
       "<tr><td>Learning Rate-0.0003</td><td style=\"text-align: right;\">           1</td><td style=\"text-align: right;\">28.5263</td><td style=\"text-align: right;\">10.7875</td><td style=\"text-align: right;\">        0.1048</td><td style=\"text-align: right;\"> 0.0585</td></tr>\n",
       "<tr><td>Learning Rate-0.0005</td><td style=\"text-align: right;\">           1</td><td style=\"text-align: right;\">28.5464</td><td style=\"text-align: right;\">11.056 </td><td style=\"text-align: right;\">        0.0982</td><td style=\"text-align: right;\"> 0.0537</td></tr>\n",
       "<tr><td>Learning Rate-0.0007</td><td style=\"text-align: right;\">           2</td><td style=\"text-align: right;\">34.752 </td><td style=\"text-align: right;\"> 8.081 </td><td style=\"text-align: right;\">        0.135 </td><td style=\"text-align: right;\"> 0.2047</td></tr>\n",
       "</tbody>\n",
       "</table>"
      ]
     },
     "metadata": {},
     "output_type": "display_data"
    }
   ],
   "source": [
    "def maxPullback(arr):\n",
    "    maxValue = float(\"-inf\")\n",
    "    maxDrawdown = 0.0\n",
    "    for value in arr:\n",
    "        maxValue = max(maxValue, value)\n",
    "        drawdown = (maxValue - value) / maxValue \n",
    "        maxDrawdown = max(maxDrawdown, drawdown)\n",
    "    return maxDrawdown\n",
    "\n",
    "def scoreFormula(agentArray, averageRandomReturn):\n",
    "    # score by (cumulative return - average random return)/max pullback all times sharpe ratio\n",
    "    cumulativeReturn = agentArray[-1] / START_CASH - 1\n",
    "    maximumPullback = maxPullback(agentArray)\n",
    "    returns = [(agentArray[i] / agentArray[i-1]) - 1 for i in range(1, len(agentArray))]\n",
    "    sharpe = np.mean(returns)/np.std(returns)\n",
    "    score = ((cumulativeReturn - averageRandomReturn) / maximumPullback) * sharpe\n",
    "    metrics = {\n",
    "        \"Cumulative \\nReturn (%)\": cumulativeReturn * 100,\n",
    "        \"Maximum \\nPullback (%)\": maximumPullback * 100,\n",
    "        \"Sharpe Ratio\": sharpe,\n",
    "        \"Score\": score\n",
    "    }\n",
    "    return metrics\n",
    "\n",
    "def scoreAgents(dataType=\"validation\"):\n",
    "    for hyper, param in HYPERS.items():\n",
    "        averageRandomPerformance = []\n",
    "        for epoch in range(1, EPOCHS + 1):\n",
    "            averageRandomPerformance.append(np.loadtxt(f\"portfolios/{dataType}/{epoch * TRAINING_WINDOWS}/\" + \"Strategy-RANDOM.txt\"))\n",
    "        averageRandomPerformance = np.mean(np.array(averageRandomPerformance), axis=0)\n",
    "        averageRandomReturn = averageRandomPerformance[-1] / START_CASH - 1\n",
    "        \n",
    "        moreData = defaultdict(lambda: float(\"-inf\"))\n",
    "        epochNumber = defaultdict(lambda: 0)\n",
    "        bestMetrics = {}  \n",
    "        \n",
    "        # # briefly compute metrics for random\n",
    "        # metrics = scoreFormula(averageRandomPerformance, averageRandomReturn)\n",
    "        # table = [[\"Hyperparameter\", \"Cumulative \\nReturn (%)\", \"Maximum \\nPullback (%)\", \"Sharpe Ratio\", \"Score\"]] \n",
    "        # table.append([\"RANDOM\"] + [round(met, 4) for met in metrics.values()])\n",
    "        # tabulate_neatly(table, headers=\"firstrow\", title=f\"Random Agent: {hyper.title()}\")\n",
    "        \n",
    "        for epoch in range(1, EPOCHS + 1):\n",
    "            table = [[\"Hyperparameter\", \"Cumulative \\nReturn (%)\", \"Maximum \\nPullback (%)\", \"Sharpe Ratio\", \"Score\"]]\n",
    "            bestScore = float(\"-inf\")\n",
    "            bestParameter = None\n",
    "            for parameter in param:\n",
    "                portfolioNumbers = np.loadtxt(f\"portfolios/{dataType}/{epoch * TRAINING_WINDOWS}/\" + f\"{hyper.title()}-{parameter}.txt\")\n",
    "                metrics = scoreFormula(portfolioNumbers, averageRandomReturn)\n",
    "                key = f\"{hyper.title()}-{parameter}\"\n",
    "                if metrics[\"Score\"] > moreData[key]:\n",
    "                    moreData[key] = metrics[\"Score\"]\n",
    "                    epochNumber[key] = epoch\n",
    "                    bestMetrics[key] = metrics\n",
    "                table.append([f\"{hyper.title()}-{parameter}\"] + [round(met, 4) for met in metrics.values()])\n",
    "                if metrics[\"Score\"] > bestScore:\n",
    "                    bestScore = metrics[\"Score\"]\n",
    "                    bestParameter = f\"{hyper.title()}-{parameter}\"\n",
    "            print(f\"Epoch {epoch} | Best Hyperparameter: \", bestParameter)\n",
    "            print(f\"Epoch {epoch} | Best Score: \", bestScore)\n",
    "            tabulate_neatly(table, headers=\"firstrow\", title=f\"Epoch: {epoch} | Scores and Metrics Tabulated\")\n",
    "        \n",
    "        table = [[\"Hyperparameter\", \"Epoch\", \"Score\"]]\n",
    "        for key, value in moreData.items():\n",
    "            table.append([key, epochNumber[key], value])\n",
    "        tabulate_neatly(table, headers=\"firstrow\", title=f\"Best Hyperparameters (Summary): {hyper.title()}\")\n",
    "        \n",
    "        table2 = [[\"Hyperparameter\", \"Best Epoch\", \"Cumulative \\nReturn (%)\", \"Maximum \\nPullback (%)\", \"Sharpe Ratio\", \"Score\"]]\n",
    "        for key in bestMetrics.keys():\n",
    "            m = bestMetrics[key]\n",
    "            table2.append([\n",
    "                key,\n",
    "                epochNumber[key],\n",
    "                round(m[\"Cumulative \\nReturn (%)\"], 4),\n",
    "                round(m[\"Maximum \\nPullback (%)\"], 4),\n",
    "                round(m[\"Sharpe Ratio\"], 4),\n",
    "                round(m[\"Score\"], 4)\n",
    "            ])\n",
    "        tabulate_neatly(table2, headers=\"firstrow\", title=f\"Best Hyperparameters with Detailed Metrics: {hyper.title()}\")\n",
    "\n",
    "GENERATE_SCORES = True\n",
    "if GENERATE_SCORES:\n",
    "    scoreAgents()"
   ]
  },
  {
   "cell_type": "markdown",
   "metadata": {},
   "source": [
    "## 5. Testing Process"
   ]
  },
  {
   "cell_type": "markdown",
   "metadata": {},
   "source": [
    "### Best Models (if any) Evaluated  - VERY WRONG FOR NOW, IGNORE"
   ]
  },
  {
   "cell_type": "code",
   "execution_count": 22,
   "metadata": {},
   "outputs": [],
   "source": [
    "# Experiment 1\n",
    "EXP_CONFIG = {\"Reward\" : [\"Standard Logarithmic Returns\", \"Differential Sharpe Ratio_0.05\", \"CVaR_0.5\"],\n",
    "                \"LSTM Output Size\" : 1024, \n",
    "                \"Frequency\" : 48,\n",
    "                \"Learning Rate\" : 5e-4,\n",
    "                }\n",
    "\n",
    "#this will actually test them too lol\n",
    "def trainTestingAgents():\n",
    "    TESTING[\"REWARD FUNCTION\"] = True\n",
    "    for r in EXP_CONFIG[\"Reward\"]:\n",
    "        trainingLoop(\n",
    "            riskAversion=(float(r.split(\"_\")[1]) if r.split(\"_\")[0] == \"CVaR\" else 0),\n",
    "            rewardFunction=r.split(\"_\")[0] if \"CVaR\" in r else r,\n",
    "            freq=EXP_CONFIG[\"Frequency\"],\n",
    "            lstmOutputSize=EXP_CONFIG[\"LSTM Output Size\"],\n",
    "            lr=EXP_CONFIG[\"Learning Rate\"],\n",
    "            conf = \"Reward Function-\" + r + \" | \" + \"Strategy-PPOLSTM\",\n",
    "            evalType = \"testing\"\n",
    "        )\n",
    "    TESTING[\"REWARD FUNCTION\"] = False\n",
    "    \n",
    "TRAINING_WINDOWS = ((TRAINING_PERIODS + VALIDATION_PERIODS - EPISODE_LENGTH) // TIMESTEP_SHIFT) + 1\n",
    "RUN_FINAL = False\n",
    "if RUN_FINAL:\n",
    "    trainTestingAgents()\n",
    "    \n"
   ]
  },
  {
   "cell_type": "markdown",
   "metadata": {},
   "source": [
    "### Plotting Code"
   ]
  }
 ],
 "metadata": {
  "kernelspec": {
   "display_name": "Python 3",
   "language": "python",
   "name": "python3"
  },
  "language_info": {
   "codemirror_mode": {
    "name": "ipython",
    "version": 3
   },
   "file_extension": ".py",
   "mimetype": "text/x-python",
   "name": "python",
   "nbconvert_exporter": "python",
   "pygments_lexer": "ipython3",
   "version": "3.12.10"
  }
 },
 "nbformat": 4,
 "nbformat_minor": 2
}
